{
 "cells": [
  {
   "cell_type": "markdown",
   "id": "0d686fb5-8925-4f0b-8da4-9a2bc3d473fa",
   "metadata": {},
   "source": [
    "## Image selection pulldowns\n",
    "In this notebook we demonstrate how to use `stackview.interact` for also selecting input image(s) from pulldowns. Key is to pass a dictionary with named images as `context`, e.g. `context=globals()`."
   ]
  },
  {
   "cell_type": "code",
   "execution_count": 1,
   "id": "d82088b1-661c-44fc-9d7c-9c7b1b3d4e72",
   "metadata": {},
   "outputs": [],
   "source": [
    "import stackview\n",
    "\n",
    "from skimage.filters import gaussian\n",
    "import numpy as np\n",
    "from skimage.io import imread"
   ]
  },
  {
   "cell_type": "code",
   "execution_count": 2,
   "id": "9462d7a5-a0b9-46c3-9914-8db188bb3e86",
   "metadata": {},
   "outputs": [],
   "source": [
    "image1 = imread(\"data/Haase_MRT_tfl3d1.tif\")\n",
    "image2 = imread(\"data/CalibZAPWfixed_000154_max.tif\")"
   ]
  },
  {
   "cell_type": "code",
   "execution_count": 3,
   "id": "0d6e0fb8-0a5a-4ebf-a288-efc0dd45aadf",
   "metadata": {},
   "outputs": [
    {
     "data": {
      "application/vnd.jupyter.widget-view+json": {
       "model_id": "e766c976db324df8867a84ecdc315043",
       "version_major": 2,
       "version_minor": 0
      },
      "text/plain": [
       "VBox(children=(interactive(children=(Dropdown(description='image', options=('no_image', 'image1', 'image2'), v…"
      ]
     },
     "execution_count": 3,
     "metadata": {},
     "output_type": "execute_result"
    }
   ],
   "source": [
    "stackview.interact(gaussian, context=globals(), continuous_update=True)"
   ]
  },
  {
   "cell_type": "code",
   "execution_count": null,
   "id": "cc7923d6-d33b-44c6-b113-589afd452dd7",
   "metadata": {},
   "outputs": [],
   "source": []
  }
 ],
 "metadata": {
  "kernelspec": {
   "display_name": "Python 3 (ipykernel)",
   "language": "python",
   "name": "python3"
  },
  "language_info": {
   "codemirror_mode": {
    "name": "ipython",
    "version": 3
   },
   "file_extension": ".py",
   "mimetype": "text/x-python",
   "name": "python",
   "nbconvert_exporter": "python",
   "pygments_lexer": "ipython3",
   "version": "3.9.15"
  },
  "widgets": {
   "application/vnd.jupyter.widget-state+json": {
    "state": {
     "11991d24d1384478b70a882969fa6347": {
      "model_module": "@jupyter-widgets/controls",
      "model_module_version": "2.0.0",
      "model_name": "LabelStyleModel",
      "state": {
       "description_width": "",
       "font_family": "Courier",
       "font_size": null,
       "font_style": null,
       "font_variant": null,
       "font_weight": null,
       "text_color": null,
       "text_decoration": null
      }
     },
     "34b09d5d9513446da6918d8fffcaacc1": {
      "model_module": "@jupyter-widgets/controls",
      "model_module_version": "2.0.0",
      "model_name": "DescriptionStyleModel",
      "state": {
       "description_width": ""
      }
     },
     "3f32f71b2fed417da0ff8d69ae642530": {
      "model_module": "@jupyter-widgets/controls",
      "model_module_version": "2.0.0",
      "model_name": "DropdownModel",
      "state": {
       "_options_labels": [
        "no_image",
        "image1",
        "image2"
       ],
       "description": "image",
       "index": 1,
       "layout": "IPY_MODEL_cb2d08646c2042589d6c6cad10155c62",
       "style": "IPY_MODEL_34b09d5d9513446da6918d8fffcaacc1"
      }
     },
     "4393ef11fff74fcd9f4495d680bdbf25": {
      "model_module": "@jupyter-widgets/controls",
      "model_module_version": "2.0.0",
      "model_name": "LabelModel",
      "state": {
       "layout": "IPY_MODEL_623b15a7cbd84277b6c89c3248c22a65",
       "style": "IPY_MODEL_11991d24d1384478b70a882969fa6347",
       "value": "gaussian( image=image1, sigma=6.0)"
      }
     },
     "58648a79bdc84068bb5a830ab3fcf829": {
      "model_module": "@jupyter-widgets/base",
      "model_module_version": "2.0.0",
      "model_name": "LayoutModel",
      "state": {}
     },
     "5efb0ed972df4ef8bf7eb7a9b17ec062": {
      "model_module": "@jupyter-widgets/controls",
      "model_module_version": "2.0.0",
      "model_name": "VBoxModel",
      "state": {
       "_dom_classes": [
        "widget-interact"
       ],
       "children": [
        "IPY_MODEL_3f32f71b2fed417da0ff8d69ae642530",
        "IPY_MODEL_f848a38bccbf4a9f8ebc0f83ef783c70",
        "IPY_MODEL_b3ae5bbd44844336a0cf6a707518aec8"
       ],
       "layout": "IPY_MODEL_ec5660d4b5a3456794b3255fb921ae2d"
      }
     },
     "623b15a7cbd84277b6c89c3248c22a65": {
      "model_module": "@jupyter-widgets/base",
      "model_module_version": "2.0.0",
      "model_name": "LayoutModel",
      "state": {}
     },
     "629e7a93b8aa4a28bbd2187aa3f5b1ed": {
      "model_module": "@jupyter-widgets/controls",
      "model_module_version": "2.0.0",
      "model_name": "SliderStyleModel",
      "state": {
       "description_width": ""
      }
     },
     "93ace19f931b421ba338feecbb07863b": {
      "model_module": "@jupyter-widgets/controls",
      "model_module_version": "2.0.0",
      "model_name": "HBoxModel",
      "state": {
       "children": [
        "IPY_MODEL_95e9e67504ee4f34acdc127a403c96c5"
       ],
       "layout": "IPY_MODEL_f429629a0d4f46638b1e7f5678e5a205"
      }
     },
     "942b2a95604549bbb37f90ff8c789de7": {
      "model_module": "@jupyter-widgets/base",
      "model_module_version": "2.0.0",
      "model_name": "LayoutModel",
      "state": {}
     },
     "95e9e67504ee4f34acdc127a403c96c5": {
      "model_module": "@jupyter-widgets/controls",
      "model_module_version": "2.0.0",
      "model_name": "VBoxModel",
      "state": {
       "children": [
        "IPY_MODEL_ac10afd094c64664b8db39fd181ad4f6"
       ],
       "layout": "IPY_MODEL_a58074afe8ce4bbaa224d7cf6bdf815b"
      }
     },
     "9e699dbae2b24e39a4bda3e59cef1e35": {
      "model_module": "@jupyter-widgets/base",
      "model_module_version": "2.0.0",
      "model_name": "LayoutModel",
      "state": {}
     },
     "a58074afe8ce4bbaa224d7cf6bdf815b": {
      "model_module": "@jupyter-widgets/base",
      "model_module_version": "2.0.0",
      "model_name": "LayoutModel",
      "state": {}
     },
     "ac10afd094c64664b8db39fd181ad4f6": {
      "model_module": "ipycanvas",
      "model_module_version": "^0.13",
      "model_name": "CanvasModel",
      "state": {
       "_canvas_manager": "IPY_MODEL_d87eb8de4fe04d28a94e2165d8b76945",
       "_model_module_version": "^0.13",
       "_view_module_version": "^0.13",
       "height": 160,
       "layout": "IPY_MODEL_de00ba763aef49938c4e987c5a05e831",
       "width": 160
      }
     },
     "aedc5ee729f440e9bb83ab10a4032146": {
      "model_module": "@jupyter-widgets/controls",
      "model_module_version": "2.0.0",
      "model_name": "IntSliderModel",
      "state": {
       "behavior": "drag-tap",
       "description": "Slice",
       "layout": "IPY_MODEL_9e699dbae2b24e39a4bda3e59cef1e35",
       "max": 119,
       "style": "IPY_MODEL_b2aeffe4df044f8ba8f90a643954ba69",
       "value": 59
      }
     },
     "b2aeffe4df044f8ba8f90a643954ba69": {
      "model_module": "@jupyter-widgets/controls",
      "model_module_version": "2.0.0",
      "model_name": "SliderStyleModel",
      "state": {
       "description_width": ""
      }
     },
     "b3ae5bbd44844336a0cf6a707518aec8": {
      "model_module": "@jupyter-widgets/output",
      "model_module_version": "1.0.0",
      "model_name": "OutputModel",
      "state": {
       "layout": "IPY_MODEL_58648a79bdc84068bb5a830ab3fcf829"
      }
     },
     "bba7dac8e2594e1f9dc6ce71a8f05569": {
      "model_module": "@jupyter-widgets/base",
      "model_module_version": "2.0.0",
      "model_name": "LayoutModel",
      "state": {}
     },
     "cb2d08646c2042589d6c6cad10155c62": {
      "model_module": "@jupyter-widgets/base",
      "model_module_version": "2.0.0",
      "model_name": "LayoutModel",
      "state": {}
     },
     "d87eb8de4fe04d28a94e2165d8b76945": {
      "model_module": "ipycanvas",
      "model_module_version": "^0.13",
      "model_name": "CanvasManagerModel",
      "state": {
       "_model_module_version": "^0.13",
       "_view_module": null,
       "_view_module_version": ""
      }
     },
     "de00ba763aef49938c4e987c5a05e831": {
      "model_module": "@jupyter-widgets/base",
      "model_module_version": "2.0.0",
      "model_name": "LayoutModel",
      "state": {}
     },
     "e766c976db324df8867a84ecdc315043": {
      "model_module": "@jupyter-widgets/controls",
      "model_module_version": "2.0.0",
      "model_name": "VBoxModel",
      "state": {
       "children": [
        "IPY_MODEL_5efb0ed972df4ef8bf7eb7a9b17ec062",
        "IPY_MODEL_4393ef11fff74fcd9f4495d680bdbf25",
        "IPY_MODEL_93ace19f931b421ba338feecbb07863b",
        "IPY_MODEL_aedc5ee729f440e9bb83ab10a4032146"
       ],
       "layout": "IPY_MODEL_bba7dac8e2594e1f9dc6ce71a8f05569"
      }
     },
     "ec5660d4b5a3456794b3255fb921ae2d": {
      "model_module": "@jupyter-widgets/base",
      "model_module_version": "2.0.0",
      "model_name": "LayoutModel",
      "state": {}
     },
     "f429629a0d4f46638b1e7f5678e5a205": {
      "model_module": "@jupyter-widgets/base",
      "model_module_version": "2.0.0",
      "model_name": "LayoutModel",
      "state": {}
     },
     "f848a38bccbf4a9f8ebc0f83ef783c70": {
      "model_module": "@jupyter-widgets/controls",
      "model_module_version": "2.0.0",
      "model_name": "FloatSliderModel",
      "state": {
       "behavior": "drag-tap",
       "description": "sigma",
       "layout": "IPY_MODEL_942b2a95604549bbb37f90ff8c789de7",
       "max": 25,
       "style": "IPY_MODEL_629e7a93b8aa4a28bbd2187aa3f5b1ed",
       "value": 6
      }
     }
    },
    "version_major": 2,
    "version_minor": 0
   }
  }
 },
 "nbformat": 4,
 "nbformat_minor": 5
}
