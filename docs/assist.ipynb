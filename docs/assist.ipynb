{
 "cells": [
  {
   "cell_type": "markdown",
   "id": "766dd744-e937-4ed6-932a-6fe068e6ff16",
   "metadata": {},
   "source": [
    "# Assist\n",
    "\n",
    "The `stackview.assist()` function allows to browse image processing functions. First, we need to import modules and functions we would like to browse through.\n",
    "\n",
    "Note: Not all functions are supported and may never be. stackview identifies compatible functions from parameters and parameter annotations."
   ]
  },
  {
   "cell_type": "code",
   "execution_count": 1,
   "id": "6b0a48a5-778b-4789-aa28-84e270252e9c",
   "metadata": {},
   "outputs": [],
   "source": [
    "import stackview\n",
    "import napari_segment_blobs_and_things_with_membranes as nsbatwm\n",
    "import napari_simpleitk_image_processing as nsitk\n",
    "import skimage.filters as skfilters\n",
    "from pyclesperanto_prototype import voronoi_otsu_labeling, gauss_otsu_labeling, eroded_otsu_labeling, erode_connected_labels, label, \\\n",
    "                                    erode_labels, dilate_labels, opening_labels, closing_labels, smooth_labels\n",
    "\n",
    "import numpy as np\n",
    "from skimage.io import imread"
   ]
  },
  {
   "cell_type": "markdown",
   "id": "08773af9-ae5e-4a87-a0c8-72048b0f67e2",
   "metadata": {},
   "source": [
    "We also create some images in variables which will later be offered in pulldowns."
   ]
  },
  {
   "cell_type": "code",
   "execution_count": 2,
   "id": "5bca1452-95b2-42f7-bc93-d354fe9d55b4",
   "metadata": {},
   "outputs": [],
   "source": [
    "image1 = np.random.random((100, 100))\n",
    "image2 = np.random.random((150, 150))\n",
    "image3 = np.random.random((10, 150, 150))\n",
    "blobs = imread(\"data/blobs.tif\")\n",
    "binary = blobs > 120\n",
    "labels = label(binary)"
   ]
  },
  {
   "cell_type": "code",
   "execution_count": 3,
   "id": "53e523c9-82e9-4d5e-8ff8-aab818ba211b",
   "metadata": {},
   "outputs": [],
   "source": [
    "dilated_labels = dilate_labels(labels, radius=7)"
   ]
  },
  {
   "cell_type": "markdown",
   "id": "d974be24-c289-49e0-8d02-879d713d1059",
   "metadata": {},
   "source": [
    "Next, we can use `stackview.assist` to list all functions that are accessible in `globals()`. If you search for specific functions, you can use the search field and enter terms such as `gauss` or `label` and the `Operation` pulldown will be filtered. stackview searches for this term in the function name and also in the docstring. Thus, you can also search for `nuclei` or `membrane` because some of the imported functions have these terms in their documentation."
   ]
  },
  {
   "cell_type": "code",
   "execution_count": 6,
   "id": "2e59022e-7230-49af-bece-1fdde3c7c7fe",
   "metadata": {
    "tags": []
   },
   "outputs": [
    {
     "data": {
      "application/vnd.jupyter.widget-view+json": {
       "model_id": "53171a4735314cd28c2e60ead32c839d",
       "version_major": 2,
       "version_minor": 0
      },
      "text/plain": [
       "VBox(children=(Text(value='', description='Search', placeholder='Type here to search'), Dropdown(description='…"
      ]
     },
     "execution_count": 6,
     "metadata": {},
     "output_type": "execute_result"
    }
   ],
   "source": [
    "stackview.assist(context=globals(), continuous_update=True)"
   ]
  }
 ],
 "metadata": {
  "kernelspec": {
   "display_name": "Python 3 (ipykernel)",
   "language": "python",
   "name": "python3"
  },
  "language_info": {
   "codemirror_mode": {
    "name": "ipython",
    "version": 3
   },
   "file_extension": ".py",
   "mimetype": "text/x-python",
   "name": "python",
   "nbconvert_exporter": "python",
   "pygments_lexer": "ipython3",
   "version": "3.9.15"
  },
  "widgets": {
   "application/vnd.jupyter.widget-state+json": {
    "state": {
     "001be1ce9b64455781ee24b392529aa0": {
      "model_module": "@jupyter-widgets/controls",
      "model_module_version": "2.0.0",
      "model_name": "VBoxModel",
      "state": {
       "_dom_classes": [
        "widget-interact"
       ],
       "children": [
        "IPY_MODEL_0be4cda24cd54f389971a34357e879e6",
        "IPY_MODEL_5d18fc09bf584e90a57d598cc24317e2",
        "IPY_MODEL_5cdb853851614fa986ec9bbca03b71b6"
       ],
       "layout": "IPY_MODEL_60830b801c5a4c8cbab1f9d629ac30ce"
      }
     },
     "00331ae8fd654144b8aa3e6de8bc6cbf": {
      "model_module": "@jupyter-widgets/controls",
      "model_module_version": "2.0.0",
      "model_name": "VBoxModel",
      "state": {
       "_dom_classes": [
        "widget-interact"
       ],
       "children": [
        "IPY_MODEL_7df9a10a2b3b4b45ba1e94b8afcbc659",
        "IPY_MODEL_c4a91f44147d47d89d86071a19a70fcd"
       ],
       "layout": "IPY_MODEL_c03a59bfe7a6459dae9c4372a9a2f485"
      }
     },
     "0034f114eb984685b17ef406307847f9": {
      "model_module": "@jupyter-widgets/controls",
      "model_module_version": "2.0.0",
      "model_name": "DescriptionStyleModel",
      "state": {
       "description_width": ""
      }
     },
     "004001c64f064e55ab948b48b3373b7a": {
      "model_module": "@jupyter-widgets/base",
      "model_module_version": "2.0.0",
      "model_name": "LayoutModel",
      "state": {}
     },
     "0075b2f644a649098263cf6c54deeea1": {
      "model_module": "@jupyter-widgets/controls",
      "model_module_version": "2.0.0",
      "model_name": "LabelStyleModel",
      "state": {
       "description_width": "",
       "font_family": "Courier",
       "font_size": null,
       "font_style": null,
       "font_variant": null,
       "font_weight": null,
       "text_color": null,
       "text_decoration": null
      }
     },
     "007b229ef9324d2f8f40e5779b1dac93": {
      "model_module": "@jupyter-widgets/base",
      "model_module_version": "2.0.0",
      "model_name": "LayoutModel",
      "state": {
       "display": "none"
      }
     },
     "0083eae4bec2461593d23a4ad4f6fbf5": {
      "model_module": "@jupyter-widgets/base",
      "model_module_version": "2.0.0",
      "model_name": "LayoutModel",
      "state": {}
     },
     "00948d7bdd21409f8401daabab810f6a": {
      "model_module": "@jupyter-widgets/base",
      "model_module_version": "2.0.0",
      "model_name": "LayoutModel",
      "state": {}
     },
     "00c59a98c3aa4ca2a0f0bee6bb31f6bd": {
      "model_module": "@jupyter-widgets/base",
      "model_module_version": "2.0.0",
      "model_name": "LayoutModel",
      "state": {}
     },
     "00c9e93f9fa74b3f9420bdc1f42485c5": {
      "model_module": "@jupyter-widgets/controls",
      "model_module_version": "2.0.0",
      "model_name": "SliderStyleModel",
      "state": {
       "description_width": ""
      }
     },
     "00d144cfa11b42e7a3116fd34ad5f952": {
      "model_module": "@jupyter-widgets/base",
      "model_module_version": "2.0.0",
      "model_name": "LayoutModel",
      "state": {
       "display": "none"
      }
     },
     "00e66658bfac43a7a02c8f74f7728268": {
      "model_module": "@jupyter-widgets/base",
      "model_module_version": "2.0.0",
      "model_name": "LayoutModel",
      "state": {}
     },
     "00e89fd207714ba88eb80ca81ade833e": {
      "model_module": "@jupyter-widgets/controls",
      "model_module_version": "2.0.0",
      "model_name": "DropdownModel",
      "state": {
       "_options_labels": [
        "no_image",
        "image1",
        "image2",
        "image3",
        "blobs",
        "binary",
        "labels",
        "dilated_labels"
       ],
       "description": "image",
       "index": 0,
       "layout": "IPY_MODEL_ae1d283b32ab4ca09643b0c7e59c7788",
       "style": "IPY_MODEL_d3210beb308f490e83c4fba511ebb6a9"
      }
     },
     "00f97cd0fc9c4fe98490a268b2446cd7": {
      "model_module": "@jupyter-widgets/controls",
      "model_module_version": "2.0.0",
      "model_name": "DescriptionStyleModel",
      "state": {
       "description_width": ""
      }
     },
     "011eed40665a4102a8f69245c63e634b": {
      "model_module": "@jupyter-widgets/controls",
      "model_module_version": "2.0.0",
      "model_name": "LabelStyleModel",
      "state": {
       "description_width": "",
       "font_family": "Courier",
       "font_size": null,
       "font_style": null,
       "font_variant": null,
       "font_weight": null,
       "text_color": null,
       "text_decoration": null
      }
     },
     "0123fcd15be34a5eaa7251aa6b23d34e": {
      "model_module": "@jupyter-widgets/controls",
      "model_module_version": "2.0.0",
      "model_name": "DescriptionStyleModel",
      "state": {
       "description_width": ""
      }
     },
     "0149c42319bc467a99e570d9199e6d39": {
      "model_module": "@jupyter-widgets/controls",
      "model_module_version": "2.0.0",
      "model_name": "SliderStyleModel",
      "state": {
       "description_width": ""
      }
     },
     "014a2762af4445c8a1b615dd393dc205": {
      "model_module": "@jupyter-widgets/base",
      "model_module_version": "2.0.0",
      "model_name": "LayoutModel",
      "state": {}
     },
     "0159a9bf5c7640cda26567c4b3abecd0": {
      "model_module": "@jupyter-widgets/controls",
      "model_module_version": "2.0.0",
      "model_name": "VBoxModel",
      "state": {
       "children": [
        "IPY_MODEL_6705570c4c0244959c4ceb4f63cf015d",
        "IPY_MODEL_11701d979a604a889452e1f0950bf5b0"
       ],
       "layout": "IPY_MODEL_4e6d1c458b7f442f8cdf5847b0aa0808"
      }
     },
     "017ffeb0b5ff456bb385fcae26332d08": {
      "model_module": "@jupyter-widgets/controls",
      "model_module_version": "2.0.0",
      "model_name": "LabelStyleModel",
      "state": {
       "description_width": "",
       "font_family": "Courier",
       "font_size": null,
       "font_style": null,
       "font_variant": null,
       "font_weight": null,
       "text_color": null,
       "text_decoration": null
      }
     },
     "01ae3e50179a49ccb5476116996352fc": {
      "model_module": "@jupyter-widgets/base",
      "model_module_version": "2.0.0",
      "model_name": "LayoutModel",
      "state": {}
     },
     "01c82d01741141b395e40f1b49ea3453": {
      "model_module": "@jupyter-widgets/controls",
      "model_module_version": "2.0.0",
      "model_name": "DropdownModel",
      "state": {
       "_options_labels": [
        "no_image",
        "image1",
        "image2",
        "image3",
        "blobs",
        "binary",
        "labels",
        "dilated_labels"
       ],
       "description": "image",
       "index": 0,
       "layout": "IPY_MODEL_ffe4f9f36fd54a5dae03e95228d5c538",
       "style": "IPY_MODEL_78042ef3bba44db2ab4006b389cc1c62"
      }
     },
     "02159d4222b040feb08e572ba0726e02": {
      "model_module": "@jupyter-widgets/controls",
      "model_module_version": "2.0.0",
      "model_name": "VBoxModel",
      "state": {
       "_dom_classes": [
        "widget-interact"
       ],
       "children": [
        "IPY_MODEL_c160b5fae4fa4f8fa48226e4767fb325",
        "IPY_MODEL_0ffecd09278f4e738bda8243410a6444",
        "IPY_MODEL_9d9990f3f6e940979d1d19e83a9f6a4e",
        "IPY_MODEL_c25329d21dee471f832e793c5fde8901"
       ],
       "layout": "IPY_MODEL_0afbf83cca8c418d9d40e056ec1651ef"
      }
     },
     "0253a157c992479680b459f69594c72c": {
      "model_module": "@jupyter-widgets/base",
      "model_module_version": "2.0.0",
      "model_name": "LayoutModel",
      "state": {}
     },
     "0254acf8a25b4b11a7df84627b80e4f6": {
      "model_module": "@jupyter-widgets/base",
      "model_module_version": "2.0.0",
      "model_name": "LayoutModel",
      "state": {}
     },
     "029420e92eaf4f24b30a610cbbdf16af": {
      "model_module": "@jupyter-widgets/controls",
      "model_module_version": "2.0.0",
      "model_name": "DropdownModel",
      "state": {
       "_options_labels": [
        "no_image",
        "image1",
        "image2",
        "image3",
        "blobs",
        "binary",
        "labels",
        "dilated_labels"
       ],
       "description": "image",
       "index": 0,
       "layout": "IPY_MODEL_ada01544d1a943ad9cf3197339fdc801",
       "style": "IPY_MODEL_f7bc2c49c68c4a938dd3d48e5fed3118"
      }
     },
     "029634457bcb484593d51935e4e7633e": {
      "model_module": "@jupyter-widgets/controls",
      "model_module_version": "2.0.0",
      "model_name": "SliderStyleModel",
      "state": {
       "description_width": ""
      }
     },
     "02979dc2445f42a0afb12ac660ed2189": {
      "model_module": "@jupyter-widgets/base",
      "model_module_version": "2.0.0",
      "model_name": "LayoutModel",
      "state": {}
     },
     "029bbae0b94446fa85c28de51d7d2b52": {
      "model_module": "@jupyter-widgets/controls",
      "model_module_version": "2.0.0",
      "model_name": "LabelModel",
      "state": {
       "layout": "IPY_MODEL_6706e3d49f4742b9b19c91211e77613f",
       "style": "IPY_MODEL_131c999aa7564d6ca47efbacf7466c72",
       "value": "nsitk.threshold_intermodes( image=no_image)"
      }
     },
     "02c4f397ae7e41c39430b971f7682343": {
      "model_module": "@jupyter-widgets/output",
      "model_module_version": "1.0.0",
      "model_name": "OutputModel",
      "state": {
       "layout": "IPY_MODEL_8bc8a790f2324f56863aa51711863542"
      }
     },
     "02eb3462ec5744d4815d69167cc1d548": {
      "model_module": "@jupyter-widgets/controls",
      "model_module_version": "2.0.0",
      "model_name": "LabelStyleModel",
      "state": {
       "description_width": "",
       "font_family": "Courier",
       "font_size": null,
       "font_style": null,
       "font_variant": null,
       "font_weight": null,
       "text_color": null,
       "text_decoration": null
      }
     },
     "02ff1fcb20b94893bd5d759d703c2b4e": {
      "model_module": "@jupyter-widgets/controls",
      "model_module_version": "2.0.0",
      "model_name": "FloatSliderModel",
      "state": {
       "behavior": "drag-tap",
       "description": "output_maximum",
       "layout": "IPY_MODEL_6e3308548f0d4529901cdbec2b38ba89",
       "step": null,
       "style": "IPY_MODEL_a186ec3a474c400782363eb7e69618e8",
       "value": 1
      }
     },
     "030c55e078fc47a4afcef6e1effa4fa1": {
      "model_module": "@jupyter-widgets/controls",
      "model_module_version": "2.0.0",
      "model_name": "DropdownModel",
      "state": {
       "_options_labels": [
        "no_image",
        "image1",
        "image2",
        "image3",
        "blobs",
        "binary",
        "labels",
        "dilated_labels"
       ],
       "description": "image",
       "index": 0,
       "layout": "IPY_MODEL_e5c6af788ef94e68937705b9a7afa415",
       "style": "IPY_MODEL_2ba7a18bc9c041219b01d3140cf8dcca"
      }
     },
     "0328c7699af6473d90a893c7e9aa5482": {
      "model_module": "@jupyter-widgets/base",
      "model_module_version": "2.0.0",
      "model_name": "LayoutModel",
      "state": {}
     },
     "0331ccba15684fa08ae3b6dc764cc104": {
      "model_module": "@jupyter-widgets/controls",
      "model_module_version": "2.0.0",
      "model_name": "DescriptionStyleModel",
      "state": {
       "description_width": ""
      }
     },
     "0342b3e272c645f58945942f51ac970a": {
      "model_module": "@jupyter-widgets/base",
      "model_module_version": "2.0.0",
      "model_name": "LayoutModel",
      "state": {
       "display": "none"
      }
     },
     "0357e73912eb4258b9fb5fbe3b6ed346": {
      "model_module": "@jupyter-widgets/controls",
      "model_module_version": "2.0.0",
      "model_name": "DropdownModel",
      "state": {
       "_options_labels": [
        "no_image",
        "image1",
        "image2",
        "image3",
        "blobs",
        "binary",
        "labels",
        "dilated_labels"
       ],
       "description": "intensity_image",
       "index": 0,
       "layout": "IPY_MODEL_943ca0c55b1c4f86b6c52294a27aee20",
       "style": "IPY_MODEL_6a8e2e840ad14d91bafabfb15530ff93"
      }
     },
     "0362b52718a5498d8c7290553bf90062": {
      "model_module": "@jupyter-widgets/controls",
      "model_module_version": "2.0.0",
      "model_name": "DescriptionStyleModel",
      "state": {
       "description_width": ""
      }
     },
     "037005e6068649668a4175fa4c6a7e8e": {
      "model_module": "@jupyter-widgets/base",
      "model_module_version": "2.0.0",
      "model_name": "LayoutModel",
      "state": {}
     },
     "039bbcda436c4fd8b20d3e6364684f0a": {
      "model_module": "@jupyter-widgets/base",
      "model_module_version": "2.0.0",
      "model_name": "LayoutModel",
      "state": {}
     },
     "03b524ce02cc4a578da7b8b44d76c492": {
      "model_module": "@jupyter-widgets/controls",
      "model_module_version": "2.0.0",
      "model_name": "VBoxModel",
      "state": {
       "_dom_classes": [
        "widget-interact"
       ],
       "children": [
        "IPY_MODEL_95707a889f7e430f9e4435faae9aa6e4",
        "IPY_MODEL_6aa43119a6544f71a6c0fd361d0328eb",
        "IPY_MODEL_4a89306a571840d49188e1fd0c0ec88a"
       ],
       "layout": "IPY_MODEL_a4eaf11d61b94badb5c2f34673a538d6"
      }
     },
     "03f432f83a9f4a82ad94931d7a461ca3": {
      "model_module": "@jupyter-widgets/base",
      "model_module_version": "2.0.0",
      "model_name": "LayoutModel",
      "state": {}
     },
     "0416e94fc01a40f1bbd185d43030937d": {
      "model_module": "@jupyter-widgets/base",
      "model_module_version": "2.0.0",
      "model_name": "LayoutModel",
      "state": {}
     },
     "042c01f4cd124c21b6fb26d790d16625": {
      "model_module": "@jupyter-widgets/base",
      "model_module_version": "2.0.0",
      "model_name": "LayoutModel",
      "state": {}
     },
     "043a70cabd87463da0b176559eed1e36": {
      "model_module": "@jupyter-widgets/controls",
      "model_module_version": "2.0.0",
      "model_name": "LabelModel",
      "state": {
       "layout": "IPY_MODEL_a25ad107fc534180b560878f3017dae7",
       "style": "IPY_MODEL_7ee0e2877e5147ad93662a4aed4c3619",
       "value": "nsitk.binary_fill_holes( binary_image=no_image)"
      }
     },
     "0449e06f34a14afcadf5731605a9797c": {
      "model_module": "@jupyter-widgets/controls",
      "model_module_version": "2.0.0",
      "model_name": "LabelModel",
      "state": {
       "layout": "IPY_MODEL_57ae284c38ad4b119f0b7e9bb6021d05",
       "style": "IPY_MODEL_c560e94d83424b31a50255c832288ba1",
       "value": "nsitk.pixel_count_map( label_image=no_image)"
      }
     },
     "0487c3eda0bc4249ba0473db39c59df1": {
      "model_module": "@jupyter-widgets/base",
      "model_module_version": "2.0.0",
      "model_name": "LayoutModel",
      "state": {}
     },
     "048e230f28014af4bb8bb8f08566ee27": {
      "model_module": "@jupyter-widgets/controls",
      "model_module_version": "2.0.0",
      "model_name": "LabelStyleModel",
      "state": {
       "description_width": "",
       "font_family": "Courier",
       "font_size": null,
       "font_style": null,
       "font_variant": null,
       "font_weight": null,
       "text_color": null,
       "text_decoration": null
      }
     },
     "048eae202e5c4edcaf16e1a48f97a93a": {
      "model_module": "@jupyter-widgets/output",
      "model_module_version": "1.0.0",
      "model_name": "OutputModel",
      "state": {
       "layout": "IPY_MODEL_b3c3795f72174d88b565248886ad2c0c"
      }
     },
     "04e3b49838c844a1b244cece8d810160": {
      "model_module": "@jupyter-widgets/base",
      "model_module_version": "2.0.0",
      "model_name": "LayoutModel",
      "state": {}
     },
     "0508dbfa1afe486693623bac7a7eadf4": {
      "model_module": "@jupyter-widgets/controls",
      "model_module_version": "2.0.0",
      "model_name": "SliderStyleModel",
      "state": {
       "description_width": ""
      }
     },
     "0534b65a8bda4fd99035fafc7bf8c6ca": {
      "model_module": "@jupyter-widgets/controls",
      "model_module_version": "2.0.0",
      "model_name": "VBoxModel",
      "state": {
       "_dom_classes": [
        "widget-interact"
       ],
       "children": [
        "IPY_MODEL_e129cd899d3f4636bfe7590817bf2c44",
        "IPY_MODEL_cfd1cccabb3e4120acef7f98dd35d6b2",
        "IPY_MODEL_0590db5da5ac4b9697f25316b4bad380"
       ],
       "layout": "IPY_MODEL_227e30459cb44972972912ec795775f9"
      }
     },
     "0538b43add624deba448fc7acc56e56b": {
      "model_module": "@jupyter-widgets/controls",
      "model_module_version": "2.0.0",
      "model_name": "DropdownModel",
      "state": {
       "_options_labels": [
        "no_image",
        "image1",
        "image2",
        "image3",
        "blobs",
        "binary",
        "labels",
        "dilated_labels"
       ],
       "description": "image",
       "index": 0,
       "layout": "IPY_MODEL_25ed2b23270d4a5ca9548b1307b1b981",
       "style": "IPY_MODEL_776df218e71a47129a882cf9da193a93"
      }
     },
     "053922c1bc47444c94290025ff2af798": {
      "model_module": "@jupyter-widgets/base",
      "model_module_version": "2.0.0",
      "model_name": "LayoutModel",
      "state": {}
     },
     "055bbb115293458ea0ae7b2c48b29c83": {
      "model_module": "@jupyter-widgets/base",
      "model_module_version": "2.0.0",
      "model_name": "LayoutModel",
      "state": {}
     },
     "0560c29ca7684d7d88854be6df3dab27": {
      "model_module": "@jupyter-widgets/base",
      "model_module_version": "2.0.0",
      "model_name": "LayoutModel",
      "state": {}
     },
     "0568a663872846269e15656077c3e51c": {
      "model_module": "@jupyter-widgets/base",
      "model_module_version": "2.0.0",
      "model_name": "LayoutModel",
      "state": {}
     },
     "0576829785a8485f9e7ce1d52d74325b": {
      "model_module": "@jupyter-widgets/base",
      "model_module_version": "2.0.0",
      "model_name": "LayoutModel",
      "state": {}
     },
     "0580058ae83a47d19e57c2204843a363": {
      "model_module": "@jupyter-widgets/base",
      "model_module_version": "2.0.0",
      "model_name": "LayoutModel",
      "state": {
       "display": "none"
      }
     },
     "0590db5da5ac4b9697f25316b4bad380": {
      "model_module": "@jupyter-widgets/output",
      "model_module_version": "1.0.0",
      "model_name": "OutputModel",
      "state": {
       "layout": "IPY_MODEL_79ce6a8a875f41d0914ccd2acfddaacd"
      }
     },
     "05b355836d3a45f1b7856660d38fb54c": {
      "model_module": "@jupyter-widgets/controls",
      "model_module_version": "2.0.0",
      "model_name": "DropdownModel",
      "state": {
       "_options_labels": [
        "no_image",
        "image1",
        "image2",
        "image3",
        "blobs",
        "binary",
        "labels",
        "dilated_labels"
       ],
       "description": "label_image",
       "index": 0,
       "layout": "IPY_MODEL_82dbb1d690dc4d1883c0aba523d0e97c",
       "style": "IPY_MODEL_3db7a8a2e5c742bf9440b0b67fca9b38"
      }
     },
     "05c033f1cffb449a965b315d6c4495b4": {
      "model_module": "@jupyter-widgets/controls",
      "model_module_version": "2.0.0",
      "model_name": "DropdownModel",
      "state": {
       "_options_labels": [
        "no_image",
        "image1",
        "image2",
        "image3",
        "blobs",
        "binary",
        "labels",
        "dilated_labels"
       ],
       "description": "mask",
       "index": 0,
       "layout": "IPY_MODEL_1d720f6da61c4e5c8cc352d7ef538788",
       "style": "IPY_MODEL_29e074eb98314df38108564d1e3b46fd"
      }
     },
     "0620d2e3ded142f0a40ba55f2511ec2f": {
      "model_module": "@jupyter-widgets/controls",
      "model_module_version": "2.0.0",
      "model_name": "DescriptionStyleModel",
      "state": {
       "description_width": ""
      }
     },
     "063698f79bf042b3b821e5dcda7ff3f4": {
      "model_module": "@jupyter-widgets/controls",
      "model_module_version": "2.0.0",
      "model_name": "LabelModel",
      "state": {
       "layout": "IPY_MODEL_743a47520ba94c8ab64fb4b5e7585882",
       "style": "IPY_MODEL_7897b293c3ba4aff93da97018d09e67f",
       "value": "nsitk.canny_edge_detection( image=no_image, lower_threshold=0.0, upper_threshold=50.0)"
      }
     },
     "06629b6afdbe4b13b5750473740b7fc9": {
      "model_module": "@jupyter-widgets/controls",
      "model_module_version": "2.0.0",
      "model_name": "LabelModel",
      "state": {
       "layout": "IPY_MODEL_d1cd93a3ca4048c68a69dfd7f965a233",
       "style": "IPY_MODEL_8d141f1a72c34c35ae8573dc064b0745",
       "value": "nsbatwm.threshold_mean( image=no_image)"
      }
     },
     "0687970819d54c69aa40a9c064956aea": {
      "model_module": "@jupyter-widgets/base",
      "model_module_version": "2.0.0",
      "model_name": "LayoutModel",
      "state": {}
     },
     "068fd2eb744142579aaa960af4bc3053": {
      "model_module": "@jupyter-widgets/base",
      "model_module_version": "2.0.0",
      "model_name": "LayoutModel",
      "state": {}
     },
     "06bf2f828e644981bee69bb5b99090ff": {
      "model_module": "@jupyter-widgets/controls",
      "model_module_version": "2.0.0",
      "model_name": "DropdownModel",
      "state": {
       "_options_labels": [
        "no_image",
        "image1",
        "image2",
        "image3",
        "blobs",
        "binary",
        "labels",
        "dilated_labels"
       ],
       "description": "image",
       "index": 0,
       "layout": "IPY_MODEL_d6d8225e89684560a40619024ac49966",
       "style": "IPY_MODEL_e94070d5f89d431c95cca27f7e9dc6f9"
      }
     },
     "06c2073800b14a57bda50cb0c4fec6ed": {
      "model_module": "@jupyter-widgets/controls",
      "model_module_version": "2.0.0",
      "model_name": "DropdownModel",
      "state": {
       "_options_labels": [
        "no_image",
        "image1",
        "image2",
        "image3",
        "blobs",
        "binary",
        "labels",
        "dilated_labels"
       ],
       "description": "image",
       "index": 0,
       "layout": "IPY_MODEL_fe6f4e73201440d3b04cbac541a5f1a6",
       "style": "IPY_MODEL_3ff19a1240204d2d8ecbc56dc8456cac"
      }
     },
     "06cc2e2f92ae4cd692b23fde23e22c38": {
      "model_module": "@jupyter-widgets/controls",
      "model_module_version": "2.0.0",
      "model_name": "LabelStyleModel",
      "state": {
       "description_width": "",
       "font_family": "Courier",
       "font_size": null,
       "font_style": null,
       "font_variant": null,
       "font_weight": null,
       "text_color": null,
       "text_decoration": null
      }
     },
     "072125b26b4b4202b875d21d561305ab": {
      "model_module": "@jupyter-widgets/output",
      "model_module_version": "1.0.0",
      "model_name": "OutputModel",
      "state": {
       "layout": "IPY_MODEL_f4cae1d806c34580a55d424d088c1f59"
      }
     },
     "0728af0e5eea4957b7c0fca6ce5ddad2": {
      "model_module": "@jupyter-widgets/controls",
      "model_module_version": "2.0.0",
      "model_name": "LabelModel",
      "state": {
       "layout": "IPY_MODEL_a767081cc6d547b0a25627a2edbfe2d3",
       "style": "IPY_MODEL_bae039d5e7c548e195a62a86800d56ec",
       "value": "nsitk.feret_diameter_map( label_image=no_image)"
      }
     },
     "0756145e94484f8ca12f5318e02032fd": {
      "model_module": "@jupyter-widgets/controls",
      "model_module_version": "2.0.0",
      "model_name": "CheckboxModel",
      "state": {
       "description": "relabel_islands",
       "disabled": false,
       "layout": "IPY_MODEL_eda374ab2f7f46c1902ce7e5b2d4b8c6",
       "style": "IPY_MODEL_bdd3108a06904b74b4639e62a7f9d9d6",
       "value": false
      }
     },
     "0759f00594fb4a81aa327433a608a9ce": {
      "model_module": "@jupyter-widgets/base",
      "model_module_version": "2.0.0",
      "model_name": "LayoutModel",
      "state": {
       "display": "none"
      }
     },
     "075df8d8ed71456ab62fdf83e89dbfad": {
      "model_module": "@jupyter-widgets/controls",
      "model_module_version": "2.0.0",
      "model_name": "LabelStyleModel",
      "state": {
       "description_width": "",
       "font_family": "Courier",
       "font_size": null,
       "font_style": null,
       "font_variant": null,
       "font_weight": null,
       "text_color": null,
       "text_decoration": null
      }
     },
     "079c176567ba45bea748f829cdc53a91": {
      "model_module": "@jupyter-widgets/controls",
      "model_module_version": "2.0.0",
      "model_name": "SliderStyleModel",
      "state": {
       "description_width": ""
      }
     },
     "079f040cc8f447a4b5cd042d27252d7d": {
      "model_module": "@jupyter-widgets/controls",
      "model_module_version": "2.0.0",
      "model_name": "FloatSliderModel",
      "state": {
       "behavior": "drag-tap",
       "description": "sigmas",
       "layout": "IPY_MODEL_7882c88c27de44fe9f1d5ea72da853d3",
       "max": 25,
       "style": "IPY_MODEL_8bdc084e4c23491786bb91e37a6bfd40"
      }
     },
     "07d2459f9448484ebe1b1bd8c8a5a3ee": {
      "model_module": "@jupyter-widgets/controls",
      "model_module_version": "2.0.0",
      "model_name": "LabelStyleModel",
      "state": {
       "description_width": "",
       "font_family": "Courier",
       "font_size": null,
       "font_style": null,
       "font_variant": null,
       "font_weight": null,
       "text_color": null,
       "text_decoration": null
      }
     },
     "081713bf1823442f8d67e9cd2b53fe63": {
      "model_module": "@jupyter-widgets/controls",
      "model_module_version": "2.0.0",
      "model_name": "LabelModel",
      "state": {
       "layout": "IPY_MODEL_86fcea1ff2214ad9b7439817ab3b147a",
       "style": "IPY_MODEL_fa97449db2d146fc8c88bc785a8c21d4",
       "value": "nsitk.black_top_hat( image=no_image, radius_x=10, radius_y=10, radius_z=0)"
      }
     },
     "0822ebe4826b41768cba422e8d74269b": {
      "model_module": "@jupyter-widgets/controls",
      "model_module_version": "2.0.0",
      "model_name": "DescriptionStyleModel",
      "state": {
       "description_width": ""
      }
     },
     "08657c36597f427ba4b149977c058a9c": {
      "model_module": "@jupyter-widgets/controls",
      "model_module_version": "2.0.0",
      "model_name": "CheckboxModel",
      "state": {
       "description": "moments",
       "disabled": false,
       "layout": "IPY_MODEL_f9939618ee624985b8f9f209ed4d3bc2",
       "style": "IPY_MODEL_b03b1798e20f4ecbb967c19fef323e7d",
       "value": false
      }
     },
     "087c27e71c604366b1823aac73e46fdb": {
      "model_module": "@jupyter-widgets/controls",
      "model_module_version": "2.0.0",
      "model_name": "VBoxModel",
      "state": {
       "children": [
        "IPY_MODEL_001be1ce9b64455781ee24b392529aa0",
        "IPY_MODEL_e3604e810e5c4f9b85e9257bb75cf4b1"
       ],
       "layout": "IPY_MODEL_a8e9f138a099423c99b4f389224bd17f"
      }
     },
     "087da2692c46483f8d84e5e9b9111b90": {
      "model_module": "@jupyter-widgets/base",
      "model_module_version": "2.0.0",
      "model_name": "LayoutModel",
      "state": {
       "display": "none"
      }
     },
     "08adbe053ac94a809bc3bebe6280c1f2": {
      "model_module": "@jupyter-widgets/controls",
      "model_module_version": "2.0.0",
      "model_name": "VBoxModel",
      "state": {
       "children": [
        "IPY_MODEL_0534b65a8bda4fd99035fafc7bf8c6ca",
        "IPY_MODEL_374568b88d164b988a9143e45f4f08d8"
       ],
       "layout": "IPY_MODEL_ab4c94dd537247d8a1a1f79cd1fdbeb8"
      }
     },
     "08dc52065d464953b2522d49fba7e1ca": {
      "model_module": "@jupyter-widgets/base",
      "model_module_version": "2.0.0",
      "model_name": "LayoutModel",
      "state": {}
     },
     "08e88294cdc7433caad5f535c246bbf7": {
      "model_module": "@jupyter-widgets/controls",
      "model_module_version": "2.0.0",
      "model_name": "LabelStyleModel",
      "state": {
       "description_width": "",
       "font_family": "Courier",
       "font_size": null,
       "font_style": null,
       "font_variant": null,
       "font_weight": null,
       "text_color": null,
       "text_decoration": null
      }
     },
     "092bcaf0e7e640409c154eaefa417545": {
      "model_module": "@jupyter-widgets/controls",
      "model_module_version": "2.0.0",
      "model_name": "DescriptionStyleModel",
      "state": {
       "description_width": ""
      }
     },
     "092db9ef974a406fbb2ec9d0e5b41d2a": {
      "model_module": "@jupyter-widgets/output",
      "model_module_version": "1.0.0",
      "model_name": "OutputModel",
      "state": {
       "layout": "IPY_MODEL_f0f74147bd4041dda24f0405b140af04"
      }
     },
     "0943ca20a9bf45879c80fada54ad1ffd": {
      "model_module": "@jupyter-widgets/base",
      "model_module_version": "2.0.0",
      "model_name": "LayoutModel",
      "state": {}
     },
     "09aab0912ebf4467879f3d313a183fb3": {
      "model_module": "@jupyter-widgets/controls",
      "model_module_version": "2.0.0",
      "model_name": "LabelModel",
      "state": {
       "layout": "IPY_MODEL_c5bbd6ffa9f9420c9f6ad94740e5ba3f",
       "style": "IPY_MODEL_6ea9d1f59d8a41fd97472967c8594385",
       "value": "skfilters.hessian( image=no_image, sigmas=0.0)"
      }
     },
     "09ccdf5777ce4618b7709c43cb77de8f": {
      "model_module": "@jupyter-widgets/controls",
      "model_module_version": "2.0.0",
      "model_name": "DescriptionStyleModel",
      "state": {
       "description_width": ""
      }
     },
     "09d90ad354e54af7b22a29e8bbaf873c": {
      "model_module": "@jupyter-widgets/output",
      "model_module_version": "1.0.0",
      "model_name": "OutputModel",
      "state": {
       "layout": "IPY_MODEL_6cfdb74ff3cd41ee855c37df12d83653"
      }
     },
     "09db42fb49a64236ae2e24d92d7a40f9": {
      "model_module": "@jupyter-widgets/controls",
      "model_module_version": "2.0.0",
      "model_name": "LabelStyleModel",
      "state": {
       "description_width": "",
       "font_family": "Courier",
       "font_size": null,
       "font_style": null,
       "font_variant": null,
       "font_weight": null,
       "text_color": null,
       "text_decoration": null
      }
     },
     "0a163b3af9974e299ac76d96631b9016": {
      "model_module": "@jupyter-widgets/controls",
      "model_module_version": "2.0.0",
      "model_name": "LabelStyleModel",
      "state": {
       "description_width": "",
       "font_family": "Courier",
       "font_size": null,
       "font_style": null,
       "font_variant": null,
       "font_weight": null,
       "text_color": null,
       "text_decoration": null
      }
     },
     "0a1729d62b084e928ddda6bb362a8be0": {
      "model_module": "@jupyter-widgets/controls",
      "model_module_version": "2.0.0",
      "model_name": "LabelStyleModel",
      "state": {
       "description_width": "",
       "font_family": "Courier",
       "font_size": null,
       "font_style": null,
       "font_variant": null,
       "font_weight": null,
       "text_color": null,
       "text_decoration": null
      }
     },
     "0a1808c1d2ec4bb9a02a9ba98037a202": {
      "model_module": "@jupyter-widgets/base",
      "model_module_version": "2.0.0",
      "model_name": "LayoutModel",
      "state": {}
     },
     "0a48d6dddae94371bc22d011a19968ec": {
      "model_module": "@jupyter-widgets/base",
      "model_module_version": "2.0.0",
      "model_name": "LayoutModel",
      "state": {}
     },
     "0a6b4784d5cb4817905995fe14fd6233": {
      "model_module": "@jupyter-widgets/controls",
      "model_module_version": "2.0.0",
      "model_name": "DescriptionStyleModel",
      "state": {
       "description_width": ""
      }
     },
     "0a8bcab6356d4f0489649d18adade3bc": {
      "model_module": "@jupyter-widgets/base",
      "model_module_version": "2.0.0",
      "model_name": "LayoutModel",
      "state": {}
     },
     "0a90606cb2e944f197e6135101dd1ed3": {
      "model_module": "@jupyter-widgets/base",
      "model_module_version": "2.0.0",
      "model_name": "LayoutModel",
      "state": {}
     },
     "0aae261b23284d50b77dcab6675a0c05": {
      "model_module": "@jupyter-widgets/output",
      "model_module_version": "1.0.0",
      "model_name": "OutputModel",
      "state": {
       "layout": "IPY_MODEL_76549d456fb54e96bde05662db13c3aa"
      }
     },
     "0aea3cde936b4b518cdeeb42e32edfa2": {
      "model_module": "@jupyter-widgets/base",
      "model_module_version": "2.0.0",
      "model_name": "LayoutModel",
      "state": {}
     },
     "0aeb75b26e844b19b514aedf3f765b48": {
      "model_module": "@jupyter-widgets/base",
      "model_module_version": "2.0.0",
      "model_name": "LayoutModel",
      "state": {}
     },
     "0afbf83cca8c418d9d40e056ec1651ef": {
      "model_module": "@jupyter-widgets/base",
      "model_module_version": "2.0.0",
      "model_name": "LayoutModel",
      "state": {}
     },
     "0b0cb9890968478eacaeac0d6d6dfedd": {
      "model_module": "@jupyter-widgets/controls",
      "model_module_version": "2.0.0",
      "model_name": "LabelStyleModel",
      "state": {
       "description_width": "",
       "font_family": "Courier",
       "font_size": null,
       "font_style": null,
       "font_variant": null,
       "font_weight": null,
       "text_color": null,
       "text_decoration": null
      }
     },
     "0b275d70132a48beb9ea10d1f01d2f2e": {
      "model_module": "@jupyter-widgets/base",
      "model_module_version": "2.0.0",
      "model_name": "LayoutModel",
      "state": {}
     },
     "0b8f3de85e604cf7a0a7aaef57ca2363": {
      "model_module": "@jupyter-widgets/base",
      "model_module_version": "2.0.0",
      "model_name": "LayoutModel",
      "state": {}
     },
     "0b97bbf849114714b01ce1a3d9ffa86b": {
      "model_module": "@jupyter-widgets/base",
      "model_module_version": "2.0.0",
      "model_name": "LayoutModel",
      "state": {}
     },
     "0bcd88b8ed1546229699747e9d9b9217": {
      "model_module": "@jupyter-widgets/base",
      "model_module_version": "2.0.0",
      "model_name": "LayoutModel",
      "state": {}
     },
     "0be4cda24cd54f389971a34357e879e6": {
      "model_module": "@jupyter-widgets/controls",
      "model_module_version": "2.0.0",
      "model_name": "DropdownModel",
      "state": {
       "_options_labels": [
        "no_image",
        "image1",
        "image2",
        "image3",
        "blobs",
        "binary",
        "labels",
        "dilated_labels"
       ],
       "description": "image",
       "index": 0,
       "layout": "IPY_MODEL_068fd2eb744142579aaa960af4bc3053",
       "style": "IPY_MODEL_eb3535697c914fe693a59d08fbb46f9b"
      }
     },
     "0bea41292fa744baa982b2f70f40721d": {
      "model_module": "@jupyter-widgets/controls",
      "model_module_version": "2.0.0",
      "model_name": "LabelModel",
      "state": {
       "layout": "IPY_MODEL_a5d59e81f9124442bb422b0ddcdf144f",
       "style": "IPY_MODEL_0075b2f644a649098263cf6c54deeea1",
       "value": "nsbatwm.extract_slice( image=no_image, slice_index=0, axis=0)"
      }
     },
     "0bf67f83ad824caba4736dac4788c700": {
      "model_module": "@jupyter-widgets/output",
      "model_module_version": "1.0.0",
      "model_name": "OutputModel",
      "state": {
       "layout": "IPY_MODEL_3de436e0f305432fb269c08d62e41570"
      }
     },
     "0c095a98759844dd9500ad463b61ec58": {
      "model_module": "@jupyter-widgets/controls",
      "model_module_version": "2.0.0",
      "model_name": "DropdownModel",
      "state": {
       "_options_labels": [
        "no_image",
        "image1",
        "image2",
        "image3",
        "blobs",
        "binary",
        "labels",
        "dilated_labels"
       ],
       "description": "image",
       "index": 0,
       "layout": "IPY_MODEL_8a19f7a7d33446f98f442d191e95ab2c",
       "style": "IPY_MODEL_803cb9c2f85f4ed981c53b1a3e2c7709"
      }
     },
     "0c4069dfa1914fdf8a4a732dfb6aef58": {
      "model_module": "@jupyter-widgets/base",
      "model_module_version": "2.0.0",
      "model_name": "LayoutModel",
      "state": {}
     },
     "0c742fd9903546ec9d35174316a0db7f": {
      "model_module": "@jupyter-widgets/controls",
      "model_module_version": "2.0.0",
      "model_name": "LabelModel",
      "state": {
       "layout": "IPY_MODEL_18d6373ac5754ad59c08acd7285d5584",
       "style": "IPY_MODEL_3b4176973fc447a4b0a8f0de8a859a78",
       "value": "skfilters.threshold_mean( image=no_image)"
      }
     },
     "0c86ff977a4949bc93b61fbde9e14228": {
      "model_module": "@jupyter-widgets/controls",
      "model_module_version": "2.0.0",
      "model_name": "DropdownModel",
      "state": {
       "_options_labels": [
        "no_image",
        "image1",
        "image2",
        "image3",
        "blobs",
        "binary",
        "labels",
        "dilated_labels"
       ],
       "description": "image",
       "index": 0,
       "layout": "IPY_MODEL_d3dfc4f2ef4a491dab7823f02d579b94",
       "style": "IPY_MODEL_2a09fd6d456a4a2b825601ff1fda66d7"
      }
     },
     "0ca80f38a79046dbbfc688189d545b5f": {
      "model_module": "@jupyter-widgets/base",
      "model_module_version": "2.0.0",
      "model_name": "LayoutModel",
      "state": {}
     },
     "0cb9242181774befbb03865db93f8155": {
      "model_module": "@jupyter-widgets/controls",
      "model_module_version": "2.0.0",
      "model_name": "LabelStyleModel",
      "state": {
       "description_width": "",
       "font_family": "Courier",
       "font_size": null,
       "font_style": null,
       "font_variant": null,
       "font_weight": null,
       "text_color": null,
       "text_decoration": null
      }
     },
     "0cfb998c68c5492690c3c678dd3d6556": {
      "model_module": "@jupyter-widgets/controls",
      "model_module_version": "2.0.0",
      "model_name": "VBoxModel",
      "state": {
       "children": [
        "IPY_MODEL_a9ef98abdf0b4a568cee93b430cbea5c",
        "IPY_MODEL_12b5b26fb8af4555b0e3f2c3e2ac36ea"
       ],
       "layout": "IPY_MODEL_df5c82cf178543818abc91ff0b07b2e2"
      }
     },
     "0d040125b2624b1ca9a25e04a016ea91": {
      "model_module": "@jupyter-widgets/base",
      "model_module_version": "2.0.0",
      "model_name": "LayoutModel",
      "state": {}
     },
     "0d731777169a4f99917f375c006812ab": {
      "model_module": "@jupyter-widgets/controls",
      "model_module_version": "2.0.0",
      "model_name": "DropdownModel",
      "state": {
       "_options_labels": [
        "no_image",
        "image1",
        "image2",
        "image3",
        "blobs",
        "binary",
        "labels",
        "dilated_labels"
       ],
       "description": "image2",
       "index": 0,
       "layout": "IPY_MODEL_67c2560a880f4b05ada51e64a0388f5c",
       "style": "IPY_MODEL_21073d986697474ea9e283681d3e7033"
      }
     },
     "0d7665d5c1564c05b28a54935714c3b8": {
      "model_module": "@jupyter-widgets/base",
      "model_module_version": "2.0.0",
      "model_name": "LayoutModel",
      "state": {}
     },
     "0dbd58ce144b491fad08d2bbd62f60a2": {
      "model_module": "@jupyter-widgets/controls",
      "model_module_version": "2.0.0",
      "model_name": "VBoxModel",
      "state": {
       "_dom_classes": [
        "widget-interact"
       ],
       "children": [
        "IPY_MODEL_4b5ff609a569436eb3eabf973044b2a5",
        "IPY_MODEL_98ffe30c39f44668b213c206abdce4f7"
       ],
       "layout": "IPY_MODEL_5350d51359c244358f01b682e46cb46d"
      }
     },
     "0dce2691315640078ce2853726f3301f": {
      "model_module": "@jupyter-widgets/controls",
      "model_module_version": "2.0.0",
      "model_name": "DescriptionStyleModel",
      "state": {
       "description_width": ""
      }
     },
     "0dd908b628364b1ab069f8e1091517b5": {
      "model_module": "@jupyter-widgets/output",
      "model_module_version": "1.0.0",
      "model_name": "OutputModel",
      "state": {
       "layout": "IPY_MODEL_e5a6c2fb2d654e0cb0d19e56a0dd675c"
      }
     },
     "0de1c2472dd44e6e9584536cd8fb82e6": {
      "model_module": "@jupyter-widgets/controls",
      "model_module_version": "2.0.0",
      "model_name": "VBoxModel",
      "state": {
       "_dom_classes": [
        "widget-interact"
       ],
       "children": [
        "IPY_MODEL_954a5193cba944a2ae2b2302f06317f9",
        "IPY_MODEL_7b7c9d265156425fa19c7edc03bd7a3b",
        "IPY_MODEL_b0ac98cf7be7481eaed3efdefcc16dde"
       ],
       "layout": "IPY_MODEL_34ecc4f78d07470fa19122fe3d4a5fe1"
      }
     },
     "0de534b2f0ef4826a4f26b920e813de7": {
      "model_module": "@jupyter-widgets/base",
      "model_module_version": "2.0.0",
      "model_name": "LayoutModel",
      "state": {}
     },
     "0df5a7fcf610479cb7e7cc4b4caa74ac": {
      "model_module": "@jupyter-widgets/controls",
      "model_module_version": "2.0.0",
      "model_name": "VBoxModel",
      "state": {
       "children": [
        "IPY_MODEL_1b2752b9a0c74262bf8835d0b3a703ec",
        "IPY_MODEL_d4b5420a3d8b4b988846e9f54429eced"
       ],
       "layout": "IPY_MODEL_602f56ce9f1d474c8ecc9f6048d1dedc"
      }
     },
     "0dfb06b79f5347d2804765b30d9dad53": {
      "model_module": "@jupyter-widgets/base",
      "model_module_version": "2.0.0",
      "model_name": "LayoutModel",
      "state": {
       "display": "none"
      }
     },
     "0e08e0a9b9074cf6a565612831234288": {
      "model_module": "@jupyter-widgets/controls",
      "model_module_version": "2.0.0",
      "model_name": "LabelModel",
      "state": {
       "layout": "IPY_MODEL_412ba2b1b5c84c8fb66ae3bbe6ee1e6d",
       "style": "IPY_MODEL_830d4ce36efc4387b8b89b8dff0a61ea",
       "value": "nsbatwm.threshold_minimum( image=no_image)"
      }
     },
     "0e2581aaab5749e48de983de8746b445": {
      "model_module": "@jupyter-widgets/controls",
      "model_module_version": "2.0.0",
      "model_name": "DescriptionStyleModel",
      "state": {
       "description_width": ""
      }
     },
     "0e3e3202f96e4486b60e419d1e13f723": {
      "model_module": "@jupyter-widgets/base",
      "model_module_version": "2.0.0",
      "model_name": "LayoutModel",
      "state": {}
     },
     "0e5d536c064f413a8e013d4575a150f9": {
      "model_module": "@jupyter-widgets/controls",
      "model_module_version": "2.0.0",
      "model_name": "VBoxModel",
      "state": {
       "children": [
        "IPY_MODEL_0dbd58ce144b491fad08d2bbd62f60a2",
        "IPY_MODEL_5866e452f4964351bd12d69e3f0d63b1"
       ],
       "layout": "IPY_MODEL_8bd61071f47247b1878fb94a7e1da4ec"
      }
     },
     "0e605a41213f4e3191fead184341bad3": {
      "model_module": "@jupyter-widgets/controls",
      "model_module_version": "2.0.0",
      "model_name": "DescriptionStyleModel",
      "state": {
       "description_width": ""
      }
     },
     "0e629b442a9c4362bc14a84ce7d8277b": {
      "model_module": "@jupyter-widgets/base",
      "model_module_version": "2.0.0",
      "model_name": "LayoutModel",
      "state": {}
     },
     "0e765adddb784bc095e9884932973c29": {
      "model_module": "@jupyter-widgets/controls",
      "model_module_version": "2.0.0",
      "model_name": "CheckboxModel",
      "state": {
       "description": "perimeter",
       "disabled": false,
       "layout": "IPY_MODEL_7acb7e0315a44f4e95572d338927b322",
       "style": "IPY_MODEL_3056667fd42c47be9b6e0116a3f6f26b",
       "value": false
      }
     },
     "0e79756537364ee7a800f49399fdb8c1": {
      "model_module": "@jupyter-widgets/base",
      "model_module_version": "2.0.0",
      "model_name": "LayoutModel",
      "state": {
       "display": "none"
      }
     },
     "0e87a43d9c28462192bd9b39b30924b4": {
      "model_module": "@jupyter-widgets/controls",
      "model_module_version": "2.0.0",
      "model_name": "LabelModel",
      "state": {
       "layout": "IPY_MODEL_053922c1bc47444c94290025ff2af798",
       "style": "IPY_MODEL_4aa5ffaa5ebb40d4878eb222fb902dea",
       "value": "stackview.nop( image=no_image)"
      }
     },
     "0e8eccd47bec4af4ba84c637c8003010": {
      "model_module": "@jupyter-widgets/output",
      "model_module_version": "1.0.0",
      "model_name": "OutputModel",
      "state": {
       "layout": "IPY_MODEL_eea2d8914c2c4cd9aee45b36b0f0b0c9"
      }
     },
     "0ebfca2ee6e74e1bbf0f38f1d07eb07a": {
      "model_module": "@jupyter-widgets/base",
      "model_module_version": "2.0.0",
      "model_name": "LayoutModel",
      "state": {}
     },
     "0edb13721d4a4894808b3ee9be2446ea": {
      "model_module": "@jupyter-widgets/base",
      "model_module_version": "2.0.0",
      "model_name": "LayoutModel",
      "state": {}
     },
     "0f313c1028d741d0966af520936b3e11": {
      "model_module": "@jupyter-widgets/controls",
      "model_module_version": "2.0.0",
      "model_name": "VBoxModel",
      "state": {
       "_dom_classes": [
        "widget-interact"
       ],
       "children": [
        "IPY_MODEL_f5fe4ff7dfb74f1886390fe7071c40f0",
        "IPY_MODEL_c1f091b7a8c94a43ae64582e7ee774bd"
       ],
       "layout": "IPY_MODEL_625ce75ee1e1436fa3243f71d9113d24"
      }
     },
     "0f4e7c7e86ba4b2097b42dae686a21ec": {
      "model_module": "@jupyter-widgets/controls",
      "model_module_version": "2.0.0",
      "model_name": "VBoxModel",
      "state": {
       "children": [
        "IPY_MODEL_e42341d9aaf649a5aafa93a611115f4c",
        "IPY_MODEL_b1719925d33a4825864430a204c2bc78"
       ],
       "layout": "IPY_MODEL_bf2bf58546ea434186c057e889cd201b"
      }
     },
     "0fa805f3c75640359602b0e3c763beca": {
      "model_module": "@jupyter-widgets/output",
      "model_module_version": "1.0.0",
      "model_name": "OutputModel",
      "state": {
       "layout": "IPY_MODEL_7dca77413f6f47cbbfc5da827fafbfe6"
      }
     },
     "0fb9b0a8ea8a418fbdec68e78d396ab7": {
      "model_module": "@jupyter-widgets/controls",
      "model_module_version": "2.0.0",
      "model_name": "SliderStyleModel",
      "state": {
       "description_width": ""
      }
     },
     "0fc2ccc835994ebb88d8317f40ba2d4c": {
      "model_module": "@jupyter-widgets/base",
      "model_module_version": "2.0.0",
      "model_name": "LayoutModel",
      "state": {}
     },
     "0ffecd09278f4e738bda8243410a6444": {
      "model_module": "@jupyter-widgets/controls",
      "model_module_version": "2.0.0",
      "model_name": "FloatSliderModel",
      "state": {
       "behavior": "drag-tap",
       "description": "low_sigma",
       "layout": "IPY_MODEL_344cde7c1d474507ac08f80640218773",
       "max": 25,
       "style": "IPY_MODEL_cedc180703144ef7bf94a9244d918b98"
      }
     },
     "1011219e029544ce9ce9baaf2e101f69": {
      "model_module": "@jupyter-widgets/controls",
      "model_module_version": "2.0.0",
      "model_name": "DescriptionStyleModel",
      "state": {
       "description_width": ""
      }
     },
     "102a71d6fe8d4119997803eb5124eb4e": {
      "model_module": "@jupyter-widgets/base",
      "model_module_version": "2.0.0",
      "model_name": "LayoutModel",
      "state": {
       "display": "none"
      }
     },
     "1032e14dea94466ea7593073bc0d1655": {
      "model_module": "@jupyter-widgets/controls",
      "model_module_version": "2.0.0",
      "model_name": "FloatSliderModel",
      "state": {
       "behavior": "drag-tap",
       "description": "factor1",
       "layout": "IPY_MODEL_2893db005d7744f39f3591d5aaddc9da",
       "style": "IPY_MODEL_2cdfff77114541958376a9bcbd9f6653",
       "value": 1
      }
     },
     "1093d697633e4c77b5df75bf91cbbda2": {
      "model_module": "@jupyter-widgets/controls",
      "model_module_version": "2.0.0",
      "model_name": "LabelModel",
      "state": {
       "layout": "IPY_MODEL_5f98380e77da468499de7ef723a7a4a1",
       "style": "IPY_MODEL_a86c7fc3aa3a45429758ca50490b1839",
       "value": "nsitk.rescale_intensity( image=no_image, output_minimum=0.0, output_maximum=1.0)"
      }
     },
     "10cde7cda7a44b15875cbe0b6174164c": {
      "model_module": "@jupyter-widgets/base",
      "model_module_version": "2.0.0",
      "model_name": "LayoutModel",
      "state": {}
     },
     "10db0bfbe3b84940800f060cc3b8e84c": {
      "model_module": "@jupyter-widgets/output",
      "model_module_version": "1.0.0",
      "model_name": "OutputModel",
      "state": {
       "layout": "IPY_MODEL_d86fdb8c7675425f8d4bf2d33aea237c"
      }
     },
     "10e07e3223fa4cf59156bf4d6d6d5f6a": {
      "model_module": "@jupyter-widgets/controls",
      "model_module_version": "2.0.0",
      "model_name": "DescriptionStyleModel",
      "state": {
       "description_width": ""
      }
     },
     "10ec5329ba654a6999fae20d48b47962": {
      "model_module": "@jupyter-widgets/controls",
      "model_module_version": "2.0.0",
      "model_name": "VBoxModel",
      "state": {
       "_dom_classes": [
        "widget-interact"
       ],
       "children": [
        "IPY_MODEL_3bb6c2a25e2548ac8501a5490ca6fd7c",
        "IPY_MODEL_81b978f51c7a44f3b730a18b228da492",
        "IPY_MODEL_d2e57a13dfcc43ca8458ef57283134cc"
       ],
       "layout": "IPY_MODEL_cde01ce7397a416994b90b8469ac95c3"
      }
     },
     "11491717b6f6490e81f84274b254ab08": {
      "model_module": "@jupyter-widgets/controls",
      "model_module_version": "2.0.0",
      "model_name": "IntSliderModel",
      "state": {
       "behavior": "drag-tap",
       "description": "slice_index",
       "layout": "IPY_MODEL_62586f6f49c948f9870c06fa1b6b51bb",
       "style": "IPY_MODEL_a8e8a370f62942ccb29f595cef4af7f6"
      }
     },
     "115c4d35e1a841549476844c8f1dc595": {
      "model_module": "@jupyter-widgets/controls",
      "model_module_version": "2.0.0",
      "model_name": "LabelModel",
      "state": {
       "layout": "IPY_MODEL_d7e78ef806bc4b6e8d02df30d6f0277a",
       "style": "IPY_MODEL_d521dccc4f124ea69b9562fd04ad0be8",
       "value": "nsbatwm.gaussian( image=no_image, sigma=1.0)"
      }
     },
     "11701d979a604a889452e1f0950bf5b0": {
      "model_module": "@jupyter-widgets/controls",
      "model_module_version": "2.0.0",
      "model_name": "LabelModel",
      "state": {
       "layout": "IPY_MODEL_ad7cfaf13ff746aa8669823a1ab7056b",
       "style": "IPY_MODEL_86adfdf458574ddda602bade645e82df",
       "value": "nsitk.richardson_lucy_deconvolution( image=no_image, kernel=no_image, number_of_iterations=10)"
      }
     },
     "119c23864f08481ea08f472a7f5da9c6": {
      "model_module": "@jupyter-widgets/base",
      "model_module_version": "2.0.0",
      "model_name": "LayoutModel",
      "state": {}
     },
     "11b0eed508c1429aa2990564a3478f7c": {
      "model_module": "@jupyter-widgets/controls",
      "model_module_version": "2.0.0",
      "model_name": "VBoxModel",
      "state": {
       "_dom_classes": [
        "widget-interact"
       ],
       "children": [
        "IPY_MODEL_06bf2f828e644981bee69bb5b99090ff",
        "IPY_MODEL_6cbeedf31f964f09a1b5bb625d7bd856",
        "IPY_MODEL_1da4c7be154b4353ba0ed29cd7152452",
        "IPY_MODEL_ae40c580872248cc8c00da461aa63c6d"
       ],
       "layout": "IPY_MODEL_5ea44f35ab2e41cba0124e5e91b484aa"
      }
     },
     "11d4fb2977c147fb9beeda3b821ff5ab": {
      "model_module": "@jupyter-widgets/controls",
      "model_module_version": "2.0.0",
      "model_name": "LabelStyleModel",
      "state": {
       "description_width": "",
       "font_family": "Courier",
       "font_size": null,
       "font_style": null,
       "font_variant": null,
       "font_weight": null,
       "text_color": null,
       "text_decoration": null
      }
     },
     "11e132210eec484982c51df2b97c1191": {
      "model_module": "@jupyter-widgets/base",
      "model_module_version": "2.0.0",
      "model_name": "LayoutModel",
      "state": {
       "display": "none"
      }
     },
     "11fb7b96f1cb438c9586a6cd2579dd1a": {
      "model_module": "@jupyter-widgets/base",
      "model_module_version": "2.0.0",
      "model_name": "LayoutModel",
      "state": {}
     },
     "12001a54d4be412aa17f7e9552b8f39e": {
      "model_module": "@jupyter-widgets/base",
      "model_module_version": "2.0.0",
      "model_name": "LayoutModel",
      "state": {}
     },
     "1238be0b14024a67a1c032aec510c36b": {
      "model_module": "@jupyter-widgets/controls",
      "model_module_version": "2.0.0",
      "model_name": "DropdownModel",
      "state": {
       "_options_labels": [
        "no_image",
        "image1",
        "image2",
        "image3",
        "blobs",
        "binary",
        "labels",
        "dilated_labels"
       ],
       "description": "image",
       "index": 0,
       "layout": "IPY_MODEL_bf82fd16acb24df4af3635894214f7e2",
       "style": "IPY_MODEL_9aedfb500bcb405e85fb1c2b2ab9ee8b"
      }
     },
     "123ce40f27f04bd7818aa3c77362dbb0": {
      "model_module": "@jupyter-widgets/base",
      "model_module_version": "2.0.0",
      "model_name": "LayoutModel",
      "state": {}
     },
     "127884f70f1d49d0935ecadaacfad8a8": {
      "model_module": "@jupyter-widgets/controls",
      "model_module_version": "2.0.0",
      "model_name": "LabelModel",
      "state": {
       "layout": "IPY_MODEL_e57cde4f9c614c619792417abeb0e8bc",
       "style": "IPY_MODEL_e728cf0a13504c34b4b12c22163b1575",
       "value": "skfilters.roberts_pos_diag( image=no_image, mask=no_image)"
      }
     },
     "12a58fa88d69409090f88fbca4ac0c0a": {
      "model_module": "@jupyter-widgets/controls",
      "model_module_version": "2.0.0",
      "model_name": "TextModel",
      "state": {
       "description": "Search",
       "layout": "IPY_MODEL_c2729ff9402a4569afa3395535b9ac4f",
       "placeholder": "Type here to search",
       "style": "IPY_MODEL_165b1404ab7e482d9dffa3ce1a319a02",
       "value": "nuclei"
      }
     },
     "12a8443a16f5483b927e46748b711412": {
      "model_module": "@jupyter-widgets/controls",
      "model_module_version": "2.0.0",
      "model_name": "DropdownModel",
      "state": {
       "_options_labels": [
        "no_image",
        "image1",
        "image2",
        "image3",
        "blobs",
        "binary",
        "labels",
        "dilated_labels"
       ],
       "description": "labels_input",
       "index": 0,
       "layout": "IPY_MODEL_56dfd989012f4642baa12f07c273e24a",
       "style": "IPY_MODEL_d3b5505f47a14ad1ac30aad46baeae49"
      }
     },
     "12b5b26fb8af4555b0e3f2c3e2ac36ea": {
      "model_module": "@jupyter-widgets/controls",
      "model_module_version": "2.0.0",
      "model_name": "LabelModel",
      "state": {
       "layout": "IPY_MODEL_2666c3d81873456c873193a5bac54520",
       "style": "IPY_MODEL_d2b3a936f9d64fd28da9bd19d9f2a6dd",
       "value": "nsbatwm.threshold_isodata( image=no_image)"
      }
     },
     "12e16d9e53a3427896fd804b030b18e5": {
      "model_module": "@jupyter-widgets/controls",
      "model_module_version": "2.0.0",
      "model_name": "DescriptionStyleModel",
      "state": {
       "description_width": ""
      }
     },
     "12e4bf89491a44b7863092b80f54dcd0": {
      "model_module": "@jupyter-widgets/controls",
      "model_module_version": "2.0.0",
      "model_name": "DropdownModel",
      "state": {
       "_options_labels": [
        "no_image",
        "image1",
        "image2",
        "image3",
        "blobs",
        "binary",
        "labels",
        "dilated_labels"
       ],
       "description": "image",
       "index": 0,
       "layout": "IPY_MODEL_efa3ea21a2f14285ac3427bcd957eeef",
       "style": "IPY_MODEL_16f9564d9ee84090ba112e1cd3f7ef19"
      }
     },
     "12f7dbc4acaa43eb8cd42abcbbcf7d56": {
      "model_module": "@jupyter-widgets/base",
      "model_module_version": "2.0.0",
      "model_name": "LayoutModel",
      "state": {}
     },
     "131c999aa7564d6ca47efbacf7466c72": {
      "model_module": "@jupyter-widgets/controls",
      "model_module_version": "2.0.0",
      "model_name": "LabelStyleModel",
      "state": {
       "description_width": "",
       "font_family": "Courier",
       "font_size": null,
       "font_style": null,
       "font_variant": null,
       "font_weight": null,
       "text_color": null,
       "text_decoration": null
      }
     },
     "133cbe761b494d66b5c91c64182ec89b": {
      "model_module": "@jupyter-widgets/base",
      "model_module_version": "2.0.0",
      "model_name": "LayoutModel",
      "state": {}
     },
     "13508b238b654def981c785381cd5334": {
      "model_module": "@jupyter-widgets/controls",
      "model_module_version": "2.0.0",
      "model_name": "SliderStyleModel",
      "state": {
       "description_width": ""
      }
     },
     "13722c0e20744614ad8b0fc1215baf21": {
      "model_module": "@jupyter-widgets/controls",
      "model_module_version": "2.0.0",
      "model_name": "LabelStyleModel",
      "state": {
       "description_width": "",
       "font_family": "Courier",
       "font_size": null,
       "font_style": null,
       "font_variant": null,
       "font_weight": null,
       "text_color": null,
       "text_decoration": null
      }
     },
     "1391dd329a734aed89a7eb4e5b47c8e3": {
      "model_module": "@jupyter-widgets/base",
      "model_module_version": "2.0.0",
      "model_name": "LayoutModel",
      "state": {}
     },
     "13e2649f21bd4b3f9ac263c4a8a58cfd": {
      "model_module": "@jupyter-widgets/controls",
      "model_module_version": "2.0.0",
      "model_name": "DescriptionStyleModel",
      "state": {
       "description_width": ""
      }
     },
     "13e673d43bf34736b8abc5c583fbd474": {
      "model_module": "@jupyter-widgets/controls",
      "model_module_version": "2.0.0",
      "model_name": "DescriptionStyleModel",
      "state": {
       "description_width": ""
      }
     },
     "13f8d834b26f4ad7b851f12cbee370a7": {
      "model_module": "@jupyter-widgets/controls",
      "model_module_version": "2.0.0",
      "model_name": "VBoxModel",
      "state": {
       "children": [
        "IPY_MODEL_9b8293748c8c4da98a409c2c53b559a6",
        "IPY_MODEL_cfbc844e761441ef8c014df80ce9e873"
       ],
       "layout": "IPY_MODEL_f0891691f9ce45169941621d1f7582c9"
      }
     },
     "14172d68541445c490da365474821c87": {
      "model_module": "@jupyter-widgets/controls",
      "model_module_version": "2.0.0",
      "model_name": "DropdownModel",
      "state": {
       "_options_labels": [
        "no_image",
        "image1",
        "image2",
        "image3",
        "blobs",
        "binary",
        "labels",
        "dilated_labels"
       ],
       "description": "image",
       "index": 0,
       "layout": "IPY_MODEL_1b5af976872f4f32bab9c9887af0ca16",
       "style": "IPY_MODEL_316600b600a946acb7182d7ffd3ec685"
      }
     },
     "145f3a565bab497ca7931fe5d846e61c": {
      "model_module": "@jupyter-widgets/base",
      "model_module_version": "2.0.0",
      "model_name": "LayoutModel",
      "state": {}
     },
     "14b96262a95f4ec081fb03dfb93f9d19": {
      "model_module": "@jupyter-widgets/base",
      "model_module_version": "2.0.0",
      "model_name": "LayoutModel",
      "state": {}
     },
     "14c8856e93e34c25b1330e15d371dc0a": {
      "model_module": "@jupyter-widgets/controls",
      "model_module_version": "2.0.0",
      "model_name": "VBoxModel",
      "state": {
       "_dom_classes": [
        "widget-interact"
       ],
       "children": [
        "IPY_MODEL_2dc6375b764d4674a33c62838f72c5a6",
        "IPY_MODEL_3d52528bb39144f8b4a5849a7a9005bc"
       ],
       "layout": "IPY_MODEL_dd04c2c9904c4ca5b318f2ec4a14440e"
      }
     },
     "14da408e7eeb42d1bedce92d061feeea": {
      "model_module": "@jupyter-widgets/base",
      "model_module_version": "2.0.0",
      "model_name": "LayoutModel",
      "state": {}
     },
     "15193e40ccde4e85a4a2783253f4b356": {
      "model_module": "@jupyter-widgets/base",
      "model_module_version": "2.0.0",
      "model_name": "LayoutModel",
      "state": {
       "display": "none"
      }
     },
     "153b7999513545bba3fc3c612801a053": {
      "model_module": "@jupyter-widgets/controls",
      "model_module_version": "2.0.0",
      "model_name": "DescriptionStyleModel",
      "state": {
       "description_width": ""
      }
     },
     "153cf04e31754d6dbf11643f596ea53f": {
      "model_module": "@jupyter-widgets/controls",
      "model_module_version": "2.0.0",
      "model_name": "LabelModel",
      "state": {
       "layout": "IPY_MODEL_c17e6fb29db442dfb4c12a49fefa2174",
       "style": "IPY_MODEL_30218d568dac4cc483a0602558ee0885",
       "value": "nsitk.elongation_map( label_image=no_image)"
      }
     },
     "154e457380134115ab79285779b2844e": {
      "model_module": "@jupyter-widgets/controls",
      "model_module_version": "2.0.0",
      "model_name": "LabelStyleModel",
      "state": {
       "description_width": "",
       "font_family": "Courier",
       "font_size": null,
       "font_style": null,
       "font_variant": null,
       "font_weight": null,
       "text_color": null,
       "text_decoration": null
      }
     },
     "156aa90477ad449a94d6809082b22df6": {
      "model_module": "@jupyter-widgets/base",
      "model_module_version": "2.0.0",
      "model_name": "LayoutModel",
      "state": {}
     },
     "1575e17847694206a7801a94291daff8": {
      "model_module": "@jupyter-widgets/output",
      "model_module_version": "1.0.0",
      "model_name": "OutputModel",
      "state": {
       "layout": "IPY_MODEL_e66123a065314ea58cdc31fd696eb749"
      }
     },
     "157ff185478345e595af40e3a08c35eb": {
      "model_module": "@jupyter-widgets/base",
      "model_module_version": "2.0.0",
      "model_name": "LayoutModel",
      "state": {}
     },
     "159e5e6dcb304cdab7d027e101b53ba0": {
      "model_module": "@jupyter-widgets/base",
      "model_module_version": "2.0.0",
      "model_name": "LayoutModel",
      "state": {}
     },
     "15a31a5e3e464ce5aed44d1d19a9d7e0": {
      "model_module": "@jupyter-widgets/controls",
      "model_module_version": "2.0.0",
      "model_name": "DropdownModel",
      "state": {
       "_options_labels": [
        "no_image",
        "image1",
        "image2",
        "image3",
        "blobs",
        "binary",
        "labels",
        "dilated_labels"
       ],
       "description": "membranes",
       "index": 0,
       "layout": "IPY_MODEL_e5bb90c1e4114fc398a6d37e73b17617",
       "style": "IPY_MODEL_6005efbca0b84071ac39dd1f58b799c2"
      }
     },
     "15d57e43a4004d6c8869127a4f392659": {
      "model_module": "@jupyter-widgets/output",
      "model_module_version": "1.0.0",
      "model_name": "OutputModel",
      "state": {
       "layout": "IPY_MODEL_bdf8b1944438496b80bb13f758bd960e"
      }
     },
     "15e4c16d007342ecb7011e1560d22842": {
      "model_module": "@jupyter-widgets/base",
      "model_module_version": "2.0.0",
      "model_name": "LayoutModel",
      "state": {}
     },
     "16404c9acb0f497996fe13dbb2a76ca0": {
      "model_module": "@jupyter-widgets/controls",
      "model_module_version": "2.0.0",
      "model_name": "DescriptionStyleModel",
      "state": {
       "description_width": ""
      }
     },
     "1647874406454ed08ce6fffb934b0900": {
      "model_module": "@jupyter-widgets/controls",
      "model_module_version": "2.0.0",
      "model_name": "DropdownModel",
      "state": {
       "_options_labels": [
        "no_image",
        "image1",
        "image2",
        "image3",
        "blobs",
        "binary",
        "labels",
        "dilated_labels"
       ],
       "description": "image",
       "index": 0,
       "layout": "IPY_MODEL_49a0496a93d545219ea112fc3e4e45f1",
       "style": "IPY_MODEL_d9cfa07e703944e3988af3836a1b162a"
      }
     },
     "165b1404ab7e482d9dffa3ce1a319a02": {
      "model_module": "@jupyter-widgets/controls",
      "model_module_version": "2.0.0",
      "model_name": "TextStyleModel",
      "state": {
       "description_width": "",
       "font_size": null,
       "text_color": null
      }
     },
     "166b1bbd411f4ae1b2790e045b52adc5": {
      "model_module": "@jupyter-widgets/base",
      "model_module_version": "2.0.0",
      "model_name": "LayoutModel",
      "state": {}
     },
     "1679dcecadb14d828ca527a2210b346b": {
      "model_module": "@jupyter-widgets/base",
      "model_module_version": "2.0.0",
      "model_name": "LayoutModel",
      "state": {}
     },
     "16cb69edd72c4ae290096fedae779996": {
      "model_module": "@jupyter-widgets/base",
      "model_module_version": "2.0.0",
      "model_name": "LayoutModel",
      "state": {}
     },
     "16d60262d1f246caa38f703816646ca8": {
      "model_module": "@jupyter-widgets/controls",
      "model_module_version": "2.0.0",
      "model_name": "VBoxModel",
      "state": {
       "_dom_classes": [
        "widget-interact"
       ],
       "children": [
        "IPY_MODEL_6d1f2dda169e461b86ebcfe64821b2b4",
        "IPY_MODEL_dad5a28841a848179d86d29f94857a13",
        "IPY_MODEL_40a71240115c4412b6fb0779d1e45424"
       ],
       "layout": "IPY_MODEL_206c92cca9a54fe791ab9c2b6808d50d"
      }
     },
     "16e0caa122464d8d937cd9cab79d9767": {
      "model_module": "@jupyter-widgets/controls",
      "model_module_version": "2.0.0",
      "model_name": "VBoxModel",
      "state": {
       "_dom_classes": [
        "widget-interact"
       ],
       "children": [
        "IPY_MODEL_1238be0b14024a67a1c032aec510c36b",
        "IPY_MODEL_092db9ef974a406fbb2ec9d0e5b41d2a"
       ],
       "layout": "IPY_MODEL_7042e9f9f21842289f59007a02068176"
      }
     },
     "16f9564d9ee84090ba112e1cd3f7ef19": {
      "model_module": "@jupyter-widgets/controls",
      "model_module_version": "2.0.0",
      "model_name": "DescriptionStyleModel",
      "state": {
       "description_width": ""
      }
     },
     "17059132123840d6886c351f1450b2ce": {
      "model_module": "@jupyter-widgets/controls",
      "model_module_version": "2.0.0",
      "model_name": "FloatSliderModel",
      "state": {
       "behavior": "drag-tap",
       "description": "sigma",
       "layout": "IPY_MODEL_19911b7041ce435d8bbf1ef893e3aba3",
       "max": 25,
       "style": "IPY_MODEL_3fec2d93c8384455ad0b973ca20a3600",
       "value": 4
      }
     },
     "170afcb70f0e42a68e8374385b7e1571": {
      "model_module": "@jupyter-widgets/controls",
      "model_module_version": "2.0.0",
      "model_name": "LabelStyleModel",
      "state": {
       "description_width": "",
       "font_family": "Courier",
       "font_size": null,
       "font_style": null,
       "font_variant": null,
       "font_weight": null,
       "text_color": null,
       "text_decoration": null
      }
     },
     "170d904aa30644b8bc8f839388fe41ea": {
      "model_module": "@jupyter-widgets/output",
      "model_module_version": "1.0.0",
      "model_name": "OutputModel",
      "state": {
       "layout": "IPY_MODEL_ee9c91d0d23549f6be513fd26c6487e6"
      }
     },
     "171d31865f564b97bf54e471df0c94e3": {
      "model_module": "@jupyter-widgets/controls",
      "model_module_version": "2.0.0",
      "model_name": "VBoxModel",
      "state": {
       "children": [
        "IPY_MODEL_e3c32ad33b194f7f9d62500fe82ad9d8",
        "IPY_MODEL_34b66fb70cf749cdac1b4b1e83d1f881"
       ],
       "layout": "IPY_MODEL_e258da9df8cc4d0f904e1c206c9b1b88"
      }
     },
     "17511b2bc3b7409bb7244e26a3fe94bc": {
      "model_module": "@jupyter-widgets/base",
      "model_module_version": "2.0.0",
      "model_name": "LayoutModel",
      "state": {}
     },
     "17bf2c48d7d049e2b01e9b680f0a888f": {
      "model_module": "@jupyter-widgets/base",
      "model_module_version": "2.0.0",
      "model_name": "LayoutModel",
      "state": {}
     },
     "17c254e2a85445b8b9539d46f8d2d7ce": {
      "model_module": "@jupyter-widgets/controls",
      "model_module_version": "2.0.0",
      "model_name": "DescriptionStyleModel",
      "state": {
       "description_width": ""
      }
     },
     "17f154dd986b4b2087ae448ef05c67f6": {
      "model_module": "@jupyter-widgets/base",
      "model_module_version": "2.0.0",
      "model_name": "LayoutModel",
      "state": {
       "display": "none"
      }
     },
     "17f451c1376c4489aa6a27006959ee75": {
      "model_module": "@jupyter-widgets/controls",
      "model_module_version": "2.0.0",
      "model_name": "DescriptionStyleModel",
      "state": {
       "description_width": ""
      }
     },
     "180653cf80fc4295995efaae6a676aaf": {
      "model_module": "@jupyter-widgets/controls",
      "model_module_version": "2.0.0",
      "model_name": "LabelStyleModel",
      "state": {
       "description_width": "",
       "font_family": "Courier",
       "font_size": null,
       "font_style": null,
       "font_variant": null,
       "font_weight": null,
       "text_color": null,
       "text_decoration": null
      }
     },
     "1826dfd8ccbd44a68ed84b972cdfdaeb": {
      "model_module": "@jupyter-widgets/output",
      "model_module_version": "1.0.0",
      "model_name": "OutputModel",
      "state": {
       "layout": "IPY_MODEL_b660b8a906d249d381dab01d948295a3"
      }
     },
     "182ed62ffc4f42748c1ca9499e2c4d9e": {
      "model_module": "@jupyter-widgets/controls",
      "model_module_version": "2.0.0",
      "model_name": "DropdownModel",
      "state": {
       "_options_labels": [
        "no_image",
        "image1",
        "image2",
        "image3",
        "blobs",
        "binary",
        "labels",
        "dilated_labels"
       ],
       "description": "image",
       "index": 0,
       "layout": "IPY_MODEL_042c01f4cd124c21b6fb26d790d16625",
       "style": "IPY_MODEL_33c400f46a014c5e8049dd7d2686aee3"
      }
     },
     "1841bef3ba774215b1c04ecdfc16e762": {
      "model_module": "@jupyter-widgets/controls",
      "model_module_version": "2.0.0",
      "model_name": "DescriptionStyleModel",
      "state": {
       "description_width": ""
      }
     },
     "1870811b5104428f9ab980b42a9b9198": {
      "model_module": "@jupyter-widgets/controls",
      "model_module_version": "2.0.0",
      "model_name": "VBoxModel",
      "state": {
       "_dom_classes": [
        "widget-interact"
       ],
       "children": [
        "IPY_MODEL_29869e4222814373a73a6812684cf6c4",
        "IPY_MODEL_ea5538324329451184e652dd39c923ce",
        "IPY_MODEL_02ff1fcb20b94893bd5d759d703c2b4e",
        "IPY_MODEL_2f6d26faa0a4411e99171da467c926d6"
       ],
       "layout": "IPY_MODEL_ea3ec6585f63419b8d9d1f9fe8e83492"
      }
     },
     "187b60846c6c44cba4d093758c772232": {
      "model_module": "@jupyter-widgets/base",
      "model_module_version": "2.0.0",
      "model_name": "LayoutModel",
      "state": {}
     },
     "187fec3ee1634becb4961eecec727ee7": {
      "model_module": "@jupyter-widgets/controls",
      "model_module_version": "2.0.0",
      "model_name": "DropdownModel",
      "state": {
       "_options_labels": [
        "no_image",
        "image1",
        "image2",
        "image3",
        "blobs",
        "binary",
        "labels",
        "dilated_labels"
       ],
       "description": "image",
       "index": 0,
       "layout": "IPY_MODEL_3307d39593e14d03a69acb920e2ee93c",
       "style": "IPY_MODEL_00f97cd0fc9c4fe98490a268b2446cd7"
      }
     },
     "1895e49e69db45f19227439a09e160ef": {
      "model_module": "@jupyter-widgets/controls",
      "model_module_version": "2.0.0",
      "model_name": "SliderStyleModel",
      "state": {
       "description_width": ""
      }
     },
     "18a925edb8df4a09b38a807038e1cd4b": {
      "model_module": "@jupyter-widgets/output",
      "model_module_version": "1.0.0",
      "model_name": "OutputModel",
      "state": {
       "layout": "IPY_MODEL_88862c1b334e476c8fbe3eed397e0697"
      }
     },
     "18c60bddf9184b38914b846e693de826": {
      "model_module": "@jupyter-widgets/base",
      "model_module_version": "2.0.0",
      "model_name": "LayoutModel",
      "state": {}
     },
     "18d6373ac5754ad59c08acd7285d5584": {
      "model_module": "@jupyter-widgets/base",
      "model_module_version": "2.0.0",
      "model_name": "LayoutModel",
      "state": {}
     },
     "18f54e7ac15446b580de905d4ebaad88": {
      "model_module": "@jupyter-widgets/controls",
      "model_module_version": "2.0.0",
      "model_name": "LabelStyleModel",
      "state": {
       "description_width": "",
       "font_family": "Courier",
       "font_size": null,
       "font_style": null,
       "font_variant": null,
       "font_weight": null,
       "text_color": null,
       "text_decoration": null
      }
     },
     "192111f0ebec406487921b8e55195914": {
      "model_module": "@jupyter-widgets/base",
      "model_module_version": "2.0.0",
      "model_name": "LayoutModel",
      "state": {
       "display": "none"
      }
     },
     "194b16b3617c4696a72078f387b42efc": {
      "model_module": "@jupyter-widgets/controls",
      "model_module_version": "2.0.0",
      "model_name": "LabelStyleModel",
      "state": {
       "description_width": "",
       "font_family": "Courier",
       "font_size": null,
       "font_style": null,
       "font_variant": null,
       "font_weight": null,
       "text_color": null,
       "text_decoration": null
      }
     },
     "1970e35629be4a94881a77ffa175a260": {
      "model_module": "@jupyter-widgets/controls",
      "model_module_version": "2.0.0",
      "model_name": "DescriptionStyleModel",
      "state": {
       "description_width": ""
      }
     },
     "1979552e343247db899eec71f147b944": {
      "model_module": "@jupyter-widgets/controls",
      "model_module_version": "2.0.0",
      "model_name": "LabelModel",
      "state": {
       "layout": "IPY_MODEL_ee9c17a653eb42dbbcf0a2bc51b12a21",
       "style": "IPY_MODEL_07d2459f9448484ebe1b1bd8c8a5a3ee",
       "value": "skfilters.gabor( image=no_image, sigma_x=0.0, sigma_y=0.0)"
      }
     },
     "198c4b6f9442446a9f2285455c780684": {
      "model_module": "@jupyter-widgets/base",
      "model_module_version": "2.0.0",
      "model_name": "LayoutModel",
      "state": {}
     },
     "19911b7041ce435d8bbf1ef893e3aba3": {
      "model_module": "@jupyter-widgets/base",
      "model_module_version": "2.0.0",
      "model_name": "LayoutModel",
      "state": {}
     },
     "19b6bd6a93404cf29bd51002f10ab9a1": {
      "model_module": "@jupyter-widgets/controls",
      "model_module_version": "2.0.0",
      "model_name": "SliderStyleModel",
      "state": {
       "description_width": ""
      }
     },
     "19d2b3d228af42979018711547458530": {
      "model_module": "@jupyter-widgets/output",
      "model_module_version": "1.0.0",
      "model_name": "OutputModel",
      "state": {
       "layout": "IPY_MODEL_bd11bed69de84ee284475cd20b19d429"
      }
     },
     "19ed1bc3874d491ab2cdd38f80e6fb21": {
      "model_module": "@jupyter-widgets/base",
      "model_module_version": "2.0.0",
      "model_name": "LayoutModel",
      "state": {
       "display": "none"
      }
     },
     "1a4bc6498a8645eea9dc0b6ac9e84b20": {
      "model_module": "@jupyter-widgets/controls",
      "model_module_version": "2.0.0",
      "model_name": "VBoxModel",
      "state": {
       "children": [
        "IPY_MODEL_310affc0bee64e54b722559af474f225",
        "IPY_MODEL_201cc03156d44653a5353d09ac50edca"
       ],
       "layout": "IPY_MODEL_1b6e1a516fe84636b8ac68c44557e7a3"
      }
     },
     "1a5678993e3a4b89af2cfe2c7d6ba087": {
      "model_module": "@jupyter-widgets/controls",
      "model_module_version": "2.0.0",
      "model_name": "VBoxModel",
      "state": {
       "children": [
        "IPY_MODEL_1870811b5104428f9ab980b42a9b9198",
        "IPY_MODEL_1093d697633e4c77b5df75bf91cbbda2"
       ],
       "layout": "IPY_MODEL_17f154dd986b4b2087ae448ef05c67f6"
      }
     },
     "1a6fa65a4d864aada484677a8397b71a": {
      "model_module": "@jupyter-widgets/base",
      "model_module_version": "2.0.0",
      "model_name": "LayoutModel",
      "state": {
       "display": "none"
      }
     },
     "1a84a83e500e459e9a646a26d526127d": {
      "model_module": "@jupyter-widgets/controls",
      "model_module_version": "2.0.0",
      "model_name": "SliderStyleModel",
      "state": {
       "description_width": ""
      }
     },
     "1a8c37ce1b844c9bbecc125402b93240": {
      "model_module": "@jupyter-widgets/base",
      "model_module_version": "2.0.0",
      "model_name": "LayoutModel",
      "state": {}
     },
     "1b0fededbf474cb58ed891f3a2b341c1": {
      "model_module": "@jupyter-widgets/controls",
      "model_module_version": "2.0.0",
      "model_name": "VBoxModel",
      "state": {
       "_dom_classes": [
        "widget-interact"
       ],
       "children": [
        "IPY_MODEL_93bf015f517c44dc8ba83ad954ebe870",
        "IPY_MODEL_e01517feda9a497c8b8914f486431718"
       ],
       "layout": "IPY_MODEL_0a1808c1d2ec4bb9a02a9ba98037a202"
      }
     },
     "1b2752b9a0c74262bf8835d0b3a703ec": {
      "model_module": "@jupyter-widgets/controls",
      "model_module_version": "2.0.0",
      "model_name": "VBoxModel",
      "state": {
       "_dom_classes": [
        "widget-interact"
       ],
       "children": [
        "IPY_MODEL_75ca87fadb944fdc90ab70d66f72648c",
        "IPY_MODEL_5ee6564d53664dbe920429673c8ee191"
       ],
       "layout": "IPY_MODEL_ad71ca9ce493422985d1e003f24bf36d"
      }
     },
     "1b4027e847c94dc9af35b82fcafac5e8": {
      "model_module": "@jupyter-widgets/controls",
      "model_module_version": "2.0.0",
      "model_name": "DropdownModel",
      "state": {
       "_options_labels": [
        "no_image",
        "image1",
        "image2",
        "image3",
        "blobs",
        "binary",
        "labels",
        "dilated_labels"
       ],
       "description": "image",
       "index": 0,
       "layout": "IPY_MODEL_96eaba95899646efa7005aa5c19ebbb9",
       "style": "IPY_MODEL_c76999de949a42aca42d54631d091f69"
      }
     },
     "1b442f1902be49c9a27453b21d72166f": {
      "model_module": "@jupyter-widgets/base",
      "model_module_version": "2.0.0",
      "model_name": "LayoutModel",
      "state": {}
     },
     "1b48385fb9d440f7917503e5b1160afd": {
      "model_module": "@jupyter-widgets/controls",
      "model_module_version": "2.0.0",
      "model_name": "DescriptionStyleModel",
      "state": {
       "description_width": ""
      }
     },
     "1b5af976872f4f32bab9c9887af0ca16": {
      "model_module": "@jupyter-widgets/base",
      "model_module_version": "2.0.0",
      "model_name": "LayoutModel",
      "state": {}
     },
     "1b6e1a516fe84636b8ac68c44557e7a3": {
      "model_module": "@jupyter-widgets/base",
      "model_module_version": "2.0.0",
      "model_name": "LayoutModel",
      "state": {
       "display": "none"
      }
     },
     "1b8ba9d0e78c485a975144fc3100e1e1": {
      "model_module": "@jupyter-widgets/controls",
      "model_module_version": "2.0.0",
      "model_name": "FloatSliderModel",
      "state": {
       "behavior": "drag-tap",
       "description": "outline_sigma",
       "layout": "IPY_MODEL_988f03e5667e485aa2a948c8d0f517b5",
       "max": 25,
       "style": "IPY_MODEL_b9e0fbc093ac42b1b7a6c40f656631ff",
       "value": 2
      }
     },
     "1be4900a2439409983f5df6e7b5468e0": {
      "model_module": "@jupyter-widgets/controls",
      "model_module_version": "2.0.0",
      "model_name": "LabelModel",
      "state": {
       "layout": "IPY_MODEL_d28c5d98d73a4505b88ca7c1a876b06c",
       "style": "IPY_MODEL_fcbee5954d1d4c8f900dfba75faacc00",
       "value": "skfilters.meijering( image=no_image, sigmas=0.0)"
      }
     },
     "1c31856514be4c3383d1529a2271b4e1": {
      "model_module": "@jupyter-widgets/controls",
      "model_module_version": "2.0.0",
      "model_name": "CheckboxModel",
      "state": {
       "description": "intensity",
       "disabled": false,
       "layout": "IPY_MODEL_fa3df1558f9f4b03bb2d0b9d61bab0c5",
       "style": "IPY_MODEL_f186c413f24948cd826eb40cc63ca454",
       "value": true
      }
     },
     "1c4835d6a8d04152aa3e43ee5d922cc6": {
      "model_module": "@jupyter-widgets/controls",
      "model_module_version": "2.0.0",
      "model_name": "VBoxModel",
      "state": {
       "children": [
        "IPY_MODEL_aa87b537c6a34e7d95d14f3fe0e603d1",
        "IPY_MODEL_f6b8b76acaca459ca3111ae2618d2c89"
       ],
       "layout": "IPY_MODEL_11e132210eec484982c51df2b97c1191"
      }
     },
     "1c65308038f444f8844d8407dcd6e3e5": {
      "model_module": "@jupyter-widgets/controls",
      "model_module_version": "2.0.0",
      "model_name": "VBoxModel",
      "state": {
       "children": [
        "IPY_MODEL_e9bb5b7bd0384d278c21dde80cba8f41",
        "IPY_MODEL_09aab0912ebf4467879f3d313a183fb3"
       ],
       "layout": "IPY_MODEL_72de4b6e0d40458ab52c619be082c5a3"
      }
     },
     "1c70e0b4d7954b3984a8aba93644a4fa": {
      "model_module": "@jupyter-widgets/controls",
      "model_module_version": "2.0.0",
      "model_name": "LabelStyleModel",
      "state": {
       "description_width": "",
       "font_family": "Courier",
       "font_size": null,
       "font_style": null,
       "font_variant": null,
       "font_weight": null,
       "text_color": null,
       "text_decoration": null
      }
     },
     "1c90656a0ef6406cacaff668c9c026dc": {
      "model_module": "@jupyter-widgets/controls",
      "model_module_version": "2.0.0",
      "model_name": "LabelStyleModel",
      "state": {
       "description_width": "",
       "font_family": "Courier",
       "font_size": null,
       "font_style": null,
       "font_variant": null,
       "font_weight": null,
       "text_color": null,
       "text_decoration": null
      }
     },
     "1c978fce9bd34f22931f46f8f9a5fd78": {
      "model_module": "@jupyter-widgets/controls",
      "model_module_version": "2.0.0",
      "model_name": "DropdownModel",
      "state": {
       "_options_labels": [
        "no_image",
        "image1",
        "image2",
        "image3",
        "blobs",
        "binary",
        "labels",
        "dilated_labels"
       ],
       "description": "mask",
       "index": 0,
       "layout": "IPY_MODEL_938c2de1245145d8b4199a5167d68059",
       "style": "IPY_MODEL_8d73699486a948c99a9bcf282c0198c6"
      }
     },
     "1cee045df996490698cdb63683e0f9a5": {
      "model_module": "@jupyter-widgets/base",
      "model_module_version": "2.0.0",
      "model_name": "LayoutModel",
      "state": {}
     },
     "1cf423528dfa46de99dc6a864d1cc766": {
      "model_module": "@jupyter-widgets/base",
      "model_module_version": "2.0.0",
      "model_name": "LayoutModel",
      "state": {}
     },
     "1cf4e32f249e451c94c7d651673fbc95": {
      "model_module": "@jupyter-widgets/base",
      "model_module_version": "2.0.0",
      "model_name": "LayoutModel",
      "state": {}
     },
     "1d2320031f50466288b3f147a3d22b1e": {
      "model_module": "@jupyter-widgets/base",
      "model_module_version": "2.0.0",
      "model_name": "LayoutModel",
      "state": {
       "display": "none"
      }
     },
     "1d4a6a1adc0e44a09bbabb8aa9be435a": {
      "model_module": "@jupyter-widgets/controls",
      "model_module_version": "2.0.0",
      "model_name": "HTMLStyleModel",
      "state": {
       "description_width": "",
       "font_size": null,
       "text_color": null
      }
     },
     "1d720f6da61c4e5c8cc352d7ef538788": {
      "model_module": "@jupyter-widgets/base",
      "model_module_version": "2.0.0",
      "model_name": "LayoutModel",
      "state": {}
     },
     "1da4c7be154b4353ba0ed29cd7152452": {
      "model_module": "@jupyter-widgets/controls",
      "model_module_version": "2.0.0",
      "model_name": "FloatSliderModel",
      "state": {
       "behavior": "drag-tap",
       "description": "sigma_y",
       "layout": "IPY_MODEL_c531cc7080aa4c90a2e2f4bd8812bff7",
       "max": 25,
       "style": "IPY_MODEL_0149c42319bc467a99e570d9199e6d39"
      }
     },
     "1dc01fc851944c58b5dce097dacd4e7c": {
      "model_module": "@jupyter-widgets/base",
      "model_module_version": "2.0.0",
      "model_name": "LayoutModel",
      "state": {}
     },
     "1dc2839cf9e2445fbe63c455d4649a1c": {
      "model_module": "@jupyter-widgets/base",
      "model_module_version": "2.0.0",
      "model_name": "LayoutModel",
      "state": {}
     },
     "1e189163c37f445bb200b6b36c6bda0c": {
      "model_module": "@jupyter-widgets/base",
      "model_module_version": "2.0.0",
      "model_name": "LayoutModel",
      "state": {}
     },
     "1e3ed00a3c054c148895f75e61d7530b": {
      "model_module": "@jupyter-widgets/base",
      "model_module_version": "2.0.0",
      "model_name": "LayoutModel",
      "state": {
       "display": "none"
      }
     },
     "1e58b447290d45d39166bb9a0dfae88a": {
      "model_module": "@jupyter-widgets/controls",
      "model_module_version": "2.0.0",
      "model_name": "IntSliderModel",
      "state": {
       "behavior": "drag-tap",
       "description": "grid_size_z",
       "layout": "IPY_MODEL_5d1cd85f6a4f4badbb669d55fb639cca",
       "style": "IPY_MODEL_d483658f313340a7b5f603d054eb38e2",
       "value": 50
      }
     },
     "1ea100c96c724670b936e0a5b1e05fff": {
      "model_module": "@jupyter-widgets/base",
      "model_module_version": "2.0.0",
      "model_name": "LayoutModel",
      "state": {
       "display": "none"
      }
     },
     "1ef9c106100a48019626a83153240c87": {
      "model_module": "@jupyter-widgets/base",
      "model_module_version": "2.0.0",
      "model_name": "LayoutModel",
      "state": {}
     },
     "1f37fda8f3c84e36b43eb429facffb18": {
      "model_module": "@jupyter-widgets/controls",
      "model_module_version": "2.0.0",
      "model_name": "LabelStyleModel",
      "state": {
       "description_width": "",
       "font_family": "Courier",
       "font_size": null,
       "font_style": null,
       "font_variant": null,
       "font_weight": null,
       "text_color": null,
       "text_decoration": null
      }
     },
     "1f440d6aee2f44368838ba50b0942bb9": {
      "model_module": "@jupyter-widgets/base",
      "model_module_version": "2.0.0",
      "model_name": "LayoutModel",
      "state": {}
     },
     "1f52256292de4986b185da377769b51c": {
      "model_module": "@jupyter-widgets/controls",
      "model_module_version": "2.0.0",
      "model_name": "LabelStyleModel",
      "state": {
       "description_width": "",
       "font_family": "Courier",
       "font_size": null,
       "font_style": null,
       "font_variant": null,
       "font_weight": null,
       "text_color": null,
       "text_decoration": null
      }
     },
     "1f84ac96f57147b7b864421da569fca5": {
      "model_module": "@jupyter-widgets/output",
      "model_module_version": "1.0.0",
      "model_name": "OutputModel",
      "state": {
       "layout": "IPY_MODEL_2dc3fc1807794f498cb982ea734fd4dd"
      }
     },
     "1f995cc83e974b3599e5b4eede0fe98d": {
      "model_module": "@jupyter-widgets/controls",
      "model_module_version": "2.0.0",
      "model_name": "DescriptionStyleModel",
      "state": {
       "description_width": ""
      }
     },
     "1f9a0243a3044c6891d352ee0e6d30a5": {
      "model_module": "@jupyter-widgets/controls",
      "model_module_version": "2.0.0",
      "model_name": "LabelModel",
      "state": {
       "layout": "IPY_MODEL_14da408e7eeb42d1bedce92d061feeea",
       "style": "IPY_MODEL_11d4fb2977c147fb9beeda3b821ff5ab",
       "value": "dilate_labels( labeling_source=labels, radius=0)"
      }
     },
     "1fc0229bf0a6468cb2ea87714ac7eafb": {
      "model_module": "@jupyter-widgets/base",
      "model_module_version": "2.0.0",
      "model_name": "LayoutModel",
      "state": {
       "display": "none"
      }
     },
     "1fc126662d484b75abcc13d332425d2d": {
      "model_module": "@jupyter-widgets/base",
      "model_module_version": "2.0.0",
      "model_name": "LayoutModel",
      "state": {}
     },
     "1fcf1b6d6d0544eeb977bda6c6761184": {
      "model_module": "@jupyter-widgets/base",
      "model_module_version": "2.0.0",
      "model_name": "LayoutModel",
      "state": {}
     },
     "201cc03156d44653a5353d09ac50edca": {
      "model_module": "@jupyter-widgets/controls",
      "model_module_version": "2.0.0",
      "model_name": "LabelModel",
      "state": {
       "layout": "IPY_MODEL_a2f7d26d91af445a9f5bb2ff0a1f5a72",
       "style": "IPY_MODEL_1f37fda8f3c84e36b43eb429facffb18",
       "value": "skfilters.correlate_sparse( image=no_image)"
      }
     },
     "2045265efde64332ae7afe8648967b65": {
      "model_module": "@jupyter-widgets/controls",
      "model_module_version": "2.0.0",
      "model_name": "CheckboxStyleModel",
      "state": {
       "description_width": ""
      }
     },
     "2048d17e372c4c11a1be9dc4f0d970a8": {
      "model_module": "@jupyter-widgets/base",
      "model_module_version": "2.0.0",
      "model_name": "LayoutModel",
      "state": {}
     },
     "2049e6d74c6e45ba8284d81eab44741f": {
      "model_module": "@jupyter-widgets/controls",
      "model_module_version": "2.0.0",
      "model_name": "LabelStyleModel",
      "state": {
       "description_width": "",
       "font_family": "Courier",
       "font_size": null,
       "font_style": null,
       "font_variant": null,
       "font_weight": null,
       "text_color": null,
       "text_decoration": null
      }
     },
     "2057572c991c4eb19ded30b6a6f7e560": {
      "model_module": "@jupyter-widgets/controls",
      "model_module_version": "2.0.0",
      "model_name": "DropdownModel",
      "state": {
       "_options_labels": [
        "no_image",
        "image1",
        "image2",
        "image3",
        "blobs",
        "binary",
        "labels",
        "dilated_labels"
       ],
       "description": "kernel",
       "index": 0,
       "layout": "IPY_MODEL_157ff185478345e595af40e3a08c35eb",
       "style": "IPY_MODEL_516bcb9f8f2242339a8f64d7abdd289d"
      }
     },
     "206c92cca9a54fe791ab9c2b6808d50d": {
      "model_module": "@jupyter-widgets/base",
      "model_module_version": "2.0.0",
      "model_name": "LayoutModel",
      "state": {}
     },
     "207d6484f44f4124a4b8e119b3169398": {
      "model_module": "@jupyter-widgets/controls",
      "model_module_version": "2.0.0",
      "model_name": "DropdownModel",
      "state": {
       "_options_labels": [
        "no_image",
        "image1",
        "image2",
        "image3",
        "blobs",
        "binary",
        "labels",
        "dilated_labels"
       ],
       "description": "image",
       "index": 0,
       "layout": "IPY_MODEL_00e66658bfac43a7a02c8f74f7728268",
       "style": "IPY_MODEL_80c03c66edcf4ed284a1aa26e7308fab"
      }
     },
     "2085414931f24a13957bf65b15b3572c": {
      "model_module": "@jupyter-widgets/base",
      "model_module_version": "2.0.0",
      "model_name": "LayoutModel",
      "state": {}
     },
     "208b855382964e9ab6ece9fcf2f1bb29": {
      "model_module": "@jupyter-widgets/base",
      "model_module_version": "2.0.0",
      "model_name": "LayoutModel",
      "state": {}
     },
     "208d66a4841843488b9d700ee078c01f": {
      "model_module": "@jupyter-widgets/controls",
      "model_module_version": "2.0.0",
      "model_name": "DropdownModel",
      "state": {
       "_options_labels": [
        "no_image",
        "image1",
        "image2",
        "image3",
        "blobs",
        "binary",
        "labels",
        "dilated_labels"
       ],
       "description": "image",
       "index": 0,
       "layout": "IPY_MODEL_c561e9aaea2d4212acb21b1cd27a3ab0",
       "style": "IPY_MODEL_bb134fa5d89c4c5db6f116e0687e679e"
      }
     },
     "2096179d44e64dd2b88221e1f0eb9686": {
      "model_module": "@jupyter-widgets/controls",
      "model_module_version": "2.0.0",
      "model_name": "VBoxModel",
      "state": {
       "children": [
        "IPY_MODEL_af44e9e490de49cc94b6ff53eb17d9af",
        "IPY_MODEL_86c3623d2742491588ff979811164eda"
       ],
       "layout": "IPY_MODEL_618585007e644ee7a0e0ea3e6083b81e"
      }
     },
     "20afe0ac0f31469b8a90991ea5550bee": {
      "model_module": "@jupyter-widgets/output",
      "model_module_version": "1.0.0",
      "model_name": "OutputModel",
      "state": {
       "layout": "IPY_MODEL_36d62449c6a94a179e77ea3ea356540d"
      }
     },
     "20b99f3060834c4881b7cc8a6026eda8": {
      "model_module": "@jupyter-widgets/controls",
      "model_module_version": "2.0.0",
      "model_name": "LabelModel",
      "state": {
       "layout": "IPY_MODEL_2fde643ef1544c658930da3187a39f03",
       "style": "IPY_MODEL_7b69556e088f4cc091d6e3edcc1755cb",
       "value": "skfilters.prewitt_h( image=no_image, mask=no_image)"
      }
     },
     "20d07bc711024c179d81afdde44c3c9a": {
      "model_module": "@jupyter-widgets/controls",
      "model_module_version": "2.0.0",
      "model_name": "LabelModel",
      "state": {
       "layout": "IPY_MODEL_8d7cecd6b1a74b09b2779b1f85378151",
       "style": "IPY_MODEL_b888913a99e54bb4982f17c42b8f0188",
       "value": "skfilters.prewitt_v( image=no_image, mask=no_image)"
      }
     },
     "20dd727a345c40f1a375d79fa12185ff": {
      "model_module": "@jupyter-widgets/controls",
      "model_module_version": "2.0.0",
      "model_name": "DescriptionStyleModel",
      "state": {
       "description_width": ""
      }
     },
     "20f09d93be2d466db0658be49206ba9a": {
      "model_module": "@jupyter-widgets/controls",
      "model_module_version": "2.0.0",
      "model_name": "SliderStyleModel",
      "state": {
       "description_width": ""
      }
     },
     "21073d986697474ea9e283681d3e7033": {
      "model_module": "@jupyter-widgets/controls",
      "model_module_version": "2.0.0",
      "model_name": "DescriptionStyleModel",
      "state": {
       "description_width": ""
      }
     },
     "211362c739884cf0b90483cc60e58628": {
      "model_module": "@jupyter-widgets/controls",
      "model_module_version": "2.0.0",
      "model_name": "DescriptionStyleModel",
      "state": {
       "description_width": ""
      }
     },
     "214d843fe4644addb6deb9022f7c8675": {
      "model_module": "@jupyter-widgets/output",
      "model_module_version": "1.0.0",
      "model_name": "OutputModel",
      "state": {
       "layout": "IPY_MODEL_4bc52cc190e84e9f8e0e4a65d44a3e31"
      }
     },
     "2164bd40d7e048bb84fbbd8c72579345": {
      "model_module": "@jupyter-widgets/controls",
      "model_module_version": "2.0.0",
      "model_name": "DropdownModel",
      "state": {
       "_options_labels": [
        "no_image",
        "image1",
        "image2",
        "image3",
        "blobs",
        "binary",
        "labels",
        "dilated_labels"
       ],
       "description": "image",
       "index": 0,
       "layout": "IPY_MODEL_290fd6d1710c41eb8c6789d5f4320018",
       "style": "IPY_MODEL_211362c739884cf0b90483cc60e58628"
      }
     },
     "216ed596905b41f1b374d521ef7b40d4": {
      "model_module": "@jupyter-widgets/output",
      "model_module_version": "1.0.0",
      "model_name": "OutputModel",
      "state": {
       "layout": "IPY_MODEL_e0a3b6d0229047f692c9a9589f790e9d"
      }
     },
     "21887a03cd4c44b3b82f9b6e403d0f1c": {
      "model_module": "@jupyter-widgets/base",
      "model_module_version": "2.0.0",
      "model_name": "LayoutModel",
      "state": {
       "display": "none"
      }
     },
     "21ac5f65f04d4922bfad7968e1df622f": {
      "model_module": "@jupyter-widgets/controls",
      "model_module_version": "2.0.0",
      "model_name": "SliderStyleModel",
      "state": {
       "description_width": ""
      }
     },
     "21b4e1aeb236483194ea6c099052ef34": {
      "model_module": "@jupyter-widgets/base",
      "model_module_version": "2.0.0",
      "model_name": "LayoutModel",
      "state": {}
     },
     "21c77f3b46e8453fa15c66632197ce0d": {
      "model_module": "@jupyter-widgets/controls",
      "model_module_version": "2.0.0",
      "model_name": "SliderStyleModel",
      "state": {
       "description_width": ""
      }
     },
     "21e62394359e44d19ce6a50b148effc7": {
      "model_module": "@jupyter-widgets/controls",
      "model_module_version": "2.0.0",
      "model_name": "LabelStyleModel",
      "state": {
       "description_width": "",
       "font_family": "Courier",
       "font_size": null,
       "font_style": null,
       "font_variant": null,
       "font_weight": null,
       "text_color": null,
       "text_decoration": null
      }
     },
     "221f00ac915b4a609468c49bd44d9c35": {
      "model_module": "@jupyter-widgets/controls",
      "model_module_version": "2.0.0",
      "model_name": "VBoxModel",
      "state": {
       "children": [
        "IPY_MODEL_11b0eed508c1429aa2990564a3478f7c",
        "IPY_MODEL_1979552e343247db899eec71f147b944"
       ],
       "layout": "IPY_MODEL_bf35d7a892a84078beed92bacc0d95b9"
      }
     },
     "223925dbd4f749589406f19cd97441d7": {
      "model_module": "@jupyter-widgets/output",
      "model_module_version": "1.0.0",
      "model_name": "OutputModel",
      "state": {
       "layout": "IPY_MODEL_55f51eed43a247de897b4dfcc0feb0c8"
      }
     },
     "226e02fdffd14246971e01bbde66e965": {
      "model_module": "@jupyter-widgets/base",
      "model_module_version": "2.0.0",
      "model_name": "LayoutModel",
      "state": {
       "display": "none"
      }
     },
     "22704fa99c764f1795845e070f064c23": {
      "model_module": "@jupyter-widgets/base",
      "model_module_version": "2.0.0",
      "model_name": "LayoutModel",
      "state": {}
     },
     "22772d05c6db47f497464a1f47da7c51": {
      "model_module": "@jupyter-widgets/controls",
      "model_module_version": "2.0.0",
      "model_name": "DescriptionStyleModel",
      "state": {
       "description_width": ""
      }
     },
     "227d75fdae13434dbb46d1fde76596b4": {
      "model_module": "@jupyter-widgets/controls",
      "model_module_version": "2.0.0",
      "model_name": "DescriptionStyleModel",
      "state": {
       "description_width": ""
      }
     },
     "227e30459cb44972972912ec795775f9": {
      "model_module": "@jupyter-widgets/base",
      "model_module_version": "2.0.0",
      "model_name": "LayoutModel",
      "state": {}
     },
     "229dcf3e719948f1810423c146aab502": {
      "model_module": "@jupyter-widgets/controls",
      "model_module_version": "2.0.0",
      "model_name": "LabelModel",
      "state": {
       "layout": "IPY_MODEL_5119160dfba240adad9ab0eb9e782acf",
       "style": "IPY_MODEL_4c1d5c2b08ce40059ba32168e784b8cb",
       "value": "nsbatwm.morphological_gradient( image=no_image, radius=2.0)"
      }
     },
     "22bfff07801b46cea087ffaa6497b078": {
      "model_module": "@jupyter-widgets/base",
      "model_module_version": "2.0.0",
      "model_name": "LayoutModel",
      "state": {}
     },
     "235d1d1370614222b1c855daa9e96dd5": {
      "model_module": "@jupyter-widgets/controls",
      "model_module_version": "2.0.0",
      "model_name": "DescriptionStyleModel",
      "state": {
       "description_width": ""
      }
     },
     "23630418536d4262ab66a18b3269d36d": {
      "model_module": "@jupyter-widgets/base",
      "model_module_version": "2.0.0",
      "model_name": "LayoutModel",
      "state": {}
     },
     "237e5d1912954e869acf132099fc1118": {
      "model_module": "@jupyter-widgets/controls",
      "model_module_version": "2.0.0",
      "model_name": "DropdownModel",
      "state": {
       "_options_labels": [
        "no_image",
        "image1",
        "image2",
        "image3",
        "blobs",
        "binary",
        "labels",
        "dilated_labels"
       ],
       "description": "image",
       "index": 0,
       "layout": "IPY_MODEL_7271c0facd614f179b17140773003f39",
       "style": "IPY_MODEL_e24aa89666934f468d5afc803a22e63a"
      }
     },
     "238c1a699655499dbc5eab13bc24cb99": {
      "model_module": "@jupyter-widgets/controls",
      "model_module_version": "2.0.0",
      "model_name": "LabelStyleModel",
      "state": {
       "description_width": "",
       "font_family": "Courier",
       "font_size": null,
       "font_style": null,
       "font_variant": null,
       "font_weight": null,
       "text_color": null,
       "text_decoration": null
      }
     },
     "239d766d6ee844ad8d1c86083ed2126c": {
      "model_module": "@jupyter-widgets/controls",
      "model_module_version": "2.0.0",
      "model_name": "VBoxModel",
      "state": {
       "_dom_classes": [
        "widget-interact"
       ],
       "children": [
        "IPY_MODEL_8e799d00fa604c8395d6da39bd17bb3c",
        "IPY_MODEL_88e9cc15788545e296480fe1e0cb1a53"
       ],
       "layout": "IPY_MODEL_0ca80f38a79046dbbfc688189d545b5f"
      }
     },
     "23a6c4f3b965424ba2a3a77a25f8b1f3": {
      "model_module": "@jupyter-widgets/controls",
      "model_module_version": "2.0.0",
      "model_name": "DescriptionStyleModel",
      "state": {
       "description_width": ""
      }
     },
     "240831c86d454be6a2be9b835e352881": {
      "model_module": "@jupyter-widgets/base",
      "model_module_version": "2.0.0",
      "model_name": "LayoutModel",
      "state": {
       "display": "none"
      }
     },
     "241872d8964b43b88a268362509a58b4": {
      "model_module": "@jupyter-widgets/base",
      "model_module_version": "2.0.0",
      "model_name": "LayoutModel",
      "state": {}
     },
     "242949c69503451bb9eba42e7df4a786": {
      "model_module": "@jupyter-widgets/base",
      "model_module_version": "2.0.0",
      "model_name": "LayoutModel",
      "state": {
       "display": "none"
      }
     },
     "243186b4713b43789144895749114334": {
      "model_module": "@jupyter-widgets/base",
      "model_module_version": "2.0.0",
      "model_name": "LayoutModel",
      "state": {}
     },
     "244ded81412f4f49ab16a37fbd2d0c6b": {
      "model_module": "@jupyter-widgets/base",
      "model_module_version": "2.0.0",
      "model_name": "LayoutModel",
      "state": {}
     },
     "24c6b9bb5b0d4a549c35553100850be1": {
      "model_module": "@jupyter-widgets/base",
      "model_module_version": "2.0.0",
      "model_name": "LayoutModel",
      "state": {}
     },
     "2523bf12ee6a43a3b25fab97c4c1f31b": {
      "model_module": "@jupyter-widgets/base",
      "model_module_version": "2.0.0",
      "model_name": "LayoutModel",
      "state": {}
     },
     "253fda148c68442abdfcd4bf51fd34a1": {
      "model_module": "@jupyter-widgets/controls",
      "model_module_version": "2.0.0",
      "model_name": "DescriptionStyleModel",
      "state": {
       "description_width": ""
      }
     },
     "25401f7ba7ff4f27a3e7d6cecfa09621": {
      "model_module": "@jupyter-widgets/base",
      "model_module_version": "2.0.0",
      "model_name": "LayoutModel",
      "state": {}
     },
     "255698dfc6b04a95a23c6a59ae92e1a2": {
      "model_module": "@jupyter-widgets/controls",
      "model_module_version": "2.0.0",
      "model_name": "SliderStyleModel",
      "state": {
       "description_width": ""
      }
     },
     "257ab712eae14836816d5c12b0f8e2f5": {
      "model_module": "@jupyter-widgets/controls",
      "model_module_version": "2.0.0",
      "model_name": "LabelStyleModel",
      "state": {
       "description_width": "",
       "font_family": "Courier",
       "font_size": null,
       "font_style": null,
       "font_variant": null,
       "font_weight": null,
       "text_color": null,
       "text_decoration": null
      }
     },
     "259e21cb7f504dd39638f09a81a0ed07": {
      "model_module": "@jupyter-widgets/base",
      "model_module_version": "2.0.0",
      "model_name": "LayoutModel",
      "state": {}
     },
     "25a65602436e4d30805d906418a28f70": {
      "model_module": "@jupyter-widgets/base",
      "model_module_version": "2.0.0",
      "model_name": "LayoutModel",
      "state": {
       "display": "none"
      }
     },
     "25cb2ca6c1104afdb7926ef07dbabef3": {
      "model_module": "@jupyter-widgets/output",
      "model_module_version": "1.0.0",
      "model_name": "OutputModel",
      "state": {
       "layout": "IPY_MODEL_166b1bbd411f4ae1b2790e045b52adc5"
      }
     },
     "25ed2b23270d4a5ca9548b1307b1b981": {
      "model_module": "@jupyter-widgets/base",
      "model_module_version": "2.0.0",
      "model_name": "LayoutModel",
      "state": {}
     },
     "25f7ddfdeaea4e9c8201e4c4edc87d62": {
      "model_module": "@jupyter-widgets/base",
      "model_module_version": "2.0.0",
      "model_name": "LayoutModel",
      "state": {}
     },
     "25fb62defece4da0a05a516d9342104b": {
      "model_module": "@jupyter-widgets/base",
      "model_module_version": "2.0.0",
      "model_name": "LayoutModel",
      "state": {
       "display": "none"
      }
     },
     "2615a122f9f14b9db62e97485392146f": {
      "model_module": "@jupyter-widgets/controls",
      "model_module_version": "2.0.0",
      "model_name": "DescriptionStyleModel",
      "state": {
       "description_width": ""
      }
     },
     "263dae16b55f4d0aac58ab4798f1deaa": {
      "model_module": "@jupyter-widgets/controls",
      "model_module_version": "2.0.0",
      "model_name": "LabelModel",
      "state": {
       "layout": "IPY_MODEL_47e64feab50a43afa81082867e202d43",
       "style": "IPY_MODEL_09db42fb49a64236ae2e24d92d7a40f9",
       "value": "nsbatwm.remove_labels_on_edges( label_image=no_image)"
      }
     },
     "26438fd45f4343c4ac6dc0d1a2f0878a": {
      "model_module": "@jupyter-widgets/base",
      "model_module_version": "2.0.0",
      "model_name": "LayoutModel",
      "state": {}
     },
     "264deeb81de440c8ac375e86754c8bb8": {
      "model_module": "@jupyter-widgets/output",
      "model_module_version": "1.0.0",
      "model_name": "OutputModel",
      "state": {
       "layout": "IPY_MODEL_6dfeb6847a9f47d69c420b6758d39bb7"
      }
     },
     "26606277e1c84a3ea294ceb9c5a4c4b9": {
      "model_module": "@jupyter-widgets/base",
      "model_module_version": "2.0.0",
      "model_name": "LayoutModel",
      "state": {}
     },
     "26650a40a11c403ca0d8350bbbcc75eb": {
      "model_module": "@jupyter-widgets/controls",
      "model_module_version": "2.0.0",
      "model_name": "LabelModel",
      "state": {
       "layout": "IPY_MODEL_9ef81f6cfe304f69849580b8a9d693ab",
       "style": "IPY_MODEL_b5e242e8899840d4b522ac014953da47",
       "value": "nsitk.threshold_moments( image=no_image)"
      }
     },
     "2666c3d81873456c873193a5bac54520": {
      "model_module": "@jupyter-widgets/base",
      "model_module_version": "2.0.0",
      "model_name": "LayoutModel",
      "state": {}
     },
     "2680b31882904178847380d078c4435d": {
      "model_module": "@jupyter-widgets/controls",
      "model_module_version": "2.0.0",
      "model_name": "SliderStyleModel",
      "state": {
       "description_width": ""
      }
     },
     "26af30370f1e438c9a455d39fe7d0f5d": {
      "model_module": "@jupyter-widgets/controls",
      "model_module_version": "2.0.0",
      "model_name": "SliderStyleModel",
      "state": {
       "description_width": ""
      }
     },
     "26d3033289f24da58baf30fac4ab5c4e": {
      "model_module": "@jupyter-widgets/output",
      "model_module_version": "1.0.0",
      "model_name": "OutputModel",
      "state": {
       "layout": "IPY_MODEL_69247921830f498bb77e136593516a36"
      }
     },
     "26e34214ec9f4a50910731dca4c3015d": {
      "model_module": "@jupyter-widgets/base",
      "model_module_version": "2.0.0",
      "model_name": "LayoutModel",
      "state": {
       "display": "none"
      }
     },
     "2744e572b06e4f9f948dce97b8d21d4a": {
      "model_module": "@jupyter-widgets/controls",
      "model_module_version": "2.0.0",
      "model_name": "LabelModel",
      "state": {
       "layout": "IPY_MODEL_be0b19b8935f4364ab8c15147a211042",
       "style": "IPY_MODEL_543a6fb5e07d4ef68674ec1a89238b2a",
       "value": "nsbatwm.thresholded_local_minima_seeded_watershed( image=no_image, spot_sigma=3.0, outline_sigma=0.0, minimum_intensity=100.0)"
      }
     },
     "274f98b57dce46fea95cf284e1dffc33": {
      "model_module": "@jupyter-widgets/controls",
      "model_module_version": "2.0.0",
      "model_name": "LabelStyleModel",
      "state": {
       "description_width": "",
       "font_family": "Courier",
       "font_size": null,
       "font_style": null,
       "font_variant": null,
       "font_weight": null,
       "text_color": null,
       "text_decoration": null
      }
     },
     "279907606eef4ef4958adfcacc1482a1": {
      "model_module": "@jupyter-widgets/controls",
      "model_module_version": "2.0.0",
      "model_name": "DescriptionStyleModel",
      "state": {
       "description_width": ""
      }
     },
     "27b8ac9ca11249a5a310a2f255f7052c": {
      "model_module": "@jupyter-widgets/base",
      "model_module_version": "2.0.0",
      "model_name": "LayoutModel",
      "state": {}
     },
     "27db7be6e3eb41f896fe64b49cd108dd": {
      "model_module": "@jupyter-widgets/controls",
      "model_module_version": "2.0.0",
      "model_name": "DropdownModel",
      "state": {
       "_options_labels": [
        "no_image",
        "image1",
        "image2",
        "image3",
        "blobs",
        "binary",
        "labels",
        "dilated_labels"
       ],
       "description": "image",
       "index": 0,
       "layout": "IPY_MODEL_5013347415384f37997301e78ea21da4",
       "style": "IPY_MODEL_d15e6a0aa23e4914a9df8295b7af3d56"
      }
     },
     "27e1f6044f2b4227aa81e636f359c7e0": {
      "model_module": "@jupyter-widgets/controls",
      "model_module_version": "2.0.0",
      "model_name": "DescriptionStyleModel",
      "state": {
       "description_width": ""
      }
     },
     "2814323feaaa45a08c85d533cba73b5e": {
      "model_module": "@jupyter-widgets/base",
      "model_module_version": "2.0.0",
      "model_name": "LayoutModel",
      "state": {}
     },
     "284cfaef6bb04cff8414fcf0e3a2378c": {
      "model_module": "@jupyter-widgets/controls",
      "model_module_version": "2.0.0",
      "model_name": "DescriptionStyleModel",
      "state": {
       "description_width": ""
      }
     },
     "288b4ed9e3244023ab3bdfc03acd5a53": {
      "model_module": "@jupyter-widgets/base",
      "model_module_version": "2.0.0",
      "model_name": "LayoutModel",
      "state": {}
     },
     "2893db005d7744f39f3591d5aaddc9da": {
      "model_module": "@jupyter-widgets/base",
      "model_module_version": "2.0.0",
      "model_name": "LayoutModel",
      "state": {}
     },
     "28d704c6016f445b8d7f802b48da2a69": {
      "model_module": "@jupyter-widgets/base",
      "model_module_version": "2.0.0",
      "model_name": "LayoutModel",
      "state": {}
     },
     "290704655cb14aa3bb6d4d43b636c565": {
      "model_module": "@jupyter-widgets/base",
      "model_module_version": "2.0.0",
      "model_name": "LayoutModel",
      "state": {}
     },
     "290fd6d1710c41eb8c6789d5f4320018": {
      "model_module": "@jupyter-widgets/base",
      "model_module_version": "2.0.0",
      "model_name": "LayoutModel",
      "state": {}
     },
     "296985e05a434021bb70725a7289c2a0": {
      "model_module": "@jupyter-widgets/output",
      "model_module_version": "1.0.0",
      "model_name": "OutputModel",
      "state": {
       "layout": "IPY_MODEL_f0a5ca8f91de4bebb583559479213d23"
      }
     },
     "297dd4bcbe34471088ee82edaf99886d": {
      "model_module": "@jupyter-widgets/base",
      "model_module_version": "2.0.0",
      "model_name": "LayoutModel",
      "state": {}
     },
     "29869e4222814373a73a6812684cf6c4": {
      "model_module": "@jupyter-widgets/controls",
      "model_module_version": "2.0.0",
      "model_name": "DropdownModel",
      "state": {
       "_options_labels": [
        "no_image",
        "image1",
        "image2",
        "image3",
        "blobs",
        "binary",
        "labels",
        "dilated_labels"
       ],
       "description": "image",
       "index": 0,
       "layout": "IPY_MODEL_85f597f7e4f340b0a2881593ae911e87",
       "style": "IPY_MODEL_f3be2341bbb145daa524f5c8089f2689"
      }
     },
     "29987cbc3b6e4b26a2dbd98955e0a1bd": {
      "model_module": "@jupyter-widgets/base",
      "model_module_version": "2.0.0",
      "model_name": "LayoutModel",
      "state": {
       "display": "none"
      }
     },
     "29c0922f0bac4d6fb80403b255474806": {
      "model_module": "@jupyter-widgets/controls",
      "model_module_version": "2.0.0",
      "model_name": "LabelStyleModel",
      "state": {
       "description_width": "",
       "font_family": "Courier",
       "font_size": null,
       "font_style": null,
       "font_variant": null,
       "font_weight": null,
       "text_color": null,
       "text_decoration": null
      }
     },
     "29e074eb98314df38108564d1e3b46fd": {
      "model_module": "@jupyter-widgets/controls",
      "model_module_version": "2.0.0",
      "model_name": "DescriptionStyleModel",
      "state": {
       "description_width": ""
      }
     },
     "29e2a3630c4f4bb5ae5f58c79f3a649d": {
      "model_module": "@jupyter-widgets/base",
      "model_module_version": "2.0.0",
      "model_name": "LayoutModel",
      "state": {}
     },
     "2a09fd6d456a4a2b825601ff1fda66d7": {
      "model_module": "@jupyter-widgets/controls",
      "model_module_version": "2.0.0",
      "model_name": "DescriptionStyleModel",
      "state": {
       "description_width": ""
      }
     },
     "2a3fe6533b764ff3a2c81a1c98ea0474": {
      "model_module": "@jupyter-widgets/controls",
      "model_module_version": "2.0.0",
      "model_name": "VBoxModel",
      "state": {
       "_dom_classes": [
        "widget-interact"
       ],
       "children": [
        "IPY_MODEL_f3e58c69a7674fe9a1e29f83e5b02e4d",
        "IPY_MODEL_a19b90c2a64a4338845d028cb4009740",
        "IPY_MODEL_4f9d6b1fcc18451f94fc7bf856654cd8",
        "IPY_MODEL_a412cfdaa6444243b05b874e7fa613b5"
       ],
       "layout": "IPY_MODEL_bcca2c6b179c43b296842bcf8612ca2c"
      }
     },
     "2a4410855e9d4fe4b32fe79d3d428cef": {
      "model_module": "@jupyter-widgets/controls",
      "model_module_version": "2.0.0",
      "model_name": "VBoxModel",
      "state": {
       "_dom_classes": [
        "widget-interact"
       ],
       "children": [
        "IPY_MODEL_9887cd5f80014532b70b47adb47a1ddd",
        "IPY_MODEL_7531e75f852d49ad96619aff9938ebf5",
        "IPY_MODEL_f7184064945048dc9660fa94ee3ac882",
        "IPY_MODEL_47906dddea074eaeb5b7db3f8b0cf5d6",
        "IPY_MODEL_f34ea079fa2545fe8a0fc83e209e9662"
       ],
       "layout": "IPY_MODEL_e24fe2ca271747458c3b76d88fd912c4"
      }
     },
     "2a4bec32de204bb5bff7cb06d3d131e5": {
      "model_module": "@jupyter-widgets/base",
      "model_module_version": "2.0.0",
      "model_name": "LayoutModel",
      "state": {
       "display": "none"
      }
     },
     "2a5e38af93da426b845d506dc95f94c4": {
      "model_module": "@jupyter-widgets/controls",
      "model_module_version": "2.0.0",
      "model_name": "LabelModel",
      "state": {
       "layout": "IPY_MODEL_c2d2e6f5b7584448a9161b96e049a416",
       "style": "IPY_MODEL_41e809770a1443f793dd8db20753c80c",
       "value": "nsbatwm.seeded_watershed_with_mask( membranes=no_image, labeled_nuclei=no_image, mask=no_image)"
      }
     },
     "2a628eaade374ef8a7e9c0c56f49816a": {
      "model_module": "@jupyter-widgets/output",
      "model_module_version": "1.0.0",
      "model_name": "OutputModel",
      "state": {
       "layout": "IPY_MODEL_d17343c9750c43588a95789ad4ba6e28"
      }
     },
     "2a631811c8314eea9b45eb1779fcee0c": {
      "model_module": "@jupyter-widgets/base",
      "model_module_version": "2.0.0",
      "model_name": "LayoutModel",
      "state": {}
     },
     "2a888eabb6a44deb829e81d725252b69": {
      "model_module": "@jupyter-widgets/base",
      "model_module_version": "2.0.0",
      "model_name": "LayoutModel",
      "state": {}
     },
     "2aa1d3ba586342c5a7545ff684b1046f": {
      "model_module": "@jupyter-widgets/base",
      "model_module_version": "2.0.0",
      "model_name": "LayoutModel",
      "state": {}
     },
     "2ab4d51bb0884b0e98ef1b51e4f320e9": {
      "model_module": "@jupyter-widgets/controls",
      "model_module_version": "2.0.0",
      "model_name": "SliderStyleModel",
      "state": {
       "description_width": ""
      }
     },
     "2abb9b5bb3964458ac5617c347f5efa8": {
      "model_module": "@jupyter-widgets/controls",
      "model_module_version": "2.0.0",
      "model_name": "VBoxModel",
      "state": {
       "_dom_classes": [
        "widget-interact"
       ],
       "children": [
        "IPY_MODEL_3c8b9fc56f6246ab9736db3474d0386b",
        "IPY_MODEL_e985349427604f98b88602d64f550536"
       ],
       "layout": "IPY_MODEL_2cbe0fb829c046249bcadf325beb11f1"
      }
     },
     "2aca6fd9508944a0afa57355c3da0655": {
      "model_module": "@jupyter-widgets/controls",
      "model_module_version": "2.0.0",
      "model_name": "SliderStyleModel",
      "state": {
       "description_width": ""
      }
     },
     "2b05a4b5bb764f30b0c1823a7c2e6155": {
      "model_module": "@jupyter-widgets/controls",
      "model_module_version": "2.0.0",
      "model_name": "DropdownModel",
      "state": {
       "_options_labels": [
        "no_image",
        "image1",
        "image2",
        "image3",
        "blobs",
        "binary",
        "labels",
        "dilated_labels"
       ],
       "description": "image",
       "index": 0,
       "layout": "IPY_MODEL_7124049fbf4b476ba8a1f2d8fcad68b4",
       "style": "IPY_MODEL_17f451c1376c4489aa6a27006959ee75"
      }
     },
     "2b14235af0f14573a56bf2c941adf253": {
      "model_module": "@jupyter-widgets/controls",
      "model_module_version": "2.0.0",
      "model_name": "VBoxModel",
      "state": {
       "_dom_classes": [
        "widget-interact"
       ],
       "children": [
        "IPY_MODEL_80da5b071a774be5a0c14873343c8c75",
        "IPY_MODEL_67de8cb5dd97435a9d2b4b23bad832bc",
        "IPY_MODEL_264deeb81de440c8ac375e86754c8bb8"
       ],
       "layout": "IPY_MODEL_8daf1e1e5ddc4a9088cd2207781c6d74"
      }
     },
     "2b1c437da97146cc9e90138d58b8f5ec": {
      "model_module": "@jupyter-widgets/base",
      "model_module_version": "2.0.0",
      "model_name": "LayoutModel",
      "state": {}
     },
     "2b36c05bf23f451786e9c9614313aabc": {
      "model_module": "@jupyter-widgets/controls",
      "model_module_version": "2.0.0",
      "model_name": "LabelStyleModel",
      "state": {
       "description_width": "",
       "font_family": "Courier",
       "font_size": null,
       "font_style": null,
       "font_variant": null,
       "font_weight": null,
       "text_color": null,
       "text_decoration": null
      }
     },
     "2b40c6353e7a4628bd0468ab2f4db2f7": {
      "model_module": "@jupyter-widgets/controls",
      "model_module_version": "2.0.0",
      "model_name": "SliderStyleModel",
      "state": {
       "description_width": ""
      }
     },
     "2b5129b3a6294c75974ccae37e837dce": {
      "model_module": "@jupyter-widgets/controls",
      "model_module_version": "2.0.0",
      "model_name": "CheckboxStyleModel",
      "state": {
       "description_width": ""
      }
     },
     "2b6b46e8246e4780848a30a4b75d8835": {
      "model_module": "@jupyter-widgets/controls",
      "model_module_version": "2.0.0",
      "model_name": "VBoxModel",
      "state": {
       "_dom_classes": [
        "widget-interact"
       ],
       "children": [
        "IPY_MODEL_65edde2b68354332b421745e60149969",
        "IPY_MODEL_7a1fa8070b494fa181bcbb774aa45dcc"
       ],
       "layout": "IPY_MODEL_cdfb8c084e9045b8a0345c861e0d3e95"
      }
     },
     "2b9a541888684cf294a638a5e78c8d1d": {
      "model_module": "@jupyter-widgets/base",
      "model_module_version": "2.0.0",
      "model_name": "LayoutModel",
      "state": {}
     },
     "2ba7a18bc9c041219b01d3140cf8dcca": {
      "model_module": "@jupyter-widgets/controls",
      "model_module_version": "2.0.0",
      "model_name": "DescriptionStyleModel",
      "state": {
       "description_width": ""
      }
     },
     "2bd00a79332d445a98567f7c62168726": {
      "model_module": "@jupyter-widgets/base",
      "model_module_version": "2.0.0",
      "model_name": "LayoutModel",
      "state": {}
     },
     "2c3e286163604fcaad49f2359831e77c": {
      "model_module": "@jupyter-widgets/base",
      "model_module_version": "2.0.0",
      "model_name": "LayoutModel",
      "state": {}
     },
     "2c590fd3deac4be7a9f6e289d7436582": {
      "model_module": "@jupyter-widgets/controls",
      "model_module_version": "2.0.0",
      "model_name": "DropdownModel",
      "state": {
       "_options_labels": [
        "no_image",
        "image1",
        "image2",
        "image3",
        "blobs",
        "binary",
        "labels",
        "dilated_labels"
       ],
       "description": "mask",
       "index": 0,
       "layout": "IPY_MODEL_9244423ca4b64c5fa12a82da044c44e8",
       "style": "IPY_MODEL_7498ec51d39f4eb382a0ba370d527e30"
      }
     },
     "2c5a1f0fe3dc49918107296bf96fb244": {
      "model_module": "@jupyter-widgets/controls",
      "model_module_version": "2.0.0",
      "model_name": "DescriptionStyleModel",
      "state": {
       "description_width": ""
      }
     },
     "2c6461f5e07545b283ddb80f1df8283c": {
      "model_module": "@jupyter-widgets/controls",
      "model_module_version": "2.0.0",
      "model_name": "LabelModel",
      "state": {
       "layout": "IPY_MODEL_8f0ae1467f914a4b99904c5c473afae3",
       "style": "IPY_MODEL_650b7d2fe6d743cfb2a09b39e1a20bb8",
       "value": "nsitk.gaussian_blur( image=no_image, variance_x=1.0, variance_y=1.0, variance_z=0.0)"
      }
     },
     "2c807c5ea3aa45eba236bb1a1c7f1e4c": {
      "model_module": "@jupyter-widgets/output",
      "model_module_version": "1.0.0",
      "model_name": "OutputModel",
      "state": {
       "layout": "IPY_MODEL_25401f7ba7ff4f27a3e7d6cecfa09621"
      }
     },
     "2cabedf2bcd146f28c095413c8331b92": {
      "model_module": "@jupyter-widgets/controls",
      "model_module_version": "2.0.0",
      "model_name": "VBoxModel",
      "state": {
       "_dom_classes": [
        "widget-interact"
       ],
       "children": [
        "IPY_MODEL_00e89fd207714ba88eb80ca81ade833e",
        "IPY_MODEL_6ac1c7eeaee64f4f8c366bd2510c8940",
        "IPY_MODEL_e21ae1a4000740a3a31dc9d0dfb4ca29",
        "IPY_MODEL_5b377c54017b4670b19c6ad4b988c26e",
        "IPY_MODEL_daf422f9f3a94173b04df965e860c3a7"
       ],
       "layout": "IPY_MODEL_dea0a17caafa4acd91e0033a32085195"
      }
     },
     "2cbe0fb829c046249bcadf325beb11f1": {
      "model_module": "@jupyter-widgets/base",
      "model_module_version": "2.0.0",
      "model_name": "LayoutModel",
      "state": {}
     },
     "2cc6e4a71ac24d81a9c955d415ecf45e": {
      "model_module": "@jupyter-widgets/controls",
      "model_module_version": "2.0.0",
      "model_name": "LabelModel",
      "state": {
       "layout": "IPY_MODEL_87f1e6f4b11048c8ab305c2db1e563ef",
       "style": "IPY_MODEL_b88b711c98cf48cabf62c2711197cf57",
       "value": "skfilters.difference_of_gaussians( image=no_image, low_sigma=0.0, high_sigma=0.0)"
      }
     },
     "2cda6570dada4dce90e2b59c98b01832": {
      "model_module": "@jupyter-widgets/base",
      "model_module_version": "2.0.0",
      "model_name": "LayoutModel",
      "state": {
       "display": "none"
      }
     },
     "2cdfff77114541958376a9bcbd9f6653": {
      "model_module": "@jupyter-widgets/controls",
      "model_module_version": "2.0.0",
      "model_name": "SliderStyleModel",
      "state": {
       "description_width": ""
      }
     },
     "2d28347219fd4d1eb5b7a164e670d907": {
      "model_module": "@jupyter-widgets/base",
      "model_module_version": "2.0.0",
      "model_name": "LayoutModel",
      "state": {}
     },
     "2d309e483a9f401582cb2e205b0a363b": {
      "model_module": "@jupyter-widgets/base",
      "model_module_version": "2.0.0",
      "model_name": "LayoutModel",
      "state": {
       "display": "none"
      }
     },
     "2d41b526322a447b8c378ac361bff2d0": {
      "model_module": "@jupyter-widgets/controls",
      "model_module_version": "2.0.0",
      "model_name": "FloatSliderModel",
      "state": {
       "behavior": "drag-tap",
       "description": "spot_sigma",
       "layout": "IPY_MODEL_653252070a514e7e84c833a4feeb5933",
       "max": 25,
       "style": "IPY_MODEL_dd7d8cf1cf45462d9d073a49a48d40e4",
       "value": 2
      }
     },
     "2d5197599a8e43c4b363156c3dbe121a": {
      "model_module": "@jupyter-widgets/controls",
      "model_module_version": "2.0.0",
      "model_name": "SliderStyleModel",
      "state": {
       "description_width": ""
      }
     },
     "2d61a80cacfe43d595813c570c0f6d6f": {
      "model_module": "@jupyter-widgets/controls",
      "model_module_version": "2.0.0",
      "model_name": "LabelModel",
      "state": {
       "layout": "IPY_MODEL_61bb2be247e74838b853c6548d3137e9",
       "style": "IPY_MODEL_d9456211e4174535a009efcd7d18ed95",
       "value": "nsitk.threshold_kittler_illingworth( image=no_image)"
      }
     },
     "2d8bc718edc843ea8109cbcfdc149e43": {
      "model_module": "@jupyter-widgets/controls",
      "model_module_version": "2.0.0",
      "model_name": "SliderStyleModel",
      "state": {
       "description_width": ""
      }
     },
     "2da006a5a5004b72962f2681c0fec4c3": {
      "model_module": "@jupyter-widgets/controls",
      "model_module_version": "2.0.0",
      "model_name": "VBoxModel",
      "state": {
       "children": [
        "IPY_MODEL_bfaa84873c1d45e3b77e676c2dd185fc",
        "IPY_MODEL_f51b41944ae748bb9e575ea03f3908a0"
       ],
       "layout": "IPY_MODEL_498ab00fb6114020aeb6b70af6877300"
      }
     },
     "2dc3fc1807794f498cb982ea734fd4dd": {
      "model_module": "@jupyter-widgets/base",
      "model_module_version": "2.0.0",
      "model_name": "LayoutModel",
      "state": {}
     },
     "2dc6375b764d4674a33c62838f72c5a6": {
      "model_module": "@jupyter-widgets/controls",
      "model_module_version": "2.0.0",
      "model_name": "DropdownModel",
      "state": {
       "_options_labels": [
        "no_image",
        "image1",
        "image2",
        "image3",
        "blobs",
        "binary",
        "labels",
        "dilated_labels"
       ],
       "description": "image",
       "index": 0,
       "layout": "IPY_MODEL_3e3739fa05a44707a0a29c4ff7e59a82",
       "style": "IPY_MODEL_ad73a8c5f0b14fb184d472956be93dc1"
      }
     },
     "2e02e653a8e943c6aae1c179a6425c19": {
      "model_module": "@jupyter-widgets/controls",
      "model_module_version": "2.0.0",
      "model_name": "DropdownModel",
      "state": {
       "_options_labels": [
        "no_image",
        "image1",
        "image2",
        "image3",
        "blobs",
        "binary",
        "labels",
        "dilated_labels"
       ],
       "description": "image",
       "index": 0,
       "layout": "IPY_MODEL_6ae494b3384d41c2896bd61596422bd6",
       "style": "IPY_MODEL_0620d2e3ded142f0a40ba55f2511ec2f"
      }
     },
     "2e1d2ef39af74499948a405ee7929744": {
      "model_module": "@jupyter-widgets/base",
      "model_module_version": "2.0.0",
      "model_name": "LayoutModel",
      "state": {}
     },
     "2e24cfd47f194bebbec532f09e3bef83": {
      "model_module": "@jupyter-widgets/controls",
      "model_module_version": "2.0.0",
      "model_name": "FloatSliderModel",
      "state": {
       "behavior": "drag-tap",
       "description": "sigmas",
       "layout": "IPY_MODEL_ae189f97e8f947f9ba80d36f990ad9f2",
       "max": 25,
       "style": "IPY_MODEL_b9d776ca14fc455097b53537abda66a9"
      }
     },
     "2eaef13bed96425199c723a615b6856a": {
      "model_module": "@jupyter-widgets/base",
      "model_module_version": "2.0.0",
      "model_name": "LayoutModel",
      "state": {
       "display": "none"
      }
     },
     "2edc198d6f224939a966c55ef558e3f6": {
      "model_module": "@jupyter-widgets/base",
      "model_module_version": "2.0.0",
      "model_name": "LayoutModel",
      "state": {}
     },
     "2ee3ae59936a41a59ac41cf87466c164": {
      "model_module": "@jupyter-widgets/controls",
      "model_module_version": "2.0.0",
      "model_name": "DescriptionStyleModel",
      "state": {
       "description_width": ""
      }
     },
     "2f13ba6946ed4a9fa82bcdb402a90317": {
      "model_module": "@jupyter-widgets/base",
      "model_module_version": "2.0.0",
      "model_name": "LayoutModel",
      "state": {}
     },
     "2f2e2750da89436a9b5804232da97294": {
      "model_module": "@jupyter-widgets/controls",
      "model_module_version": "2.0.0",
      "model_name": "VBoxModel",
      "state": {
       "children": [
        "IPY_MODEL_2b6b46e8246e4780848a30a4b75d8835",
        "IPY_MODEL_336b2b8c1aad4b6ea94d61ea969b6787"
       ],
       "layout": "IPY_MODEL_ab8203480fcd4b0cb352f4f9d5ca7be3"
      }
     },
     "2f501989c62742b6b806c6f453afac32": {
      "model_module": "@jupyter-widgets/controls",
      "model_module_version": "2.0.0",
      "model_name": "FloatSliderModel",
      "state": {
       "behavior": "drag-tap",
       "description": "cutoff_frequency_ratio",
       "layout": "IPY_MODEL_db848aa8d4294e72a4a88e292dc1093c",
       "step": null,
       "style": "IPY_MODEL_255698dfc6b04a95a23c6a59ae92e1a2",
       "value": 0.005
      }
     },
     "2f51c882111443ceaa7fbd9b04b831f4": {
      "model_module": "@jupyter-widgets/controls",
      "model_module_version": "2.0.0",
      "model_name": "LabelStyleModel",
      "state": {
       "description_width": "",
       "font_family": "Courier",
       "font_size": null,
       "font_style": null,
       "font_variant": null,
       "font_weight": null,
       "text_color": null,
       "text_decoration": null
      }
     },
     "2f6d26faa0a4411e99171da467c926d6": {
      "model_module": "@jupyter-widgets/output",
      "model_module_version": "1.0.0",
      "model_name": "OutputModel",
      "state": {
       "layout": "IPY_MODEL_2814323feaaa45a08c85d533cba73b5e"
      }
     },
     "2f9c4c9d51e14a64bdb21b2d267fa27e": {
      "model_module": "@jupyter-widgets/base",
      "model_module_version": "2.0.0",
      "model_name": "LayoutModel",
      "state": {}
     },
     "2fde643ef1544c658930da3187a39f03": {
      "model_module": "@jupyter-widgets/base",
      "model_module_version": "2.0.0",
      "model_name": "LayoutModel",
      "state": {}
     },
     "300e92e83cac40418e0ab0ae7422e04b": {
      "model_module": "@jupyter-widgets/base",
      "model_module_version": "2.0.0",
      "model_name": "LayoutModel",
      "state": {}
     },
     "301749be35cd4dfe92e4fe67c8e8e83c": {
      "model_module": "@jupyter-widgets/controls",
      "model_module_version": "2.0.0",
      "model_name": "DescriptionStyleModel",
      "state": {
       "description_width": ""
      }
     },
     "30218d568dac4cc483a0602558ee0885": {
      "model_module": "@jupyter-widgets/controls",
      "model_module_version": "2.0.0",
      "model_name": "LabelStyleModel",
      "state": {
       "description_width": "",
       "font_family": "Courier",
       "font_size": null,
       "font_style": null,
       "font_variant": null,
       "font_weight": null,
       "text_color": null,
       "text_decoration": null
      }
     },
     "30253658476e4b97879646bf16e53f6d": {
      "model_module": "@jupyter-widgets/controls",
      "model_module_version": "2.0.0",
      "model_name": "SliderStyleModel",
      "state": {
       "description_width": ""
      }
     },
     "303e1136affc44948ee5ec4df998c795": {
      "model_module": "@jupyter-widgets/base",
      "model_module_version": "2.0.0",
      "model_name": "LayoutModel",
      "state": {}
     },
     "30480c03a5304651ab714f605162adc9": {
      "model_module": "@jupyter-widgets/controls",
      "model_module_version": "2.0.0",
      "model_name": "VBoxModel",
      "state": {
       "children": [
        "IPY_MODEL_564b50888fc1404587108c6e5a44b8be",
        "IPY_MODEL_b3257625b13d42e6b3f2fd295f384ae7"
       ],
       "layout": "IPY_MODEL_9821f1a27dde46949ee7d658b39ef641"
      }
     },
     "3056667fd42c47be9b6e0116a3f6f26b": {
      "model_module": "@jupyter-widgets/controls",
      "model_module_version": "2.0.0",
      "model_name": "CheckboxStyleModel",
      "state": {
       "description_width": ""
      }
     },
     "3065e9b2fe1d42d5a5a255ce5b09f332": {
      "model_module": "@jupyter-widgets/controls",
      "model_module_version": "2.0.0",
      "model_name": "DropdownModel",
      "state": {
       "_options_labels": [
        "no_image",
        "image1",
        "image2",
        "image3",
        "blobs",
        "binary",
        "labels",
        "dilated_labels"
       ],
       "description": "image",
       "index": 0,
       "layout": "IPY_MODEL_3a3f58a5cfae468885e213c52af4023d",
       "style": "IPY_MODEL_c68d8634019f4f759cb06d2c97bfbf6f"
      }
     },
     "3066543db6564f3194e2cc268fe62fc5": {
      "model_module": "@jupyter-widgets/controls",
      "model_module_version": "2.0.0",
      "model_name": "IntSliderModel",
      "state": {
       "behavior": "drag-tap",
       "description": "label_offset",
       "layout": "IPY_MODEL_1f440d6aee2f44368838ba50b0942bb9",
       "style": "IPY_MODEL_d16564bee6124078a8012f0d72b12d02"
      }
     },
     "306a2aa26be245059ed377d64ea5e255": {
      "model_module": "@jupyter-widgets/controls",
      "model_module_version": "2.0.0",
      "model_name": "VBoxModel",
      "state": {
       "children": [
        "IPY_MODEL_45eaba2ad5414d8aa19784e511dd349d",
        "IPY_MODEL_06629b6afdbe4b13b5750473740b7fc9"
       ],
       "layout": "IPY_MODEL_77b80fcaf518415c96a08dc0e6dde007"
      }
     },
     "306ac88eeb9242b287f24e6d3feacdcf": {
      "model_module": "@jupyter-widgets/controls",
      "model_module_version": "2.0.0",
      "model_name": "DropdownModel",
      "state": {
       "_options_labels": [
        "no_image",
        "image1",
        "image2",
        "image3",
        "blobs",
        "binary",
        "labels",
        "dilated_labels"
       ],
       "description": "image",
       "index": 0,
       "layout": "IPY_MODEL_241872d8964b43b88a268362509a58b4",
       "style": "IPY_MODEL_d3d2f1d0e9914175b03ef40e907d93cc"
      }
     },
     "30b4f103e8a7408083cccef7a68fc21a": {
      "model_module": "@jupyter-widgets/base",
      "model_module_version": "2.0.0",
      "model_name": "LayoutModel",
      "state": {}
     },
     "30bac6088362438eb473d667340fc9ba": {
      "model_module": "@jupyter-widgets/controls",
      "model_module_version": "2.0.0",
      "model_name": "SliderStyleModel",
      "state": {
       "description_width": ""
      }
     },
     "30d942f4d8884d5191a268785e726099": {
      "model_module": "@jupyter-widgets/controls",
      "model_module_version": "2.0.0",
      "model_name": "VBoxModel",
      "state": {
       "_dom_classes": [
        "widget-interact"
       ],
       "children": [
        "IPY_MODEL_34826e94d83b4472b1a9b2c83d9e0d78",
        "IPY_MODEL_e047ab68cc41412b93211e7d62a037db"
       ],
       "layout": "IPY_MODEL_0687970819d54c69aa40a9c064956aea"
      }
     },
     "310affc0bee64e54b722559af474f225": {
      "model_module": "@jupyter-widgets/controls",
      "model_module_version": "2.0.0",
      "model_name": "VBoxModel",
      "state": {
       "_dom_classes": [
        "widget-interact"
       ],
       "children": [
        "IPY_MODEL_187fec3ee1634becb4961eecec727ee7",
        "IPY_MODEL_9b69a809832e49c2a17bb113f7974a71"
       ],
       "layout": "IPY_MODEL_c367e305a1c543bf8212d872a04a6d70"
      }
     },
     "312779f1559e4b3fa25ede4d9912ff63": {
      "model_module": "@jupyter-widgets/controls",
      "model_module_version": "2.0.0",
      "model_name": "VBoxModel",
      "state": {
       "children": [
        "IPY_MODEL_633712438bf24dc0896a33a60e630530",
        "IPY_MODEL_557ce8f1b6fc486cb8e54fc52a1cfac8"
       ],
       "layout": "IPY_MODEL_939f9719a5e746379e75347634c393d5"
      }
     },
     "31420bd0b52c41fb8274a4792a61cf9d": {
      "model_module": "@jupyter-widgets/controls",
      "model_module_version": "2.0.0",
      "model_name": "DropdownModel",
      "state": {
       "_options_labels": [
        "no_image",
        "image1",
        "image2",
        "image3",
        "blobs",
        "binary",
        "labels",
        "dilated_labels"
       ],
       "description": "image",
       "index": 0,
       "layout": "IPY_MODEL_c9bcacd0731a4452a109079c5c3ffd36",
       "style": "IPY_MODEL_8fe296bfbb214392a7387893cb197a1e"
      }
     },
     "3142a30b48e64d8584c8587614dd51b7": {
      "model_module": "@jupyter-widgets/base",
      "model_module_version": "2.0.0",
      "model_name": "LayoutModel",
      "state": {}
     },
     "316600b600a946acb7182d7ffd3ec685": {
      "model_module": "@jupyter-widgets/controls",
      "model_module_version": "2.0.0",
      "model_name": "DescriptionStyleModel",
      "state": {
       "description_width": ""
      }
     },
     "31732a15b25b40b186cce1f032fed76b": {
      "model_module": "@jupyter-widgets/base",
      "model_module_version": "2.0.0",
      "model_name": "LayoutModel",
      "state": {}
     },
     "3193bcd921c74b2a8a3b1f2783406793": {
      "model_module": "@jupyter-widgets/base",
      "model_module_version": "2.0.0",
      "model_name": "LayoutModel",
      "state": {}
     },
     "319d4d5ee80244d28e6efe0c7abe9260": {
      "model_module": "@jupyter-widgets/base",
      "model_module_version": "2.0.0",
      "model_name": "LayoutModel",
      "state": {}
     },
     "31c0c135e95e4c68844a78f2e1685ce2": {
      "model_module": "@jupyter-widgets/controls",
      "model_module_version": "2.0.0",
      "model_name": "VBoxModel",
      "state": {
       "children": [
        "IPY_MODEL_e33133ab16b54544a812fa0aaa87db95",
        "IPY_MODEL_f7db7eaf6b644829a2a8f503f869f46c"
       ],
       "layout": "IPY_MODEL_a6b287077302457f8758e0ad4368972d"
      }
     },
     "324bf07a851847fa9257d4bebc24d791": {
      "model_module": "@jupyter-widgets/controls",
      "model_module_version": "2.0.0",
      "model_name": "VBoxModel",
      "state": {
       "children": [
        "IPY_MODEL_ac91cefdadfc46d1aa2b50e82bb028a7",
        "IPY_MODEL_b877119c456f487cb87dda128dd540b4"
       ],
       "layout": "IPY_MODEL_5219ae47eb06494ab58b05724f50db37"
      }
     },
     "3266203ef12b49e882333d5642676f67": {
      "model_module": "@jupyter-widgets/controls",
      "model_module_version": "2.0.0",
      "model_name": "IntSliderModel",
      "state": {
       "behavior": "drag-tap",
       "description": "grid_size_x",
       "layout": "IPY_MODEL_4dd1b0a523fa42b2aa7e76801c1cc60a",
       "style": "IPY_MODEL_f8c6d2d83bfc4c98bd31f3fa2175fef0",
       "value": 50
      }
     },
     "328e16f897064dc28e6504d38eaf54d6": {
      "model_module": "@jupyter-widgets/controls",
      "model_module_version": "2.0.0",
      "model_name": "DropdownModel",
      "state": {
       "_options_labels": [
        "no_image",
        "image1",
        "image2",
        "image3",
        "blobs",
        "binary",
        "labels",
        "dilated_labels"
       ],
       "description": "image",
       "index": 0,
       "layout": "IPY_MODEL_b0b72669f29143da9088bdd9c69d9877",
       "style": "IPY_MODEL_79ccbbbc73e34d8bb68a75ce269a53c1"
      }
     },
     "32b4ab52ef844dd2ac9c873f89872818": {
      "model_module": "@jupyter-widgets/controls",
      "model_module_version": "2.0.0",
      "model_name": "IntSliderModel",
      "state": {
       "behavior": "drag-tap",
       "description": "number_of_iterations",
       "layout": "IPY_MODEL_95e8f73fe8b4420f8ae829756af4bd35",
       "style": "IPY_MODEL_835ae43f2afc4be19e57ff1b3fe8d375",
       "value": 10
      }
     },
     "32c2f0aa99df4b38871fe84f69d580e0": {
      "model_module": "@jupyter-widgets/controls",
      "model_module_version": "2.0.0",
      "model_name": "LabelModel",
      "state": {
       "layout": "IPY_MODEL_8c7e64376ec042248b6c52df77acc2e4",
       "style": "IPY_MODEL_e49a98fcdafc4af983e9a5a67171543a",
       "value": "nsitk.white_top_hat( image=no_image, radius_x=10, radius_y=10, radius_z=0)"
      }
     },
     "3307d39593e14d03a69acb920e2ee93c": {
      "model_module": "@jupyter-widgets/base",
      "model_module_version": "2.0.0",
      "model_name": "LayoutModel",
      "state": {}
     },
     "3309c52853714804a8fdb3f391036ddf": {
      "model_module": "@jupyter-widgets/base",
      "model_module_version": "2.0.0",
      "model_name": "LayoutModel",
      "state": {
       "display": "none"
      }
     },
     "332411fef68f47bc80bdfa4985dc759e": {
      "model_module": "@jupyter-widgets/base",
      "model_module_version": "2.0.0",
      "model_name": "LayoutModel",
      "state": {
       "display": "none"
      }
     },
     "3359792da8dd40318a8a3c20f0f7300d": {
      "model_module": "@jupyter-widgets/base",
      "model_module_version": "2.0.0",
      "model_name": "LayoutModel",
      "state": {}
     },
     "335dfe7a29d142edac6e3a2796f5b959": {
      "model_module": "@jupyter-widgets/controls",
      "model_module_version": "2.0.0",
      "model_name": "DescriptionStyleModel",
      "state": {
       "description_width": ""
      }
     },
     "33630b298f7d424295737e35b3e6deb4": {
      "model_module": "@jupyter-widgets/controls",
      "model_module_version": "2.0.0",
      "model_name": "SliderStyleModel",
      "state": {
       "description_width": ""
      }
     },
     "336b2b8c1aad4b6ea94d61ea969b6787": {
      "model_module": "@jupyter-widgets/controls",
      "model_module_version": "2.0.0",
      "model_name": "LabelModel",
      "state": {
       "layout": "IPY_MODEL_9c0514a2466143c7afece0b0cfd9ea60",
       "style": "IPY_MODEL_5ea0030020ae4a3181da1b1fe375596b",
       "value": "nsitk.threshold_renyi_entropy( image=no_image)"
      }
     },
     "33794d83eae040bb85f473cdab9da86e": {
      "model_module": "@jupyter-widgets/controls",
      "model_module_version": "2.0.0",
      "model_name": "DescriptionStyleModel",
      "state": {
       "description_width": ""
      }
     },
     "33795d5af668421b9d6c1d4131749539": {
      "model_module": "@jupyter-widgets/base",
      "model_module_version": "2.0.0",
      "model_name": "LayoutModel",
      "state": {
       "display": "none"
      }
     },
     "33bc5a8ae5c84ce288154f8ea136ba16": {
      "model_module": "@jupyter-widgets/base",
      "model_module_version": "2.0.0",
      "model_name": "LayoutModel",
      "state": {
       "display": "none"
      }
     },
     "33c400f46a014c5e8049dd7d2686aee3": {
      "model_module": "@jupyter-widgets/controls",
      "model_module_version": "2.0.0",
      "model_name": "DescriptionStyleModel",
      "state": {
       "description_width": ""
      }
     },
     "33cb804888114300bb2cffea00e17346": {
      "model_module": "@jupyter-widgets/output",
      "model_module_version": "1.0.0",
      "model_name": "OutputModel",
      "state": {
       "layout": "IPY_MODEL_c8c00b56ec1347048f5e2106ab6c4623"
      }
     },
     "341f07fc022944a6996e575b34c06f61": {
      "model_module": "@jupyter-widgets/controls",
      "model_module_version": "2.0.0",
      "model_name": "LabelStyleModel",
      "state": {
       "description_width": "",
       "font_family": "Courier",
       "font_size": null,
       "font_style": null,
       "font_variant": null,
       "font_weight": null,
       "text_color": null,
       "text_decoration": null
      }
     },
     "344cde7c1d474507ac08f80640218773": {
      "model_module": "@jupyter-widgets/base",
      "model_module_version": "2.0.0",
      "model_name": "LayoutModel",
      "state": {}
     },
     "34826e94d83b4472b1a9b2c83d9e0d78": {
      "model_module": "@jupyter-widgets/controls",
      "model_module_version": "2.0.0",
      "model_name": "DropdownModel",
      "state": {
       "_options_labels": [
        "no_image",
        "image1",
        "image2",
        "image3",
        "blobs",
        "binary",
        "labels",
        "dilated_labels"
       ],
       "description": "image",
       "index": 0,
       "layout": "IPY_MODEL_2523bf12ee6a43a3b25fab97c4c1f31b",
       "style": "IPY_MODEL_279907606eef4ef4958adfcacc1482a1"
      }
     },
     "34a14411d34144dc999cedc999491335": {
      "model_module": "@jupyter-widgets/controls",
      "model_module_version": "2.0.0",
      "model_name": "DescriptionStyleModel",
      "state": {
       "description_width": ""
      }
     },
     "34a76d70061c4ff2a74d46c5f185d18e": {
      "model_module": "@jupyter-widgets/controls",
      "model_module_version": "2.0.0",
      "model_name": "VBoxModel",
      "state": {
       "children": [
        "IPY_MODEL_c3f1ac2a0c704f86a24f440132918901",
        "IPY_MODEL_67bea0b4dfec4e0fab1905f22cba8c80"
       ],
       "layout": "IPY_MODEL_e759b809405a433282d325f866a6e8f6"
      }
     },
     "34b66fb70cf749cdac1b4b1e83d1f881": {
      "model_module": "@jupyter-widgets/controls",
      "model_module_version": "2.0.0",
      "model_name": "LabelModel",
      "state": {
       "layout": "IPY_MODEL_c9227f3bcab34a70bca0e4e9ec26c326",
       "style": "IPY_MODEL_c180cab7960d441cb8c60fcfcecc7587",
       "value": "nsitk.laplacian_filter( image=no_image)"
      }
     },
     "34bb5f197bfb4eac9a7df25885c1c034": {
      "model_module": "@jupyter-widgets/controls",
      "model_module_version": "2.0.0",
      "model_name": "LabelModel",
      "state": {
       "layout": "IPY_MODEL_c15b5cb965b64d62b155c49baa37b68e",
       "style": "IPY_MODEL_366f9588631d44f78ec474fb3c5db1ec",
       "value": "skfilters.threshold_minimum( image=no_image)"
      }
     },
     "34c4577491b344ba8ad6e093d137b267": {
      "model_module": "@jupyter-widgets/base",
      "model_module_version": "2.0.0",
      "model_name": "LayoutModel",
      "state": {
       "display": "none"
      }
     },
     "34d570f3d11f48b09a6811c698c5874f": {
      "model_module": "@jupyter-widgets/base",
      "model_module_version": "2.0.0",
      "model_name": "LayoutModel",
      "state": {}
     },
     "34ecc4f78d07470fa19122fe3d4a5fe1": {
      "model_module": "@jupyter-widgets/base",
      "model_module_version": "2.0.0",
      "model_name": "LayoutModel",
      "state": {}
     },
     "351829b3bafc49c096ee12f289e60402": {
      "model_module": "@jupyter-widgets/controls",
      "model_module_version": "2.0.0",
      "model_name": "LabelStyleModel",
      "state": {
       "description_width": "",
       "font_family": "Courier",
       "font_size": null,
       "font_style": null,
       "font_variant": null,
       "font_weight": null,
       "text_color": null,
       "text_decoration": null
      }
     },
     "3545cfae7f3245f8a000d4dd6f7d2886": {
      "model_module": "@jupyter-widgets/controls",
      "model_module_version": "2.0.0",
      "model_name": "DescriptionStyleModel",
      "state": {
       "description_width": ""
      }
     },
     "354e5f465a694dbfb8daadcd257b0686": {
      "model_module": "@jupyter-widgets/base",
      "model_module_version": "2.0.0",
      "model_name": "LayoutModel",
      "state": {}
     },
     "3568425cba304aebad732a2c473e34e3": {
      "model_module": "@jupyter-widgets/controls",
      "model_module_version": "2.0.0",
      "model_name": "DescriptionStyleModel",
      "state": {
       "description_width": ""
      }
     },
     "3581d3730bb848a9a5c47e7bb49c93d2": {
      "model_module": "@jupyter-widgets/controls",
      "model_module_version": "2.0.0",
      "model_name": "SliderStyleModel",
      "state": {
       "description_width": ""
      }
     },
     "35b1e0304c924a769541c8eed9825593": {
      "model_module": "@jupyter-widgets/controls",
      "model_module_version": "2.0.0",
      "model_name": "DropdownModel",
      "state": {
       "_options_labels": [
        "no_image",
        "image1",
        "image2",
        "image3",
        "blobs",
        "binary",
        "labels",
        "dilated_labels"
       ],
       "description": "mask",
       "index": 0,
       "layout": "IPY_MODEL_0b97bbf849114714b01ce1a3d9ffa86b",
       "style": "IPY_MODEL_2615a122f9f14b9db62e97485392146f"
      }
     },
     "361bce9e230f464b9eb2f93e5e3586b2": {
      "model_module": "@jupyter-widgets/controls",
      "model_module_version": "2.0.0",
      "model_name": "LabelModel",
      "state": {
       "layout": "IPY_MODEL_9e6f95bcf5474b7c8f566c76972f12dc",
       "style": "IPY_MODEL_bb40f82b67ed4b1b951d780174e8f6f0",
       "value": "nsbatwm.rolling_ball( image=no_image, radius=100.0)"
      }
     },
     "361f803c603540e9922d58e860e29c62": {
      "model_module": "@jupyter-widgets/controls",
      "model_module_version": "2.0.0",
      "model_name": "FloatSliderModel",
      "state": {
       "behavior": "drag-tap",
       "description": "radius",
       "layout": "IPY_MODEL_c1fb8524c7694480a933cad2ab2b6c64",
       "style": "IPY_MODEL_2680b31882904178847380d078c4435d",
       "value": 2
      }
     },
     "3639a0f9345848a19a063ae279e5c8ab": {
      "model_module": "@jupyter-widgets/controls",
      "model_module_version": "2.0.0",
      "model_name": "VBoxModel",
      "state": {
       "_dom_classes": [
        "widget-interact"
       ],
       "children": [
        "IPY_MODEL_6e2ffc402fba4f69a20edb35a997b6c0",
        "IPY_MODEL_c1f72aa0724043c09217f2d8bade98a5"
       ],
       "layout": "IPY_MODEL_0edb13721d4a4894808b3ee9be2446ea"
      }
     },
     "364f1b94711d433882ef3926f4f8050c": {
      "model_module": "@jupyter-widgets/base",
      "model_module_version": "2.0.0",
      "model_name": "LayoutModel",
      "state": {}
     },
     "366f9588631d44f78ec474fb3c5db1ec": {
      "model_module": "@jupyter-widgets/controls",
      "model_module_version": "2.0.0",
      "model_name": "LabelStyleModel",
      "state": {
       "description_width": "",
       "font_family": "Courier",
       "font_size": null,
       "font_style": null,
       "font_variant": null,
       "font_weight": null,
       "text_color": null,
       "text_decoration": null
      }
     },
     "36d15e9db1d240b18c3337e1118feb9b": {
      "model_module": "@jupyter-widgets/controls",
      "model_module_version": "2.0.0",
      "model_name": "VBoxModel",
      "state": {
       "children": [
        "IPY_MODEL_c5191496620a4094bcf53164e9b6a6e0",
        "IPY_MODEL_744686ef5a574042b5571e3fc09b0cfd"
       ],
       "layout": "IPY_MODEL_905bd8eb9536473c90beb91e2951e75b"
      }
     },
     "36d62449c6a94a179e77ea3ea356540d": {
      "model_module": "@jupyter-widgets/base",
      "model_module_version": "2.0.0",
      "model_name": "LayoutModel",
      "state": {}
     },
     "36ec991c581c4b21b423f1cbb71952b5": {
      "model_module": "@jupyter-widgets/controls",
      "model_module_version": "2.0.0",
      "model_name": "LabelModel",
      "state": {
       "layout": "IPY_MODEL_50943100e68b494db375f9036a44705a",
       "style": "IPY_MODEL_dc31f552564d4456836d66ee27e4970c",
       "value": "nsbatwm.local_minima( image=no_image, footprint=disk(0))"
      }
     },
     "36f70337d49d4068b3ca715cdbf4ee73": {
      "model_module": "@jupyter-widgets/base",
      "model_module_version": "2.0.0",
      "model_name": "LayoutModel",
      "state": {}
     },
     "3724e76c23a3475a86fab07d2f1b5a7f": {
      "model_module": "@jupyter-widgets/output",
      "model_module_version": "1.0.0",
      "model_name": "OutputModel",
      "state": {
       "layout": "IPY_MODEL_c9c468c315a04f4488c547829175f036"
      }
     },
     "374568b88d164b988a9143e45f4f08d8": {
      "model_module": "@jupyter-widgets/controls",
      "model_module_version": "2.0.0",
      "model_name": "LabelModel",
      "state": {
       "layout": "IPY_MODEL_25f7ddfdeaea4e9c8201e4c4edc87d62",
       "style": "IPY_MODEL_0b0cb9890968478eacaeac0d6d6dfedd",
       "value": "skfilters.farid_v( image=no_image, mask=no_image)"
      }
     },
     "377b0a7ac2e240c1a86e5ba777ba9d47": {
      "model_module": "@jupyter-widgets/base",
      "model_module_version": "2.0.0",
      "model_name": "LayoutModel",
      "state": {}
     },
     "3795158922574d2294d41621a5a635af": {
      "model_module": "@jupyter-widgets/base",
      "model_module_version": "2.0.0",
      "model_name": "LayoutModel",
      "state": {}
     },
     "379893c122324fa69e005235f953c911": {
      "model_module": "@jupyter-widgets/controls",
      "model_module_version": "2.0.0",
      "model_name": "DropdownModel",
      "state": {
       "_options_labels": [
        "no_image",
        "image1",
        "image2",
        "image3",
        "blobs",
        "binary",
        "labels",
        "dilated_labels"
       ],
       "description": "image1",
       "index": 0,
       "layout": "IPY_MODEL_e1f5f656afca446babe6dbc73f130ed6",
       "style": "IPY_MODEL_867e46346a9f4ade8ac98654669f70d2"
      }
     },
     "37be10e68a1e4758852a4ca778790076": {
      "model_module": "@jupyter-widgets/base",
      "model_module_version": "2.0.0",
      "model_name": "LayoutModel",
      "state": {}
     },
     "37ca8dffa4b34b86a885c958cb136d80": {
      "model_module": "@jupyter-widgets/controls",
      "model_module_version": "2.0.0",
      "model_name": "DescriptionStyleModel",
      "state": {
       "description_width": ""
      }
     },
     "37dcb85f513144f58746373b1f13913d": {
      "model_module": "@jupyter-widgets/base",
      "model_module_version": "2.0.0",
      "model_name": "LayoutModel",
      "state": {
       "display": "none"
      }
     },
     "37e39ea70bd74898bf4032da47a9b372": {
      "model_module": "@jupyter-widgets/controls",
      "model_module_version": "2.0.0",
      "model_name": "VBoxModel",
      "state": {
       "_dom_classes": [
        "widget-interact"
       ],
       "children": [
        "IPY_MODEL_2164bd40d7e048bb84fbbd8c72579345",
        "IPY_MODEL_71fb0e680d8f476cb1d76191394e726d",
        "IPY_MODEL_7520313de3d349b499cef902e4fdc9c9",
        "IPY_MODEL_dcfb186aceea4d80993531cc13841a8c",
        "IPY_MODEL_57c13ac9e7954de19efd1762902f7661"
       ],
       "layout": "IPY_MODEL_0487c3eda0bc4249ba0473db39c59df1"
      }
     },
     "38311ac6e1e944eebe7e9e4f7980c833": {
      "model_module": "@jupyter-widgets/controls",
      "model_module_version": "2.0.0",
      "model_name": "LabelModel",
      "state": {
       "layout": "IPY_MODEL_d3ca99f431d74b6ba1e0363279aaa441",
       "style": "IPY_MODEL_b231555bd78740eba30ed6850a3313ea",
       "value": "nsbatwm.peak_local_max( image=no_image, footprint=disk(0), labels=no_image, num_peaks_per_label=no_image)"
      }
     },
     "383955b9dd41494382f4f98839279195": {
      "model_module": "@jupyter-widgets/controls",
      "model_module_version": "2.0.0",
      "model_name": "DropdownModel",
      "state": {
       "_options_labels": [
        "no_image",
        "image1",
        "image2",
        "image3",
        "blobs",
        "binary",
        "labels",
        "dilated_labels"
       ],
       "description": "image",
       "index": 0,
       "layout": "IPY_MODEL_3c0bead9ea0a4887931fe71177ee7455",
       "style": "IPY_MODEL_5f9e3faaec38409ebb03dc9c7f1d8266"
      }
     },
     "3844d97472f14be3bb10ff95d9ea9309": {
      "model_module": "@jupyter-widgets/controls",
      "model_module_version": "2.0.0",
      "model_name": "VBoxModel",
      "state": {
       "_dom_classes": [
        "widget-interact"
       ],
       "children": [
        "IPY_MODEL_efc3772cb505494c92d22802dff2b104",
        "IPY_MODEL_e7141a0466a24173b7d4df1d2d21f73c",
        "IPY_MODEL_3066543db6564f3194e2cc268fe62fc5",
        "IPY_MODEL_98e72f27a06245ac93eb089cc29f4c3f",
        "IPY_MODEL_cd31a65cee104434b71f6894e6dc191e"
       ],
       "layout": "IPY_MODEL_7738de3a85c14ceda26cca13eaeb5e13"
      }
     },
     "384be077a9144c8e96a45b4018079a4e": {
      "model_module": "@jupyter-widgets/base",
      "model_module_version": "2.0.0",
      "model_name": "LayoutModel",
      "state": {}
     },
     "384e04c4f67b498499fe7c8e5438e56f": {
      "model_module": "@jupyter-widgets/controls",
      "model_module_version": "2.0.0",
      "model_name": "SliderStyleModel",
      "state": {
       "description_width": ""
      }
     },
     "385569c5cabe418ab211eaa2f2f6e6b5": {
      "model_module": "@jupyter-widgets/controls",
      "model_module_version": "2.0.0",
      "model_name": "VBoxModel",
      "state": {
       "_dom_classes": [
        "widget-interact"
       ],
       "children": [
        "IPY_MODEL_cb77f3cae45448e392e81dd55316568d",
        "IPY_MODEL_223925dbd4f749589406f19cd97441d7"
       ],
       "layout": "IPY_MODEL_a4071491a9ef4da4b9699cde095af6c1"
      }
     },
     "3896ed45d18f4e20b3541466a2dc63ac": {
      "model_module": "@jupyter-widgets/controls",
      "model_module_version": "2.0.0",
      "model_name": "DropdownModel",
      "state": {
       "_options_labels": [
        "no_image",
        "image1",
        "image2",
        "image3",
        "blobs",
        "binary",
        "labels",
        "dilated_labels"
       ],
       "description": "labeled_nuclei",
       "index": 0,
       "layout": "IPY_MODEL_749ebcf3cc4547e1a5b2e3e7fb37bd38",
       "style": "IPY_MODEL_1970e35629be4a94881a77ffa175a260"
      }
     },
     "38a3980a74c747ff9eb2901e08092821": {
      "model_module": "@jupyter-widgets/controls",
      "model_module_version": "2.0.0",
      "model_name": "SliderStyleModel",
      "state": {
       "description_width": ""
      }
     },
     "391adf2794684fa498d18a8a632aed1f": {
      "model_module": "@jupyter-widgets/base",
      "model_module_version": "2.0.0",
      "model_name": "LayoutModel",
      "state": {
       "display": "none"
      }
     },
     "391cba1858e64e29bfd554f9481d7313": {
      "model_module": "@jupyter-widgets/base",
      "model_module_version": "2.0.0",
      "model_name": "LayoutModel",
      "state": {}
     },
     "391f39da9b5246f5a7a6ed3b8e724501": {
      "model_module": "@jupyter-widgets/base",
      "model_module_version": "2.0.0",
      "model_name": "LayoutModel",
      "state": {}
     },
     "39332cb766694ce29ae1ffaccd925f3b": {
      "model_module": "@jupyter-widgets/base",
      "model_module_version": "2.0.0",
      "model_name": "LayoutModel",
      "state": {}
     },
     "393c12131bb746cbb26fcf5ec346a5df": {
      "model_module": "@jupyter-widgets/base",
      "model_module_version": "2.0.0",
      "model_name": "LayoutModel",
      "state": {}
     },
     "39630545578947a4b1797bef977d3185": {
      "model_module": "@jupyter-widgets/controls",
      "model_module_version": "2.0.0",
      "model_name": "VBoxModel",
      "state": {
       "children": [
        "IPY_MODEL_ae2aa5d656674632b48c30a2ef157619",
        "IPY_MODEL_f86214fc1f3f47be9895ef622c6c792a"
       ],
       "layout": "IPY_MODEL_2d309e483a9f401582cb2e205b0a363b"
      }
     },
     "399342e869d947f2bb4ee2b146ff47ab": {
      "model_module": "@jupyter-widgets/output",
      "model_module_version": "1.0.0",
      "model_name": "OutputModel",
      "state": {
       "layout": "IPY_MODEL_288b4ed9e3244023ab3bdfc03acd5a53"
      }
     },
     "39de6769b0ea439e92706db715f16bfa": {
      "model_module": "@jupyter-widgets/base",
      "model_module_version": "2.0.0",
      "model_name": "LayoutModel",
      "state": {}
     },
     "39e6300bdc40435094712dbd614b67f8": {
      "model_module": "@jupyter-widgets/output",
      "model_module_version": "1.0.0",
      "model_name": "OutputModel",
      "state": {
       "layout": "IPY_MODEL_d39462a771fc480690f744a9a1a95e2f"
      }
     },
     "3a27f6d4c89647368363668c60498662": {
      "model_module": "@jupyter-widgets/base",
      "model_module_version": "2.0.0",
      "model_name": "LayoutModel",
      "state": {}
     },
     "3a3f58a5cfae468885e213c52af4023d": {
      "model_module": "@jupyter-widgets/base",
      "model_module_version": "2.0.0",
      "model_name": "LayoutModel",
      "state": {}
     },
     "3a64d1548bcd466a8ced55acb16e4b22": {
      "model_module": "@jupyter-widgets/base",
      "model_module_version": "2.0.0",
      "model_name": "LayoutModel",
      "state": {}
     },
     "3a7a4ddf91f34ba28bb930cfa5668b99": {
      "model_module": "@jupyter-widgets/controls",
      "model_module_version": "2.0.0",
      "model_name": "DropdownModel",
      "state": {
       "_options_labels": [
        "no_image",
        "image1",
        "image2",
        "image3",
        "blobs",
        "binary",
        "labels",
        "dilated_labels"
       ],
       "description": "image",
       "index": 0,
       "layout": "IPY_MODEL_7c3309ff13f54d2b80a84a63d532fdbb",
       "style": "IPY_MODEL_284cfaef6bb04cff8414fcf0e3a2378c"
      }
     },
     "3a9ae7859a3f43278d98fdba154a8e6f": {
      "model_module": "@jupyter-widgets/base",
      "model_module_version": "2.0.0",
      "model_name": "LayoutModel",
      "state": {}
     },
     "3a9f7472e61f4ce8ae47a1a9f9a9828f": {
      "model_module": "@jupyter-widgets/controls",
      "model_module_version": "2.0.0",
      "model_name": "LabelStyleModel",
      "state": {
       "description_width": "",
       "font_family": "Courier",
       "font_size": null,
       "font_style": null,
       "font_variant": null,
       "font_weight": null,
       "text_color": null,
       "text_decoration": null
      }
     },
     "3ab81b0d878f47358ed46e5dc022fd2d": {
      "model_module": "@jupyter-widgets/controls",
      "model_module_version": "2.0.0",
      "model_name": "LabelModel",
      "state": {
       "layout": "IPY_MODEL_9d9db351d13e499c9397ffafd8eccc4f",
       "style": "IPY_MODEL_77a6124509224721ac2046fc9485f3da",
       "value": "nsbatwm.skeletonize( image=no_image)"
      }
     },
     "3adc344f73b24394a172eb4c224ac600": {
      "model_module": "@jupyter-widgets/base",
      "model_module_version": "2.0.0",
      "model_name": "LayoutModel",
      "state": {}
     },
     "3ade58980cc248a3822fbbb38d6a6346": {
      "model_module": "@jupyter-widgets/base",
      "model_module_version": "2.0.0",
      "model_name": "LayoutModel",
      "state": {}
     },
     "3b02dd1071da4a67a2a18e7ca463e76c": {
      "model_module": "@jupyter-widgets/controls",
      "model_module_version": "2.0.0",
      "model_name": "LabelModel",
      "state": {
       "layout": "IPY_MODEL_b47cb4ab2d25435fbfee4c563264fcb2",
       "style": "IPY_MODEL_18f54e7ac15446b580de905d4ebaad88",
       "value": "nsbatwm.binary_invert( binary_image=no_image)"
      }
     },
     "3b0abe30d5b44a28b56acc1c57ee1f6e": {
      "model_module": "@jupyter-widgets/controls",
      "model_module_version": "2.0.0",
      "model_name": "FloatSliderModel",
      "state": {
       "behavior": "drag-tap",
       "description": "beta",
       "layout": "IPY_MODEL_fb7c2e3381c24305a658d3517c2160e4",
       "step": null,
       "style": "IPY_MODEL_ca50fbbccaac46e5816c0e3095a593d3",
       "value": 0.3
      }
     },
     "3b3d8a6e25cf4dfa806e75752e3e2e92": {
      "model_module": "@jupyter-widgets/controls",
      "model_module_version": "2.0.0",
      "model_name": "IntSliderModel",
      "state": {
       "behavior": "drag-tap",
       "description": "footprint",
       "layout": "IPY_MODEL_941e4558bbc744debb246369cb6164f9",
       "style": "IPY_MODEL_00c9e93f9fa74b3f9420bdc1f42485c5"
      }
     },
     "3b4176973fc447a4b0a8f0de8a859a78": {
      "model_module": "@jupyter-widgets/controls",
      "model_module_version": "2.0.0",
      "model_name": "LabelStyleModel",
      "state": {
       "description_width": "",
       "font_family": "Courier",
       "font_size": null,
       "font_style": null,
       "font_variant": null,
       "font_weight": null,
       "text_color": null,
       "text_decoration": null
      }
     },
     "3b75579aa0574ceb87606668801376e6": {
      "model_module": "@jupyter-widgets/controls",
      "model_module_version": "2.0.0",
      "model_name": "VBoxModel",
      "state": {
       "_dom_classes": [
        "widget-interact"
       ],
       "children": [
        "IPY_MODEL_49adb129a1a34072a220ac5116f840df",
        "IPY_MODEL_10db0bfbe3b84940800f060cc3b8e84c"
       ],
       "layout": "IPY_MODEL_886605f310064b5a8c9263219c531a5e"
      }
     },
     "3b8cfbd331b649639d131fc066821139": {
      "model_module": "@jupyter-widgets/controls",
      "model_module_version": "2.0.0",
      "model_name": "SliderStyleModel",
      "state": {
       "description_width": ""
      }
     },
     "3b91d5711c7f4f979866ff756f8498cf": {
      "model_module": "@jupyter-widgets/controls",
      "model_module_version": "2.0.0",
      "model_name": "DropdownModel",
      "state": {
       "_options_labels": [
        "no_image",
        "image1",
        "image2",
        "image3",
        "blobs",
        "binary",
        "labels",
        "dilated_labels"
       ],
       "description": "image1",
       "index": 0,
       "layout": "IPY_MODEL_17bf2c48d7d049e2b01e9b680f0a888f",
       "style": "IPY_MODEL_718524dacc4d4d37af5f826d7266a0ac"
      }
     },
     "3b99e21b5ff7432e8f21d034fcd5091c": {
      "model_module": "@jupyter-widgets/base",
      "model_module_version": "2.0.0",
      "model_name": "LayoutModel",
      "state": {}
     },
     "3bb6c2a25e2548ac8501a5490ca6fd7c": {
      "model_module": "@jupyter-widgets/controls",
      "model_module_version": "2.0.0",
      "model_name": "DropdownModel",
      "state": {
       "_options_labels": [
        "no_image",
        "image1",
        "image2",
        "image3",
        "blobs",
        "binary",
        "labels",
        "dilated_labels"
       ],
       "description": "distance_image",
       "index": 0,
       "layout": "IPY_MODEL_0d040125b2624b1ca9a25e04a016ea91",
       "style": "IPY_MODEL_092bcaf0e7e640409c154eaefa417545"
      }
     },
     "3bfb7aa0474e43beb439869736d18652": {
      "model_module": "@jupyter-widgets/base",
      "model_module_version": "2.0.0",
      "model_name": "LayoutModel",
      "state": {}
     },
     "3c0b31b5931f4068a2ac5b2206360f89": {
      "model_module": "@jupyter-widgets/controls",
      "model_module_version": "2.0.0",
      "model_name": "VBoxModel",
      "state": {
       "children": [
        "IPY_MODEL_8b609c5bc83e49c7bd7551aa4bc5e591",
        "IPY_MODEL_38311ac6e1e944eebe7e9e4f7980c833"
       ],
       "layout": "IPY_MODEL_b5f0cfc581bb409b8044d0d20afa8323"
      }
     },
     "3c0bead9ea0a4887931fe71177ee7455": {
      "model_module": "@jupyter-widgets/base",
      "model_module_version": "2.0.0",
      "model_name": "LayoutModel",
      "state": {}
     },
     "3c0c4f9b46094bc6a8bfd0651b53d3bc": {
      "model_module": "@jupyter-widgets/base",
      "model_module_version": "2.0.0",
      "model_name": "LayoutModel",
      "state": {}
     },
     "3c1e24f943ba42209be66e6a5f8dc9a7": {
      "model_module": "@jupyter-widgets/base",
      "model_module_version": "2.0.0",
      "model_name": "LayoutModel",
      "state": {}
     },
     "3c72837327af4eee97643affff3c556a": {
      "model_module": "@jupyter-widgets/base",
      "model_module_version": "2.0.0",
      "model_name": "LayoutModel",
      "state": {
       "display": "none"
      }
     },
     "3c816cef38674651a0baef84e3d03f12": {
      "model_module": "@jupyter-widgets/base",
      "model_module_version": "2.0.0",
      "model_name": "LayoutModel",
      "state": {}
     },
     "3c85bd4ca013479b9b8ebe5f0e20d070": {
      "model_module": "@jupyter-widgets/base",
      "model_module_version": "2.0.0",
      "model_name": "LayoutModel",
      "state": {}
     },
     "3c8b9fc56f6246ab9736db3474d0386b": {
      "model_module": "@jupyter-widgets/controls",
      "model_module_version": "2.0.0",
      "model_name": "DropdownModel",
      "state": {
       "_options_labels": [
        "no_image",
        "image1",
        "image2",
        "image3",
        "blobs",
        "binary",
        "labels",
        "dilated_labels"
       ],
       "description": "label_image",
       "index": 0,
       "layout": "IPY_MODEL_ba7db0fe87d34bd6a4b4da48653ee158",
       "style": "IPY_MODEL_13e2649f21bd4b3f9ac263c4a8a58cfd"
      }
     },
     "3c9e8e00233143168de5e42afe0ed6f2": {
      "model_module": "@jupyter-widgets/output",
      "model_module_version": "1.0.0",
      "model_name": "OutputModel",
      "state": {
       "layout": "IPY_MODEL_f633ae0a3c82435f98ae35766d306c10"
      }
     },
     "3ca2f9e6e6eb4c7187d4d864d2dd355f": {
      "model_module": "@jupyter-widgets/controls",
      "model_module_version": "2.0.0",
      "model_name": "LabelModel",
      "state": {
       "layout": "IPY_MODEL_fa7a21c375464aa4b115bcc3b6def292",
       "style": "IPY_MODEL_cedd80b63d234cc697fec73954bd5375",
       "value": "skfilters.median( image=no_image, footprint=disk(0))"
      }
     },
     "3cc11f3a1acf4bdd80191a2df764e1bf": {
      "model_module": "@jupyter-widgets/base",
      "model_module_version": "2.0.0",
      "model_name": "LayoutModel",
      "state": {}
     },
     "3ccee473ead74420b9bf47dfc26153f2": {
      "model_module": "@jupyter-widgets/controls",
      "model_module_version": "2.0.0",
      "model_name": "FloatSliderModel",
      "state": {
       "behavior": "drag-tap",
       "description": "sigma",
       "layout": "IPY_MODEL_7e5a521782bf4cb3998dd3f84d00f416",
       "max": 25,
       "style": "IPY_MODEL_412dd6fecc2a4dc9a6f8af1b326d156d",
       "value": 2
      }
     },
     "3cfbf69c4f5144a7834dc43e7d06d6bc": {
      "model_module": "@jupyter-widgets/controls",
      "model_module_version": "2.0.0",
      "model_name": "VBoxModel",
      "state": {
       "children": [
        "IPY_MODEL_c53c6817f02947978358097adda591a5",
        "IPY_MODEL_7f29a29959624f5cb57f9eeb6629f304"
       ],
       "layout": "IPY_MODEL_8a66b11c8f3746a7970ae9705d61f046"
      }
     },
     "3d0cab2264094e83ba5b4a246f11f0c4": {
      "model_module": "@jupyter-widgets/base",
      "model_module_version": "2.0.0",
      "model_name": "LayoutModel",
      "state": {}
     },
     "3d1b4ff5489b44a4855ed8217c5e34ac": {
      "model_module": "@jupyter-widgets/controls",
      "model_module_version": "2.0.0",
      "model_name": "DropdownModel",
      "state": {
       "_options_labels": [
        "no_image",
        "image1",
        "image2",
        "image3",
        "blobs",
        "binary",
        "labels",
        "dilated_labels"
       ],
       "description": "labeling_source",
       "index": 6,
       "layout": "IPY_MODEL_7b7194bd4b574c86a39c98620cbe4588",
       "style": "IPY_MODEL_0a6b4784d5cb4817905995fe14fd6233"
      }
     },
     "3d4b3e7ea3f2490ebcdffba4a29d07da": {
      "model_module": "@jupyter-widgets/base",
      "model_module_version": "2.0.0",
      "model_name": "LayoutModel",
      "state": {}
     },
     "3d52528bb39144f8b4a5849a7a9005bc": {
      "model_module": "@jupyter-widgets/output",
      "model_module_version": "1.0.0",
      "model_name": "OutputModel",
      "state": {
       "layout": "IPY_MODEL_a10ecfda250b46249e199bf968cfc80c"
      }
     },
     "3d8d240d746c4e1c980d37a7eddd2c9e": {
      "model_module": "@jupyter-widgets/output",
      "model_module_version": "1.0.0",
      "model_name": "OutputModel",
      "state": {
       "layout": "IPY_MODEL_c515319d4ea14093bf69881e3c9b826d"
      }
     },
     "3d956963a4f6488cb90c308384e561ed": {
      "model_module": "@jupyter-widgets/base",
      "model_module_version": "2.0.0",
      "model_name": "LayoutModel",
      "state": {
       "display": "none"
      }
     },
     "3da27ce433d8413b9782005e418cb204": {
      "model_module": "@jupyter-widgets/controls",
      "model_module_version": "2.0.0",
      "model_name": "LabelStyleModel",
      "state": {
       "description_width": "",
       "font_family": "Courier",
       "font_size": null,
       "font_style": null,
       "font_variant": null,
       "font_weight": null,
       "text_color": null,
       "text_decoration": null
      }
     },
     "3db7a8a2e5c742bf9440b0b67fca9b38": {
      "model_module": "@jupyter-widgets/controls",
      "model_module_version": "2.0.0",
      "model_name": "DescriptionStyleModel",
      "state": {
       "description_width": ""
      }
     },
     "3dbc4532f37b470a8cabc29c3efeb804": {
      "model_module": "@jupyter-widgets/controls",
      "model_module_version": "2.0.0",
      "model_name": "VBoxModel",
      "state": {
       "children": [
        "IPY_MODEL_a5ca6d21186445bcb5e22fa6fc1a2923",
        "IPY_MODEL_8d25ddaaf8ec41928b0eef71b3dd9bd2"
       ],
       "layout": "IPY_MODEL_6319c70bdf2c4b30a70dda8e01b751a3"
      }
     },
     "3dc71eaaf05949bb95d40b1b5d13644c": {
      "model_module": "@jupyter-widgets/controls",
      "model_module_version": "2.0.0",
      "model_name": "SliderStyleModel",
      "state": {
       "description_width": ""
      }
     },
     "3de436e0f305432fb269c08d62e41570": {
      "model_module": "@jupyter-widgets/base",
      "model_module_version": "2.0.0",
      "model_name": "LayoutModel",
      "state": {}
     },
     "3de9e440fee34318aa09d71197a25e91": {
      "model_module": "@jupyter-widgets/base",
      "model_module_version": "2.0.0",
      "model_name": "LayoutModel",
      "state": {}
     },
     "3df54b5c7304403fbb9ee30f975e941e": {
      "model_module": "@jupyter-widgets/base",
      "model_module_version": "2.0.0",
      "model_name": "LayoutModel",
      "state": {}
     },
     "3e2b786795eb45a7a12c26b86731b741": {
      "model_module": "@jupyter-widgets/controls",
      "model_module_version": "2.0.0",
      "model_name": "DropdownModel",
      "state": {
       "_options_labels": [
        "no_image",
        "image1",
        "image2",
        "image3",
        "blobs",
        "binary",
        "labels",
        "dilated_labels"
       ],
       "description": "image",
       "index": 0,
       "layout": "IPY_MODEL_b73518eb389f48998fbbfbf489c8e7a7",
       "style": "IPY_MODEL_0dce2691315640078ce2853726f3301f"
      }
     },
     "3e361838716c499db67d88bd1f5d3776": {
      "model_module": "@jupyter-widgets/output",
      "model_module_version": "1.0.0",
      "model_name": "OutputModel",
      "state": {
       "layout": "IPY_MODEL_ee63836b8c2b46ab98141e70ef97c453"
      }
     },
     "3e3739fa05a44707a0a29c4ff7e59a82": {
      "model_module": "@jupyter-widgets/base",
      "model_module_version": "2.0.0",
      "model_name": "LayoutModel",
      "state": {}
     },
     "3e4c214c7e724618977e4face5bb5942": {
      "model_module": "@jupyter-widgets/controls",
      "model_module_version": "2.0.0",
      "model_name": "DropdownModel",
      "state": {
       "_options_labels": [
        "no_image",
        "image1",
        "image2",
        "image3",
        "blobs",
        "binary",
        "labels",
        "dilated_labels"
       ],
       "description": "image",
       "index": 0,
       "layout": "IPY_MODEL_3c0c4f9b46094bc6a8bfd0651b53d3bc",
       "style": "IPY_MODEL_ae30951d01664477a5a893953f0b4db1"
      }
     },
     "3e69747a5868427d8b19ce2515686f14": {
      "model_module": "@jupyter-widgets/controls",
      "model_module_version": "2.0.0",
      "model_name": "VBoxModel",
      "state": {
       "children": [
        "IPY_MODEL_801779e4370442e2b549bc46b555a748",
        "IPY_MODEL_fb83b2b0008b40e2ab9b6036415b3044"
       ],
       "layout": "IPY_MODEL_d0a4b52c9f554c81b63b1868551a26a5"
      }
     },
     "3e9b5881030e4a58afdf43296f181d2d": {
      "model_module": "@jupyter-widgets/controls",
      "model_module_version": "2.0.0",
      "model_name": "LabelStyleModel",
      "state": {
       "description_width": "",
       "font_family": "Courier",
       "font_size": null,
       "font_style": null,
       "font_variant": null,
       "font_weight": null,
       "text_color": null,
       "text_decoration": null
      }
     },
     "3ebfd5ec03694ea1b46e84e8926c1277": {
      "model_module": "@jupyter-widgets/base",
      "model_module_version": "2.0.0",
      "model_name": "LayoutModel",
      "state": {
       "display": "none"
      }
     },
     "3ed91130ff2544cb9add104ee3a58cce": {
      "model_module": "@jupyter-widgets/output",
      "model_module_version": "1.0.0",
      "model_name": "OutputModel",
      "state": {
       "layout": "IPY_MODEL_65ae426be10e4452829c7d8383bc5169"
      }
     },
     "3f27c5dbcc8a49cabeed64089641ec21": {
      "model_module": "@jupyter-widgets/controls",
      "model_module_version": "2.0.0",
      "model_name": "VBoxModel",
      "state": {
       "children": [
        "IPY_MODEL_c62df65b4d504803b1797c7f1988c9ef",
        "IPY_MODEL_53ff0a2b08a6416b97fd7177825d5c09"
       ],
       "layout": "IPY_MODEL_332411fef68f47bc80bdfa4985dc759e"
      }
     },
     "3f3cd65c8463439ea20c0380e245980a": {
      "model_module": "@jupyter-widgets/controls",
      "model_module_version": "2.0.0",
      "model_name": "LabelModel",
      "state": {
       "layout": "IPY_MODEL_04e3b49838c844a1b244cece8d810160",
       "style": "IPY_MODEL_2049e6d74c6e45ba8284d81eab44741f",
       "value": "smooth_labels( labels_input=no_image, radius=0)"
      }
     },
     "3f442927550b4baf9b8dc1e4d6434768": {
      "model_module": "@jupyter-widgets/controls",
      "model_module_version": "2.0.0",
      "model_name": "IntSliderModel",
      "state": {
       "behavior": "drag-tap",
       "description": "radius",
       "layout": "IPY_MODEL_7522311afbc44f87837878b4bfdc1e31",
       "style": "IPY_MODEL_4ccd68f830d643b6bcfb1d55ed3c8e7a"
      }
     },
     "3f949be97bf447328cb90caa5b0085b2": {
      "model_module": "@jupyter-widgets/output",
      "model_module_version": "1.0.0",
      "model_name": "OutputModel",
      "state": {
       "layout": "IPY_MODEL_b1eee78f25d04d118bdfca2aaf5a1e00"
      }
     },
     "3fe46f4fe02645908d5aa63742083fe9": {
      "model_module": "@jupyter-widgets/base",
      "model_module_version": "2.0.0",
      "model_name": "LayoutModel",
      "state": {
       "display": "none"
      }
     },
     "3fec2d93c8384455ad0b973ca20a3600": {
      "model_module": "@jupyter-widgets/controls",
      "model_module_version": "2.0.0",
      "model_name": "SliderStyleModel",
      "state": {
       "description_width": ""
      }
     },
     "3ff19a1240204d2d8ecbc56dc8456cac": {
      "model_module": "@jupyter-widgets/controls",
      "model_module_version": "2.0.0",
      "model_name": "DescriptionStyleModel",
      "state": {
       "description_width": ""
      }
     },
     "3ff3a7ec95464ff7a16857ca1ca50d73": {
      "model_module": "@jupyter-widgets/controls",
      "model_module_version": "2.0.0",
      "model_name": "FloatSliderModel",
      "state": {
       "behavior": "drag-tap",
       "description": "radius",
       "layout": "IPY_MODEL_eb274af393ae46109408a01047d66e82",
       "style": "IPY_MODEL_7ba7c07536bd4018ac5dd7ddf829cc41",
       "value": 2
      }
     },
     "40066f6dd5f544268cf7c4ce19abcee2": {
      "model_module": "@jupyter-widgets/controls",
      "model_module_version": "2.0.0",
      "model_name": "VBoxModel",
      "state": {
       "children": [
        "IPY_MODEL_cc1e3965d3ca4208808691f3bec82cb4",
        "IPY_MODEL_982f3f2298f241e385752ae37d9744de"
       ],
       "layout": "IPY_MODEL_0342b3e272c645f58945942f51ac970a"
      }
     },
     "401f7ca28a4d4def84fcbb20309d6d59": {
      "model_module": "@jupyter-widgets/controls",
      "model_module_version": "2.0.0",
      "model_name": "LabelStyleModel",
      "state": {
       "description_width": "",
       "font_family": "Courier",
       "font_size": null,
       "font_style": null,
       "font_variant": null,
       "font_weight": null,
       "text_color": null,
       "text_decoration": null
      }
     },
     "402eaa0adcff474783e8f479e2d56482": {
      "model_module": "@jupyter-widgets/controls",
      "model_module_version": "2.0.0",
      "model_name": "DescriptionStyleModel",
      "state": {
       "description_width": ""
      }
     },
     "40a71240115c4412b6fb0779d1e45424": {
      "model_module": "@jupyter-widgets/output",
      "model_module_version": "1.0.0",
      "model_name": "OutputModel",
      "state": {
       "layout": "IPY_MODEL_f6884eacf82b4d5584893fa1911b00b0"
      }
     },
     "40c4da1bd9af40b48256c842f0d57218": {
      "model_module": "@jupyter-widgets/base",
      "model_module_version": "2.0.0",
      "model_name": "LayoutModel",
      "state": {
       "display": "none"
      }
     },
     "40d12a65f0ea4a41810951f8bc0e756a": {
      "model_module": "@jupyter-widgets/controls",
      "model_module_version": "2.0.0",
      "model_name": "LabelStyleModel",
      "state": {
       "description_width": "",
       "font_family": "Courier",
       "font_size": null,
       "font_style": null,
       "font_variant": null,
       "font_weight": null,
       "text_color": null,
       "text_decoration": null
      }
     },
     "40f4dbea331944c28aed44ff836f2f9b": {
      "model_module": "@jupyter-widgets/base",
      "model_module_version": "2.0.0",
      "model_name": "LayoutModel",
      "state": {}
     },
     "40f5dd290ff14e5980d9cff9d181ee47": {
      "model_module": "@jupyter-widgets/controls",
      "model_module_version": "2.0.0",
      "model_name": "SliderStyleModel",
      "state": {
       "description_width": ""
      }
     },
     "4100daee578e4fefa4fed32825711cb9": {
      "model_module": "@jupyter-widgets/base",
      "model_module_version": "2.0.0",
      "model_name": "LayoutModel",
      "state": {}
     },
     "410d17fd43444e97827e5c3e0c97e31f": {
      "model_module": "@jupyter-widgets/base",
      "model_module_version": "2.0.0",
      "model_name": "LayoutModel",
      "state": {}
     },
     "412ba2b1b5c84c8fb66ae3bbe6ee1e6d": {
      "model_module": "@jupyter-widgets/base",
      "model_module_version": "2.0.0",
      "model_name": "LayoutModel",
      "state": {}
     },
     "412dd6fecc2a4dc9a6f8af1b326d156d": {
      "model_module": "@jupyter-widgets/controls",
      "model_module_version": "2.0.0",
      "model_name": "SliderStyleModel",
      "state": {
       "description_width": ""
      }
     },
     "414baff4aa8945548363412e233a16dd": {
      "model_module": "@jupyter-widgets/controls",
      "model_module_version": "2.0.0",
      "model_name": "SliderStyleModel",
      "state": {
       "description_width": ""
      }
     },
     "41766fdf9f464c409c81c891a09ffe14": {
      "model_module": "@jupyter-widgets/base",
      "model_module_version": "2.0.0",
      "model_name": "LayoutModel",
      "state": {}
     },
     "417831396ecf406db8ca445fa3ad2e09": {
      "model_module": "@jupyter-widgets/controls",
      "model_module_version": "2.0.0",
      "model_name": "DropdownModel",
      "state": {
       "_options_labels": [
        "no_image",
        "image1",
        "image2",
        "image3",
        "blobs",
        "binary",
        "labels",
        "dilated_labels"
       ],
       "description": "image",
       "index": 0,
       "layout": "IPY_MODEL_c0929c2a337f4444abfc9f28d544811e",
       "style": "IPY_MODEL_79543901bf234bd7b97f66d3de41c9c5"
      }
     },
     "4196e15d2f834482a316573ac6222bff": {
      "model_module": "@jupyter-widgets/base",
      "model_module_version": "2.0.0",
      "model_name": "LayoutModel",
      "state": {}
     },
     "419ef983d44b4583b2efadb2d41a0084": {
      "model_module": "@jupyter-widgets/controls",
      "model_module_version": "2.0.0",
      "model_name": "DropdownModel",
      "state": {
       "_options_labels": [
        "no_image",
        "image1",
        "image2",
        "image3",
        "blobs",
        "binary",
        "labels",
        "dilated_labels"
       ],
       "description": "image",
       "index": 0,
       "layout": "IPY_MODEL_579d06a0c1dd4255a103e375a3b433d7",
       "style": "IPY_MODEL_8c3039fd930b4b85ace2d00c4e1bc47a"
      }
     },
     "41a8f63270ee4cd998041c851ca879e4": {
      "model_module": "@jupyter-widgets/base",
      "model_module_version": "2.0.0",
      "model_name": "LayoutModel",
      "state": {}
     },
     "41c5f44a066c4db7ae418e41ffa4bd44": {
      "model_module": "@jupyter-widgets/base",
      "model_module_version": "2.0.0",
      "model_name": "LayoutModel",
      "state": {
       "display": "none"
      }
     },
     "41cda3a8a71f4aaca509699ef2a9a3df": {
      "model_module": "@jupyter-widgets/controls",
      "model_module_version": "2.0.0",
      "model_name": "VBoxModel",
      "state": {
       "children": [
        "IPY_MODEL_2abb9b5bb3964458ac5617c347f5efa8",
        "IPY_MODEL_6710cf63860b4c27abb1c82859073208"
       ],
       "layout": "IPY_MODEL_9ed822c0021b4fbbbcd49edf86c349c0"
      }
     },
     "41e585a768ad40668296ce1c801cf2c1": {
      "model_module": "@jupyter-widgets/controls",
      "model_module_version": "2.0.0",
      "model_name": "LabelStyleModel",
      "state": {
       "description_width": "",
       "font_family": "Courier",
       "font_size": null,
       "font_style": null,
       "font_variant": null,
       "font_weight": null,
       "text_color": null,
       "text_decoration": null
      }
     },
     "41e809770a1443f793dd8db20753c80c": {
      "model_module": "@jupyter-widgets/controls",
      "model_module_version": "2.0.0",
      "model_name": "LabelStyleModel",
      "state": {
       "description_width": "",
       "font_family": "Courier",
       "font_size": null,
       "font_style": null,
       "font_variant": null,
       "font_weight": null,
       "text_color": null,
       "text_decoration": null
      }
     },
     "4201ad4688ea49bb83eef138c8f24f1b": {
      "model_module": "@jupyter-widgets/output",
      "model_module_version": "1.0.0",
      "model_name": "OutputModel",
      "state": {
       "layout": "IPY_MODEL_42c26b8ff8c24aec87d7df89e811dc8f"
      }
     },
     "420314980e8a4fe098bf8e8f1faa1908": {
      "model_module": "@jupyter-widgets/controls",
      "model_module_version": "2.0.0",
      "model_name": "SliderStyleModel",
      "state": {
       "description_width": ""
      }
     },
     "422dc7b8c29248d8a8421ad8be792952": {
      "model_module": "@jupyter-widgets/base",
      "model_module_version": "2.0.0",
      "model_name": "LayoutModel",
      "state": {}
     },
     "42545d717dc642469153b28fa02bb2f4": {
      "model_module": "@jupyter-widgets/controls",
      "model_module_version": "2.0.0",
      "model_name": "DescriptionStyleModel",
      "state": {
       "description_width": ""
      }
     },
     "42643e4a280a4f4081c5fce8f6f6054e": {
      "model_module": "@jupyter-widgets/controls",
      "model_module_version": "2.0.0",
      "model_name": "DescriptionStyleModel",
      "state": {
       "description_width": ""
      }
     },
     "4280e2a0165d482ebd988dfbd67b511c": {
      "model_module": "@jupyter-widgets/controls",
      "model_module_version": "2.0.0",
      "model_name": "VBoxModel",
      "state": {
       "children": [
        "IPY_MODEL_d8d44f35792f466f96559030d51228ec",
        "IPY_MODEL_063698f79bf042b3b821e5dcda7ff3f4"
       ],
       "layout": "IPY_MODEL_586bee9c218241ccb0073c378c2d91ef"
      }
     },
     "428149000363482db7e8d5b6734f0548": {
      "model_module": "@jupyter-widgets/base",
      "model_module_version": "2.0.0",
      "model_name": "LayoutModel",
      "state": {}
     },
     "42a85c9c838946a39b98c8bbdb3b3cbb": {
      "model_module": "@jupyter-widgets/controls",
      "model_module_version": "2.0.0",
      "model_name": "VBoxModel",
      "state": {
       "children": [
        "IPY_MODEL_7f8c20a4964a4af49e8841f09b1e900d",
        "IPY_MODEL_96deb09ab9784658bf21e49c7fe7447d"
       ],
       "layout": "IPY_MODEL_a0be49ef28524d30837aea2fe483c369"
      }
     },
     "42c26b8ff8c24aec87d7df89e811dc8f": {
      "model_module": "@jupyter-widgets/base",
      "model_module_version": "2.0.0",
      "model_name": "LayoutModel",
      "state": {}
     },
     "42db08736742480a8997bf1dfd929512": {
      "model_module": "@jupyter-widgets/base",
      "model_module_version": "2.0.0",
      "model_name": "LayoutModel",
      "state": {}
     },
     "42eab5d080084eadb0b05617033de208": {
      "model_module": "@jupyter-widgets/base",
      "model_module_version": "2.0.0",
      "model_name": "LayoutModel",
      "state": {}
     },
     "42ef587fc1304ed083ebb00051974ed8": {
      "model_module": "@jupyter-widgets/controls",
      "model_module_version": "2.0.0",
      "model_name": "LabelModel",
      "state": {
       "layout": "IPY_MODEL_54c44df565a94c09bdcb4bb8b11c78e9",
       "style": "IPY_MODEL_43e10650fb25491d88ce34dfce073adc",
       "value": "nsbatwm.white_tophat( image=no_image, radius=2.0)"
      }
     },
     "42f44254da6c4497ae0bb79a815a6929": {
      "model_module": "@jupyter-widgets/output",
      "model_module_version": "1.0.0",
      "model_name": "OutputModel",
      "state": {
       "layout": "IPY_MODEL_8a465f2b630847979abd0e4345b76aa1"
      }
     },
     "4344b5c0332d4480b2c87c5d1ab71642": {
      "model_module": "@jupyter-widgets/controls",
      "model_module_version": "2.0.0",
      "model_name": "LabelModel",
      "state": {
       "layout": "IPY_MODEL_f1c44170b6bb4410bd60b2137577e61f",
       "style": "IPY_MODEL_011eed40665a4102a8f69245c63e634b",
       "value": "nsbatwm.gaussian_laplace( image=no_image, sigma=2.0)"
      }
     },
     "436a36adb0094618ae9deda453dead77": {
      "model_module": "@jupyter-widgets/controls",
      "model_module_version": "2.0.0",
      "model_name": "LabelModel",
      "state": {
       "layout": "IPY_MODEL_abd21f6f737d43f893983cdc15af6f69",
       "style": "IPY_MODEL_ce5230c1208140c1bfb2ce7d6a7c32b7",
       "value": "np.place( mask=no_image)"
      }
     },
     "43e10650fb25491d88ce34dfce073adc": {
      "model_module": "@jupyter-widgets/controls",
      "model_module_version": "2.0.0",
      "model_name": "LabelStyleModel",
      "state": {
       "description_width": "",
       "font_family": "Courier",
       "font_size": null,
       "font_style": null,
       "font_variant": null,
       "font_weight": null,
       "text_color": null,
       "text_decoration": null
      }
     },
     "440e313ef481454096f0ffbe3e9b613c": {
      "model_module": "@jupyter-widgets/output",
      "model_module_version": "1.0.0",
      "model_name": "OutputModel",
      "state": {
       "layout": "IPY_MODEL_9c3c4c2f1b7e4ad1a6c5aa6b33d975d7"
      }
     },
     "4428108b9e334b30bd1c0932f8a92197": {
      "model_module": "@jupyter-widgets/controls",
      "model_module_version": "2.0.0",
      "model_name": "DescriptionStyleModel",
      "state": {
       "description_width": ""
      }
     },
     "447b3ddda46d4a3593327199d4b96b90": {
      "model_module": "@jupyter-widgets/base",
      "model_module_version": "2.0.0",
      "model_name": "LayoutModel",
      "state": {}
     },
     "449dda2ae59a4a82b8af78663b8c86e6": {
      "model_module": "@jupyter-widgets/controls",
      "model_module_version": "2.0.0",
      "model_name": "LabelModel",
      "state": {
       "layout": "IPY_MODEL_1e189163c37f445bb200b6b36c6bda0c",
       "style": "IPY_MODEL_fc91c8e3e1db417694f008ef0e60f4a3",
       "value": "nsbatwm.black_tophat( image=no_image, radius=2.0)"
      }
     },
     "44ce08833d824f80814748ab6d576d7f": {
      "model_module": "@jupyter-widgets/controls",
      "model_module_version": "2.0.0",
      "model_name": "LabelStyleModel",
      "state": {
       "description_width": "",
       "font_family": "Courier",
       "font_size": null,
       "font_style": null,
       "font_variant": null,
       "font_weight": null,
       "text_color": null,
       "text_decoration": null
      }
     },
     "451a3430b357444e8ec05761acf06a74": {
      "model_module": "@jupyter-widgets/controls",
      "model_module_version": "2.0.0",
      "model_name": "DropdownModel",
      "state": {
       "_options_labels": [
        "no_image",
        "image1",
        "image2",
        "image3",
        "blobs",
        "binary",
        "labels",
        "dilated_labels"
       ],
       "description": "image",
       "index": 0,
       "layout": "IPY_MODEL_535752a2c57e455ea730122b27abe664",
       "style": "IPY_MODEL_799d60f521f7484bb08ed4eecfd02252"
      }
     },
     "452a732ee5534e93adf89c94e5fd35ef": {
      "model_module": "@jupyter-widgets/base",
      "model_module_version": "2.0.0",
      "model_name": "LayoutModel",
      "state": {}
     },
     "455f04b100c84db78dc3452a7d7f9331": {
      "model_module": "@jupyter-widgets/controls",
      "model_module_version": "2.0.0",
      "model_name": "VBoxModel",
      "state": {
       "_dom_classes": [
        "widget-interact"
       ],
       "children": [
        "IPY_MODEL_8dfbb7f6fb3b4b93823f477cf45af932",
        "IPY_MODEL_b35a51c8097a4af197042b77c2d1cf63"
       ],
       "layout": "IPY_MODEL_10cde7cda7a44b15875cbe0b6174164c"
      }
     },
     "45b71948ee21417c885219943e4a9bea": {
      "model_module": "@jupyter-widgets/output",
      "model_module_version": "1.0.0",
      "model_name": "OutputModel",
      "state": {
       "layout": "IPY_MODEL_4ab0b98486cb453da6bbb563333ec0a9"
      }
     },
     "45eaba2ad5414d8aa19784e511dd349d": {
      "model_module": "@jupyter-widgets/controls",
      "model_module_version": "2.0.0",
      "model_name": "VBoxModel",
      "state": {
       "_dom_classes": [
        "widget-interact"
       ],
       "children": [
        "IPY_MODEL_14172d68541445c490da365474821c87",
        "IPY_MODEL_8c03a916773546558d6a62f41aaa1791"
       ],
       "layout": "IPY_MODEL_d3ddb095c039439bbd73e9e7952a91c5"
      }
     },
     "45ff0a86e93b4745b64f842426fe4e97": {
      "model_module": "@jupyter-widgets/controls",
      "model_module_version": "2.0.0",
      "model_name": "VBoxModel",
      "state": {
       "_dom_classes": [
        "widget-interact"
       ],
       "children": [
        "IPY_MODEL_15a31a5e3e464ce5aed44d1d19a9d7e0",
        "IPY_MODEL_3896ed45d18f4e20b3541466a2dc63ac",
        "IPY_MODEL_1c978fce9bd34f22931f46f8f9a5fd78",
        "IPY_MODEL_09d90ad354e54af7b22a29e8bbaf873c"
       ],
       "layout": "IPY_MODEL_95d29030a48f439bbe46639ad47539ad"
      }
     },
     "461caab9ce334c56b476c94797d3b867": {
      "model_module": "@jupyter-widgets/controls",
      "model_module_version": "2.0.0",
      "model_name": "LabelStyleModel",
      "state": {
       "description_width": "",
       "font_family": "Courier",
       "font_size": null,
       "font_style": null,
       "font_variant": null,
       "font_weight": null,
       "text_color": null,
       "text_decoration": null
      }
     },
     "4664ba010ddb4157bcb5371e52705c4a": {
      "model_module": "@jupyter-widgets/controls",
      "model_module_version": "2.0.0",
      "model_name": "LabelStyleModel",
      "state": {
       "description_width": "",
       "font_family": "Courier",
       "font_size": null,
       "font_style": null,
       "font_variant": null,
       "font_weight": null,
       "text_color": null,
       "text_decoration": null
      }
     },
     "46826a43aa9f423db5d000bfad2e17d6": {
      "model_module": "@jupyter-widgets/output",
      "model_module_version": "1.0.0",
      "model_name": "OutputModel",
      "state": {
       "layout": "IPY_MODEL_46d9072eecbb4e278efb1c422cb26f56"
      }
     },
     "469cb393c4994cf69824d61702d30db0": {
      "model_module": "@jupyter-widgets/base",
      "model_module_version": "2.0.0",
      "model_name": "LayoutModel",
      "state": {}
     },
     "46b654ea647b49f289c678758f0c2b1e": {
      "model_module": "@jupyter-widgets/output",
      "model_module_version": "1.0.0",
      "model_name": "OutputModel",
      "state": {
       "layout": "IPY_MODEL_5e46b57655d44078ac612d0ddebf35cb"
      }
     },
     "46baa9633104452f9bc545858255ef56": {
      "model_module": "@jupyter-widgets/controls",
      "model_module_version": "2.0.0",
      "model_name": "LabelModel",
      "state": {
       "layout": "IPY_MODEL_7572312ff870456bbd27fb2a05fa966f",
       "style": "IPY_MODEL_d857828de83a4c108daed243eee275ab",
       "value": "skfilters.scharr_h( image=no_image, mask=no_image)"
      }
     },
     "46c14e4cca974724b9907abf61130a97": {
      "model_module": "@jupyter-widgets/base",
      "model_module_version": "2.0.0",
      "model_name": "LayoutModel",
      "state": {
       "display": "none"
      }
     },
     "46c85ff530f7439b9f257743b9c1e1a9": {
      "model_module": "@jupyter-widgets/base",
      "model_module_version": "2.0.0",
      "model_name": "LayoutModel",
      "state": {}
     },
     "46d9072eecbb4e278efb1c422cb26f56": {
      "model_module": "@jupyter-widgets/base",
      "model_module_version": "2.0.0",
      "model_name": "LayoutModel",
      "state": {}
     },
     "46dea40dbbfe4f8d92d0325f0be6a39e": {
      "model_module": "@jupyter-widgets/base",
      "model_module_version": "2.0.0",
      "model_name": "LayoutModel",
      "state": {}
     },
     "46e2b745b1a54809933619be2ea193da": {
      "model_module": "@jupyter-widgets/controls",
      "model_module_version": "2.0.0",
      "model_name": "DropdownModel",
      "state": {
       "_options_labels": [
        "no_image",
        "image1",
        "image2",
        "image3",
        "blobs",
        "binary",
        "labels",
        "dilated_labels"
       ],
       "description": "labels_input",
       "index": 0,
       "layout": "IPY_MODEL_fdc321f92a4c4ebda28212281d0040f1",
       "style": "IPY_MODEL_22772d05c6db47f497464a1f47da7c51"
      }
     },
     "46f45ee3b7ce46bc99aa3b6885794187": {
      "model_module": "@jupyter-widgets/base",
      "model_module_version": "2.0.0",
      "model_name": "LayoutModel",
      "state": {
       "display": "none"
      }
     },
     "471802fe2cf345ee8f0021ff73eeb4fe": {
      "model_module": "@jupyter-widgets/controls",
      "model_module_version": "2.0.0",
      "model_name": "DropdownModel",
      "state": {
       "_options_labels": [
        "no_image",
        "image1",
        "image2",
        "image3",
        "blobs",
        "binary",
        "labels",
        "dilated_labels"
       ],
       "description": "image",
       "index": 0,
       "layout": "IPY_MODEL_94c762d08d90489da78ea837cd6b6ae5",
       "style": "IPY_MODEL_20dd727a345c40f1a375d79fa12185ff"
      }
     },
     "472a9328f05d4953b611e2e752f7d068": {
      "model_module": "@jupyter-widgets/base",
      "model_module_version": "2.0.0",
      "model_name": "LayoutModel",
      "state": {}
     },
     "475ba4f507f44bcd8316ec200638f6bd": {
      "model_module": "@jupyter-widgets/base",
      "model_module_version": "2.0.0",
      "model_name": "LayoutModel",
      "state": {}
     },
     "477c4bc138b0484eb6dbe6054455b9a8": {
      "model_module": "@jupyter-widgets/controls",
      "model_module_version": "2.0.0",
      "model_name": "DescriptionStyleModel",
      "state": {
       "description_width": ""
      }
     },
     "477cb98c17a54035804e162068d71b73": {
      "model_module": "@jupyter-widgets/base",
      "model_module_version": "2.0.0",
      "model_name": "LayoutModel",
      "state": {}
     },
     "47906dddea074eaeb5b7db3f8b0cf5d6": {
      "model_module": "@jupyter-widgets/controls",
      "model_module_version": "2.0.0",
      "model_name": "IntSliderModel",
      "state": {
       "behavior": "drag-tap",
       "description": "radius_z",
       "layout": "IPY_MODEL_884a11f300c947dcbec4a48e79534355",
       "style": "IPY_MODEL_2d8bc718edc843ea8109cbcfdc149e43",
       "value": 5
      }
     },
     "47985d3b538c4b6d817beef33094f9cf": {
      "model_module": "@jupyter-widgets/base",
      "model_module_version": "2.0.0",
      "model_name": "LayoutModel",
      "state": {}
     },
     "47a0c1a85bc245d28111b6764a9e0a5c": {
      "model_module": "@jupyter-widgets/controls",
      "model_module_version": "2.0.0",
      "model_name": "LabelModel",
      "state": {
       "layout": "IPY_MODEL_896d9bf1a61f43c4ae056136ac2c73d5",
       "style": "IPY_MODEL_f7de3f80958c4f7abe19aa5202663a24",
       "value": "nsbatwm.multiply_images( image1=no_image, image2=no_image)"
      }
     },
     "47b58b0562dd4ead94ee9ba48e7cad08": {
      "model_module": "@jupyter-widgets/base",
      "model_module_version": "2.0.0",
      "model_name": "LayoutModel",
      "state": {}
     },
     "47e64feab50a43afa81082867e202d43": {
      "model_module": "@jupyter-widgets/base",
      "model_module_version": "2.0.0",
      "model_name": "LayoutModel",
      "state": {}
     },
     "48008c046c804510b3f752fec43ad293": {
      "model_module": "@jupyter-widgets/controls",
      "model_module_version": "2.0.0",
      "model_name": "VBoxModel",
      "state": {
       "children": [
        "IPY_MODEL_bc6e6e235ea847928e4e02bb4a852470",
        "IPY_MODEL_ef9e5766c75b4dd999b413708f24120b"
       ],
       "layout": "IPY_MODEL_5a790061cafe40cfbbd53017e73eeb03"
      }
     },
     "480e7ccd6c084390a9016c1533a13035": {
      "model_module": "@jupyter-widgets/controls",
      "model_module_version": "2.0.0",
      "model_name": "LabelStyleModel",
      "state": {
       "description_width": "",
       "font_family": "Courier",
       "font_size": null,
       "font_style": null,
       "font_variant": null,
       "font_weight": null,
       "text_color": null,
       "text_decoration": null
      }
     },
     "486217fa0a234ecdaadc323e39572aa2": {
      "model_module": "@jupyter-widgets/base",
      "model_module_version": "2.0.0",
      "model_name": "LayoutModel",
      "state": {}
     },
     "48653b88a7ad45b8a0d38ef5532da11b": {
      "model_module": "@jupyter-widgets/controls",
      "model_module_version": "2.0.0",
      "model_name": "DescriptionStyleModel",
      "state": {
       "description_width": ""
      }
     },
     "487ee89edd644037b5623001bed0340c": {
      "model_module": "@jupyter-widgets/controls",
      "model_module_version": "2.0.0",
      "model_name": "DropdownModel",
      "state": {
       "_options_labels": [
        "no_image",
        "image1",
        "image2",
        "image3",
        "blobs",
        "binary",
        "labels",
        "dilated_labels"
       ],
       "description": "image",
       "index": 0,
       "layout": "IPY_MODEL_69be4ce00e7d4a4091183ce064f5987e",
       "style": "IPY_MODEL_34a14411d34144dc999cedc999491335"
      }
     },
     "48abdab9e6f44322bf99ba8a75bc7e97": {
      "model_module": "@jupyter-widgets/output",
      "model_module_version": "1.0.0",
      "model_name": "OutputModel",
      "state": {
       "layout": "IPY_MODEL_b0f2f0eb92f14354bfa8331de222264f"
      }
     },
     "48ac28e166d84ac483db2ec29e92a25a": {
      "model_module": "@jupyter-widgets/base",
      "model_module_version": "2.0.0",
      "model_name": "LayoutModel",
      "state": {
       "display": "none"
      }
     },
     "48ac54b91f4b46beb6d32e1a50de42b8": {
      "model_module": "@jupyter-widgets/controls",
      "model_module_version": "2.0.0",
      "model_name": "DropdownModel",
      "state": {
       "_options_labels": [
        "no_image",
        "image1",
        "image2",
        "image3",
        "blobs",
        "binary",
        "labels",
        "dilated_labels"
       ],
       "description": "image",
       "index": 0,
       "layout": "IPY_MODEL_934063d584934aa1b6b12a603395d388",
       "style": "IPY_MODEL_0822ebe4826b41768cba422e8d74269b"
      }
     },
     "48c85a71c3c84c3ab2e5cfddd7648296": {
      "model_module": "@jupyter-widgets/controls",
      "model_module_version": "2.0.0",
      "model_name": "SliderStyleModel",
      "state": {
       "description_width": ""
      }
     },
     "48f950e22df7497da31a285249055d09": {
      "model_module": "@jupyter-widgets/base",
      "model_module_version": "2.0.0",
      "model_name": "LayoutModel",
      "state": {}
     },
     "491b31b88f64400d805a0b438c92034a": {
      "model_module": "@jupyter-widgets/controls",
      "model_module_version": "2.0.0",
      "model_name": "DescriptionStyleModel",
      "state": {
       "description_width": ""
      }
     },
     "493070afd8db42f2b6a4daae78312b3e": {
      "model_module": "@jupyter-widgets/controls",
      "model_module_version": "2.0.0",
      "model_name": "DescriptionStyleModel",
      "state": {
       "description_width": ""
      }
     },
     "49828656ef394795bdefee258ad36543": {
      "model_module": "@jupyter-widgets/base",
      "model_module_version": "2.0.0",
      "model_name": "LayoutModel",
      "state": {}
     },
     "4985dc09a04b4b718d5cb7259e4d5a16": {
      "model_module": "@jupyter-widgets/controls",
      "model_module_version": "2.0.0",
      "model_name": "LabelStyleModel",
      "state": {
       "description_width": "",
       "font_family": "Courier",
       "font_size": null,
       "font_style": null,
       "font_variant": null,
       "font_weight": null,
       "text_color": null,
       "text_decoration": null
      }
     },
     "498ab00fb6114020aeb6b70af6877300": {
      "model_module": "@jupyter-widgets/base",
      "model_module_version": "2.0.0",
      "model_name": "LayoutModel",
      "state": {
       "display": "none"
      }
     },
     "4993aebb307c49e9a19ac68a0d8f99a2": {
      "model_module": "@jupyter-widgets/controls",
      "model_module_version": "2.0.0",
      "model_name": "DescriptionStyleModel",
      "state": {
       "description_width": ""
      }
     },
     "49a0496a93d545219ea112fc3e4e45f1": {
      "model_module": "@jupyter-widgets/base",
      "model_module_version": "2.0.0",
      "model_name": "LayoutModel",
      "state": {}
     },
     "49adb129a1a34072a220ac5116f840df": {
      "model_module": "@jupyter-widgets/controls",
      "model_module_version": "2.0.0",
      "model_name": "DropdownModel",
      "state": {
       "_options_labels": [
        "no_image",
        "image1",
        "image2",
        "image3",
        "blobs",
        "binary",
        "labels",
        "dilated_labels"
       ],
       "description": "label_image",
       "index": 0,
       "layout": "IPY_MODEL_8fbd4b76d5614f089a1b7ea06bb0b78b",
       "style": "IPY_MODEL_e537455674b946db8370206f090423b4"
      }
     },
     "49b7059f500d421c85f87085b1cb8da5": {
      "model_module": "@jupyter-widgets/base",
      "model_module_version": "2.0.0",
      "model_name": "LayoutModel",
      "state": {}
     },
     "49f91b1885c4400f88d534e987d6d742": {
      "model_module": "@jupyter-widgets/base",
      "model_module_version": "2.0.0",
      "model_name": "LayoutModel",
      "state": {}
     },
     "49ff9304cb5748b88ac9c2d96ded89b5": {
      "model_module": "@jupyter-widgets/base",
      "model_module_version": "2.0.0",
      "model_name": "LayoutModel",
      "state": {}
     },
     "4a3c75147c6e447b93da6e08c78f60ba": {
      "model_module": "@jupyter-widgets/controls",
      "model_module_version": "2.0.0",
      "model_name": "LabelModel",
      "state": {
       "layout": "IPY_MODEL_fd5da69ebac5477cb1bf9a604074f381",
       "style": "IPY_MODEL_de5b8509132a4941abfbf1d94aa1f8bc",
       "value": "nsbatwm.minimum_filter( image=no_image, radius=2.0)"
      }
     },
     "4a4beef20d2d4f809f99d432962c6b6f": {
      "model_module": "@jupyter-widgets/controls",
      "model_module_version": "2.0.0",
      "model_name": "DropdownModel",
      "state": {
       "_options_labels": [
        "no_image",
        "image1",
        "image2",
        "image3",
        "blobs",
        "binary",
        "labels",
        "dilated_labels"
       ],
       "description": "image",
       "index": 0,
       "layout": "IPY_MODEL_3c1e24f943ba42209be66e6a5f8dc9a7",
       "style": "IPY_MODEL_e431da6027b44415b9ba39600e1962f0"
      }
     },
     "4a6b25cab9304486b5f72c057efb92e1": {
      "model_module": "@jupyter-widgets/controls",
      "model_module_version": "2.0.0",
      "model_name": "LabelStyleModel",
      "state": {
       "description_width": "",
       "font_family": "Courier",
       "font_size": null,
       "font_style": null,
       "font_variant": null,
       "font_weight": null,
       "text_color": null,
       "text_decoration": null
      }
     },
     "4a85b9df3c3241d3968504257e4f9dcd": {
      "model_module": "@jupyter-widgets/base",
      "model_module_version": "2.0.0",
      "model_name": "LayoutModel",
      "state": {}
     },
     "4a89306a571840d49188e1fd0c0ec88a": {
      "model_module": "@jupyter-widgets/output",
      "model_module_version": "1.0.0",
      "model_name": "OutputModel",
      "state": {
       "layout": "IPY_MODEL_858096a3e5384432913c6b0b8e948831"
      }
     },
     "4a91baf580c64beaa8bdec3b18e6b0dd": {
      "model_module": "@jupyter-widgets/controls",
      "model_module_version": "2.0.0",
      "model_name": "LabelModel",
      "state": {
       "layout": "IPY_MODEL_e88d90d09a72484c8f7c1e03a238bfef",
       "style": "IPY_MODEL_ab9b3c7be7fb429d8fc07550c7c607b3",
       "value": "erode_labels( labels_input=labels, radius=0, relabel_islands=False)"
      }
     },
     "4aa5ffaa5ebb40d4878eb222fb902dea": {
      "model_module": "@jupyter-widgets/controls",
      "model_module_version": "2.0.0",
      "model_name": "LabelStyleModel",
      "state": {
       "description_width": "",
       "font_family": "Courier",
       "font_size": null,
       "font_style": null,
       "font_variant": null,
       "font_weight": null,
       "text_color": null,
       "text_decoration": null
      }
     },
     "4aa9f787d9e6417f9e0724938179c3ce": {
      "model_module": "@jupyter-widgets/controls",
      "model_module_version": "2.0.0",
      "model_name": "DropdownModel",
      "state": {
       "_options_labels": [
        "no_image",
        "image1",
        "image2",
        "image3",
        "blobs",
        "binary",
        "labels",
        "dilated_labels"
       ],
       "description": "image",
       "index": 0,
       "layout": "IPY_MODEL_fc23cf0ef61d47e18177500fa850771e",
       "style": "IPY_MODEL_b2c97e7d4dd44d72aa047e0419564a50"
      }
     },
     "4ab0b98486cb453da6bbb563333ec0a9": {
      "model_module": "@jupyter-widgets/base",
      "model_module_version": "2.0.0",
      "model_name": "LayoutModel",
      "state": {}
     },
     "4ad2cd56fa35490d87705093310f9c7a": {
      "model_module": "@jupyter-widgets/controls",
      "model_module_version": "2.0.0",
      "model_name": "LabelModel",
      "state": {
       "layout": "IPY_MODEL_74f6256f4f8b491ab0bf1de7268b9f79",
       "style": "IPY_MODEL_ca83aaecf6ae4a7182a17fd6a380b107",
       "value": "nsitk.tikhonov_deconvolution( image=no_image, kernel=no_image, regularization_constant=0.0)"
      }
     },
     "4ad5640b270a4e30952a51589eb7fc03": {
      "model_module": "@jupyter-widgets/output",
      "model_module_version": "1.0.0",
      "model_name": "OutputModel",
      "state": {
       "layout": "IPY_MODEL_e91799dd6ac54563bfa67b2d9e3574fc"
      }
     },
     "4afab37931d34254a2a0b8aa7d11051d": {
      "model_module": "@jupyter-widgets/controls",
      "model_module_version": "2.0.0",
      "model_name": "LabelModel",
      "state": {
       "layout": "IPY_MODEL_890edae9025c41c7addfc5dcbb9a1923",
       "style": "IPY_MODEL_1c90656a0ef6406cacaff668c9c026dc",
       "value": "nsitk.scalar_image_k_means_clustering( image=no_image)"
      }
     },
     "4b0277c09d3842f9aa6c18f727befab2": {
      "model_module": "@jupyter-widgets/base",
      "model_module_version": "2.0.0",
      "model_name": "LayoutModel",
      "state": {}
     },
     "4b5ff609a569436eb3eabf973044b2a5": {
      "model_module": "@jupyter-widgets/controls",
      "model_module_version": "2.0.0",
      "model_name": "DropdownModel",
      "state": {
       "_options_labels": [
        "no_image",
        "image1",
        "image2",
        "image3",
        "blobs",
        "binary",
        "labels",
        "dilated_labels"
       ],
       "description": "binary_image",
       "index": 0,
       "layout": "IPY_MODEL_a3849164dddf4d4e8e4e3b0d3e9c346e",
       "style": "IPY_MODEL_e233ba8397b14a758e69a770783115f2"
      }
     },
     "4b765f7d47b341ce8c2a8fede14a5c64": {
      "model_module": "@jupyter-widgets/base",
      "model_module_version": "2.0.0",
      "model_name": "LayoutModel",
      "state": {}
     },
     "4b77e5d442d14e5d90887ff4f9f7b3ea": {
      "model_module": "@jupyter-widgets/controls",
      "model_module_version": "2.0.0",
      "model_name": "LabelModel",
      "state": {
       "layout": "IPY_MODEL_364f1b94711d433882ef3926f4f8050c",
       "style": "IPY_MODEL_8abe8c7c9e284ab9a595071bb75ec5d8",
       "value": "skfilters.threshold_otsu( image=no_image)"
      }
     },
     "4b8d651e402145efb13b28f902084f20": {
      "model_module": "@jupyter-widgets/controls",
      "model_module_version": "2.0.0",
      "model_name": "IntSliderModel",
      "state": {
       "behavior": "drag-tap",
       "description": "radius_y",
       "layout": "IPY_MODEL_486217fa0a234ecdaadc323e39572aa2",
       "style": "IPY_MODEL_810277d23f314fdca072ac03d3af9701",
       "value": 5
      }
     },
     "4bb08d7b9700481eb5125266c4d525a7": {
      "model_module": "@jupyter-widgets/controls",
      "model_module_version": "2.0.0",
      "model_name": "LabelModel",
      "state": {
       "layout": "IPY_MODEL_efed0a13981c42d99eb701428714e244",
       "style": "IPY_MODEL_bcdf597e39ce4e1aa3b51dd4beaaace5",
       "value": "nsbatwm.seeded_watershed( membranes=no_image, labeled_nuclei=no_image)"
      }
     },
     "4bbc90b99ff141e187d934e5a1a479c8": {
      "model_module": "@jupyter-widgets/controls",
      "model_module_version": "2.0.0",
      "model_name": "DescriptionStyleModel",
      "state": {
       "description_width": ""
      }
     },
     "4bc15bfb2414489f83f671c6daa0d561": {
      "model_module": "@jupyter-widgets/controls",
      "model_module_version": "2.0.0",
      "model_name": "VBoxModel",
      "state": {
       "children": [
        "IPY_MODEL_746357cdd6db4976b726989638622128",
        "IPY_MODEL_b2c1d2a453a9441fb59618bd32f7b6a0"
       ],
       "layout": "IPY_MODEL_33795d5af668421b9d6c1d4131749539"
      }
     },
     "4bc52cc190e84e9f8e0e4a65d44a3e31": {
      "model_module": "@jupyter-widgets/base",
      "model_module_version": "2.0.0",
      "model_name": "LayoutModel",
      "state": {}
     },
     "4bf42838decf4aa0a8c0c9a8a66ae322": {
      "model_module": "@jupyter-widgets/controls",
      "model_module_version": "2.0.0",
      "model_name": "VBoxModel",
      "state": {
       "_dom_classes": [
        "widget-interact"
       ],
       "children": [
        "IPY_MODEL_2b05a4b5bb764f30b0c1823a7c2e6155",
        "IPY_MODEL_5008fb67ca7b4441b75a751cb66017a0",
        "IPY_MODEL_3ff3a7ec95464ff7a16857ca1ca50d73",
        "IPY_MODEL_d9656d7919254af9ad5ee384559f84a3"
       ],
       "layout": "IPY_MODEL_08dc52065d464953b2522d49fba7e1ca"
      }
     },
     "4c1d5c2b08ce40059ba32168e784b8cb": {
      "model_module": "@jupyter-widgets/controls",
      "model_module_version": "2.0.0",
      "model_name": "LabelStyleModel",
      "state": {
       "description_width": "",
       "font_family": "Courier",
       "font_size": null,
       "font_style": null,
       "font_variant": null,
       "font_weight": null,
       "text_color": null,
       "text_decoration": null
      }
     },
     "4c3c6f9d19cb41bfa9f980993cd92c9a": {
      "model_module": "@jupyter-widgets/base",
      "model_module_version": "2.0.0",
      "model_name": "LayoutModel",
      "state": {}
     },
     "4c6f42bfe135409fa8a838fb89f77c33": {
      "model_module": "@jupyter-widgets/controls",
      "model_module_version": "2.0.0",
      "model_name": "DescriptionStyleModel",
      "state": {
       "description_width": ""
      }
     },
     "4c8cdf5901914829b1d3b6e65fcefc65": {
      "model_module": "@jupyter-widgets/controls",
      "model_module_version": "2.0.0",
      "model_name": "VBoxModel",
      "state": {
       "_dom_classes": [
        "widget-interact"
       ],
       "children": [
        "IPY_MODEL_fb675eafddf24e11bb2a8d7293c1b456",
        "IPY_MODEL_88a569c97f4e4558ba0ed6466b1f865f",
        "IPY_MODEL_46826a43aa9f423db5d000bfad2e17d6"
       ],
       "layout": "IPY_MODEL_0ebfca2ee6e74e1bbf0f38f1d07eb07a"
      }
     },
     "4ccd68f830d643b6bcfb1d55ed3c8e7a": {
      "model_module": "@jupyter-widgets/controls",
      "model_module_version": "2.0.0",
      "model_name": "SliderStyleModel",
      "state": {
       "description_width": ""
      }
     },
     "4ce7e03e83b3419f93b2168a27b31531": {
      "model_module": "@jupyter-widgets/controls",
      "model_module_version": "2.0.0",
      "model_name": "VBoxModel",
      "state": {
       "children": [
        "IPY_MODEL_8542654c848e4e3c9128d148c46067b0",
        "IPY_MODEL_eb0a638a2d6e482e81354479e897539f"
       ],
       "layout": "IPY_MODEL_46f45ee3b7ce46bc99aa3b6885794187"
      }
     },
     "4d3704e201d94e23b3b604b4d8f6f20b": {
      "model_module": "@jupyter-widgets/controls",
      "model_module_version": "2.0.0",
      "model_name": "SliderStyleModel",
      "state": {
       "description_width": ""
      }
     },
     "4d96c09b28f3489cb8d6f1a30d6a186e": {
      "model_module": "@jupyter-widgets/controls",
      "model_module_version": "2.0.0",
      "model_name": "DescriptionStyleModel",
      "state": {
       "description_width": ""
      }
     },
     "4dd1b0a523fa42b2aa7e76801c1cc60a": {
      "model_module": "@jupyter-widgets/base",
      "model_module_version": "2.0.0",
      "model_name": "LayoutModel",
      "state": {}
     },
     "4de04608740a45839845037c04f8ef27": {
      "model_module": "@jupyter-widgets/base",
      "model_module_version": "2.0.0",
      "model_name": "LayoutModel",
      "state": {}
     },
     "4e2c6638801a46f0a0d89ed045cb77a4": {
      "model_module": "@jupyter-widgets/controls",
      "model_module_version": "2.0.0",
      "model_name": "LabelStyleModel",
      "state": {
       "description_width": "",
       "font_family": "Courier",
       "font_size": null,
       "font_style": null,
       "font_variant": null,
       "font_weight": null,
       "text_color": null,
       "text_decoration": null
      }
     },
     "4e3a9510060c4cd99ea7b5479d7d8a9e": {
      "model_module": "@jupyter-widgets/base",
      "model_module_version": "2.0.0",
      "model_name": "LayoutModel",
      "state": {}
     },
     "4e6d1c458b7f442f8cdf5847b0aa0808": {
      "model_module": "@jupyter-widgets/base",
      "model_module_version": "2.0.0",
      "model_name": "LayoutModel",
      "state": {
       "display": "none"
      }
     },
     "4ea373b5575f4157a4b5c636e858659e": {
      "model_module": "@jupyter-widgets/base",
      "model_module_version": "2.0.0",
      "model_name": "LayoutModel",
      "state": {}
     },
     "4ede4f17e894442c997902511135869b": {
      "model_module": "@jupyter-widgets/base",
      "model_module_version": "2.0.0",
      "model_name": "LayoutModel",
      "state": {
       "display": "none"
      }
     },
     "4ef8067685404485b62f87d83f764061": {
      "model_module": "@jupyter-widgets/base",
      "model_module_version": "2.0.0",
      "model_name": "LayoutModel",
      "state": {
       "display": "none"
      }
     },
     "4f1e4bfa04604603aefe0d5809337d95": {
      "model_module": "@jupyter-widgets/controls",
      "model_module_version": "2.0.0",
      "model_name": "VBoxModel",
      "state": {
       "children": [
        "IPY_MODEL_c1ea8799962b40f781097b0305de8a67",
        "IPY_MODEL_26650a40a11c403ca0d8350bbbcc75eb"
       ],
       "layout": "IPY_MODEL_59c2149d2b054248bf6eff893379604b"
      }
     },
     "4f57ddd37f1e44189574c23425de6245": {
      "model_module": "@jupyter-widgets/controls",
      "model_module_version": "2.0.0",
      "model_name": "VBoxModel",
      "state": {
       "children": [
        "IPY_MODEL_88f3191c7c4c4049a72fc4dafbf4a68e",
        "IPY_MODEL_71dc49916e524cb0a9420eb6c8e096d6"
       ],
       "layout": "IPY_MODEL_4ef8067685404485b62f87d83f764061"
      }
     },
     "4f59c583a8e3418495f34bc7d2783163": {
      "model_module": "@jupyter-widgets/base",
      "model_module_version": "2.0.0",
      "model_name": "LayoutModel",
      "state": {}
     },
     "4f64c3d2815d486b8ff158f3855fe020": {
      "model_module": "@jupyter-widgets/controls",
      "model_module_version": "2.0.0",
      "model_name": "LabelStyleModel",
      "state": {
       "description_width": "",
       "font_family": "Courier",
       "font_size": null,
       "font_style": null,
       "font_variant": null,
       "font_weight": null,
       "text_color": null,
       "text_decoration": null
      }
     },
     "4f66f500a056400f8288947d2436d2d7": {
      "model_module": "@jupyter-widgets/controls",
      "model_module_version": "2.0.0",
      "model_name": "VBoxModel",
      "state": {
       "children": [
        "IPY_MODEL_c34d2bf04f1c4c34b0414f9ac0080016",
        "IPY_MODEL_639754ec63ae4e74a772ea7acad28288"
       ],
       "layout": "IPY_MODEL_dccaad858697474f9d16ab79acef3335"
      }
     },
     "4f6b6790f3154b0182e4f3c2ae6c9080": {
      "model_module": "@jupyter-widgets/controls",
      "model_module_version": "2.0.0",
      "model_name": "LabelModel",
      "state": {
       "layout": "IPY_MODEL_a8d2947e6d9445e7aededdd2994154b9",
       "style": "IPY_MODEL_29c0922f0bac4d6fb80403b255474806",
       "value": "skfilters.roberts( image=no_image, mask=no_image)"
      }
     },
     "4f9d6b1fcc18451f94fc7bf856654cd8": {
      "model_module": "@jupyter-widgets/controls",
      "model_module_version": "2.0.0",
      "model_name": "FloatSliderModel",
      "state": {
       "behavior": "drag-tap",
       "description": "outline_sigma",
       "layout": "IPY_MODEL_a0722a11a43043238dd9914ccbe9fd43",
       "max": 25,
       "style": "IPY_MODEL_9b3ebc2c346940f5861c49a50943044e",
       "value": 2
      }
     },
     "4fb6d45d91dd4366ba18bf41e0cae50a": {
      "model_module": "@jupyter-widgets/controls",
      "model_module_version": "2.0.0",
      "model_name": "VBoxModel",
      "state": {
       "children": [
        "IPY_MODEL_1b0fededbf474cb58ed891f3a2b341c1",
        "IPY_MODEL_ab00ff1b14394336bf494f2c6ee4ab66"
       ],
       "layout": "IPY_MODEL_9529a2185acd4c5090ff78596a31e505"
      }
     },
     "4fc063a7f36045c89bf234f7471efbc6": {
      "model_module": "@jupyter-widgets/controls",
      "model_module_version": "2.0.0",
      "model_name": "LabelStyleModel",
      "state": {
       "description_width": "",
       "font_family": "Courier",
       "font_size": null,
       "font_style": null,
       "font_variant": null,
       "font_weight": null,
       "text_color": null,
       "text_decoration": null
      }
     },
     "4fedaf771dce475eb37d415b09d66542": {
      "model_module": "@jupyter-widgets/controls",
      "model_module_version": "2.0.0",
      "model_name": "LabelModel",
      "state": {
       "layout": "IPY_MODEL_dda0c81766ea4ba2a9cfc0f90ae98af1",
       "style": "IPY_MODEL_0cb9242181774befbb03865db93f8155",
       "value": "nsbatwm.threshold_yen( image=no_image)"
      }
     },
     "5008fb67ca7b4441b75a751cb66017a0": {
      "model_module": "@jupyter-widgets/controls",
      "model_module_version": "2.0.0",
      "model_name": "FloatSliderModel",
      "state": {
       "behavior": "drag-tap",
       "description": "percentile",
       "layout": "IPY_MODEL_0a90606cb2e944f197e6135101dd1ed3",
       "step": null,
       "style": "IPY_MODEL_b5fcc289401a4c1a9f2bcf6763babe65",
       "value": 50
      }
     },
     "5013347415384f37997301e78ea21da4": {
      "model_module": "@jupyter-widgets/base",
      "model_module_version": "2.0.0",
      "model_name": "LayoutModel",
      "state": {}
     },
     "502032ad583f45fcb517eba97380c2d8": {
      "model_module": "@jupyter-widgets/controls",
      "model_module_version": "2.0.0",
      "model_name": "DropdownModel",
      "state": {
       "_options_labels": [
        "no_image",
        "image1",
        "image2",
        "image3",
        "blobs",
        "binary",
        "labels",
        "dilated_labels"
       ],
       "description": "labels",
       "index": 0,
       "layout": "IPY_MODEL_0e629b442a9c4362bc14a84ce7d8277b",
       "style": "IPY_MODEL_e016b45885f24c04884d4fd8e5a4c4af"
      }
     },
     "50304ffb81fb4299bdf3831ca458e1cd": {
      "model_module": "@jupyter-widgets/base",
      "model_module_version": "2.0.0",
      "model_name": "LayoutModel",
      "state": {}
     },
     "5055b7107fd849e49c04c789192c84dc": {
      "model_module": "@jupyter-widgets/base",
      "model_module_version": "2.0.0",
      "model_name": "LayoutModel",
      "state": {}
     },
     "5074eb67eee54cf588b62c135a4dd901": {
      "model_module": "@jupyter-widgets/controls",
      "model_module_version": "2.0.0",
      "model_name": "LabelModel",
      "state": {
       "layout": "IPY_MODEL_cd025f7596f54db580e4ae979aa107f3",
       "style": "IPY_MODEL_f9da04af7cc94cac9392bfc80a667c07",
       "value": "skfilters.threshold_li( image=no_image)"
      }
     },
     "50943100e68b494db375f9036a44705a": {
      "model_module": "@jupyter-widgets/base",
      "model_module_version": "2.0.0",
      "model_name": "LayoutModel",
      "state": {}
     },
     "509b64bf32824b13a0dd7cbf4f8ea594": {
      "model_module": "@jupyter-widgets/controls",
      "model_module_version": "2.0.0",
      "model_name": "VBoxModel",
      "state": {
       "_dom_classes": [
        "widget-interact"
       ],
       "children": [
        "IPY_MODEL_e2a0d0dd53c44ce8bec8f8b5a270b5de",
        "IPY_MODEL_a0ebf61b6a684ea3a3a7e562eae94705"
       ],
       "layout": "IPY_MODEL_3193bcd921c74b2a8a3b1f2783406793"
      }
     },
     "5119160dfba240adad9ab0eb9e782acf": {
      "model_module": "@jupyter-widgets/base",
      "model_module_version": "2.0.0",
      "model_name": "LayoutModel",
      "state": {}
     },
     "516bcb9f8f2242339a8f64d7abdd289d": {
      "model_module": "@jupyter-widgets/controls",
      "model_module_version": "2.0.0",
      "model_name": "DescriptionStyleModel",
      "state": {
       "description_width": ""
      }
     },
     "5183d977868041b288420ea39bc9d13e": {
      "model_module": "@jupyter-widgets/output",
      "model_module_version": "1.0.0",
      "model_name": "OutputModel",
      "state": {
       "layout": "IPY_MODEL_e9657c4d10ea4667a3faa4bb075dfe16"
      }
     },
     "51afd6ff37164995b9c922d8d286fe64": {
      "model_module": "@jupyter-widgets/controls",
      "model_module_version": "2.0.0",
      "model_name": "LabelModel",
      "state": {
       "layout": "IPY_MODEL_2f13ba6946ed4a9fa82bcdb402a90317",
       "style": "IPY_MODEL_bd4f650704104d8696f0a5770413e581",
       "value": "erode_connected_labels( labels_input=no_image, radius=1)"
      }
     },
     "51c067fe0ad946a7b97361a2b023b280": {
      "model_module": "@jupyter-widgets/base",
      "model_module_version": "2.0.0",
      "model_name": "LayoutModel",
      "state": {}
     },
     "51cedef37be6438b8ce3ef37ca5c762f": {
      "model_module": "@jupyter-widgets/base",
      "model_module_version": "2.0.0",
      "model_name": "LayoutModel",
      "state": {}
     },
     "51deef3a4dea4dd2b48f2696bcb0109f": {
      "model_module": "@jupyter-widgets/base",
      "model_module_version": "2.0.0",
      "model_name": "LayoutModel",
      "state": {}
     },
     "520eca252220441a9b0b05ae0885d564": {
      "model_module": "@jupyter-widgets/base",
      "model_module_version": "2.0.0",
      "model_name": "LayoutModel",
      "state": {}
     },
     "5219ae47eb06494ab58b05724f50db37": {
      "model_module": "@jupyter-widgets/base",
      "model_module_version": "2.0.0",
      "model_name": "LayoutModel",
      "state": {
       "display": "none"
      }
     },
     "524ab836ae284c119758481502a50037": {
      "model_module": "@jupyter-widgets/controls",
      "model_module_version": "2.0.0",
      "model_name": "DescriptionStyleModel",
      "state": {
       "description_width": ""
      }
     },
     "5279da708d26477b954eb28c205b73ed": {
      "model_module": "@jupyter-widgets/base",
      "model_module_version": "2.0.0",
      "model_name": "LayoutModel",
      "state": {
       "display": "none"
      }
     },
     "52ea6f92fc64499abfa2936ebecfaf38": {
      "model_module": "@jupyter-widgets/controls",
      "model_module_version": "2.0.0",
      "model_name": "DescriptionStyleModel",
      "state": {
       "description_width": ""
      }
     },
     "53171a4735314cd28c2e60ead32c839d": {
      "model_module": "@jupyter-widgets/controls",
      "model_module_version": "2.0.0",
      "model_name": "VBoxModel",
      "state": {
       "children": [
        "IPY_MODEL_12a58fa88d69409090f88fbca4ac0c0a",
        "IPY_MODEL_d951c348fab34999bfd441eb905e406c",
        "IPY_MODEL_cc4b859ebd114ff390c9b09654eb91a1",
        "IPY_MODEL_39630545578947a4b1797bef977d3185",
        "IPY_MODEL_ef2c7eb070104013b79106510a8d3ffe",
        "IPY_MODEL_f3122c74615c45a1891ec1422fe52071",
        "IPY_MODEL_7ff44b06da494557907b2236e2169a2d",
        "IPY_MODEL_860a6afcfbae41ab8e37c5bcce4f0b9e",
        "IPY_MODEL_d11ead885b88412dbe15d6f7c78c9c0c",
        "IPY_MODEL_aa843a357a9445d9bd8ce4c618b8bcd2",
        "IPY_MODEL_a413affdc99f4b53b780ca7fae9b5caf",
        "IPY_MODEL_edcb0e296e55403c9fe1f94789701b03",
        "IPY_MODEL_4bc15bfb2414489f83f671c6daa0d561",
        "IPY_MODEL_9aa3099684ca4d6c8282bf90ca69d59c",
        "IPY_MODEL_653f9282571e4a65b37db248abfe0d0a",
        "IPY_MODEL_d8cb9332f3294b01a85d706060aed3f4",
        "IPY_MODEL_885cb1c231db4605885eaba9d19f4660",
        "IPY_MODEL_5b26d1efdb1841afb7f61c3b558b7357",
        "IPY_MODEL_324bf07a851847fa9257d4bebc24d791",
        "IPY_MODEL_b394b42138a742ca9c23708d6705efc4",
        "IPY_MODEL_31c0c135e95e4c68844a78f2e1685ce2",
        "IPY_MODEL_cc92fbbea158499ebeb9e97dbb785877",
        "IPY_MODEL_a11f21b3a3e54044ba0bbc0ecde44be1",
        "IPY_MODEL_88aca027087b42ef8df8297e659b0785",
        "IPY_MODEL_3dbc4532f37b470a8cabc29c3efeb804",
        "IPY_MODEL_82315639261e4fb6b10b086095a9bcb8",
        "IPY_MODEL_cbc027e820114d3faf8ee1bf408ac506",
        "IPY_MODEL_d012a30dda8f4d5d83580ec9956534a5",
        "IPY_MODEL_3c0b31b5931f4068a2ac5b2206360f89",
        "IPY_MODEL_66aa6a6e7f1c44f992fdc7d8fd0d53d9",
        "IPY_MODEL_e9576bb64e834311a495ce12493fb54f",
        "IPY_MODEL_5d885d4877034787bbbcc715c433f4d0",
        "IPY_MODEL_686b556cd940408399bd3dff65a165f6",
        "IPY_MODEL_a5e67ba7264b4b24b2512c4a8f2f6d88",
        "IPY_MODEL_f672bf08c51346d2a4d41620ca8f624a",
        "IPY_MODEL_d25dd3b1d37440168364702f9f548e53",
        "IPY_MODEL_f69b4b9640ee42ba83343b17e37c2116",
        "IPY_MODEL_d0566cd57d7347658ab4a840de1a1534",
        "IPY_MODEL_cc226dd92c7b45df94761e5c76bebf20",
        "IPY_MODEL_67de4a94dcef4a288d76b6c57f756c09",
        "IPY_MODEL_ffaac7bec1244f3ca5af90808884849a",
        "IPY_MODEL_84b662f1f93844d688f7a671085bcb11",
        "IPY_MODEL_dcd4c43ba58948fca9a28e48af6dc329",
        "IPY_MODEL_0cfb998c68c5492690c3c678dd3d6556",
        "IPY_MODEL_6163e80e48e1443b925d11804caf7307",
        "IPY_MODEL_306a2aa26be245059ed377d64ea5e255",
        "IPY_MODEL_5844109babf84df59f8814f8ccbd67bb",
        "IPY_MODEL_fd724c30d412422c9e955cb70a557ba2",
        "IPY_MODEL_59c0ce30309745c090008c78ffcbf7fe",
        "IPY_MODEL_78a5307211b64ba5bf99fda09ad3bd15",
        "IPY_MODEL_b6204a83f31446c89014f906f499f0c8",
        "IPY_MODEL_928584cd005a4ad59813ba6cd40c12f1",
        "IPY_MODEL_af989854e2dc4466a8bff1ea122ae0b5",
        "IPY_MODEL_827730c841e3470cae193085b84ac64c",
        "IPY_MODEL_60008d614cc34927a4a76d1b1662c1ea",
        "IPY_MODEL_3e69747a5868427d8b19ce2515686f14",
        "IPY_MODEL_e9bc813805304dd898270027d4522f78",
        "IPY_MODEL_36d15e9db1d240b18c3337e1118feb9b",
        "IPY_MODEL_6cf4d7ab2b184338b53090e25b0c7d02",
        "IPY_MODEL_4280e2a0165d482ebd988dfbd67b511c",
        "IPY_MODEL_0e5d536c064f413a8e013d4575a150f9",
        "IPY_MODEL_e9d39ec4921e4fe28edabfe6cd631ea6",
        "IPY_MODEL_6acb301806cb413eb341b731d5696cef",
        "IPY_MODEL_67c559fd4fe240ddae8c974560b91633",
        "IPY_MODEL_df6d98583230432dbc99cb4a79980cdd",
        "IPY_MODEL_a4c564cca3864f2fa49dd1c8024b1a09",
        "IPY_MODEL_7ca7e3ea256149b09cbbfc6a7dc63382",
        "IPY_MODEL_4f66f500a056400f8288947d2436d2d7",
        "IPY_MODEL_c8daa1f1d4ac48119791eda8e3cf6eeb",
        "IPY_MODEL_776570e5abe84f69a102af1d748d2168",
        "IPY_MODEL_312779f1559e4b3fa25ede4d9912ff63",
        "IPY_MODEL_171d31865f564b97bf54e471df0c94e3",
        "IPY_MODEL_40066f6dd5f544268cf7c4ce19abcee2",
        "IPY_MODEL_4ce7e03e83b3419f93b2168a27b31531",
        "IPY_MODEL_2096179d44e64dd2b88221e1f0eb9686",
        "IPY_MODEL_c002b67c710947469bddf8a15b148fda",
        "IPY_MODEL_c237aad551e942039b73ee141774db38",
        "IPY_MODEL_fa727688a03749e8aa23ddd12e2637aa",
        "IPY_MODEL_34a76d70061c4ff2a74d46c5f185d18e",
        "IPY_MODEL_6b582ba2302340d2a2be624f074e9ac9",
        "IPY_MODEL_ff9ae8a8ab37493b954004c2ded035ce",
        "IPY_MODEL_1a5678993e3a4b89af2cfe2c7d6ba087",
        "IPY_MODEL_0159a9bf5c7640cda26567c4b3abecd0",
        "IPY_MODEL_41cda3a8a71f4aaca509699ef2a9a3df",
        "IPY_MODEL_da585b8ea35a4f2bb24d2d402d8a9d88",
        "IPY_MODEL_42a85c9c838946a39b98c8bbdb3b3cbb",
        "IPY_MODEL_0f4e7c7e86ba4b2097b42dae686a21ec",
        "IPY_MODEL_5e39a87d1f5340c9a88830b3a18a7fd8",
        "IPY_MODEL_6751c39a39ec4bbb9dae9ad6b00692a5",
        "IPY_MODEL_d5d1ecb2c84140869b8fd7d19a0b0c82",
        "IPY_MODEL_c214f01997224e77a385c9b84ae0bc1b",
        "IPY_MODEL_dedd5447feda4bdeb714ae9eda77a9cb",
        "IPY_MODEL_785a4494cfa14e35be8b0f8701f29000",
        "IPY_MODEL_f7b2a0e0d61e4c0b8a247d65978b3634",
        "IPY_MODEL_d4f1b2a67cb343a0b05d17f1af5813f4",
        "IPY_MODEL_4f1e4bfa04604603aefe0d5809337d95",
        "IPY_MODEL_b81f89e6f89d447488577da83c5b26d6",
        "IPY_MODEL_2f2e2750da89436a9b5804232da97294",
        "IPY_MODEL_9aed66c7185640b6abfc48929f32d38e",
        "IPY_MODEL_3cfbf69c4f5144a7834dc43e7d06d6bc",
        "IPY_MODEL_5a7d1afba93a4e318f7197d503ec71f5",
        "IPY_MODEL_ed8845ee033841a98d7a8a92c9146414",
        "IPY_MODEL_f5c0607270e44549a714e62eae67cb7a",
        "IPY_MODEL_b4faf6f7107f41eb831712224032ba7e",
        "IPY_MODEL_a0d8cb378d164230b428e2d2233cefa8",
        "IPY_MODEL_fe202187b37a4eeeb5c6a0bece776674",
        "IPY_MODEL_0df5a7fcf610479cb7e7cc4b4caa74ac",
        "IPY_MODEL_48008c046c804510b3f752fec43ad293",
        "IPY_MODEL_1a4bc6498a8645eea9dc0b6ac9e84b20",
        "IPY_MODEL_e7b3597a97f24970b0a095b78bb3b236",
        "IPY_MODEL_cf0dc7d159a04af7925c752bd8986b1f",
        "IPY_MODEL_30480c03a5304651ab714f605162adc9",
        "IPY_MODEL_08adbe053ac94a809bc3bebe6280c1f2",
        "IPY_MODEL_84d5418f987942f793385a70be92ca22",
        "IPY_MODEL_221f00ac915b4a609468c49bd44d9c35",
        "IPY_MODEL_6f2517eb1a5349eebc77e1bf3c5d114d",
        "IPY_MODEL_1c65308038f444f8844d8407dcd6e3e5",
        "IPY_MODEL_8025b1a854ee4d30ace854f6e161846f",
        "IPY_MODEL_c181a8457dd747e396a097c93ae628ce",
        "IPY_MODEL_62e5cf28da2b4b819984eae6699bab71",
        "IPY_MODEL_4f57ddd37f1e44189574c23425de6245",
        "IPY_MODEL_7d4aac73b03a44e2886e2329a41ac425",
        "IPY_MODEL_d0f91dfd9976458ab5cf283d1d67814c",
        "IPY_MODEL_a381b2d7d7b9478cb2e0a1d85a4c1383",
        "IPY_MODEL_d6fac59b8e824be7bb782e5a5ba33ebc",
        "IPY_MODEL_a7b3053ced70416089fa14d0eea3060a",
        "IPY_MODEL_7fb79fee873149d9aa4e3fbda6ec56eb",
        "IPY_MODEL_a601d6a35eac40f9a11c5508c1739952",
        "IPY_MODEL_13f8d834b26f4ad7b851f12cbee370a7",
        "IPY_MODEL_6a1b8dad577b4abbafe21522dd54a2c8",
        "IPY_MODEL_6c6b6d953d7843c9a7fc4fc8003e7a96",
        "IPY_MODEL_acc2e35c9b8e4c62b0de7dcdf8d9327e",
        "IPY_MODEL_087c27e71c604366b1823aac73e46fdb",
        "IPY_MODEL_75b46573c78f4c1381436f800281661e",
        "IPY_MODEL_a335a79fe92c476d977bbdc0c141ffca",
        "IPY_MODEL_e0747ddab04349be85c759265ff1d3cd",
        "IPY_MODEL_64dfeb098f3b4e92bf131ab6cc88e0b1",
        "IPY_MODEL_c03d7b69e5894f86a367636eb127cc20",
        "IPY_MODEL_dddf536bb082479ca763cdd4b8f0c42e",
        "IPY_MODEL_4fb6d45d91dd4366ba18bf41e0cae50a",
        "IPY_MODEL_53742e3554a14007b36ceed8490ab21f",
        "IPY_MODEL_8163281dbf074fea816f67c24d382775",
        "IPY_MODEL_6e139de9580146a3bee3e93f179eb91f",
        "IPY_MODEL_f2cbf4c56c564513a6d1c7da0d7e1cc9",
        "IPY_MODEL_831d64f7436e4b5da6da5868bc61f523",
        "IPY_MODEL_62c7bbc29d6d46fabf566ccdec0f173a",
        "IPY_MODEL_3f27c5dbcc8a49cabeed64089641ec21",
        "IPY_MODEL_eb24ad11d03d4913a33201d7dc8db1ca",
        "IPY_MODEL_a5980b409a0a4e34acef8a08b1f73c3f",
        "IPY_MODEL_c814378691fe43b58ca290aca528d0e8",
        "IPY_MODEL_e44501ab907b48f29c7df999ad1de39d",
        "IPY_MODEL_d63ab2cfd6d946be8e742d0ff70b5471",
        "IPY_MODEL_f08d178b5c58400ba9c5488d8441a0a5",
        "IPY_MODEL_826e6a7cb3cd4bafa3cbdfd437299bb3",
        "IPY_MODEL_1c4835d6a8d04152aa3e43ee5d922cc6",
        "IPY_MODEL_a41c0f9d3904426c9420b7d4464b3fc9",
        "IPY_MODEL_2da006a5a5004b72962f2681c0fec4c3",
        "IPY_MODEL_ce896cbb56b7458c9ea31cbebbe50431",
        "IPY_MODEL_9ab4095f512d41aab319c440c5e79b54",
        "IPY_MODEL_68e755ab321b4651b3f5b3d29e0e9de3",
        "IPY_MODEL_dd26e042c0494f66be554a0fe34d4ceb",
        "IPY_MODEL_a4e530671c214723b980c67d16376d0e"
       ],
       "layout": "IPY_MODEL_848db680055f41278cb37e3e1a8a5b3c"
      }
     },
     "532b16e9ed7a42dbae628ea55eb70ea5": {
      "model_module": "@jupyter-widgets/output",
      "model_module_version": "1.0.0",
      "model_name": "OutputModel",
      "state": {
       "layout": "IPY_MODEL_faf7de7f050b4a55ab252dae133bf011"
      }
     },
     "533403b9bb0144bb9a9c47777f46aa7d": {
      "model_module": "@jupyter-widgets/controls",
      "model_module_version": "2.0.0",
      "model_name": "DescriptionStyleModel",
      "state": {
       "description_width": ""
      }
     },
     "5350d51359c244358f01b682e46cb46d": {
      "model_module": "@jupyter-widgets/base",
      "model_module_version": "2.0.0",
      "model_name": "LayoutModel",
      "state": {}
     },
     "53553252c02942ff9ee451ec392972fc": {
      "model_module": "@jupyter-widgets/base",
      "model_module_version": "2.0.0",
      "model_name": "LayoutModel",
      "state": {
       "display": "none"
      }
     },
     "535752a2c57e455ea730122b27abe664": {
      "model_module": "@jupyter-widgets/base",
      "model_module_version": "2.0.0",
      "model_name": "LayoutModel",
      "state": {}
     },
     "536316faf0474f41b35c1cec8caac987": {
      "model_module": "@jupyter-widgets/base",
      "model_module_version": "2.0.0",
      "model_name": "LayoutModel",
      "state": {}
     },
     "53742e3554a14007b36ceed8490ab21f": {
      "model_module": "@jupyter-widgets/controls",
      "model_module_version": "2.0.0",
      "model_name": "VBoxModel",
      "state": {
       "children": [
        "IPY_MODEL_f19692a2d3cb48fa8cecdfdc1f4d9f17",
        "IPY_MODEL_b4414dccb24648fbb14971149aa9584a"
       ],
       "layout": "IPY_MODEL_8c3e49e54e974e8d8f036c4a221bfaa5"
      }
     },
     "53965779b1f2424e911bee0ac685c460": {
      "model_module": "@jupyter-widgets/base",
      "model_module_version": "2.0.0",
      "model_name": "LayoutModel",
      "state": {}
     },
     "53b0ddd9915044a6b858463fd79691ae": {
      "model_module": "@jupyter-widgets/output",
      "model_module_version": "1.0.0",
      "model_name": "OutputModel",
      "state": {
       "layout": "IPY_MODEL_873ebcac34ea43d5b04bf15713718c59"
      }
     },
     "53bf971d94964551b40a26d5f58ae383": {
      "model_module": "@jupyter-widgets/base",
      "model_module_version": "2.0.0",
      "model_name": "LayoutModel",
      "state": {}
     },
     "53c04c56203548d4be6eb10bd62308e1": {
      "model_module": "@jupyter-widgets/base",
      "model_module_version": "2.0.0",
      "model_name": "LayoutModel",
      "state": {}
     },
     "53ff0a2b08a6416b97fd7177825d5c09": {
      "model_module": "@jupyter-widgets/controls",
      "model_module_version": "2.0.0",
      "model_name": "LabelModel",
      "state": {
       "layout": "IPY_MODEL_c802a0f9480b49ce985c183e4c798698",
       "style": "IPY_MODEL_fce62fc6323141e2b5de8e8a4e0c058b",
       "value": "voronoi_otsu_labeling( source=no_image, spot_sigma=2.0, outline_sigma=2.0)"
      }
     },
     "543a6fb5e07d4ef68674ec1a89238b2a": {
      "model_module": "@jupyter-widgets/controls",
      "model_module_version": "2.0.0",
      "model_name": "LabelStyleModel",
      "state": {
       "description_width": "",
       "font_family": "Courier",
       "font_size": null,
       "font_style": null,
       "font_variant": null,
       "font_weight": null,
       "text_color": null,
       "text_decoration": null
      }
     },
     "5440eff6761c4a828444f6ec251a0c6d": {
      "model_module": "@jupyter-widgets/base",
      "model_module_version": "2.0.0",
      "model_name": "LayoutModel",
      "state": {}
     },
     "544f64a15be04368850b8089a4ec4418": {
      "model_module": "@jupyter-widgets/base",
      "model_module_version": "2.0.0",
      "model_name": "LayoutModel",
      "state": {}
     },
     "5455767bb35b4ffe8b0e5466b8198738": {
      "model_module": "@jupyter-widgets/base",
      "model_module_version": "2.0.0",
      "model_name": "LayoutModel",
      "state": {}
     },
     "545d5c432d034c5b80832e4c75b889aa": {
      "model_module": "@jupyter-widgets/controls",
      "model_module_version": "2.0.0",
      "model_name": "DropdownModel",
      "state": {
       "_options_labels": [
        "no_image",
        "image1",
        "image2",
        "image3",
        "blobs",
        "binary",
        "labels",
        "dilated_labels"
       ],
       "description": "image",
       "index": 0,
       "layout": "IPY_MODEL_c1d4e9d1011a47698af7fb477a2b4102",
       "style": "IPY_MODEL_ee52087f0658414eac8caf54893fceeb"
      }
     },
     "5493825cc2fb4328aa278150bebad204": {
      "model_module": "@jupyter-widgets/base",
      "model_module_version": "2.0.0",
      "model_name": "LayoutModel",
      "state": {}
     },
     "54bf4b22adb94c40a5846836f72daafd": {
      "model_module": "@jupyter-widgets/controls",
      "model_module_version": "2.0.0",
      "model_name": "IntSliderModel",
      "state": {
       "behavior": "drag-tap",
       "description": "radius_z",
       "layout": "IPY_MODEL_6c82384bd83344a79db8516d0d9a6d72",
       "style": "IPY_MODEL_21ac5f65f04d4922bfad7968e1df622f"
      }
     },
     "54c44df565a94c09bdcb4bb8b11c78e9": {
      "model_module": "@jupyter-widgets/base",
      "model_module_version": "2.0.0",
      "model_name": "LayoutModel",
      "state": {}
     },
     "54d5ba7bb66f48dd89ab74593b8ccf07": {
      "model_module": "@jupyter-widgets/base",
      "model_module_version": "2.0.0",
      "model_name": "LayoutModel",
      "state": {}
     },
     "54fc95b435f34515818bb1ebf92f00bb": {
      "model_module": "@jupyter-widgets/controls",
      "model_module_version": "2.0.0",
      "model_name": "DropdownModel",
      "state": {
       "_options_labels": [
        "no_image",
        "image1",
        "image2",
        "image3",
        "blobs",
        "binary",
        "labels",
        "dilated_labels"
       ],
       "description": "label_image",
       "index": 0,
       "layout": "IPY_MODEL_9489b5b6560446a5bff7593e3dc05b03",
       "style": "IPY_MODEL_7c1cfbcf03224b8ab62b533900dc8a00"
      }
     },
     "54ffbad6bda04b59994222bcbf96a1bf": {
      "model_module": "@jupyter-widgets/controls",
      "model_module_version": "2.0.0",
      "model_name": "FloatSliderModel",
      "state": {
       "behavior": "drag-tap",
       "description": "outline_sigma",
       "layout": "IPY_MODEL_1391dd329a734aed89a7eb4e5b47c8e3",
       "max": 25,
       "style": "IPY_MODEL_57fe5babcfb64ee1ae0bf8a0f8abaee5"
      }
     },
     "5578c8516d774c33a66a8cbcd8703ac6": {
      "model_module": "@jupyter-widgets/base",
      "model_module_version": "2.0.0",
      "model_name": "LayoutModel",
      "state": {
       "display": "none"
      }
     },
     "557ae133c21e42ea90d99eb3435c48d4": {
      "model_module": "@jupyter-widgets/output",
      "model_module_version": "1.0.0",
      "model_name": "OutputModel",
      "state": {
       "layout": "IPY_MODEL_a37e4faef0b040bf8f6203af9e64da24"
      }
     },
     "557ce8f1b6fc486cb8e54fc52a1cfac8": {
      "model_module": "@jupyter-widgets/controls",
      "model_module_version": "2.0.0",
      "model_name": "LabelModel",
      "state": {
       "layout": "IPY_MODEL_8b7c7ff21c8a47faa945d9cd936ea618",
       "style": "IPY_MODEL_480e7ccd6c084390a9016c1533a13035",
       "value": "nsitk.label_statistics( intensity_image=no_image, label_image=no_image, size=True, intensity=True, perimeter=False, shape=False, position=False, moments=False)"
      }
     },
     "55c622072cb848f4b87995afd57207d5": {
      "model_module": "@jupyter-widgets/controls",
      "model_module_version": "2.0.0",
      "model_name": "DescriptionStyleModel",
      "state": {
       "description_width": ""
      }
     },
     "55f51eed43a247de897b4dfcc0feb0c8": {
      "model_module": "@jupyter-widgets/base",
      "model_module_version": "2.0.0",
      "model_name": "LayoutModel",
      "state": {}
     },
     "561060519c8a4239b58557159c82b309": {
      "model_module": "@jupyter-widgets/controls",
      "model_module_version": "2.0.0",
      "model_name": "DescriptionStyleModel",
      "state": {
       "description_width": ""
      }
     },
     "5615d04d6b404fadb7d3926dde3d78a9": {
      "model_module": "@jupyter-widgets/base",
      "model_module_version": "2.0.0",
      "model_name": "LayoutModel",
      "state": {}
     },
     "564b50888fc1404587108c6e5a44b8be": {
      "model_module": "@jupyter-widgets/controls",
      "model_module_version": "2.0.0",
      "model_name": "VBoxModel",
      "state": {
       "_dom_classes": [
        "widget-interact"
       ],
       "children": [
        "IPY_MODEL_1647874406454ed08ce6fffb934b0900",
        "IPY_MODEL_6bca6df8fbe84be8b9972aa627c26d8c",
        "IPY_MODEL_659d37f1059c470dbceb667aae1953a0"
       ],
       "layout": "IPY_MODEL_731f5f24ff9249489f2156658d9f7d70"
      }
     },
     "56c75e4846e9465dac176cd85d166fc2": {
      "model_module": "@jupyter-widgets/base",
      "model_module_version": "2.0.0",
      "model_name": "LayoutModel",
      "state": {
       "display": "none"
      }
     },
     "56dfd989012f4642baa12f07c273e24a": {
      "model_module": "@jupyter-widgets/base",
      "model_module_version": "2.0.0",
      "model_name": "LayoutModel",
      "state": {}
     },
     "56fc4244157c4309baee3c92447569d0": {
      "model_module": "@jupyter-widgets/base",
      "model_module_version": "2.0.0",
      "model_name": "LayoutModel",
      "state": {}
     },
     "5765b56289594d3d9669d638e0bac408": {
      "model_module": "@jupyter-widgets/output",
      "model_module_version": "1.0.0",
      "model_name": "OutputModel",
      "state": {
       "layout": "IPY_MODEL_c9ed9ccf6ea7498db9cdb48c024170e2"
      }
     },
     "5772a0b7dd7e43999f9b37710dc72e68": {
      "model_module": "@jupyter-widgets/controls",
      "model_module_version": "2.0.0",
      "model_name": "LabelModel",
      "state": {
       "layout": "IPY_MODEL_97ebeacc31af4c529123b4a513a8b0be",
       "style": "IPY_MODEL_0a163b3af9974e299ac76d96631b9016",
       "value": "nsbatwm.sum_images( image1=no_image, image2=no_image, factor1=1.0, factor2=1.0)"
      }
     },
     "578abca0bf414a1ba14916dd27b5a5ab": {
      "model_module": "@jupyter-widgets/controls",
      "model_module_version": "2.0.0",
      "model_name": "LabelStyleModel",
      "state": {
       "description_width": "",
       "font_family": "Courier",
       "font_size": null,
       "font_style": null,
       "font_variant": null,
       "font_weight": null,
       "text_color": null,
       "text_decoration": null
      }
     },
     "579d06a0c1dd4255a103e375a3b433d7": {
      "model_module": "@jupyter-widgets/base",
      "model_module_version": "2.0.0",
      "model_name": "LayoutModel",
      "state": {}
     },
     "57ae284c38ad4b119f0b7e9bb6021d05": {
      "model_module": "@jupyter-widgets/base",
      "model_module_version": "2.0.0",
      "model_name": "LayoutModel",
      "state": {}
     },
     "57c13ac9e7954de19efd1762902f7661": {
      "model_module": "@jupyter-widgets/output",
      "model_module_version": "1.0.0",
      "model_name": "OutputModel",
      "state": {
       "layout": "IPY_MODEL_2e1d2ef39af74499948a405ee7929744"
      }
     },
     "57e8543d77944e7ea406b6d0aea90ace": {
      "model_module": "@jupyter-widgets/controls",
      "model_module_version": "2.0.0",
      "model_name": "VBoxModel",
      "state": {
       "_dom_classes": [
        "widget-interact"
       ],
       "children": [
        "IPY_MODEL_12e4bf89491a44b7863092b80f54dcd0",
        "IPY_MODEL_80c5a7b74a66493d9072f8b1d87cf53a",
        "IPY_MODEL_6f75701d782e445b984a644704af50ab"
       ],
       "layout": "IPY_MODEL_a787e83730b14b809ac02a95789c400f"
      }
     },
     "57fe5babcfb64ee1ae0bf8a0f8abaee5": {
      "model_module": "@jupyter-widgets/controls",
      "model_module_version": "2.0.0",
      "model_name": "SliderStyleModel",
      "state": {
       "description_width": ""
      }
     },
     "5801ed4222864e1d92afdbbe77550487": {
      "model_module": "@jupyter-widgets/controls",
      "model_module_version": "2.0.0",
      "model_name": "IntSliderModel",
      "state": {
       "behavior": "drag-tap",
       "description": "minimumObjectSize",
       "layout": "IPY_MODEL_a883fe0a428a47f5841257163084209c",
       "style": "IPY_MODEL_96345a4ba4954e2a9ecb4fd6b8c28e03",
       "value": 15
      }
     },
     "580a2c14c372464cad3877c5025aa3ec": {
      "model_module": "@jupyter-widgets/controls",
      "model_module_version": "2.0.0",
      "model_name": "DescriptionStyleModel",
      "state": {
       "description_width": ""
      }
     },
     "580bf67196e045cb87d45f77ec2d40de": {
      "model_module": "@jupyter-widgets/base",
      "model_module_version": "2.0.0",
      "model_name": "LayoutModel",
      "state": {}
     },
     "5844109babf84df59f8814f8ccbd67bb": {
      "model_module": "@jupyter-widgets/controls",
      "model_module_version": "2.0.0",
      "model_name": "VBoxModel",
      "state": {
       "children": [
        "IPY_MODEL_0f313c1028d741d0966af520936b3e11",
        "IPY_MODEL_0e08e0a9b9074cf6a565612831234288"
       ],
       "layout": "IPY_MODEL_b617a7c1b0144867b4bbe599e59d323f"
      }
     },
     "5855141f88fb4ed3b245f3787bf6b026": {
      "model_module": "@jupyter-widgets/base",
      "model_module_version": "2.0.0",
      "model_name": "LayoutModel",
      "state": {}
     },
     "585be2f774914b91a35cc7c9ecbe2167": {
      "model_module": "@jupyter-widgets/controls",
      "model_module_version": "2.0.0",
      "model_name": "IntSliderModel",
      "state": {
       "behavior": "drag-tap",
       "description": "radius",
       "layout": "IPY_MODEL_658294c415b24391bbfa364c7b5f76f9",
       "style": "IPY_MODEL_e3fe862325e14477ad2f3bf8bd8b127e"
      }
     },
     "5866e452f4964351bd12d69e3f0d63b1": {
      "model_module": "@jupyter-widgets/controls",
      "model_module_version": "2.0.0",
      "model_name": "LabelModel",
      "state": {
       "layout": "IPY_MODEL_47b58b0562dd4ead94ee9ba48e7cad08",
       "style": "IPY_MODEL_b0d6a39815c14f23822cb0737882e64d",
       "value": "nsitk.connected_component_labeling( binary_image=no_image)"
      }
     },
     "586bee9c218241ccb0073c378c2d91ef": {
      "model_module": "@jupyter-widgets/base",
      "model_module_version": "2.0.0",
      "model_name": "LayoutModel",
      "state": {
       "display": "none"
      }
     },
     "58a830e6d6d84a57a6a60abab6f15dc5": {
      "model_module": "@jupyter-widgets/controls",
      "model_module_version": "2.0.0",
      "model_name": "IntSliderModel",
      "state": {
       "behavior": "drag-tap",
       "description": "footprint",
       "layout": "IPY_MODEL_4ea373b5575f4157a4b5c636e858659e",
       "style": "IPY_MODEL_62bdd7a05e8740ea81800b20f1d9631d"
      }
     },
     "58c63b60a19d4e94982913107cdf3de2": {
      "model_module": "@jupyter-widgets/base",
      "model_module_version": "2.0.0",
      "model_name": "LayoutModel",
      "state": {}
     },
     "5999fb8cbf2e47a28f6ead6e1c7faba5": {
      "model_module": "@jupyter-widgets/controls",
      "model_module_version": "2.0.0",
      "model_name": "SliderStyleModel",
      "state": {
       "description_width": ""
      }
     },
     "59c0ce30309745c090008c78ffcbf7fe": {
      "model_module": "@jupyter-widgets/controls",
      "model_module_version": "2.0.0",
      "model_name": "VBoxModel",
      "state": {
       "children": [
        "IPY_MODEL_14c8856e93e34c25b1330e15d371dc0a",
        "IPY_MODEL_98804b59abff43248dcfd336911b1c30"
       ],
       "layout": "IPY_MODEL_fdd90211640a4a6f8e31330fec283816"
      }
     },
     "59c2149d2b054248bf6eff893379604b": {
      "model_module": "@jupyter-widgets/base",
      "model_module_version": "2.0.0",
      "model_name": "LayoutModel",
      "state": {
       "display": "none"
      }
     },
     "5a12bf10a02d46558e242f7d9999ea3e": {
      "model_module": "@jupyter-widgets/controls",
      "model_module_version": "2.0.0",
      "model_name": "VBoxModel",
      "state": {
       "_dom_classes": [
        "widget-interact"
       ],
       "children": [
        "IPY_MODEL_9c68a7a020a24f639f2c38f88c3f5e7e",
        "IPY_MODEL_836c61f99c2248d999f2c46232fef62b",
        "IPY_MODEL_c81778eb72214019abc1a7e4969e8c1f"
       ],
       "layout": "IPY_MODEL_5b05f8defe4741a3a1b47d9aa0704f25"
      }
     },
     "5a16f1c78b254f948fe8d2a2317a381d": {
      "model_module": "@jupyter-widgets/controls",
      "model_module_version": "2.0.0",
      "model_name": "FloatSliderModel",
      "state": {
       "behavior": "drag-tap",
       "description": "order",
       "layout": "IPY_MODEL_82233f531fac4abe91b3aebfd68d54e0",
       "step": null,
       "style": "IPY_MODEL_b311dbd4783d49519f8c697bf981ac70",
       "value": 2
      }
     },
     "5a1770f7ca1c4d1ba413a9acc7f44151": {
      "model_module": "@jupyter-widgets/controls",
      "model_module_version": "2.0.0",
      "model_name": "DropdownModel",
      "state": {
       "_options_labels": [
        "no_image",
        "image1",
        "image2",
        "image3",
        "blobs",
        "binary",
        "labels",
        "dilated_labels"
       ],
       "description": "image",
       "index": 0,
       "layout": "IPY_MODEL_847684784f344550a0807d02558e611f",
       "style": "IPY_MODEL_491b31b88f64400d805a0b438c92034a"
      }
     },
     "5a1dd86475d64761ac87772001b00db6": {
      "model_module": "@jupyter-widgets/controls",
      "model_module_version": "2.0.0",
      "model_name": "FloatSliderModel",
      "state": {
       "behavior": "drag-tap",
       "description": "radius",
       "layout": "IPY_MODEL_d13c6a7a328146ec9d31954ded97d423",
       "style": "IPY_MODEL_38a3980a74c747ff9eb2901e08092821",
       "value": 1
      }
     },
     "5a790061cafe40cfbbd53017e73eeb03": {
      "model_module": "@jupyter-widgets/base",
      "model_module_version": "2.0.0",
      "model_name": "LayoutModel",
      "state": {
       "display": "none"
      }
     },
     "5a7d1afba93a4e318f7197d503ec71f5": {
      "model_module": "@jupyter-widgets/controls",
      "model_module_version": "2.0.0",
      "model_name": "VBoxModel",
      "state": {
       "children": [
        "IPY_MODEL_455f04b100c84db78dc3452a7d7f9331",
        "IPY_MODEL_d989f2fadcb6497b9bcc57af0e6e99ce"
       ],
       "layout": "IPY_MODEL_3fe46f4fe02645908d5aa63742083fe9"
      }
     },
     "5aa5583084c040f48eae4589fbfd1aad": {
      "model_module": "@jupyter-widgets/output",
      "model_module_version": "1.0.0",
      "model_name": "OutputModel",
      "state": {
       "layout": "IPY_MODEL_2b9a541888684cf294a638a5e78c8d1d"
      }
     },
     "5ad0142d02564c4180ed8a0bfe14146c": {
      "model_module": "@jupyter-widgets/controls",
      "model_module_version": "2.0.0",
      "model_name": "DescriptionStyleModel",
      "state": {
       "description_width": ""
      }
     },
     "5ae40ae3b92f4d53abd786db30f59e80": {
      "model_module": "@jupyter-widgets/base",
      "model_module_version": "2.0.0",
      "model_name": "LayoutModel",
      "state": {}
     },
     "5b05f8defe4741a3a1b47d9aa0704f25": {
      "model_module": "@jupyter-widgets/base",
      "model_module_version": "2.0.0",
      "model_name": "LayoutModel",
      "state": {}
     },
     "5b21b77f456349f0a9f41c986cb44e37": {
      "model_module": "@jupyter-widgets/base",
      "model_module_version": "2.0.0",
      "model_name": "LayoutModel",
      "state": {}
     },
     "5b26d1efdb1841afb7f61c3b558b7357": {
      "model_module": "@jupyter-widgets/controls",
      "model_module_version": "2.0.0",
      "model_name": "VBoxModel",
      "state": {
       "children": [
        "IPY_MODEL_6f5584adb6504dd9b2189cd406a5b073",
        "IPY_MODEL_4344b5c0332d4480b2c87c5d1ab71642"
       ],
       "layout": "IPY_MODEL_9c1e97059e624c2a88826681ef311e08"
      }
     },
     "5b377c54017b4670b19c6ad4b988c26e": {
      "model_module": "@jupyter-widgets/controls",
      "model_module_version": "2.0.0",
      "model_name": "IntSliderModel",
      "state": {
       "behavior": "drag-tap",
       "description": "radius_z",
       "layout": "IPY_MODEL_d5e6abb531c94190883151905c25b878",
       "style": "IPY_MODEL_8a5ebc939dea4548af70cc69534f05be"
      }
     },
     "5b67fae0d5b24b9d98bd972c02b6a05d": {
      "model_module": "@jupyter-widgets/controls",
      "model_module_version": "2.0.0",
      "model_name": "DropdownModel",
      "state": {
       "_options_labels": [
        "no_image",
        "image1",
        "image2",
        "image3",
        "blobs",
        "binary",
        "labels",
        "dilated_labels"
       ],
       "description": "mask",
       "index": 0,
       "layout": "IPY_MODEL_d2c4c4c9219d419280746e5ba60b7b72",
       "style": "IPY_MODEL_0331ccba15684fa08ae3b6dc764cc104"
      }
     },
     "5bca29ee5a8c4ac181295f1d174e51f5": {
      "model_module": "@jupyter-widgets/base",
      "model_module_version": "2.0.0",
      "model_name": "LayoutModel",
      "state": {}
     },
     "5c074b1d8b5c419598b6fc0e0434eb74": {
      "model_module": "@jupyter-widgets/controls",
      "model_module_version": "2.0.0",
      "model_name": "LabelStyleModel",
      "state": {
       "description_width": "",
       "font_family": "Courier",
       "font_size": null,
       "font_style": null,
       "font_variant": null,
       "font_weight": null,
       "text_color": null,
       "text_decoration": null
      }
     },
     "5c5c1902b9d947088fdc0503616c08a0": {
      "model_module": "@jupyter-widgets/controls",
      "model_module_version": "2.0.0",
      "model_name": "DropdownModel",
      "state": {
       "_options_labels": [
        "no_image",
        "image1",
        "image2",
        "image3",
        "blobs",
        "binary",
        "labels",
        "dilated_labels"
       ],
       "description": "binary_image",
       "index": 0,
       "layout": "IPY_MODEL_aebdcbd2e8454dc7a0def4a79b8dd9e8",
       "style": "IPY_MODEL_301749be35cd4dfe92e4fe67c8e8e83c"
      }
     },
     "5cb932a19e01419a83ffec58aefdca03": {
      "model_module": "@jupyter-widgets/base",
      "model_module_version": "2.0.0",
      "model_name": "LayoutModel",
      "state": {}
     },
     "5cd140c009e6452b8d9c2b0f485a423f": {
      "model_module": "@jupyter-widgets/base",
      "model_module_version": "2.0.0",
      "model_name": "LayoutModel",
      "state": {}
     },
     "5cdb853851614fa986ec9bbca03b71b6": {
      "model_module": "@jupyter-widgets/output",
      "model_module_version": "1.0.0",
      "model_name": "OutputModel",
      "state": {
       "layout": "IPY_MODEL_fe68102dee854d07b45e41c9dccb2ff2"
      }
     },
     "5d0859ec75cc4905b4e9724fac6c2877": {
      "model_module": "@jupyter-widgets/base",
      "model_module_version": "2.0.0",
      "model_name": "LayoutModel",
      "state": {}
     },
     "5d18fc09bf584e90a57d598cc24317e2": {
      "model_module": "@jupyter-widgets/controls",
      "model_module_version": "2.0.0",
      "model_name": "DropdownModel",
      "state": {
       "_options_labels": [
        "no_image",
        "image1",
        "image2",
        "image3",
        "blobs",
        "binary",
        "labels",
        "dilated_labels"
       ],
       "description": "mask",
       "index": 0,
       "layout": "IPY_MODEL_f16c171142804bd09ecb726940835568",
       "style": "IPY_MODEL_3545cfae7f3245f8a000d4dd6f7d2886"
      }
     },
     "5d1cd85f6a4f4badbb669d55fb639cca": {
      "model_module": "@jupyter-widgets/base",
      "model_module_version": "2.0.0",
      "model_name": "LayoutModel",
      "state": {}
     },
     "5d1e817b44164318901426e56bcf47bb": {
      "model_module": "@jupyter-widgets/controls",
      "model_module_version": "2.0.0",
      "model_name": "FloatSliderModel",
      "state": {
       "behavior": "drag-tap",
       "description": "variance_z",
       "layout": "IPY_MODEL_c30e04e4c96248be812fd0bd662a6fc3",
       "step": null,
       "style": "IPY_MODEL_66da9c1af9834bea819368760bd73875"
      }
     },
     "5d23b35c5f954fcd9152ff068082a4a2": {
      "model_module": "@jupyter-widgets/controls",
      "model_module_version": "2.0.0",
      "model_name": "DropdownModel",
      "state": {
       "_options_labels": [
        "no_image",
        "image1",
        "image2",
        "image3",
        "blobs",
        "binary",
        "labels",
        "dilated_labels"
       ],
       "description": "label_image",
       "index": 0,
       "layout": "IPY_MODEL_b2475481d1a342e78445a06dc55febc7",
       "style": "IPY_MODEL_10e07e3223fa4cf59156bf4d6d6d5f6a"
      }
     },
     "5d3264d98e4f4195ab567607af73b89e": {
      "model_module": "@jupyter-widgets/output",
      "model_module_version": "1.0.0",
      "model_name": "OutputModel",
      "state": {
       "layout": "IPY_MODEL_56fc4244157c4309baee3c92447569d0"
      }
     },
     "5d885d4877034787bbbcc715c433f4d0": {
      "model_module": "@jupyter-widgets/controls",
      "model_module_version": "2.0.0",
      "model_name": "VBoxModel",
      "state": {
       "children": [
        "IPY_MODEL_ee744de459244632b10f83e8e0f2906c",
        "IPY_MODEL_cce7f55bf7b6409588c64dcaca75ddc8"
       ],
       "layout": "IPY_MODEL_8fd5d0da7da946079204dcc043fa5691"
      }
     },
     "5d968da522cf491284a014693d803fdf": {
      "model_module": "@jupyter-widgets/controls",
      "model_module_version": "2.0.0",
      "model_name": "SliderStyleModel",
      "state": {
       "description_width": ""
      }
     },
     "5dab8203ded54fd880c7cc0aca5ead7d": {
      "model_module": "@jupyter-widgets/controls",
      "model_module_version": "2.0.0",
      "model_name": "DescriptionStyleModel",
      "state": {
       "description_width": ""
      }
     },
     "5dac8f4b42d74fe891a5dbc1fa9e8277": {
      "model_module": "@jupyter-widgets/base",
      "model_module_version": "2.0.0",
      "model_name": "LayoutModel",
      "state": {}
     },
     "5dede81ee47c41af9b95f1cc41f66e25": {
      "model_module": "@jupyter-widgets/base",
      "model_module_version": "2.0.0",
      "model_name": "LayoutModel",
      "state": {}
     },
     "5e0cd2a7d4454e658e45fdd98fd44616": {
      "model_module": "@jupyter-widgets/controls",
      "model_module_version": "2.0.0",
      "model_name": "VBoxModel",
      "state": {
       "_dom_classes": [
        "widget-interact"
       ],
       "children": [
        "IPY_MODEL_207d6484f44f4124a4b8e119b3169398",
        "IPY_MODEL_a6f763b0b9044da2acab58db9bf2dbc4",
        "IPY_MODEL_170d904aa30644b8bc8f839388fe41ea"
       ],
       "layout": "IPY_MODEL_ed6d77f33b0b497192b53a739abc33d3"
      }
     },
     "5e0f47bc14e549cc9bffc4e7f53a2fb1": {
      "model_module": "@jupyter-widgets/controls",
      "model_module_version": "2.0.0",
      "model_name": "CheckboxStyleModel",
      "state": {
       "description_width": ""
      }
     },
     "5e12b1a509e94343a6534475f77eca17": {
      "model_module": "@jupyter-widgets/base",
      "model_module_version": "2.0.0",
      "model_name": "LayoutModel",
      "state": {}
     },
     "5e16380f66ff4f5e93be02735bdbe608": {
      "model_module": "@jupyter-widgets/controls",
      "model_module_version": "2.0.0",
      "model_name": "LabelModel",
      "state": {
       "layout": "IPY_MODEL_7e338643488e46bd8d47fdfa3df64706",
       "style": "IPY_MODEL_41e585a768ad40668296ce1c801cf2c1",
       "value": "nsbatwm.label( label_image=no_image)"
      }
     },
     "5e38ac5a4b454e1e8dc1c894798196b5": {
      "model_module": "@jupyter-widgets/base",
      "model_module_version": "2.0.0",
      "model_name": "LayoutModel",
      "state": {}
     },
     "5e39a87d1f5340c9a88830b3a18a7fd8": {
      "model_module": "@jupyter-widgets/controls",
      "model_module_version": "2.0.0",
      "model_name": "VBoxModel",
      "state": {
       "children": [
        "IPY_MODEL_ebb034b899d34449a4be5cd7d2055dbc",
        "IPY_MODEL_a89d0cdab81c45908a9a46f46026bcb3"
       ],
       "layout": "IPY_MODEL_86bad1d076dd4dafb0bb5bf55a8fd240"
      }
     },
     "5e46b57655d44078ac612d0ddebf35cb": {
      "model_module": "@jupyter-widgets/base",
      "model_module_version": "2.0.0",
      "model_name": "LayoutModel",
      "state": {}
     },
     "5e64b062c18d460bb679c694feaa0812": {
      "model_module": "@jupyter-widgets/output",
      "model_module_version": "1.0.0",
      "model_name": "OutputModel",
      "state": {
       "layout": "IPY_MODEL_16cb69edd72c4ae290096fedae779996"
      }
     },
     "5ea0030020ae4a3181da1b1fe375596b": {
      "model_module": "@jupyter-widgets/controls",
      "model_module_version": "2.0.0",
      "model_name": "LabelStyleModel",
      "state": {
       "description_width": "",
       "font_family": "Courier",
       "font_size": null,
       "font_style": null,
       "font_variant": null,
       "font_weight": null,
       "text_color": null,
       "text_decoration": null
      }
     },
     "5ea44f35ab2e41cba0124e5e91b484aa": {
      "model_module": "@jupyter-widgets/base",
      "model_module_version": "2.0.0",
      "model_name": "LayoutModel",
      "state": {}
     },
     "5eb17125c15c4143bd28d8a469f73849": {
      "model_module": "@jupyter-widgets/controls",
      "model_module_version": "2.0.0",
      "model_name": "VBoxModel",
      "state": {
       "_dom_classes": [
        "widget-interact"
       ],
       "children": [
        "IPY_MODEL_75b438a942ae404a975a74faef75cd3e",
        "IPY_MODEL_3b3d8a6e25cf4dfa806e75752e3e2e92",
        "IPY_MODEL_85a1a762a2d44e77ada378cc22b3fa78"
       ],
       "layout": "IPY_MODEL_159e5e6dcb304cdab7d027e101b53ba0"
      }
     },
     "5ebe574363fa4d97b5995bb31be18f65": {
      "model_module": "@jupyter-widgets/base",
      "model_module_version": "2.0.0",
      "model_name": "LayoutModel",
      "state": {
       "display": "none"
      }
     },
     "5ece510974fc42b193b460566755af72": {
      "model_module": "@jupyter-widgets/base",
      "model_module_version": "2.0.0",
      "model_name": "LayoutModel",
      "state": {}
     },
     "5ee6564d53664dbe920429673c8ee191": {
      "model_module": "@jupyter-widgets/output",
      "model_module_version": "1.0.0",
      "model_name": "OutputModel",
      "state": {
       "layout": "IPY_MODEL_0254acf8a25b4b11a7df84627b80e4f6"
      }
     },
     "5ef2489c6f3f4c7aa58b6f0034beec14": {
      "model_module": "@jupyter-widgets/controls",
      "model_module_version": "2.0.0",
      "model_name": "LabelModel",
      "state": {
       "layout": "IPY_MODEL_ab246dd424e54916b9c3eaed83302e9e",
       "style": "IPY_MODEL_ef766e3b34ce423fa589740ee1e32820",
       "value": "nsbatwm.Manually_split_labels( labels_layer=no_image)"
      }
     },
     "5f31c939a5ee4dc98033dd9e0f54effb": {
      "model_module": "@jupyter-widgets/base",
      "model_module_version": "2.0.0",
      "model_name": "LayoutModel",
      "state": {}
     },
     "5f98380e77da468499de7ef723a7a4a1": {
      "model_module": "@jupyter-widgets/base",
      "model_module_version": "2.0.0",
      "model_name": "LayoutModel",
      "state": {}
     },
     "5f9e3faaec38409ebb03dc9c7f1d8266": {
      "model_module": "@jupyter-widgets/controls",
      "model_module_version": "2.0.0",
      "model_name": "DescriptionStyleModel",
      "state": {
       "description_width": ""
      }
     },
     "5fceaead826749fa9a336d6f860bf661": {
      "model_module": "@jupyter-widgets/controls",
      "model_module_version": "2.0.0",
      "model_name": "VBoxModel",
      "state": {
       "_dom_classes": [
        "widget-interact"
       ],
       "children": [
        "IPY_MODEL_27db7be6e3eb41f896fe64b49cd108dd",
        "IPY_MODEL_35b1e0304c924a769541c8eed9825593",
        "IPY_MODEL_8aa64ca29e0348d48e7355a2e15b0678"
       ],
       "layout": "IPY_MODEL_85063bdec42547b0ab8266075777b13e"
      }
     },
     "5fd4e00c3f674e0f89033575310b873d": {
      "model_module": "@jupyter-widgets/controls",
      "model_module_version": "2.0.0",
      "model_name": "DropdownModel",
      "state": {
       "_options_labels": [
        "no_image",
        "image1",
        "image2",
        "image3",
        "blobs",
        "binary",
        "labels",
        "dilated_labels"
       ],
       "description": "image",
       "index": 0,
       "layout": "IPY_MODEL_e854537d2b0f4c288432606cc298c606",
       "style": "IPY_MODEL_477c4bc138b0484eb6dbe6054455b9a8"
      }
     },
     "60008d614cc34927a4a76d1b1662c1ea": {
      "model_module": "@jupyter-widgets/controls",
      "model_module_version": "2.0.0",
      "model_name": "VBoxModel",
      "state": {
       "children": [
        "IPY_MODEL_b9f30d9a14d34f218dad9a03a550ec7e",
        "IPY_MODEL_8aa9baf96c5a42349ba6b5d4e440329d"
       ],
       "layout": "IPY_MODEL_d026e481da4d404bb45bdd8c2c67144d"
      }
     },
     "6005efbca0b84071ac39dd1f58b799c2": {
      "model_module": "@jupyter-widgets/controls",
      "model_module_version": "2.0.0",
      "model_name": "DescriptionStyleModel",
      "state": {
       "description_width": ""
      }
     },
     "600c7c41ab714ed2967b2a534fc3833f": {
      "model_module": "@jupyter-widgets/controls",
      "model_module_version": "2.0.0",
      "model_name": "SliderStyleModel",
      "state": {
       "description_width": ""
      }
     },
     "602f56ce9f1d474c8ecc9f6048d1dedc": {
      "model_module": "@jupyter-widgets/base",
      "model_module_version": "2.0.0",
      "model_name": "LayoutModel",
      "state": {
       "display": "none"
      }
     },
     "604091f009984af0b93312aded902505": {
      "model_module": "@jupyter-widgets/base",
      "model_module_version": "2.0.0",
      "model_name": "LayoutModel",
      "state": {
       "display": "none"
      }
     },
     "60830b801c5a4c8cbab1f9d629ac30ce": {
      "model_module": "@jupyter-widgets/base",
      "model_module_version": "2.0.0",
      "model_name": "LayoutModel",
      "state": {}
     },
     "611dbc5faa104f66a5d7dc88ac62902e": {
      "model_module": "@jupyter-widgets/base",
      "model_module_version": "2.0.0",
      "model_name": "LayoutModel",
      "state": {}
     },
     "6163e80e48e1443b925d11804caf7307": {
      "model_module": "@jupyter-widgets/controls",
      "model_module_version": "2.0.0",
      "model_name": "VBoxModel",
      "state": {
       "children": [
        "IPY_MODEL_30d942f4d8884d5191a268785e726099",
        "IPY_MODEL_63e71458d0764b7782b04d106c1e7fb2"
       ],
       "layout": "IPY_MODEL_29987cbc3b6e4b26a2dbd98955e0a1bd"
      }
     },
     "618585007e644ee7a0e0ea3e6083b81e": {
      "model_module": "@jupyter-widgets/base",
      "model_module_version": "2.0.0",
      "model_name": "LayoutModel",
      "state": {
       "display": "none"
      }
     },
     "61b34148bbd24512a5ea3019566c343f": {
      "model_module": "@jupyter-widgets/base",
      "model_module_version": "2.0.0",
      "model_name": "LayoutModel",
      "state": {}
     },
     "61bb2be247e74838b853c6548d3137e9": {
      "model_module": "@jupyter-widgets/base",
      "model_module_version": "2.0.0",
      "model_name": "LayoutModel",
      "state": {}
     },
     "61e487626a7140ebafd1f0c6c6681c3f": {
      "model_module": "@jupyter-widgets/output",
      "model_module_version": "1.0.0",
      "model_name": "OutputModel",
      "state": {
       "layout": "IPY_MODEL_a4e6b4d8da81421fa59900f6b08782ef"
      }
     },
     "6212a25aae1747c5b7ffb5f0be07d7d5": {
      "model_module": "@jupyter-widgets/base",
      "model_module_version": "2.0.0",
      "model_name": "LayoutModel",
      "state": {
       "display": "none"
      }
     },
     "6214ef817cb148f9a511b50115904f62": {
      "model_module": "@jupyter-widgets/base",
      "model_module_version": "2.0.0",
      "model_name": "LayoutModel",
      "state": {
       "display": "none"
      }
     },
     "62508b50496f42e3b3b3c1858bb6c7db": {
      "model_module": "@jupyter-widgets/controls",
      "model_module_version": "2.0.0",
      "model_name": "LabelStyleModel",
      "state": {
       "description_width": "",
       "font_family": "Courier",
       "font_size": null,
       "font_style": null,
       "font_variant": null,
       "font_weight": null,
       "text_color": null,
       "text_decoration": null
      }
     },
     "62586f6f49c948f9870c06fa1b6b51bb": {
      "model_module": "@jupyter-widgets/base",
      "model_module_version": "2.0.0",
      "model_name": "LayoutModel",
      "state": {}
     },
     "625ce75ee1e1436fa3243f71d9113d24": {
      "model_module": "@jupyter-widgets/base",
      "model_module_version": "2.0.0",
      "model_name": "LayoutModel",
      "state": {}
     },
     "62bdd7a05e8740ea81800b20f1d9631d": {
      "model_module": "@jupyter-widgets/controls",
      "model_module_version": "2.0.0",
      "model_name": "SliderStyleModel",
      "state": {
       "description_width": ""
      }
     },
     "62bfcbdd48f1402f821e4a1c9331be0f": {
      "model_module": "@jupyter-widgets/controls",
      "model_module_version": "2.0.0",
      "model_name": "LabelStyleModel",
      "state": {
       "description_width": "",
       "font_family": "Courier",
       "font_size": null,
       "font_style": null,
       "font_variant": null,
       "font_weight": null,
       "text_color": null,
       "text_decoration": null
      }
     },
     "62c0f1026831431f9a35dcf2127298a1": {
      "model_module": "@jupyter-widgets/controls",
      "model_module_version": "2.0.0",
      "model_name": "VBoxModel",
      "state": {
       "_dom_classes": [
        "widget-interact"
       ],
       "children": [
        "IPY_MODEL_a5b38aa5a71e45b187a5b7880ec908c8",
        "IPY_MODEL_048eae202e5c4edcaf16e1a48f97a93a"
       ],
       "layout": "IPY_MODEL_3a64d1548bcd466a8ced55acb16e4b22"
      }
     },
     "62c7bbc29d6d46fabf566ccdec0f173a": {
      "model_module": "@jupyter-widgets/controls",
      "model_module_version": "2.0.0",
      "model_name": "VBoxModel",
      "state": {
       "children": [
        "IPY_MODEL_a636e7e2f3c44e60a5282e936aa9a12e",
        "IPY_MODEL_e5385801288145c1a675580577b9cfe7"
       ],
       "layout": "IPY_MODEL_19ed1bc3874d491ab2cdd38f80e6fb21"
      }
     },
     "62e5cf28da2b4b819984eae6699bab71": {
      "model_module": "@jupyter-widgets/controls",
      "model_module_version": "2.0.0",
      "model_name": "VBoxModel",
      "state": {
       "children": [
        "IPY_MODEL_68a319b8359e42f991efc06f45c9b500",
        "IPY_MODEL_1be4900a2439409983f5df6e7b5468e0"
       ],
       "layout": "IPY_MODEL_acbde6be6ef14f93968bb00240140bf6"
      }
     },
     "62f0dbdc6a3e4a7a8d302eeb3056643e": {
      "model_module": "@jupyter-widgets/controls",
      "model_module_version": "2.0.0",
      "model_name": "LabelStyleModel",
      "state": {
       "description_width": "",
       "font_family": "Courier",
       "font_size": null,
       "font_style": null,
       "font_variant": null,
       "font_weight": null,
       "text_color": null,
       "text_decoration": null
      }
     },
     "62f3c868997548ac922c43de895b2032": {
      "model_module": "@jupyter-widgets/base",
      "model_module_version": "2.0.0",
      "model_name": "LayoutModel",
      "state": {}
     },
     "62f40dfb9c2240a9b162c1aed5ff1e00": {
      "model_module": "@jupyter-widgets/base",
      "model_module_version": "2.0.0",
      "model_name": "LayoutModel",
      "state": {}
     },
     "6319c70bdf2c4b30a70dda8e01b751a3": {
      "model_module": "@jupyter-widgets/base",
      "model_module_version": "2.0.0",
      "model_name": "LayoutModel",
      "state": {
       "display": "none"
      }
     },
     "633712438bf24dc0896a33a60e630530": {
      "model_module": "@jupyter-widgets/controls",
      "model_module_version": "2.0.0",
      "model_name": "VBoxModel",
      "state": {
       "_dom_classes": [
        "widget-interact"
       ],
       "children": [
        "IPY_MODEL_0357e73912eb4258b9fb5fbe3b6ed346",
        "IPY_MODEL_54fc95b435f34515818bb1ebf92f00bb",
        "IPY_MODEL_cd172606d56b450fa6fbf7abc51dbbe5",
        "IPY_MODEL_1c31856514be4c3383d1529a2271b4e1",
        "IPY_MODEL_0e765adddb784bc095e9884932973c29",
        "IPY_MODEL_e99f26b07df243a3bb20388cb87d37cb",
        "IPY_MODEL_8dd380adb7b04708a5dcaa340e732151",
        "IPY_MODEL_08657c36597f427ba4b149977c058a9c",
        "IPY_MODEL_df508f646e2c46d7881afc1e3b8e8834"
       ],
       "layout": "IPY_MODEL_f6c297d637f74b92b8b4c074e5850774"
      }
     },
     "635eae06389b4e639810799c80870ebc": {
      "model_module": "@jupyter-widgets/controls",
      "model_module_version": "2.0.0",
      "model_name": "LabelModel",
      "state": {
       "layout": "IPY_MODEL_d04918d604b0436797ca8440cfb4d691",
       "style": "IPY_MODEL_048e230f28014af4bb8bb8f08566ee27",
       "value": "nsitk.touching_objects_labeling( binary_image=no_image)"
      }
     },
     "635f6bc04e5948089bd9bf8dd75a5f0d": {
      "model_module": "@jupyter-widgets/base",
      "model_module_version": "2.0.0",
      "model_name": "LayoutModel",
      "state": {}
     },
     "637fa656d6e0458099025398e0696b7c": {
      "model_module": "@jupyter-widgets/controls",
      "model_module_version": "2.0.0",
      "model_name": "DropdownModel",
      "state": {
       "_options_labels": [
        "no_image",
        "image1",
        "image2",
        "image3",
        "blobs",
        "binary",
        "labels",
        "dilated_labels"
       ],
       "description": "kernel",
       "index": 0,
       "layout": "IPY_MODEL_8181d7a560134e0ab5cf9df0df6c9cfd",
       "style": "IPY_MODEL_0e605a41213f4e3191fead184341bad3"
      }
     },
     "639754ec63ae4e74a772ea7acad28288": {
      "model_module": "@jupyter-widgets/controls",
      "model_module_version": "2.0.0",
      "model_name": "LabelModel",
      "state": {
       "layout": "IPY_MODEL_e0cc761cf3ce4aecab6996be3d65049c",
       "style": "IPY_MODEL_40d12a65f0ea4a41810951f8bc0e756a",
       "value": "nsitk.h_minima( image=no_image, height=10.0)"
      }
     },
     "63c64404d8a84ce68bc08fb045fb9e08": {
      "model_module": "@jupyter-widgets/base",
      "model_module_version": "2.0.0",
      "model_name": "LayoutModel",
      "state": {}
     },
     "63ce2dd144494c92afc6cabd17fb9cef": {
      "model_module": "@jupyter-widgets/base",
      "model_module_version": "2.0.0",
      "model_name": "LayoutModel",
      "state": {}
     },
     "63e71458d0764b7782b04d106c1e7fb2": {
      "model_module": "@jupyter-widgets/controls",
      "model_module_version": "2.0.0",
      "model_name": "LabelModel",
      "state": {
       "layout": "IPY_MODEL_300e92e83cac40418e0ab0ae7422e04b",
       "style": "IPY_MODEL_44ce08833d824f80814748ab6d576d7f",
       "value": "nsbatwm.threshold_li( image=no_image)"
      }
     },
     "643d367712e34c28809467fe1a6ca167": {
      "model_module": "@jupyter-widgets/controls",
      "model_module_version": "2.0.0",
      "model_name": "LabelStyleModel",
      "state": {
       "description_width": "",
       "font_family": "Courier",
       "font_size": null,
       "font_style": null,
       "font_variant": null,
       "font_weight": null,
       "text_color": null,
       "text_decoration": null
      }
     },
     "644b49cb5ebf4ff0acb59e0a2195a5a1": {
      "model_module": "@jupyter-widgets/controls",
      "model_module_version": "2.0.0",
      "model_name": "LabelModel",
      "state": {
       "layout": "IPY_MODEL_4de04608740a45839845037c04f8ef27",
       "style": "IPY_MODEL_72b5f4a02bcd473d9a2eb6da2cd2d957",
       "value": "gauss_otsu_labeling( source=no_image, outline_sigma=2.0)"
      }
     },
     "6485561443fe4e16a24b96ae1d2ffd65": {
      "model_module": "@jupyter-widgets/base",
      "model_module_version": "2.0.0",
      "model_name": "LayoutModel",
      "state": {}
     },
     "64a4a737207744cc8435b8ebe4944029": {
      "model_module": "@jupyter-widgets/controls",
      "model_module_version": "2.0.0",
      "model_name": "DescriptionStyleModel",
      "state": {
       "description_width": ""
      }
     },
     "64acfc7a43884648a0c99c9e393f1d31": {
      "model_module": "@jupyter-widgets/controls",
      "model_module_version": "2.0.0",
      "model_name": "DropdownModel",
      "state": {
       "_options_labels": [
        "no_image",
        "image1",
        "image2",
        "image3",
        "blobs",
        "binary",
        "labels",
        "dilated_labels"
       ],
       "description": "image1",
       "index": 0,
       "layout": "IPY_MODEL_9a1866a1372740608a97d76abfc53445",
       "style": "IPY_MODEL_89cb0f2466f849d89400ab11a3098683"
      }
     },
     "64bb17502b214d3788abe674631bf70e": {
      "model_module": "@jupyter-widgets/base",
      "model_module_version": "2.0.0",
      "model_name": "LayoutModel",
      "state": {}
     },
     "64dfeb098f3b4e92bf131ab6cc88e0b1": {
      "model_module": "@jupyter-widgets/controls",
      "model_module_version": "2.0.0",
      "model_name": "VBoxModel",
      "state": {
       "children": [
        "IPY_MODEL_a5d2b8fc8a3246a89d386278d5ccd1e3",
        "IPY_MODEL_fa955c84b1374d07adbc4f2e385eb6fd"
       ],
       "layout": "IPY_MODEL_1e3ed00a3c054c148895f75e61d7530b"
      }
     },
     "650016f28746423b99e56570185b6754": {
      "model_module": "@jupyter-widgets/controls",
      "model_module_version": "2.0.0",
      "model_name": "IntSliderModel",
      "state": {
       "behavior": "drag-tap",
       "description": "radius_x",
       "layout": "IPY_MODEL_39332cb766694ce29ae1ffaccd925f3b",
       "style": "IPY_MODEL_d6662be28f1a41039932fb63f6acda2a",
       "value": 5
      }
     },
     "650b7d2fe6d743cfb2a09b39e1a20bb8": {
      "model_module": "@jupyter-widgets/controls",
      "model_module_version": "2.0.0",
      "model_name": "LabelStyleModel",
      "state": {
       "description_width": "",
       "font_family": "Courier",
       "font_size": null,
       "font_style": null,
       "font_variant": null,
       "font_weight": null,
       "text_color": null,
       "text_decoration": null
      }
     },
     "653252070a514e7e84c833a4feeb5933": {
      "model_module": "@jupyter-widgets/base",
      "model_module_version": "2.0.0",
      "model_name": "LayoutModel",
      "state": {}
     },
     "653f9282571e4a65b37db248abfe0d0a": {
      "model_module": "@jupyter-widgets/controls",
      "model_module_version": "2.0.0",
      "model_name": "VBoxModel",
      "state": {
       "children": [
        "IPY_MODEL_789ea00d0a9943f98c8b0d38c25d7537",
        "IPY_MODEL_d22389ddf0a14cad9b92c829e2254027"
       ],
       "layout": "IPY_MODEL_bf464eb197074cb48d92c824664efd8b"
      }
     },
     "65740595582847b580846440feb1b765": {
      "model_module": "@jupyter-widgets/controls",
      "model_module_version": "2.0.0",
      "model_name": "FloatSliderModel",
      "state": {
       "behavior": "drag-tap",
       "description": "sigma",
       "layout": "IPY_MODEL_6dd799044ff34159a63968fd8a26515c",
       "max": 25,
       "style": "IPY_MODEL_48c85a71c3c84c3ab2e5cfddd7648296",
       "value": 1
      }
     },
     "657b3d97a2264016a3241945997db6c7": {
      "model_module": "@jupyter-widgets/controls",
      "model_module_version": "2.0.0",
      "model_name": "LabelStyleModel",
      "state": {
       "description_width": "",
       "font_family": "Courier",
       "font_size": null,
       "font_style": null,
       "font_variant": null,
       "font_weight": null,
       "text_color": null,
       "text_decoration": null
      }
     },
     "658294c415b24391bbfa364c7b5f76f9": {
      "model_module": "@jupyter-widgets/base",
      "model_module_version": "2.0.0",
      "model_name": "LayoutModel",
      "state": {}
     },
     "659d37f1059c470dbceb667aae1953a0": {
      "model_module": "@jupyter-widgets/output",
      "model_module_version": "1.0.0",
      "model_name": "OutputModel",
      "state": {
       "layout": "IPY_MODEL_c41cea8b77c4416fbd389ca49874ce16"
      }
     },
     "65ae426be10e4452829c7d8383bc5169": {
      "model_module": "@jupyter-widgets/base",
      "model_module_version": "2.0.0",
      "model_name": "LayoutModel",
      "state": {}
     },
     "65b7af4b848349ac803668fafe7c266d": {
      "model_module": "@jupyter-widgets/controls",
      "model_module_version": "2.0.0",
      "model_name": "DropdownModel",
      "state": {
       "_options_labels": [
        "no_image",
        "image1",
        "image2",
        "image3",
        "blobs",
        "binary",
        "labels",
        "dilated_labels"
       ],
       "description": "labels_input",
       "index": 6,
       "layout": "IPY_MODEL_b4e3f43246cf4acfb1839c9ebf8b3836",
       "style": "IPY_MODEL_c46bbd8fcd6a4daeae6a57280fb7f76b"
      }
     },
     "65c1655d98c74261837fbf005b13a2ec": {
      "model_module": "@jupyter-widgets/output",
      "model_module_version": "1.0.0",
      "model_name": "OutputModel",
      "state": {
       "layout": "IPY_MODEL_2048d17e372c4c11a1be9dc4f0d970a8"
      }
     },
     "65edde2b68354332b421745e60149969": {
      "model_module": "@jupyter-widgets/controls",
      "model_module_version": "2.0.0",
      "model_name": "DropdownModel",
      "state": {
       "_options_labels": [
        "no_image",
        "image1",
        "image2",
        "image3",
        "blobs",
        "binary",
        "labels",
        "dilated_labels"
       ],
       "description": "image",
       "index": 0,
       "layout": "IPY_MODEL_bc3a6b3e63f547dd9d3e359cfe5475b4",
       "style": "IPY_MODEL_6949c6e4761e48e7b7b8c756b3100bde"
      }
     },
     "660109cb76f240e888fc2d06b82f6ce5": {
      "model_module": "@jupyter-widgets/base",
      "model_module_version": "2.0.0",
      "model_name": "LayoutModel",
      "state": {}
     },
     "660c3a15a89f447e95c3f6086b1e1864": {
      "model_module": "@jupyter-widgets/output",
      "model_module_version": "1.0.0",
      "model_name": "OutputModel",
      "state": {
       "layout": "IPY_MODEL_1cf423528dfa46de99dc6a864d1cc766"
      }
     },
     "6649a8da942a4e65ba3d6048dc8c8edb": {
      "model_module": "@jupyter-widgets/controls",
      "model_module_version": "2.0.0",
      "model_name": "LabelStyleModel",
      "state": {
       "description_width": "",
       "font_family": "Courier",
       "font_size": null,
       "font_style": null,
       "font_variant": null,
       "font_weight": null,
       "text_color": null,
       "text_decoration": null
      }
     },
     "66567be46cf04b3a9d42b329b8914c36": {
      "model_module": "@jupyter-widgets/base",
      "model_module_version": "2.0.0",
      "model_name": "LayoutModel",
      "state": {}
     },
     "6667f0be09624823bc9b5a31a6d4b37f": {
      "model_module": "@jupyter-widgets/output",
      "model_module_version": "1.0.0",
      "model_name": "OutputModel",
      "state": {
       "layout": "IPY_MODEL_e1bca73361104d25a2da601c976b28f2"
      }
     },
     "66937c8c2afc4a58803da4225703a103": {
      "model_module": "@jupyter-widgets/base",
      "model_module_version": "2.0.0",
      "model_name": "LayoutModel",
      "state": {}
     },
     "6693fec88fec4703bb5c39ddac6df08f": {
      "model_module": "@jupyter-widgets/controls",
      "model_module_version": "2.0.0",
      "model_name": "DropdownModel",
      "state": {
       "_options_labels": [
        "no_image",
        "image1",
        "image2",
        "image3",
        "blobs",
        "binary",
        "labels",
        "dilated_labels"
       ],
       "description": "image",
       "index": 0,
       "layout": "IPY_MODEL_e959ee8210d445b0b1f8de1572f4539c",
       "style": "IPY_MODEL_153b7999513545bba3fc3c612801a053"
      }
     },
     "66aa6a6e7f1c44f992fdc7d8fd0d53d9": {
      "model_module": "@jupyter-widgets/controls",
      "model_module_version": "2.0.0",
      "model_name": "VBoxModel",
      "state": {
       "children": [
        "IPY_MODEL_4bf42838decf4aa0a8c0c9a8a66ae322",
        "IPY_MODEL_c4204e0465ea4636997966f3d2b9b2dc"
       ],
       "layout": "IPY_MODEL_1fc0229bf0a6468cb2ea87714ac7eafb"
      }
     },
     "66ab2a40ac834d7da2453b1959c3b2fe": {
      "model_module": "@jupyter-widgets/base",
      "model_module_version": "2.0.0",
      "model_name": "LayoutModel",
      "state": {}
     },
     "66b0b29ab8f04b84a5a1e5363e69d682": {
      "model_module": "@jupyter-widgets/base",
      "model_module_version": "2.0.0",
      "model_name": "LayoutModel",
      "state": {}
     },
     "66da9c1af9834bea819368760bd73875": {
      "model_module": "@jupyter-widgets/controls",
      "model_module_version": "2.0.0",
      "model_name": "SliderStyleModel",
      "state": {
       "description_width": ""
      }
     },
     "66de06f4c12f4821813b944a8ef6ec8b": {
      "model_module": "@jupyter-widgets/base",
      "model_module_version": "2.0.0",
      "model_name": "LayoutModel",
      "state": {}
     },
     "6705570c4c0244959c4ceb4f63cf015d": {
      "model_module": "@jupyter-widgets/controls",
      "model_module_version": "2.0.0",
      "model_name": "VBoxModel",
      "state": {
       "_dom_classes": [
        "widget-interact"
       ],
       "children": [
        "IPY_MODEL_9e52eadd02a14099919bc5630f11093b",
        "IPY_MODEL_6d398a34faf345a08b57fef334aa6d1a",
        "IPY_MODEL_32b4ab52ef844dd2ac9c873f89872818",
        "IPY_MODEL_0aae261b23284d50b77dcab6675a0c05"
       ],
       "layout": "IPY_MODEL_119c23864f08481ea08f472a7f5da9c6"
      }
     },
     "6706e3d49f4742b9b19c91211e77613f": {
      "model_module": "@jupyter-widgets/base",
      "model_module_version": "2.0.0",
      "model_name": "LayoutModel",
      "state": {}
     },
     "6710cf63860b4c27abb1c82859073208": {
      "model_module": "@jupyter-widgets/controls",
      "model_module_version": "2.0.0",
      "model_name": "LabelModel",
      "state": {
       "layout": "IPY_MODEL_4e3a9510060c4cd99ea7b5479d7d8a9e",
       "style": "IPY_MODEL_db91bfb3b8de487da88b9a9eeeff2a08",
       "value": "nsitk.roundness_map( label_image=no_image)"
      }
     },
     "6722dec4914247fca86f45f487803d23": {
      "model_module": "@jupyter-widgets/output",
      "model_module_version": "1.0.0",
      "model_name": "OutputModel",
      "state": {
       "layout": "IPY_MODEL_cfba461fda53428483517615c41860b1"
      }
     },
     "672d5e1d069346ffa3e7e907e8ef73db": {
      "model_module": "@jupyter-widgets/controls",
      "model_module_version": "2.0.0",
      "model_name": "IntSliderModel",
      "state": {
       "behavior": "drag-tap",
       "description": "grid_size_y",
       "layout": "IPY_MODEL_6d43a6d9d50f45088e65571a48a6321a",
       "style": "IPY_MODEL_d21e5f9ac99140f9b9392745b4862368",
       "value": 50
      }
     },
     "6751c39a39ec4bbb9dae9ad6b00692a5": {
      "model_module": "@jupyter-widgets/controls",
      "model_module_version": "2.0.0",
      "model_name": "VBoxModel",
      "state": {
       "children": [
        "IPY_MODEL_2a4410855e9d4fe4b32fe79d3d428cef",
        "IPY_MODEL_d9129a482a124ef39e8dae55ab4c91df"
       ],
       "layout": "IPY_MODEL_b80a0b3b5d5a457586bbb79e7fa95725"
      }
     },
     "6761ac750ec44ffbb86479d6e4b5de24": {
      "model_module": "@jupyter-widgets/base",
      "model_module_version": "2.0.0",
      "model_name": "LayoutModel",
      "state": {}
     },
     "67bea0b4dfec4e0fab1905f22cba8c80": {
      "model_module": "@jupyter-widgets/controls",
      "model_module_version": "2.0.0",
      "model_name": "LabelModel",
      "state": {
       "layout": "IPY_MODEL_9d6cea5754a74a77ad4cd9d4932cebd3",
       "style": "IPY_MODEL_62bfcbdd48f1402f821e4a1c9331be0f",
       "value": "nsitk.regional_maxima( image=no_image)"
      }
     },
     "67c2560a880f4b05ada51e64a0388f5c": {
      "model_module": "@jupyter-widgets/base",
      "model_module_version": "2.0.0",
      "model_name": "LayoutModel",
      "state": {}
     },
     "67c559fd4fe240ddae8c974560b91633": {
      "model_module": "@jupyter-widgets/controls",
      "model_module_version": "2.0.0",
      "model_name": "VBoxModel",
      "state": {
       "children": [
        "IPY_MODEL_a6861e58f00d4010b3aabe37237fc834",
        "IPY_MODEL_0728af0e5eea4957b7c0fca6ce5ddad2"
       ],
       "layout": "IPY_MODEL_3ebfd5ec03694ea1b46e84e8926c1277"
      }
     },
     "67de4a94dcef4a288d76b6c57f756c09": {
      "model_module": "@jupyter-widgets/controls",
      "model_module_version": "2.0.0",
      "model_name": "VBoxModel",
      "state": {
       "children": [
        "IPY_MODEL_7d12c958be4349feb0742926deb64dbc",
        "IPY_MODEL_c209176bd748422fbb6503ce36582a36"
       ],
       "layout": "IPY_MODEL_2a4bec32de204bb5bff7cb06d3d131e5"
      }
     },
     "67de8cb5dd97435a9d2b4b23bad832bc": {
      "model_module": "@jupyter-widgets/controls",
      "model_module_version": "2.0.0",
      "model_name": "DropdownModel",
      "state": {
       "_options_labels": [
        "no_image",
        "image1",
        "image2",
        "image3",
        "blobs",
        "binary",
        "labels",
        "dilated_labels"
       ],
       "description": "labeled_nuclei",
       "index": 0,
       "layout": "IPY_MODEL_f13537753c9448bb982ecac0eea25d55",
       "style": "IPY_MODEL_3568425cba304aebad732a2c473e34e3"
      }
     },
     "68270abc9334485293313126a911053b": {
      "model_module": "@jupyter-widgets/base",
      "model_module_version": "2.0.0",
      "model_name": "LayoutModel",
      "state": {}
     },
     "6852efbbf5f34792a4e94b122d5dab21": {
      "model_module": "@jupyter-widgets/controls",
      "model_module_version": "2.0.0",
      "model_name": "SliderStyleModel",
      "state": {
       "description_width": ""
      }
     },
     "6867c8cf6c5448c6bc8b6e30eeba58ea": {
      "model_module": "@jupyter-widgets/base",
      "model_module_version": "2.0.0",
      "model_name": "LayoutModel",
      "state": {}
     },
     "686b556cd940408399bd3dff65a165f6": {
      "model_module": "@jupyter-widgets/controls",
      "model_module_version": "2.0.0",
      "model_name": "VBoxModel",
      "state": {
       "children": [
        "IPY_MODEL_a59b20f25d6549039f63b846a72625a0",
        "IPY_MODEL_263dae16b55f4d0aac58ab4798f1deaa"
       ],
       "layout": "IPY_MODEL_4ede4f17e894442c997902511135869b"
      }
     },
     "68731bf392aa47f184ab9673182f671f": {
      "model_module": "@jupyter-widgets/controls",
      "model_module_version": "2.0.0",
      "model_name": "FloatSliderModel",
      "state": {
       "behavior": "drag-tap",
       "description": "outline_sigma",
       "layout": "IPY_MODEL_014a2762af4445c8a1b615dd393dc205",
       "max": 25,
       "style": "IPY_MODEL_ea5c9dc87a1946899ea16a22c2ff17bd",
       "value": 2
      }
     },
     "6894707eddb64988a87da9e7a0933c0a": {
      "model_module": "@jupyter-widgets/output",
      "model_module_version": "1.0.0",
      "model_name": "OutputModel",
      "state": {
       "layout": "IPY_MODEL_c1cbd4b7727240dba85c44d1a2d80af8"
      }
     },
     "68a319b8359e42f991efc06f45c9b500": {
      "model_module": "@jupyter-widgets/controls",
      "model_module_version": "2.0.0",
      "model_name": "VBoxModel",
      "state": {
       "_dom_classes": [
        "widget-interact"
       ],
       "children": [
        "IPY_MODEL_d6b8bd4d3b714a3299e32115db805a02",
        "IPY_MODEL_079f040cc8f447a4b5cd042d27252d7d",
        "IPY_MODEL_3ed91130ff2544cb9add104ee3a58cce"
       ],
       "layout": "IPY_MODEL_d775f0632fd649f18ae0ec33b1a0ea4c"
      }
     },
     "68b89984551647738490fbce1c058c72": {
      "model_module": "@jupyter-widgets/base",
      "model_module_version": "2.0.0",
      "model_name": "LayoutModel",
      "state": {}
     },
     "68c034c224c74270b263983578afe1ab": {
      "model_module": "@jupyter-widgets/base",
      "model_module_version": "2.0.0",
      "model_name": "LayoutModel",
      "state": {}
     },
     "68e1ee39bf904f04a33353dff0f57120": {
      "model_module": "@jupyter-widgets/base",
      "model_module_version": "2.0.0",
      "model_name": "LayoutModel",
      "state": {}
     },
     "68e755ab321b4651b3f5b3d29e0e9de3": {
      "model_module": "@jupyter-widgets/controls",
      "model_module_version": "2.0.0",
      "model_name": "HBoxModel",
      "state": {
       "children": [
        "IPY_MODEL_d045584287a6492aa541a5eb1133e615"
       ],
       "layout": "IPY_MODEL_d70e8a6400eb4d7bbbd0987a85e4ef72"
      }
     },
     "6902034fd321486987b2fc3902f7d9c3": {
      "model_module": "@jupyter-widgets/output",
      "model_module_version": "1.0.0",
      "model_name": "OutputModel",
      "state": {
       "layout": "IPY_MODEL_75c48c6358a24b4cb707f31db784b28f"
      }
     },
     "691bcf2d6b39496a99db80456bfa4efa": {
      "model_module": "@jupyter-widgets/base",
      "model_module_version": "2.0.0",
      "model_name": "LayoutModel",
      "state": {}
     },
     "69247921830f498bb77e136593516a36": {
      "model_module": "@jupyter-widgets/base",
      "model_module_version": "2.0.0",
      "model_name": "LayoutModel",
      "state": {}
     },
     "69338a178ecc49ffb24c8425b5ddc9f6": {
      "model_module": "@jupyter-widgets/output",
      "model_module_version": "1.0.0",
      "model_name": "OutputModel",
      "state": {
       "layout": "IPY_MODEL_f4f3ad574cbd4559b317c68641fbb69f"
      }
     },
     "69384d6192a04fdab3700a2f234d5dfa": {
      "model_module": "@jupyter-widgets/controls",
      "model_module_version": "2.0.0",
      "model_name": "VBoxModel",
      "state": {
       "_dom_classes": [
        "widget-interact"
       ],
       "children": [
        "IPY_MODEL_e938325390de48bc9d88d1a503671760",
        "IPY_MODEL_73b71f4d6d7f4694a5ee933625fd0b96",
        "IPY_MODEL_39e6300bdc40435094712dbd614b67f8"
       ],
       "layout": "IPY_MODEL_0bcd88b8ed1546229699747e9d9b9217"
      }
     },
     "6949c6e4761e48e7b7b8c756b3100bde": {
      "model_module": "@jupyter-widgets/controls",
      "model_module_version": "2.0.0",
      "model_name": "DescriptionStyleModel",
      "state": {
       "description_width": ""
      }
     },
     "69be4ce00e7d4a4091183ce064f5987e": {
      "model_module": "@jupyter-widgets/base",
      "model_module_version": "2.0.0",
      "model_name": "LayoutModel",
      "state": {}
     },
     "6a0a10b1627c499e81598f5f356c8715": {
      "model_module": "@jupyter-widgets/controls",
      "model_module_version": "2.0.0",
      "model_name": "IntSliderModel",
      "state": {
       "behavior": "drag-tap",
       "description": "maximum_number_of_iterations",
       "layout": "IPY_MODEL_96b99a82b1764cb7bcea9a77a96a9789",
       "style": "IPY_MODEL_b07aaafdfe6949ba98a37c52e5ee751b",
       "value": 5
      }
     },
     "6a0d5164c81a44e7b995298d1acec504": {
      "model_module": "@jupyter-widgets/base",
      "model_module_version": "2.0.0",
      "model_name": "LayoutModel",
      "state": {}
     },
     "6a1b8dad577b4abbafe21522dd54a2c8": {
      "model_module": "@jupyter-widgets/controls",
      "model_module_version": "2.0.0",
      "model_name": "VBoxModel",
      "state": {
       "children": [
        "IPY_MODEL_84e790520bfb474192ab86dbbd2d604c",
        "IPY_MODEL_46baa9633104452f9bc545858255ef56"
       ],
       "layout": "IPY_MODEL_c0cac8c4026c4b3bb54ee473ec1c428e"
      }
     },
     "6a1f613a687e4f76b9397885aa00e828": {
      "model_module": "@jupyter-widgets/base",
      "model_module_version": "2.0.0",
      "model_name": "LayoutModel",
      "state": {
       "display": "none"
      }
     },
     "6a2baddcc8cd45b29382826ae97f2262": {
      "model_module": "@jupyter-widgets/controls",
      "model_module_version": "2.0.0",
      "model_name": "DescriptionStyleModel",
      "state": {
       "description_width": ""
      }
     },
     "6a2e86b8417d42cfbe2fec686006e90e": {
      "model_module": "@jupyter-widgets/base",
      "model_module_version": "2.0.0",
      "model_name": "LayoutModel",
      "state": {}
     },
     "6a6f4e8662ca423287ff1ccea32ff516": {
      "model_module": "@jupyter-widgets/base",
      "model_module_version": "2.0.0",
      "model_name": "LayoutModel",
      "state": {}
     },
     "6a78f22720b94a5487434a8887852dde": {
      "model_module": "@jupyter-widgets/base",
      "model_module_version": "2.0.0",
      "model_name": "LayoutModel",
      "state": {}
     },
     "6a80dd8645a244aca274636b7005b21c": {
      "model_module": "@jupyter-widgets/base",
      "model_module_version": "2.0.0",
      "model_name": "LayoutModel",
      "state": {
       "display": "none"
      }
     },
     "6a8e2e840ad14d91bafabfb15530ff93": {
      "model_module": "@jupyter-widgets/controls",
      "model_module_version": "2.0.0",
      "model_name": "DescriptionStyleModel",
      "state": {
       "description_width": ""
      }
     },
     "6aa41433114141658209666b702a7e4d": {
      "model_module": "@jupyter-widgets/base",
      "model_module_version": "2.0.0",
      "model_name": "LayoutModel",
      "state": {}
     },
     "6aa43119a6544f71a6c0fd361d0328eb": {
      "model_module": "@jupyter-widgets/controls",
      "model_module_version": "2.0.0",
      "model_name": "DropdownModel",
      "state": {
       "_options_labels": [
        "no_image",
        "image1",
        "image2",
        "image3",
        "blobs",
        "binary",
        "labels",
        "dilated_labels"
       ],
       "description": "mask",
       "index": 0,
       "layout": "IPY_MODEL_73612df2bbf84530aac8216bf8756a9a",
       "style": "IPY_MODEL_7385f7f4ce544b5d954dc19507149f5f"
      }
     },
     "6ac1c7eeaee64f4f8c366bd2510c8940": {
      "model_module": "@jupyter-widgets/controls",
      "model_module_version": "2.0.0",
      "model_name": "IntSliderModel",
      "state": {
       "behavior": "drag-tap",
       "description": "radius_x",
       "layout": "IPY_MODEL_d8928c66120b41caaed6c4c4a6bcfe4f",
       "style": "IPY_MODEL_c27fc566637a40a19fa30445b5947d2b",
       "value": 10
      }
     },
     "6acb301806cb413eb341b731d5696cef": {
      "model_module": "@jupyter-widgets/controls",
      "model_module_version": "2.0.0",
      "model_name": "VBoxModel",
      "state": {
       "children": [
        "IPY_MODEL_b4b0fb3335704dac816dd202ec027064",
        "IPY_MODEL_153cf04e31754d6dbf11643f596ea53f"
       ],
       "layout": "IPY_MODEL_15193e40ccde4e85a4a2783253f4b356"
      }
     },
     "6ae494b3384d41c2896bd61596422bd6": {
      "model_module": "@jupyter-widgets/base",
      "model_module_version": "2.0.0",
      "model_name": "LayoutModel",
      "state": {}
     },
     "6b2df695bbf14d5391ea9d88aa1ba5a7": {
      "model_module": "@jupyter-widgets/base",
      "model_module_version": "2.0.0",
      "model_name": "LayoutModel",
      "state": {}
     },
     "6b582ba2302340d2a2be624f074e9ac9": {
      "model_module": "@jupyter-widgets/controls",
      "model_module_version": "2.0.0",
      "model_name": "VBoxModel",
      "state": {
       "children": [
        "IPY_MODEL_fe885c3fe5b44fb8ae60a30507670731",
        "IPY_MODEL_ab847ec505ae4c26bb25d568f5038f4c"
       ],
       "layout": "IPY_MODEL_40c4da1bd9af40b48256c842f0d57218"
      }
     },
     "6b82a6a5d97f438ea9c41c0cd72ccf8c": {
      "model_module": "@jupyter-widgets/base",
      "model_module_version": "2.0.0",
      "model_name": "LayoutModel",
      "state": {}
     },
     "6b82e956adb540059e6a17e55b550d6d": {
      "model_module": "@jupyter-widgets/controls",
      "model_module_version": "2.0.0",
      "model_name": "DescriptionStyleModel",
      "state": {
       "description_width": ""
      }
     },
     "6b8af1bcc23c4e03941e249b96df15c7": {
      "model_module": "@jupyter-widgets/base",
      "model_module_version": "2.0.0",
      "model_name": "LayoutModel",
      "state": {}
     },
     "6bb979eb02c14b118af41b279adfc950": {
      "model_module": "@jupyter-widgets/base",
      "model_module_version": "2.0.0",
      "model_name": "LayoutModel",
      "state": {}
     },
     "6bca6df8fbe84be8b9972aa627c26d8c": {
      "model_module": "@jupyter-widgets/controls",
      "model_module_version": "2.0.0",
      "model_name": "DropdownModel",
      "state": {
       "_options_labels": [
        "no_image",
        "image1",
        "image2",
        "image3",
        "blobs",
        "binary",
        "labels",
        "dilated_labels"
       ],
       "description": "mask",
       "index": 0,
       "layout": "IPY_MODEL_81ca32a5fa454cf59a6e8ee043e614b0",
       "style": "IPY_MODEL_a61dc396e9c0437880c15d011d2f28e7"
      }
     },
     "6c199db70b4949ca9a675b60c9a109e8": {
      "model_module": "@jupyter-widgets/controls",
      "model_module_version": "2.0.0",
      "model_name": "SliderStyleModel",
      "state": {
       "description_width": ""
      }
     },
     "6c241a391b8d4ede8b491b36e78f43ba": {
      "model_module": "@jupyter-widgets/controls",
      "model_module_version": "2.0.0",
      "model_name": "SliderStyleModel",
      "state": {
       "description_width": ""
      }
     },
     "6c2c9eff0f774e83823c3a73d631f59e": {
      "model_module": "@jupyter-widgets/controls",
      "model_module_version": "2.0.0",
      "model_name": "VBoxModel",
      "state": {
       "_dom_classes": [
        "widget-interact"
       ],
       "children": [
        "IPY_MODEL_029420e92eaf4f24b30a610cbbdf16af",
        "IPY_MODEL_d2f489fc702c41838586d0d4f1b5ef50"
       ],
       "layout": "IPY_MODEL_1dc01fc851944c58b5dce097dacd4e7c"
      }
     },
     "6c2efb706c8241b592fb93cd30a224f5": {
      "model_module": "@jupyter-widgets/base",
      "model_module_version": "2.0.0",
      "model_name": "LayoutModel",
      "state": {}
     },
     "6c6b6d953d7843c9a7fc4fc8003e7a96": {
      "model_module": "@jupyter-widgets/controls",
      "model_module_version": "2.0.0",
      "model_name": "VBoxModel",
      "state": {
       "children": [
        "IPY_MODEL_5fceaead826749fa9a336d6f860bf661",
        "IPY_MODEL_9f3de9e166414cc08007c9514e4d2e17"
       ],
       "layout": "IPY_MODEL_d56f5a030d1f4a44bce7ffde4472d1a0"
      }
     },
     "6c739f9d06164a36b6c0c7cacaebb0db": {
      "model_module": "@jupyter-widgets/base",
      "model_module_version": "2.0.0",
      "model_name": "LayoutModel",
      "state": {
       "display": "none"
      }
     },
     "6c82384bd83344a79db8516d0d9a6d72": {
      "model_module": "@jupyter-widgets/base",
      "model_module_version": "2.0.0",
      "model_name": "LayoutModel",
      "state": {}
     },
     "6cb052efb2b84f67952285b121181a54": {
      "model_module": "@jupyter-widgets/base",
      "model_module_version": "2.0.0",
      "model_name": "LayoutModel",
      "state": {}
     },
     "6cbeedf31f964f09a1b5bb625d7bd856": {
      "model_module": "@jupyter-widgets/controls",
      "model_module_version": "2.0.0",
      "model_name": "FloatSliderModel",
      "state": {
       "behavior": "drag-tap",
       "description": "sigma_x",
       "layout": "IPY_MODEL_bd20cd2c27be46ccae2f3027715de0b0",
       "max": 25,
       "style": "IPY_MODEL_e142dfed2b8e40b59389b8a3c88a94c6"
      }
     },
     "6cc7af3be0534d0baadad5bfa10e8ce1": {
      "model_module": "@jupyter-widgets/output",
      "model_module_version": "1.0.0",
      "model_name": "OutputModel",
      "state": {
       "layout": "IPY_MODEL_472a9328f05d4953b611e2e752f7d068"
      }
     },
     "6cf4d7ab2b184338b53090e25b0c7d02": {
      "model_module": "@jupyter-widgets/controls",
      "model_module_version": "2.0.0",
      "model_name": "VBoxModel",
      "state": {
       "children": [
        "IPY_MODEL_7dfd3e7bbac64688a0d95d064b158dad",
        "IPY_MODEL_081713bf1823442f8d67e9cd2b53fe63"
       ],
       "layout": "IPY_MODEL_7f0f952e9f6343208404637ebd24fbdf"
      }
     },
     "6cfdb74ff3cd41ee855c37df12d83653": {
      "model_module": "@jupyter-widgets/base",
      "model_module_version": "2.0.0",
      "model_name": "LayoutModel",
      "state": {}
     },
     "6d129f0f37444933a087a68d1eac9899": {
      "model_module": "@jupyter-widgets/controls",
      "model_module_version": "2.0.0",
      "model_name": "LabelStyleModel",
      "state": {
       "description_width": "",
       "font_family": "Courier",
       "font_size": null,
       "font_style": null,
       "font_variant": null,
       "font_weight": null,
       "text_color": null,
       "text_decoration": null
      }
     },
     "6d167fc213344d9ab496c15afb9e8546": {
      "model_module": "@jupyter-widgets/base",
      "model_module_version": "2.0.0",
      "model_name": "LayoutModel",
      "state": {}
     },
     "6d1f2dda169e461b86ebcfe64821b2b4": {
      "model_module": "@jupyter-widgets/controls",
      "model_module_version": "2.0.0",
      "model_name": "DropdownModel",
      "state": {
       "_options_labels": [
        "no_image",
        "image1",
        "image2",
        "image3",
        "blobs",
        "binary",
        "labels",
        "dilated_labels"
       ],
       "description": "image",
       "index": 0,
       "layout": "IPY_MODEL_9fc97f9d4a5e49f08d9114810e3d7c92",
       "style": "IPY_MODEL_fbff2b92cf2843d4a85f7b84408b7bb7"
      }
     },
     "6d31ac929e85412cae133e4a710b756f": {
      "model_module": "@jupyter-widgets/controls",
      "model_module_version": "2.0.0",
      "model_name": "VBoxModel",
      "state": {
       "_dom_classes": [
        "widget-interact"
       ],
       "children": [
        "IPY_MODEL_471802fe2cf345ee8f0021ff73eeb4fe",
        "IPY_MODEL_8ca87a257f274c75bcf46cb4f1b9f232",
        "IPY_MODEL_9e87b31c7cc94e6f9abc872dc17f4da9"
       ],
       "layout": "IPY_MODEL_78191e8307c149fd88cc82c18eff388f"
      }
     },
     "6d398a34faf345a08b57fef334aa6d1a": {
      "model_module": "@jupyter-widgets/controls",
      "model_module_version": "2.0.0",
      "model_name": "DropdownModel",
      "state": {
       "_options_labels": [
        "no_image",
        "image1",
        "image2",
        "image3",
        "blobs",
        "binary",
        "labels",
        "dilated_labels"
       ],
       "description": "kernel",
       "index": 0,
       "layout": "IPY_MODEL_fc7fdbf8e94e448fa08285f87c4b7d95",
       "style": "IPY_MODEL_f391d95d5e3c4bd5b59be6c239634298"
      }
     },
     "6d4189af85174ba285eaf763e340fb8f": {
      "model_module": "@jupyter-widgets/base",
      "model_module_version": "2.0.0",
      "model_name": "LayoutModel",
      "state": {}
     },
     "6d43a6d9d50f45088e65571a48a6321a": {
      "model_module": "@jupyter-widgets/base",
      "model_module_version": "2.0.0",
      "model_name": "LayoutModel",
      "state": {}
     },
     "6d509fe2e50f4252a1314b64ee44c235": {
      "model_module": "@jupyter-widgets/controls",
      "model_module_version": "2.0.0",
      "model_name": "LabelModel",
      "state": {
       "layout": "IPY_MODEL_b00eeab9c3864671bffb452ee2501cae",
       "style": "IPY_MODEL_dcdc3d8d93494def8dcebbed5d357041",
       "value": "skfilters.sobel( image=no_image, mask=no_image)"
      }
     },
     "6d6bca45541a4ee08987d0a372850fe4": {
      "model_module": "@jupyter-widgets/controls",
      "model_module_version": "2.0.0",
      "model_name": "VBoxModel",
      "state": {
       "_dom_classes": [
        "widget-interact"
       ],
       "children": [
        "IPY_MODEL_83455288c7cb484fbacb909b4f70586a",
        "IPY_MODEL_9965382edf6741d2aa1b2b3d6e771f17",
        "IPY_MODEL_94b43d8aa5be44448c439393bb4f386e"
       ],
       "layout": "IPY_MODEL_037005e6068649668a4175fa4c6a7e8e"
      }
     },
     "6d831a5a4fb34d1f8d58266c2ea8c6be": {
      "model_module": "@jupyter-widgets/base",
      "model_module_version": "2.0.0",
      "model_name": "LayoutModel",
      "state": {}
     },
     "6db1cb5b46e74fbdb89f4ad2c8b494f9": {
      "model_module": "@jupyter-widgets/controls",
      "model_module_version": "2.0.0",
      "model_name": "LabelStyleModel",
      "state": {
       "description_width": "",
       "font_family": "Courier",
       "font_size": null,
       "font_style": null,
       "font_variant": null,
       "font_weight": null,
       "text_color": null,
       "text_decoration": null
      }
     },
     "6dd799044ff34159a63968fd8a26515c": {
      "model_module": "@jupyter-widgets/base",
      "model_module_version": "2.0.0",
      "model_name": "LayoutModel",
      "state": {}
     },
     "6dfeb6847a9f47d69c420b6758d39bb7": {
      "model_module": "@jupyter-widgets/base",
      "model_module_version": "2.0.0",
      "model_name": "LayoutModel",
      "state": {}
     },
     "6e139de9580146a3bee3e93f179eb91f": {
      "model_module": "@jupyter-widgets/controls",
      "model_module_version": "2.0.0",
      "model_name": "VBoxModel",
      "state": {
       "children": [
        "IPY_MODEL_3639a0f9345848a19a063ae279e5c8ab",
        "IPY_MODEL_de2c7e8a957f4130a3b76ed90f8079b7"
       ],
       "layout": "IPY_MODEL_cb77f60f48d34df6b09bd6837f699659"
      }
     },
     "6e18506935434fd09846d63426f1d37c": {
      "model_module": "@jupyter-widgets/base",
      "model_module_version": "2.0.0",
      "model_name": "LayoutModel",
      "state": {
       "display": "none"
      }
     },
     "6e1ccd2f38a64018a57f5888799c00cd": {
      "model_module": "@jupyter-widgets/controls",
      "model_module_version": "2.0.0",
      "model_name": "IntSliderModel",
      "state": {
       "behavior": "drag-tap",
       "description": "number_of_iterations",
       "layout": "IPY_MODEL_ceca64566c754f72b710e9fc44e8c87a",
       "style": "IPY_MODEL_8385e553508547af9e0bb4904cc20b3f",
       "value": 5
      }
     },
     "6e2ffc402fba4f69a20edb35a997b6c0": {
      "model_module": "@jupyter-widgets/controls",
      "model_module_version": "2.0.0",
      "model_name": "DropdownModel",
      "state": {
       "_options_labels": [
        "no_image",
        "image1",
        "image2",
        "image3",
        "blobs",
        "binary",
        "labels",
        "dilated_labels"
       ],
       "description": "image",
       "index": 0,
       "layout": "IPY_MODEL_544f64a15be04368850b8089a4ec4418",
       "style": "IPY_MODEL_9fa5c48fc6924391b661ee63885326de"
      }
     },
     "6e3308548f0d4529901cdbec2b38ba89": {
      "model_module": "@jupyter-widgets/base",
      "model_module_version": "2.0.0",
      "model_name": "LayoutModel",
      "state": {}
     },
     "6e6fd96b1d0b48bbbb84653da0cc8e64": {
      "model_module": "@jupyter-widgets/controls",
      "model_module_version": "2.0.0",
      "model_name": "VBoxModel",
      "state": {
       "_dom_classes": [
        "widget-interact"
       ],
       "children": [
        "IPY_MODEL_e39b9a74b55849fea9794423e400ffa2",
        "IPY_MODEL_92f9683962db4f34877997774e59f5a9",
        "IPY_MODEL_54ffbad6bda04b59994222bcbf96a1bf",
        "IPY_MODEL_4ad5640b270a4e30952a51589eb7fc03"
       ],
       "layout": "IPY_MODEL_c0f1759bec0742eb8c57c60f31aa81bc"
      }
     },
     "6e7f6cb90afc4db8bdf58e35a189156a": {
      "model_module": "@jupyter-widgets/base",
      "model_module_version": "2.0.0",
      "model_name": "LayoutModel",
      "state": {}
     },
     "6ea9d1f59d8a41fd97472967c8594385": {
      "model_module": "@jupyter-widgets/controls",
      "model_module_version": "2.0.0",
      "model_name": "LabelStyleModel",
      "state": {
       "description_width": "",
       "font_family": "Courier",
       "font_size": null,
       "font_style": null,
       "font_variant": null,
       "font_weight": null,
       "text_color": null,
       "text_decoration": null
      }
     },
     "6ebd4cef3d17464c8daf4e526e1daf91": {
      "model_module": "@jupyter-widgets/base",
      "model_module_version": "2.0.0",
      "model_name": "LayoutModel",
      "state": {}
     },
     "6ed3d72a442d48429e161fbf99a15d7a": {
      "model_module": "@jupyter-widgets/base",
      "model_module_version": "2.0.0",
      "model_name": "LayoutModel",
      "state": {}
     },
     "6ef2bedd55534313b54071d6a1e9566e": {
      "model_module": "@jupyter-widgets/base",
      "model_module_version": "2.0.0",
      "model_name": "LayoutModel",
      "state": {}
     },
     "6f2517eb1a5349eebc77e1bf3c5d114d": {
      "model_module": "@jupyter-widgets/controls",
      "model_module_version": "2.0.0",
      "model_name": "VBoxModel",
      "state": {
       "children": [
        "IPY_MODEL_69384d6192a04fdab3700a2f234d5dfa",
        "IPY_MODEL_bf03c6c449104176a41a460138b53673"
       ],
       "layout": "IPY_MODEL_102a71d6fe8d4119997803eb5124eb4e"
      }
     },
     "6f5584adb6504dd9b2189cd406a5b073": {
      "model_module": "@jupyter-widgets/controls",
      "model_module_version": "2.0.0",
      "model_name": "VBoxModel",
      "state": {
       "_dom_classes": [
        "widget-interact"
       ],
       "children": [
        "IPY_MODEL_f25259a8a1b0488fb012a0a8a0303447",
        "IPY_MODEL_3ccee473ead74420b9bf47dfc26153f2",
        "IPY_MODEL_a167e6e37326494c85f1dcd2b35f058e"
       ],
       "layout": "IPY_MODEL_8a4ab2f004a8494d855d13cea4a07d27"
      }
     },
     "6f75701d782e445b984a644704af50ab": {
      "model_module": "@jupyter-widgets/output",
      "model_module_version": "1.0.0",
      "model_name": "OutputModel",
      "state": {
       "layout": "IPY_MODEL_5ece510974fc42b193b460566755af72"
      }
     },
     "6f800f0a6b5f4c5ca9bbbfb36e5359f8": {
      "model_module": "@jupyter-widgets/controls",
      "model_module_version": "2.0.0",
      "model_name": "LabelModel",
      "state": {
       "layout": "IPY_MODEL_bec7c52bf6f345baa64b61408f2de3c9",
       "style": "IPY_MODEL_8776a597bbff4398b12bd885acb42d7f",
       "value": "nsitk.invert_intensity( image=no_image)"
      }
     },
     "6f8c2c7e33594e52bad3239525fbe54f": {
      "model_module": "@jupyter-widgets/output",
      "model_module_version": "1.0.0",
      "model_name": "OutputModel",
      "state": {
       "layout": "IPY_MODEL_49f91b1885c4400f88d534e987d6d742"
      }
     },
     "6fabdbceca2643a095e97338c3edf31a": {
      "model_module": "@jupyter-widgets/controls",
      "model_module_version": "2.0.0",
      "model_name": "VBoxModel",
      "state": {
       "_dom_classes": [
        "widget-interact"
       ],
       "children": [
        "IPY_MODEL_8fe71acac25a4f90914e74fcc8a39558",
        "IPY_MODEL_a50bae7a460a46c096c427c1df6acc54",
        "IPY_MODEL_6e1ccd2f38a64018a57f5888799c00cd",
        "IPY_MODEL_9bcefa2f48df4c6e9ebe8040f02419cc"
       ],
       "layout": "IPY_MODEL_1ef9c106100a48019626a83153240c87"
      }
     },
     "6fcf3282aeb248478121abc44a37f72d": {
      "model_module": "@jupyter-widgets/output",
      "model_module_version": "1.0.0",
      "model_name": "OutputModel",
      "state": {
       "layout": "IPY_MODEL_89fd9811e32c41c78a1a4de7e2bf2450"
      }
     },
     "7042e9f9f21842289f59007a02068176": {
      "model_module": "@jupyter-widgets/base",
      "model_module_version": "2.0.0",
      "model_name": "LayoutModel",
      "state": {}
     },
     "7052ef70cbc54e5ca7b1d187e47ade46": {
      "model_module": "@jupyter-widgets/base",
      "model_module_version": "2.0.0",
      "model_name": "LayoutModel",
      "state": {
       "display": "none"
      }
     },
     "7070fbc476064e76b6b317d7d67f00f2": {
      "model_module": "@jupyter-widgets/base",
      "model_module_version": "2.0.0",
      "model_name": "LayoutModel",
      "state": {}
     },
     "707e007670de4dc3ac346460c45e1480": {
      "model_module": "@jupyter-widgets/controls",
      "model_module_version": "2.0.0",
      "model_name": "LabelModel",
      "state": {
       "layout": "IPY_MODEL_63c64404d8a84ce68bc08fb045fb9e08",
       "style": "IPY_MODEL_e27a25e1edd749d5b99c30b930bffe7b",
       "value": "skfilters.threshold_triangle( image=no_image)"
      }
     },
     "70a57977ee6a4ae1be9c4d8e091f0d1a": {
      "model_module": "@jupyter-widgets/controls",
      "model_module_version": "2.0.0",
      "model_name": "VBoxModel",
      "state": {
       "_dom_classes": [
        "widget-interact"
       ],
       "children": [
        "IPY_MODEL_ea472b98e6624c66ad22a7a0f5f17cc3",
        "IPY_MODEL_5e64b062c18d460bb679c694feaa0812"
       ],
       "layout": "IPY_MODEL_b20560930281417ab6a45df47a1d40cb"
      }
     },
     "70e1b9c3153f4dd588edfae5c936f82b": {
      "model_module": "@jupyter-widgets/controls",
      "model_module_version": "2.0.0",
      "model_name": "DescriptionStyleModel",
      "state": {
       "description_width": ""
      }
     },
     "70f805d6dff048d9a069ea30d5a1524a": {
      "model_module": "@jupyter-widgets/base",
      "model_module_version": "2.0.0",
      "model_name": "LayoutModel",
      "state": {}
     },
     "70fa549b2a674765a8fda59db694eec6": {
      "model_module": "@jupyter-widgets/base",
      "model_module_version": "2.0.0",
      "model_name": "LayoutModel",
      "state": {}
     },
     "7107afb36aff49609008fd72ad63d30f": {
      "model_module": "@jupyter-widgets/base",
      "model_module_version": "2.0.0",
      "model_name": "LayoutModel",
      "state": {}
     },
     "7110a88d9a2547f9b19562de5dee4a60": {
      "model_module": "@jupyter-widgets/base",
      "model_module_version": "2.0.0",
      "model_name": "LayoutModel",
      "state": {
       "display": "none"
      }
     },
     "7124049fbf4b476ba8a1f2d8fcad68b4": {
      "model_module": "@jupyter-widgets/base",
      "model_module_version": "2.0.0",
      "model_name": "LayoutModel",
      "state": {}
     },
     "7125cfde964e4795a11391b69a6806fc": {
      "model_module": "@jupyter-widgets/controls",
      "model_module_version": "2.0.0",
      "model_name": "IntSliderModel",
      "state": {
       "behavior": "drag-tap",
       "description": "radius",
       "layout": "IPY_MODEL_a3af311471644c64a47368de30e7e804",
       "style": "IPY_MODEL_c42c9282345c48d99039ac701c0a358b"
      }
     },
     "718524dacc4d4d37af5f826d7266a0ac": {
      "model_module": "@jupyter-widgets/controls",
      "model_module_version": "2.0.0",
      "model_name": "DescriptionStyleModel",
      "state": {
       "description_width": ""
      }
     },
     "71b078f39b09432993d0ad088e24f625": {
      "model_module": "@jupyter-widgets/output",
      "model_module_version": "1.0.0",
      "model_name": "OutputModel",
      "state": {
       "layout": "IPY_MODEL_cb4f594c7f944619b73769072a1c1f8b"
      }
     },
     "71dc49916e524cb0a9420eb6c8e096d6": {
      "model_module": "@jupyter-widgets/controls",
      "model_module_version": "2.0.0",
      "model_name": "LabelModel",
      "state": {
       "layout": "IPY_MODEL_53965779b1f2424e911bee0ac685c460",
       "style": "IPY_MODEL_341f07fc022944a6996e575b34c06f61",
       "value": "skfilters.prewitt( image=no_image, mask=no_image)"
      }
     },
     "71fb0e680d8f476cb1d76191394e726d": {
      "model_module": "@jupyter-widgets/controls",
      "model_module_version": "2.0.0",
      "model_name": "FloatSliderModel",
      "state": {
       "behavior": "drag-tap",
       "description": "spot_sigma",
       "layout": "IPY_MODEL_3142a30b48e64d8584c8587614dd51b7",
       "max": 25,
       "style": "IPY_MODEL_30bac6088362438eb473d667340fc9ba",
       "value": 2
      }
     },
     "724cbe181ea34487bc1521825aa4d1e5": {
      "model_module": "@jupyter-widgets/controls",
      "model_module_version": "2.0.0",
      "model_name": "SliderStyleModel",
      "state": {
       "description_width": ""
      }
     },
     "7271c0facd614f179b17140773003f39": {
      "model_module": "@jupyter-widgets/base",
      "model_module_version": "2.0.0",
      "model_name": "LayoutModel",
      "state": {}
     },
     "7286b4741d2c454a8e1db2a33e824f58": {
      "model_module": "@jupyter-widgets/controls",
      "model_module_version": "2.0.0",
      "model_name": "LabelModel",
      "state": {
       "layout": "IPY_MODEL_741ae7908bdd4b51a962be5e4d03bf3f",
       "style": "IPY_MODEL_21e62394359e44d19ce6a50b148effc7",
       "value": "skfilters.frangi( image=no_image, sigmas=0.0)"
      }
     },
     "72b5f4a02bcd473d9a2eb6da2cd2d957": {
      "model_module": "@jupyter-widgets/controls",
      "model_module_version": "2.0.0",
      "model_name": "LabelStyleModel",
      "state": {
       "description_width": "",
       "font_family": "Courier",
       "font_size": null,
       "font_style": null,
       "font_variant": null,
       "font_weight": null,
       "text_color": null,
       "text_decoration": null
      }
     },
     "72de4b6e0d40458ab52c619be082c5a3": {
      "model_module": "@jupyter-widgets/base",
      "model_module_version": "2.0.0",
      "model_name": "LayoutModel",
      "state": {
       "display": "none"
      }
     },
     "731f5f24ff9249489f2156658d9f7d70": {
      "model_module": "@jupyter-widgets/base",
      "model_module_version": "2.0.0",
      "model_name": "LayoutModel",
      "state": {}
     },
     "734fe6b7679d43959531ba3f924ae466": {
      "model_module": "@jupyter-widgets/controls",
      "model_module_version": "2.0.0",
      "model_name": "FloatSliderModel",
      "state": {
       "behavior": "drag-tap",
       "description": "regularization_constant",
       "layout": "IPY_MODEL_878206da34a146658f54ef2ea14c0ba4",
       "step": null,
       "style": "IPY_MODEL_5999fb8cbf2e47a28f6ead6e1c7faba5"
      }
     },
     "73612df2bbf84530aac8216bf8756a9a": {
      "model_module": "@jupyter-widgets/base",
      "model_module_version": "2.0.0",
      "model_name": "LayoutModel",
      "state": {}
     },
     "736a7009d5294a3e93c65fae2679c17c": {
      "model_module": "@jupyter-widgets/base",
      "model_module_version": "2.0.0",
      "model_name": "LayoutModel",
      "state": {}
     },
     "737774fff6b249ee9c5a066666856f4f": {
      "model_module": "@jupyter-widgets/output",
      "model_module_version": "1.0.0",
      "model_name": "OutputModel",
      "state": {
       "layout": "IPY_MODEL_2085414931f24a13957bf65b15b3572c"
      }
     },
     "7385f7f4ce544b5d954dc19507149f5f": {
      "model_module": "@jupyter-widgets/controls",
      "model_module_version": "2.0.0",
      "model_name": "DescriptionStyleModel",
      "state": {
       "description_width": ""
      }
     },
     "73b71f4d6d7f4694a5ee933625fd0b96": {
      "model_module": "@jupyter-widgets/controls",
      "model_module_version": "2.0.0",
      "model_name": "FloatSliderModel",
      "state": {
       "behavior": "drag-tap",
       "description": "sigma",
       "layout": "IPY_MODEL_8582a237ce294bce8191efed22fa3c4b",
       "max": 25,
       "style": "IPY_MODEL_81ba6d72fc0348bf835409400328e92f",
       "value": 1
      }
     },
     "73c41351a963438f8580354d708c36f7": {
      "model_module": "@jupyter-widgets/controls",
      "model_module_version": "2.0.0",
      "model_name": "LabelModel",
      "state": {
       "layout": "IPY_MODEL_d4bcce91fe7348159fed1d2c591f904e",
       "style": "IPY_MODEL_4e2c6638801a46f0a0d89ed045cb77a4",
       "value": "nsitk.curvature_flow_denoise( image=no_image, time_step=0.05, number_of_iterations=5)"
      }
     },
     "73ceaddfecd849a8bed5d04524f5e287": {
      "model_module": "@jupyter-widgets/controls",
      "model_module_version": "2.0.0",
      "model_name": "DropdownModel",
      "state": {
       "_options_labels": [
        "no_image",
        "image1",
        "image2",
        "image3",
        "blobs",
        "binary",
        "labels",
        "dilated_labels"
       ],
       "description": "binary_image",
       "index": 0,
       "layout": "IPY_MODEL_0560c29ca7684d7d88854be6df3dab27",
       "style": "IPY_MODEL_b5363d6fb9e443f5a6bb14c30b4592f2"
      }
     },
     "73d96fa3ecba46649305cd614c27e3b4": {
      "model_module": "@jupyter-widgets/controls",
      "model_module_version": "2.0.0",
      "model_name": "SliderStyleModel",
      "state": {
       "description_width": ""
      }
     },
     "73fb2cea619e477d84a434d734e5cb80": {
      "model_module": "@jupyter-widgets/base",
      "model_module_version": "2.0.0",
      "model_name": "LayoutModel",
      "state": {}
     },
     "741ae7908bdd4b51a962be5e4d03bf3f": {
      "model_module": "@jupyter-widgets/base",
      "model_module_version": "2.0.0",
      "model_name": "LayoutModel",
      "state": {}
     },
     "7426e7f6b64244f7814076411a964f41": {
      "model_module": "@jupyter-widgets/controls",
      "model_module_version": "2.0.0",
      "model_name": "VBoxModel",
      "state": {
       "_dom_classes": [
        "widget-interact"
       ],
       "children": [
        "IPY_MODEL_cec178c3d1dc41e39db60b9044137295",
        "IPY_MODEL_dd99df7d020c424a9f7f1c499219fea2",
        "IPY_MODEL_c650fbd3064b4482b19ca0a7be59a25a"
       ],
       "layout": "IPY_MODEL_f10710d9daa24e089de2a8c6d522259b"
      }
     },
     "74325df50fcc48b7b4974ad5715a7e91": {
      "model_module": "@jupyter-widgets/output",
      "model_module_version": "1.0.0",
      "model_name": "OutputModel",
      "state": {
       "layout": "IPY_MODEL_be238ac3edae4919b7f99eef8c51658b"
      }
     },
     "743a47520ba94c8ab64fb4b5e7585882": {
      "model_module": "@jupyter-widgets/base",
      "model_module_version": "2.0.0",
      "model_name": "LayoutModel",
      "state": {}
     },
     "743c2fff48bf46b3877486ab8950499a": {
      "model_module": "@jupyter-widgets/base",
      "model_module_version": "2.0.0",
      "model_name": "LayoutModel",
      "state": {}
     },
     "743e4c12fa3e44e6bac05709ef66e7b4": {
      "model_module": "@jupyter-widgets/controls",
      "model_module_version": "2.0.0",
      "model_name": "CheckboxStyleModel",
      "state": {
       "description_width": ""
      }
     },
     "744686ef5a574042b5571e3fc09b0cfd": {
      "model_module": "@jupyter-widgets/controls",
      "model_module_version": "2.0.0",
      "model_name": "LabelModel",
      "state": {
       "layout": "IPY_MODEL_e7817fd31b34429199ec138b36c56997",
       "style": "IPY_MODEL_d4897099ef914b2ea2d1f0071b42fff0",
       "value": "nsitk.binominal_blur_filter( image=no_image, repetitions=1)"
      }
     },
     "74558f1c6b184f98888e65ab53c6c900": {
      "model_module": "@jupyter-widgets/base",
      "model_module_version": "2.0.0",
      "model_name": "LayoutModel",
      "state": {}
     },
     "746357cdd6db4976b726989638622128": {
      "model_module": "@jupyter-widgets/controls",
      "model_module_version": "2.0.0",
      "model_name": "VBoxModel",
      "state": {
       "_dom_classes": [
        "widget-interact"
       ],
       "children": [
        "IPY_MODEL_c5edbb4e44984a3192ac283660d3923c",
        "IPY_MODEL_81e171a49a584408ba140c4647d5c818",
        "IPY_MODEL_81489bd75e6b41348b3325e92fbe8c29"
       ],
       "layout": "IPY_MODEL_ec825a6afac644dcb1ef717605a42037"
      }
     },
     "7498ec51d39f4eb382a0ba370d527e30": {
      "model_module": "@jupyter-widgets/controls",
      "model_module_version": "2.0.0",
      "model_name": "DescriptionStyleModel",
      "state": {
       "description_width": ""
      }
     },
     "749ebcf3cc4547e1a5b2e3e7fb37bd38": {
      "model_module": "@jupyter-widgets/base",
      "model_module_version": "2.0.0",
      "model_name": "LayoutModel",
      "state": {}
     },
     "74f6256f4f8b491ab0bf1de7268b9f79": {
      "model_module": "@jupyter-widgets/base",
      "model_module_version": "2.0.0",
      "model_name": "LayoutModel",
      "state": {}
     },
     "7520313de3d349b499cef902e4fdc9c9": {
      "model_module": "@jupyter-widgets/controls",
      "model_module_version": "2.0.0",
      "model_name": "FloatSliderModel",
      "state": {
       "behavior": "drag-tap",
       "description": "outline_sigma",
       "layout": "IPY_MODEL_68270abc9334485293313126a911053b",
       "max": 25,
       "style": "IPY_MODEL_af15d7c50eeb45cab80e67813ecb05cf",
       "value": 2
      }
     },
     "7522311afbc44f87837878b4bfdc1e31": {
      "model_module": "@jupyter-widgets/base",
      "model_module_version": "2.0.0",
      "model_name": "LayoutModel",
      "state": {}
     },
     "752c6d9defc649afae1af714506e1202": {
      "model_module": "@jupyter-widgets/output",
      "model_module_version": "1.0.0",
      "model_name": "OutputModel",
      "state": {
       "layout": "IPY_MODEL_6c2efb706c8241b592fb93cd30a224f5"
      }
     },
     "752f1aedb3f9416cbdd2fb45a9970de5": {
      "model_module": "@jupyter-widgets/controls",
      "model_module_version": "2.0.0",
      "model_name": "VBoxModel",
      "state": {
       "_dom_classes": [
        "widget-interact"
       ],
       "children": [
        "IPY_MODEL_419ef983d44b4583b2efadb2d41a0084",
        "IPY_MODEL_3d8d240d746c4e1c980d37a7eddd2c9e"
       ],
       "layout": "IPY_MODEL_1cf4e32f249e451c94c7d651673fbc95"
      }
     },
     "7531e75f852d49ad96619aff9938ebf5": {
      "model_module": "@jupyter-widgets/controls",
      "model_module_version": "2.0.0",
      "model_name": "IntSliderModel",
      "state": {
       "behavior": "drag-tap",
       "description": "radius_x",
       "layout": "IPY_MODEL_794045b00367452093153c98ff9e9598",
       "style": "IPY_MODEL_21c77f3b46e8453fa15c66632197ce0d",
       "value": 5
      }
     },
     "7572312ff870456bbd27fb2a05fa966f": {
      "model_module": "@jupyter-widgets/base",
      "model_module_version": "2.0.0",
      "model_name": "LayoutModel",
      "state": {}
     },
     "758b3b9c0f3845fb95d167a97ca8c8fa": {
      "model_module": "@jupyter-widgets/base",
      "model_module_version": "2.0.0",
      "model_name": "LayoutModel",
      "state": {}
     },
     "759c679b11eb41fdb387eb119df638a7": {
      "model_module": "@jupyter-widgets/base",
      "model_module_version": "2.0.0",
      "model_name": "LayoutModel",
      "state": {}
     },
     "75b438a942ae404a975a74faef75cd3e": {
      "model_module": "@jupyter-widgets/controls",
      "model_module_version": "2.0.0",
      "model_name": "DropdownModel",
      "state": {
       "_options_labels": [
        "no_image",
        "image1",
        "image2",
        "image3",
        "blobs",
        "binary",
        "labels",
        "dilated_labels"
       ],
       "description": "image",
       "index": 0,
       "layout": "IPY_MODEL_dee556733c794b92973cba3c35f5a3ec",
       "style": "IPY_MODEL_9fce337780714c28a3a280b5d8d0565f"
      }
     },
     "75b46573c78f4c1381436f800281661e": {
      "model_module": "@jupyter-widgets/controls",
      "model_module_version": "2.0.0",
      "model_name": "VBoxModel",
      "state": {
       "children": [
        "IPY_MODEL_5a12bf10a02d46558e242f7d9999ea3e",
        "IPY_MODEL_9b77d8e9e3ba470d9533133643115aa5"
       ],
       "layout": "IPY_MODEL_25fb62defece4da0a05a516d9342104b"
      }
     },
     "75c48c6358a24b4cb707f31db784b28f": {
      "model_module": "@jupyter-widgets/base",
      "model_module_version": "2.0.0",
      "model_name": "LayoutModel",
      "state": {}
     },
     "75ca87fadb944fdc90ab70d66f72648c": {
      "model_module": "@jupyter-widgets/controls",
      "model_module_version": "2.0.0",
      "model_name": "DropdownModel",
      "state": {
       "_options_labels": [
        "no_image",
        "image1",
        "image2",
        "image3",
        "blobs",
        "binary",
        "labels",
        "dilated_labels"
       ],
       "description": "image",
       "index": 0,
       "layout": "IPY_MODEL_c27825d30bd54fd7b9826842732ba963",
       "style": "IPY_MODEL_8aeb12386c1b4e9c9ad0bce937ed8e14"
      }
     },
     "75f12de60b7b4fb5ba356310c041af85": {
      "model_module": "@jupyter-widgets/output",
      "model_module_version": "1.0.0",
      "model_name": "OutputModel",
      "state": {
       "layout": "IPY_MODEL_54d5ba7bb66f48dd89ab74593b8ccf07"
      }
     },
     "7630e714175e4d62bb5195eb53c2c68a": {
      "model_module": "@jupyter-widgets/controls",
      "model_module_version": "2.0.0",
      "model_name": "DropdownModel",
      "state": {
       "_options_labels": [
        "no_image",
        "image1",
        "image2",
        "image3",
        "blobs",
        "binary",
        "labels",
        "dilated_labels"
       ],
       "description": "image",
       "index": 0,
       "layout": "IPY_MODEL_7e2b9b8e3d0642708692e23c56729b83",
       "style": "IPY_MODEL_ecebdce6c78a4ac7af685f0b280aa90f"
      }
     },
     "7633e89876644fef968038a87149a0ed": {
      "model_module": "@jupyter-widgets/base",
      "model_module_version": "2.0.0",
      "model_name": "LayoutModel",
      "state": {}
     },
     "7652d4d2dc7040338d0f95371744876d": {
      "model_module": "@jupyter-widgets/controls",
      "model_module_version": "2.0.0",
      "model_name": "VBoxModel",
      "state": {
       "_dom_classes": [
        "widget-interact"
       ],
       "children": [
        "IPY_MODEL_b12c06421d8f40438056e495c3433f51",
        "IPY_MODEL_7125cfde964e4795a11391b69a6806fc",
        "IPY_MODEL_9eb50b51d7fa432eb2c0058936606d4d"
       ],
       "layout": "IPY_MODEL_2d28347219fd4d1eb5b7a164e670d907"
      }
     },
     "76549d456fb54e96bde05662db13c3aa": {
      "model_module": "@jupyter-widgets/base",
      "model_module_version": "2.0.0",
      "model_name": "LayoutModel",
      "state": {}
     },
     "7657b04e369b47b19b07e884c469f95e": {
      "model_module": "@jupyter-widgets/base",
      "model_module_version": "2.0.0",
      "model_name": "LayoutModel",
      "state": {}
     },
     "767278883e0b4c0fad48c15e48e6b773": {
      "model_module": "@jupyter-widgets/output",
      "model_module_version": "1.0.0",
      "model_name": "OutputModel",
      "state": {
       "layout": "IPY_MODEL_ff40ff5779e1409e8905409b4d15d73c"
      }
     },
     "7696cdb599ed41e2b182f7d15c43ad8e": {
      "model_module": "@jupyter-widgets/controls",
      "model_module_version": "2.0.0",
      "model_name": "LabelStyleModel",
      "state": {
       "description_width": "",
       "font_family": "Courier",
       "font_size": null,
       "font_style": null,
       "font_variant": null,
       "font_weight": null,
       "text_color": null,
       "text_decoration": null
      }
     },
     "7699ce3cb6c346848f54a82cb02e494b": {
      "model_module": "@jupyter-widgets/base",
      "model_module_version": "2.0.0",
      "model_name": "LayoutModel",
      "state": {
       "display": "none"
      }
     },
     "76c53dcaafd94f038a7894682f69e2aa": {
      "model_module": "@jupyter-widgets/base",
      "model_module_version": "2.0.0",
      "model_name": "LayoutModel",
      "state": {}
     },
     "76cdf6d768ef46b9b743200f1c807683": {
      "model_module": "@jupyter-widgets/controls",
      "model_module_version": "2.0.0",
      "model_name": "DropdownModel",
      "state": {
       "_options_labels": [
        "no_image",
        "image1",
        "image2",
        "image3",
        "blobs",
        "binary",
        "labels",
        "dilated_labels"
       ],
       "description": "image",
       "index": 0,
       "layout": "IPY_MODEL_47985d3b538c4b6d817beef33094f9cf",
       "style": "IPY_MODEL_cef0ebc316ce41daaedd5e0fc868fa70"
      }
     },
     "76f97fb5a6ce4082b99b527186d7ee6a": {
      "model_module": "@jupyter-widgets/base",
      "model_module_version": "2.0.0",
      "model_name": "LayoutModel",
      "state": {
       "display": "none"
      }
     },
     "76fbf2159a9a4914a61798d953a1e5c2": {
      "model_module": "@jupyter-widgets/controls",
      "model_module_version": "2.0.0",
      "model_name": "VBoxModel",
      "state": {
       "_dom_classes": [
        "widget-interact"
       ],
       "children": [
        "IPY_MODEL_5c5c1902b9d947088fdc0503616c08a0",
        "IPY_MODEL_a36ca31dc57442d6b669ff1c6a7561c9",
        "IPY_MODEL_8581f99643cd45eaaa3145ebebfd3f29"
       ],
       "layout": "IPY_MODEL_49b7059f500d421c85f87085b1cb8da5"
      }
     },
     "76fd5cf105ea4a708f63553345932cc0": {
      "model_module": "@jupyter-widgets/controls",
      "model_module_version": "2.0.0",
      "model_name": "DropdownModel",
      "state": {
       "_options_labels": [
        "no_image",
        "image1",
        "image2",
        "image3",
        "blobs",
        "binary",
        "labels",
        "dilated_labels"
       ],
       "description": "image",
       "index": 0,
       "layout": "IPY_MODEL_e500ce573c0b4f808986b9bd14bcb21b",
       "style": "IPY_MODEL_eb2e41d8115d42adb0d4e64c0065663e"
      }
     },
     "772afd1e5f8344ca8ba3396702e45978": {
      "model_module": "@jupyter-widgets/controls",
      "model_module_version": "2.0.0",
      "model_name": "LabelStyleModel",
      "state": {
       "description_width": "",
       "font_family": "Courier",
       "font_size": null,
       "font_style": null,
       "font_variant": null,
       "font_weight": null,
       "text_color": null,
       "text_decoration": null
      }
     },
     "7738de3a85c14ceda26cca13eaeb5e13": {
      "model_module": "@jupyter-widgets/base",
      "model_module_version": "2.0.0",
      "model_name": "LayoutModel",
      "state": {}
     },
     "77441bef55214a319a1516a18dc97d61": {
      "model_module": "@jupyter-widgets/controls",
      "model_module_version": "2.0.0",
      "model_name": "DescriptionStyleModel",
      "state": {
       "description_width": ""
      }
     },
     "775f5a5723e04c59999bd788e40461e6": {
      "model_module": "@jupyter-widgets/controls",
      "model_module_version": "2.0.0",
      "model_name": "DropdownModel",
      "state": {
       "_options_labels": [
        "no_image",
        "image1",
        "image2",
        "image3",
        "blobs",
        "binary",
        "labels",
        "dilated_labels"
       ],
       "description": "image",
       "index": 0,
       "layout": "IPY_MODEL_5b21b77f456349f0a9f41c986cb44e37",
       "style": "IPY_MODEL_27e1f6044f2b4227aa81e636f359c7e0"
      }
     },
     "77654d5e40994199b7396672e6f5c5e4": {
      "model_module": "@jupyter-widgets/base",
      "model_module_version": "2.0.0",
      "model_name": "LayoutModel",
      "state": {}
     },
     "776570e5abe84f69a102af1d748d2168": {
      "model_module": "@jupyter-widgets/controls",
      "model_module_version": "2.0.0",
      "model_name": "VBoxModel",
      "state": {
       "children": [
        "IPY_MODEL_ac123596805d4a1c90d6b890ab9dca51",
        "IPY_MODEL_d25da5f8dfd0430d92e40b83ba718514"
       ],
       "layout": "IPY_MODEL_a74614e47dc646888c5c2222464d07e2"
      }
     },
     "776df218e71a47129a882cf9da193a93": {
      "model_module": "@jupyter-widgets/controls",
      "model_module_version": "2.0.0",
      "model_name": "DescriptionStyleModel",
      "state": {
       "description_width": ""
      }
     },
     "77987a5847084081987110d8614d7515": {
      "model_module": "@jupyter-widgets/controls",
      "model_module_version": "2.0.0",
      "model_name": "FloatSliderModel",
      "state": {
       "behavior": "drag-tap",
       "description": "radius",
       "layout": "IPY_MODEL_c97a5942ed524946abdc638c5f1cc9ad",
       "style": "IPY_MODEL_ff6d965e1618488b8f1b973a2104464b",
       "value": 2
      }
     },
     "779ead066c554bacaee419965669c95b": {
      "model_module": "@jupyter-widgets/controls",
      "model_module_version": "2.0.0",
      "model_name": "VBoxModel",
      "state": {
       "_dom_classes": [
        "widget-interact"
       ],
       "children": [
        "IPY_MODEL_e8346c450870451f9586b1ed4b6be341",
        "IPY_MODEL_3f442927550b4baf9b8dc1e4d6434768",
        "IPY_MODEL_25cb2ca6c1104afdb7926ef07dbabef3"
       ],
       "layout": "IPY_MODEL_384be077a9144c8e96a45b4018079a4e"
      }
     },
     "77a6124509224721ac2046fc9485f3da": {
      "model_module": "@jupyter-widgets/controls",
      "model_module_version": "2.0.0",
      "model_name": "LabelStyleModel",
      "state": {
       "description_width": "",
       "font_family": "Courier",
       "font_size": null,
       "font_style": null,
       "font_variant": null,
       "font_weight": null,
       "text_color": null,
       "text_decoration": null
      }
     },
     "77b80fcaf518415c96a08dc0e6dde007": {
      "model_module": "@jupyter-widgets/base",
      "model_module_version": "2.0.0",
      "model_name": "LayoutModel",
      "state": {
       "display": "none"
      }
     },
     "77bc55d260324794bdba1417ddabb439": {
      "model_module": "@jupyter-widgets/controls",
      "model_module_version": "2.0.0",
      "model_name": "LabelStyleModel",
      "state": {
       "description_width": "",
       "font_family": "Courier",
       "font_size": null,
       "font_style": null,
       "font_variant": null,
       "font_weight": null,
       "text_color": null,
       "text_decoration": null
      }
     },
     "77bdb5c8853f48508be3e47f00903b01": {
      "model_module": "@jupyter-widgets/controls",
      "model_module_version": "2.0.0",
      "model_name": "LabelModel",
      "state": {
       "layout": "IPY_MODEL_6aa41433114141658209666b702a7e4d",
       "style": "IPY_MODEL_90596d80821145499268634ce166ffe2",
       "value": "nsbatwm.sk_threshold_otsu( image=no_image)"
      }
     },
     "78042ef3bba44db2ab4006b389cc1c62": {
      "model_module": "@jupyter-widgets/controls",
      "model_module_version": "2.0.0",
      "model_name": "DescriptionStyleModel",
      "state": {
       "description_width": ""
      }
     },
     "78191e8307c149fd88cc82c18eff388f": {
      "model_module": "@jupyter-widgets/base",
      "model_module_version": "2.0.0",
      "model_name": "LayoutModel",
      "state": {}
     },
     "785a4494cfa14e35be8b0f8701f29000": {
      "model_module": "@jupyter-widgets/controls",
      "model_module_version": "2.0.0",
      "model_name": "VBoxModel",
      "state": {
       "children": [
        "IPY_MODEL_b56d8b93b4264703b338311213de32cd",
        "IPY_MODEL_2d61a80cacfe43d595813c570c0f6d6f"
       ],
       "layout": "IPY_MODEL_c8d70f5d5cfd489cb129602d290c57ba"
      }
     },
     "785de97705094ef2ace02949308f41d4": {
      "model_module": "@jupyter-widgets/controls",
      "model_module_version": "2.0.0",
      "model_name": "LabelStyleModel",
      "state": {
       "description_width": "",
       "font_family": "Courier",
       "font_size": null,
       "font_style": null,
       "font_variant": null,
       "font_weight": null,
       "text_color": null,
       "text_decoration": null
      }
     },
     "7882c88c27de44fe9f1d5ea72da853d3": {
      "model_module": "@jupyter-widgets/base",
      "model_module_version": "2.0.0",
      "model_name": "LayoutModel",
      "state": {}
     },
     "78932cc479cb4e7abd15269ac992b379": {
      "model_module": "@jupyter-widgets/controls",
      "model_module_version": "2.0.0",
      "model_name": "DropdownModel",
      "state": {
       "_options_labels": [
        "no_image",
        "image1",
        "image2",
        "image3",
        "blobs",
        "binary",
        "labels",
        "dilated_labels"
       ],
       "description": "image2",
       "index": 0,
       "layout": "IPY_MODEL_8687fa6d75684b2088fd24499b1af73e",
       "style": "IPY_MODEL_c74d6a1f8a89433cbf8cd0568ec2d991"
      }
     },
     "7894170b681f454a83bda75ff13bc9a2": {
      "model_module": "@jupyter-widgets/controls",
      "model_module_version": "2.0.0",
      "model_name": "VBoxModel",
      "state": {
       "_dom_classes": [
        "widget-interact"
       ],
       "children": [
        "IPY_MODEL_5b67fae0d5b24b9d98bd972c02b6a05d",
        "IPY_MODEL_0fa805f3c75640359602b0e3c763beca"
       ],
       "layout": "IPY_MODEL_736a7009d5294a3e93c65fae2679c17c"
      }
     },
     "7897b293c3ba4aff93da97018d09e67f": {
      "model_module": "@jupyter-widgets/controls",
      "model_module_version": "2.0.0",
      "model_name": "LabelStyleModel",
      "state": {
       "description_width": "",
       "font_family": "Courier",
       "font_size": null,
       "font_style": null,
       "font_variant": null,
       "font_weight": null,
       "text_color": null,
       "text_decoration": null
      }
     },
     "789ea00d0a9943f98c8b0d38c25d7537": {
      "model_module": "@jupyter-widgets/controls",
      "model_module_version": "2.0.0",
      "model_name": "VBoxModel",
      "state": {
       "_dom_classes": [
        "widget-interact"
       ],
       "children": [
        "IPY_MODEL_9dbf4ca76da5465e858a3db5752b084d",
        "IPY_MODEL_ee5e6e21d1ce48d2919ed827426254f5",
        "IPY_MODEL_0dd908b628364b1ab069f8e1091517b5"
       ],
       "layout": "IPY_MODEL_15e4c16d007342ecb7011e1560d22842"
      }
     },
     "78a5307211b64ba5bf99fda09ad3bd15": {
      "model_module": "@jupyter-widgets/controls",
      "model_module_version": "2.0.0",
      "model_name": "VBoxModel",
      "state": {
       "children": [
        "IPY_MODEL_752f1aedb3f9416cbdd2fb45a9970de5",
        "IPY_MODEL_4fedaf771dce475eb37d415b09d66542"
       ],
       "layout": "IPY_MODEL_6214ef817cb148f9a511b50115904f62"
      }
     },
     "78af7bf9428547ff8ae42e3b0ce739ab": {
      "model_module": "@jupyter-widgets/controls",
      "model_module_version": "2.0.0",
      "model_name": "VBoxModel",
      "state": {
       "_dom_classes": [
        "widget-interact"
       ],
       "children": [
        "IPY_MODEL_31420bd0b52c41fb8274a4792a61cf9d",
        "IPY_MODEL_e3cae6237e0a4cf9a213b02be3a38b06",
        "IPY_MODEL_eeb76c28b309497981677faf0f2e58dc"
       ],
       "layout": "IPY_MODEL_5055b7107fd849e49c04c789192c84dc"
      }
     },
     "78d6b3dfd9fb481bbb245e579efe646d": {
      "model_module": "@jupyter-widgets/controls",
      "model_module_version": "2.0.0",
      "model_name": "DropdownModel",
      "state": {
       "_options_labels": [
        "no_image",
        "image1",
        "image2",
        "image3",
        "blobs",
        "binary",
        "labels",
        "dilated_labels"
       ],
       "description": "image",
       "index": 0,
       "layout": "IPY_MODEL_0a8bcab6356d4f0489649d18adade3bc",
       "style": "IPY_MODEL_b2e0e4e6df7a454e945acbdc15d2f0e3"
      }
     },
     "794045b00367452093153c98ff9e9598": {
      "model_module": "@jupyter-widgets/base",
      "model_module_version": "2.0.0",
      "model_name": "LayoutModel",
      "state": {}
     },
     "794c5c2aed224901a7552a176fe5f2e0": {
      "model_module": "@jupyter-widgets/base",
      "model_module_version": "2.0.0",
      "model_name": "LayoutModel",
      "state": {}
     },
     "79543901bf234bd7b97f66d3de41c9c5": {
      "model_module": "@jupyter-widgets/controls",
      "model_module_version": "2.0.0",
      "model_name": "DescriptionStyleModel",
      "state": {
       "description_width": ""
      }
     },
     "79821a1de7b14db8b1b3f2dd153fb9ba": {
      "model_module": "@jupyter-widgets/controls",
      "model_module_version": "2.0.0",
      "model_name": "LabelStyleModel",
      "state": {
       "description_width": "",
       "font_family": "Courier",
       "font_size": null,
       "font_style": null,
       "font_variant": null,
       "font_weight": null,
       "text_color": null,
       "text_decoration": null
      }
     },
     "79836a1186bf46d3b2f1083e46a246e7": {
      "model_module": "@jupyter-widgets/controls",
      "model_module_version": "2.0.0",
      "model_name": "DropdownModel",
      "state": {
       "_options_labels": [
        "no_image",
        "image1",
        "image2",
        "image3",
        "blobs",
        "binary",
        "labels",
        "dilated_labels"
       ],
       "description": "labels_layer",
       "index": 0,
       "layout": "IPY_MODEL_39de6769b0ea439e92706db715f16bfa",
       "style": "IPY_MODEL_e5050a9143484c5f90974b865452da26"
      }
     },
     "7995585ced61469f86c5998cacaa7451": {
      "model_module": "@jupyter-widgets/controls",
      "model_module_version": "2.0.0",
      "model_name": "DropdownModel",
      "state": {
       "_options_labels": [
        "no_image",
        "image1",
        "image2",
        "image3",
        "blobs",
        "binary",
        "labels",
        "dilated_labels"
       ],
       "description": "image",
       "index": 0,
       "layout": "IPY_MODEL_89e633bdef7f41dfb5d8643be7271887",
       "style": "IPY_MODEL_0123fcd15be34a5eaa7251aa6b23d34e"
      }
     },
     "799d60f521f7484bb08ed4eecfd02252": {
      "model_module": "@jupyter-widgets/controls",
      "model_module_version": "2.0.0",
      "model_name": "DescriptionStyleModel",
      "state": {
       "description_width": ""
      }
     },
     "79ccbbbc73e34d8bb68a75ce269a53c1": {
      "model_module": "@jupyter-widgets/controls",
      "model_module_version": "2.0.0",
      "model_name": "DescriptionStyleModel",
      "state": {
       "description_width": ""
      }
     },
     "79ce6a8a875f41d0914ccd2acfddaacd": {
      "model_module": "@jupyter-widgets/base",
      "model_module_version": "2.0.0",
      "model_name": "LayoutModel",
      "state": {}
     },
     "79e3856eeede40f9941fb1c8f9db122b": {
      "model_module": "@jupyter-widgets/controls",
      "model_module_version": "2.0.0",
      "model_name": "DescriptionStyleModel",
      "state": {
       "description_width": ""
      }
     },
     "7a08820033df4aab91c96d0a53540acf": {
      "model_module": "@jupyter-widgets/base",
      "model_module_version": "2.0.0",
      "model_name": "LayoutModel",
      "state": {}
     },
     "7a1fa8070b494fa181bcbb774aa45dcc": {
      "model_module": "@jupyter-widgets/output",
      "model_module_version": "1.0.0",
      "model_name": "OutputModel",
      "state": {
       "layout": "IPY_MODEL_b61b2a22cad743049e659c8661e02e81"
      }
     },
     "7a263d00fbc341e5be6b72d31fd18f8b": {
      "model_module": "@jupyter-widgets/base",
      "model_module_version": "2.0.0",
      "model_name": "LayoutModel",
      "state": {}
     },
     "7a27509d2aa64665bb4a1954c402aa7a": {
      "model_module": "@jupyter-widgets/controls",
      "model_module_version": "2.0.0",
      "model_name": "LabelStyleModel",
      "state": {
       "description_width": "",
       "font_family": "Courier",
       "font_size": null,
       "font_style": null,
       "font_variant": null,
       "font_weight": null,
       "text_color": null,
       "text_decoration": null
      }
     },
     "7a2a1454d3884818a69cfd0cea3f75b0": {
      "model_module": "@jupyter-widgets/controls",
      "model_module_version": "2.0.0",
      "model_name": "DescriptionStyleModel",
      "state": {
       "description_width": ""
      }
     },
     "7a50d16c9568453fa507431af06a1e43": {
      "model_module": "@jupyter-widgets/base",
      "model_module_version": "2.0.0",
      "model_name": "LayoutModel",
      "state": {
       "display": "none"
      }
     },
     "7a550ad52a0f46cea859a38bf6b9890f": {
      "model_module": "@jupyter-widgets/controls",
      "model_module_version": "2.0.0",
      "model_name": "DropdownModel",
      "state": {
       "_options_labels": [
        "no_image",
        "image1",
        "image2",
        "image3",
        "blobs",
        "binary",
        "labels",
        "dilated_labels"
       ],
       "description": "image",
       "index": 0,
       "layout": "IPY_MODEL_5855141f88fb4ed3b245f3787bf6b026",
       "style": "IPY_MODEL_4428108b9e334b30bd1c0932f8a92197"
      }
     },
     "7a8f459c861b489c83e747614e5008aa": {
      "model_module": "@jupyter-widgets/base",
      "model_module_version": "2.0.0",
      "model_name": "LayoutModel",
      "state": {
       "display": "none"
      }
     },
     "7a913e94ed9e4ecc8ab6ee72ff1d726b": {
      "model_module": "@jupyter-widgets/controls",
      "model_module_version": "2.0.0",
      "model_name": "LabelStyleModel",
      "state": {
       "description_width": "",
       "font_family": "Courier",
       "font_size": null,
       "font_style": null,
       "font_variant": null,
       "font_weight": null,
       "text_color": null,
       "text_decoration": null
      }
     },
     "7aa6704be951468b874ee077b60c50d7": {
      "model_module": "@jupyter-widgets/base",
      "model_module_version": "2.0.0",
      "model_name": "LayoutModel",
      "state": {}
     },
     "7aa691bec8d646f5a446446f66b50203": {
      "model_module": "@jupyter-widgets/controls",
      "model_module_version": "2.0.0",
      "model_name": "SliderStyleModel",
      "state": {
       "description_width": ""
      }
     },
     "7abb9a1c46894595aae2175cb5e785bc": {
      "model_module": "@jupyter-widgets/base",
      "model_module_version": "2.0.0",
      "model_name": "LayoutModel",
      "state": {}
     },
     "7acb7e0315a44f4e95572d338927b322": {
      "model_module": "@jupyter-widgets/base",
      "model_module_version": "2.0.0",
      "model_name": "LayoutModel",
      "state": {}
     },
     "7b192ff220e548189e14a38d77b2158f": {
      "model_module": "@jupyter-widgets/base",
      "model_module_version": "2.0.0",
      "model_name": "LayoutModel",
      "state": {}
     },
     "7b4ed2c4b48c4f51bc234acd7fa1bb71": {
      "model_module": "@jupyter-widgets/base",
      "model_module_version": "2.0.0",
      "model_name": "LayoutModel",
      "state": {}
     },
     "7b57d3a0e1714671b25c523337fce1ee": {
      "model_module": "@jupyter-widgets/base",
      "model_module_version": "2.0.0",
      "model_name": "LayoutModel",
      "state": {}
     },
     "7b69556e088f4cc091d6e3edcc1755cb": {
      "model_module": "@jupyter-widgets/controls",
      "model_module_version": "2.0.0",
      "model_name": "LabelStyleModel",
      "state": {
       "description_width": "",
       "font_family": "Courier",
       "font_size": null,
       "font_style": null,
       "font_variant": null,
       "font_weight": null,
       "text_color": null,
       "text_decoration": null
      }
     },
     "7b7194bd4b574c86a39c98620cbe4588": {
      "model_module": "@jupyter-widgets/base",
      "model_module_version": "2.0.0",
      "model_name": "LayoutModel",
      "state": {}
     },
     "7b7c9d265156425fa19c7edc03bd7a3b": {
      "model_module": "@jupyter-widgets/controls",
      "model_module_version": "2.0.0",
      "model_name": "FloatSliderModel",
      "state": {
       "behavior": "drag-tap",
       "description": "sigmas",
       "layout": "IPY_MODEL_2c3e286163604fcaad49f2359831e77c",
       "max": 25,
       "style": "IPY_MODEL_b209d7ee24f24713a0cb54eb92b8973d"
      }
     },
     "7b7daba894c64ee3be0204e0fce8f7ba": {
      "model_module": "@jupyter-widgets/output",
      "model_module_version": "1.0.0",
      "model_name": "OutputModel",
      "state": {
       "layout": "IPY_MODEL_deeb8b5985b343c6ae1125c5b8d13ff1"
      }
     },
     "7b90a32ce37b453c802a50151499c4e8": {
      "model_module": "@jupyter-widgets/controls",
      "model_module_version": "2.0.0",
      "model_name": "DropdownModel",
      "state": {
       "_options_labels": [
        "no_image",
        "image1",
        "image2",
        "image3",
        "blobs",
        "binary",
        "labels",
        "dilated_labels"
       ],
       "description": "mask",
       "index": 0,
       "layout": "IPY_MODEL_e9515670873d4f829644a38782c28852",
       "style": "IPY_MODEL_533403b9bb0144bb9a9c47777f46aa7d"
      }
     },
     "7ba13916bed84b249ee3c5fa988aa150": {
      "model_module": "@jupyter-widgets/base",
      "model_module_version": "2.0.0",
      "model_name": "LayoutModel",
      "state": {}
     },
     "7ba7c07536bd4018ac5dd7ddf829cc41": {
      "model_module": "@jupyter-widgets/controls",
      "model_module_version": "2.0.0",
      "model_name": "SliderStyleModel",
      "state": {
       "description_width": ""
      }
     },
     "7ba7e877ffa34f54b0cff874695734db": {
      "model_module": "@jupyter-widgets/base",
      "model_module_version": "2.0.0",
      "model_name": "LayoutModel",
      "state": {}
     },
     "7bcd896d6f274997b37bd92e2f0e0634": {
      "model_module": "@jupyter-widgets/controls",
      "model_module_version": "2.0.0",
      "model_name": "VBoxModel",
      "state": {
       "_dom_classes": [
        "widget-interact"
       ],
       "children": [
        "IPY_MODEL_9b33abb6fc084689a3bdc1bc5c1e6f8c",
        "IPY_MODEL_f386b29685564380ac1266e764be3e10"
       ],
       "layout": "IPY_MODEL_8b0ddb27c19f4b2e8b4a15c617d0a964"
      }
     },
     "7beb51a64ba4446f8725e212b653fb8e": {
      "model_module": "@jupyter-widgets/base",
      "model_module_version": "2.0.0",
      "model_name": "LayoutModel",
      "state": {
       "display": "none"
      }
     },
     "7c1cfbcf03224b8ab62b533900dc8a00": {
      "model_module": "@jupyter-widgets/controls",
      "model_module_version": "2.0.0",
      "model_name": "DescriptionStyleModel",
      "state": {
       "description_width": ""
      }
     },
     "7c1fa95a62664b0a8f447fa85711c918": {
      "model_module": "@jupyter-widgets/base",
      "model_module_version": "2.0.0",
      "model_name": "LayoutModel",
      "state": {
       "display": "none"
      }
     },
     "7c2f6f552f9c442db26630c07f22a223": {
      "model_module": "@jupyter-widgets/controls",
      "model_module_version": "2.0.0",
      "model_name": "DescriptionStyleModel",
      "state": {
       "description_width": ""
      }
     },
     "7c3309ff13f54d2b80a84a63d532fdbb": {
      "model_module": "@jupyter-widgets/base",
      "model_module_version": "2.0.0",
      "model_name": "LayoutModel",
      "state": {}
     },
     "7c5319edc5744508ba9fbb24711af7d9": {
      "model_module": "@jupyter-widgets/base",
      "model_module_version": "2.0.0",
      "model_name": "LayoutModel",
      "state": {}
     },
     "7c943f8ec77545869acf91dd55d908da": {
      "model_module": "@jupyter-widgets/controls",
      "model_module_version": "2.0.0",
      "model_name": "DropdownModel",
      "state": {
       "_options_labels": [
        "no_image",
        "image1",
        "image2",
        "image3",
        "blobs",
        "binary",
        "labels",
        "dilated_labels"
       ],
       "description": "binary_image",
       "index": 0,
       "layout": "IPY_MODEL_4100daee578e4fefa4fed32825711cb9",
       "style": "IPY_MODEL_ca969472199242dc93152541ef94afe1"
      }
     },
     "7ca7e3ea256149b09cbbfc6a7dc63382": {
      "model_module": "@jupyter-widgets/controls",
      "model_module_version": "2.0.0",
      "model_name": "VBoxModel",
      "state": {
       "children": [
        "IPY_MODEL_78af7bf9428547ff8ae42e3b0ce739ab",
        "IPY_MODEL_95a2c89e12984557a8454a96084924fd"
       ],
       "layout": "IPY_MODEL_1d2320031f50466288b3f147a3d22b1e"
      }
     },
     "7d12c958be4349feb0742926deb64dbc": {
      "model_module": "@jupyter-widgets/controls",
      "model_module_version": "2.0.0",
      "model_name": "VBoxModel",
      "state": {
       "_dom_classes": [
        "widget-interact"
       ],
       "children": [
        "IPY_MODEL_f945064b6a54402ba26966ecf55ac44d",
        "IPY_MODEL_ef41abed52ad429284e800966af6e7f2",
        "IPY_MODEL_42f44254da6c4497ae0bb79a815a6929"
       ],
       "layout": "IPY_MODEL_2f9c4c9d51e14a64bdb21b2d267fa27e"
      }
     },
     "7d4aac73b03a44e2886e2329a41ac425": {
      "model_module": "@jupyter-widgets/controls",
      "model_module_version": "2.0.0",
      "model_name": "VBoxModel",
      "state": {
       "children": [
        "IPY_MODEL_bdb4cb19df604f7f9e49d9a82c4bb55b",
        "IPY_MODEL_20b99f3060834c4881b7cc8a6026eda8"
       ],
       "layout": "IPY_MODEL_f28556b213bc4ed281728c7839df5c9d"
      }
     },
     "7d8d99988030433eb07f86e3a9da4fb0": {
      "model_module": "@jupyter-widgets/base",
      "model_module_version": "2.0.0",
      "model_name": "LayoutModel",
      "state": {}
     },
     "7d934c2491a84e6083ccf69fe5c75536": {
      "model_module": "@jupyter-widgets/base",
      "model_module_version": "2.0.0",
      "model_name": "LayoutModel",
      "state": {}
     },
     "7d9464a17e5549239307f8b9f80869a1": {
      "model_module": "@jupyter-widgets/base",
      "model_module_version": "2.0.0",
      "model_name": "LayoutModel",
      "state": {}
     },
     "7dca77413f6f47cbbfc5da827fafbfe6": {
      "model_module": "@jupyter-widgets/base",
      "model_module_version": "2.0.0",
      "model_name": "LayoutModel",
      "state": {}
     },
     "7df35808cce44b01aaec09149aef2cfb": {
      "model_module": "@jupyter-widgets/base",
      "model_module_version": "2.0.0",
      "model_name": "LayoutModel",
      "state": {}
     },
     "7df9a10a2b3b4b45ba1e94b8afcbc659": {
      "model_module": "@jupyter-widgets/controls",
      "model_module_version": "2.0.0",
      "model_name": "DropdownModel",
      "state": {
       "_options_labels": [
        "no_image",
        "image1",
        "image2",
        "image3",
        "blobs",
        "binary",
        "labels",
        "dilated_labels"
       ],
       "description": "image",
       "index": 0,
       "layout": "IPY_MODEL_1a8c37ce1b844c9bbecc125402b93240",
       "style": "IPY_MODEL_48653b88a7ad45b8a0d38ef5532da11b"
      }
     },
     "7dfd3e7bbac64688a0d95d064b158dad": {
      "model_module": "@jupyter-widgets/controls",
      "model_module_version": "2.0.0",
      "model_name": "VBoxModel",
      "state": {
       "_dom_classes": [
        "widget-interact"
       ],
       "children": [
        "IPY_MODEL_a4efbc5a80a04595a397871a04dbbed9",
        "IPY_MODEL_b0375da2da0d453eb2f7fc708ed62388",
        "IPY_MODEL_9f0cbb3eb77d405ca2ca25868fd1820d",
        "IPY_MODEL_a7b9dbb5e6034b9082d8038bfaf2134c",
        "IPY_MODEL_2a628eaade374ef8a7e9c0c56f49816a"
       ],
       "layout": "IPY_MODEL_70fa549b2a674765a8fda59db694eec6"
      }
     },
     "7e0a25bbb1fd4e0ba0c41aa1d437122e": {
      "model_module": "@jupyter-widgets/base",
      "model_module_version": "2.0.0",
      "model_name": "LayoutModel",
      "state": {}
     },
     "7e2b9b8e3d0642708692e23c56729b83": {
      "model_module": "@jupyter-widgets/base",
      "model_module_version": "2.0.0",
      "model_name": "LayoutModel",
      "state": {}
     },
     "7e338643488e46bd8d47fdfa3df64706": {
      "model_module": "@jupyter-widgets/base",
      "model_module_version": "2.0.0",
      "model_name": "LayoutModel",
      "state": {}
     },
     "7e5a521782bf4cb3998dd3f84d00f416": {
      "model_module": "@jupyter-widgets/base",
      "model_module_version": "2.0.0",
      "model_name": "LayoutModel",
      "state": {}
     },
     "7e7bd2b678f349dfbc53ce4adb5edc0f": {
      "model_module": "@jupyter-widgets/controls",
      "model_module_version": "2.0.0",
      "model_name": "VBoxModel",
      "state": {
       "_dom_classes": [
        "widget-interact"
       ],
       "children": [
        "IPY_MODEL_90748c7b5c0043ceab04ee1eb1165272",
        "IPY_MODEL_b1fa3e52fc1342c495b54da674a369b0",
        "IPY_MODEL_9647f41308e24f398183268d3cba81f7"
       ],
       "layout": "IPY_MODEL_12f7dbc4acaa43eb8cd42abcbbcf7d56"
      }
     },
     "7ee0e2877e5147ad93662a4aed4c3619": {
      "model_module": "@jupyter-widgets/controls",
      "model_module_version": "2.0.0",
      "model_name": "LabelStyleModel",
      "state": {
       "description_width": "",
       "font_family": "Courier",
       "font_size": null,
       "font_style": null,
       "font_variant": null,
       "font_weight": null,
       "text_color": null,
       "text_decoration": null
      }
     },
     "7ee1e9b099c641b694a4f0fbb609f9fa": {
      "model_module": "@jupyter-widgets/controls",
      "model_module_version": "2.0.0",
      "model_name": "IntSliderModel",
      "state": {
       "behavior": "drag-tap",
       "description": "footprint",
       "layout": "IPY_MODEL_5cb932a19e01419a83ffec58aefdca03",
       "style": "IPY_MODEL_b0f6f77e4c844ef6b523322849582e89"
      }
     },
     "7f0f952e9f6343208404637ebd24fbdf": {
      "model_module": "@jupyter-widgets/base",
      "model_module_version": "2.0.0",
      "model_name": "LayoutModel",
      "state": {
       "display": "none"
      }
     },
     "7f29a29959624f5cb57f9eeb6629f304": {
      "model_module": "@jupyter-widgets/controls",
      "model_module_version": "2.0.0",
      "model_name": "LabelModel",
      "state": {
       "layout": "IPY_MODEL_6e7f6cb90afc4db8bdf58e35a189156a",
       "style": "IPY_MODEL_3e9b5881030e4a58afdf43296f181d2d",
       "value": "nsitk.threshold_triangle( image=no_image)"
      }
     },
     "7f43082ba30b4498afc8e443294cf3f3": {
      "model_module": "@jupyter-widgets/base",
      "model_module_version": "2.0.0",
      "model_name": "LayoutModel",
      "state": {}
     },
     "7f4b4bae0dda4038ac590163e64c475a": {
      "model_module": "@jupyter-widgets/output",
      "model_module_version": "1.0.0",
      "model_name": "OutputModel",
      "state": {
       "layout": "IPY_MODEL_1fcf1b6d6d0544eeb977bda6c6761184"
      }
     },
     "7f8c20a4964a4af49e8841f09b1e900d": {
      "model_module": "@jupyter-widgets/controls",
      "model_module_version": "2.0.0",
      "model_name": "VBoxModel",
      "state": {
       "_dom_classes": [
        "widget-interact"
       ],
       "children": [
        "IPY_MODEL_b214b50ac6d74c18a065111c9e5d0b5f",
        "IPY_MODEL_82ab8746db93457493975ccc956be85b"
       ],
       "layout": "IPY_MODEL_428149000363482db7e8d5b6734f0548"
      }
     },
     "7fb79fee873149d9aa4e3fbda6ec56eb": {
      "model_module": "@jupyter-widgets/controls",
      "model_module_version": "2.0.0",
      "model_name": "VBoxModel",
      "state": {
       "children": [
        "IPY_MODEL_6d6bca45541a4ee08987d0a372850fe4",
        "IPY_MODEL_127884f70f1d49d0935ecadaacfad8a8"
       ],
       "layout": "IPY_MODEL_f4535eea638d498c9718d4ea9e81cf37"
      }
     },
     "7fc39129cb924a5e8f0fe6e68efecc9f": {
      "model_module": "@jupyter-widgets/controls",
      "model_module_version": "2.0.0",
      "model_name": "VBoxModel",
      "state": {
       "_dom_classes": [
        "widget-interact"
       ],
       "children": [
        "IPY_MODEL_d4deee75c80244c6a07366382307efd9",
        "IPY_MODEL_e273ac1032264b2b9c93e505b9066919",
        "IPY_MODEL_872e6df7fae74e689341a805517135cf"
       ],
       "layout": "IPY_MODEL_6a6f4e8662ca423287ff1ccea32ff516"
      }
     },
     "7fdded8694574ce9aea92d13f31c8a61": {
      "model_module": "@jupyter-widgets/controls",
      "model_module_version": "2.0.0",
      "model_name": "DescriptionStyleModel",
      "state": {
       "description_width": ""
      }
     },
     "7fec80420aac4b2ca5612be7dc41b68f": {
      "model_module": "@jupyter-widgets/controls",
      "model_module_version": "2.0.0",
      "model_name": "DescriptionStyleModel",
      "state": {
       "description_width": ""
      }
     },
     "7ff1d78a665e4781ab01aa434b047572": {
      "model_module": "@jupyter-widgets/output",
      "model_module_version": "1.0.0",
      "model_name": "OutputModel",
      "state": {
       "layout": "IPY_MODEL_d92d2e3200e04f23b73693ffdd54b956"
      }
     },
     "7ff44b06da494557907b2236e2169a2d": {
      "model_module": "@jupyter-widgets/controls",
      "model_module_version": "2.0.0",
      "model_name": "VBoxModel",
      "state": {
       "children": [
        "IPY_MODEL_5eb17125c15c4143bd28d8a469f73849",
        "IPY_MODEL_c3d99fbe4c8040ec853c1d1f5f52c013"
       ],
       "layout": "IPY_MODEL_f63cd2abed7b4671a4fcb555330da072"
      }
     },
     "801779e4370442e2b549bc46b555a748": {
      "model_module": "@jupyter-widgets/controls",
      "model_module_version": "2.0.0",
      "model_name": "VBoxModel",
      "state": {
       "_dom_classes": [
        "widget-interact"
       ],
       "children": [
        "IPY_MODEL_545d5c432d034c5b80832e4c75b889aa",
        "IPY_MODEL_906e7b66e31044b59577197b37918416",
        "IPY_MODEL_7f4b4bae0dda4038ac590163e64c475a"
       ],
       "layout": "IPY_MODEL_660109cb76f240e888fc2d06b82f6ce5"
      }
     },
     "8025b1a854ee4d30ace854f6e161846f": {
      "model_module": "@jupyter-widgets/controls",
      "model_module_version": "2.0.0",
      "model_name": "VBoxModel",
      "state": {
       "children": [
        "IPY_MODEL_03b524ce02cc4a578da7b8b44d76c492",
        "IPY_MODEL_866ee29d58ac4cf5857c22b9ccadc5e7"
       ],
       "layout": "IPY_MODEL_e93e225f4f154ffabfc6f76e2225c70e"
      }
     },
     "803cb9c2f85f4ed981c53b1a3e2c7709": {
      "model_module": "@jupyter-widgets/controls",
      "model_module_version": "2.0.0",
      "model_name": "DescriptionStyleModel",
      "state": {
       "description_width": ""
      }
     },
     "8046626fa4f847fc8f5f1075e3dfed72": {
      "model_module": "@jupyter-widgets/controls",
      "model_module_version": "2.0.0",
      "model_name": "VBoxModel",
      "state": {
       "_dom_classes": [
        "widget-interact"
       ],
       "children": [
        "IPY_MODEL_5a1770f7ca1c4d1ba413a9acc7f44151",
        "IPY_MODEL_3724e76c23a3475a86fab07d2f1b5a7f"
       ],
       "layout": "IPY_MODEL_475ba4f507f44bcd8316ec200638f6bd"
      }
     },
     "808b4ea32ac54e7ea1017675789e73ba": {
      "model_module": "@jupyter-widgets/controls",
      "model_module_version": "2.0.0",
      "model_name": "SliderStyleModel",
      "state": {
       "description_width": ""
      }
     },
     "809a8f47479b4fb6948e61365a6e8e7b": {
      "model_module": "@jupyter-widgets/base",
      "model_module_version": "2.0.0",
      "model_name": "LayoutModel",
      "state": {
       "display": "none"
      }
     },
     "80c03c66edcf4ed284a1aa26e7308fab": {
      "model_module": "@jupyter-widgets/controls",
      "model_module_version": "2.0.0",
      "model_name": "DescriptionStyleModel",
      "state": {
       "description_width": ""
      }
     },
     "80c5a7b74a66493d9072f8b1d87cf53a": {
      "model_module": "@jupyter-widgets/controls",
      "model_module_version": "2.0.0",
      "model_name": "IntSliderModel",
      "state": {
       "behavior": "drag-tap",
       "description": "footprint",
       "layout": "IPY_MODEL_6a78f22720b94a5487434a8887852dde",
       "style": "IPY_MODEL_f816f6e239a7478582a5e5677738d841"
      }
     },
     "80da5b071a774be5a0c14873343c8c75": {
      "model_module": "@jupyter-widgets/controls",
      "model_module_version": "2.0.0",
      "model_name": "DropdownModel",
      "state": {
       "_options_labels": [
        "no_image",
        "image1",
        "image2",
        "image3",
        "blobs",
        "binary",
        "labels",
        "dilated_labels"
       ],
       "description": "membranes",
       "index": 0,
       "layout": "IPY_MODEL_8daecbcf8c4a4461bddc768714007458",
       "style": "IPY_MODEL_dbf2e03ea6aa4bc5bb0693cb22f5bdd8"
      }
     },
     "810277d23f314fdca072ac03d3af9701": {
      "model_module": "@jupyter-widgets/controls",
      "model_module_version": "2.0.0",
      "model_name": "SliderStyleModel",
      "state": {
       "description_width": ""
      }
     },
     "8108a73e2dd44ff6b9e0533e40f02490": {
      "model_module": "@jupyter-widgets/base",
      "model_module_version": "2.0.0",
      "model_name": "LayoutModel",
      "state": {}
     },
     "810e598c63ba45e9ae005a464a0887c4": {
      "model_module": "@jupyter-widgets/base",
      "model_module_version": "2.0.0",
      "model_name": "LayoutModel",
      "state": {}
     },
     "81404fe31e6248f59917640264a28744": {
      "model_module": "@jupyter-widgets/base",
      "model_module_version": "2.0.0",
      "model_name": "LayoutModel",
      "state": {}
     },
     "81489bd75e6b41348b3325e92fbe8c29": {
      "model_module": "@jupyter-widgets/output",
      "model_module_version": "1.0.0",
      "model_name": "OutputModel",
      "state": {
       "layout": "IPY_MODEL_055bbb115293458ea0ae7b2c48b29c83"
      }
     },
     "8163281dbf074fea816f67c24d382775": {
      "model_module": "@jupyter-widgets/controls",
      "model_module_version": "2.0.0",
      "model_name": "VBoxModel",
      "state": {
       "children": [
        "IPY_MODEL_fef7efe0467c44b9ab20bbd7a3a499bd",
        "IPY_MODEL_4b77e5d442d14e5d90887ff4f9f7b3ea"
       ],
       "layout": "IPY_MODEL_3309c52853714804a8fdb3f391036ddf"
      }
     },
     "817ad551a7b94d149b82ab4893486027": {
      "model_module": "@jupyter-widgets/base",
      "model_module_version": "2.0.0",
      "model_name": "LayoutModel",
      "state": {}
     },
     "8181d7a560134e0ab5cf9df0df6c9cfd": {
      "model_module": "@jupyter-widgets/base",
      "model_module_version": "2.0.0",
      "model_name": "LayoutModel",
      "state": {}
     },
     "81b978f51c7a44f3b730a18b228da492": {
      "model_module": "@jupyter-widgets/controls",
      "model_module_version": "2.0.0",
      "model_name": "FloatSliderModel",
      "state": {
       "behavior": "drag-tap",
       "description": "level",
       "layout": "IPY_MODEL_5440eff6761c4a828444f6ec251a0c6d",
       "step": null,
       "style": "IPY_MODEL_40f5dd290ff14e5980d9cff9d181ee47",
       "value": 1
      }
     },
     "81ba6d72fc0348bf835409400328e92f": {
      "model_module": "@jupyter-widgets/controls",
      "model_module_version": "2.0.0",
      "model_name": "SliderStyleModel",
      "state": {
       "description_width": ""
      }
     },
     "81c045579fbd47c6aeaacd51c5d7910e": {
      "model_module": "@jupyter-widgets/controls",
      "model_module_version": "2.0.0",
      "model_name": "DescriptionStyleModel",
      "state": {
       "description_width": ""
      }
     },
     "81ca32a5fa454cf59a6e8ee043e614b0": {
      "model_module": "@jupyter-widgets/base",
      "model_module_version": "2.0.0",
      "model_name": "LayoutModel",
      "state": {}
     },
     "81e171a49a584408ba140c4647d5c818": {
      "model_module": "@jupyter-widgets/controls",
      "model_module_version": "2.0.0",
      "model_name": "FloatSliderModel",
      "state": {
       "behavior": "drag-tap",
       "description": "distance",
       "layout": "IPY_MODEL_26606277e1c84a3ea294ceb9c5a4c4b9",
       "step": null,
       "style": "IPY_MODEL_bae349378d4f4882aec7a1f057062c82",
       "value": 1
      }
     },
     "81fc917f7f9c4dd6918e7ae73461713b": {
      "model_module": "@jupyter-widgets/controls",
      "model_module_version": "2.0.0",
      "model_name": "VBoxModel",
      "state": {
       "_dom_classes": [
        "widget-interact"
       ],
       "children": [
        "IPY_MODEL_65b7af4b848349ac803668fafe7c266d",
        "IPY_MODEL_585be2f774914b91a35cc7c9ecbe2167",
        "IPY_MODEL_0756145e94484f8ca12f5318e02032fd",
        "IPY_MODEL_cd85fcb6020745c69d0e63c167137e45"
       ],
       "layout": "IPY_MODEL_e9eec39345264d06a8e8c596693c92f5"
      }
     },
     "82233f531fac4abe91b3aebfd68d54e0": {
      "model_module": "@jupyter-widgets/base",
      "model_module_version": "2.0.0",
      "model_name": "LayoutModel",
      "state": {}
     },
     "82315639261e4fb6b10b086095a9bcb8": {
      "model_module": "@jupyter-widgets/controls",
      "model_module_version": "2.0.0",
      "model_name": "VBoxModel",
      "state": {
       "children": [
        "IPY_MODEL_5e0cd2a7d4454e658e45fdd98fd44616",
        "IPY_MODEL_4a3c75147c6e447b93da6e08c78f60ba"
       ],
       "layout": "IPY_MODEL_809a8f47479b4fb6948e61365a6e8e7b"
      }
     },
     "8253684f982f405dba30fc5ace642936": {
      "model_module": "@jupyter-widgets/base",
      "model_module_version": "2.0.0",
      "model_name": "LayoutModel",
      "state": {
       "display": "none"
      }
     },
     "8256aaff8cc14027be82a772a50cd8b3": {
      "model_module": "@jupyter-widgets/base",
      "model_module_version": "2.0.0",
      "model_name": "LayoutModel",
      "state": {}
     },
     "826e6a7cb3cd4bafa3cbdfd437299bb3": {
      "model_module": "@jupyter-widgets/controls",
      "model_module_version": "2.0.0",
      "model_name": "VBoxModel",
      "state": {
       "children": [
        "IPY_MODEL_779ead066c554bacaee419965669c95b",
        "IPY_MODEL_92a6be2f3319422e81e6898d2b34eb98"
       ],
       "layout": "IPY_MODEL_a0de063fcd7044da8afca50823270584"
      }
     },
     "827730c841e3470cae193085b84ac64c": {
      "model_module": "@jupyter-widgets/controls",
      "model_module_version": "2.0.0",
      "model_name": "VBoxModel",
      "state": {
       "children": [
        "IPY_MODEL_aa1e89d927964c88834ea75af044a064",
        "IPY_MODEL_42ef587fc1304ed083ebb00051974ed8"
       ],
       "layout": "IPY_MODEL_8253684f982f405dba30fc5ace642936"
      }
     },
     "8279d6edbff7489e85f951bbbce31540": {
      "model_module": "@jupyter-widgets/controls",
      "model_module_version": "2.0.0",
      "model_name": "LabelStyleModel",
      "state": {
       "description_width": "",
       "font_family": "Courier",
       "font_size": null,
       "font_style": null,
       "font_variant": null,
       "font_weight": null,
       "text_color": null,
       "text_decoration": null
      }
     },
     "829979c448174158aab6f9e2a4ff57da": {
      "model_module": "@jupyter-widgets/controls",
      "model_module_version": "2.0.0",
      "model_name": "LabelModel",
      "state": {
       "layout": "IPY_MODEL_611dbc5faa104f66a5d7dc88ac62902e",
       "style": "IPY_MODEL_4985dc09a04b4b718d5cb7259e4d5a16",
       "value": "nsitk.threshold_isodata( image=no_image)"
      }
     },
     "82ab8746db93457493975ccc956be85b": {
      "model_module": "@jupyter-widgets/output",
      "model_module_version": "1.0.0",
      "model_name": "OutputModel",
      "state": {
       "layout": "IPY_MODEL_1cee045df996490698cdb63683e0f9a5"
      }
     },
     "82dbb1d690dc4d1883c0aba523d0e97c": {
      "model_module": "@jupyter-widgets/base",
      "model_module_version": "2.0.0",
      "model_name": "LayoutModel",
      "state": {}
     },
     "82eb7e93f4ab472e937d0c3dd7af9794": {
      "model_module": "@jupyter-widgets/controls",
      "model_module_version": "2.0.0",
      "model_name": "LabelModel",
      "state": {
       "layout": "IPY_MODEL_1b442f1902be49c9a27453b21d72166f",
       "style": "IPY_MODEL_bc8cce66436e4a9082cdecbeb984b09a",
       "value": "nsbatwm.watershed( image=no_image, mask=no_image)"
      }
     },
     "830d4ce36efc4387b8b89b8dff0a61ea": {
      "model_module": "@jupyter-widgets/controls",
      "model_module_version": "2.0.0",
      "model_name": "LabelStyleModel",
      "state": {
       "description_width": "",
       "font_family": "Courier",
       "font_size": null,
       "font_style": null,
       "font_variant": null,
       "font_weight": null,
       "text_color": null,
       "text_decoration": null
      }
     },
     "831d64f7436e4b5da6da5868bc61f523": {
      "model_module": "@jupyter-widgets/controls",
      "model_module_version": "2.0.0",
      "model_name": "VBoxModel",
      "state": {
       "children": [
        "IPY_MODEL_af8cd249c4a3458d9d465acc6f19ccc5",
        "IPY_MODEL_8b4696333d6644d58521960fd0945435"
       ],
       "layout": "IPY_MODEL_86c6a299a3314219be4007c374721e74"
      }
     },
     "83455288c7cb484fbacb909b4f70586a": {
      "model_module": "@jupyter-widgets/controls",
      "model_module_version": "2.0.0",
      "model_name": "DropdownModel",
      "state": {
       "_options_labels": [
        "no_image",
        "image1",
        "image2",
        "image3",
        "blobs",
        "binary",
        "labels",
        "dilated_labels"
       ],
       "description": "image",
       "index": 0,
       "layout": "IPY_MODEL_c70c0af66bf54f02b1cfa1024b4d1cfa",
       "style": "IPY_MODEL_aa87f62e215a4045aa13e07172d7c365"
      }
     },
     "835ae43f2afc4be19e57ff1b3fe8d375": {
      "model_module": "@jupyter-widgets/controls",
      "model_module_version": "2.0.0",
      "model_name": "SliderStyleModel",
      "state": {
       "description_width": ""
      }
     },
     "835cbef857a7426786a97e9af9f0b59c": {
      "model_module": "@jupyter-widgets/base",
      "model_module_version": "2.0.0",
      "model_name": "LayoutModel",
      "state": {}
     },
     "836c61f99c2248d999f2c46232fef62b": {
      "model_module": "@jupyter-widgets/controls",
      "model_module_version": "2.0.0",
      "model_name": "DropdownModel",
      "state": {
       "_options_labels": [
        "no_image",
        "image1",
        "image2",
        "image3",
        "blobs",
        "binary",
        "labels",
        "dilated_labels"
       ],
       "description": "mask",
       "index": 0,
       "layout": "IPY_MODEL_f4bc38baeb5642129f587a81fa5d6a21",
       "style": "IPY_MODEL_91157ff780704ff9bf4b160fc408fe30"
      }
     },
     "8385e553508547af9e0bb4904cc20b3f": {
      "model_module": "@jupyter-widgets/controls",
      "model_module_version": "2.0.0",
      "model_name": "SliderStyleModel",
      "state": {
       "description_width": ""
      }
     },
     "83910755d5394c68a151f1dd6558c9a8": {
      "model_module": "@jupyter-widgets/base",
      "model_module_version": "2.0.0",
      "model_name": "LayoutModel",
      "state": {}
     },
     "83b04b52e5f740ec9530b3ad21fcfcdf": {
      "model_module": "@jupyter-widgets/controls",
      "model_module_version": "2.0.0",
      "model_name": "SliderStyleModel",
      "state": {
       "description_width": ""
      }
     },
     "83dc1814cf474b3284ee4c40865692dc": {
      "model_module": "@jupyter-widgets/base",
      "model_module_version": "2.0.0",
      "model_name": "LayoutModel",
      "state": {}
     },
     "84461195ef694c43a0c1c34265261349": {
      "model_module": "@jupyter-widgets/base",
      "model_module_version": "2.0.0",
      "model_name": "LayoutModel",
      "state": {}
     },
     "844ddb1c18984e77833d584033d726f9": {
      "model_module": "@jupyter-widgets/base",
      "model_module_version": "2.0.0",
      "model_name": "LayoutModel",
      "state": {
       "display": "none"
      }
     },
     "844f55cd59344059b2c2415cfa2c877e": {
      "model_module": "@jupyter-widgets/base",
      "model_module_version": "2.0.0",
      "model_name": "LayoutModel",
      "state": {}
     },
     "847684784f344550a0807d02558e611f": {
      "model_module": "@jupyter-widgets/base",
      "model_module_version": "2.0.0",
      "model_name": "LayoutModel",
      "state": {}
     },
     "8476affc7688489e8c540efe15520ee9": {
      "model_module": "@jupyter-widgets/controls",
      "model_module_version": "2.0.0",
      "model_name": "DropdownModel",
      "state": {
       "_options_labels": [
        "no_image",
        "image1",
        "image2",
        "image3",
        "blobs",
        "binary",
        "labels",
        "dilated_labels"
       ],
       "description": "image",
       "index": 0,
       "layout": "IPY_MODEL_a7bba40a7bd746c380616688514230ef",
       "style": "IPY_MODEL_09ccdf5777ce4618b7709c43cb77de8f"
      }
     },
     "848db680055f41278cb37e3e1a8a5b3c": {
      "model_module": "@jupyter-widgets/base",
      "model_module_version": "2.0.0",
      "model_name": "LayoutModel",
      "state": {}
     },
     "84a2ff24651145ef8373e797aef3fea5": {
      "model_module": "@jupyter-widgets/controls",
      "model_module_version": "2.0.0",
      "model_name": "DescriptionStyleModel",
      "state": {
       "description_width": ""
      }
     },
     "84b662f1f93844d688f7a671085bcb11": {
      "model_module": "@jupyter-widgets/controls",
      "model_module_version": "2.0.0",
      "model_name": "VBoxModel",
      "state": {
       "children": [
        "IPY_MODEL_6d31ac929e85412cae133e4a710b756f",
        "IPY_MODEL_ec0be6b66a1240e59929226f8f478fc5"
       ],
       "layout": "IPY_MODEL_a7210283c37e43e9ac53727edb83bbad"
      }
     },
     "84d5418f987942f793385a70be92ca22": {
      "model_module": "@jupyter-widgets/controls",
      "model_module_version": "2.0.0",
      "model_name": "VBoxModel",
      "state": {
       "children": [
        "IPY_MODEL_0de1c2472dd44e6e9584536cd8fb82e6",
        "IPY_MODEL_7286b4741d2c454a8e1db2a33e824f58"
       ],
       "layout": "IPY_MODEL_7a50d16c9568453fa507431af06a1e43"
      }
     },
     "84e2cb51424145c88efe455c353a3a15": {
      "model_module": "@jupyter-widgets/base",
      "model_module_version": "2.0.0",
      "model_name": "LayoutModel",
      "state": {}
     },
     "84e790520bfb474192ab86dbbd2d604c": {
      "model_module": "@jupyter-widgets/controls",
      "model_module_version": "2.0.0",
      "model_name": "VBoxModel",
      "state": {
       "_dom_classes": [
        "widget-interact"
       ],
       "children": [
        "IPY_MODEL_48ac54b91f4b46beb6d32e1a50de42b8",
        "IPY_MODEL_b3cb0d79373e463da17843b572c5f27d",
        "IPY_MODEL_1575e17847694206a7801a94291daff8"
       ],
       "layout": "IPY_MODEL_0e3e3202f96e4486b60e419d1e13f723"
      }
     },
     "85063bdec42547b0ab8266075777b13e": {
      "model_module": "@jupyter-widgets/base",
      "model_module_version": "2.0.0",
      "model_name": "LayoutModel",
      "state": {}
     },
     "85380eb3376341ba901af79186213fb8": {
      "model_module": "@jupyter-widgets/base",
      "model_module_version": "2.0.0",
      "model_name": "LayoutModel",
      "state": {}
     },
     "8542654c848e4e3c9128d148c46067b0": {
      "model_module": "@jupyter-widgets/controls",
      "model_module_version": "2.0.0",
      "model_name": "VBoxModel",
      "state": {
       "_dom_classes": [
        "widget-interact"
       ],
       "children": [
        "IPY_MODEL_208d66a4841843488b9d700ee078c01f",
        "IPY_MODEL_8afa14488a1148cb8e141ac7da402aa4",
        "IPY_MODEL_e5f83a797da44ef6af41ab4a8313be8d",
        "IPY_MODEL_54bf4b22adb94c40a5846836f72daafd",
        "IPY_MODEL_20afe0ac0f31469b8a90991ea5550bee"
       ],
       "layout": "IPY_MODEL_d41fe2c0be3c4bf393efa98c4c81ff7b"
      }
     },
     "858096a3e5384432913c6b0b8e948831": {
      "model_module": "@jupyter-widgets/base",
      "model_module_version": "2.0.0",
      "model_name": "LayoutModel",
      "state": {}
     },
     "8581f99643cd45eaaa3145ebebfd3f29": {
      "model_module": "@jupyter-widgets/output",
      "model_module_version": "1.0.0",
      "model_name": "OutputModel",
      "state": {
       "layout": "IPY_MODEL_259e21cb7f504dd39638f09a81a0ed07"
      }
     },
     "8582a237ce294bce8191efed22fa3c4b": {
      "model_module": "@jupyter-widgets/base",
      "model_module_version": "2.0.0",
      "model_name": "LayoutModel",
      "state": {}
     },
     "85a163e9ca7d4b04968025f3cc6f023c": {
      "model_module": "@jupyter-widgets/base",
      "model_module_version": "2.0.0",
      "model_name": "LayoutModel",
      "state": {}
     },
     "85a1a762a2d44e77ada378cc22b3fa78": {
      "model_module": "@jupyter-widgets/output",
      "model_module_version": "1.0.0",
      "model_name": "OutputModel",
      "state": {
       "layout": "IPY_MODEL_5ae40ae3b92f4d53abd786db30f59e80"
      }
     },
     "85a6b1f54c5a42dc931c83337eddd40f": {
      "model_module": "@jupyter-widgets/controls",
      "model_module_version": "2.0.0",
      "model_name": "LabelStyleModel",
      "state": {
       "description_width": "",
       "font_family": "Courier",
       "font_size": null,
       "font_style": null,
       "font_variant": null,
       "font_weight": null,
       "text_color": null,
       "text_decoration": null
      }
     },
     "85f597f7e4f340b0a2881593ae911e87": {
      "model_module": "@jupyter-widgets/base",
      "model_module_version": "2.0.0",
      "model_name": "LayoutModel",
      "state": {}
     },
     "860a6afcfbae41ab8e37c5bcce4f0b9e": {
      "model_module": "@jupyter-widgets/controls",
      "model_module_version": "2.0.0",
      "model_name": "VBoxModel",
      "state": {
       "children": [
        "IPY_MODEL_fb4ae1c5e239457e919f49fa46b73754",
        "IPY_MODEL_449dda2ae59a4a82b8af78663b8c86e6"
       ],
       "layout": "IPY_MODEL_9736c64b7e6e46c1a4f8516cbc54d633"
      }
     },
     "86426157d6bd43d7872681a3efa0b450": {
      "model_module": "@jupyter-widgets/base",
      "model_module_version": "2.0.0",
      "model_name": "LayoutModel",
      "state": {}
     },
     "866ee29d58ac4cf5857c22b9ccadc5e7": {
      "model_module": "@jupyter-widgets/controls",
      "model_module_version": "2.0.0",
      "model_name": "LabelModel",
      "state": {
       "layout": "IPY_MODEL_7d8d99988030433eb07f86e3a9da4fb0",
       "style": "IPY_MODEL_7a27509d2aa64665bb4a1954c402aa7a",
       "value": "skfilters.laplace( image=no_image, mask=no_image)"
      }
     },
     "867e46346a9f4ade8ac98654669f70d2": {
      "model_module": "@jupyter-widgets/controls",
      "model_module_version": "2.0.0",
      "model_name": "DescriptionStyleModel",
      "state": {
       "description_width": ""
      }
     },
     "8687fa6d75684b2088fd24499b1af73e": {
      "model_module": "@jupyter-widgets/base",
      "model_module_version": "2.0.0",
      "model_name": "LayoutModel",
      "state": {}
     },
     "86adfdf458574ddda602bade645e82df": {
      "model_module": "@jupyter-widgets/controls",
      "model_module_version": "2.0.0",
      "model_name": "LabelStyleModel",
      "state": {
       "description_width": "",
       "font_family": "Courier",
       "font_size": null,
       "font_style": null,
       "font_variant": null,
       "font_weight": null,
       "text_color": null,
       "text_decoration": null
      }
     },
     "86bad1d076dd4dafb0bb5bf55a8fd240": {
      "model_module": "@jupyter-widgets/base",
      "model_module_version": "2.0.0",
      "model_name": "LayoutModel",
      "state": {
       "display": "none"
      }
     },
     "86c3623d2742491588ff979811164eda": {
      "model_module": "@jupyter-widgets/controls",
      "model_module_version": "2.0.0",
      "model_name": "LabelModel",
      "state": {
       "layout": "IPY_MODEL_3d0cab2264094e83ba5b4a246f11f0c4",
       "style": "IPY_MODEL_4f64c3d2815d486b8ff158f3855fe020",
       "value": "nsitk.morphological_gradient( distance_image=no_image, radius_x=5, radius_y=5, radius_z=5)"
      }
     },
     "86c6a299a3314219be4007c374721e74": {
      "model_module": "@jupyter-widgets/base",
      "model_module_version": "2.0.0",
      "model_name": "LayoutModel",
      "state": {
       "display": "none"
      }
     },
     "86d44c530df84a21af897258ed944763": {
      "model_module": "@jupyter-widgets/output",
      "model_module_version": "1.0.0",
      "model_name": "OutputModel",
      "state": {
       "layout": "IPY_MODEL_6a0d5164c81a44e7b995298d1acec504"
      }
     },
     "86fcea1ff2214ad9b7439817ab3b147a": {
      "model_module": "@jupyter-widgets/base",
      "model_module_version": "2.0.0",
      "model_name": "LayoutModel",
      "state": {}
     },
     "872e6df7fae74e689341a805517135cf": {
      "model_module": "@jupyter-widgets/output",
      "model_module_version": "1.0.0",
      "model_name": "OutputModel",
      "state": {
       "layout": "IPY_MODEL_7633e89876644fef968038a87149a0ed"
      }
     },
     "87384a68165043c8b178205ebcde8b43": {
      "model_module": "@jupyter-widgets/controls",
      "model_module_version": "2.0.0",
      "model_name": "IntSliderModel",
      "state": {
       "behavior": "drag-tap",
       "description": "repetitions",
       "layout": "IPY_MODEL_24c6b9bb5b0d4a549c35553100850be1",
       "style": "IPY_MODEL_33630b298f7d424295737e35b3e6deb4",
       "value": 1
      }
     },
     "873ebcac34ea43d5b04bf15713718c59": {
      "model_module": "@jupyter-widgets/base",
      "model_module_version": "2.0.0",
      "model_name": "LayoutModel",
      "state": {}
     },
     "874cd7c19c6f42ed9e8c910421b06f56": {
      "model_module": "@jupyter-widgets/base",
      "model_module_version": "2.0.0",
      "model_name": "LayoutModel",
      "state": {
       "display": "none"
      }
     },
     "8776a597bbff4398b12bd885acb42d7f": {
      "model_module": "@jupyter-widgets/controls",
      "model_module_version": "2.0.0",
      "model_name": "LabelStyleModel",
      "state": {
       "description_width": "",
       "font_family": "Courier",
       "font_size": null,
       "font_style": null,
       "font_variant": null,
       "font_weight": null,
       "text_color": null,
       "text_decoration": null
      }
     },
     "878206da34a146658f54ef2ea14c0ba4": {
      "model_module": "@jupyter-widgets/base",
      "model_module_version": "2.0.0",
      "model_name": "LayoutModel",
      "state": {}
     },
     "87cb0597fe9247ecbfb8c76037f88d98": {
      "model_module": "@jupyter-widgets/controls",
      "model_module_version": "2.0.0",
      "model_name": "DropdownModel",
      "state": {
       "_options_labels": [
        "no_image",
        "image1",
        "image2",
        "image3",
        "blobs",
        "binary",
        "labels",
        "dilated_labels"
       ],
       "description": "image",
       "index": 0,
       "layout": "IPY_MODEL_df729dba8ec74a78b511c8f32ac6db76",
       "style": "IPY_MODEL_37ca8dffa4b34b86a885c958cb136d80"
      }
     },
     "87f1e6f4b11048c8ab305c2db1e563ef": {
      "model_module": "@jupyter-widgets/base",
      "model_module_version": "2.0.0",
      "model_name": "LayoutModel",
      "state": {}
     },
     "87f6cc472a944afc9c28d50cbb3cd640": {
      "model_module": "@jupyter-widgets/base",
      "model_module_version": "2.0.0",
      "model_name": "LayoutModel",
      "state": {}
     },
     "884a11f300c947dcbec4a48e79534355": {
      "model_module": "@jupyter-widgets/base",
      "model_module_version": "2.0.0",
      "model_name": "LayoutModel",
      "state": {}
     },
     "885634426d0a4b7bb218cf5c5626c60d": {
      "model_module": "@jupyter-widgets/controls",
      "model_module_version": "2.0.0",
      "model_name": "DescriptionStyleModel",
      "state": {
       "description_width": ""
      }
     },
     "885cb1c231db4605885eaba9d19f4660": {
      "model_module": "@jupyter-widgets/controls",
      "model_module_version": "2.0.0",
      "model_name": "VBoxModel",
      "state": {
       "children": [
        "IPY_MODEL_7e7bd2b678f349dfbc53ce4adb5edc0f",
        "IPY_MODEL_f887f6c877464c6e8ed5130126c20744"
       ],
       "layout": "IPY_MODEL_ca6cf4a547794981b9747681ad622eaf"
      }
     },
     "886605f310064b5a8c9263219c531a5e": {
      "model_module": "@jupyter-widgets/base",
      "model_module_version": "2.0.0",
      "model_name": "LayoutModel",
      "state": {}
     },
     "88862c1b334e476c8fbe3eed397e0697": {
      "model_module": "@jupyter-widgets/base",
      "model_module_version": "2.0.0",
      "model_name": "LayoutModel",
      "state": {}
     },
     "88a2b6790ae34e96b742ffae3ba72e95": {
      "model_module": "@jupyter-widgets/output",
      "model_module_version": "1.0.0",
      "model_name": "OutputModel",
      "state": {
       "layout": "IPY_MODEL_dbfdcc3d46194d9cba174cea411c2d18"
      }
     },
     "88a569c97f4e4558ba0ed6466b1f865f": {
      "model_module": "@jupyter-widgets/controls",
      "model_module_version": "2.0.0",
      "model_name": "DropdownModel",
      "state": {
       "_options_labels": [
        "no_image",
        "image1",
        "image2",
        "image3",
        "blobs",
        "binary",
        "labels",
        "dilated_labels"
       ],
       "description": "intensity_image",
       "index": 0,
       "layout": "IPY_MODEL_34d570f3d11f48b09a6811c698c5874f",
       "style": "IPY_MODEL_1f995cc83e974b3599e5b4eede0fe98d"
      }
     },
     "88aca027087b42ef8df8297e659b0785": {
      "model_module": "@jupyter-widgets/controls",
      "model_module_version": "2.0.0",
      "model_name": "VBoxModel",
      "state": {
       "children": [
        "IPY_MODEL_16d60262d1f246caa38f703816646ca8",
        "IPY_MODEL_dc13594654d84870b8d023946ad12eaf"
       ],
       "layout": "IPY_MODEL_c18efdd4e0cd4151bd1e5ed90471a90c"
      }
     },
     "88bea0927c0e40ccb99fec898ec45771": {
      "model_module": "@jupyter-widgets/controls",
      "model_module_version": "2.0.0",
      "model_name": "SliderStyleModel",
      "state": {
       "description_width": ""
      }
     },
     "88db982ff4d140189d8f7571e77f5f94": {
      "model_module": "@jupyter-widgets/controls",
      "model_module_version": "2.0.0",
      "model_name": "DropdownModel",
      "state": {
       "_options_labels": [
        "no_image",
        "image1",
        "image2",
        "image3",
        "blobs",
        "binary",
        "labels",
        "dilated_labels"
       ],
       "description": "source",
       "index": 0,
       "layout": "IPY_MODEL_b0d03e7867f244bd8ca8515966a5d7d1",
       "style": "IPY_MODEL_0e2581aaab5749e48de983de8746b445"
      }
     },
     "88e9cc15788545e296480fe1e0cb1a53": {
      "model_module": "@jupyter-widgets/output",
      "model_module_version": "1.0.0",
      "model_name": "OutputModel",
      "state": {
       "layout": "IPY_MODEL_e5bccd9252244c47a3f9b84e1a0b65b9"
      }
     },
     "88f3191c7c4c4049a72fc4dafbf4a68e": {
      "model_module": "@jupyter-widgets/controls",
      "model_module_version": "2.0.0",
      "model_name": "VBoxModel",
      "state": {
       "_dom_classes": [
        "widget-interact"
       ],
       "children": [
        "IPY_MODEL_487ee89edd644037b5623001bed0340c",
        "IPY_MODEL_b25808e3446f407899ec70e8b6e26d67",
        "IPY_MODEL_b2295a3bd6ab413b82a8d4d93f098dac"
       ],
       "layout": "IPY_MODEL_0d7665d5c1564c05b28a54935714c3b8"
      }
     },
     "88fd5eb66e2e4529ad4e77f116c9d7b1": {
      "model_module": "@jupyter-widgets/base",
      "model_module_version": "2.0.0",
      "model_name": "LayoutModel",
      "state": {}
     },
     "890edae9025c41c7addfc5dcbb9a1923": {
      "model_module": "@jupyter-widgets/base",
      "model_module_version": "2.0.0",
      "model_name": "LayoutModel",
      "state": {}
     },
     "893655a081144a41af67c830ef086f57": {
      "model_module": "@jupyter-widgets/controls",
      "model_module_version": "2.0.0",
      "model_name": "DropdownModel",
      "state": {
       "_options_labels": [
        "no_image",
        "image1",
        "image2",
        "image3",
        "blobs",
        "binary",
        "labels",
        "dilated_labels"
       ],
       "description": "num_peaks_per_label",
       "index": 0,
       "layout": "IPY_MODEL_9cda13c240b8435786966c26a29a8076",
       "style": "IPY_MODEL_dc385a992dc0400d9d535fd08d03bd03"
      }
     },
     "896d9bf1a61f43c4ae056136ac2c73d5": {
      "model_module": "@jupyter-widgets/base",
      "model_module_version": "2.0.0",
      "model_name": "LayoutModel",
      "state": {}
     },
     "89cb0f2466f849d89400ab11a3098683": {
      "model_module": "@jupyter-widgets/controls",
      "model_module_version": "2.0.0",
      "model_name": "DescriptionStyleModel",
      "state": {
       "description_width": ""
      }
     },
     "89e633bdef7f41dfb5d8643be7271887": {
      "model_module": "@jupyter-widgets/base",
      "model_module_version": "2.0.0",
      "model_name": "LayoutModel",
      "state": {}
     },
     "89fd9811e32c41c78a1a4de7e2bf2450": {
      "model_module": "@jupyter-widgets/base",
      "model_module_version": "2.0.0",
      "model_name": "LayoutModel",
      "state": {}
     },
     "8a196bfa5e904ad3b6f222f1f65fed6f": {
      "model_module": "@jupyter-widgets/controls",
      "model_module_version": "2.0.0",
      "model_name": "CheckboxStyleModel",
      "state": {
       "description_width": ""
      }
     },
     "8a19f7a7d33446f98f442d191e95ab2c": {
      "model_module": "@jupyter-widgets/base",
      "model_module_version": "2.0.0",
      "model_name": "LayoutModel",
      "state": {}
     },
     "8a2ab3fcccde42049656ca7620c2b0e4": {
      "model_module": "@jupyter-widgets/controls",
      "model_module_version": "2.0.0",
      "model_name": "DescriptionStyleModel",
      "state": {
       "description_width": ""
      }
     },
     "8a3ada60568945a7b2dc255a00e0abd6": {
      "model_module": "@jupyter-widgets/output",
      "model_module_version": "1.0.0",
      "model_name": "OutputModel",
      "state": {
       "layout": "IPY_MODEL_ffafb126e82744268f04d5563c6235ca"
      }
     },
     "8a465f2b630847979abd0e4345b76aa1": {
      "model_module": "@jupyter-widgets/base",
      "model_module_version": "2.0.0",
      "model_name": "LayoutModel",
      "state": {}
     },
     "8a4ab2f004a8494d855d13cea4a07d27": {
      "model_module": "@jupyter-widgets/base",
      "model_module_version": "2.0.0",
      "model_name": "LayoutModel",
      "state": {}
     },
     "8a5ebc939dea4548af70cc69534f05be": {
      "model_module": "@jupyter-widgets/controls",
      "model_module_version": "2.0.0",
      "model_name": "SliderStyleModel",
      "state": {
       "description_width": ""
      }
     },
     "8a66b11c8f3746a7970ae9705d61f046": {
      "model_module": "@jupyter-widgets/base",
      "model_module_version": "2.0.0",
      "model_name": "LayoutModel",
      "state": {
       "display": "none"
      }
     },
     "8a712615366b4980b727e255db732483": {
      "model_module": "@jupyter-widgets/controls",
      "model_module_version": "2.0.0",
      "model_name": "LabelModel",
      "state": {
       "layout": "IPY_MODEL_758b3b9c0f3845fb95d167a97ca8c8fa",
       "style": "IPY_MODEL_94bbf774ae4848e5abef76aa885871ef",
       "value": "nsitk.threshold_maximum_entropy( image=no_image)"
      }
     },
     "8aa64ca29e0348d48e7355a2e15b0678": {
      "model_module": "@jupyter-widgets/output",
      "model_module_version": "1.0.0",
      "model_name": "OutputModel",
      "state": {
       "layout": "IPY_MODEL_303e1136affc44948ee5ec4df998c795"
      }
     },
     "8aa9baf96c5a42349ba6b5d4e440329d": {
      "model_module": "@jupyter-widgets/controls",
      "model_module_version": "2.0.0",
      "model_name": "LabelModel",
      "state": {
       "layout": "IPY_MODEL_7a263d00fbc341e5be6b72d31fd18f8b",
       "style": "IPY_MODEL_b583aabac8de4ca89d269e208ad4384c",
       "value": "nsitk.adaptive_histogram_equalization( image=no_image, alpha=0.3, beta=0.3, radius_x=5, radius_y=5, radius_z=5)"
      }
     },
     "8abe8c7c9e284ab9a595071bb75ec5d8": {
      "model_module": "@jupyter-widgets/controls",
      "model_module_version": "2.0.0",
      "model_name": "LabelStyleModel",
      "state": {
       "description_width": "",
       "font_family": "Courier",
       "font_size": null,
       "font_style": null,
       "font_variant": null,
       "font_weight": null,
       "text_color": null,
       "text_decoration": null
      }
     },
     "8ae0556c32ec4975859f417ec1d6c44c": {
      "model_module": "@jupyter-widgets/controls",
      "model_module_version": "2.0.0",
      "model_name": "DropdownModel",
      "state": {
       "_options_labels": [
        "no_image",
        "image1",
        "image2",
        "image3",
        "blobs",
        "binary",
        "labels",
        "dilated_labels"
       ],
       "description": "image",
       "index": 0,
       "layout": "IPY_MODEL_f23a2a1c096c46d6818fcf2bf4edef67",
       "style": "IPY_MODEL_580a2c14c372464cad3877c5025aa3ec"
      }
     },
     "8aeb12386c1b4e9c9ad0bce937ed8e14": {
      "model_module": "@jupyter-widgets/controls",
      "model_module_version": "2.0.0",
      "model_name": "DescriptionStyleModel",
      "state": {
       "description_width": ""
      }
     },
     "8afa14488a1148cb8e141ac7da402aa4": {
      "model_module": "@jupyter-widgets/controls",
      "model_module_version": "2.0.0",
      "model_name": "IntSliderModel",
      "state": {
       "behavior": "drag-tap",
       "description": "radius_x",
       "layout": "IPY_MODEL_0c4069dfa1914fdf8a4a732dfb6aef58",
       "style": "IPY_MODEL_f74b7ca8abfa474aa7cf42a17a12f9c2",
       "value": 1
      }
     },
     "8b0ddb27c19f4b2e8b4a15c617d0a964": {
      "model_module": "@jupyter-widgets/base",
      "model_module_version": "2.0.0",
      "model_name": "LayoutModel",
      "state": {}
     },
     "8b4696333d6644d58521960fd0945435": {
      "model_module": "@jupyter-widgets/controls",
      "model_module_version": "2.0.0",
      "model_name": "LabelModel",
      "state": {
       "layout": "IPY_MODEL_03f432f83a9f4a82ad94931d7a461ca3",
       "style": "IPY_MODEL_401f7ca28a4d4def84fcbb20309d6d59",
       "value": "skfilters.threshold_yen( image=no_image)"
      }
     },
     "8b609c5bc83e49c7bd7551aa4bc5e591": {
      "model_module": "@jupyter-widgets/controls",
      "model_module_version": "2.0.0",
      "model_name": "VBoxModel",
      "state": {
       "_dom_classes": [
        "widget-interact"
       ],
       "children": [
        "IPY_MODEL_7a550ad52a0f46cea859a38bf6b9890f",
        "IPY_MODEL_58a830e6d6d84a57a6a60abab6f15dc5",
        "IPY_MODEL_502032ad583f45fcb517eba97380c2d8",
        "IPY_MODEL_893655a081144a41af67c830ef086f57",
        "IPY_MODEL_7b7daba894c64ee3be0204e0fce8f7ba"
       ],
       "layout": "IPY_MODEL_28d704c6016f445b8d7f802b48da2a69"
      }
     },
     "8b7909b801044c0490dcbbee6641c79c": {
      "model_module": "@jupyter-widgets/base",
      "model_module_version": "2.0.0",
      "model_name": "LayoutModel",
      "state": {}
     },
     "8b7c7ff21c8a47faa945d9cd936ea618": {
      "model_module": "@jupyter-widgets/base",
      "model_module_version": "2.0.0",
      "model_name": "LayoutModel",
      "state": {}
     },
     "8bc8a790f2324f56863aa51711863542": {
      "model_module": "@jupyter-widgets/base",
      "model_module_version": "2.0.0",
      "model_name": "LayoutModel",
      "state": {}
     },
     "8bd61071f47247b1878fb94a7e1da4ec": {
      "model_module": "@jupyter-widgets/base",
      "model_module_version": "2.0.0",
      "model_name": "LayoutModel",
      "state": {
       "display": "none"
      }
     },
     "8bdc084e4c23491786bb91e37a6bfd40": {
      "model_module": "@jupyter-widgets/controls",
      "model_module_version": "2.0.0",
      "model_name": "SliderStyleModel",
      "state": {
       "description_width": ""
      }
     },
     "8bf24a9f1a7f4073a15fad09cd1bda18": {
      "model_module": "@jupyter-widgets/base",
      "model_module_version": "2.0.0",
      "model_name": "LayoutModel",
      "state": {}
     },
     "8bf337da8bac48adbbc47695901c398a": {
      "model_module": "@jupyter-widgets/output",
      "model_module_version": "1.0.0",
      "model_name": "OutputModel",
      "state": {
       "layout": "IPY_MODEL_a50aebec41e44dce838245561d593796"
      }
     },
     "8c03a916773546558d6a62f41aaa1791": {
      "model_module": "@jupyter-widgets/output",
      "model_module_version": "1.0.0",
      "model_name": "OutputModel",
      "state": {
       "layout": "IPY_MODEL_133cbe761b494d66b5c91c64182ec89b"
      }
     },
     "8c079e1e7b8a4a6da1ca2454920b17c6": {
      "model_module": "@jupyter-widgets/base",
      "model_module_version": "2.0.0",
      "model_name": "LayoutModel",
      "state": {}
     },
     "8c10e555f0bd4069be3f52663d5583d9": {
      "model_module": "@jupyter-widgets/controls",
      "model_module_version": "2.0.0",
      "model_name": "VBoxModel",
      "state": {
       "_dom_classes": [
        "widget-interact"
       ],
       "children": [
        "IPY_MODEL_ca7603a0e69e4bf786e558dd6872acd9",
        "IPY_MODEL_e652cdbd82fb4a8ba3adf4771e9c6862"
       ],
       "layout": "IPY_MODEL_0a48d6dddae94371bc22d011a19968ec"
      }
     },
     "8c3039fd930b4b85ace2d00c4e1bc47a": {
      "model_module": "@jupyter-widgets/controls",
      "model_module_version": "2.0.0",
      "model_name": "DescriptionStyleModel",
      "state": {
       "description_width": ""
      }
     },
     "8c3e49e54e974e8d8f036c4a221bfaa5": {
      "model_module": "@jupyter-widgets/base",
      "model_module_version": "2.0.0",
      "model_name": "LayoutModel",
      "state": {
       "display": "none"
      }
     },
     "8c60b6c6ccd646d5a03ab2469adc01e5": {
      "model_module": "@jupyter-widgets/controls",
      "model_module_version": "2.0.0",
      "model_name": "VBoxModel",
      "state": {
       "_dom_classes": [
        "widget-interact"
       ],
       "children": [
        "IPY_MODEL_fbca67a9da55429297b684eb4655666d",
        "IPY_MODEL_5801ed4222864e1d92afdbbe77550487",
        "IPY_MODEL_69338a178ecc49ffb24c8425b5ddc9f6"
       ],
       "layout": "IPY_MODEL_66de06f4c12f4821813b944a8ef6ec8b"
      }
     },
     "8c6c2072e95243e6a3379ced1b8bcfeb": {
      "model_module": "@jupyter-widgets/base",
      "model_module_version": "2.0.0",
      "model_name": "LayoutModel",
      "state": {}
     },
     "8c7e64376ec042248b6c52df77acc2e4": {
      "model_module": "@jupyter-widgets/base",
      "model_module_version": "2.0.0",
      "model_name": "LayoutModel",
      "state": {}
     },
     "8c9c92ef449141778533d7a1cafb7d89": {
      "model_module": "@jupyter-widgets/base",
      "model_module_version": "2.0.0",
      "model_name": "LayoutModel",
      "state": {}
     },
     "8ca87a257f274c75bcf46cb4f1b9f232": {
      "model_module": "@jupyter-widgets/controls",
      "model_module_version": "2.0.0",
      "model_name": "FloatSliderModel",
      "state": {
       "behavior": "drag-tap",
       "description": "rolling_ball_radius",
       "layout": "IPY_MODEL_580bf67196e045cb87d45f77ec2d40de",
       "style": "IPY_MODEL_c8c871b272f846e4b7113c36c0fb99a8",
       "value": 5
      }
     },
     "8cbe09aec6db4b2a86dd98c07a194283": {
      "model_module": "@jupyter-widgets/output",
      "model_module_version": "1.0.0",
      "model_name": "OutputModel",
      "state": {
       "layout": "IPY_MODEL_00c59a98c3aa4ca2a0f0bee6bb31f6bd"
      }
     },
     "8d141f1a72c34c35ae8573dc064b0745": {
      "model_module": "@jupyter-widgets/controls",
      "model_module_version": "2.0.0",
      "model_name": "LabelStyleModel",
      "state": {
       "description_width": "",
       "font_family": "Courier",
       "font_size": null,
       "font_style": null,
       "font_variant": null,
       "font_weight": null,
       "text_color": null,
       "text_decoration": null
      }
     },
     "8d213fc99c234f78bfb79a865b45300f": {
      "model_module": "@jupyter-widgets/base",
      "model_module_version": "2.0.0",
      "model_name": "LayoutModel",
      "state": {
       "display": "none"
      }
     },
     "8d25ddaaf8ec41928b0eef71b3dd9bd2": {
      "model_module": "@jupyter-widgets/controls",
      "model_module_version": "2.0.0",
      "model_name": "LabelModel",
      "state": {
       "layout": "IPY_MODEL_95aad4010ed3442c887e42fecb0f0c73",
       "style": "IPY_MODEL_4664ba010ddb4157bcb5371e52705c4a",
       "value": "nsbatwm.median_filter( image=no_image, radius=2.0)"
      }
     },
     "8d73699486a948c99a9bcf282c0198c6": {
      "model_module": "@jupyter-widgets/controls",
      "model_module_version": "2.0.0",
      "model_name": "DescriptionStyleModel",
      "state": {
       "description_width": ""
      }
     },
     "8d7cecd6b1a74b09b2779b1f85378151": {
      "model_module": "@jupyter-widgets/base",
      "model_module_version": "2.0.0",
      "model_name": "LayoutModel",
      "state": {}
     },
     "8daecbcf8c4a4461bddc768714007458": {
      "model_module": "@jupyter-widgets/base",
      "model_module_version": "2.0.0",
      "model_name": "LayoutModel",
      "state": {}
     },
     "8daf1e1e5ddc4a9088cd2207781c6d74": {
      "model_module": "@jupyter-widgets/base",
      "model_module_version": "2.0.0",
      "model_name": "LayoutModel",
      "state": {}
     },
     "8dd380adb7b04708a5dcaa340e732151": {
      "model_module": "@jupyter-widgets/controls",
      "model_module_version": "2.0.0",
      "model_name": "CheckboxModel",
      "state": {
       "description": "position",
       "disabled": false,
       "layout": "IPY_MODEL_5f31c939a5ee4dc98033dd9e0f54effb",
       "style": "IPY_MODEL_743e4c12fa3e44e6bac05709ef66e7b4",
       "value": false
      }
     },
     "8dfbb7f6fb3b4b93823f477cf45af932": {
      "model_module": "@jupyter-widgets/controls",
      "model_module_version": "2.0.0",
      "model_name": "DropdownModel",
      "state": {
       "_options_labels": [
        "no_image",
        "image1",
        "image2",
        "image3",
        "blobs",
        "binary",
        "labels",
        "dilated_labels"
       ],
       "description": "image",
       "index": 0,
       "layout": "IPY_MODEL_e4408adacedf4a4a8d7a50a56523ce12",
       "style": "IPY_MODEL_ddc5d6ab54bd4c9fb6efdbd92725e0f3"
      }
     },
     "8e507f6a79f64c4d87fa94499d2251ab": {
      "model_module": "@jupyter-widgets/base",
      "model_module_version": "2.0.0",
      "model_name": "LayoutModel",
      "state": {}
     },
     "8e799d00fa604c8395d6da39bd17bb3c": {
      "model_module": "@jupyter-widgets/controls",
      "model_module_version": "2.0.0",
      "model_name": "DropdownModel",
      "state": {
       "_options_labels": [
        "no_image",
        "image1",
        "image2",
        "image3",
        "blobs",
        "binary",
        "labels",
        "dilated_labels"
       ],
       "description": "image",
       "index": 0,
       "layout": "IPY_MODEL_a78a38544bf041f99f2682f860ffed1d",
       "style": "IPY_MODEL_b701540bfc7747e6abcb846248a13de6"
      }
     },
     "8eaa5fbb23b647e99a24ab085137c7e2": {
      "model_module": "@jupyter-widgets/controls",
      "model_module_version": "2.0.0",
      "model_name": "VBoxModel",
      "state": {
       "_dom_classes": [
        "widget-interact"
       ],
       "children": [
        "IPY_MODEL_3a7a4ddf91f34ba28bb930cfa5668b99",
        "IPY_MODEL_c4f45ae5531144f0801513456d6a7924",
        "IPY_MODEL_5d3264d98e4f4195ab567607af73b89e"
       ],
       "layout": "IPY_MODEL_94424f61e305428ea44d81d557fa0294"
      }
     },
     "8f0ae1467f914a4b99904c5c473afae3": {
      "model_module": "@jupyter-widgets/base",
      "model_module_version": "2.0.0",
      "model_name": "LayoutModel",
      "state": {}
     },
     "8f60ba33a92649fe840c833e6e1696a5": {
      "model_module": "@jupyter-widgets/base",
      "model_module_version": "2.0.0",
      "model_name": "LayoutModel",
      "state": {}
     },
     "8fbd4b76d5614f089a1b7ea06bb0b78b": {
      "model_module": "@jupyter-widgets/base",
      "model_module_version": "2.0.0",
      "model_name": "LayoutModel",
      "state": {}
     },
     "8fd5d0da7da946079204dcc043fa5691": {
      "model_module": "@jupyter-widgets/base",
      "model_module_version": "2.0.0",
      "model_name": "LayoutModel",
      "state": {
       "display": "none"
      }
     },
     "8fe296bfbb214392a7387893cb197a1e": {
      "model_module": "@jupyter-widgets/controls",
      "model_module_version": "2.0.0",
      "model_name": "DescriptionStyleModel",
      "state": {
       "description_width": ""
      }
     },
     "8fe71acac25a4f90914e74fcc8a39558": {
      "model_module": "@jupyter-widgets/controls",
      "model_module_version": "2.0.0",
      "model_name": "DropdownModel",
      "state": {
       "_options_labels": [
        "no_image",
        "image1",
        "image2",
        "image3",
        "blobs",
        "binary",
        "labels",
        "dilated_labels"
       ],
       "description": "image",
       "index": 0,
       "layout": "IPY_MODEL_36f70337d49d4068b3ca715cdbf4ee73",
       "style": "IPY_MODEL_64a4a737207744cc8435b8ebe4944029"
      }
     },
     "8fef8c3922d941768b1c599db5ecde5f": {
      "model_module": "@jupyter-widgets/base",
      "model_module_version": "2.0.0",
      "model_name": "LayoutModel",
      "state": {}
     },
     "90127e02542d4eb5bb40726db1081d1d": {
      "model_module": "@jupyter-widgets/base",
      "model_module_version": "2.0.0",
      "model_name": "LayoutModel",
      "state": {}
     },
     "903e1d015a7e4f6c88c01b5fa2624ed0": {
      "model_module": "@jupyter-widgets/controls",
      "model_module_version": "2.0.0",
      "model_name": "IntSliderModel",
      "state": {
       "behavior": "drag-tap",
       "description": "number_of_erosions",
       "layout": "IPY_MODEL_97d50d01ebb1429e8fcd4d57afe972df",
       "style": "IPY_MODEL_2aca6fd9508944a0afa57355c3da0655",
       "value": 5
      }
     },
     "90596d80821145499268634ce166ffe2": {
      "model_module": "@jupyter-widgets/controls",
      "model_module_version": "2.0.0",
      "model_name": "LabelStyleModel",
      "state": {
       "description_width": "",
       "font_family": "Courier",
       "font_size": null,
       "font_style": null,
       "font_variant": null,
       "font_weight": null,
       "text_color": null,
       "text_decoration": null
      }
     },
     "905bd8eb9536473c90beb91e2951e75b": {
      "model_module": "@jupyter-widgets/base",
      "model_module_version": "2.0.0",
      "model_name": "LayoutModel",
      "state": {
       "display": "none"
      }
     },
     "906e7b66e31044b59577197b37918416": {
      "model_module": "@jupyter-widgets/controls",
      "model_module_version": "2.0.0",
      "model_name": "FloatSliderModel",
      "state": {
       "behavior": "drag-tap",
       "description": "radius",
       "layout": "IPY_MODEL_b6547a5dd02048289600b535f6aeb7e3",
       "style": "IPY_MODEL_ee7e15bcf5934028a86f7b5a2937e850",
       "value": 1
      }
     },
     "90748c7b5c0043ceab04ee1eb1165272": {
      "model_module": "@jupyter-widgets/controls",
      "model_module_version": "2.0.0",
      "model_name": "DropdownModel",
      "state": {
       "_options_labels": [
        "no_image",
        "image1",
        "image2",
        "image3",
        "blobs",
        "binary",
        "labels",
        "dilated_labels"
       ],
       "description": "image",
       "index": 0,
       "layout": "IPY_MODEL_1679dcecadb14d828ca527a2210b346b",
       "style": "IPY_MODEL_17c254e2a85445b8b9539d46f8d2d7ce"
      }
     },
     "908a7ba6c9c0494eb221fb8d731df3ad": {
      "model_module": "@jupyter-widgets/base",
      "model_module_version": "2.0.0",
      "model_name": "LayoutModel",
      "state": {}
     },
     "90e74dedeaa345a3bedd24c40cd6376e": {
      "model_module": "@jupyter-widgets/base",
      "model_module_version": "2.0.0",
      "model_name": "LayoutModel",
      "state": {}
     },
     "91157ff780704ff9bf4b160fc408fe30": {
      "model_module": "@jupyter-widgets/controls",
      "model_module_version": "2.0.0",
      "model_name": "DescriptionStyleModel",
      "state": {
       "description_width": ""
      }
     },
     "922951044a1e43c4ba2f975e36de1a0d": {
      "model_module": "@jupyter-widgets/base",
      "model_module_version": "2.0.0",
      "model_name": "LayoutModel",
      "state": {}
     },
     "9244423ca4b64c5fa12a82da044c44e8": {
      "model_module": "@jupyter-widgets/base",
      "model_module_version": "2.0.0",
      "model_name": "LayoutModel",
      "state": {}
     },
     "928584cd005a4ad59813ba6cd40c12f1": {
      "model_module": "@jupyter-widgets/controls",
      "model_module_version": "2.0.0",
      "model_name": "VBoxModel",
      "state": {
       "children": [
        "IPY_MODEL_2a3fe6533b764ff3a2c81a1c98ea0474",
        "IPY_MODEL_b861647003284b75a78632a14cc40fc7"
       ],
       "layout": "IPY_MODEL_a299815186b94182957b6ca305600d17"
      }
     },
     "929fad8ed4b9495fb1ad44bba9578151": {
      "model_module": "@jupyter-widgets/base",
      "model_module_version": "2.0.0",
      "model_name": "LayoutModel",
      "state": {}
     },
     "92a6be2f3319422e81e6898d2b34eb98": {
      "model_module": "@jupyter-widgets/controls",
      "model_module_version": "2.0.0",
      "model_name": "LabelModel",
      "state": {
       "layout": "IPY_MODEL_2aa1d3ba586342c5a7545ff684b1046f",
       "style": "IPY_MODEL_aeefb625ff5444f5a822283715bc80e9",
       "value": "opening_labels( labels_input=no_image, radius=0)"
      }
     },
     "92ca331fd83943d2b96ad86058d0e54e": {
      "model_module": "@jupyter-widgets/controls",
      "model_module_version": "2.0.0",
      "model_name": "LabelModel",
      "state": {
       "layout": "IPY_MODEL_6a2e86b8417d42cfbe2fec686006e90e",
       "style": "IPY_MODEL_08e88294cdc7433caad5f535c246bbf7",
       "value": "nsitk.threshold_otsu( image=no_image)"
      }
     },
     "92f9683962db4f34877997774e59f5a9": {
      "model_module": "@jupyter-widgets/controls",
      "model_module_version": "2.0.0",
      "model_name": "FloatSliderModel",
      "state": {
       "behavior": "drag-tap",
       "description": "spot_sigma",
       "layout": "IPY_MODEL_ca31435b6cb94432bf51bb7a45494d4e",
       "max": 25,
       "style": "IPY_MODEL_73d96fa3ecba46649305cd614c27e3b4",
       "value": 10
      }
     },
     "934063d584934aa1b6b12a603395d388": {
      "model_module": "@jupyter-widgets/base",
      "model_module_version": "2.0.0",
      "model_name": "LayoutModel",
      "state": {}
     },
     "9375f42660134d4dbd314e9ff8bedba0": {
      "model_module": "@jupyter-widgets/base",
      "model_module_version": "2.0.0",
      "model_name": "LayoutModel",
      "state": {
       "display": "none"
      }
     },
     "938c2de1245145d8b4199a5167d68059": {
      "model_module": "@jupyter-widgets/base",
      "model_module_version": "2.0.0",
      "model_name": "LayoutModel",
      "state": {}
     },
     "9393b5d5dc654a16bd5fa9be04376aa0": {
      "model_module": "@jupyter-widgets/controls",
      "model_module_version": "2.0.0",
      "model_name": "VBoxModel",
      "state": {
       "_dom_classes": [
        "widget-interact"
       ],
       "children": [
        "IPY_MODEL_030c55e078fc47a4afcef6e1effa4fa1",
        "IPY_MODEL_65740595582847b580846440feb1b765",
        "IPY_MODEL_bf152936695b46ad977d5830a9a8b1bb"
       ],
       "layout": "IPY_MODEL_a9e341d3eb7d407f88c48bbfa2435878"
      }
     },
     "939f9719a5e746379e75347634c393d5": {
      "model_module": "@jupyter-widgets/base",
      "model_module_version": "2.0.0",
      "model_name": "LayoutModel",
      "state": {
       "display": "none"
      }
     },
     "93bc2f00945f4afaa5341ce7b20c301a": {
      "model_module": "@jupyter-widgets/base",
      "model_module_version": "2.0.0",
      "model_name": "LayoutModel",
      "state": {}
     },
     "93bf015f517c44dc8ba83ad954ebe870": {
      "model_module": "@jupyter-widgets/controls",
      "model_module_version": "2.0.0",
      "model_name": "DropdownModel",
      "state": {
       "_options_labels": [
        "no_image",
        "image1",
        "image2",
        "image3",
        "blobs",
        "binary",
        "labels",
        "dilated_labels"
       ],
       "description": "image",
       "index": 0,
       "layout": "IPY_MODEL_391f39da9b5246f5a7a6ed3b8e724501",
       "style": "IPY_MODEL_1841bef3ba774215b1c04ecdfc16e762"
      }
     },
     "93c3285075c84b9fb937d8d546e57cd2": {
      "model_module": "@jupyter-widgets/controls",
      "model_module_version": "2.0.0",
      "model_name": "DropdownModel",
      "state": {
       "_options_labels": [
        "no_image",
        "image1",
        "image2",
        "image3",
        "blobs",
        "binary",
        "labels",
        "dilated_labels"
       ],
       "description": "image2",
       "index": 0,
       "layout": "IPY_MODEL_3df54b5c7304403fbb9ee30f975e941e",
       "style": "IPY_MODEL_0034f114eb984685b17ef406307847f9"
      }
     },
     "93cfb1751d2145b691da62aa83e5e025": {
      "model_module": "@jupyter-widgets/controls",
      "model_module_version": "2.0.0",
      "model_name": "VBoxModel",
      "state": {
       "_dom_classes": [
        "widget-interact"
       ],
       "children": [
        "IPY_MODEL_417831396ecf406db8ca445fa3ad2e09",
        "IPY_MODEL_752c6d9defc649afae1af714506e1202"
       ],
       "layout": "IPY_MODEL_46dea40dbbfe4f8d92d0325f0be6a39e"
      }
     },
     "93f0e43dd1ad438c906ecff65abdd5d4": {
      "model_module": "@jupyter-widgets/base",
      "model_module_version": "2.0.0",
      "model_name": "LayoutModel",
      "state": {
       "display": "none"
      }
     },
     "941e4558bbc744debb246369cb6164f9": {
      "model_module": "@jupyter-widgets/base",
      "model_module_version": "2.0.0",
      "model_name": "LayoutModel",
      "state": {}
     },
     "94245bba84da45aa946d2b3552315819": {
      "model_module": "@jupyter-widgets/base",
      "model_module_version": "2.0.0",
      "model_name": "LayoutModel",
      "state": {}
     },
     "9437ad9f61fb4b6fa6d09c7ce01efc1a": {
      "model_module": "@jupyter-widgets/controls",
      "model_module_version": "2.0.0",
      "model_name": "LabelStyleModel",
      "state": {
       "description_width": "",
       "font_family": "Courier",
       "font_size": null,
       "font_style": null,
       "font_variant": null,
       "font_weight": null,
       "text_color": null,
       "text_decoration": null
      }
     },
     "943a8d64576b405e8cf394ed291ccdf2": {
      "model_module": "@jupyter-widgets/controls",
      "model_module_version": "2.0.0",
      "model_name": "VBoxModel",
      "state": {
       "_dom_classes": [
        "widget-interact"
       ],
       "children": [
        "IPY_MODEL_df25a7dfe0b64fa58e12bbfad03a0389",
        "IPY_MODEL_c528ceb0a7ae4e22974623a0737f1dc2",
        "IPY_MODEL_1826dfd8ccbd44a68ed84b972cdfdaeb"
       ],
       "layout": "IPY_MODEL_6cb052efb2b84f67952285b121181a54"
      }
     },
     "943ca0c55b1c4f86b6c52294a27aee20": {
      "model_module": "@jupyter-widgets/base",
      "model_module_version": "2.0.0",
      "model_name": "LayoutModel",
      "state": {}
     },
     "94424f61e305428ea44d81d557fa0294": {
      "model_module": "@jupyter-widgets/base",
      "model_module_version": "2.0.0",
      "model_name": "LayoutModel",
      "state": {}
     },
     "9487c8dc031543ebb1fa02a45b3b2f57": {
      "model_module": "@jupyter-widgets/controls",
      "model_module_version": "2.0.0",
      "model_name": "DropdownModel",
      "state": {
       "_options_labels": [
        "no_image",
        "image1",
        "image2",
        "image3",
        "blobs",
        "binary",
        "labels",
        "dilated_labels"
       ],
       "description": "mask",
       "index": 0,
       "layout": "IPY_MODEL_004001c64f064e55ab948b48b3373b7a",
       "style": "IPY_MODEL_fb41d69e768f4645ac1b70bbef28b6bd"
      }
     },
     "9489b5b6560446a5bff7593e3dc05b03": {
      "model_module": "@jupyter-widgets/base",
      "model_module_version": "2.0.0",
      "model_name": "LayoutModel",
      "state": {}
     },
     "94b43d8aa5be44448c439393bb4f386e": {
      "model_module": "@jupyter-widgets/output",
      "model_module_version": "1.0.0",
      "model_name": "OutputModel",
      "state": {
       "layout": "IPY_MODEL_90e74dedeaa345a3bedd24c40cd6376e"
      }
     },
     "94bbf774ae4848e5abef76aa885871ef": {
      "model_module": "@jupyter-widgets/controls",
      "model_module_version": "2.0.0",
      "model_name": "LabelStyleModel",
      "state": {
       "description_width": "",
       "font_family": "Courier",
       "font_size": null,
       "font_style": null,
       "font_variant": null,
       "font_weight": null,
       "text_color": null,
       "text_decoration": null
      }
     },
     "94c762d08d90489da78ea837cd6b6ae5": {
      "model_module": "@jupyter-widgets/base",
      "model_module_version": "2.0.0",
      "model_name": "LayoutModel",
      "state": {}
     },
     "94e96cb194674af2b536ca7d8a5e6648": {
      "model_module": "@jupyter-widgets/base",
      "model_module_version": "2.0.0",
      "model_name": "LayoutModel",
      "state": {}
     },
     "950321a4496c41a7b4ece973d2aec612": {
      "model_module": "@jupyter-widgets/controls",
      "model_module_version": "2.0.0",
      "model_name": "VBoxModel",
      "state": {
       "_dom_classes": [
        "widget-interact"
       ],
       "children": [
        "IPY_MODEL_db06bafa6ad2459d818be8f274e27bb8",
        "IPY_MODEL_05c033f1cffb449a965b315d6c4495b4",
        "IPY_MODEL_6894707eddb64988a87da9e7a0933c0a"
       ],
       "layout": "IPY_MODEL_9841aeedf9f040ae9d380c0011cc0f7e"
      }
     },
     "9529a2185acd4c5090ff78596a31e505": {
      "model_module": "@jupyter-widgets/base",
      "model_module_version": "2.0.0",
      "model_name": "LayoutModel",
      "state": {
       "display": "none"
      }
     },
     "954a5193cba944a2ae2b2302f06317f9": {
      "model_module": "@jupyter-widgets/controls",
      "model_module_version": "2.0.0",
      "model_name": "DropdownModel",
      "state": {
       "_options_labels": [
        "no_image",
        "image1",
        "image2",
        "image3",
        "blobs",
        "binary",
        "labels",
        "dilated_labels"
       ],
       "description": "image",
       "index": 0,
       "layout": "IPY_MODEL_354e5f465a694dbfb8daadcd257b0686",
       "style": "IPY_MODEL_42643e4a280a4f4081c5fce8f6f6054e"
      }
     },
     "9563d31c82f540ffa12485749961b659": {
      "model_module": "@jupyter-widgets/controls",
      "model_module_version": "2.0.0",
      "model_name": "DescriptionStyleModel",
      "state": {
       "description_width": ""
      }
     },
     "95707a889f7e430f9e4435faae9aa6e4": {
      "model_module": "@jupyter-widgets/controls",
      "model_module_version": "2.0.0",
      "model_name": "DropdownModel",
      "state": {
       "_options_labels": [
        "no_image",
        "image1",
        "image2",
        "image3",
        "blobs",
        "binary",
        "labels",
        "dilated_labels"
       ],
       "description": "image",
       "index": 0,
       "layout": "IPY_MODEL_d199e20acd7d478d82c715de8acb3138",
       "style": "IPY_MODEL_52ea6f92fc64499abfa2936ebecfaf38"
      }
     },
     "95a2c89e12984557a8454a96084924fd": {
      "model_module": "@jupyter-widgets/controls",
      "model_module_version": "2.0.0",
      "model_name": "LabelModel",
      "state": {
       "layout": "IPY_MODEL_e8f5ee8ffaf341038a2744c53d0e9156",
       "style": "IPY_MODEL_6db1cb5b46e74fbdb89f4ad2c8b494f9",
       "value": "nsitk.h_maxima( image=no_image, height=10.0)"
      }
     },
     "95aad4010ed3442c887e42fecb0f0c73": {
      "model_module": "@jupyter-widgets/base",
      "model_module_version": "2.0.0",
      "model_name": "LayoutModel",
      "state": {}
     },
     "95b4560f57f64aad8bb04cc2bb04cd1c": {
      "model_module": "@jupyter-widgets/base",
      "model_module_version": "2.0.0",
      "model_name": "LayoutModel",
      "state": {}
     },
     "95d29030a48f439bbe46639ad47539ad": {
      "model_module": "@jupyter-widgets/base",
      "model_module_version": "2.0.0",
      "model_name": "LayoutModel",
      "state": {}
     },
     "95e8f73fe8b4420f8ae829756af4bd35": {
      "model_module": "@jupyter-widgets/base",
      "model_module_version": "2.0.0",
      "model_name": "LayoutModel",
      "state": {}
     },
     "95f33ba71d974ba392839535b26d29ec": {
      "model_module": "@jupyter-widgets/controls",
      "model_module_version": "2.0.0",
      "model_name": "VBoxModel",
      "state": {
       "_dom_classes": [
        "widget-interact"
       ],
       "children": [
        "IPY_MODEL_de4d208a2b6f4bba836f412370050bd7",
        "IPY_MODEL_c5c8257ae9a246f3ac7030e39882ae87"
       ],
       "layout": "IPY_MODEL_0b275d70132a48beb9ea10d1f01d2f2e"
      }
     },
     "96345a4ba4954e2a9ecb4fd6b8c28e03": {
      "model_module": "@jupyter-widgets/controls",
      "model_module_version": "2.0.0",
      "model_name": "SliderStyleModel",
      "state": {
       "description_width": ""
      }
     },
     "964736b1a02c452cbd33bdee2353acdf": {
      "model_module": "@jupyter-widgets/controls",
      "model_module_version": "2.0.0",
      "model_name": "LabelStyleModel",
      "state": {
       "description_width": "",
       "font_family": "Courier",
       "font_size": null,
       "font_style": null,
       "font_variant": null,
       "font_weight": null,
       "text_color": null,
       "text_decoration": null
      }
     },
     "9647f3fd979849f89cc77cc6ca634371": {
      "model_module": "@jupyter-widgets/base",
      "model_module_version": "2.0.0",
      "model_name": "LayoutModel",
      "state": {}
     },
     "9647f41308e24f398183268d3cba81f7": {
      "model_module": "@jupyter-widgets/output",
      "model_module_version": "1.0.0",
      "model_name": "OutputModel",
      "state": {
       "layout": "IPY_MODEL_b31c47b6448241afa7e7564ad935520e"
      }
     },
     "96620b233ef34ac1a7500ed4173741a9": {
      "model_module": "@jupyter-widgets/controls",
      "model_module_version": "2.0.0",
      "model_name": "FloatSliderModel",
      "state": {
       "behavior": "drag-tap",
       "description": "noise_variance",
       "layout": "IPY_MODEL_77654d5e40994199b7396672e6f5c5e4",
       "step": null,
       "style": "IPY_MODEL_420314980e8a4fe098bf8e8f1faa1908"
      }
     },
     "969b933db83947e887870ee96975ec04": {
      "model_module": "@jupyter-widgets/base",
      "model_module_version": "2.0.0",
      "model_name": "LayoutModel",
      "state": {}
     },
     "96b99a82b1764cb7bcea9a77a96a9789": {
      "model_module": "@jupyter-widgets/base",
      "model_module_version": "2.0.0",
      "model_name": "LayoutModel",
      "state": {}
     },
     "96deb09ab9784658bf21e49c7fe7447d": {
      "model_module": "@jupyter-widgets/controls",
      "model_module_version": "2.0.0",
      "model_name": "LabelModel",
      "state": {
       "layout": "IPY_MODEL_7abb9a1c46894595aae2175cb5e785bc",
       "style": "IPY_MODEL_170afcb70f0e42a68e8374385b7e1571",
       "value": "nsitk.signed_maurer_distance_map( binary_image=no_image)"
      }
     },
     "96e56c1f86e841e4a0a96d11638506a8": {
      "model_module": "@jupyter-widgets/controls",
      "model_module_version": "2.0.0",
      "model_name": "DropdownModel",
      "state": {
       "_options_labels": [
        "no_image",
        "image1",
        "image2",
        "image3",
        "blobs",
        "binary",
        "labels",
        "dilated_labels"
       ],
       "description": "label_image",
       "index": 0,
       "layout": "IPY_MODEL_88fd5eb66e2e4529ad4e77f116c9d7b1",
       "style": "IPY_MODEL_561060519c8a4239b58557159c82b309"
      }
     },
     "96eaba95899646efa7005aa5c19ebbb9": {
      "model_module": "@jupyter-widgets/base",
      "model_module_version": "2.0.0",
      "model_name": "LayoutModel",
      "state": {}
     },
     "970be2f1c1af4feb8a9e34aecbbeefed": {
      "model_module": "@jupyter-widgets/output",
      "model_module_version": "1.0.0",
      "model_name": "OutputModel",
      "state": {
       "layout": "IPY_MODEL_e27b7113239e45b4a31fd519e22cef31"
      }
     },
     "9736c64b7e6e46c1a4f8516cbc54d633": {
      "model_module": "@jupyter-widgets/base",
      "model_module_version": "2.0.0",
      "model_name": "LayoutModel",
      "state": {
       "display": "none"
      }
     },
     "97d50d01ebb1429e8fcd4d57afe972df": {
      "model_module": "@jupyter-widgets/base",
      "model_module_version": "2.0.0",
      "model_name": "LayoutModel",
      "state": {}
     },
     "97d9bf8862324915bdeddf8a0b5b2a51": {
      "model_module": "@jupyter-widgets/base",
      "model_module_version": "2.0.0",
      "model_name": "LayoutModel",
      "state": {}
     },
     "97ebeacc31af4c529123b4a513a8b0be": {
      "model_module": "@jupyter-widgets/base",
      "model_module_version": "2.0.0",
      "model_name": "LayoutModel",
      "state": {}
     },
     "980e30726b9e4fbfa76507f81a8b783e": {
      "model_module": "@jupyter-widgets/base",
      "model_module_version": "2.0.0",
      "model_name": "LayoutModel",
      "state": {}
     },
     "98101cf68ef54be5be410e03a716c828": {
      "model_module": "@jupyter-widgets/base",
      "model_module_version": "2.0.0",
      "model_name": "LayoutModel",
      "state": {
       "display": "none"
      }
     },
     "981a8cf12422493f9fcf1b2a2bfb4979": {
      "model_module": "@jupyter-widgets/controls",
      "model_module_version": "2.0.0",
      "model_name": "VBoxModel",
      "state": {
       "_dom_classes": [
        "widget-interact"
       ],
       "children": [
        "IPY_MODEL_0c86ff977a4949bc93b61fbde9e14228",
        "IPY_MODEL_74325df50fcc48b7b4974ad5715a7e91"
       ],
       "layout": "IPY_MODEL_3cc11f3a1acf4bdd80191a2df764e1bf"
      }
     },
     "9821f1a27dde46949ee7d658b39ef641": {
      "model_module": "@jupyter-widgets/base",
      "model_module_version": "2.0.0",
      "model_name": "LayoutModel",
      "state": {
       "display": "none"
      }
     },
     "982f3f2298f241e385752ae37d9744de": {
      "model_module": "@jupyter-widgets/controls",
      "model_module_version": "2.0.0",
      "model_name": "LabelModel",
      "state": {
       "layout": "IPY_MODEL_6761ac750ec44ffbb86479d6e4b5de24",
       "style": "IPY_MODEL_a5e7b78066fa4a3f9dc22fff85254a7c",
       "value": "nsitk.laplacian_of_gaussian_filter( image=no_image, sigma=1.0)"
      }
     },
     "9841aeedf9f040ae9d380c0011cc0f7e": {
      "model_module": "@jupyter-widgets/base",
      "model_module_version": "2.0.0",
      "model_name": "LayoutModel",
      "state": {}
     },
     "98804b59abff43248dcfd336911b1c30": {
      "model_module": "@jupyter-widgets/controls",
      "model_module_version": "2.0.0",
      "model_name": "LabelModel",
      "state": {
       "layout": "IPY_MODEL_cfb89f5479ba4ef18e882f708b270fde",
       "style": "IPY_MODEL_3a9f7472e61f4ce8ae47a1a9f9a9828f",
       "value": "nsbatwm.threshold_triangle( image=no_image)"
      }
     },
     "9887cd5f80014532b70b47adb47a1ddd": {
      "model_module": "@jupyter-widgets/controls",
      "model_module_version": "2.0.0",
      "model_name": "DropdownModel",
      "state": {
       "_options_labels": [
        "no_image",
        "image1",
        "image2",
        "image3",
        "blobs",
        "binary",
        "labels",
        "dilated_labels"
       ],
       "description": "distance_image",
       "index": 0,
       "layout": "IPY_MODEL_0253a157c992479680b459f69594c72c",
       "style": "IPY_MODEL_beb3ae3bd39a4be7b80969d3c3a21a70"
      }
     },
     "988f03e5667e485aa2a948c8d0f517b5": {
      "model_module": "@jupyter-widgets/base",
      "model_module_version": "2.0.0",
      "model_name": "LayoutModel",
      "state": {}
     },
     "98aa4f8e55a94266b396e838e19dcc19": {
      "model_module": "@jupyter-widgets/output",
      "model_module_version": "1.0.0",
      "model_name": "OutputModel",
      "state": {
       "layout": "IPY_MODEL_48f950e22df7497da31a285249055d09"
      }
     },
     "98e72f27a06245ac93eb089cc29f4c3f": {
      "model_module": "@jupyter-widgets/controls",
      "model_module_version": "2.0.0",
      "model_name": "IntSliderModel",
      "state": {
       "behavior": "drag-tap",
       "description": "number_of_histogram_bins",
       "layout": "IPY_MODEL_22bfff07801b46cea087ffaa6497b078",
       "style": "IPY_MODEL_d71cb32956304c05a03fafbc99ad369f",
       "value": 100
      }
     },
     "98ffe30c39f44668b213c206abdce4f7": {
      "model_module": "@jupyter-widgets/output",
      "model_module_version": "1.0.0",
      "model_name": "OutputModel",
      "state": {
       "layout": "IPY_MODEL_b2fcf3571463415db6711abcfe3d7685"
      }
     },
     "996209d0a88a4093a2bb091ad54fd911": {
      "model_module": "@jupyter-widgets/controls",
      "model_module_version": "2.0.0",
      "model_name": "FloatSliderModel",
      "state": {
       "behavior": "drag-tap",
       "description": "lower_threshold",
       "layout": "IPY_MODEL_49ff9304cb5748b88ac9c2d96ded89b5",
       "step": null,
       "style": "IPY_MODEL_6852efbbf5f34792a4e94b122d5dab21"
      }
     },
     "9965382edf6741d2aa1b2b3d6e771f17": {
      "model_module": "@jupyter-widgets/controls",
      "model_module_version": "2.0.0",
      "model_name": "DropdownModel",
      "state": {
       "_options_labels": [
        "no_image",
        "image1",
        "image2",
        "image3",
        "blobs",
        "binary",
        "labels",
        "dilated_labels"
       ],
       "description": "mask",
       "index": 0,
       "layout": "IPY_MODEL_a400a15c399c46dfb8a43ffd6a2f4749",
       "style": "IPY_MODEL_77441bef55214a319a1516a18dc97d61"
      }
     },
     "9971f1d36206472f99c4fd91790127ec": {
      "model_module": "@jupyter-widgets/controls",
      "model_module_version": "2.0.0",
      "model_name": "LabelStyleModel",
      "state": {
       "description_width": "",
       "font_family": "Courier",
       "font_size": null,
       "font_style": null,
       "font_variant": null,
       "font_weight": null,
       "text_color": null,
       "text_decoration": null
      }
     },
     "99b3bfc4adc14fe995b30b75c9bbefa3": {
      "model_module": "@jupyter-widgets/output",
      "model_module_version": "1.0.0",
      "model_name": "OutputModel",
      "state": {
       "layout": "IPY_MODEL_22704fa99c764f1795845e070f064c23",
       "outputs": [
        {
         "ename": "TypeError",
         "evalue": "Cannot cast array data from dtype('uint32') to dtype('int32') according to the rule 'safe'",
         "output_type": "error",
         "traceback": [
          "\u001b[1;31m---------------------------------------------------------------------------\u001b[0m",
          "\u001b[1;31mTypeError\u001b[0m                                 Traceback (most recent call last)",
          "File \u001b[1;32m~\\mambaforge\\envs\\bio39\\lib\\site-packages\\ipywidgets\\widgets\\interaction.py:239\u001b[0m, in \u001b[0;36minteractive.update\u001b[1;34m(self, *args)\u001b[0m\n\u001b[0;32m    237\u001b[0m     value \u001b[38;5;241m=\u001b[39m widget\u001b[38;5;241m.\u001b[39mget_interact_value()\n\u001b[0;32m    238\u001b[0m     \u001b[38;5;28mself\u001b[39m\u001b[38;5;241m.\u001b[39mkwargs[widget\u001b[38;5;241m.\u001b[39m_kwarg] \u001b[38;5;241m=\u001b[39m value\n\u001b[1;32m--> 239\u001b[0m \u001b[38;5;28mself\u001b[39m\u001b[38;5;241m.\u001b[39mresult \u001b[38;5;241m=\u001b[39m \u001b[38;5;28mself\u001b[39m\u001b[38;5;241m.\u001b[39mf(\u001b[38;5;241m*\u001b[39m\u001b[38;5;241m*\u001b[39m\u001b[38;5;28mself\u001b[39m\u001b[38;5;241m.\u001b[39mkwargs)\n\u001b[0;32m    240\u001b[0m show_inline_matplotlib_plots()\n\u001b[0;32m    241\u001b[0m \u001b[38;5;28;01mif\u001b[39;00m \u001b[38;5;28mself\u001b[39m\u001b[38;5;241m.\u001b[39mauto_display \u001b[38;5;129;01mand\u001b[39;00m \u001b[38;5;28mself\u001b[39m\u001b[38;5;241m.\u001b[39mresult \u001b[38;5;129;01mis\u001b[39;00m \u001b[38;5;129;01mnot\u001b[39;00m \u001b[38;5;28;01mNone\u001b[39;00m:\n",
          "File \u001b[1;32mc:\\structure\\code\\stackview\\stackview\\_interact.py:143\u001b[0m, in \u001b[0;36minteract.<locals>.worker_function\u001b[1;34m(*otherargs, **kwargs)\u001b[0m\n\u001b[0;32m    141\u001b[0m         viewer\u001b[38;5;241m.\u001b[39mimage \u001b[38;5;241m=\u001b[39m func(image, \u001b[38;5;241m*\u001b[39margs, \u001b[38;5;241m*\u001b[39m\u001b[38;5;241m*\u001b[39mkwargs)\n\u001b[0;32m    142\u001b[0m     \u001b[38;5;28;01melse\u001b[39;00m:\n\u001b[1;32m--> 143\u001b[0m         viewer\u001b[38;5;241m.\u001b[39mimage \u001b[38;5;241m=\u001b[39m func(\u001b[38;5;241m*\u001b[39margs, \u001b[38;5;241m*\u001b[39m\u001b[38;5;241m*\u001b[39mkwargs)\n\u001b[0;32m    145\u001b[0m viewer\u001b[38;5;241m.\u001b[39mslice_slider\u001b[38;5;241m.\u001b[39mmax \u001b[38;5;241m=\u001b[39m viewer\u001b[38;5;241m.\u001b[39mimage\u001b[38;5;241m.\u001b[39mshape[\u001b[38;5;241m0\u001b[39m] \u001b[38;5;241m-\u001b[39m \u001b[38;5;241m1\u001b[39m\n\u001b[0;32m    146\u001b[0m viewer\u001b[38;5;241m.\u001b[39mconfiguration_updated(\u001b[38;5;28;01mNone\u001b[39;00m)\n",
          "File \u001b[1;32mc:\\structure\\code\\stackview\\stackview\\_static_view.py:25\u001b[0m, in \u001b[0;36mjupyter_displayable_output.<locals>.worker_function\u001b[1;34m(*args, **kwargs)\u001b[0m\n\u001b[0;32m     22\u001b[0m \u001b[38;5;129m@wraps\u001b[39m(function)\n\u001b[0;32m     23\u001b[0m \u001b[38;5;28;01mdef\u001b[39;00m \u001b[38;5;21mworker_function\u001b[39m(\u001b[38;5;241m*\u001b[39margs, \u001b[38;5;241m*\u001b[39m\u001b[38;5;241m*\u001b[39mkwargs):\n\u001b[0;32m     24\u001b[0m     \u001b[38;5;66;03m# call the decorated function\u001b[39;00m\n\u001b[1;32m---> 25\u001b[0m     result \u001b[38;5;241m=\u001b[39m function(\u001b[38;5;241m*\u001b[39margs, \u001b[38;5;241m*\u001b[39m\u001b[38;5;241m*\u001b[39mkwargs)\n\u001b[0;32m     27\u001b[0m     \u001b[38;5;66;03m# Attach _repr_html_ function\u001b[39;00m\n\u001b[0;32m     28\u001b[0m     result \u001b[38;5;241m=\u001b[39m StackViewNDArray(result, library_name, help_url)\n",
          "File \u001b[1;32m~\\mambaforge\\envs\\bio39\\lib\\site-packages\\napari_time_slicer\\__init__.py:61\u001b[0m, in \u001b[0;36mtime_slicer.<locals>.worker_function\u001b[1;34m(*args, **kwargs)\u001b[0m\n\u001b[0;32m     58\u001b[0m         _break_down_4d_to_2d_kwargs(bound\u001b[38;5;241m.\u001b[39marguments, current_timepoint, viewer)\n\u001b[0;32m     60\u001b[0m \u001b[38;5;66;03m# call the decorated function\u001b[39;00m\n\u001b[1;32m---> 61\u001b[0m result \u001b[38;5;241m=\u001b[39m function(\u001b[38;5;241m*\u001b[39mbound\u001b[38;5;241m.\u001b[39margs, \u001b[38;5;241m*\u001b[39m\u001b[38;5;241m*\u001b[39mbound\u001b[38;5;241m.\u001b[39mkwargs)\n\u001b[0;32m     62\u001b[0m \u001b[38;5;28;01mreturn\u001b[39;00m result\n",
          "File \u001b[1;32m~\\mambaforge\\envs\\bio39\\lib\\site-packages\\napari_segment_blobs_and_things_with_membranes\\__init__.py:110\u001b[0m, in \u001b[0;36msplit_touching_objects\u001b[1;34m(binary, sigma)\u001b[0m\n\u001b[0;32m    108\u001b[0m blurred_distance \u001b[38;5;241m=\u001b[39m gaussian(distance, sigma\u001b[38;5;241m=\u001b[39msigma)\n\u001b[0;32m    109\u001b[0m fp \u001b[38;5;241m=\u001b[39m np\u001b[38;5;241m.\u001b[39mones((\u001b[38;5;241m3\u001b[39m,) \u001b[38;5;241m*\u001b[39m binary\u001b[38;5;241m.\u001b[39mndim)\n\u001b[1;32m--> 110\u001b[0m coords \u001b[38;5;241m=\u001b[39m \u001b[43mpeak_local_max\u001b[49m\u001b[43m(\u001b[49m\u001b[43mblurred_distance\u001b[49m\u001b[43m,\u001b[49m\u001b[43m \u001b[49m\u001b[43mfootprint\u001b[49m\u001b[38;5;241;43m=\u001b[39;49m\u001b[43mfp\u001b[49m\u001b[43m,\u001b[49m\u001b[43m \u001b[49m\u001b[43mlabels\u001b[49m\u001b[38;5;241;43m=\u001b[39;49m\u001b[43mbinary\u001b[49m\u001b[43m)\u001b[49m\n\u001b[0;32m    111\u001b[0m mask \u001b[38;5;241m=\u001b[39m np\u001b[38;5;241m.\u001b[39mzeros(distance\u001b[38;5;241m.\u001b[39mshape, dtype\u001b[38;5;241m=\u001b[39m\u001b[38;5;28mbool\u001b[39m)\n\u001b[0;32m    112\u001b[0m mask[\u001b[38;5;28mtuple\u001b[39m(coords\u001b[38;5;241m.\u001b[39mT)] \u001b[38;5;241m=\u001b[39m \u001b[38;5;28;01mTrue\u001b[39;00m\n",
          "File \u001b[1;32m~\\mambaforge\\envs\\bio39\\lib\\site-packages\\skimage\\_shared\\utils.py:157\u001b[0m, in \u001b[0;36mremove_arg.__call__.<locals>.fixed_func\u001b[1;34m(*args, **kwargs)\u001b[0m\n\u001b[0;32m    153\u001b[0m \u001b[38;5;28;01mif\u001b[39;00m \u001b[38;5;28mlen\u001b[39m(args) \u001b[38;5;241m>\u001b[39m arg_idx \u001b[38;5;129;01mor\u001b[39;00m \u001b[38;5;28mself\u001b[39m\u001b[38;5;241m.\u001b[39marg_name \u001b[38;5;129;01min\u001b[39;00m kwargs\u001b[38;5;241m.\u001b[39mkeys():\n\u001b[0;32m    154\u001b[0m     \u001b[38;5;66;03m# warn that arg_name is deprecated\u001b[39;00m\n\u001b[0;32m    155\u001b[0m     warnings\u001b[38;5;241m.\u001b[39mwarn(warning_msg, \u001b[38;5;167;01mFutureWarning\u001b[39;00m,\n\u001b[0;32m    156\u001b[0m                   stacklevel\u001b[38;5;241m=\u001b[39mstacklevel)\n\u001b[1;32m--> 157\u001b[0m \u001b[38;5;28;01mreturn\u001b[39;00m func(\u001b[38;5;241m*\u001b[39margs, \u001b[38;5;241m*\u001b[39m\u001b[38;5;241m*\u001b[39mkwargs)\n",
          "File \u001b[1;32m~\\mambaforge\\envs\\bio39\\lib\\site-packages\\skimage\\feature\\peak.py:271\u001b[0m, in \u001b[0;36mpeak_local_max\u001b[1;34m(image, min_distance, threshold_abs, threshold_rel, exclude_border, indices, num_peaks, footprint, labels, num_peaks_per_label, p_norm)\u001b[0m\n\u001b[0;32m    266\u001b[0m     coordinates \u001b[38;5;241m=\u001b[39m _get_high_intensity_peaks(image, mask,\n\u001b[0;32m    267\u001b[0m                                             num_peaks,\n\u001b[0;32m    268\u001b[0m                                             min_distance, p_norm)\n\u001b[0;32m    270\u001b[0m \u001b[38;5;28;01melse\u001b[39;00m:\n\u001b[1;32m--> 271\u001b[0m     _labels \u001b[38;5;241m=\u001b[39m _exclude_border(\u001b[43mlabels\u001b[49m\u001b[38;5;241;43m.\u001b[39;49m\u001b[43mastype\u001b[49m\u001b[43m(\u001b[49m\u001b[38;5;28;43mint\u001b[39;49m\u001b[43m,\u001b[49m\u001b[43m \u001b[49m\u001b[43mcasting\u001b[49m\u001b[38;5;241;43m=\u001b[39;49m\u001b[38;5;124;43m\"\u001b[39;49m\u001b[38;5;124;43msafe\u001b[39;49m\u001b[38;5;124;43m\"\u001b[39;49m\u001b[43m)\u001b[49m,\n\u001b[0;32m    272\u001b[0m                               border_width)\n\u001b[0;32m    274\u001b[0m     \u001b[38;5;28;01mif\u001b[39;00m np\u001b[38;5;241m.\u001b[39missubdtype(image\u001b[38;5;241m.\u001b[39mdtype, np\u001b[38;5;241m.\u001b[39mfloating):\n\u001b[0;32m    275\u001b[0m         bg_val \u001b[38;5;241m=\u001b[39m np\u001b[38;5;241m.\u001b[39mfinfo(image\u001b[38;5;241m.\u001b[39mdtype)\u001b[38;5;241m.\u001b[39mmin\n",
          "\u001b[1;31mTypeError\u001b[0m: Cannot cast array data from dtype('uint32') to dtype('int32') according to the rule 'safe'"
         ]
        }
       ]
      }
     },
     "99db29833eb34531a9d49af223d33c20": {
      "model_module": "@jupyter-widgets/output",
      "model_module_version": "1.0.0",
      "model_name": "OutputModel",
      "state": {
       "layout": "IPY_MODEL_5dac8f4b42d74fe891a5dbc1fa9e8277"
      }
     },
     "9a1866a1372740608a97d76abfc53445": {
      "model_module": "@jupyter-widgets/base",
      "model_module_version": "2.0.0",
      "model_name": "LayoutModel",
      "state": {}
     },
     "9aa0a4be48cb4edebfe8c85661f53e29": {
      "model_module": "@jupyter-widgets/base",
      "model_module_version": "2.0.0",
      "model_name": "LayoutModel",
      "state": {}
     },
     "9aa3099684ca4d6c8282bf90ca69d59c": {
      "model_module": "@jupyter-widgets/controls",
      "model_module_version": "2.0.0",
      "model_name": "VBoxModel",
      "state": {
       "children": [
        "IPY_MODEL_d62ee0c01b8f4241987374698c0c55c3",
        "IPY_MODEL_0bea41292fa744baa982b2f70f40721d"
       ],
       "layout": "IPY_MODEL_b25d53e8c3b34ad8a3933552714541ba"
      }
     },
     "9aa82512ea224a13a85b4a6a1d2737a4": {
      "model_module": "@jupyter-widgets/controls",
      "model_module_version": "2.0.0",
      "model_name": "LabelStyleModel",
      "state": {
       "description_width": "",
       "font_family": "Courier",
       "font_size": null,
       "font_style": null,
       "font_variant": null,
       "font_weight": null,
       "text_color": null,
       "text_decoration": null
      }
     },
     "9ab25e093caf4c1bbe6e28babbd9bff0": {
      "model_module": "@jupyter-widgets/controls",
      "model_module_version": "2.0.0",
      "model_name": "FloatSliderModel",
      "state": {
       "behavior": "drag-tap",
       "description": "height",
       "layout": "IPY_MODEL_29e2a3630c4f4bb5ae5f58c79f3a649d",
       "step": null,
       "style": "IPY_MODEL_83b04b52e5f740ec9530b3ad21fcfcdf",
       "value": 10
      }
     },
     "9ab4095f512d41aab319c440c5e79b54": {
      "model_module": "@jupyter-widgets/controls",
      "model_module_version": "2.0.0",
      "model_name": "VBoxModel",
      "state": {
       "children": [
        "IPY_MODEL_7894170b681f454a83bda75ff13bc9a2",
        "IPY_MODEL_436a36adb0094618ae9deda453dead77"
       ],
       "layout": "IPY_MODEL_d5f21a740f314dfeb20e51c55f17b292"
      }
     },
     "9aed66c7185640b6abfc48929f32d38e": {
      "model_module": "@jupyter-widgets/controls",
      "model_module_version": "2.0.0",
      "model_name": "VBoxModel",
      "state": {
       "children": [
        "IPY_MODEL_e4b51e0c75434f719a595274b7bd60b8",
        "IPY_MODEL_a29c2908e84f46e585090a308774a63c"
       ],
       "layout": "IPY_MODEL_76f97fb5a6ce4082b99b527186d7ee6a"
      }
     },
     "9aedfb500bcb405e85fb1c2b2ab9ee8b": {
      "model_module": "@jupyter-widgets/controls",
      "model_module_version": "2.0.0",
      "model_name": "DescriptionStyleModel",
      "state": {
       "description_width": ""
      }
     },
     "9b33abb6fc084689a3bdc1bc5c1e6f8c": {
      "model_module": "@jupyter-widgets/controls",
      "model_module_version": "2.0.0",
      "model_name": "DropdownModel",
      "state": {
       "_options_labels": [
        "no_image",
        "image1",
        "image2",
        "image3",
        "blobs",
        "binary",
        "labels",
        "dilated_labels"
       ],
       "description": "mask_func",
       "index": 0,
       "layout": "IPY_MODEL_477cb98c17a54035804e162068d71b73",
       "style": "IPY_MODEL_e98e2c8e8034490581404fd92f6fa1ac"
      }
     },
     "9b3ebc2c346940f5861c49a50943044e": {
      "model_module": "@jupyter-widgets/controls",
      "model_module_version": "2.0.0",
      "model_name": "SliderStyleModel",
      "state": {
       "description_width": ""
      }
     },
     "9b43a120fb5e429dacdc00fc06393dcf": {
      "model_module": "@jupyter-widgets/controls",
      "model_module_version": "2.0.0",
      "model_name": "SliderStyleModel",
      "state": {
       "description_width": ""
      }
     },
     "9b69a809832e49c2a17bb113f7974a71": {
      "model_module": "@jupyter-widgets/output",
      "model_module_version": "1.0.0",
      "model_name": "OutputModel",
      "state": {
       "layout": "IPY_MODEL_e9599116b0fb476b94d3cf578382c8f0"
      }
     },
     "9b77d8e9e3ba470d9533133643115aa5": {
      "model_module": "@jupyter-widgets/controls",
      "model_module_version": "2.0.0",
      "model_name": "LabelModel",
      "state": {
       "layout": "IPY_MODEL_93bc2f00945f4afaa5341ce7b20c301a",
       "style": "IPY_MODEL_3da27ce433d8413b9782005e418cb204",
       "value": "skfilters.sobel_v( image=no_image, mask=no_image)"
      }
     },
     "9b814fbf7d094871967c0bd28e9e2693": {
      "model_module": "@jupyter-widgets/controls",
      "model_module_version": "2.0.0",
      "model_name": "VBoxModel",
      "state": {
       "_dom_classes": [
        "widget-interact"
       ],
       "children": [
        "IPY_MODEL_a4afb91e51144ab1845513a7d9852f77",
        "IPY_MODEL_903e1d015a7e4f6c88c01b5fa2624ed0",
        "IPY_MODEL_1b8ba9d0e78c485a975144fc3100e1e1",
        "IPY_MODEL_48abdab9e6f44322bf99ba8a75bc7e97"
       ],
       "layout": "IPY_MODEL_cd41ccaeb3354b20b0a4c5e3ce47dbe9"
      }
     },
     "9b8293748c8c4da98a409c2c53b559a6": {
      "model_module": "@jupyter-widgets/controls",
      "model_module_version": "2.0.0",
      "model_name": "VBoxModel",
      "state": {
       "_dom_classes": [
        "widget-interact"
       ],
       "children": [
        "IPY_MODEL_01c82d01741141b395e40f1b49ea3453",
        "IPY_MODEL_ed04cc082fa7421fa138678559966488",
        "IPY_MODEL_970be2f1c1af4feb8a9e34aecbbeefed"
       ],
       "layout": "IPY_MODEL_d55f3bd3368b4cc3af5247259d00b51e"
      }
     },
     "9b84cd217fc540f3be25aed1716cd8c3": {
      "model_module": "@jupyter-widgets/controls",
      "model_module_version": "2.0.0",
      "model_name": "DropdownModel",
      "state": {
       "_options_labels": [
        "no_image",
        "image1",
        "image2",
        "image3",
        "blobs",
        "binary",
        "labels",
        "dilated_labels"
       ],
       "description": "image",
       "index": 0,
       "layout": "IPY_MODEL_a52dbcd410d54585958fac04c63f080c",
       "style": "IPY_MODEL_a9a71b622094448e956985f463821d99"
      }
     },
     "9bb7b6516c4f460dbd3053c6451ac182": {
      "model_module": "@jupyter-widgets/controls",
      "model_module_version": "2.0.0",
      "model_name": "LabelModel",
      "state": {
       "layout": "IPY_MODEL_7e0a25bbb1fd4e0ba0c41aa1d437122e",
       "style": "IPY_MODEL_06cc2e2f92ae4cd692b23fde23e22c38",
       "value": "label( binary_input=no_image)"
      }
     },
     "9bc39ce33fbf4e77b9f73544a233c310": {
      "model_module": "@jupyter-widgets/base",
      "model_module_version": "2.0.0",
      "model_name": "LayoutModel",
      "state": {}
     },
     "9bcefa2f48df4c6e9ebe8040f02419cc": {
      "model_module": "@jupyter-widgets/output",
      "model_module_version": "1.0.0",
      "model_name": "OutputModel",
      "state": {
       "layout": "IPY_MODEL_b01b5f57e61442f1abfe7dea2d8d5731"
      }
     },
     "9c0514a2466143c7afece0b0cfd9ea60": {
      "model_module": "@jupyter-widgets/base",
      "model_module_version": "2.0.0",
      "model_name": "LayoutModel",
      "state": {}
     },
     "9c12147c062041dca52c6a494303b6ea": {
      "model_module": "@jupyter-widgets/base",
      "model_module_version": "2.0.0",
      "model_name": "LayoutModel",
      "state": {}
     },
     "9c14e9fd94d94d0db74d91dc44172cd5": {
      "model_module": "@jupyter-widgets/controls",
      "model_module_version": "2.0.0",
      "model_name": "DescriptionStyleModel",
      "state": {
       "description_width": ""
      }
     },
     "9c1e97059e624c2a88826681ef311e08": {
      "model_module": "@jupyter-widgets/base",
      "model_module_version": "2.0.0",
      "model_name": "LayoutModel",
      "state": {
       "display": "none"
      }
     },
     "9c20eecaa0794dafb2a187ac6220404b": {
      "model_module": "@jupyter-widgets/controls",
      "model_module_version": "2.0.0",
      "model_name": "DropdownModel",
      "state": {
       "_options_labels": [
        "no_image",
        "image1",
        "image2",
        "image3",
        "blobs",
        "binary",
        "labels",
        "dilated_labels"
       ],
       "description": "image",
       "index": 0,
       "layout": "IPY_MODEL_b7c380607919493f884cf59b1ea946ec",
       "style": "IPY_MODEL_e6d467d2f6424ebba1d3ff33a7daf662"
      }
     },
     "9c3c4b71567a41df9a2a0dcaca101bec": {
      "model_module": "@jupyter-widgets/controls",
      "model_module_version": "2.0.0",
      "model_name": "VBoxModel",
      "state": {
       "_dom_classes": [
        "widget-interact"
       ],
       "children": [
        "IPY_MODEL_5d23b35c5f954fcd9152ff068082a4a2",
        "IPY_MODEL_d6014f57bf89470e9f41101dd7774cae"
       ],
       "layout": "IPY_MODEL_691bcf2d6b39496a99db80456bfa4efa"
      }
     },
     "9c3c4c2f1b7e4ad1a6c5aa6b33d975d7": {
      "model_module": "@jupyter-widgets/base",
      "model_module_version": "2.0.0",
      "model_name": "LayoutModel",
      "state": {}
     },
     "9c68a7a020a24f639f2c38f88c3f5e7e": {
      "model_module": "@jupyter-widgets/controls",
      "model_module_version": "2.0.0",
      "model_name": "DropdownModel",
      "state": {
       "_options_labels": [
        "no_image",
        "image1",
        "image2",
        "image3",
        "blobs",
        "binary",
        "labels",
        "dilated_labels"
       ],
       "description": "image",
       "index": 0,
       "layout": "IPY_MODEL_14b96262a95f4ec081fb03dfb93f9d19",
       "style": "IPY_MODEL_335dfe7a29d142edac6e3a2796f5b959"
      }
     },
     "9cae92f2ae81499a9f36dff64be18738": {
      "model_module": "@jupyter-widgets/controls",
      "model_module_version": "2.0.0",
      "model_name": "DescriptionStyleModel",
      "state": {
       "description_width": ""
      }
     },
     "9cda13c240b8435786966c26a29a8076": {
      "model_module": "@jupyter-widgets/base",
      "model_module_version": "2.0.0",
      "model_name": "LayoutModel",
      "state": {}
     },
     "9ce03d4754a3442a94be5ed2c58ddef6": {
      "model_module": "@jupyter-widgets/base",
      "model_module_version": "2.0.0",
      "model_name": "LayoutModel",
      "state": {}
     },
     "9d250914040c40c0a34df441ced8cedf": {
      "model_module": "@jupyter-widgets/controls",
      "model_module_version": "2.0.0",
      "model_name": "LabelModel",
      "state": {
       "layout": "IPY_MODEL_6b2df695bbf14d5391ea9d88aa1ba5a7",
       "style": "IPY_MODEL_a0c25de446b74176a96dc5fa8d168e33",
       "value": "nsbatwm.regionprops( label_image=no_image, intensity_image=no_image)"
      }
     },
     "9d6cea5754a74a77ad4cd9d4932cebd3": {
      "model_module": "@jupyter-widgets/base",
      "model_module_version": "2.0.0",
      "model_name": "LayoutModel",
      "state": {}
     },
     "9d9990f3f6e940979d1d19e83a9f6a4e": {
      "model_module": "@jupyter-widgets/controls",
      "model_module_version": "2.0.0",
      "model_name": "FloatSliderModel",
      "state": {
       "behavior": "drag-tap",
       "description": "high_sigma",
       "layout": "IPY_MODEL_377b0a7ac2e240c1a86e5ba777ba9d47",
       "max": 25,
       "style": "IPY_MODEL_029634457bcb484593d51935e4e7633e"
      }
     },
     "9d9db351d13e499c9397ffafd8eccc4f": {
      "model_module": "@jupyter-widgets/base",
      "model_module_version": "2.0.0",
      "model_name": "LayoutModel",
      "state": {}
     },
     "9db13d9f229a481f9fbf2a0624cdfa55": {
      "model_module": "@jupyter-widgets/base",
      "model_module_version": "2.0.0",
      "model_name": "LayoutModel",
      "state": {}
     },
     "9db5b05824d741b3a8e20c5db5243f35": {
      "model_module": "@jupyter-widgets/controls",
      "model_module_version": "2.0.0",
      "model_name": "LabelStyleModel",
      "state": {
       "description_width": "",
       "font_family": "Courier",
       "font_size": null,
       "font_style": null,
       "font_variant": null,
       "font_weight": null,
       "text_color": null,
       "text_decoration": null
      }
     },
     "9dbf4ca76da5465e858a3db5752b084d": {
      "model_module": "@jupyter-widgets/controls",
      "model_module_version": "2.0.0",
      "model_name": "DropdownModel",
      "state": {
       "_options_labels": [
        "no_image",
        "image1",
        "image2",
        "image3",
        "blobs",
        "binary",
        "labels",
        "dilated_labels"
       ],
       "description": "image",
       "index": 0,
       "layout": "IPY_MODEL_73fb2cea619e477d84a434d734e5cb80",
       "style": "IPY_MODEL_493070afd8db42f2b6a4daae78312b3e"
      }
     },
     "9e52eadd02a14099919bc5630f11093b": {
      "model_module": "@jupyter-widgets/controls",
      "model_module_version": "2.0.0",
      "model_name": "DropdownModel",
      "state": {
       "_options_labels": [
        "no_image",
        "image1",
        "image2",
        "image3",
        "blobs",
        "binary",
        "labels",
        "dilated_labels"
       ],
       "description": "image",
       "index": 0,
       "layout": "IPY_MODEL_208b855382964e9ab6ece9fcf2f1bb29",
       "style": "IPY_MODEL_eda6b7679b3b48949890bd42f585277a"
      }
     },
     "9e6f95bcf5474b7c8f566c76972f12dc": {
      "model_module": "@jupyter-widgets/base",
      "model_module_version": "2.0.0",
      "model_name": "LayoutModel",
      "state": {}
     },
     "9e7a8c71096f4858bdf9ca6f4eeb0e3b": {
      "model_module": "@jupyter-widgets/base",
      "model_module_version": "2.0.0",
      "model_name": "LayoutModel",
      "state": {}
     },
     "9e87b31c7cc94e6f9abc872dc17f4da9": {
      "model_module": "@jupyter-widgets/output",
      "model_module_version": "1.0.0",
      "model_name": "OutputModel",
      "state": {
       "layout": "IPY_MODEL_8108a73e2dd44ff6b9e0533e40f02490"
      }
     },
     "9e9790c6043046b2bc0a8051fd69587c": {
      "model_module": "@jupyter-widgets/controls",
      "model_module_version": "2.0.0",
      "model_name": "LabelStyleModel",
      "state": {
       "description_width": "",
       "font_family": "Courier",
       "font_size": null,
       "font_style": null,
       "font_variant": null,
       "font_weight": null,
       "text_color": null,
       "text_decoration": null
      }
     },
     "9eb50b51d7fa432eb2c0058936606d4d": {
      "model_module": "@jupyter-widgets/output",
      "model_module_version": "1.0.0",
      "model_name": "OutputModel",
      "state": {
       "layout": "IPY_MODEL_d54e89123a564c19851b2dc6900aa2e5"
      }
     },
     "9ed822c0021b4fbbbcd49edf86c349c0": {
      "model_module": "@jupyter-widgets/base",
      "model_module_version": "2.0.0",
      "model_name": "LayoutModel",
      "state": {
       "display": "none"
      }
     },
     "9ef81f6cfe304f69849580b8a9d693ab": {
      "model_module": "@jupyter-widgets/base",
      "model_module_version": "2.0.0",
      "model_name": "LayoutModel",
      "state": {}
     },
     "9f0cbb3eb77d405ca2ca25868fd1820d": {
      "model_module": "@jupyter-widgets/controls",
      "model_module_version": "2.0.0",
      "model_name": "IntSliderModel",
      "state": {
       "behavior": "drag-tap",
       "description": "radius_y",
       "layout": "IPY_MODEL_7d934c2491a84e6083ccf69fe5c75536",
       "style": "IPY_MODEL_bec114dc90034bfc9613d71f3677d860",
       "value": 10
      }
     },
     "9f3de9e166414cc08007c9514e4d2e17": {
      "model_module": "@jupyter-widgets/controls",
      "model_module_version": "2.0.0",
      "model_name": "LabelModel",
      "state": {
       "layout": "IPY_MODEL_7f43082ba30b4498afc8e443294cf3f3",
       "style": "IPY_MODEL_afbd8a0bcd1f4fea808115f7ba985222",
       "value": "skfilters.scharr_v( image=no_image, mask=no_image)"
      }
     },
     "9fa5c48fc6924391b661ee63885326de": {
      "model_module": "@jupyter-widgets/controls",
      "model_module_version": "2.0.0",
      "model_name": "DescriptionStyleModel",
      "state": {
       "description_width": ""
      }
     },
     "9fc3469a979448638521434027d38536": {
      "model_module": "@jupyter-widgets/base",
      "model_module_version": "2.0.0",
      "model_name": "LayoutModel",
      "state": {}
     },
     "9fc97f9d4a5e49f08d9114810e3d7c92": {
      "model_module": "@jupyter-widgets/base",
      "model_module_version": "2.0.0",
      "model_name": "LayoutModel",
      "state": {}
     },
     "9fce337780714c28a3a280b5d8d0565f": {
      "model_module": "@jupyter-widgets/controls",
      "model_module_version": "2.0.0",
      "model_name": "DescriptionStyleModel",
      "state": {
       "description_width": ""
      }
     },
     "9fe5349765e64205afaa0d1a1f755635": {
      "model_module": "@jupyter-widgets/base",
      "model_module_version": "2.0.0",
      "model_name": "LayoutModel",
      "state": {}
     },
     "a00eac5e10464a4e85a94055aee9ec20": {
      "model_module": "@jupyter-widgets/controls",
      "model_module_version": "2.0.0",
      "model_name": "LabelStyleModel",
      "state": {
       "description_width": "",
       "font_family": "Courier",
       "font_size": null,
       "font_style": null,
       "font_variant": null,
       "font_weight": null,
       "text_color": null,
       "text_decoration": null
      }
     },
     "a0722a11a43043238dd9914ccbe9fd43": {
      "model_module": "@jupyter-widgets/base",
      "model_module_version": "2.0.0",
      "model_name": "LayoutModel",
      "state": {}
     },
     "a0be49ef28524d30837aea2fe483c369": {
      "model_module": "@jupyter-widgets/base",
      "model_module_version": "2.0.0",
      "model_name": "LayoutModel",
      "state": {
       "display": "none"
      }
     },
     "a0c25de446b74176a96dc5fa8d168e33": {
      "model_module": "@jupyter-widgets/controls",
      "model_module_version": "2.0.0",
      "model_name": "LabelStyleModel",
      "state": {
       "description_width": "",
       "font_family": "Courier",
       "font_size": null,
       "font_style": null,
       "font_variant": null,
       "font_weight": null,
       "text_color": null,
       "text_decoration": null
      }
     },
     "a0d8cb378d164230b428e2d2233cefa8": {
      "model_module": "@jupyter-widgets/controls",
      "model_module_version": "2.0.0",
      "model_name": "VBoxModel",
      "state": {
       "children": [
        "IPY_MODEL_2cabedf2bcd146f28c095413c8331b92",
        "IPY_MODEL_32c2f0aa99df4b38871fe84f69d580e0"
       ],
       "layout": "IPY_MODEL_7110a88d9a2547f9b19562de5dee4a60"
      }
     },
     "a0de063fcd7044da8afca50823270584": {
      "model_module": "@jupyter-widgets/base",
      "model_module_version": "2.0.0",
      "model_name": "LayoutModel",
      "state": {
       "display": "none"
      }
     },
     "a0ebf61b6a684ea3a3a7e562eae94705": {
      "model_module": "@jupyter-widgets/output",
      "model_module_version": "1.0.0",
      "model_name": "OutputModel",
      "state": {
       "layout": "IPY_MODEL_f0a82afbfb5b4406a1b92ae27feb8e3c"
      }
     },
     "a10ecfda250b46249e199bf968cfc80c": {
      "model_module": "@jupyter-widgets/base",
      "model_module_version": "2.0.0",
      "model_name": "LayoutModel",
      "state": {}
     },
     "a11f21b3a3e54044ba0bbc0ecde44be1": {
      "model_module": "@jupyter-widgets/controls",
      "model_module_version": "2.0.0",
      "model_name": "VBoxModel",
      "state": {
       "children": [
        "IPY_MODEL_6e6fd96b1d0b48bbbb84653da0cc8e64",
        "IPY_MODEL_dbc6fece6ac941739b7b91e5e1396e9c"
       ],
       "layout": "IPY_MODEL_7a8f459c861b489c83e747614e5008aa"
      }
     },
     "a167e6e37326494c85f1dcd2b35f058e": {
      "model_module": "@jupyter-widgets/output",
      "model_module_version": "1.0.0",
      "model_name": "OutputModel",
      "state": {
       "layout": "IPY_MODEL_7107afb36aff49609008fd72ad63d30f"
      }
     },
     "a16a932c1c164faeb963330b9cefb263": {
      "model_module": "@jupyter-widgets/controls",
      "model_module_version": "2.0.0",
      "model_name": "FloatSliderModel",
      "state": {
       "behavior": "drag-tap",
       "description": "factor2",
       "layout": "IPY_MODEL_244ded81412f4f49ab16a37fbd2d0c6b",
       "style": "IPY_MODEL_26af30370f1e438c9a455d39fe7d0f5d",
       "value": 1
      }
     },
     "a1722fcdaebe4d449fd4f4f27a98d715": {
      "model_module": "@jupyter-widgets/base",
      "model_module_version": "2.0.0",
      "model_name": "LayoutModel",
      "state": {
       "display": "none"
      }
     },
     "a186ec3a474c400782363eb7e69618e8": {
      "model_module": "@jupyter-widgets/controls",
      "model_module_version": "2.0.0",
      "model_name": "SliderStyleModel",
      "state": {
       "description_width": ""
      }
     },
     "a19b90c2a64a4338845d028cb4009740": {
      "model_module": "@jupyter-widgets/controls",
      "model_module_version": "2.0.0",
      "model_name": "FloatSliderModel",
      "state": {
       "behavior": "drag-tap",
       "description": "spot_sigma",
       "layout": "IPY_MODEL_6d831a5a4fb34d1f8d58266c2ea8c6be",
       "max": 25,
       "style": "IPY_MODEL_e260c3a595d34242941feeb1c8630dd7",
       "value": 2
      }
     },
     "a1e30be2bd394d4aafbaa3f1251fd97e": {
      "model_module": "@jupyter-widgets/base",
      "model_module_version": "2.0.0",
      "model_name": "LayoutModel",
      "state": {
       "display": "none"
      }
     },
     "a25ad107fc534180b560878f3017dae7": {
      "model_module": "@jupyter-widgets/base",
      "model_module_version": "2.0.0",
      "model_name": "LayoutModel",
      "state": {}
     },
     "a299815186b94182957b6ca305600d17": {
      "model_module": "@jupyter-widgets/base",
      "model_module_version": "2.0.0",
      "model_name": "LayoutModel",
      "state": {
       "display": "none"
      }
     },
     "a29c2908e84f46e585090a308774a63c": {
      "model_module": "@jupyter-widgets/controls",
      "model_module_version": "2.0.0",
      "model_name": "LabelModel",
      "state": {
       "layout": "IPY_MODEL_c7b2ae78cf0c4371a4c2d52bcdf26c12",
       "style": "IPY_MODEL_238c1a699655499dbc5eab13bc24cb99",
       "value": "nsitk.threshold_shanbhag( image=no_image)"
      }
     },
     "a2d795d9c365411fbb25fd6705476c09": {
      "model_module": "@jupyter-widgets/base",
      "model_module_version": "2.0.0",
      "model_name": "LayoutModel",
      "state": {}
     },
     "a2f7d26d91af445a9f5bb2ff0a1f5a72": {
      "model_module": "@jupyter-widgets/base",
      "model_module_version": "2.0.0",
      "model_name": "LayoutModel",
      "state": {}
     },
     "a335a79fe92c476d977bbdc0c141ffca": {
      "model_module": "@jupyter-widgets/controls",
      "model_module_version": "2.0.0",
      "model_name": "VBoxModel",
      "state": {
       "children": [
        "IPY_MODEL_385569c5cabe418ab211eaa2f2f6e6b5",
        "IPY_MODEL_bd42172a964348aa87d3a43b247bc8f7"
       ],
       "layout": "IPY_MODEL_56c75e4846e9465dac176cd85d166fc2"
      }
     },
     "a362489ad7fb4b37aa55cda577c991e0": {
      "model_module": "@jupyter-widgets/controls",
      "model_module_version": "2.0.0",
      "model_name": "DropdownModel",
      "state": {
       "_options_labels": [
        "no_image",
        "image1",
        "image2",
        "image3",
        "blobs",
        "binary",
        "labels",
        "dilated_labels"
       ],
       "description": "mask",
       "index": 0,
       "layout": "IPY_MODEL_447b3ddda46d4a3593327199d4b96b90",
       "style": "IPY_MODEL_fe6b2bc6cdc549c89365edf0c9eb6b81"
      }
     },
     "a36ca31dc57442d6b669ff1c6a7561c9": {
      "model_module": "@jupyter-widgets/controls",
      "model_module_version": "2.0.0",
      "model_name": "CheckboxModel",
      "state": {
       "description": "exclude_on_edges",
       "disabled": false,
       "layout": "IPY_MODEL_66ab2a40ac834d7da2453b1959c3b2fe",
       "style": "IPY_MODEL_8a196bfa5e904ad3b6f222f1f65fed6f",
       "value": false
      }
     },
     "a37e4faef0b040bf8f6203af9e64da24": {
      "model_module": "@jupyter-widgets/base",
      "model_module_version": "2.0.0",
      "model_name": "LayoutModel",
      "state": {}
     },
     "a381b2d7d7b9478cb2e0a1d85a4c1383": {
      "model_module": "@jupyter-widgets/controls",
      "model_module_version": "2.0.0",
      "model_name": "VBoxModel",
      "state": {
       "children": [
        "IPY_MODEL_e61c683aed7d429b8a016fc73592f0f8",
        "IPY_MODEL_f9f7ebfa90cb494fb6e2aa040b3e2a60"
       ],
       "layout": "IPY_MODEL_b2e859eb927f4a61bc5e6d14028fa149"
      }
     },
     "a3849164dddf4d4e8e4e3b0d3e9c346e": {
      "model_module": "@jupyter-widgets/base",
      "model_module_version": "2.0.0",
      "model_name": "LayoutModel",
      "state": {}
     },
     "a394d3c65ad54b8482ff4ca3517e2ca9": {
      "model_module": "@jupyter-widgets/base",
      "model_module_version": "2.0.0",
      "model_name": "LayoutModel",
      "state": {}
     },
     "a3a41f131024410990060b47f24ef68e": {
      "model_module": "@jupyter-widgets/controls",
      "model_module_version": "2.0.0",
      "model_name": "LabelModel",
      "state": {
       "layout": "IPY_MODEL_50304ffb81fb4299bdf3831ca458e1cd",
       "style": "IPY_MODEL_02eb3462ec5744d4815d69167cc1d548",
       "value": "np.mask_indices( mask_func=no_image)"
      }
     },
     "a3af311471644c64a47368de30e7e804": {
      "model_module": "@jupyter-widgets/base",
      "model_module_version": "2.0.0",
      "model_name": "LayoutModel",
      "state": {}
     },
     "a3eacd0f0d554369995634fc426f6829": {
      "model_module": "@jupyter-widgets/controls",
      "model_module_version": "2.0.0",
      "model_name": "LabelStyleModel",
      "state": {
       "description_width": "",
       "font_family": "Courier",
       "font_size": null,
       "font_style": null,
       "font_variant": null,
       "font_weight": null,
       "text_color": null,
       "text_decoration": null
      }
     },
     "a400a15c399c46dfb8a43ffd6a2f4749": {
      "model_module": "@jupyter-widgets/base",
      "model_module_version": "2.0.0",
      "model_name": "LayoutModel",
      "state": {}
     },
     "a4071491a9ef4da4b9699cde095af6c1": {
      "model_module": "@jupyter-widgets/base",
      "model_module_version": "2.0.0",
      "model_name": "LayoutModel",
      "state": {}
     },
     "a412cfdaa6444243b05b874e7fa613b5": {
      "model_module": "@jupyter-widgets/output",
      "model_module_version": "1.0.0",
      "model_name": "OutputModel",
      "state": {
       "layout": "IPY_MODEL_3795158922574d2294d41621a5a635af"
      }
     },
     "a413affdc99f4b53b780ca7fae9b5caf": {
      "model_module": "@jupyter-widgets/controls",
      "model_module_version": "2.0.0",
      "model_name": "VBoxModel",
      "state": {
       "children": [
        "IPY_MODEL_76fbf2159a9a4914a61798d953a1e5c2",
        "IPY_MODEL_b762a30660ab4c1fb7f28722dfedf42a"
       ],
       "layout": "IPY_MODEL_aba7badd0105480391413a74c593e2f1"
      }
     },
     "a41c0f9d3904426c9420b7d4464b3fc9": {
      "model_module": "@jupyter-widgets/controls",
      "model_module_version": "2.0.0",
      "model_name": "VBoxModel",
      "state": {
       "children": [
        "IPY_MODEL_7652d4d2dc7040338d0f95371744876d",
        "IPY_MODEL_3f3cd65c8463439ea20c0380e245980a"
       ],
       "layout": "IPY_MODEL_604091f009984af0b93312aded902505"
      }
     },
     "a4afb91e51144ab1845513a7d9852f77": {
      "model_module": "@jupyter-widgets/controls",
      "model_module_version": "2.0.0",
      "model_name": "DropdownModel",
      "state": {
       "_options_labels": [
        "no_image",
        "image1",
        "image2",
        "image3",
        "blobs",
        "binary",
        "labels",
        "dilated_labels"
       ],
       "description": "image",
       "index": 0,
       "layout": "IPY_MODEL_5bca29ee5a8c4ac181295f1d174e51f5",
       "style": "IPY_MODEL_227d75fdae13434dbb46d1fde76596b4"
      }
     },
     "a4c564cca3864f2fa49dd1c8024b1a09": {
      "model_module": "@jupyter-widgets/controls",
      "model_module_version": "2.0.0",
      "model_name": "VBoxModel",
      "state": {
       "children": [
        "IPY_MODEL_f9d6c2b71a694c88abd7d773fa1ebcd5",
        "IPY_MODEL_fc29e1a850104ad69053f463632ebcdd"
       ],
       "layout": "IPY_MODEL_2eaef13bed96425199c723a615b6856a"
      }
     },
     "a4cc080e006d4b90ac37194776c8dd59": {
      "model_module": "@jupyter-widgets/controls",
      "model_module_version": "2.0.0",
      "model_name": "VBoxModel",
      "state": {
       "_dom_classes": [
        "widget-interact"
       ],
       "children": [
        "IPY_MODEL_78d6b3dfd9fb481bbb245e579efe646d",
        "IPY_MODEL_1f84ac96f57147b7b864421da569fca5"
       ],
       "layout": "IPY_MODEL_0576829785a8485f9e7ce1d52d74325b"
      }
     },
     "a4e530671c214723b980c67d16376d0e": {
      "model_module": "@jupyter-widgets/controls",
      "model_module_version": "2.0.0",
      "model_name": "HTMLModel",
      "state": {
       "layout": "IPY_MODEL_c99734d976c24ff79967e6c15f6425a7",
       "style": "IPY_MODEL_1d4a6a1adc0e44a09bbabb8aa9be435a",
       "value": "<pre>Gauss-Otsu-Labeling can be used to segment objects such as nuclei with bright intensity on\n    low intensity background images.\n\n    The outline_sigma parameter allows tuning how precise segmented objects are outlined. Under the\n    hood, this filter applies a Gaussian blur, Otsu-thresholding and connected component labeling.\n\n    See also\n    --------\n    .. [0] https://github.com/clEsperanto/pyclesperanto_prototype/blob/master/demo/segmentation/gauss_otsu_labeling.ipynb\n    </pre>"
      }
     },
     "a4e6b4d8da81421fa59900f6b08782ef": {
      "model_module": "@jupyter-widgets/base",
      "model_module_version": "2.0.0",
      "model_name": "LayoutModel",
      "state": {}
     },
     "a4eaf11d61b94badb5c2f34673a538d6": {
      "model_module": "@jupyter-widgets/base",
      "model_module_version": "2.0.0",
      "model_name": "LayoutModel",
      "state": {}
     },
     "a4efbc5a80a04595a397871a04dbbed9": {
      "model_module": "@jupyter-widgets/controls",
      "model_module_version": "2.0.0",
      "model_name": "DropdownModel",
      "state": {
       "_options_labels": [
        "no_image",
        "image1",
        "image2",
        "image3",
        "blobs",
        "binary",
        "labels",
        "dilated_labels"
       ],
       "description": "image",
       "index": 0,
       "layout": "IPY_MODEL_969b933db83947e887870ee96975ec04",
       "style": "IPY_MODEL_7c2f6f552f9c442db26630c07f22a223"
      }
     },
     "a50aebec41e44dce838245561d593796": {
      "model_module": "@jupyter-widgets/base",
      "model_module_version": "2.0.0",
      "model_name": "LayoutModel",
      "state": {}
     },
     "a50bae7a460a46c096c427c1df6acc54": {
      "model_module": "@jupyter-widgets/controls",
      "model_module_version": "2.0.0",
      "model_name": "FloatSliderModel",
      "state": {
       "behavior": "drag-tap",
       "description": "time_step",
       "layout": "IPY_MODEL_0fc2ccc835994ebb88d8317f40ba2d4c",
       "step": null,
       "style": "IPY_MODEL_1a84a83e500e459e9a646a26d526127d",
       "value": 0.05
      }
     },
     "a5249dd5fe864964966218f9e6a8d1f9": {
      "model_module": "@jupyter-widgets/controls",
      "model_module_version": "2.0.0",
      "model_name": "LabelModel",
      "state": {
       "layout": "IPY_MODEL_3ade58980cc248a3822fbbb38d6a6346",
       "style": "IPY_MODEL_be8b849ab6ce49028439dd51da5d60d6",
       "value": "nsitk.watershed_otsu_labeling( image=no_image, spot_sigma=2.0, outline_sigma=2.0, watershed_level=10.0)"
      }
     },
     "a52dbcd410d54585958fac04c63f080c": {
      "model_module": "@jupyter-widgets/base",
      "model_module_version": "2.0.0",
      "model_name": "LayoutModel",
      "state": {}
     },
     "a5980b409a0a4e34acef8a08b1f73c3f": {
      "model_module": "@jupyter-widgets/controls",
      "model_module_version": "2.0.0",
      "model_name": "VBoxModel",
      "state": {
       "children": [
        "IPY_MODEL_9b814fbf7d094871967c0bd28e9e2693",
        "IPY_MODEL_b6ad3812806540dc81d1182448676927"
       ],
       "layout": "IPY_MODEL_d5c137aacd194d8c8b6938a6c17b4a27"
      }
     },
     "a59ad5d640b04874a0e6fe1100d1d40c": {
      "model_module": "@jupyter-widgets/base",
      "model_module_version": "2.0.0",
      "model_name": "LayoutModel",
      "state": {}
     },
     "a59b20f25d6549039f63b846a72625a0": {
      "model_module": "@jupyter-widgets/controls",
      "model_module_version": "2.0.0",
      "model_name": "VBoxModel",
      "state": {
       "_dom_classes": [
        "widget-interact"
       ],
       "children": [
        "IPY_MODEL_b1136fadc3f548c4bb73f08e49525f19",
        "IPY_MODEL_e57f463799c8456788ba01c2ead1f277"
       ],
       "layout": "IPY_MODEL_66b0b29ab8f04b84a5a1e5363e69d682"
      }
     },
     "a5ac0ca97c5249ceb770ed3e09a76f5d": {
      "model_module": "@jupyter-widgets/controls",
      "model_module_version": "2.0.0",
      "model_name": "LabelModel",
      "state": {
       "layout": "IPY_MODEL_cd47a6df0fe94518b05520409edd3564",
       "style": "IPY_MODEL_4a6b25cab9304486b5f72c057efb92e1",
       "value": "nsbatwm.clear_border( labels=no_image, mask=no_image)"
      }
     },
     "a5b38aa5a71e45b187a5b7880ec908c8": {
      "model_module": "@jupyter-widgets/controls",
      "model_module_version": "2.0.0",
      "model_name": "DropdownModel",
      "state": {
       "_options_labels": [
        "no_image",
        "image1",
        "image2",
        "image3",
        "blobs",
        "binary",
        "labels",
        "dilated_labels"
       ],
       "description": "image",
       "index": 0,
       "layout": "IPY_MODEL_3a27f6d4c89647368363668c60498662",
       "style": "IPY_MODEL_2ee3ae59936a41a59ac41cf87466c164"
      }
     },
     "a5ca6d21186445bcb5e22fa6fc1a2923": {
      "model_module": "@jupyter-widgets/controls",
      "model_module_version": "2.0.0",
      "model_name": "VBoxModel",
      "state": {
       "_dom_classes": [
        "widget-interact"
       ],
       "children": [
        "IPY_MODEL_5fd4e00c3f674e0f89033575310b873d",
        "IPY_MODEL_77987a5847084081987110d8614d7515",
        "IPY_MODEL_71b078f39b09432993d0ad088e24f625"
       ],
       "layout": "IPY_MODEL_acf5f728921d4499a6ce2022ff707c32"
      }
     },
     "a5d2b8fc8a3246a89d386278d5ccd1e3": {
      "model_module": "@jupyter-widgets/controls",
      "model_module_version": "2.0.0",
      "model_name": "VBoxModel",
      "state": {
       "_dom_classes": [
        "widget-interact"
       ],
       "children": [
        "IPY_MODEL_182ed62ffc4f42748c1ca9499e2c4d9e",
        "IPY_MODEL_fef77b1a23d742d59239455112405385"
       ],
       "layout": "IPY_MODEL_5615d04d6b404fadb7d3926dde3d78a9"
      }
     },
     "a5d59e81f9124442bb422b0ddcdf144f": {
      "model_module": "@jupyter-widgets/base",
      "model_module_version": "2.0.0",
      "model_name": "LayoutModel",
      "state": {}
     },
     "a5db72d5c1124b5594fd6a91fb7bb356": {
      "model_module": "@jupyter-widgets/base",
      "model_module_version": "2.0.0",
      "model_name": "LayoutModel",
      "state": {}
     },
     "a5e67ba7264b4b24b2512c4a8f2f6d88": {
      "model_module": "@jupyter-widgets/controls",
      "model_module_version": "2.0.0",
      "model_name": "VBoxModel",
      "state": {
       "children": [
        "IPY_MODEL_943a8d64576b405e8cf394ed291ccdf2",
        "IPY_MODEL_361bce9e230f464b9eb2f93e5e3586b2"
       ],
       "layout": "IPY_MODEL_6a80dd8645a244aca274636b7005b21c"
      }
     },
     "a5e7b78066fa4a3f9dc22fff85254a7c": {
      "model_module": "@jupyter-widgets/controls",
      "model_module_version": "2.0.0",
      "model_name": "LabelStyleModel",
      "state": {
       "description_width": "",
       "font_family": "Courier",
       "font_size": null,
       "font_style": null,
       "font_variant": null,
       "font_weight": null,
       "text_color": null,
       "text_decoration": null
      }
     },
     "a601d6a35eac40f9a11c5508c1739952": {
      "model_module": "@jupyter-widgets/controls",
      "model_module_version": "2.0.0",
      "model_name": "VBoxModel",
      "state": {
       "children": [
        "IPY_MODEL_7fc39129cb924a5e8f0fe6e68efecc9f",
        "IPY_MODEL_d3bec906e3804ca79ebe10b09b610b76"
       ],
       "layout": "IPY_MODEL_e2102d05fc404a9da9708e9fffe9b6a3"
      }
     },
     "a61dc396e9c0437880c15d011d2f28e7": {
      "model_module": "@jupyter-widgets/controls",
      "model_module_version": "2.0.0",
      "model_name": "DescriptionStyleModel",
      "state": {
       "description_width": ""
      }
     },
     "a629ceb354744dc7b0e03b39f4981732": {
      "model_module": "@jupyter-widgets/controls",
      "model_module_version": "2.0.0",
      "model_name": "DropdownModel",
      "state": {
       "_options_labels": [
        "no_image",
        "image1",
        "image2",
        "image3",
        "blobs",
        "binary",
        "labels",
        "dilated_labels"
       ],
       "description": "image",
       "index": 0,
       "layout": "IPY_MODEL_7ba7e877ffa34f54b0cff874695734db",
       "style": "IPY_MODEL_6b82e956adb540059e6a17e55b550d6d"
      }
     },
     "a6337f2a6fb74185a1d45103e94e47e4": {
      "model_module": "@jupyter-widgets/controls",
      "model_module_version": "2.0.0",
      "model_name": "VBoxModel",
      "state": {
       "_dom_classes": [
        "widget-interact"
       ],
       "children": [
        "IPY_MODEL_3065e9b2fe1d42d5a5a255ce5b09f332",
        "IPY_MODEL_6fcf3282aeb248478121abc44a37f72d"
       ],
       "layout": "IPY_MODEL_156aa90477ad449a94d6809082b22df6"
      }
     },
     "a636e7e2f3c44e60a5282e936aa9a12e": {
      "model_module": "@jupyter-widgets/controls",
      "model_module_version": "2.0.0",
      "model_name": "VBoxModel",
      "state": {
       "_dom_classes": [
        "widget-interact"
       ],
       "children": [
        "IPY_MODEL_76fd5cf105ea4a708f63553345932cc0",
        "IPY_MODEL_5a1dd86475d64761ac87772001b00db6",
        "IPY_MODEL_88a2b6790ae34e96b742ffae3ba72e95"
       ],
       "layout": "IPY_MODEL_aa8647d9a21b467ba233921f956ad4f5"
      }
     },
     "a6861e58f00d4010b3aabe37237fc834": {
      "model_module": "@jupyter-widgets/controls",
      "model_module_version": "2.0.0",
      "model_name": "VBoxModel",
      "state": {
       "_dom_classes": [
        "widget-interact"
       ],
       "children": [
        "IPY_MODEL_e1ca64aef8bd43c39c1c145c2269a202",
        "IPY_MODEL_4201ad4688ea49bb83eef138c8f24f1b"
       ],
       "layout": "IPY_MODEL_27b8ac9ca11249a5a310a2f255f7052c"
      }
     },
     "a6b287077302457f8758e0ad4368972d": {
      "model_module": "@jupyter-widgets/base",
      "model_module_version": "2.0.0",
      "model_name": "LayoutModel",
      "state": {
       "display": "none"
      }
     },
     "a6f763b0b9044da2acab58db9bf2dbc4": {
      "model_module": "@jupyter-widgets/controls",
      "model_module_version": "2.0.0",
      "model_name": "FloatSliderModel",
      "state": {
       "behavior": "drag-tap",
       "description": "radius",
       "layout": "IPY_MODEL_d7ba9125628c4a4e861c143396ccc552",
       "style": "IPY_MODEL_1895e49e69db45f19227439a09e160ef",
       "value": 2
      }
     },
     "a7210283c37e43e9ac53727edb83bbad": {
      "model_module": "@jupyter-widgets/base",
      "model_module_version": "2.0.0",
      "model_name": "LayoutModel",
      "state": {
       "display": "none"
      }
     },
     "a73ab02d3ed449a3accda168adb9261c": {
      "model_module": "@jupyter-widgets/base",
      "model_module_version": "2.0.0",
      "model_name": "LayoutModel",
      "state": {}
     },
     "a74614e47dc646888c5c2222464d07e2": {
      "model_module": "@jupyter-widgets/base",
      "model_module_version": "2.0.0",
      "model_name": "LayoutModel",
      "state": {
       "display": "none"
      }
     },
     "a767081cc6d547b0a25627a2edbfe2d3": {
      "model_module": "@jupyter-widgets/base",
      "model_module_version": "2.0.0",
      "model_name": "LayoutModel",
      "state": {}
     },
     "a787e83730b14b809ac02a95789c400f": {
      "model_module": "@jupyter-widgets/base",
      "model_module_version": "2.0.0",
      "model_name": "LayoutModel",
      "state": {}
     },
     "a78a38544bf041f99f2682f860ffed1d": {
      "model_module": "@jupyter-widgets/base",
      "model_module_version": "2.0.0",
      "model_name": "LayoutModel",
      "state": {}
     },
     "a7b3053ced70416089fa14d0eea3060a": {
      "model_module": "@jupyter-widgets/controls",
      "model_module_version": "2.0.0",
      "model_name": "VBoxModel",
      "state": {
       "children": [
        "IPY_MODEL_d19f037e729c478da3e2a0cdd4177322",
        "IPY_MODEL_b4ad999a71b448b0b821323db9768276"
       ],
       "layout": "IPY_MODEL_844ddb1c18984e77833d584033d726f9"
      }
     },
     "a7b9dbb5e6034b9082d8038bfaf2134c": {
      "model_module": "@jupyter-widgets/controls",
      "model_module_version": "2.0.0",
      "model_name": "IntSliderModel",
      "state": {
       "behavior": "drag-tap",
       "description": "radius_z",
       "layout": "IPY_MODEL_9fe5349765e64205afaa0d1a1f755635",
       "style": "IPY_MODEL_600c7c41ab714ed2967b2a534fc3833f"
      }
     },
     "a7bba40a7bd746c380616688514230ef": {
      "model_module": "@jupyter-widgets/base",
      "model_module_version": "2.0.0",
      "model_name": "LayoutModel",
      "state": {}
     },
     "a817f7ec43b949efb326017d9b4625db": {
      "model_module": "@jupyter-widgets/controls",
      "model_module_version": "2.0.0",
      "model_name": "DescriptionStyleModel",
      "state": {
       "description_width": ""
      }
     },
     "a86c7fc3aa3a45429758ca50490b1839": {
      "model_module": "@jupyter-widgets/controls",
      "model_module_version": "2.0.0",
      "model_name": "LabelStyleModel",
      "state": {
       "description_width": "",
       "font_family": "Courier",
       "font_size": null,
       "font_style": null,
       "font_variant": null,
       "font_weight": null,
       "text_color": null,
       "text_decoration": null
      }
     },
     "a883fe0a428a47f5841257163084209c": {
      "model_module": "@jupyter-widgets/base",
      "model_module_version": "2.0.0",
      "model_name": "LayoutModel",
      "state": {}
     },
     "a89d0cdab81c45908a9a46f46026bcb3": {
      "model_module": "@jupyter-widgets/controls",
      "model_module_version": "2.0.0",
      "model_name": "LabelModel",
      "state": {
       "layout": "IPY_MODEL_e5a3df0ad052408c99ebc00629daf21a",
       "style": "IPY_MODEL_657b3d97a2264016a3241945997db6c7",
       "value": "nsitk.sobel( image=no_image)"
      }
     },
     "a8b0a97cb7224f859474be89895a74fd": {
      "model_module": "@jupyter-widgets/controls",
      "model_module_version": "2.0.0",
      "model_name": "DescriptionStyleModel",
      "state": {
       "description_width": ""
      }
     },
     "a8d2947e6d9445e7aededdd2994154b9": {
      "model_module": "@jupyter-widgets/base",
      "model_module_version": "2.0.0",
      "model_name": "LayoutModel",
      "state": {}
     },
     "a8e8a370f62942ccb29f595cef4af7f6": {
      "model_module": "@jupyter-widgets/controls",
      "model_module_version": "2.0.0",
      "model_name": "SliderStyleModel",
      "state": {
       "description_width": ""
      }
     },
     "a8e9f138a099423c99b4f389224bd17f": {
      "model_module": "@jupyter-widgets/base",
      "model_module_version": "2.0.0",
      "model_name": "LayoutModel",
      "state": {
       "display": "none"
      }
     },
     "a91a148bd7114ab9912b4c2390f15de7": {
      "model_module": "@jupyter-widgets/output",
      "model_module_version": "1.0.0",
      "model_name": "OutputModel",
      "state": {
       "layout": "IPY_MODEL_9ce03d4754a3442a94be5ed2c58ddef6"
      }
     },
     "a98ae96fea8f4866b9259ba3286e4f72": {
      "model_module": "@jupyter-widgets/base",
      "model_module_version": "2.0.0",
      "model_name": "LayoutModel",
      "state": {}
     },
     "a9a71b622094448e956985f463821d99": {
      "model_module": "@jupyter-widgets/controls",
      "model_module_version": "2.0.0",
      "model_name": "DescriptionStyleModel",
      "state": {
       "description_width": ""
      }
     },
     "a9e341d3eb7d407f88c48bbfa2435878": {
      "model_module": "@jupyter-widgets/base",
      "model_module_version": "2.0.0",
      "model_name": "LayoutModel",
      "state": {}
     },
     "a9ef98abdf0b4a568cee93b430cbea5c": {
      "model_module": "@jupyter-widgets/controls",
      "model_module_version": "2.0.0",
      "model_name": "VBoxModel",
      "state": {
       "_dom_classes": [
        "widget-interact"
       ],
       "children": [
        "IPY_MODEL_3e2b786795eb45a7a12c26b86731b741",
        "IPY_MODEL_216ed596905b41f1b374d521ef7b40d4"
       ],
       "layout": "IPY_MODEL_a73ab02d3ed449a3accda168adb9261c"
      }
     },
     "aa1e89d927964c88834ea75af044a064": {
      "model_module": "@jupyter-widgets/controls",
      "model_module_version": "2.0.0",
      "model_name": "VBoxModel",
      "state": {
       "_dom_classes": [
        "widget-interact"
       ],
       "children": [
        "IPY_MODEL_4a4beef20d2d4f809f99d432962c6b6f",
        "IPY_MODEL_361f803c603540e9922d58e860e29c62",
        "IPY_MODEL_5183d977868041b288420ea39bc9d13e"
       ],
       "layout": "IPY_MODEL_c2cff617667a438d91f863dbc2cc9e9f"
      }
     },
     "aa2ab29b95ed4c57b371873ea56fc47f": {
      "model_module": "@jupyter-widgets/controls",
      "model_module_version": "2.0.0",
      "model_name": "DescriptionStyleModel",
      "state": {
       "description_width": ""
      }
     },
     "aa3a0206870b4ba6bbb0d142e16ae035": {
      "model_module": "@jupyter-widgets/base",
      "model_module_version": "2.0.0",
      "model_name": "LayoutModel",
      "state": {
       "display": "none"
      }
     },
     "aa843a357a9445d9bd8ce4c618b8bcd2": {
      "model_module": "@jupyter-widgets/controls",
      "model_module_version": "2.0.0",
      "model_name": "VBoxModel",
      "state": {
       "children": [
        "IPY_MODEL_f0775b973f6a4c1492789b0f0d8811ee",
        "IPY_MODEL_a5ac0ca97c5249ceb770ed3e09a76f5d"
       ],
       "layout": "IPY_MODEL_5578c8516d774c33a66a8cbcd8703ac6"
      }
     },
     "aa8647d9a21b467ba233921f956ad4f5": {
      "model_module": "@jupyter-widgets/base",
      "model_module_version": "2.0.0",
      "model_name": "LayoutModel",
      "state": {}
     },
     "aa87b537c6a34e7d95d14f3fe0e603d1": {
      "model_module": "@jupyter-widgets/controls",
      "model_module_version": "2.0.0",
      "model_name": "VBoxModel",
      "state": {
       "_dom_classes": [
        "widget-interact"
       ],
       "children": [
        "IPY_MODEL_12a8443a16f5483b927e46748b711412",
        "IPY_MODEL_b0f6f01b55894466b8dd63ee6a9caf79",
        "IPY_MODEL_b4f442078b1e4712894b4d20fbf7df25"
       ],
       "layout": "IPY_MODEL_3b99e21b5ff7432e8f21d034fcd5091c"
      }
     },
     "aa87f62e215a4045aa13e07172d7c365": {
      "model_module": "@jupyter-widgets/controls",
      "model_module_version": "2.0.0",
      "model_name": "DescriptionStyleModel",
      "state": {
       "description_width": ""
      }
     },
     "ab00ff1b14394336bf494f2c6ee4ab66": {
      "model_module": "@jupyter-widgets/controls",
      "model_module_version": "2.0.0",
      "model_name": "LabelModel",
      "state": {
       "layout": "IPY_MODEL_ab6ccb904cee432abc5ece9f50a67250",
       "style": "IPY_MODEL_9aa82512ea224a13a85b4a6a1d2737a4",
       "value": "skfilters.threshold_multiotsu( image=no_image)"
      }
     },
     "ab05a793fc5d4045a76a58e4f2e30fba": {
      "model_module": "@jupyter-widgets/base",
      "model_module_version": "2.0.0",
      "model_name": "LayoutModel",
      "state": {}
     },
     "ab246dd424e54916b9c3eaed83302e9e": {
      "model_module": "@jupyter-widgets/base",
      "model_module_version": "2.0.0",
      "model_name": "LayoutModel",
      "state": {}
     },
     "ab4c94dd537247d8a1a1f79cd1fdbeb8": {
      "model_module": "@jupyter-widgets/base",
      "model_module_version": "2.0.0",
      "model_name": "LayoutModel",
      "state": {
       "display": "none"
      }
     },
     "ab6ccb904cee432abc5ece9f50a67250": {
      "model_module": "@jupyter-widgets/base",
      "model_module_version": "2.0.0",
      "model_name": "LayoutModel",
      "state": {}
     },
     "ab8203480fcd4b0cb352f4f9d5ca7be3": {
      "model_module": "@jupyter-widgets/base",
      "model_module_version": "2.0.0",
      "model_name": "LayoutModel",
      "state": {
       "display": "none"
      }
     },
     "ab847ec505ae4c26bb25d568f5038f4c": {
      "model_module": "@jupyter-widgets/controls",
      "model_module_version": "2.0.0",
      "model_name": "LabelModel",
      "state": {
       "layout": "IPY_MODEL_980e30726b9e4fbfa76507f81a8b783e",
       "style": "IPY_MODEL_fea23d9af8b84495ba2eb70145d47fc4",
       "value": "nsitk.regional_minima( image=no_image)"
      }
     },
     "ab9b3c7be7fb429d8fc07550c7c607b3": {
      "model_module": "@jupyter-widgets/controls",
      "model_module_version": "2.0.0",
      "model_name": "LabelStyleModel",
      "state": {
       "description_width": "",
       "font_family": "Courier",
       "font_size": null,
       "font_style": null,
       "font_variant": null,
       "font_weight": null,
       "text_color": null,
       "text_decoration": null
      }
     },
     "aba7badd0105480391413a74c593e2f1": {
      "model_module": "@jupyter-widgets/base",
      "model_module_version": "2.0.0",
      "model_name": "LayoutModel",
      "state": {
       "display": "none"
      }
     },
     "abb1e0a534df44699f0d5b8702ad8f5d": {
      "model_module": "@jupyter-widgets/controls",
      "model_module_version": "2.0.0",
      "model_name": "DescriptionStyleModel",
      "state": {
       "description_width": ""
      }
     },
     "abc455718674454a9836c354aaf57da7": {
      "model_module": "@jupyter-widgets/controls",
      "model_module_version": "2.0.0",
      "model_name": "IntSliderModel",
      "state": {
       "behavior": "drag-tap",
       "description": "radius_x",
       "layout": "IPY_MODEL_e7de286eaacf4292b97945d9690a818e",
       "style": "IPY_MODEL_6c199db70b4949ca9a675b60c9a109e8",
       "value": 5
      }
     },
     "abd21f6f737d43f893983cdc15af6f69": {
      "model_module": "@jupyter-widgets/base",
      "model_module_version": "2.0.0",
      "model_name": "LayoutModel",
      "state": {}
     },
     "ac123596805d4a1c90d6b890ab9dca51": {
      "model_module": "@jupyter-widgets/controls",
      "model_module_version": "2.0.0",
      "model_name": "VBoxModel",
      "state": {
       "_dom_classes": [
        "widget-interact"
       ],
       "children": [
        "IPY_MODEL_96e56c1f86e841e4a0a96d11638506a8",
        "IPY_MODEL_c337dcaa001a4655b0432c03a6c4df5b",
        "IPY_MODEL_6902034fd321486987b2fc3902f7d9c3"
       ],
       "layout": "IPY_MODEL_0aeb75b26e844b19b514aedf3f765b48"
      }
     },
     "ac3b7e230d7b49c5883234e5feb6eaf2": {
      "model_module": "@jupyter-widgets/controls",
      "model_module_version": "2.0.0",
      "model_name": "DropdownModel",
      "state": {
       "_options_labels": [
        "no_image",
        "image1",
        "image2",
        "image3",
        "blobs",
        "binary",
        "labels",
        "dilated_labels"
       ],
       "description": "image",
       "index": 0,
       "layout": "IPY_MODEL_d090b50fd47145a0a6e05b17c2879334",
       "style": "IPY_MODEL_dcea580307644e2d98710358eb6281a1"
      }
     },
     "ac6fbedf7a12459abec6812377673dbd": {
      "model_module": "@jupyter-widgets/controls",
      "model_module_version": "2.0.0",
      "model_name": "DropdownModel",
      "state": {
       "_options_labels": [
        "no_image",
        "image1",
        "image2",
        "image3",
        "blobs",
        "binary",
        "labels",
        "dilated_labels"
       ],
       "description": "binary",
       "index": 0,
       "layout": "IPY_MODEL_cda668ef83304a2a9425888ffef15afe",
       "style": "IPY_MODEL_dd5fbc6624314797aae4879491aeb940"
      }
     },
     "ac91cefdadfc46d1aa2b50e82bb028a7": {
      "model_module": "@jupyter-widgets/controls",
      "model_module_version": "2.0.0",
      "model_name": "VBoxModel",
      "state": {
       "_dom_classes": [
        "widget-interact"
       ],
       "children": [
        "IPY_MODEL_bd9cc39b32554779ae64bc89b33a046a",
        "IPY_MODEL_eac016f9eb2e48908aa58ec533c46192"
       ],
       "layout": "IPY_MODEL_3359792da8dd40318a8a3c20f0f7300d"
      }
     },
     "ac9a033a1ebd49b396e256d14ae93296": {
      "model_module": "@jupyter-widgets/controls",
      "model_module_version": "2.0.0",
      "model_name": "FloatSliderModel",
      "state": {
       "behavior": "drag-tap",
       "description": "minimum_intensity",
       "layout": "IPY_MODEL_e88c769c652842479edfa24a7f14bcd2",
       "step": null,
       "style": "IPY_MODEL_f38b037b972c47c883703689e8865942",
       "value": 100
      }
     },
     "acbde6be6ef14f93968bb00240140bf6": {
      "model_module": "@jupyter-widgets/base",
      "model_module_version": "2.0.0",
      "model_name": "LayoutModel",
      "state": {
       "display": "none"
      }
     },
     "acc2e35c9b8e4c62b0de7dcdf8d9327e": {
      "model_module": "@jupyter-widgets/controls",
      "model_module_version": "2.0.0",
      "model_name": "VBoxModel",
      "state": {
       "children": [
        "IPY_MODEL_7426e7f6b64244f7814076411a964f41",
        "IPY_MODEL_6d509fe2e50f4252a1314b64ee44c235"
       ],
       "layout": "IPY_MODEL_98101cf68ef54be5be410e03a716c828"
      }
     },
     "acf5f728921d4499a6ce2022ff707c32": {
      "model_module": "@jupyter-widgets/base",
      "model_module_version": "2.0.0",
      "model_name": "LayoutModel",
      "state": {}
     },
     "acf610f4ce454c55bab84b8cd9520652": {
      "model_module": "@jupyter-widgets/controls",
      "model_module_version": "2.0.0",
      "model_name": "LabelStyleModel",
      "state": {
       "description_width": "",
       "font_family": "Courier",
       "font_size": null,
       "font_style": null,
       "font_variant": null,
       "font_weight": null,
       "text_color": null,
       "text_decoration": null
      }
     },
     "ad177665b9004c55835546b24c3f384d": {
      "model_module": "@jupyter-widgets/controls",
      "model_module_version": "2.0.0",
      "model_name": "FloatSliderModel",
      "state": {
       "behavior": "drag-tap",
       "description": "spot_sigma",
       "layout": "IPY_MODEL_18c60bddf9184b38914b846e693de826",
       "max": 25,
       "style": "IPY_MODEL_3dc71eaaf05949bb95d40b1b5d13644c",
       "value": 3
      }
     },
     "ad71ca9ce493422985d1e003f24bf36d": {
      "model_module": "@jupyter-widgets/base",
      "model_module_version": "2.0.0",
      "model_name": "LayoutModel",
      "state": {}
     },
     "ad73a8c5f0b14fb184d472956be93dc1": {
      "model_module": "@jupyter-widgets/controls",
      "model_module_version": "2.0.0",
      "model_name": "DescriptionStyleModel",
      "state": {
       "description_width": ""
      }
     },
     "ad773069771e4bcc8095cc6f66d742e4": {
      "model_module": "@jupyter-widgets/controls",
      "model_module_version": "2.0.0",
      "model_name": "DescriptionStyleModel",
      "state": {
       "description_width": ""
      }
     },
     "ad7cfaf13ff746aa8669823a1ab7056b": {
      "model_module": "@jupyter-widgets/base",
      "model_module_version": "2.0.0",
      "model_name": "LayoutModel",
      "state": {}
     },
     "ada01544d1a943ad9cf3197339fdc801": {
      "model_module": "@jupyter-widgets/base",
      "model_module_version": "2.0.0",
      "model_name": "LayoutModel",
      "state": {}
     },
     "adc2e8dc82514efeb7657462b0ac5552": {
      "model_module": "@jupyter-widgets/base",
      "model_module_version": "2.0.0",
      "model_name": "LayoutModel",
      "state": {}
     },
     "adcdee130d404163a0fc384a64b9e231": {
      "model_module": "@jupyter-widgets/base",
      "model_module_version": "2.0.0",
      "model_name": "LayoutModel",
      "state": {}
     },
     "ae0d5ad990ca438d85f01b168a75ed3e": {
      "model_module": "@jupyter-widgets/controls",
      "model_module_version": "2.0.0",
      "model_name": "SliderStyleModel",
      "state": {
       "description_width": ""
      }
     },
     "ae189f97e8f947f9ba80d36f990ad9f2": {
      "model_module": "@jupyter-widgets/base",
      "model_module_version": "2.0.0",
      "model_name": "LayoutModel",
      "state": {}
     },
     "ae1d283b32ab4ca09643b0c7e59c7788": {
      "model_module": "@jupyter-widgets/base",
      "model_module_version": "2.0.0",
      "model_name": "LayoutModel",
      "state": {}
     },
     "ae2aa5d656674632b48c30a2ef157619": {
      "model_module": "@jupyter-widgets/controls",
      "model_module_version": "2.0.0",
      "model_name": "VBoxModel",
      "state": {
       "_dom_classes": [
        "widget-interact"
       ],
       "children": [
        "IPY_MODEL_d65b157452594405abbe2e187de21b43",
        "IPY_MODEL_557ae133c21e42ea90d99eb3435c48d4"
       ],
       "layout": "IPY_MODEL_d0a976053c2e4d77bc75f09332540dc3"
      }
     },
     "ae30951d01664477a5a893953f0b4db1": {
      "model_module": "@jupyter-widgets/controls",
      "model_module_version": "2.0.0",
      "model_name": "DescriptionStyleModel",
      "state": {
       "description_width": ""
      }
     },
     "ae3fc5977e514293bf67ad329379f4c7": {
      "model_module": "@jupyter-widgets/controls",
      "model_module_version": "2.0.0",
      "model_name": "LabelStyleModel",
      "state": {
       "description_width": "",
       "font_family": "Courier",
       "font_size": null,
       "font_style": null,
       "font_variant": null,
       "font_weight": null,
       "text_color": null,
       "text_decoration": null
      }
     },
     "ae40c580872248cc8c00da461aa63c6d": {
      "model_module": "@jupyter-widgets/output",
      "model_module_version": "1.0.0",
      "model_name": "OutputModel",
      "state": {
       "layout": "IPY_MODEL_d659ac426ab942c182e5a1239542398f"
      }
     },
     "aebdcbd2e8454dc7a0def4a79b8dd9e8": {
      "model_module": "@jupyter-widgets/base",
      "model_module_version": "2.0.0",
      "model_name": "LayoutModel",
      "state": {}
     },
     "aeefb625ff5444f5a822283715bc80e9": {
      "model_module": "@jupyter-widgets/controls",
      "model_module_version": "2.0.0",
      "model_name": "LabelStyleModel",
      "state": {
       "description_width": "",
       "font_family": "Courier",
       "font_size": null,
       "font_style": null,
       "font_variant": null,
       "font_weight": null,
       "text_color": null,
       "text_decoration": null
      }
     },
     "af15d7c50eeb45cab80e67813ecb05cf": {
      "model_module": "@jupyter-widgets/controls",
      "model_module_version": "2.0.0",
      "model_name": "SliderStyleModel",
      "state": {
       "description_width": ""
      }
     },
     "af21295e18c64b94a35f046c13ff1e0f": {
      "model_module": "ipycanvas",
      "model_module_version": "^0.13",
      "model_name": "CanvasModel",
      "state": {
       "_canvas_manager": "IPY_MODEL_c8dc3e787ba74da586a1e58432c0bd2b",
       "_model_module_version": "^0.13",
       "_view_module_version": "^0.13",
       "height": 256,
       "layout": "IPY_MODEL_23630418536d4262ab66a18b3269d36d",
       "width": 254
      }
     },
     "af44e9e490de49cc94b6ff53eb17d9af": {
      "model_module": "@jupyter-widgets/controls",
      "model_module_version": "2.0.0",
      "model_name": "VBoxModel",
      "state": {
       "_dom_classes": [
        "widget-interact"
       ],
       "children": [
        "IPY_MODEL_b691a2d848ae408a889c737f5d675272",
        "IPY_MODEL_650016f28746423b99e56570185b6754",
        "IPY_MODEL_f38fe11e343a4e4e9c56dd40637d4749",
        "IPY_MODEL_ee426a9fc09349e9830c195b33991b1d",
        "IPY_MODEL_19d2b3d228af42979018711547458530"
       ],
       "layout": "IPY_MODEL_8f60ba33a92649fe840c833e6e1696a5"
      }
     },
     "af82c32c535448c7b28c3a702db32a5f": {
      "model_module": "@jupyter-widgets/controls",
      "model_module_version": "2.0.0",
      "model_name": "VBoxModel",
      "state": {
       "_dom_classes": [
        "widget-interact"
       ],
       "children": [
        "IPY_MODEL_73ceaddfecd849a8bed5d04524f5e287",
        "IPY_MODEL_6cc7af3be0534d0baadad5bfa10e8ce1"
       ],
       "layout": "IPY_MODEL_cd83959a533246e1aef6a4e2991578da"
      }
     },
     "af84345ce83d48a4b3b7f4a81384a44b": {
      "model_module": "@jupyter-widgets/base",
      "model_module_version": "2.0.0",
      "model_name": "LayoutModel",
      "state": {}
     },
     "af8cd249c4a3458d9d465acc6f19ccc5": {
      "model_module": "@jupyter-widgets/controls",
      "model_module_version": "2.0.0",
      "model_name": "VBoxModel",
      "state": {
       "_dom_classes": [
        "widget-interact"
       ],
       "children": [
        "IPY_MODEL_f590e706d35e43fc9fb74e0113b3d296",
        "IPY_MODEL_ce39c9b67a564a428a78ca040f4444c5"
       ],
       "layout": "IPY_MODEL_ca70e3ffeab7409fa3599d0fb65531a4"
      }
     },
     "af989854e2dc4466a8bff1ea122ae0b5": {
      "model_module": "@jupyter-widgets/controls",
      "model_module_version": "2.0.0",
      "model_name": "VBoxModel",
      "state": {
       "children": [
        "IPY_MODEL_c66f266799a345068992267b21f19673",
        "IPY_MODEL_82eb7e93f4ab472e937d0c3dd7af9794"
       ],
       "layout": "IPY_MODEL_34c4577491b344ba8ad6e093d137b267"
      }
     },
     "afbd8a0bcd1f4fea808115f7ba985222": {
      "model_module": "@jupyter-widgets/controls",
      "model_module_version": "2.0.0",
      "model_name": "LabelStyleModel",
      "state": {
       "description_width": "",
       "font_family": "Courier",
       "font_size": null,
       "font_style": null,
       "font_variant": null,
       "font_weight": null,
       "text_color": null,
       "text_decoration": null
      }
     },
     "afc08ad594804ede83f783c7913a8da5": {
      "model_module": "@jupyter-widgets/controls",
      "model_module_version": "2.0.0",
      "model_name": "DescriptionStyleModel",
      "state": {
       "description_width": ""
      }
     },
     "afc3a245c6c54ad7984649356115087d": {
      "model_module": "@jupyter-widgets/controls",
      "model_module_version": "2.0.0",
      "model_name": "SliderStyleModel",
      "state": {
       "description_width": ""
      }
     },
     "b00eeab9c3864671bffb452ee2501cae": {
      "model_module": "@jupyter-widgets/base",
      "model_module_version": "2.0.0",
      "model_name": "LayoutModel",
      "state": {}
     },
     "b01b5f57e61442f1abfe7dea2d8d5731": {
      "model_module": "@jupyter-widgets/base",
      "model_module_version": "2.0.0",
      "model_name": "LayoutModel",
      "state": {}
     },
     "b0375da2da0d453eb2f7fc708ed62388": {
      "model_module": "@jupyter-widgets/controls",
      "model_module_version": "2.0.0",
      "model_name": "IntSliderModel",
      "state": {
       "behavior": "drag-tap",
       "description": "radius_x",
       "layout": "IPY_MODEL_58c63b60a19d4e94982913107cdf3de2",
       "style": "IPY_MODEL_ae0d5ad990ca438d85f01b168a75ed3e",
       "value": 10
      }
     },
     "b03b1798e20f4ecbb967c19fef323e7d": {
      "model_module": "@jupyter-widgets/controls",
      "model_module_version": "2.0.0",
      "model_name": "CheckboxStyleModel",
      "state": {
       "description_width": ""
      }
     },
     "b03fce3f6721472b82b3563a8e4ac49a": {
      "model_module": "@jupyter-widgets/controls",
      "model_module_version": "2.0.0",
      "model_name": "LabelStyleModel",
      "state": {
       "description_width": "",
       "font_family": "Courier",
       "font_size": null,
       "font_style": null,
       "font_variant": null,
       "font_weight": null,
       "text_color": null,
       "text_decoration": null
      }
     },
     "b05996f55c884bd1b79f09f00cdaf6e1": {
      "model_module": "@jupyter-widgets/base",
      "model_module_version": "2.0.0",
      "model_name": "LayoutModel",
      "state": {}
     },
     "b07aaafdfe6949ba98a37c52e5ee751b": {
      "model_module": "@jupyter-widgets/controls",
      "model_module_version": "2.0.0",
      "model_name": "SliderStyleModel",
      "state": {
       "description_width": ""
      }
     },
     "b0ac98cf7be7481eaed3efdefcc16dde": {
      "model_module": "@jupyter-widgets/output",
      "model_module_version": "1.0.0",
      "model_name": "OutputModel",
      "state": {
       "layout": "IPY_MODEL_9bc39ce33fbf4e77b9f73544a233c310"
      }
     },
     "b0b72669f29143da9088bdd9c69d9877": {
      "model_module": "@jupyter-widgets/base",
      "model_module_version": "2.0.0",
      "model_name": "LayoutModel",
      "state": {}
     },
     "b0d03e7867f244bd8ca8515966a5d7d1": {
      "model_module": "@jupyter-widgets/base",
      "model_module_version": "2.0.0",
      "model_name": "LayoutModel",
      "state": {}
     },
     "b0d6a39815c14f23822cb0737882e64d": {
      "model_module": "@jupyter-widgets/controls",
      "model_module_version": "2.0.0",
      "model_name": "LabelStyleModel",
      "state": {
       "description_width": "",
       "font_family": "Courier",
       "font_size": null,
       "font_style": null,
       "font_variant": null,
       "font_weight": null,
       "text_color": null,
       "text_decoration": null
      }
     },
     "b0e34503cb2b4ede9ccf388b3033ac9c": {
      "model_module": "@jupyter-widgets/base",
      "model_module_version": "2.0.0",
      "model_name": "LayoutModel",
      "state": {}
     },
     "b0f2f0eb92f14354bfa8331de222264f": {
      "model_module": "@jupyter-widgets/base",
      "model_module_version": "2.0.0",
      "model_name": "LayoutModel",
      "state": {}
     },
     "b0f6f01b55894466b8dd63ee6a9caf79": {
      "model_module": "@jupyter-widgets/controls",
      "model_module_version": "2.0.0",
      "model_name": "IntSliderModel",
      "state": {
       "behavior": "drag-tap",
       "description": "radius",
       "layout": "IPY_MODEL_3c85bd4ca013479b9b8ebe5f0e20d070",
       "style": "IPY_MODEL_0508dbfa1afe486693623bac7a7eadf4"
      }
     },
     "b0f6f77e4c844ef6b523322849582e89": {
      "model_module": "@jupyter-widgets/controls",
      "model_module_version": "2.0.0",
      "model_name": "SliderStyleModel",
      "state": {
       "description_width": ""
      }
     },
     "b1136fadc3f548c4bb73f08e49525f19": {
      "model_module": "@jupyter-widgets/controls",
      "model_module_version": "2.0.0",
      "model_name": "DropdownModel",
      "state": {
       "_options_labels": [
        "no_image",
        "image1",
        "image2",
        "image3",
        "blobs",
        "binary",
        "labels",
        "dilated_labels"
       ],
       "description": "label_image",
       "index": 0,
       "layout": "IPY_MODEL_5dede81ee47c41af9b95f1cc41f66e25",
       "style": "IPY_MODEL_2c5a1f0fe3dc49918107296bf96fb244"
      }
     },
     "b12c06421d8f40438056e495c3433f51": {
      "model_module": "@jupyter-widgets/controls",
      "model_module_version": "2.0.0",
      "model_name": "DropdownModel",
      "state": {
       "_options_labels": [
        "no_image",
        "image1",
        "image2",
        "image3",
        "blobs",
        "binary",
        "labels",
        "dilated_labels"
       ],
       "description": "labels_input",
       "index": 0,
       "layout": "IPY_MODEL_42eab5d080084eadb0b05617033de208",
       "style": "IPY_MODEL_42545d717dc642469153b28fa02bb2f4"
      }
     },
     "b15a64cf6c8346d8a83218840a98660c": {
      "model_module": "@jupyter-widgets/controls",
      "model_module_version": "2.0.0",
      "model_name": "FloatSliderModel",
      "state": {
       "behavior": "drag-tap",
       "description": "variance_x",
       "layout": "IPY_MODEL_810e598c63ba45e9ae005a464a0887c4",
       "step": null,
       "style": "IPY_MODEL_0fb9b0a8ea8a418fbdec68e78d396ab7",
       "value": 1
      }
     },
     "b16fd54f7deb4b468591eaf44899adfa": {
      "model_module": "@jupyter-widgets/base",
      "model_module_version": "2.0.0",
      "model_name": "LayoutModel",
      "state": {}
     },
     "b1719925d33a4825864430a204c2bc78": {
      "model_module": "@jupyter-widgets/controls",
      "model_module_version": "2.0.0",
      "model_name": "LabelModel",
      "state": {
       "layout": "IPY_MODEL_b5e169b2555146f9a2d0508500b28471",
       "style": "IPY_MODEL_1f52256292de4986b185da377769b51c",
       "value": "nsitk.simple_linear_iterative_clustering( image=no_image, maximum_number_of_iterations=5, spatial_proximity_weight=10.0, grid_size_x=50, grid_size_y=50, grid_size_z=50)"
      }
     },
     "b1abbf9330f843cc8022b07dfe83d2b0": {
      "model_module": "@jupyter-widgets/controls",
      "model_module_version": "2.0.0",
      "model_name": "VBoxModel",
      "state": {
       "_dom_classes": [
        "widget-interact"
       ],
       "children": [
        "IPY_MODEL_237e5d1912954e869acf132099fc1118",
        "IPY_MODEL_a362489ad7fb4b37aa55cda577c991e0",
        "IPY_MODEL_b6e03ef5711442ee9e6b10fdaf7d017e"
       ],
       "layout": "IPY_MODEL_cd96b06c32cd4edca1e559cd4afedff7"
      }
     },
     "b1bca470e16d4fc1b5e89e27ce939a15": {
      "model_module": "@jupyter-widgets/base",
      "model_module_version": "2.0.0",
      "model_name": "LayoutModel",
      "state": {}
     },
     "b1e60a425db642d1b555bc0312c24772": {
      "model_module": "@jupyter-widgets/controls",
      "model_module_version": "2.0.0",
      "model_name": "DropdownModel",
      "state": {
       "_options_labels": [
        "no_image",
        "image1",
        "image2",
        "image3",
        "blobs",
        "binary",
        "labels",
        "dilated_labels"
       ],
       "description": "binary_image",
       "index": 0,
       "layout": "IPY_MODEL_391cba1858e64e29bfd554f9481d7313",
       "style": "IPY_MODEL_efff515ef897477d94e2b3c3e1412e42"
      }
     },
     "b1eee78f25d04d118bdfca2aaf5a1e00": {
      "model_module": "@jupyter-widgets/base",
      "model_module_version": "2.0.0",
      "model_name": "LayoutModel",
      "state": {}
     },
     "b1fa3e52fc1342c495b54da674a369b0": {
      "model_module": "@jupyter-widgets/controls",
      "model_module_version": "2.0.0",
      "model_name": "FloatSliderModel",
      "state": {
       "behavior": "drag-tap",
       "description": "sigma",
       "layout": "IPY_MODEL_d3ff5fc3385745d5987e459d78f8324e",
       "max": 25,
       "style": "IPY_MODEL_afc3a245c6c54ad7984649356115087d",
       "value": 1
      }
     },
     "b200b465eedd48bfa944080836b01ef6": {
      "model_module": "@jupyter-widgets/controls",
      "model_module_version": "2.0.0",
      "model_name": "DropdownModel",
      "state": {
       "_options_labels": [
        "no_image",
        "image1",
        "image2",
        "image3",
        "blobs",
        "binary",
        "labels",
        "dilated_labels"
       ],
       "description": "image",
       "index": 0,
       "layout": "IPY_MODEL_4b765f7d47b341ce8c2a8fede14a5c64",
       "style": "IPY_MODEL_c7af588d96cd45f08a5e91739b6e5368"
      }
     },
     "b20560930281417ab6a45df47a1d40cb": {
      "model_module": "@jupyter-widgets/base",
      "model_module_version": "2.0.0",
      "model_name": "LayoutModel",
      "state": {}
     },
     "b209d7ee24f24713a0cb54eb92b8973d": {
      "model_module": "@jupyter-widgets/controls",
      "model_module_version": "2.0.0",
      "model_name": "SliderStyleModel",
      "state": {
       "description_width": ""
      }
     },
     "b214b50ac6d74c18a065111c9e5d0b5f": {
      "model_module": "@jupyter-widgets/controls",
      "model_module_version": "2.0.0",
      "model_name": "DropdownModel",
      "state": {
       "_options_labels": [
        "no_image",
        "image1",
        "image2",
        "image3",
        "blobs",
        "binary",
        "labels",
        "dilated_labels"
       ],
       "description": "binary_image",
       "index": 0,
       "layout": "IPY_MODEL_1dc2839cf9e2445fbe63c455d4649a1c",
       "style": "IPY_MODEL_fe43d890f0e3422497e333e5f3c10031"
      }
     },
     "b2295a3bd6ab413b82a8d4d93f098dac": {
      "model_module": "@jupyter-widgets/output",
      "model_module_version": "1.0.0",
      "model_name": "OutputModel",
      "state": {
       "layout": "IPY_MODEL_4c3c6f9d19cb41bfa9f980993cd92c9a"
      }
     },
     "b231555bd78740eba30ed6850a3313ea": {
      "model_module": "@jupyter-widgets/controls",
      "model_module_version": "2.0.0",
      "model_name": "LabelStyleModel",
      "state": {
       "description_width": "",
       "font_family": "Courier",
       "font_size": null,
       "font_style": null,
       "font_variant": null,
       "font_weight": null,
       "text_color": null,
       "text_decoration": null
      }
     },
     "b2475481d1a342e78445a06dc55febc7": {
      "model_module": "@jupyter-widgets/base",
      "model_module_version": "2.0.0",
      "model_name": "LayoutModel",
      "state": {}
     },
     "b25808e3446f407899ec70e8b6e26d67": {
      "model_module": "@jupyter-widgets/controls",
      "model_module_version": "2.0.0",
      "model_name": "DropdownModel",
      "state": {
       "_options_labels": [
        "no_image",
        "image1",
        "image2",
        "image3",
        "blobs",
        "binary",
        "labels",
        "dilated_labels"
       ],
       "description": "mask",
       "index": 0,
       "layout": "IPY_MODEL_8e507f6a79f64c4d87fa94499d2251ab",
       "style": "IPY_MODEL_6a2baddcc8cd45b29382826ae97f2262"
      }
     },
     "b25d53e8c3b34ad8a3933552714541ba": {
      "model_module": "@jupyter-widgets/base",
      "model_module_version": "2.0.0",
      "model_name": "LayoutModel",
      "state": {
       "display": "none"
      }
     },
     "b27e70732bda48c3bef73b9fb0142e3f": {
      "model_module": "@jupyter-widgets/base",
      "model_module_version": "2.0.0",
      "model_name": "LayoutModel",
      "state": {}
     },
     "b2c1d2a453a9441fb59618bd32f7b6a0": {
      "model_module": "@jupyter-widgets/controls",
      "model_module_version": "2.0.0",
      "model_name": "LabelModel",
      "state": {
       "layout": "IPY_MODEL_66937c8c2afc4a58803da4225703a103",
       "style": "IPY_MODEL_acf610f4ce454c55bab84b8cd9520652",
       "value": "nsbatwm.expand_labels( label_image=no_image, distance=1.0)"
      }
     },
     "b2c525133a4247d181f5ecabc80652c5": {
      "model_module": "@jupyter-widgets/base",
      "model_module_version": "2.0.0",
      "model_name": "LayoutModel",
      "state": {}
     },
     "b2c97e7d4dd44d72aa047e0419564a50": {
      "model_module": "@jupyter-widgets/controls",
      "model_module_version": "2.0.0",
      "model_name": "DescriptionStyleModel",
      "state": {
       "description_width": ""
      }
     },
     "b2e0e4e6df7a454e945acbdc15d2f0e3": {
      "model_module": "@jupyter-widgets/controls",
      "model_module_version": "2.0.0",
      "model_name": "DescriptionStyleModel",
      "state": {
       "description_width": ""
      }
     },
     "b2e859eb927f4a61bc5e6d14028fa149": {
      "model_module": "@jupyter-widgets/base",
      "model_module_version": "2.0.0",
      "model_name": "LayoutModel",
      "state": {
       "display": "none"
      }
     },
     "b2f8dc69eeaf4073af9df8772090ccf7": {
      "model_module": "@jupyter-widgets/controls",
      "model_module_version": "2.0.0",
      "model_name": "DropdownModel",
      "state": {
       "_options_labels": [
        "no_image",
        "image1",
        "image2",
        "image3",
        "blobs",
        "binary",
        "labels",
        "dilated_labels"
       ],
       "description": "mask",
       "index": 0,
       "layout": "IPY_MODEL_3a9ae7859a3f43278d98fdba154a8e6f",
       "style": "IPY_MODEL_a817f7ec43b949efb326017d9b4625db"
      }
     },
     "b2fcf3571463415db6711abcfe3d7685": {
      "model_module": "@jupyter-widgets/base",
      "model_module_version": "2.0.0",
      "model_name": "LayoutModel",
      "state": {}
     },
     "b311dbd4783d49519f8c697bf981ac70": {
      "model_module": "@jupyter-widgets/controls",
      "model_module_version": "2.0.0",
      "model_name": "SliderStyleModel",
      "state": {
       "description_width": ""
      }
     },
     "b31c47b6448241afa7e7564ad935520e": {
      "model_module": "@jupyter-widgets/base",
      "model_module_version": "2.0.0",
      "model_name": "LayoutModel",
      "state": {}
     },
     "b323e844caeb4b638708895fa3143ada": {
      "model_module": "@jupyter-widgets/base",
      "model_module_version": "2.0.0",
      "model_name": "LayoutModel",
      "state": {}
     },
     "b3257625b13d42e6b3f2fd295f384ae7": {
      "model_module": "@jupyter-widgets/controls",
      "model_module_version": "2.0.0",
      "model_name": "LabelModel",
      "state": {
       "layout": "IPY_MODEL_c31119b1ae0a4e5493dfbe9eefe4e6a2",
       "style": "IPY_MODEL_2b36c05bf23f451786e9c9614313aabc",
       "value": "skfilters.farid_h( image=no_image, mask=no_image)"
      }
     },
     "b32e835c79664fbd8a5dd2b73f8fefea": {
      "model_module": "@jupyter-widgets/controls",
      "model_module_version": "2.0.0",
      "model_name": "LabelModel",
      "state": {
       "layout": "IPY_MODEL_64bb17502b214d3788abe674631bf70e",
       "style": "IPY_MODEL_c0e7ea64c34044ae9bce09569e4cc01d",
       "value": "nsbatwm.butterworth( image=no_image, cutoff_frequency_ratio=0.005, high_pass=False, order=2.0)"
      }
     },
     "b3308111fccf44d4b799bf43cde0a53e": {
      "model_module": "@jupyter-widgets/controls",
      "model_module_version": "2.0.0",
      "model_name": "DropdownModel",
      "state": {
       "_options_labels": [
        "no_image",
        "image1",
        "image2",
        "image3",
        "blobs",
        "binary",
        "labels",
        "dilated_labels"
       ],
       "description": "usemask",
       "index": 0,
       "layout": "IPY_MODEL_b323e844caeb4b638708895fa3143ada",
       "style": "IPY_MODEL_9563d31c82f540ffa12485749961b659"
      }
     },
     "b35a51c8097a4af197042b77c2d1cf63": {
      "model_module": "@jupyter-widgets/output",
      "model_module_version": "1.0.0",
      "model_name": "OutputModel",
      "state": {
       "layout": "IPY_MODEL_f8e69e310557409caea8818ad2d75336"
      }
     },
     "b394b42138a742ca9c23708d6705efc4": {
      "model_module": "@jupyter-widgets/controls",
      "model_module_version": "2.0.0",
      "model_name": "VBoxModel",
      "state": {
       "children": [
        "IPY_MODEL_3b75579aa0574ceb87606668801376e6",
        "IPY_MODEL_5e16380f66ff4f5e93be02735bdbe608"
       ],
       "layout": "IPY_MODEL_7beb51a64ba4446f8725e212b653fb8e"
      }
     },
     "b3c3795f72174d88b565248886ad2c0c": {
      "model_module": "@jupyter-widgets/base",
      "model_module_version": "2.0.0",
      "model_name": "LayoutModel",
      "state": {}
     },
     "b3cb0d79373e463da17843b572c5f27d": {
      "model_module": "@jupyter-widgets/controls",
      "model_module_version": "2.0.0",
      "model_name": "DropdownModel",
      "state": {
       "_options_labels": [
        "no_image",
        "image1",
        "image2",
        "image3",
        "blobs",
        "binary",
        "labels",
        "dilated_labels"
       ],
       "description": "mask",
       "index": 0,
       "layout": "IPY_MODEL_46c85ff530f7439b9f257743b9c1e1a9",
       "style": "IPY_MODEL_8a2ab3fcccde42049656ca7620c2b0e4"
      }
     },
     "b3d86d8eac254c0db31717446f40e788": {
      "model_module": "@jupyter-widgets/base",
      "model_module_version": "2.0.0",
      "model_name": "LayoutModel",
      "state": {}
     },
     "b4414dccb24648fbb14971149aa9584a": {
      "model_module": "@jupyter-widgets/controls",
      "model_module_version": "2.0.0",
      "model_name": "LabelModel",
      "state": {
       "layout": "IPY_MODEL_0416e94fc01a40f1bbd185d43030937d",
       "style": "IPY_MODEL_4fc063a7f36045c89bf234f7471efbc6",
       "value": "skfilters.threshold_niblack( image=no_image)"
      }
     },
     "b46fc484859140c5b6e3915a1e4ed539": {
      "model_module": "@jupyter-widgets/base",
      "model_module_version": "2.0.0",
      "model_name": "LayoutModel",
      "state": {}
     },
     "b47c1e6a98034948a9669e97e6c92d91": {
      "model_module": "@jupyter-widgets/base",
      "model_module_version": "2.0.0",
      "model_name": "LayoutModel",
      "state": {}
     },
     "b47cb4ab2d25435fbfee4c563264fcb2": {
      "model_module": "@jupyter-widgets/base",
      "model_module_version": "2.0.0",
      "model_name": "LayoutModel",
      "state": {}
     },
     "b4ad999a71b448b0b821323db9768276": {
      "model_module": "@jupyter-widgets/controls",
      "model_module_version": "2.0.0",
      "model_name": "LabelModel",
      "state": {
       "layout": "IPY_MODEL_743c2fff48bf46b3877486ab8950499a",
       "style": "IPY_MODEL_0a1729d62b084e928ddda6bb362a8be0",
       "value": "skfilters.roberts_neg_diag( image=no_image, mask=no_image)"
      }
     },
     "b4b0fb3335704dac816dd202ec027064": {
      "model_module": "@jupyter-widgets/controls",
      "model_module_version": "2.0.0",
      "model_name": "VBoxModel",
      "state": {
       "_dom_classes": [
        "widget-interact"
       ],
       "children": [
        "IPY_MODEL_05b355836d3a45f1b7856660d38fb54c",
        "IPY_MODEL_02c4f397ae7e41c39430b971f7682343"
       ],
       "layout": "IPY_MODEL_fa697f4cb79d44158da56aa61d2b4c72"
      }
     },
     "b4cfa3aa0ed04fadb9db9400e664035b": {
      "model_module": "@jupyter-widgets/base",
      "model_module_version": "2.0.0",
      "model_name": "LayoutModel",
      "state": {
       "display": "none"
      }
     },
     "b4e3f43246cf4acfb1839c9ebf8b3836": {
      "model_module": "@jupyter-widgets/base",
      "model_module_version": "2.0.0",
      "model_name": "LayoutModel",
      "state": {}
     },
     "b4f442078b1e4712894b4d20fbf7df25": {
      "model_module": "@jupyter-widgets/output",
      "model_module_version": "1.0.0",
      "model_name": "OutputModel",
      "state": {
       "layout": "IPY_MODEL_53c04c56203548d4be6eb10bd62308e1"
      }
     },
     "b4faf6f7107f41eb831712224032ba7e": {
      "model_module": "@jupyter-widgets/controls",
      "model_module_version": "2.0.0",
      "model_name": "VBoxModel",
      "state": {
       "children": [
        "IPY_MODEL_37e39ea70bd74898bf4032da47a9b372",
        "IPY_MODEL_a5249dd5fe864964966218f9e6a8d1f9"
       ],
       "layout": "IPY_MODEL_0e79756537364ee7a800f49399fdb8c1"
      }
     },
     "b5363d6fb9e443f5a6bb14c30b4592f2": {
      "model_module": "@jupyter-widgets/controls",
      "model_module_version": "2.0.0",
      "model_name": "DescriptionStyleModel",
      "state": {
       "description_width": ""
      }
     },
     "b53b8a16f10e4b2c8f0320d27b9f7a1b": {
      "model_module": "@jupyter-widgets/base",
      "model_module_version": "2.0.0",
      "model_name": "LayoutModel",
      "state": {}
     },
     "b558c39bbe704ca4b5735be7160ab8c1": {
      "model_module": "@jupyter-widgets/controls",
      "model_module_version": "2.0.0",
      "model_name": "VBoxModel",
      "state": {
       "_dom_classes": [
        "widget-interact"
       ],
       "children": [
        "IPY_MODEL_3b91d5711c7f4f979866ff756f8498cf",
        "IPY_MODEL_0d731777169a4f99917f375c006812ab",
        "IPY_MODEL_3e361838716c499db67d88bd1f5d3776"
       ],
       "layout": "IPY_MODEL_759c679b11eb41fdb387eb119df638a7"
      }
     },
     "b56d8b93b4264703b338311213de32cd": {
      "model_module": "@jupyter-widgets/controls",
      "model_module_version": "2.0.0",
      "model_name": "VBoxModel",
      "state": {
       "_dom_classes": [
        "widget-interact"
       ],
       "children": [
        "IPY_MODEL_7995585ced61469f86c5998cacaa7451",
        "IPY_MODEL_c25c344ea6364097bdc24604a16e8242"
       ],
       "layout": "IPY_MODEL_d37d511a41ae405db206d8dfef1e7f08"
      }
     },
     "b5724158777e4f24918ce97eedef47de": {
      "model_module": "@jupyter-widgets/base",
      "model_module_version": "2.0.0",
      "model_name": "LayoutModel",
      "state": {}
     },
     "b583aabac8de4ca89d269e208ad4384c": {
      "model_module": "@jupyter-widgets/controls",
      "model_module_version": "2.0.0",
      "model_name": "LabelStyleModel",
      "state": {
       "description_width": "",
       "font_family": "Courier",
       "font_size": null,
       "font_style": null,
       "font_variant": null,
       "font_weight": null,
       "text_color": null,
       "text_decoration": null
      }
     },
     "b590b1af859d4964a19c9a1e0b2a51d2": {
      "model_module": "@jupyter-widgets/base",
      "model_module_version": "2.0.0",
      "model_name": "LayoutModel",
      "state": {}
     },
     "b5e169b2555146f9a2d0508500b28471": {
      "model_module": "@jupyter-widgets/base",
      "model_module_version": "2.0.0",
      "model_name": "LayoutModel",
      "state": {}
     },
     "b5e242e8899840d4b522ac014953da47": {
      "model_module": "@jupyter-widgets/controls",
      "model_module_version": "2.0.0",
      "model_name": "LabelStyleModel",
      "state": {
       "description_width": "",
       "font_family": "Courier",
       "font_size": null,
       "font_style": null,
       "font_variant": null,
       "font_weight": null,
       "text_color": null,
       "text_decoration": null
      }
     },
     "b5f0cfc581bb409b8044d0d20afa8323": {
      "model_module": "@jupyter-widgets/base",
      "model_module_version": "2.0.0",
      "model_name": "LayoutModel",
      "state": {
       "display": "none"
      }
     },
     "b5fcc289401a4c1a9f2bcf6763babe65": {
      "model_module": "@jupyter-widgets/controls",
      "model_module_version": "2.0.0",
      "model_name": "SliderStyleModel",
      "state": {
       "description_width": ""
      }
     },
     "b602444268b84ab9b6f5f6b3ecf79e33": {
      "model_module": "@jupyter-widgets/base",
      "model_module_version": "2.0.0",
      "model_name": "LayoutModel",
      "state": {}
     },
     "b617a7c1b0144867b4bbe599e59d323f": {
      "model_module": "@jupyter-widgets/base",
      "model_module_version": "2.0.0",
      "model_name": "LayoutModel",
      "state": {
       "display": "none"
      }
     },
     "b61b2a22cad743049e659c8661e02e81": {
      "model_module": "@jupyter-widgets/base",
      "model_module_version": "2.0.0",
      "model_name": "LayoutModel",
      "state": {}
     },
     "b6204a83f31446c89014f906f499f0c8": {
      "model_module": "@jupyter-widgets/controls",
      "model_module_version": "2.0.0",
      "model_name": "VBoxModel",
      "state": {
       "children": [
        "IPY_MODEL_c0ee1d91382f45f885ee734a6640180e",
        "IPY_MODEL_2744e572b06e4f9f948dce97b8d21d4a"
       ],
       "layout": "IPY_MODEL_da4daef0a8094ce284b0f733776afa0a"
      }
     },
     "b6547a5dd02048289600b535f6aeb7e3": {
      "model_module": "@jupyter-widgets/base",
      "model_module_version": "2.0.0",
      "model_name": "LayoutModel",
      "state": {}
     },
     "b660b8a906d249d381dab01d948295a3": {
      "model_module": "@jupyter-widgets/base",
      "model_module_version": "2.0.0",
      "model_name": "LayoutModel",
      "state": {}
     },
     "b660fb9563bc4053970b4d3a70b7725c": {
      "model_module": "@jupyter-widgets/controls",
      "model_module_version": "2.0.0",
      "model_name": "VBoxModel",
      "state": {
       "_dom_classes": [
        "widget-interact"
       ],
       "children": [
        "IPY_MODEL_46e2b745b1a54809933619be2ea193da",
        "IPY_MODEL_fcf90fd1382e42a2b94a549500e05413",
        "IPY_MODEL_2c807c5ea3aa45eba236bb1a1c7f1e4c"
       ],
       "layout": "IPY_MODEL_ede915ed1a5b45d7aa3fb1d44e14134a"
      }
     },
     "b663202c8dbd43d2aef7dc95d39fe175": {
      "model_module": "@jupyter-widgets/controls",
      "model_module_version": "2.0.0",
      "model_name": "SliderStyleModel",
      "state": {
       "description_width": ""
      }
     },
     "b691a2d848ae408a889c737f5d675272": {
      "model_module": "@jupyter-widgets/controls",
      "model_module_version": "2.0.0",
      "model_name": "DropdownModel",
      "state": {
       "_options_labels": [
        "no_image",
        "image1",
        "image2",
        "image3",
        "blobs",
        "binary",
        "labels",
        "dilated_labels"
       ],
       "description": "distance_image",
       "index": 0,
       "layout": "IPY_MODEL_6d167fc213344d9ab496c15afb9e8546",
       "style": "IPY_MODEL_ef6cd3224f37436faaa15e7b2bea2293"
      }
     },
     "b6ad3812806540dc81d1182448676927": {
      "model_module": "@jupyter-widgets/controls",
      "model_module_version": "2.0.0",
      "model_name": "LabelModel",
      "state": {
       "layout": "IPY_MODEL_8bf24a9f1a7f4073a15fad09cd1bda18",
       "style": "IPY_MODEL_154e457380134115ab79285779b2844e",
       "value": "eroded_otsu_labeling( image=no_image, number_of_erosions=5, outline_sigma=2.0)"
      }
     },
     "b6e03ef5711442ee9e6b10fdaf7d017e": {
      "model_module": "@jupyter-widgets/output",
      "model_module_version": "1.0.0",
      "model_name": "OutputModel",
      "state": {
       "layout": "IPY_MODEL_53bf971d94964551b40a26d5f58ae383"
      }
     },
     "b701540bfc7747e6abcb846248a13de6": {
      "model_module": "@jupyter-widgets/controls",
      "model_module_version": "2.0.0",
      "model_name": "DescriptionStyleModel",
      "state": {
       "description_width": ""
      }
     },
     "b73518eb389f48998fbbfbf489c8e7a7": {
      "model_module": "@jupyter-widgets/base",
      "model_module_version": "2.0.0",
      "model_name": "LayoutModel",
      "state": {}
     },
     "b7410411c7424c658f26ee876814eb89": {
      "model_module": "@jupyter-widgets/controls",
      "model_module_version": "2.0.0",
      "model_name": "DescriptionStyleModel",
      "state": {
       "description_width": ""
      }
     },
     "b75e7f0ca60f441e9fc42706e1df8e66": {
      "model_module": "@jupyter-widgets/base",
      "model_module_version": "2.0.0",
      "model_name": "LayoutModel",
      "state": {}
     },
     "b762a30660ab4c1fb7f28722dfedf42a": {
      "model_module": "@jupyter-widgets/controls",
      "model_module_version": "2.0.0",
      "model_name": "LabelModel",
      "state": {
       "layout": "IPY_MODEL_0aea3cde936b4b518cdeeb42e32edfa2",
       "style": "IPY_MODEL_85a6b1f54c5a42dc931c83337eddd40f",
       "value": "nsbatwm.connected_component_labeling( binary_image=no_image, exclude_on_edges=False)"
      }
     },
     "b7c380607919493f884cf59b1ea946ec": {
      "model_module": "@jupyter-widgets/base",
      "model_module_version": "2.0.0",
      "model_name": "LayoutModel",
      "state": {}
     },
     "b80a0b3b5d5a457586bbb79e7fa95725": {
      "model_module": "@jupyter-widgets/base",
      "model_module_version": "2.0.0",
      "model_name": "LayoutModel",
      "state": {
       "display": "none"
      }
     },
     "b81f89e6f89d447488577da83c5b26d6": {
      "model_module": "@jupyter-widgets/controls",
      "model_module_version": "2.0.0",
      "model_name": "VBoxModel",
      "state": {
       "children": [
        "IPY_MODEL_93cfb1751d2145b691da62aa83e5e025",
        "IPY_MODEL_92ca331fd83943d2b96ad86058d0e54e"
       ],
       "layout": "IPY_MODEL_26e34214ec9f4a50910731dca4c3015d"
      }
     },
     "b861647003284b75a78632a14cc40fc7": {
      "model_module": "@jupyter-widgets/controls",
      "model_module_version": "2.0.0",
      "model_name": "LabelModel",
      "state": {
       "layout": "IPY_MODEL_d9b7c78bfa604a678f01c3d693df6b27",
       "style": "IPY_MODEL_ae3fc5977e514293bf67ad329379f4c7",
       "value": "nsbatwm.voronoi_otsu_labeling( image=no_image, spot_sigma=2.0, outline_sigma=2.0)"
      }
     },
     "b867ff4a314d432fb3c340e1a24b62ee": {
      "model_module": "@jupyter-widgets/output",
      "model_module_version": "1.0.0",
      "model_name": "OutputModel",
      "state": {
       "layout": "IPY_MODEL_290704655cb14aa3bb6d4d43b636c565"
      }
     },
     "b86a27fa0b504bb4adeb8bde0335fa47": {
      "model_module": "@jupyter-widgets/base",
      "model_module_version": "2.0.0",
      "model_name": "LayoutModel",
      "state": {}
     },
     "b877119c456f487cb87dda128dd540b4": {
      "model_module": "@jupyter-widgets/controls",
      "model_module_version": "2.0.0",
      "model_name": "LabelModel",
      "state": {
       "layout": "IPY_MODEL_95b4560f57f64aad8bb04cc2bb04cd1c",
       "style": "IPY_MODEL_351829b3bafc49c096ee12f289e60402",
       "value": "nsbatwm.invert_image( image=no_image)"
      }
     },
     "b888913a99e54bb4982f17c42b8f0188": {
      "model_module": "@jupyter-widgets/controls",
      "model_module_version": "2.0.0",
      "model_name": "LabelStyleModel",
      "state": {
       "description_width": "",
       "font_family": "Courier",
       "font_size": null,
       "font_style": null,
       "font_variant": null,
       "font_weight": null,
       "text_color": null,
       "text_decoration": null
      }
     },
     "b88b711c98cf48cabf62c2711197cf57": {
      "model_module": "@jupyter-widgets/controls",
      "model_module_version": "2.0.0",
      "model_name": "LabelStyleModel",
      "state": {
       "description_width": "",
       "font_family": "Courier",
       "font_size": null,
       "font_style": null,
       "font_variant": null,
       "font_weight": null,
       "text_color": null,
       "text_decoration": null
      }
     },
     "b88dbdcb46134f6b8a7b269057fb47e7": {
      "model_module": "@jupyter-widgets/controls",
      "model_module_version": "2.0.0",
      "model_name": "DescriptionStyleModel",
      "state": {
       "description_width": ""
      }
     },
     "b8d7d480b70640c5ab73f741a165e681": {
      "model_module": "@jupyter-widgets/output",
      "model_module_version": "1.0.0",
      "model_name": "OutputModel",
      "state": {
       "layout": "IPY_MODEL_b2c525133a4247d181f5ecabc80652c5"
      }
     },
     "b9725691187b49ffab70fb25246ba9ba": {
      "model_module": "@jupyter-widgets/controls",
      "model_module_version": "2.0.0",
      "model_name": "VBoxModel",
      "state": {
       "_dom_classes": [
        "widget-interact"
       ],
       "children": [
        "IPY_MODEL_d9351cc202f64a68980739ffbaf629f6",
        "IPY_MODEL_2057572c991c4eb19ded30b6a6f7e560",
        "IPY_MODEL_734fe6b7679d43959531ba3f924ae466",
        "IPY_MODEL_61e487626a7140ebafd1f0c6c6681c3f"
       ],
       "layout": "IPY_MODEL_422dc7b8c29248d8a8421ad8be792952"
      }
     },
     "b9d776ca14fc455097b53537abda66a9": {
      "model_module": "@jupyter-widgets/controls",
      "model_module_version": "2.0.0",
      "model_name": "SliderStyleModel",
      "state": {
       "description_width": ""
      }
     },
     "b9e0fbc093ac42b1b7a6c40f656631ff": {
      "model_module": "@jupyter-widgets/controls",
      "model_module_version": "2.0.0",
      "model_name": "SliderStyleModel",
      "state": {
       "description_width": ""
      }
     },
     "b9ee2e6a31ec4b3599d84e91e19c928b": {
      "model_module": "@jupyter-widgets/controls",
      "model_module_version": "2.0.0",
      "model_name": "LabelModel",
      "state": {
       "layout": "IPY_MODEL_7070fbc476064e76b6b317d7d67f00f2",
       "style": "IPY_MODEL_643d367712e34c28809467fe1a6ca167",
       "value": "nsitk.wiener_deconvolution( image=no_image, kernel=no_image, noise_variance=0.0)"
      }
     },
     "b9f30d9a14d34f218dad9a03a550ec7e": {
      "model_module": "@jupyter-widgets/controls",
      "model_module_version": "2.0.0",
      "model_name": "VBoxModel",
      "state": {
       "_dom_classes": [
        "widget-interact"
       ],
       "children": [
        "IPY_MODEL_0c095a98759844dd9500ad463b61ec58",
        "IPY_MODEL_dc113271ec0f4ff28d7e37da5986857e",
        "IPY_MODEL_3b0abe30d5b44a28b56acc1c57ee1f6e",
        "IPY_MODEL_abc455718674454a9836c354aaf57da7",
        "IPY_MODEL_4b8d651e402145efb13b28f902084f20",
        "IPY_MODEL_bb16270c946e4f679dba5a28f0d46669",
        "IPY_MODEL_214d843fe4644addb6deb9022f7c8675"
       ],
       "layout": "IPY_MODEL_af84345ce83d48a4b3b7f4a81384a44b"
      }
     },
     "ba20ebb853b54e31acaec7120317a190": {
      "model_module": "@jupyter-widgets/base",
      "model_module_version": "2.0.0",
      "model_name": "LayoutModel",
      "state": {}
     },
     "ba7db0fe87d34bd6a4b4da48653ee158": {
      "model_module": "@jupyter-widgets/base",
      "model_module_version": "2.0.0",
      "model_name": "LayoutModel",
      "state": {}
     },
     "bae039d5e7c548e195a62a86800d56ec": {
      "model_module": "@jupyter-widgets/controls",
      "model_module_version": "2.0.0",
      "model_name": "LabelStyleModel",
      "state": {
       "description_width": "",
       "font_family": "Courier",
       "font_size": null,
       "font_style": null,
       "font_variant": null,
       "font_weight": null,
       "text_color": null,
       "text_decoration": null
      }
     },
     "bae349378d4f4882aec7a1f057062c82": {
      "model_module": "@jupyter-widgets/controls",
      "model_module_version": "2.0.0",
      "model_name": "SliderStyleModel",
      "state": {
       "description_width": ""
      }
     },
     "bb00b8ae236b452b8e6b452804ce3761": {
      "model_module": "@jupyter-widgets/base",
      "model_module_version": "2.0.0",
      "model_name": "LayoutModel",
      "state": {}
     },
     "bb134fa5d89c4c5db6f116e0687e679e": {
      "model_module": "@jupyter-widgets/controls",
      "model_module_version": "2.0.0",
      "model_name": "DescriptionStyleModel",
      "state": {
       "description_width": ""
      }
     },
     "bb16270c946e4f679dba5a28f0d46669": {
      "model_module": "@jupyter-widgets/controls",
      "model_module_version": "2.0.0",
      "model_name": "IntSliderModel",
      "state": {
       "behavior": "drag-tap",
       "description": "radius_z",
       "layout": "IPY_MODEL_4a85b9df3c3241d3968504257e4f9dcd",
       "style": "IPY_MODEL_808b4ea32ac54e7ea1017675789e73ba",
       "value": 5
      }
     },
     "bb3219c2218e447798b4b8cea08a847e": {
      "model_module": "@jupyter-widgets/controls",
      "model_module_version": "2.0.0",
      "model_name": "SliderStyleModel",
      "state": {
       "description_width": ""
      }
     },
     "bb40f82b67ed4b1b951d780174e8f6f0": {
      "model_module": "@jupyter-widgets/controls",
      "model_module_version": "2.0.0",
      "model_name": "LabelStyleModel",
      "state": {
       "description_width": "",
       "font_family": "Courier",
       "font_size": null,
       "font_style": null,
       "font_variant": null,
       "font_weight": null,
       "text_color": null,
       "text_decoration": null
      }
     },
     "bc0c6389c5c24f53b7951fc4effbfa13": {
      "model_module": "@jupyter-widgets/base",
      "model_module_version": "2.0.0",
      "model_name": "LayoutModel",
      "state": {}
     },
     "bc1047ce5c3648799b131ecbe104d6cf": {
      "model_module": "@jupyter-widgets/base",
      "model_module_version": "2.0.0",
      "model_name": "LayoutModel",
      "state": {}
     },
     "bc3a6b3e63f547dd9d3e359cfe5475b4": {
      "model_module": "@jupyter-widgets/base",
      "model_module_version": "2.0.0",
      "model_name": "LayoutModel",
      "state": {}
     },
     "bc6e6e235ea847928e4e02bb4a852470": {
      "model_module": "@jupyter-widgets/controls",
      "model_module_version": "2.0.0",
      "model_name": "VBoxModel",
      "state": {
       "_dom_classes": [
        "widget-interact"
       ],
       "children": [
        "IPY_MODEL_2e02e653a8e943c6aae1c179a6425c19",
        "IPY_MODEL_99db29833eb34531a9d49af223d33c20"
       ],
       "layout": "IPY_MODEL_9c12147c062041dca52c6a494303b6ea"
      }
     },
     "bc88d71f6bfb47d0a4e473f226f113bf": {
      "model_module": "@jupyter-widgets/base",
      "model_module_version": "2.0.0",
      "model_name": "LayoutModel",
      "state": {}
     },
     "bc8cce66436e4a9082cdecbeb984b09a": {
      "model_module": "@jupyter-widgets/controls",
      "model_module_version": "2.0.0",
      "model_name": "LabelStyleModel",
      "state": {
       "description_width": "",
       "font_family": "Courier",
       "font_size": null,
       "font_style": null,
       "font_variant": null,
       "font_weight": null,
       "text_color": null,
       "text_decoration": null
      }
     },
     "bcaa194e9337440ea75f20c1fc8eecd7": {
      "model_module": "@jupyter-widgets/controls",
      "model_module_version": "2.0.0",
      "model_name": "LabelStyleModel",
      "state": {
       "description_width": "",
       "font_family": "Courier",
       "font_size": null,
       "font_style": null,
       "font_variant": null,
       "font_weight": null,
       "text_color": null,
       "text_decoration": null
      }
     },
     "bcca2c6b179c43b296842bcf8612ca2c": {
      "model_module": "@jupyter-widgets/base",
      "model_module_version": "2.0.0",
      "model_name": "LayoutModel",
      "state": {}
     },
     "bcdf597e39ce4e1aa3b51dd4beaaace5": {
      "model_module": "@jupyter-widgets/controls",
      "model_module_version": "2.0.0",
      "model_name": "LabelStyleModel",
      "state": {
       "description_width": "",
       "font_family": "Courier",
       "font_size": null,
       "font_style": null,
       "font_variant": null,
       "font_weight": null,
       "text_color": null,
       "text_decoration": null
      }
     },
     "bcff1df2ac6b4936bfcd375d36eb1981": {
      "model_module": "@jupyter-widgets/base",
      "model_module_version": "2.0.0",
      "model_name": "LayoutModel",
      "state": {}
     },
     "bd11bed69de84ee284475cd20b19d429": {
      "model_module": "@jupyter-widgets/base",
      "model_module_version": "2.0.0",
      "model_name": "LayoutModel",
      "state": {}
     },
     "bd150f7db6ef40b1a3c4ec2d08688e49": {
      "model_module": "@jupyter-widgets/base",
      "model_module_version": "2.0.0",
      "model_name": "LayoutModel",
      "state": {}
     },
     "bd20cd2c27be46ccae2f3027715de0b0": {
      "model_module": "@jupyter-widgets/base",
      "model_module_version": "2.0.0",
      "model_name": "LayoutModel",
      "state": {}
     },
     "bd42172a964348aa87d3a43b247bc8f7": {
      "model_module": "@jupyter-widgets/controls",
      "model_module_version": "2.0.0",
      "model_name": "LabelModel",
      "state": {
       "layout": "IPY_MODEL_b1bca470e16d4fc1b5e89e27ce939a15",
       "style": "IPY_MODEL_5c074b1d8b5c419598b6fc0e0434eb74",
       "value": "skfilters.threshold_isodata( image=no_image)"
      }
     },
     "bd4f650704104d8696f0a5770413e581": {
      "model_module": "@jupyter-widgets/controls",
      "model_module_version": "2.0.0",
      "model_name": "LabelStyleModel",
      "state": {
       "description_width": "",
       "font_family": "Courier",
       "font_size": null,
       "font_style": null,
       "font_variant": null,
       "font_weight": null,
       "text_color": null,
       "text_decoration": null
      }
     },
     "bd9cc39b32554779ae64bc89b33a046a": {
      "model_module": "@jupyter-widgets/controls",
      "model_module_version": "2.0.0",
      "model_name": "DropdownModel",
      "state": {
       "_options_labels": [
        "no_image",
        "image1",
        "image2",
        "image3",
        "blobs",
        "binary",
        "labels",
        "dilated_labels"
       ],
       "description": "image",
       "index": 0,
       "layout": "IPY_MODEL_635f6bc04e5948089bd9bf8dd75a5f0d",
       "style": "IPY_MODEL_df054725629c4e5bb133dd4ab053c3ed"
      }
     },
     "bdb4cb19df604f7f9e49d9a82c4bb55b": {
      "model_module": "@jupyter-widgets/controls",
      "model_module_version": "2.0.0",
      "model_name": "VBoxModel",
      "state": {
       "_dom_classes": [
        "widget-interact"
       ],
       "children": [
        "IPY_MODEL_d4d4884af3574d9a88995b8edb0bfcad",
        "IPY_MODEL_b2f8dc69eeaf4073af9df8772090ccf7",
        "IPY_MODEL_5aa5583084c040f48eae4589fbfd1aad"
       ],
       "layout": "IPY_MODEL_cc9e3a41691640e28bb3dc602e60131e"
      }
     },
     "bdca9d557e7946fa914851fab8e292de": {
      "model_module": "@jupyter-widgets/controls",
      "model_module_version": "2.0.0",
      "model_name": "VBoxModel",
      "state": {
       "_dom_classes": [
        "widget-interact"
       ],
       "children": [
        "IPY_MODEL_ac6fbedf7a12459abec6812377673dbd",
        "IPY_MODEL_17059132123840d6886c351f1450b2ce",
        "IPY_MODEL_99b3bfc4adc14fe995b30b75c9bbefa3"
       ],
       "layout": "IPY_MODEL_68e1ee39bf904f04a33353dff0f57120"
      }
     },
     "bdd3108a06904b74b4639e62a7f9d9d6": {
      "model_module": "@jupyter-widgets/controls",
      "model_module_version": "2.0.0",
      "model_name": "CheckboxStyleModel",
      "state": {
       "description_width": ""
      }
     },
     "bdf8b1944438496b80bb13f758bd960e": {
      "model_module": "@jupyter-widgets/base",
      "model_module_version": "2.0.0",
      "model_name": "LayoutModel",
      "state": {}
     },
     "be0b19b8935f4364ab8c15147a211042": {
      "model_module": "@jupyter-widgets/base",
      "model_module_version": "2.0.0",
      "model_name": "LayoutModel",
      "state": {}
     },
     "be238ac3edae4919b7f99eef8c51658b": {
      "model_module": "@jupyter-widgets/base",
      "model_module_version": "2.0.0",
      "model_name": "LayoutModel",
      "state": {}
     },
     "be2de3c94eb14d6d999e2ea3a4d77793": {
      "model_module": "@jupyter-widgets/output",
      "model_module_version": "1.0.0",
      "model_name": "OutputModel",
      "state": {
       "layout": "IPY_MODEL_039bbcda436c4fd8b20d3e6364684f0a"
      }
     },
     "be8b849ab6ce49028439dd51da5d60d6": {
      "model_module": "@jupyter-widgets/controls",
      "model_module_version": "2.0.0",
      "model_name": "LabelStyleModel",
      "state": {
       "description_width": "",
       "font_family": "Courier",
       "font_size": null,
       "font_style": null,
       "font_variant": null,
       "font_weight": null,
       "text_color": null,
       "text_decoration": null
      }
     },
     "beb3ae3bd39a4be7b80969d3c3a21a70": {
      "model_module": "@jupyter-widgets/controls",
      "model_module_version": "2.0.0",
      "model_name": "DescriptionStyleModel",
      "state": {
       "description_width": ""
      }
     },
     "beb68370e28c496b8a43a488085a5422": {
      "model_module": "@jupyter-widgets/base",
      "model_module_version": "2.0.0",
      "model_name": "LayoutModel",
      "state": {}
     },
     "bec114dc90034bfc9613d71f3677d860": {
      "model_module": "@jupyter-widgets/controls",
      "model_module_version": "2.0.0",
      "model_name": "SliderStyleModel",
      "state": {
       "description_width": ""
      }
     },
     "bec7c52bf6f345baa64b61408f2de3c9": {
      "model_module": "@jupyter-widgets/base",
      "model_module_version": "2.0.0",
      "model_name": "LayoutModel",
      "state": {}
     },
     "bf03c6c449104176a41a460138b53673": {
      "model_module": "@jupyter-widgets/controls",
      "model_module_version": "2.0.0",
      "model_name": "LabelModel",
      "state": {
       "layout": "IPY_MODEL_51deef3a4dea4dd2b48f2696bcb0109f",
       "style": "IPY_MODEL_6d129f0f37444933a087a68d1eac9899",
       "value": "skfilters.gaussian( image=no_image, sigma=1.0)"
      }
     },
     "bf152936695b46ad977d5830a9a8b1bb": {
      "model_module": "@jupyter-widgets/output",
      "model_module_version": "1.0.0",
      "model_name": "OutputModel",
      "state": {
       "layout": "IPY_MODEL_81404fe31e6248f59917640264a28744"
      }
     },
     "bf2bf58546ea434186c057e889cd201b": {
      "model_module": "@jupyter-widgets/base",
      "model_module_version": "2.0.0",
      "model_name": "LayoutModel",
      "state": {
       "display": "none"
      }
     },
     "bf35d7a892a84078beed92bacc0d95b9": {
      "model_module": "@jupyter-widgets/base",
      "model_module_version": "2.0.0",
      "model_name": "LayoutModel",
      "state": {
       "display": "none"
      }
     },
     "bf464eb197074cb48d92c824664efd8b": {
      "model_module": "@jupyter-widgets/base",
      "model_module_version": "2.0.0",
      "model_name": "LayoutModel",
      "state": {
       "display": "block"
      }
     },
     "bf67ecbc22d2445c97540b1a741e57cb": {
      "model_module": "@jupyter-widgets/controls",
      "model_module_version": "2.0.0",
      "model_name": "DescriptionStyleModel",
      "state": {
       "description_width": ""
      }
     },
     "bf82fd16acb24df4af3635894214f7e2": {
      "model_module": "@jupyter-widgets/base",
      "model_module_version": "2.0.0",
      "model_name": "LayoutModel",
      "state": {}
     },
     "bfa74107c3ec49cbb7ccdd85e1fa3f72": {
      "model_module": "@jupyter-widgets/base",
      "model_module_version": "2.0.0",
      "model_name": "LayoutModel",
      "state": {
       "display": "none"
      }
     },
     "bfaa84873c1d45e3b77e676c2dd185fc": {
      "model_module": "@jupyter-widgets/controls",
      "model_module_version": "2.0.0",
      "model_name": "VBoxModel",
      "state": {
       "_dom_classes": [
        "widget-interact"
       ],
       "children": [
        "IPY_MODEL_b3308111fccf44d4b799bf43cde0a53e",
        "IPY_MODEL_8a3ada60568945a7b2dc255a00e0abd6"
       ],
       "layout": "IPY_MODEL_3adc344f73b24394a172eb4c224ac600"
      }
     },
     "c002b67c710947469bddf8a15b148fda": {
      "model_module": "@jupyter-widgets/controls",
      "model_module_version": "2.0.0",
      "model_name": "VBoxModel",
      "state": {
       "children": [
        "IPY_MODEL_10ec5329ba654a6999fae20d48b47962",
        "IPY_MODEL_d166300e58fe425e8f71e8d82475d9e9"
       ],
       "layout": "IPY_MODEL_6e18506935434fd09846d63426f1d37c"
      }
     },
     "c01b1907d53941fbaa0aab95d45c648f": {
      "model_module": "@jupyter-widgets/controls",
      "model_module_version": "2.0.0",
      "model_name": "LabelModel",
      "state": {
       "layout": "IPY_MODEL_a59ad5d640b04874a0e6fe1100d1d40c",
       "style": "IPY_MODEL_cbd9328b49114fc7a62a15ec90dcee49",
       "value": "nsitk.relabel_component( label_image=no_image, minimumObjectSize=15)"
      }
     },
     "c020df188a3d47349b3964ea9c660273": {
      "model_module": "@jupyter-widgets/base",
      "model_module_version": "2.0.0",
      "model_name": "LayoutModel",
      "state": {}
     },
     "c03a59bfe7a6459dae9c4372a9a2f485": {
      "model_module": "@jupyter-widgets/base",
      "model_module_version": "2.0.0",
      "model_name": "LayoutModel",
      "state": {}
     },
     "c03d7b69e5894f86a367636eb127cc20": {
      "model_module": "@jupyter-widgets/controls",
      "model_module_version": "2.0.0",
      "model_name": "VBoxModel",
      "state": {
       "children": [
        "IPY_MODEL_239d766d6ee844ad8d1c86083ed2126c",
        "IPY_MODEL_0c742fd9903546ec9d35174316a0db7f"
       ],
       "layout": "IPY_MODEL_391adf2794684fa498d18a8a632aed1f"
      }
     },
     "c0929c2a337f4444abfc9f28d544811e": {
      "model_module": "@jupyter-widgets/base",
      "model_module_version": "2.0.0",
      "model_name": "LayoutModel",
      "state": {}
     },
     "c09f65d2c4c242e588df8e26805c39cb": {
      "model_module": "@jupyter-widgets/controls",
      "model_module_version": "2.0.0",
      "model_name": "LabelModel",
      "state": {
       "layout": "IPY_MODEL_4b0277c09d3842f9aa6c18f727befab2",
       "style": "IPY_MODEL_578abca0bf414a1ba14916dd27b5a5ab",
       "value": "nsbatwm.sk_expand_labels( label_image=no_image)"
      }
     },
     "c0cac8c4026c4b3bb54ee473ec1c428e": {
      "model_module": "@jupyter-widgets/base",
      "model_module_version": "2.0.0",
      "model_name": "LayoutModel",
      "state": {
       "display": "none"
      }
     },
     "c0e7ea64c34044ae9bce09569e4cc01d": {
      "model_module": "@jupyter-widgets/controls",
      "model_module_version": "2.0.0",
      "model_name": "LabelStyleModel",
      "state": {
       "description_width": "",
       "font_family": "Courier",
       "font_size": null,
       "font_style": null,
       "font_variant": null,
       "font_weight": null,
       "text_color": null,
       "text_decoration": null
      }
     },
     "c0ee1d91382f45f885ee734a6640180e": {
      "model_module": "@jupyter-widgets/controls",
      "model_module_version": "2.0.0",
      "model_name": "VBoxModel",
      "state": {
       "_dom_classes": [
        "widget-interact"
       ],
       "children": [
        "IPY_MODEL_f430cf3e6f5b4e8b9488d611ea35e254",
        "IPY_MODEL_ad177665b9004c55835546b24c3f384d",
        "IPY_MODEL_c24a86ac3f7844df97c5a55bd8dfc5ef",
        "IPY_MODEL_ac9a033a1ebd49b396e256d14ae93296",
        "IPY_MODEL_f4fde77821ce4161ab96a11b17e6eea9"
       ],
       "layout": "IPY_MODEL_bc88d71f6bfb47d0a4e473f226f113bf"
      }
     },
     "c0f1759bec0742eb8c57c60f31aa81bc": {
      "model_module": "@jupyter-widgets/base",
      "model_module_version": "2.0.0",
      "model_name": "LayoutModel",
      "state": {}
     },
     "c1012d4f49fe413c997e4273d3f69257": {
      "model_module": "@jupyter-widgets/base",
      "model_module_version": "2.0.0",
      "model_name": "LayoutModel",
      "state": {}
     },
     "c15b5cb965b64d62b155c49baa37b68e": {
      "model_module": "@jupyter-widgets/base",
      "model_module_version": "2.0.0",
      "model_name": "LayoutModel",
      "state": {}
     },
     "c160b5fae4fa4f8fa48226e4767fb325": {
      "model_module": "@jupyter-widgets/controls",
      "model_module_version": "2.0.0",
      "model_name": "DropdownModel",
      "state": {
       "_options_labels": [
        "no_image",
        "image1",
        "image2",
        "image3",
        "blobs",
        "binary",
        "labels",
        "dilated_labels"
       ],
       "description": "image",
       "index": 0,
       "layout": "IPY_MODEL_02979dc2445f42a0afb12ac660ed2189",
       "style": "IPY_MODEL_0362b52718a5498d8c7290553bf90062"
      }
     },
     "c17e6fb29db442dfb4c12a49fefa2174": {
      "model_module": "@jupyter-widgets/base",
      "model_module_version": "2.0.0",
      "model_name": "LayoutModel",
      "state": {}
     },
     "c180cab7960d441cb8c60fcfcecc7587": {
      "model_module": "@jupyter-widgets/controls",
      "model_module_version": "2.0.0",
      "model_name": "LabelStyleModel",
      "state": {
       "description_width": "",
       "font_family": "Courier",
       "font_size": null,
       "font_style": null,
       "font_variant": null,
       "font_weight": null,
       "text_color": null,
       "text_decoration": null
      }
     },
     "c181a8457dd747e396a097c93ae628ce": {
      "model_module": "@jupyter-widgets/controls",
      "model_module_version": "2.0.0",
      "model_name": "VBoxModel",
      "state": {
       "children": [
        "IPY_MODEL_cea4f9f5b412480291aa68a698113697",
        "IPY_MODEL_3ca2f9e6e6eb4c7187d4d864d2dd355f"
       ],
       "layout": "IPY_MODEL_aa3a0206870b4ba6bbb0d142e16ae035"
      }
     },
     "c18efdd4e0cd4151bd1e5ed90471a90c": {
      "model_module": "@jupyter-widgets/base",
      "model_module_version": "2.0.0",
      "model_name": "LayoutModel",
      "state": {
       "display": "none"
      }
     },
     "c1cbd4b7727240dba85c44d1a2d80af8": {
      "model_module": "@jupyter-widgets/base",
      "model_module_version": "2.0.0",
      "model_name": "LayoutModel",
      "state": {}
     },
     "c1d4e9d1011a47698af7fb477a2b4102": {
      "model_module": "@jupyter-widgets/base",
      "model_module_version": "2.0.0",
      "model_name": "LayoutModel",
      "state": {}
     },
     "c1ea8799962b40f781097b0305de8a67": {
      "model_module": "@jupyter-widgets/controls",
      "model_module_version": "2.0.0",
      "model_name": "VBoxModel",
      "state": {
       "_dom_classes": [
        "widget-interact"
       ],
       "children": [
        "IPY_MODEL_d25a35f392224ac59949a9f4107a46d5",
        "IPY_MODEL_440e313ef481454096f0ffbe3e9b613c"
       ],
       "layout": "IPY_MODEL_9fc3469a979448638521434027d38536"
      }
     },
     "c1f091b7a8c94a43ae64582e7ee774bd": {
      "model_module": "@jupyter-widgets/output",
      "model_module_version": "1.0.0",
      "model_name": "OutputModel",
      "state": {
       "layout": "IPY_MODEL_7657b04e369b47b19b07e884c469f95e"
      }
     },
     "c1f72aa0724043c09217f2d8bade98a5": {
      "model_module": "@jupyter-widgets/output",
      "model_module_version": "1.0.0",
      "model_name": "OutputModel",
      "state": {
       "layout": "IPY_MODEL_844f55cd59344059b2c2415cfa2c877e"
      }
     },
     "c1fb8524c7694480a933cad2ab2b6c64": {
      "model_module": "@jupyter-widgets/base",
      "model_module_version": "2.0.0",
      "model_name": "LayoutModel",
      "state": {}
     },
     "c209176bd748422fbb6503ce36582a36": {
      "model_module": "@jupyter-widgets/controls",
      "model_module_version": "2.0.0",
      "model_name": "LabelModel",
      "state": {
       "layout": "IPY_MODEL_f60a34aeea6942b0ab90e45a55a7cdc0",
       "style": "IPY_MODEL_8279d6edbff7489e85f951bbbce31540",
       "value": "nsbatwm.sobel( image=no_image, mask=no_image)"
      }
     },
     "c214f01997224e77a385c9b84ae0bc1b": {
      "model_module": "@jupyter-widgets/controls",
      "model_module_version": "2.0.0",
      "model_name": "VBoxModel",
      "state": {
       "children": [
        "IPY_MODEL_a4cc080e006d4b90ac37194776c8dd59",
        "IPY_MODEL_029bbae0b94446fa85c28de51d7d2b52"
       ],
       "layout": "IPY_MODEL_7699ce3cb6c346848f54a82cb02e494b"
      }
     },
     "c237aad551e942039b73ee141774db38": {
      "model_module": "@jupyter-widgets/controls",
      "model_module_version": "2.0.0",
      "model_name": "VBoxModel",
      "state": {
       "children": [
        "IPY_MODEL_3844d97472f14be3bb10ff95d9ea9309",
        "IPY_MODEL_d65f34c64db940f5b1287b8504c130d1"
       ],
       "layout": "IPY_MODEL_5279da708d26477b954eb28c205b73ed"
      }
     },
     "c24a86ac3f7844df97c5a55bd8dfc5ef": {
      "model_module": "@jupyter-widgets/controls",
      "model_module_version": "2.0.0",
      "model_name": "FloatSliderModel",
      "state": {
       "behavior": "drag-tap",
       "description": "outline_sigma",
       "layout": "IPY_MODEL_8c9c92ef449141778533d7a1cafb7d89",
       "max": 25,
       "style": "IPY_MODEL_b663202c8dbd43d2aef7dc95d39fe175"
      }
     },
     "c25329d21dee471f832e793c5fde8901": {
      "model_module": "@jupyter-widgets/output",
      "model_module_version": "1.0.0",
      "model_name": "OutputModel",
      "state": {
       "layout": "IPY_MODEL_3d4b3e7ea3f2490ebcdffba4a29d07da"
      }
     },
     "c25c344ea6364097bdc24604a16e8242": {
      "model_module": "@jupyter-widgets/output",
      "model_module_version": "1.0.0",
      "model_name": "OutputModel",
      "state": {
       "layout": "IPY_MODEL_26438fd45f4343c4ac6dc0d1a2f0878a"
      }
     },
     "c2729ff9402a4569afa3395535b9ac4f": {
      "model_module": "@jupyter-widgets/base",
      "model_module_version": "2.0.0",
      "model_name": "LayoutModel",
      "state": {}
     },
     "c27825d30bd54fd7b9826842732ba963": {
      "model_module": "@jupyter-widgets/base",
      "model_module_version": "2.0.0",
      "model_name": "LayoutModel",
      "state": {}
     },
     "c27fc566637a40a19fa30445b5947d2b": {
      "model_module": "@jupyter-widgets/controls",
      "model_module_version": "2.0.0",
      "model_name": "SliderStyleModel",
      "state": {
       "description_width": ""
      }
     },
     "c2ae9e57eb984bd3b20fa47654dc5a12": {
      "model_module": "@jupyter-widgets/base",
      "model_module_version": "2.0.0",
      "model_name": "LayoutModel",
      "state": {}
     },
     "c2cff617667a438d91f863dbc2cc9e9f": {
      "model_module": "@jupyter-widgets/base",
      "model_module_version": "2.0.0",
      "model_name": "LayoutModel",
      "state": {}
     },
     "c2d2e6f5b7584448a9161b96e049a416": {
      "model_module": "@jupyter-widgets/base",
      "model_module_version": "2.0.0",
      "model_name": "LayoutModel",
      "state": {}
     },
     "c2ecb03744794e8e848b756857a671e0": {
      "model_module": "@jupyter-widgets/base",
      "model_module_version": "2.0.0",
      "model_name": "LayoutModel",
      "state": {}
     },
     "c30e04e4c96248be812fd0bd662a6fc3": {
      "model_module": "@jupyter-widgets/base",
      "model_module_version": "2.0.0",
      "model_name": "LayoutModel",
      "state": {}
     },
     "c31119b1ae0a4e5493dfbe9eefe4e6a2": {
      "model_module": "@jupyter-widgets/base",
      "model_module_version": "2.0.0",
      "model_name": "LayoutModel",
      "state": {}
     },
     "c337dcaa001a4655b0432c03a6c4df5b": {
      "model_module": "@jupyter-widgets/controls",
      "model_module_version": "2.0.0",
      "model_name": "CheckboxModel",
      "state": {
       "description": "fully_connected",
       "disabled": false,
       "layout": "IPY_MODEL_6b8af1bcc23c4e03941e249b96df15c7",
       "style": "IPY_MODEL_2045265efde64332ae7afe8648967b65",
       "value": true
      }
     },
     "c34d2bf04f1c4c34b0414f9ac0080016": {
      "model_module": "@jupyter-widgets/controls",
      "model_module_version": "2.0.0",
      "model_name": "VBoxModel",
      "state": {
       "_dom_classes": [
        "widget-interact"
       ],
       "children": [
        "IPY_MODEL_a629ceb354744dc7b0e03b39f4981732",
        "IPY_MODEL_9ab25e093caf4c1bbe6e28babbd9bff0",
        "IPY_MODEL_53b0ddd9915044a6b858463fd79691ae"
       ],
       "layout": "IPY_MODEL_2b1c437da97146cc9e90138d58b8f5ec"
      }
     },
     "c367e305a1c543bf8212d872a04a6d70": {
      "model_module": "@jupyter-widgets/base",
      "model_module_version": "2.0.0",
      "model_name": "LayoutModel",
      "state": {}
     },
     "c3d99fbe4c8040ec853c1d1f5f52c013": {
      "model_module": "@jupyter-widgets/controls",
      "model_module_version": "2.0.0",
      "model_name": "LabelModel",
      "state": {
       "layout": "IPY_MODEL_7c5319edc5744508ba9fbb24711af7d9",
       "style": "IPY_MODEL_77bc55d260324794bdba1417ddabb439",
       "value": "nsbatwm.binary_opening( image=no_image, footprint=disk(0))"
      }
     },
     "c3f1ac2a0c704f86a24f440132918901": {
      "model_module": "@jupyter-widgets/controls",
      "model_module_version": "2.0.0",
      "model_name": "VBoxModel",
      "state": {
       "_dom_classes": [
        "widget-interact"
       ],
       "children": [
        "IPY_MODEL_3e4c214c7e724618977e4face5bb5942",
        "IPY_MODEL_6667f0be09624823bc9b5a31a6d4b37f"
       ],
       "layout": "IPY_MODEL_794c5c2aed224901a7552a176fe5f2e0"
      }
     },
     "c41cea8b77c4416fbd389ca49874ce16": {
      "model_module": "@jupyter-widgets/base",
      "model_module_version": "2.0.0",
      "model_name": "LayoutModel",
      "state": {}
     },
     "c4204e0465ea4636997966f3d2b9b2dc": {
      "model_module": "@jupyter-widgets/controls",
      "model_module_version": "2.0.0",
      "model_name": "LabelModel",
      "state": {
       "layout": "IPY_MODEL_0083eae4bec2461593d23a4ad4f6fbf5",
       "style": "IPY_MODEL_9e9790c6043046b2bc0a8051fd69587c",
       "value": "nsbatwm.percentile_filter( image=no_image, percentile=50.0, radius=2.0)"
      }
     },
     "c42c9282345c48d99039ac701c0a358b": {
      "model_module": "@jupyter-widgets/controls",
      "model_module_version": "2.0.0",
      "model_name": "SliderStyleModel",
      "state": {
       "description_width": ""
      }
     },
     "c46bbd8fcd6a4daeae6a57280fb7f76b": {
      "model_module": "@jupyter-widgets/controls",
      "model_module_version": "2.0.0",
      "model_name": "DescriptionStyleModel",
      "state": {
       "description_width": ""
      }
     },
     "c49b1100e11d418b955e1abfae11fd5a": {
      "model_module": "@jupyter-widgets/base",
      "model_module_version": "2.0.0",
      "model_name": "LayoutModel",
      "state": {}
     },
     "c4a91f44147d47d89d86071a19a70fcd": {
      "model_module": "@jupyter-widgets/output",
      "model_module_version": "1.0.0",
      "model_name": "OutputModel",
      "state": {
       "layout": "IPY_MODEL_b27e70732bda48c3bef73b9fb0142e3f"
      }
     },
     "c4ac4273e0e74ed7bc9931dbc62d237b": {
      "model_module": "@jupyter-widgets/base",
      "model_module_version": "2.0.0",
      "model_name": "LayoutModel",
      "state": {
       "display": "none"
      }
     },
     "c4c450e4fb2d406da2da542cff40ada3": {
      "model_module": "@jupyter-widgets/base",
      "model_module_version": "2.0.0",
      "model_name": "LayoutModel",
      "state": {}
     },
     "c4e76f15ea8f4bd1b2e36714fd8dd63f": {
      "model_module": "@jupyter-widgets/base",
      "model_module_version": "2.0.0",
      "model_name": "LayoutModel",
      "state": {}
     },
     "c4f45ae5531144f0801513456d6a7924": {
      "model_module": "@jupyter-widgets/controls",
      "model_module_version": "2.0.0",
      "model_name": "FloatSliderModel",
      "state": {
       "behavior": "drag-tap",
       "description": "radius",
       "layout": "IPY_MODEL_929fad8ed4b9495fb1ad44bba9578151",
       "style": "IPY_MODEL_d5a7273ab87c4b7987af18b092712ff6",
       "value": 2
      }
     },
     "c515319d4ea14093bf69881e3c9b826d": {
      "model_module": "@jupyter-widgets/base",
      "model_module_version": "2.0.0",
      "model_name": "LayoutModel",
      "state": {}
     },
     "c5191496620a4094bcf53164e9b6a6e0": {
      "model_module": "@jupyter-widgets/controls",
      "model_module_version": "2.0.0",
      "model_name": "VBoxModel",
      "state": {
       "_dom_classes": [
        "widget-interact"
       ],
       "children": [
        "IPY_MODEL_eddd590b41dc49d688b78466beab9ffd",
        "IPY_MODEL_87384a68165043c8b178205ebcde8b43",
        "IPY_MODEL_18a925edb8df4a09b38a807038e1cd4b"
       ],
       "layout": "IPY_MODEL_f79e0dcc42f742e6bc31df9b62eea61c"
      }
     },
     "c528ceb0a7ae4e22974623a0737f1dc2": {
      "model_module": "@jupyter-widgets/controls",
      "model_module_version": "2.0.0",
      "model_name": "FloatSliderModel",
      "state": {
       "behavior": "drag-tap",
       "description": "radius",
       "layout": "IPY_MODEL_3bfb7aa0474e43beb439869736d18652",
       "style": "IPY_MODEL_6c241a391b8d4ede8b491b36e78f43ba",
       "value": 100
      }
     },
     "c531cc7080aa4c90a2e2f4bd8812bff7": {
      "model_module": "@jupyter-widgets/base",
      "model_module_version": "2.0.0",
      "model_name": "LayoutModel",
      "state": {}
     },
     "c53c6817f02947978358097adda591a5": {
      "model_module": "@jupyter-widgets/controls",
      "model_module_version": "2.0.0",
      "model_name": "VBoxModel",
      "state": {
       "_dom_classes": [
        "widget-interact"
       ],
       "children": [
        "IPY_MODEL_8476affc7688489e8c540efe15520ee9",
        "IPY_MODEL_fcb068d48103492c910ca6cec16d2d4f"
       ],
       "layout": "IPY_MODEL_51cedef37be6438b8ce3ef37ca5c762f"
      }
     },
     "c560e94d83424b31a50255c832288ba1": {
      "model_module": "@jupyter-widgets/controls",
      "model_module_version": "2.0.0",
      "model_name": "LabelStyleModel",
      "state": {
       "description_width": "",
       "font_family": "Courier",
       "font_size": null,
       "font_style": null,
       "font_variant": null,
       "font_weight": null,
       "text_color": null,
       "text_decoration": null
      }
     },
     "c561e9aaea2d4212acb21b1cd27a3ab0": {
      "model_module": "@jupyter-widgets/base",
      "model_module_version": "2.0.0",
      "model_name": "LayoutModel",
      "state": {}
     },
     "c5b84cf3333f4f5881eb71629a326084": {
      "model_module": "@jupyter-widgets/controls",
      "model_module_version": "2.0.0",
      "model_name": "VBoxModel",
      "state": {
       "_dom_classes": [
        "widget-interact"
       ],
       "children": [
        "IPY_MODEL_7630e714175e4d62bb5195eb53c2c68a",
        "IPY_MODEL_2f501989c62742b6b806c6f453afac32",
        "IPY_MODEL_f289c1420a9c452ca256ec3e9b15bcde",
        "IPY_MODEL_5a16f1c78b254f948fe8d2a2317a381d",
        "IPY_MODEL_33cb804888114300bb2cffea00e17346"
       ],
       "layout": "IPY_MODEL_393c12131bb746cbb26fcf5ec346a5df"
      }
     },
     "c5bbd6ffa9f9420c9f6ad94740e5ba3f": {
      "model_module": "@jupyter-widgets/base",
      "model_module_version": "2.0.0",
      "model_name": "LayoutModel",
      "state": {}
     },
     "c5c8257ae9a246f3ac7030e39882ae87": {
      "model_module": "@jupyter-widgets/output",
      "model_module_version": "1.0.0",
      "model_name": "OutputModel",
      "state": {
       "layout": "IPY_MODEL_adc2e8dc82514efeb7657462b0ac5552"
      }
     },
     "c5dce24f14cd4046a11305c35aa14138": {
      "model_module": "@jupyter-widgets/controls",
      "model_module_version": "2.0.0",
      "model_name": "FloatSliderModel",
      "state": {
       "behavior": "drag-tap",
       "description": "radius",
       "layout": "IPY_MODEL_7df35808cce44b01aaec09149aef2cfb",
       "style": "IPY_MODEL_e455ff06f51f41c68de5b39d658939ab",
       "value": 2
      }
     },
     "c5edbb4e44984a3192ac283660d3923c": {
      "model_module": "@jupyter-widgets/controls",
      "model_module_version": "2.0.0",
      "model_name": "DropdownModel",
      "state": {
       "_options_labels": [
        "no_image",
        "image1",
        "image2",
        "image3",
        "blobs",
        "binary",
        "labels",
        "dilated_labels"
       ],
       "description": "label_image",
       "index": 0,
       "layout": "IPY_MODEL_1fc126662d484b75abcc13d332425d2d",
       "style": "IPY_MODEL_4bbc90b99ff141e187d934e5a1a479c8"
      }
     },
     "c62df65b4d504803b1797c7f1988c9ef": {
      "model_module": "@jupyter-widgets/controls",
      "model_module_version": "2.0.0",
      "model_name": "VBoxModel",
      "state": {
       "_dom_classes": [
        "widget-interact"
       ],
       "children": [
        "IPY_MODEL_e8fe3e2864b545c7848c5e0dc6b39b1c",
        "IPY_MODEL_2d41b526322a447b8c378ac361bff2d0",
        "IPY_MODEL_ebbae03698944f2e80a0eca5fc366dd1",
        "IPY_MODEL_6722dec4914247fca86f45f487803d23"
       ],
       "layout": "IPY_MODEL_94e96cb194674af2b536ca7d8a5e6648"
      }
     },
     "c650fbd3064b4482b19ca0a7be59a25a": {
      "model_module": "@jupyter-widgets/output",
      "model_module_version": "1.0.0",
      "model_name": "OutputModel",
      "state": {
       "layout": "IPY_MODEL_f1e9472f030d460caf026048c9b71d0f"
      }
     },
     "c66f266799a345068992267b21f19673": {
      "model_module": "@jupyter-widgets/controls",
      "model_module_version": "2.0.0",
      "model_name": "VBoxModel",
      "state": {
       "_dom_classes": [
        "widget-interact"
       ],
       "children": [
        "IPY_MODEL_cb0417d3a5a046b0b13614610173cd75",
        "IPY_MODEL_e0bab1bf293d47f0b85fadcddcd6daff",
        "IPY_MODEL_46b654ea647b49f289c678758f0c2b1e"
       ],
       "layout": "IPY_MODEL_f0d8db65adba4c4a862b1a112e7ceb31"
      }
     },
     "c68d8634019f4f759cb06d2c97bfbf6f": {
      "model_module": "@jupyter-widgets/controls",
      "model_module_version": "2.0.0",
      "model_name": "DescriptionStyleModel",
      "state": {
       "description_width": ""
      }
     },
     "c6b8f123ab22428ebdf0a787603dfd2b": {
      "model_module": "@jupyter-widgets/base",
      "model_module_version": "2.0.0",
      "model_name": "LayoutModel",
      "state": {
       "display": "none"
      }
     },
     "c70c0af66bf54f02b1cfa1024b4d1cfa": {
      "model_module": "@jupyter-widgets/base",
      "model_module_version": "2.0.0",
      "model_name": "LayoutModel",
      "state": {}
     },
     "c7267a5af4b143c98b46efb8a04a1ba4": {
      "model_module": "@jupyter-widgets/controls",
      "model_module_version": "2.0.0",
      "model_name": "LabelStyleModel",
      "state": {
       "description_width": "",
       "font_family": "Courier",
       "font_size": null,
       "font_style": null,
       "font_variant": null,
       "font_weight": null,
       "text_color": null,
       "text_decoration": null
      }
     },
     "c726ab71c9244dd98977733f400815e0": {
      "model_module": "@jupyter-widgets/base",
      "model_module_version": "2.0.0",
      "model_name": "LayoutModel",
      "state": {}
     },
     "c74d6a1f8a89433cbf8cd0568ec2d991": {
      "model_module": "@jupyter-widgets/controls",
      "model_module_version": "2.0.0",
      "model_name": "DescriptionStyleModel",
      "state": {
       "description_width": ""
      }
     },
     "c76999de949a42aca42d54631d091f69": {
      "model_module": "@jupyter-widgets/controls",
      "model_module_version": "2.0.0",
      "model_name": "DescriptionStyleModel",
      "state": {
       "description_width": ""
      }
     },
     "c7af588d96cd45f08a5e91739b6e5368": {
      "model_module": "@jupyter-widgets/controls",
      "model_module_version": "2.0.0",
      "model_name": "DescriptionStyleModel",
      "state": {
       "description_width": ""
      }
     },
     "c7b2ae78cf0c4371a4c2d52bcdf26c12": {
      "model_module": "@jupyter-widgets/base",
      "model_module_version": "2.0.0",
      "model_name": "LayoutModel",
      "state": {}
     },
     "c7f064b0a9914a2e86acb154440dacfa": {
      "model_module": "@jupyter-widgets/base",
      "model_module_version": "2.0.0",
      "model_name": "LayoutModel",
      "state": {}
     },
     "c802a0f9480b49ce985c183e4c798698": {
      "model_module": "@jupyter-widgets/base",
      "model_module_version": "2.0.0",
      "model_name": "LayoutModel",
      "state": {}
     },
     "c814378691fe43b58ca290aca528d0e8": {
      "model_module": "@jupyter-widgets/controls",
      "model_module_version": "2.0.0",
      "model_name": "VBoxModel",
      "state": {
       "children": [
        "IPY_MODEL_b660fb9563bc4053970b4d3a70b7725c",
        "IPY_MODEL_51afd6ff37164995b9c922d8d286fe64"
       ],
       "layout": "IPY_MODEL_9375f42660134d4dbd314e9ff8bedba0"
      }
     },
     "c81778eb72214019abc1a7e4969e8c1f": {
      "model_module": "@jupyter-widgets/output",
      "model_module_version": "1.0.0",
      "model_name": "OutputModel",
      "state": {
       "layout": "IPY_MODEL_fbf6acdc59f246e48fe190ec5be199fa"
      }
     },
     "c839d0602ea34a82bc7c4cf6cd20e275": {
      "model_module": "@jupyter-widgets/base",
      "model_module_version": "2.0.0",
      "model_name": "LayoutModel",
      "state": {}
     },
     "c8a561c6eec2454eafdb4fc6dc44eed3": {
      "model_module": "@jupyter-widgets/controls",
      "model_module_version": "2.0.0",
      "model_name": "DescriptionStyleModel",
      "state": {
       "description_width": ""
      }
     },
     "c8c00b56ec1347048f5e2106ab6c4623": {
      "model_module": "@jupyter-widgets/base",
      "model_module_version": "2.0.0",
      "model_name": "LayoutModel",
      "state": {}
     },
     "c8c871b272f846e4b7113c36c0fb99a8": {
      "model_module": "@jupyter-widgets/controls",
      "model_module_version": "2.0.0",
      "model_name": "SliderStyleModel",
      "state": {
       "description_width": ""
      }
     },
     "c8c9defd7fcb4621acc88ad829407eb5": {
      "model_module": "@jupyter-widgets/controls",
      "model_module_version": "2.0.0",
      "model_name": "VBoxModel",
      "state": {
       "_dom_classes": [
        "widget-interact"
       ],
       "children": [
        "IPY_MODEL_9c20eecaa0794dafb2a187ac6220404b",
        "IPY_MODEL_637fa656d6e0458099025398e0696b7c",
        "IPY_MODEL_96620b233ef34ac1a7500ed4173741a9",
        "IPY_MODEL_296985e05a434021bb70725a7289c2a0"
       ],
       "layout": "IPY_MODEL_b16fd54f7deb4b468591eaf44899adfa"
      }
     },
     "c8d70f5d5cfd489cb129602d290c57ba": {
      "model_module": "@jupyter-widgets/base",
      "model_module_version": "2.0.0",
      "model_name": "LayoutModel",
      "state": {
       "display": "none"
      }
     },
     "c8daa1f1d4ac48119791eda8e3cf6eeb": {
      "model_module": "@jupyter-widgets/controls",
      "model_module_version": "2.0.0",
      "model_name": "VBoxModel",
      "state": {
       "children": [
        "IPY_MODEL_509b64bf32824b13a0dd7cbf4f8ea594",
        "IPY_MODEL_6f800f0a6b5f4c5ca9bbbfb36e5359f8"
       ],
       "layout": "IPY_MODEL_53553252c02942ff9ee451ec392972fc"
      }
     },
     "c8dc3e787ba74da586a1e58432c0bd2b": {
      "model_module": "ipycanvas",
      "model_module_version": "^0.13",
      "model_name": "CanvasManagerModel",
      "state": {
       "_model_module_version": "^0.13",
       "_view_module": null,
       "_view_module_version": ""
      }
     },
     "c905cd91f33d4ab593a6abbbcf9bbe64": {
      "model_module": "@jupyter-widgets/base",
      "model_module_version": "2.0.0",
      "model_name": "LayoutModel",
      "state": {}
     },
     "c90f7d1c7d1140259628f5b5d3ffdfd0": {
      "model_module": "@jupyter-widgets/controls",
      "model_module_version": "2.0.0",
      "model_name": "FloatSliderModel",
      "state": {
       "behavior": "drag-tap",
       "description": "upper_threshold",
       "layout": "IPY_MODEL_d384007b770a4582a6aa03cbd0465eb6",
       "step": null,
       "style": "IPY_MODEL_079c176567ba45bea748f829cdc53a91",
       "value": 50
      }
     },
     "c9227f3bcab34a70bca0e4e9ec26c326": {
      "model_module": "@jupyter-widgets/base",
      "model_module_version": "2.0.0",
      "model_name": "LayoutModel",
      "state": {}
     },
     "c97a5942ed524946abdc638c5f1cc9ad": {
      "model_module": "@jupyter-widgets/base",
      "model_module_version": "2.0.0",
      "model_name": "LayoutModel",
      "state": {}
     },
     "c981fdbd35e54134814540d41c35f7b4": {
      "model_module": "@jupyter-widgets/controls",
      "model_module_version": "2.0.0",
      "model_name": "DropdownModel",
      "state": {
       "_options_labels": [
        "no_image",
        "image1",
        "image2",
        "image3",
        "blobs",
        "binary",
        "labels",
        "dilated_labels"
       ],
       "description": "image",
       "index": 0,
       "layout": "IPY_MODEL_8b7909b801044c0490dcbbee6641c79c",
       "style": "IPY_MODEL_1b48385fb9d440f7917503e5b1160afd"
      }
     },
     "c99734d976c24ff79967e6c15f6425a7": {
      "model_module": "@jupyter-widgets/base",
      "model_module_version": "2.0.0",
      "model_name": "LayoutModel",
      "state": {}
     },
     "c9ab0820ab36429c9ce1bc925de76b1c": {
      "model_module": "@jupyter-widgets/base",
      "model_module_version": "2.0.0",
      "model_name": "LayoutModel",
      "state": {}
     },
     "c9bcacd0731a4452a109079c5c3ffd36": {
      "model_module": "@jupyter-widgets/base",
      "model_module_version": "2.0.0",
      "model_name": "LayoutModel",
      "state": {}
     },
     "c9c468c315a04f4488c547829175f036": {
      "model_module": "@jupyter-widgets/base",
      "model_module_version": "2.0.0",
      "model_name": "LayoutModel",
      "state": {}
     },
     "c9ed9ccf6ea7498db9cdb48c024170e2": {
      "model_module": "@jupyter-widgets/base",
      "model_module_version": "2.0.0",
      "model_name": "LayoutModel",
      "state": {}
     },
     "ca31435b6cb94432bf51bb7a45494d4e": {
      "model_module": "@jupyter-widgets/base",
      "model_module_version": "2.0.0",
      "model_name": "LayoutModel",
      "state": {}
     },
     "ca4f49ef6af44502b4b53c6acac6bc40": {
      "model_module": "@jupyter-widgets/controls",
      "model_module_version": "2.0.0",
      "model_name": "LabelModel",
      "state": {
       "layout": "IPY_MODEL_9647f3fd979849f89cc77cc6ca634371",
       "style": "IPY_MODEL_a3eacd0f0d554369995634fc426f6829",
       "value": "skfilters.farid( image=no_image, mask=no_image)"
      }
     },
     "ca50fbbccaac46e5816c0e3095a593d3": {
      "model_module": "@jupyter-widgets/controls",
      "model_module_version": "2.0.0",
      "model_name": "SliderStyleModel",
      "state": {
       "description_width": ""
      }
     },
     "ca6cf4a547794981b9747681ad622eaf": {
      "model_module": "@jupyter-widgets/base",
      "model_module_version": "2.0.0",
      "model_name": "LayoutModel",
      "state": {
       "display": "none"
      }
     },
     "ca70e3ffeab7409fa3599d0fb65531a4": {
      "model_module": "@jupyter-widgets/base",
      "model_module_version": "2.0.0",
      "model_name": "LayoutModel",
      "state": {}
     },
     "ca71394a75b94fdea17441e79a4eefab": {
      "model_module": "@jupyter-widgets/base",
      "model_module_version": "2.0.0",
      "model_name": "LayoutModel",
      "state": {
       "display": "none"
      }
     },
     "ca7603a0e69e4bf786e558dd6872acd9": {
      "model_module": "@jupyter-widgets/controls",
      "model_module_version": "2.0.0",
      "model_name": "DropdownModel",
      "state": {
       "_options_labels": [
        "no_image",
        "image1",
        "image2",
        "image3",
        "blobs",
        "binary",
        "labels",
        "dilated_labels"
       ],
       "description": "image",
       "index": 0,
       "layout": "IPY_MODEL_40f4dbea331944c28aed44ff836f2f9b",
       "style": "IPY_MODEL_ad773069771e4bcc8095cc6f66d742e4"
      }
     },
     "ca83aaecf6ae4a7182a17fd6a380b107": {
      "model_module": "@jupyter-widgets/controls",
      "model_module_version": "2.0.0",
      "model_name": "LabelStyleModel",
      "state": {
       "description_width": "",
       "font_family": "Courier",
       "font_size": null,
       "font_style": null,
       "font_variant": null,
       "font_weight": null,
       "text_color": null,
       "text_decoration": null
      }
     },
     "ca969472199242dc93152541ef94afe1": {
      "model_module": "@jupyter-widgets/controls",
      "model_module_version": "2.0.0",
      "model_name": "DescriptionStyleModel",
      "state": {
       "description_width": ""
      }
     },
     "caaf9653ad79415ea81a62a7f6e6fbf6": {
      "model_module": "@jupyter-widgets/controls",
      "model_module_version": "2.0.0",
      "model_name": "LabelModel",
      "state": {
       "layout": "IPY_MODEL_0de534b2f0ef4826a4f26b920e813de7",
       "style": "IPY_MODEL_461caab9ce334c56b476c94797d3b867",
       "value": "nsitk.threshold_huang( image=no_image)"
      }
     },
     "cb0417d3a5a046b0b13614610173cd75": {
      "model_module": "@jupyter-widgets/controls",
      "model_module_version": "2.0.0",
      "model_name": "DropdownModel",
      "state": {
       "_options_labels": [
        "no_image",
        "image1",
        "image2",
        "image3",
        "blobs",
        "binary",
        "labels",
        "dilated_labels"
       ],
       "description": "image",
       "index": 0,
       "layout": "IPY_MODEL_11fb7b96f1cb438c9586a6cd2579dd1a",
       "style": "IPY_MODEL_9c14e9fd94d94d0db74d91dc44172cd5"
      }
     },
     "cb4f594c7f944619b73769072a1c1f8b": {
      "model_module": "@jupyter-widgets/base",
      "model_module_version": "2.0.0",
      "model_name": "LayoutModel",
      "state": {}
     },
     "cb76955004824f35952a45c919e37524": {
      "model_module": "@jupyter-widgets/base",
      "model_module_version": "2.0.0",
      "model_name": "LayoutModel",
      "state": {}
     },
     "cb77f3cae45448e392e81dd55316568d": {
      "model_module": "@jupyter-widgets/controls",
      "model_module_version": "2.0.0",
      "model_name": "DropdownModel",
      "state": {
       "_options_labels": [
        "no_image",
        "image1",
        "image2",
        "image3",
        "blobs",
        "binary",
        "labels",
        "dilated_labels"
       ],
       "description": "image",
       "index": 0,
       "layout": "IPY_MODEL_ec2267b7682449fdbfb36f24789fb1f9",
       "style": "IPY_MODEL_5dab8203ded54fd880c7cc0aca5ead7d"
      }
     },
     "cb77f60f48d34df6b09bd6837f699659": {
      "model_module": "@jupyter-widgets/base",
      "model_module_version": "2.0.0",
      "model_name": "LayoutModel",
      "state": {
       "display": "none"
      }
     },
     "cb7d237daaa14f5ab35329882aeb3cbd": {
      "model_module": "@jupyter-widgets/controls",
      "model_module_version": "2.0.0",
      "model_name": "LabelStyleModel",
      "state": {
       "description_width": "",
       "font_family": "Courier",
       "font_size": null,
       "font_style": null,
       "font_variant": null,
       "font_weight": null,
       "text_color": null,
       "text_decoration": null
      }
     },
     "cbc027e820114d3faf8ee1bf408ac506": {
      "model_module": "@jupyter-widgets/controls",
      "model_module_version": "2.0.0",
      "model_name": "VBoxModel",
      "state": {
       "children": [
        "IPY_MODEL_8eaa5fbb23b647e99a24ab085137c7e2",
        "IPY_MODEL_229dcf3e719948f1810423c146aab502"
       ],
       "layout": "IPY_MODEL_a1722fcdaebe4d449fd4f4f27a98d715"
      }
     },
     "cbd9328b49114fc7a62a15ec90dcee49": {
      "model_module": "@jupyter-widgets/controls",
      "model_module_version": "2.0.0",
      "model_name": "LabelStyleModel",
      "state": {
       "description_width": "",
       "font_family": "Courier",
       "font_size": null,
       "font_style": null,
       "font_variant": null,
       "font_weight": null,
       "text_color": null,
       "text_decoration": null
      }
     },
     "cc166d634b8c4bcb8f3a2c294c8af45e": {
      "model_module": "@jupyter-widgets/base",
      "model_module_version": "2.0.0",
      "model_name": "LayoutModel",
      "state": {}
     },
     "cc1e3965d3ca4208808691f3bec82cb4": {
      "model_module": "@jupyter-widgets/controls",
      "model_module_version": "2.0.0",
      "model_name": "VBoxModel",
      "state": {
       "_dom_classes": [
        "widget-interact"
       ],
       "children": [
        "IPY_MODEL_4aa9f787d9e6417f9e0724938179c3ce",
        "IPY_MODEL_d4283a8d81874b6aba632bf21750144c",
        "IPY_MODEL_65c1655d98c74261837fbf005b13a2ec"
       ],
       "layout": "IPY_MODEL_6485561443fe4e16a24b96ae1d2ffd65"
      }
     },
     "cc226dd92c7b45df94761e5c76bebf20": {
      "model_module": "@jupyter-widgets/controls",
      "model_module_version": "2.0.0",
      "model_name": "VBoxModel",
      "state": {
       "children": [
        "IPY_MODEL_00331ae8fd654144b8aa3e6de8bc6cbf",
        "IPY_MODEL_3ab81b0d878f47358ed46e5dc022fd2d"
       ],
       "layout": "IPY_MODEL_dd2cca0514d94eeeb9eb2b235730c36e"
      }
     },
     "cc4b859ebd114ff390c9b09654eb91a1": {
      "model_module": "@jupyter-widgets/controls",
      "model_module_version": "2.0.0",
      "model_name": "VBoxModel",
      "state": {
       "children": [
        "IPY_MODEL_dee1188684c54402ba179ac3e7792493",
        "IPY_MODEL_0e87a43d9c28462192bd9b39b30924b4"
       ],
       "layout": "IPY_MODEL_f51b91129b0d467bacba7433e6269cf3"
      }
     },
     "cc92fbbea158499ebeb9e97dbb785877": {
      "model_module": "@jupyter-widgets/controls",
      "model_module_version": "2.0.0",
      "model_name": "VBoxModel",
      "state": {
       "children": [
        "IPY_MODEL_57e8543d77944e7ea406b6d0aea90ace",
        "IPY_MODEL_36ec991c581c4b21b423f1cbb71952b5"
       ],
       "layout": "IPY_MODEL_25a65602436e4d30805d906418a28f70"
      }
     },
     "cc9e3a41691640e28bb3dc602e60131e": {
      "model_module": "@jupyter-widgets/base",
      "model_module_version": "2.0.0",
      "model_name": "LayoutModel",
      "state": {}
     },
     "cce7f55bf7b6409588c64dcaca75ddc8": {
      "model_module": "@jupyter-widgets/controls",
      "model_module_version": "2.0.0",
      "model_name": "LabelModel",
      "state": {
       "layout": "IPY_MODEL_8fef8c3922d941768b1c599db5ecde5f",
       "style": "IPY_MODEL_f570cdc1306b416197325bb90c3a6c48",
       "value": "nsbatwm.relabel_sequential( label_field=no_image)"
      }
     },
     "cd025f7596f54db580e4ae979aa107f3": {
      "model_module": "@jupyter-widgets/base",
      "model_module_version": "2.0.0",
      "model_name": "LayoutModel",
      "state": {}
     },
     "cd172606d56b450fa6fbf7abc51dbbe5": {
      "model_module": "@jupyter-widgets/controls",
      "model_module_version": "2.0.0",
      "model_name": "CheckboxModel",
      "state": {
       "description": "size",
       "disabled": false,
       "layout": "IPY_MODEL_85380eb3376341ba901af79186213fb8",
       "style": "IPY_MODEL_f402a1d2e64044328c960dca36bf9a7c",
       "value": true
      }
     },
     "cd31a65cee104434b71f6894e6dc191e": {
      "model_module": "@jupyter-widgets/output",
      "model_module_version": "1.0.0",
      "model_name": "OutputModel",
      "state": {
       "layout": "IPY_MODEL_b590b1af859d4964a19c9a1e0b2a51d2"
      }
     },
     "cd41ccaeb3354b20b0a4c5e3ce47dbe9": {
      "model_module": "@jupyter-widgets/base",
      "model_module_version": "2.0.0",
      "model_name": "LayoutModel",
      "state": {}
     },
     "cd47a6df0fe94518b05520409edd3564": {
      "model_module": "@jupyter-widgets/base",
      "model_module_version": "2.0.0",
      "model_name": "LayoutModel",
      "state": {}
     },
     "cd83959a533246e1aef6a4e2991578da": {
      "model_module": "@jupyter-widgets/base",
      "model_module_version": "2.0.0",
      "model_name": "LayoutModel",
      "state": {}
     },
     "cd85fcb6020745c69d0e63c167137e45": {
      "model_module": "@jupyter-widgets/output",
      "model_module_version": "1.0.0",
      "model_name": "OutputModel",
      "state": {
       "layout": "IPY_MODEL_bcff1df2ac6b4936bfcd375d36eb1981"
      }
     },
     "cd96b06c32cd4edca1e559cd4afedff7": {
      "model_module": "@jupyter-widgets/base",
      "model_module_version": "2.0.0",
      "model_name": "LayoutModel",
      "state": {}
     },
     "cda668ef83304a2a9425888ffef15afe": {
      "model_module": "@jupyter-widgets/base",
      "model_module_version": "2.0.0",
      "model_name": "LayoutModel",
      "state": {}
     },
     "cde01ce7397a416994b90b8469ac95c3": {
      "model_module": "@jupyter-widgets/base",
      "model_module_version": "2.0.0",
      "model_name": "LayoutModel",
      "state": {}
     },
     "cdfb8c084e9045b8a0345c861e0d3e95": {
      "model_module": "@jupyter-widgets/base",
      "model_module_version": "2.0.0",
      "model_name": "LayoutModel",
      "state": {}
     },
     "ce39c9b67a564a428a78ca040f4444c5": {
      "model_module": "@jupyter-widgets/output",
      "model_module_version": "1.0.0",
      "model_name": "OutputModel",
      "state": {
       "layout": "IPY_MODEL_145f3a565bab497ca7931fe5d846e61c"
      }
     },
     "ce5230c1208140c1bfb2ce7d6a7c32b7": {
      "model_module": "@jupyter-widgets/controls",
      "model_module_version": "2.0.0",
      "model_name": "LabelStyleModel",
      "state": {
       "description_width": "",
       "font_family": "Courier",
       "font_size": null,
       "font_style": null,
       "font_variant": null,
       "font_weight": null,
       "text_color": null,
       "text_decoration": null
      }
     },
     "ce5c4e92ec584c69b742d8bd9aaec499": {
      "model_module": "@jupyter-widgets/controls",
      "model_module_version": "2.0.0",
      "model_name": "LabelStyleModel",
      "state": {
       "description_width": "",
       "font_family": "Courier",
       "font_size": null,
       "font_style": null,
       "font_variant": null,
       "font_weight": null,
       "text_color": null,
       "text_decoration": null
      }
     },
     "ce896cbb56b7458c9ea31cbebbe50431": {
      "model_module": "@jupyter-widgets/controls",
      "model_module_version": "2.0.0",
      "model_name": "VBoxModel",
      "state": {
       "children": [
        "IPY_MODEL_7bcd896d6f274997b37bd92e2f0e0634",
        "IPY_MODEL_a3a41f131024410990060b47f24ef68e"
       ],
       "layout": "IPY_MODEL_33bc5a8ae5c84ce288154f8ea136ba16"
      }
     },
     "cea4f9f5b412480291aa68a698113697": {
      "model_module": "@jupyter-widgets/controls",
      "model_module_version": "2.0.0",
      "model_name": "VBoxModel",
      "state": {
       "_dom_classes": [
        "widget-interact"
       ],
       "children": [
        "IPY_MODEL_df681d5d86714e9d86c31e9564d92a24",
        "IPY_MODEL_7ee1e9b099c641b694a4f0fbb609f9fa",
        "IPY_MODEL_7ff1d78a665e4781ab01aa434b047572"
       ],
       "layout": "IPY_MODEL_9db13d9f229a481f9fbf2a0624cdfa55"
      }
     },
     "cec178c3d1dc41e39db60b9044137295": {
      "model_module": "@jupyter-widgets/controls",
      "model_module_version": "2.0.0",
      "model_name": "DropdownModel",
      "state": {
       "_options_labels": [
        "no_image",
        "image1",
        "image2",
        "image3",
        "blobs",
        "binary",
        "labels",
        "dilated_labels"
       ],
       "description": "image",
       "index": 0,
       "layout": "IPY_MODEL_7d9464a17e5549239307f8b9f80869a1",
       "style": "IPY_MODEL_7a2a1454d3884818a69cfd0cea3f75b0"
      }
     },
     "ceca64566c754f72b710e9fc44e8c87a": {
      "model_module": "@jupyter-widgets/base",
      "model_module_version": "2.0.0",
      "model_name": "LayoutModel",
      "state": {}
     },
     "cedc180703144ef7bf94a9244d918b98": {
      "model_module": "@jupyter-widgets/controls",
      "model_module_version": "2.0.0",
      "model_name": "SliderStyleModel",
      "state": {
       "description_width": ""
      }
     },
     "cedd80b63d234cc697fec73954bd5375": {
      "model_module": "@jupyter-widgets/controls",
      "model_module_version": "2.0.0",
      "model_name": "LabelStyleModel",
      "state": {
       "description_width": "",
       "font_family": "Courier",
       "font_size": null,
       "font_style": null,
       "font_variant": null,
       "font_weight": null,
       "text_color": null,
       "text_decoration": null
      }
     },
     "cee4c3b4707141ab8b75647450a53fa0": {
      "model_module": "@jupyter-widgets/controls",
      "model_module_version": "2.0.0",
      "model_name": "IntSliderModel",
      "state": {
       "behavior": "drag-tap",
       "description": "axis",
       "layout": "IPY_MODEL_f8232dd86eee43ceb5342ff4cd25231f",
       "style": "IPY_MODEL_30253658476e4b97879646bf16e53f6d"
      }
     },
     "cef0ebc316ce41daaedd5e0fc868fa70": {
      "model_module": "@jupyter-widgets/controls",
      "model_module_version": "2.0.0",
      "model_name": "DescriptionStyleModel",
      "state": {
       "description_width": ""
      }
     },
     "cf0dc7d159a04af7925c752bd8986b1f": {
      "model_module": "@jupyter-widgets/controls",
      "model_module_version": "2.0.0",
      "model_name": "VBoxModel",
      "state": {
       "children": [
        "IPY_MODEL_d07fe87e526e4d0e99f0c43b69e0f8bc",
        "IPY_MODEL_ca4f49ef6af44502b4b53c6acac6bc40"
       ],
       "layout": "IPY_MODEL_0580058ae83a47d19e57c2204843a363"
      }
     },
     "cfb89f5479ba4ef18e882f708b270fde": {
      "model_module": "@jupyter-widgets/base",
      "model_module_version": "2.0.0",
      "model_name": "LayoutModel",
      "state": {}
     },
     "cfba461fda53428483517615c41860b1": {
      "model_module": "@jupyter-widgets/base",
      "model_module_version": "2.0.0",
      "model_name": "LayoutModel",
      "state": {}
     },
     "cfbc844e761441ef8c014df80ce9e873": {
      "model_module": "@jupyter-widgets/controls",
      "model_module_version": "2.0.0",
      "model_name": "LabelModel",
      "state": {
       "layout": "IPY_MODEL_c49b1100e11d418b955e1abfae11fd5a",
       "style": "IPY_MODEL_7696cdb599ed41e2b182f7d15c43ad8e",
       "value": "skfilters.scharr( image=no_image, mask=no_image)"
      }
     },
     "cfd1cccabb3e4120acef7f98dd35d6b2": {
      "model_module": "@jupyter-widgets/controls",
      "model_module_version": "2.0.0",
      "model_name": "DropdownModel",
      "state": {
       "_options_labels": [
        "no_image",
        "image1",
        "image2",
        "image3",
        "blobs",
        "binary",
        "labels",
        "dilated_labels"
       ],
       "description": "mask",
       "index": 0,
       "layout": "IPY_MODEL_6ebd4cef3d17464c8daf4e526e1daf91",
       "style": "IPY_MODEL_b7410411c7424c658f26ee876814eb89"
      }
     },
     "d012a30dda8f4d5d83580ec9956534a5": {
      "model_module": "@jupyter-widgets/controls",
      "model_module_version": "2.0.0",
      "model_name": "VBoxModel",
      "state": {
       "children": [
        "IPY_MODEL_b558c39bbe704ca4b5735be7160ab8c1",
        "IPY_MODEL_47a0c1a85bc245d28111b6764a9e0a5c"
       ],
       "layout": "IPY_MODEL_192111f0ebec406487921b8e55195914"
      }
     },
     "d026e481da4d404bb45bdd8c2c67144d": {
      "model_module": "@jupyter-widgets/base",
      "model_module_version": "2.0.0",
      "model_name": "LayoutModel",
      "state": {
       "display": "none"
      }
     },
     "d03e6ed9072b4823b85bc4387ba3bc9f": {
      "model_module": "@jupyter-widgets/base",
      "model_module_version": "2.0.0",
      "model_name": "LayoutModel",
      "state": {}
     },
     "d045584287a6492aa541a5eb1133e615": {
      "model_module": "@jupyter-widgets/controls",
      "model_module_version": "2.0.0",
      "model_name": "VBoxModel",
      "state": {
       "children": [
        "IPY_MODEL_af21295e18c64b94a35f046c13ff1e0f"
       ],
       "layout": "IPY_MODEL_520eca252220441a9b0b05ae0885d564"
      }
     },
     "d04918d604b0436797ca8440cfb4d691": {
      "model_module": "@jupyter-widgets/base",
      "model_module_version": "2.0.0",
      "model_name": "LayoutModel",
      "state": {}
     },
     "d0566cd57d7347658ab4a840de1a1534": {
      "model_module": "@jupyter-widgets/controls",
      "model_module_version": "2.0.0",
      "model_name": "VBoxModel",
      "state": {
       "children": [
        "IPY_MODEL_16e0caa122464d8d937cd9cab79d9767",
        "IPY_MODEL_77bdb5c8853f48508be3e47f00903b01"
       ],
       "layout": "IPY_MODEL_7052ef70cbc54e5ca7b1d187e47ade46"
      }
     },
     "d07fe87e526e4d0e99f0c43b69e0f8bc": {
      "model_module": "@jupyter-widgets/controls",
      "model_module_version": "2.0.0",
      "model_name": "VBoxModel",
      "state": {
       "_dom_classes": [
        "widget-interact"
       ],
       "children": [
        "IPY_MODEL_fa3d5e57fd324166953f42c195177854",
        "IPY_MODEL_9487c8dc031543ebb1fa02a45b3b2f57",
        "IPY_MODEL_e1e1ff45f36a4d8ab85907a051cef462"
       ],
       "layout": "IPY_MODEL_97d9bf8862324915bdeddf8a0b5b2a51"
      }
     },
     "d090b50fd47145a0a6e05b17c2879334": {
      "model_module": "@jupyter-widgets/base",
      "model_module_version": "2.0.0",
      "model_name": "LayoutModel",
      "state": {}
     },
     "d0a4b52c9f554c81b63b1868551a26a5": {
      "model_module": "@jupyter-widgets/base",
      "model_module_version": "2.0.0",
      "model_name": "LayoutModel",
      "state": {
       "display": "none"
      }
     },
     "d0a976053c2e4d77bc75f09332540dc3": {
      "model_module": "@jupyter-widgets/base",
      "model_module_version": "2.0.0",
      "model_name": "LayoutModel",
      "state": {}
     },
     "d0f91dfd9976458ab5cf283d1d67814c": {
      "model_module": "@jupyter-widgets/controls",
      "model_module_version": "2.0.0",
      "model_name": "VBoxModel",
      "state": {
       "children": [
        "IPY_MODEL_b1abbf9330f843cc8022b07dfe83d2b0",
        "IPY_MODEL_20d07bc711024c179d81afdde44c3c9a"
       ],
       "layout": "IPY_MODEL_00d144cfa11b42e7a3116fd34ad5f952"
      }
     },
     "d11ead885b88412dbe15d6f7c78c9c0c": {
      "model_module": "@jupyter-widgets/controls",
      "model_module_version": "2.0.0",
      "model_name": "VBoxModel",
      "state": {
       "children": [
        "IPY_MODEL_c5b84cf3333f4f5881eb71629a326084",
        "IPY_MODEL_b32e835c79664fbd8a5dd2b73f8fefea"
       ],
       "layout": "IPY_MODEL_46c14e4cca974724b9907abf61130a97"
      }
     },
     "d13838314f2c484c9d8e7449f28f3722": {
      "model_module": "@jupyter-widgets/base",
      "model_module_version": "2.0.0",
      "model_name": "LayoutModel",
      "state": {}
     },
     "d13c6a7a328146ec9d31954ded97d423": {
      "model_module": "@jupyter-widgets/base",
      "model_module_version": "2.0.0",
      "model_name": "LayoutModel",
      "state": {}
     },
     "d15e6a0aa23e4914a9df8295b7af3d56": {
      "model_module": "@jupyter-widgets/controls",
      "model_module_version": "2.0.0",
      "model_name": "DescriptionStyleModel",
      "state": {
       "description_width": ""
      }
     },
     "d16564bee6124078a8012f0d72b12d02": {
      "model_module": "@jupyter-widgets/controls",
      "model_module_version": "2.0.0",
      "model_name": "SliderStyleModel",
      "state": {
       "description_width": ""
      }
     },
     "d166300e58fe425e8f71e8d82475d9e9": {
      "model_module": "@jupyter-widgets/controls",
      "model_module_version": "2.0.0",
      "model_name": "LabelModel",
      "state": {
       "layout": "IPY_MODEL_c1012d4f49fe413c997e4273d3f69257",
       "style": "IPY_MODEL_f354721c522c4efb9042be37a7a901a4",
       "value": "nsitk.morphological_watershed( distance_image=no_image, level=1.0)"
      }
     },
     "d17343c9750c43588a95789ad4ba6e28": {
      "model_module": "@jupyter-widgets/base",
      "model_module_version": "2.0.0",
      "model_name": "LayoutModel",
      "state": {}
     },
     "d199e20acd7d478d82c715de8acb3138": {
      "model_module": "@jupyter-widgets/base",
      "model_module_version": "2.0.0",
      "model_name": "LayoutModel",
      "state": {}
     },
     "d19f037e729c478da3e2a0cdd4177322": {
      "model_module": "@jupyter-widgets/controls",
      "model_module_version": "2.0.0",
      "model_name": "VBoxModel",
      "state": {
       "_dom_classes": [
        "widget-interact"
       ],
       "children": [
        "IPY_MODEL_06c2073800b14a57bda50cb0c4fec6ed",
        "IPY_MODEL_7b90a32ce37b453c802a50151499c4e8",
        "IPY_MODEL_737774fff6b249ee9c5a066666856f4f"
       ],
       "layout": "IPY_MODEL_817ad551a7b94d149b82ab4893486027"
      }
     },
     "d1cd93a3ca4048c68a69dfd7f965a233": {
      "model_module": "@jupyter-widgets/base",
      "model_module_version": "2.0.0",
      "model_name": "LayoutModel",
      "state": {}
     },
     "d1fdd0b83f41440eaf544f2a0d9ca05a": {
      "model_module": "@jupyter-widgets/controls",
      "model_module_version": "2.0.0",
      "model_name": "DescriptionStyleModel",
      "state": {
       "description_width": ""
      }
     },
     "d21e5f9ac99140f9b9392745b4862368": {
      "model_module": "@jupyter-widgets/controls",
      "model_module_version": "2.0.0",
      "model_name": "SliderStyleModel",
      "state": {
       "description_width": ""
      }
     },
     "d22389ddf0a14cad9b92c829e2254027": {
      "model_module": "@jupyter-widgets/controls",
      "model_module_version": "2.0.0",
      "model_name": "LabelModel",
      "state": {
       "layout": "IPY_MODEL_c4c450e4fb2d406da2da542cff40ada3",
       "style": "IPY_MODEL_9971f1d36206472f99c4fd91790127ec",
       "value": "nsbatwm.gauss_otsu_labeling( image=no_image, outline_sigma=2.0)"
      }
     },
     "d24afe9b75bb44c6943806aa440374f0": {
      "model_module": "@jupyter-widgets/controls",
      "model_module_version": "2.0.0",
      "model_name": "FloatSliderModel",
      "state": {
       "behavior": "drag-tap",
       "description": "spatial_proximity_weight",
       "layout": "IPY_MODEL_c7f064b0a9914a2e86acb154440dacfa",
       "step": null,
       "style": "IPY_MODEL_384e04c4f67b498499fe7c8e5438e56f",
       "value": 10
      }
     },
     "d24d5fbb18534014ac75fcc6adaaa414": {
      "model_module": "@jupyter-widgets/controls",
      "model_module_version": "2.0.0",
      "model_name": "DropdownModel",
      "state": {
       "_options_labels": [
        "no_image",
        "image1",
        "image2",
        "image3",
        "blobs",
        "binary",
        "labels",
        "dilated_labels"
       ],
       "description": "image",
       "index": 0,
       "layout": "IPY_MODEL_17511b2bc3b7409bb7244e26a3fe94bc",
       "style": "IPY_MODEL_23a6c4f3b965424ba2a3a77a25f8b1f3"
      }
     },
     "d25a35f392224ac59949a9f4107a46d5": {
      "model_module": "@jupyter-widgets/controls",
      "model_module_version": "2.0.0",
      "model_name": "DropdownModel",
      "state": {
       "_options_labels": [
        "no_image",
        "image1",
        "image2",
        "image3",
        "blobs",
        "binary",
        "labels",
        "dilated_labels"
       ],
       "description": "image",
       "index": 0,
       "layout": "IPY_MODEL_b53b8a16f10e4b2c8f0320d27b9f7a1b",
       "style": "IPY_MODEL_d7495ce781fb45988eb16a9e31dd2fd1"
      }
     },
     "d25da5f8dfd0430d92e40b83ba718514": {
      "model_module": "@jupyter-widgets/controls",
      "model_module_version": "2.0.0",
      "model_name": "LabelModel",
      "state": {
       "layout": "IPY_MODEL_452a732ee5534e93adf89c94e5fd35ef",
       "style": "IPY_MODEL_274f98b57dce46fea95cf284e1dffc33",
       "value": "nsitk.label_contour( label_image=no_image, fully_connected=True)"
      }
     },
     "d25dd3b1d37440168364702f9f548e53": {
      "model_module": "@jupyter-widgets/controls",
      "model_module_version": "2.0.0",
      "model_name": "VBoxModel",
      "state": {
       "children": [
        "IPY_MODEL_45ff0a86e93b4745b64f842426fe4e97",
        "IPY_MODEL_2a5e38af93da426b845d506dc95f94c4"
       ],
       "layout": "IPY_MODEL_c4ac4273e0e74ed7bc9931dbc62d237b"
      }
     },
     "d28c5d98d73a4505b88ca7c1a876b06c": {
      "model_module": "@jupyter-widgets/base",
      "model_module_version": "2.0.0",
      "model_name": "LayoutModel",
      "state": {}
     },
     "d2b3a936f9d64fd28da9bd19d9f2a6dd": {
      "model_module": "@jupyter-widgets/controls",
      "model_module_version": "2.0.0",
      "model_name": "LabelStyleModel",
      "state": {
       "description_width": "",
       "font_family": "Courier",
       "font_size": null,
       "font_style": null,
       "font_variant": null,
       "font_weight": null,
       "text_color": null,
       "text_decoration": null
      }
     },
     "d2c4c4c9219d419280746e5ba60b7b72": {
      "model_module": "@jupyter-widgets/base",
      "model_module_version": "2.0.0",
      "model_name": "LayoutModel",
      "state": {}
     },
     "d2e57a13dfcc43ca8458ef57283134cc": {
      "model_module": "@jupyter-widgets/output",
      "model_module_version": "1.0.0",
      "model_name": "OutputModel",
      "state": {
       "layout": "IPY_MODEL_469cb393c4994cf69824d61702d30db0"
      }
     },
     "d2f489fc702c41838586d0d4f1b5ef50": {
      "model_module": "@jupyter-widgets/output",
      "model_module_version": "1.0.0",
      "model_name": "OutputModel",
      "state": {
       "layout": "IPY_MODEL_66567be46cf04b3a9d42b329b8914c36"
      }
     },
     "d305b9515b464a8e95334ef441219519": {
      "model_module": "@jupyter-widgets/controls",
      "model_module_version": "2.0.0",
      "model_name": "DescriptionStyleModel",
      "state": {
       "description_width": ""
      }
     },
     "d3210beb308f490e83c4fba511ebb6a9": {
      "model_module": "@jupyter-widgets/controls",
      "model_module_version": "2.0.0",
      "model_name": "DescriptionStyleModel",
      "state": {
       "description_width": ""
      }
     },
     "d37d511a41ae405db206d8dfef1e7f08": {
      "model_module": "@jupyter-widgets/base",
      "model_module_version": "2.0.0",
      "model_name": "LayoutModel",
      "state": {}
     },
     "d384007b770a4582a6aa03cbd0465eb6": {
      "model_module": "@jupyter-widgets/base",
      "model_module_version": "2.0.0",
      "model_name": "LayoutModel",
      "state": {}
     },
     "d39462a771fc480690f744a9a1a95e2f": {
      "model_module": "@jupyter-widgets/base",
      "model_module_version": "2.0.0",
      "model_name": "LayoutModel",
      "state": {}
     },
     "d3b5505f47a14ad1ac30aad46baeae49": {
      "model_module": "@jupyter-widgets/controls",
      "model_module_version": "2.0.0",
      "model_name": "DescriptionStyleModel",
      "state": {
       "description_width": ""
      }
     },
     "d3bec906e3804ca79ebe10b09b610b76": {
      "model_module": "@jupyter-widgets/controls",
      "model_module_version": "2.0.0",
      "model_name": "LabelModel",
      "state": {
       "layout": "IPY_MODEL_8c6c2072e95243e6a3379ced1b8bcfeb",
       "style": "IPY_MODEL_bcaa194e9337440ea75f20c1fc8eecd7",
       "value": "skfilters.sato( image=no_image, sigmas=0.0)"
      }
     },
     "d3ca99f431d74b6ba1e0363279aaa441": {
      "model_module": "@jupyter-widgets/base",
      "model_module_version": "2.0.0",
      "model_name": "LayoutModel",
      "state": {}
     },
     "d3d2f1d0e9914175b03ef40e907d93cc": {
      "model_module": "@jupyter-widgets/controls",
      "model_module_version": "2.0.0",
      "model_name": "DescriptionStyleModel",
      "state": {
       "description_width": ""
      }
     },
     "d3ddb095c039439bbd73e9e7952a91c5": {
      "model_module": "@jupyter-widgets/base",
      "model_module_version": "2.0.0",
      "model_name": "LayoutModel",
      "state": {}
     },
     "d3dfc4f2ef4a491dab7823f02d579b94": {
      "model_module": "@jupyter-widgets/base",
      "model_module_version": "2.0.0",
      "model_name": "LayoutModel",
      "state": {}
     },
     "d3ff5fc3385745d5987e459d78f8324e": {
      "model_module": "@jupyter-widgets/base",
      "model_module_version": "2.0.0",
      "model_name": "LayoutModel",
      "state": {}
     },
     "d41fe2c0be3c4bf393efa98c4c81ff7b": {
      "model_module": "@jupyter-widgets/base",
      "model_module_version": "2.0.0",
      "model_name": "LayoutModel",
      "state": {}
     },
     "d4283a8d81874b6aba632bf21750144c": {
      "model_module": "@jupyter-widgets/controls",
      "model_module_version": "2.0.0",
      "model_name": "FloatSliderModel",
      "state": {
       "behavior": "drag-tap",
       "description": "sigma",
       "layout": "IPY_MODEL_d4b45115f0494123aaa6216bada289b6",
       "max": 25,
       "style": "IPY_MODEL_724cbe181ea34487bc1521825aa4d1e5",
       "value": 1
      }
     },
     "d4519a3dfc2a4540a987c824195667fd": {
      "model_module": "@jupyter-widgets/base",
      "model_module_version": "2.0.0",
      "model_name": "LayoutModel",
      "state": {}
     },
     "d483658f313340a7b5f603d054eb38e2": {
      "model_module": "@jupyter-widgets/controls",
      "model_module_version": "2.0.0",
      "model_name": "SliderStyleModel",
      "state": {
       "description_width": ""
      }
     },
     "d4897099ef914b2ea2d1f0071b42fff0": {
      "model_module": "@jupyter-widgets/controls",
      "model_module_version": "2.0.0",
      "model_name": "LabelStyleModel",
      "state": {
       "description_width": "",
       "font_family": "Courier",
       "font_size": null,
       "font_style": null,
       "font_variant": null,
       "font_weight": null,
       "text_color": null,
       "text_decoration": null
      }
     },
     "d4b45115f0494123aaa6216bada289b6": {
      "model_module": "@jupyter-widgets/base",
      "model_module_version": "2.0.0",
      "model_name": "LayoutModel",
      "state": {}
     },
     "d4b5420a3d8b4b988846e9f54429eced": {
      "model_module": "@jupyter-widgets/controls",
      "model_module_version": "2.0.0",
      "model_name": "LabelModel",
      "state": {
       "layout": "IPY_MODEL_efd43f3e1b1a46fea2904ed3efd91ded",
       "style": "IPY_MODEL_6649a8da942a4e65ba3d6048dc8c8edb",
       "value": "skfilters.apply_hysteresis_threshold( image=no_image)"
      }
     },
     "d4bcce91fe7348159fed1d2c591f904e": {
      "model_module": "@jupyter-widgets/base",
      "model_module_version": "2.0.0",
      "model_name": "LayoutModel",
      "state": {}
     },
     "d4d4884af3574d9a88995b8edb0bfcad": {
      "model_module": "@jupyter-widgets/controls",
      "model_module_version": "2.0.0",
      "model_name": "DropdownModel",
      "state": {
       "_options_labels": [
        "no_image",
        "image1",
        "image2",
        "image3",
        "blobs",
        "binary",
        "labels",
        "dilated_labels"
       ],
       "description": "image",
       "index": 0,
       "layout": "IPY_MODEL_21b4e1aeb236483194ea6c099052ef34",
       "style": "IPY_MODEL_abb1e0a534df44699f0d5b8702ad8f5d"
      }
     },
     "d4d8c1f357294c6f864e6a0de60da585": {
      "model_module": "@jupyter-widgets/base",
      "model_module_version": "2.0.0",
      "model_name": "LayoutModel",
      "state": {}
     },
     "d4deee75c80244c6a07366382307efd9": {
      "model_module": "@jupyter-widgets/controls",
      "model_module_version": "2.0.0",
      "model_name": "DropdownModel",
      "state": {
       "_options_labels": [
        "no_image",
        "image1",
        "image2",
        "image3",
        "blobs",
        "binary",
        "labels",
        "dilated_labels"
       ],
       "description": "image",
       "index": 0,
       "layout": "IPY_MODEL_61b34148bbd24512a5ea3019566c343f",
       "style": "IPY_MODEL_4993aebb307c49e9a19ac68a0d8f99a2"
      }
     },
     "d4f1b2a67cb343a0b05d17f1af5813f4": {
      "model_module": "@jupyter-widgets/controls",
      "model_module_version": "2.0.0",
      "model_name": "VBoxModel",
      "state": {
       "children": [
        "IPY_MODEL_8c10e555f0bd4069be3f52663d5583d9",
        "IPY_MODEL_8a712615366b4980b727e255db732483"
       ],
       "layout": "IPY_MODEL_874cd7c19c6f42ed9e8c910421b06f56"
      }
     },
     "d521dccc4f124ea69b9562fd04ad0be8": {
      "model_module": "@jupyter-widgets/controls",
      "model_module_version": "2.0.0",
      "model_name": "LabelStyleModel",
      "state": {
       "description_width": "",
       "font_family": "Courier",
       "font_size": null,
       "font_style": null,
       "font_variant": null,
       "font_weight": null,
       "text_color": null,
       "text_decoration": null
      }
     },
     "d53f330ad27a4b28a7fc69bef1793ad8": {
      "model_module": "@jupyter-widgets/controls",
      "model_module_version": "2.0.0",
      "model_name": "VBoxModel",
      "state": {
       "_dom_classes": [
        "widget-interact"
       ],
       "children": [
        "IPY_MODEL_79836a1186bf46d3b2f1083e46a246e7",
        "IPY_MODEL_26d3033289f24da58baf30fac4ab5c4e"
       ],
       "layout": "IPY_MODEL_31732a15b25b40b186cce1f032fed76b"
      }
     },
     "d54e89123a564c19851b2dc6900aa2e5": {
      "model_module": "@jupyter-widgets/base",
      "model_module_version": "2.0.0",
      "model_name": "LayoutModel",
      "state": {}
     },
     "d55f3bd3368b4cc3af5247259d00b51e": {
      "model_module": "@jupyter-widgets/base",
      "model_module_version": "2.0.0",
      "model_name": "LayoutModel",
      "state": {}
     },
     "d56f5a030d1f4a44bce7ffde4472d1a0": {
      "model_module": "@jupyter-widgets/base",
      "model_module_version": "2.0.0",
      "model_name": "LayoutModel",
      "state": {
       "display": "none"
      }
     },
     "d5a7273ab87c4b7987af18b092712ff6": {
      "model_module": "@jupyter-widgets/controls",
      "model_module_version": "2.0.0",
      "model_name": "SliderStyleModel",
      "state": {
       "description_width": ""
      }
     },
     "d5c137aacd194d8c8b6938a6c17b4a27": {
      "model_module": "@jupyter-widgets/base",
      "model_module_version": "2.0.0",
      "model_name": "LayoutModel",
      "state": {
       "display": "none"
      }
     },
     "d5d1ecb2c84140869b8fd7d19a0b0c82": {
      "model_module": "@jupyter-widgets/controls",
      "model_module_version": "2.0.0",
      "model_name": "VBoxModel",
      "state": {
       "children": [
        "IPY_MODEL_a6337f2a6fb74185a1d45103e94e47e4",
        "IPY_MODEL_caaf9653ad79415ea81a62a7f6e6fbf6"
       ],
       "layout": "IPY_MODEL_37dcb85f513144f58746373b1f13913d"
      }
     },
     "d5e6abb531c94190883151905c25b878": {
      "model_module": "@jupyter-widgets/base",
      "model_module_version": "2.0.0",
      "model_name": "LayoutModel",
      "state": {}
     },
     "d5ec5e5739bd4fa5ad6af5e940137911": {
      "model_module": "@jupyter-widgets/base",
      "model_module_version": "2.0.0",
      "model_name": "LayoutModel",
      "state": {
       "display": "none"
      }
     },
     "d5f21a740f314dfeb20e51c55f17b292": {
      "model_module": "@jupyter-widgets/base",
      "model_module_version": "2.0.0",
      "model_name": "LayoutModel",
      "state": {
       "display": "none"
      }
     },
     "d5ff56c5bf794bfd9aa1eb5077139c87": {
      "model_module": "@jupyter-widgets/base",
      "model_module_version": "2.0.0",
      "model_name": "LayoutModel",
      "state": {}
     },
     "d6014f57bf89470e9f41101dd7774cae": {
      "model_module": "@jupyter-widgets/output",
      "model_module_version": "1.0.0",
      "model_name": "OutputModel",
      "state": {
       "layout": "IPY_MODEL_41766fdf9f464c409c81c891a09ffe14"
      }
     },
     "d62ee0c01b8f4241987374698c0c55c3": {
      "model_module": "@jupyter-widgets/controls",
      "model_module_version": "2.0.0",
      "model_name": "VBoxModel",
      "state": {
       "_dom_classes": [
        "widget-interact"
       ],
       "children": [
        "IPY_MODEL_87cb0597fe9247ecbfb8c76037f88d98",
        "IPY_MODEL_11491717b6f6490e81f84274b254ab08",
        "IPY_MODEL_cee4c3b4707141ab8b75647450a53fa0",
        "IPY_MODEL_e492449a9ea9458481058aca25c4bcb4"
       ],
       "layout": "IPY_MODEL_6bb979eb02c14b118af41b279adfc950"
      }
     },
     "d63ab2cfd6d946be8e742d0ff70b5471": {
      "model_module": "@jupyter-widgets/controls",
      "model_module_version": "2.0.0",
      "model_name": "VBoxModel",
      "state": {
       "children": [
        "IPY_MODEL_81fc917f7f9c4dd6918e7ae73461713b",
        "IPY_MODEL_4a91baf580c64beaa8bdec3b18e6b0dd"
       ],
       "layout": "IPY_MODEL_d8a6b2e36dd54218bf9d8cf1327fa4ae"
      }
     },
     "d659ac426ab942c182e5a1239542398f": {
      "model_module": "@jupyter-widgets/base",
      "model_module_version": "2.0.0",
      "model_name": "LayoutModel",
      "state": {}
     },
     "d65b157452594405abbe2e187de21b43": {
      "model_module": "@jupyter-widgets/controls",
      "model_module_version": "2.0.0",
      "model_name": "DropdownModel",
      "state": {
       "_options_labels": [
        "no_image",
        "image1",
        "image2",
        "image3",
        "blobs",
        "binary",
        "labels",
        "dilated_labels"
       ],
       "description": "labels_layer",
       "index": 0,
       "layout": "IPY_MODEL_8c079e1e7b8a4a6da1ca2454920b17c6",
       "style": "IPY_MODEL_e9cc62e1efd04b5785049ace790f5e68"
      }
     },
     "d65f34c64db940f5b1287b8504c130d1": {
      "model_module": "@jupyter-widgets/controls",
      "model_module_version": "2.0.0",
      "model_name": "LabelModel",
      "state": {
       "layout": "IPY_MODEL_6b82a6a5d97f438ea9c41c0cd72ccf8c",
       "style": "IPY_MODEL_017ffeb0b5ff456bb385fcae26332d08",
       "value": "nsitk.otsu_multiple_thresholds( image=no_image, number_of_thresholds=3, label_offset=0, number_of_histogram_bins=100)"
      }
     },
     "d65f76bef5934e898bbe7a5f6f553e71": {
      "model_module": "@jupyter-widgets/base",
      "model_module_version": "2.0.0",
      "model_name": "LayoutModel",
      "state": {}
     },
     "d6662be28f1a41039932fb63f6acda2a": {
      "model_module": "@jupyter-widgets/controls",
      "model_module_version": "2.0.0",
      "model_name": "SliderStyleModel",
      "state": {
       "description_width": ""
      }
     },
     "d6b8bd4d3b714a3299e32115db805a02": {
      "model_module": "@jupyter-widgets/controls",
      "model_module_version": "2.0.0",
      "model_name": "DropdownModel",
      "state": {
       "_options_labels": [
        "no_image",
        "image1",
        "image2",
        "image3",
        "blobs",
        "binary",
        "labels",
        "dilated_labels"
       ],
       "description": "image",
       "index": 0,
       "layout": "IPY_MODEL_5cd140c009e6452b8d9c2b0f485a423f",
       "style": "IPY_MODEL_fb045f8cfea54e8d855a861aa12941e4"
      }
     },
     "d6d8225e89684560a40619024ac49966": {
      "model_module": "@jupyter-widgets/base",
      "model_module_version": "2.0.0",
      "model_name": "LayoutModel",
      "state": {}
     },
     "d6fac59b8e824be7bb782e5a5ba33ebc": {
      "model_module": "@jupyter-widgets/controls",
      "model_module_version": "2.0.0",
      "model_name": "VBoxModel",
      "state": {
       "children": [
        "IPY_MODEL_950321a4496c41a7b4ece973d2aec612",
        "IPY_MODEL_4f6b6790f3154b0182e4f3c2ae6c9080"
       ],
       "layout": "IPY_MODEL_1ea100c96c724670b936e0a5b1e05fff"
      }
     },
     "d70e8a6400eb4d7bbbd0987a85e4ef72": {
      "model_module": "@jupyter-widgets/base",
      "model_module_version": "2.0.0",
      "model_name": "LayoutModel",
      "state": {}
     },
     "d71cb32956304c05a03fafbc99ad369f": {
      "model_module": "@jupyter-widgets/controls",
      "model_module_version": "2.0.0",
      "model_name": "SliderStyleModel",
      "state": {
       "description_width": ""
      }
     },
     "d7495ce781fb45988eb16a9e31dd2fd1": {
      "model_module": "@jupyter-widgets/controls",
      "model_module_version": "2.0.0",
      "model_name": "DescriptionStyleModel",
      "state": {
       "description_width": ""
      }
     },
     "d775f0632fd649f18ae0ec33b1a0ea4c": {
      "model_module": "@jupyter-widgets/base",
      "model_module_version": "2.0.0",
      "model_name": "LayoutModel",
      "state": {}
     },
     "d7ba9125628c4a4e861c143396ccc552": {
      "model_module": "@jupyter-widgets/base",
      "model_module_version": "2.0.0",
      "model_name": "LayoutModel",
      "state": {}
     },
     "d7e78ef806bc4b6e8d02df30d6f0277a": {
      "model_module": "@jupyter-widgets/base",
      "model_module_version": "2.0.0",
      "model_name": "LayoutModel",
      "state": {}
     },
     "d857828de83a4c108daed243eee275ab": {
      "model_module": "@jupyter-widgets/controls",
      "model_module_version": "2.0.0",
      "model_name": "LabelStyleModel",
      "state": {
       "description_width": "",
       "font_family": "Courier",
       "font_size": null,
       "font_style": null,
       "font_variant": null,
       "font_weight": null,
       "text_color": null,
       "text_decoration": null
      }
     },
     "d86fdb8c7675425f8d4bf2d33aea237c": {
      "model_module": "@jupyter-widgets/base",
      "model_module_version": "2.0.0",
      "model_name": "LayoutModel",
      "state": {}
     },
     "d8928c66120b41caaed6c4c4a6bcfe4f": {
      "model_module": "@jupyter-widgets/base",
      "model_module_version": "2.0.0",
      "model_name": "LayoutModel",
      "state": {}
     },
     "d8a6b2e36dd54218bf9d8cf1327fa4ae": {
      "model_module": "@jupyter-widgets/base",
      "model_module_version": "2.0.0",
      "model_name": "LayoutModel",
      "state": {
       "display": "none"
      }
     },
     "d8cb9332f3294b01a85d706060aed3f4": {
      "model_module": "@jupyter-widgets/controls",
      "model_module_version": "2.0.0",
      "model_name": "VBoxModel",
      "state": {
       "children": [
        "IPY_MODEL_9393b5d5dc654a16bd5fa9be04376aa0",
        "IPY_MODEL_115c4d35e1a841549476844c8f1dc595"
       ],
       "layout": "IPY_MODEL_b4cfa3aa0ed04fadb9db9400e664035b"
      }
     },
     "d8ceaedc0d194f61bc1d91d8eacaa876": {
      "model_module": "@jupyter-widgets/base",
      "model_module_version": "2.0.0",
      "model_name": "LayoutModel",
      "state": {}
     },
     "d8d44f35792f466f96559030d51228ec": {
      "model_module": "@jupyter-widgets/controls",
      "model_module_version": "2.0.0",
      "model_name": "VBoxModel",
      "state": {
       "_dom_classes": [
        "widget-interact"
       ],
       "children": [
        "IPY_MODEL_76cdf6d768ef46b9b743200f1c807683",
        "IPY_MODEL_996209d0a88a4093a2bb091ad54fd911",
        "IPY_MODEL_c90f7d1c7d1140259628f5b5d3ffdfd0",
        "IPY_MODEL_0bf67f83ad824caba4736dac4788c700"
       ],
       "layout": "IPY_MODEL_6ed3d72a442d48429e161fbf99a15d7a"
      }
     },
     "d8d83f0c77a845688aa2db97dfe7a33b": {
      "model_module": "@jupyter-widgets/base",
      "model_module_version": "2.0.0",
      "model_name": "LayoutModel",
      "state": {}
     },
     "d901da07c7c34da38410df813795616d": {
      "model_module": "@jupyter-widgets/base",
      "model_module_version": "2.0.0",
      "model_name": "LayoutModel",
      "state": {}
     },
     "d9129a482a124ef39e8dae55ab4c91df": {
      "model_module": "@jupyter-widgets/controls",
      "model_module_version": "2.0.0",
      "model_name": "LabelModel",
      "state": {
       "layout": "IPY_MODEL_83910755d5394c68a151f1dd6558c9a8",
       "style": "IPY_MODEL_62f0dbdc6a3e4a7a8d302eeb3056643e",
       "value": "nsitk.standard_deviation_filter( distance_image=no_image, radius_x=5, radius_y=5, radius_z=5)"
      }
     },
     "d92d2e3200e04f23b73693ffdd54b956": {
      "model_module": "@jupyter-widgets/base",
      "model_module_version": "2.0.0",
      "model_name": "LayoutModel",
      "state": {}
     },
     "d9351cc202f64a68980739ffbaf629f6": {
      "model_module": "@jupyter-widgets/controls",
      "model_module_version": "2.0.0",
      "model_name": "DropdownModel",
      "state": {
       "_options_labels": [
        "no_image",
        "image1",
        "image2",
        "image3",
        "blobs",
        "binary",
        "labels",
        "dilated_labels"
       ],
       "description": "image",
       "index": 0,
       "layout": "IPY_MODEL_b0e34503cb2b4ede9ccf388b3033ac9c",
       "style": "IPY_MODEL_e06a6a3285d545258d2321d5dbb19892"
      }
     },
     "d935c804f0724c98972124c87fbd6a69": {
      "model_module": "@jupyter-widgets/base",
      "model_module_version": "2.0.0",
      "model_name": "LayoutModel",
      "state": {}
     },
     "d9456211e4174535a009efcd7d18ed95": {
      "model_module": "@jupyter-widgets/controls",
      "model_module_version": "2.0.0",
      "model_name": "LabelStyleModel",
      "state": {
       "description_width": "",
       "font_family": "Courier",
       "font_size": null,
       "font_style": null,
       "font_variant": null,
       "font_weight": null,
       "text_color": null,
       "text_decoration": null
      }
     },
     "d94cf0e2850346ff956ed07878d021a5": {
      "model_module": "@jupyter-widgets/base",
      "model_module_version": "2.0.0",
      "model_name": "LayoutModel",
      "state": {}
     },
     "d951c348fab34999bfd441eb905e406c": {
      "model_module": "@jupyter-widgets/controls",
      "model_module_version": "2.0.0",
      "model_name": "DropdownModel",
      "state": {
       "_options_labels": [
        "nsbatwm.gauss_otsu_labeling",
        "nsbatwm.seeded_watershed",
        "nsbatwm.seeded_watershed_with_mask",
        "nsbatwm.split_touching_objects",
        "nsbatwm.voronoi_otsu_labeling",
        "nsitk.touching_objects_labeling"
       ],
       "description": "Operation",
       "index": 0,
       "layout": "IPY_MODEL_30b4f103e8a7408083cccef7a68fc21a",
       "style": "IPY_MODEL_c8a561c6eec2454eafdb4fc6dc44eed3"
      }
     },
     "d9656d7919254af9ad5ee384559f84a3": {
      "model_module": "@jupyter-widgets/output",
      "model_module_version": "1.0.0",
      "model_name": "OutputModel",
      "state": {
       "layout": "IPY_MODEL_123ce40f27f04bd7818aa3c77362dbb0"
      }
     },
     "d989f2fadcb6497b9bcc57af0e6e99ce": {
      "model_module": "@jupyter-widgets/controls",
      "model_module_version": "2.0.0",
      "model_name": "LabelModel",
      "state": {
       "layout": "IPY_MODEL_d4d8c1f357294c6f864e6a0de60da585",
       "style": "IPY_MODEL_e9b519a9742a4818a5ec3ef14535c0a3",
       "value": "nsitk.threshold_yen( image=no_image)"
      }
     },
     "d9b7c78bfa604a678f01c3d693df6b27": {
      "model_module": "@jupyter-widgets/base",
      "model_module_version": "2.0.0",
      "model_name": "LayoutModel",
      "state": {}
     },
     "d9cfa07e703944e3988af3836a1b162a": {
      "model_module": "@jupyter-widgets/controls",
      "model_module_version": "2.0.0",
      "model_name": "DescriptionStyleModel",
      "state": {
       "description_width": ""
      }
     },
     "d9f407f3447f43de8e5016a79fe28d47": {
      "model_module": "@jupyter-widgets/controls",
      "model_module_version": "2.0.0",
      "model_name": "IntSliderModel",
      "state": {
       "behavior": "drag-tap",
       "description": "footprint",
       "layout": "IPY_MODEL_f422561f6d5d475bad7db2a693821a72",
       "style": "IPY_MODEL_9b43a120fb5e429dacdc00fc06393dcf"
      }
     },
     "d9f8627f0ec746d58e49fdcec6a60605": {
      "model_module": "@jupyter-widgets/base",
      "model_module_version": "2.0.0",
      "model_name": "LayoutModel",
      "state": {}
     },
     "da4daef0a8094ce284b0f733776afa0a": {
      "model_module": "@jupyter-widgets/base",
      "model_module_version": "2.0.0",
      "model_name": "LayoutModel",
      "state": {
       "display": "none"
      }
     },
     "da585b8ea35a4f2bb24d2d402d8a9d88": {
      "model_module": "@jupyter-widgets/controls",
      "model_module_version": "2.0.0",
      "model_name": "VBoxModel",
      "state": {
       "children": [
        "IPY_MODEL_f9cc5aaa85d141fc9479865cbb363450",
        "IPY_MODEL_4afab37931d34254a2a0b8aa7d11051d"
       ],
       "layout": "IPY_MODEL_d5ec5e5739bd4fa5ad6af5e940137911"
      }
     },
     "da9b74569f534b21897963bffca30440": {
      "model_module": "@jupyter-widgets/controls",
      "model_module_version": "2.0.0",
      "model_name": "LabelModel",
      "state": {
       "layout": "IPY_MODEL_86426157d6bd43d7872681a3efa0b450",
       "style": "IPY_MODEL_62508b50496f42e3b3b3c1858bb6c7db",
       "value": "nsbatwm.split_touching_objects( binary=no_image, sigma=4.0)"
      }
     },
     "dad5a28841a848179d86d29f94857a13": {
      "model_module": "@jupyter-widgets/controls",
      "model_module_version": "2.0.0",
      "model_name": "FloatSliderModel",
      "state": {
       "behavior": "drag-tap",
       "description": "radius",
       "layout": "IPY_MODEL_5e12b1a509e94343a6534475f77eca17",
       "style": "IPY_MODEL_2b40c6353e7a4628bd0468ab2f4db2f7",
       "value": 2
      }
     },
     "daf422f9f3a94173b04df965e860c3a7": {
      "model_module": "@jupyter-widgets/output",
      "model_module_version": "1.0.0",
      "model_name": "OutputModel",
      "state": {
       "layout": "IPY_MODEL_83dc1814cf474b3284ee4c40865692dc"
      }
     },
     "db06bafa6ad2459d818be8f274e27bb8": {
      "model_module": "@jupyter-widgets/controls",
      "model_module_version": "2.0.0",
      "model_name": "DropdownModel",
      "state": {
       "_options_labels": [
        "no_image",
        "image1",
        "image2",
        "image3",
        "blobs",
        "binary",
        "labels",
        "dilated_labels"
       ],
       "description": "image",
       "index": 0,
       "layout": "IPY_MODEL_835cbef857a7426786a97e9af9f0b59c",
       "style": "IPY_MODEL_55c622072cb848f4b87995afd57207d5"
      }
     },
     "db848aa8d4294e72a4a88e292dc1093c": {
      "model_module": "@jupyter-widgets/base",
      "model_module_version": "2.0.0",
      "model_name": "LayoutModel",
      "state": {}
     },
     "db91bfb3b8de487da88b9a9eeeff2a08": {
      "model_module": "@jupyter-widgets/controls",
      "model_module_version": "2.0.0",
      "model_name": "LabelStyleModel",
      "state": {
       "description_width": "",
       "font_family": "Courier",
       "font_size": null,
       "font_style": null,
       "font_variant": null,
       "font_weight": null,
       "text_color": null,
       "text_decoration": null
      }
     },
     "dbc6fece6ac941739b7b91e5e1396e9c": {
      "model_module": "@jupyter-widgets/controls",
      "model_module_version": "2.0.0",
      "model_name": "LabelModel",
      "state": {
       "layout": "IPY_MODEL_d9f8627f0ec746d58e49fdcec6a60605",
       "style": "IPY_MODEL_9db5b05824d741b3a8e20c5db5243f35",
       "value": "nsbatwm.local_minima_seeded_watershed( image=no_image, spot_sigma=10.0, outline_sigma=0.0)"
      }
     },
     "dbf0bfcb356741adaa7b3cd793992432": {
      "model_module": "@jupyter-widgets/controls",
      "model_module_version": "2.0.0",
      "model_name": "LabelModel",
      "state": {
       "layout": "IPY_MODEL_37be10e68a1e4758852a4ca778790076",
       "style": "IPY_MODEL_9437ad9f61fb4b6fa6d09c7ce01efc1a",
       "value": "nsbatwm.threshold_otsu( image=no_image)"
      }
     },
     "dbf2e03ea6aa4bc5bb0693cb22f5bdd8": {
      "model_module": "@jupyter-widgets/controls",
      "model_module_version": "2.0.0",
      "model_name": "DescriptionStyleModel",
      "state": {
       "description_width": ""
      }
     },
     "dbfdcc3d46194d9cba174cea411c2d18": {
      "model_module": "@jupyter-widgets/base",
      "model_module_version": "2.0.0",
      "model_name": "LayoutModel",
      "state": {}
     },
     "dc113271ec0f4ff28d7e37da5986857e": {
      "model_module": "@jupyter-widgets/controls",
      "model_module_version": "2.0.0",
      "model_name": "FloatSliderModel",
      "state": {
       "behavior": "drag-tap",
       "description": "alpha",
       "layout": "IPY_MODEL_5e38ac5a4b454e1e8dc1c894798196b5",
       "step": null,
       "style": "IPY_MODEL_3b8cfbd331b649639d131fc066821139",
       "value": 0.3
      }
     },
     "dc13594654d84870b8d023946ad12eaf": {
      "model_module": "@jupyter-widgets/controls",
      "model_module_version": "2.0.0",
      "model_name": "LabelModel",
      "state": {
       "layout": "IPY_MODEL_bb00b8ae236b452b8e6b452804ce3761",
       "style": "IPY_MODEL_180653cf80fc4295995efaae6a676aaf",
       "value": "nsbatwm.maximum_filter( image=no_image, radius=2.0)"
      }
     },
     "dc31f552564d4456836d66ee27e4970c": {
      "model_module": "@jupyter-widgets/controls",
      "model_module_version": "2.0.0",
      "model_name": "LabelStyleModel",
      "state": {
       "description_width": "",
       "font_family": "Courier",
       "font_size": null,
       "font_style": null,
       "font_variant": null,
       "font_weight": null,
       "text_color": null,
       "text_decoration": null
      }
     },
     "dc385a992dc0400d9d535fd08d03bd03": {
      "model_module": "@jupyter-widgets/controls",
      "model_module_version": "2.0.0",
      "model_name": "DescriptionStyleModel",
      "state": {
       "description_width": ""
      }
     },
     "dc588d85f8ee4fdaacc91a670ae23caf": {
      "model_module": "@jupyter-widgets/base",
      "model_module_version": "2.0.0",
      "model_name": "LayoutModel",
      "state": {}
     },
     "dcb743b28b3149daacc8eacd9a261877": {
      "model_module": "@jupyter-widgets/controls",
      "model_module_version": "2.0.0",
      "model_name": "DropdownModel",
      "state": {
       "_options_labels": [
        "no_image",
        "image1",
        "image2",
        "image3",
        "blobs",
        "binary",
        "labels",
        "dilated_labels"
       ],
       "description": "label_field",
       "index": 0,
       "layout": "IPY_MODEL_5493825cc2fb4328aa278150bebad204",
       "style": "IPY_MODEL_b88dbdcb46134f6b8a7b269057fb47e7"
      }
     },
     "dccaad858697474f9d16ab79acef3335": {
      "model_module": "@jupyter-widgets/base",
      "model_module_version": "2.0.0",
      "model_name": "LayoutModel",
      "state": {
       "display": "none"
      }
     },
     "dcd4c43ba58948fca9a28e48af6dc329": {
      "model_module": "@jupyter-widgets/controls",
      "model_module_version": "2.0.0",
      "model_name": "VBoxModel",
      "state": {
       "children": [
        "IPY_MODEL_fe81c0ad26bc4fb7bcddd57508028b1d",
        "IPY_MODEL_5772a0b7dd7e43999f9b37710dc72e68"
       ],
       "layout": "IPY_MODEL_ca71394a75b94fdea17441e79a4eefab"
      }
     },
     "dcdc3d8d93494def8dcebbed5d357041": {
      "model_module": "@jupyter-widgets/controls",
      "model_module_version": "2.0.0",
      "model_name": "LabelStyleModel",
      "state": {
       "description_width": "",
       "font_family": "Courier",
       "font_size": null,
       "font_style": null,
       "font_variant": null,
       "font_weight": null,
       "text_color": null,
       "text_decoration": null
      }
     },
     "dcea580307644e2d98710358eb6281a1": {
      "model_module": "@jupyter-widgets/controls",
      "model_module_version": "2.0.0",
      "model_name": "DescriptionStyleModel",
      "state": {
       "description_width": ""
      }
     },
     "dcfb186aceea4d80993531cc13841a8c": {
      "model_module": "@jupyter-widgets/controls",
      "model_module_version": "2.0.0",
      "model_name": "FloatSliderModel",
      "state": {
       "behavior": "drag-tap",
       "description": "watershed_level",
       "layout": "IPY_MODEL_6d4189af85174ba285eaf763e340fb8f",
       "step": null,
       "style": "IPY_MODEL_5d968da522cf491284a014693d803fdf",
       "value": 10
      }
     },
     "dd04c2c9904c4ca5b318f2ec4a14440e": {
      "model_module": "@jupyter-widgets/base",
      "model_module_version": "2.0.0",
      "model_name": "LayoutModel",
      "state": {}
     },
     "dd26e042c0494f66be554a0fe34d4ceb": {
      "model_module": "@jupyter-widgets/controls",
      "model_module_version": "2.0.0",
      "model_name": "IntSliderModel",
      "state": {
       "behavior": "drag-tap",
       "description": "Slice",
       "layout": "IPY_MODEL_41c5f44a066c4db7ae418e41ffa4bd44",
       "max": 253,
       "style": "IPY_MODEL_19b6bd6a93404cf29bd51002f10ab9a1",
       "value": 5
      }
     },
     "dd2cca0514d94eeeb9eb2b235730c36e": {
      "model_module": "@jupyter-widgets/base",
      "model_module_version": "2.0.0",
      "model_name": "LayoutModel",
      "state": {
       "display": "none"
      }
     },
     "dd5fbc6624314797aae4879491aeb940": {
      "model_module": "@jupyter-widgets/controls",
      "model_module_version": "2.0.0",
      "model_name": "DescriptionStyleModel",
      "state": {
       "description_width": ""
      }
     },
     "dd7d8cf1cf45462d9d073a49a48d40e4": {
      "model_module": "@jupyter-widgets/controls",
      "model_module_version": "2.0.0",
      "model_name": "SliderStyleModel",
      "state": {
       "description_width": ""
      }
     },
     "dd99df7d020c424a9f7f1c499219fea2": {
      "model_module": "@jupyter-widgets/controls",
      "model_module_version": "2.0.0",
      "model_name": "DropdownModel",
      "state": {
       "_options_labels": [
        "no_image",
        "image1",
        "image2",
        "image3",
        "blobs",
        "binary",
        "labels",
        "dilated_labels"
       ],
       "description": "mask",
       "index": 0,
       "layout": "IPY_MODEL_d03e6ed9072b4823b85bc4387ba3bc9f",
       "style": "IPY_MODEL_d1fdd0b83f41440eaf544f2a0d9ca05a"
      }
     },
     "dda0c81766ea4ba2a9cfc0f90ae98af1": {
      "model_module": "@jupyter-widgets/base",
      "model_module_version": "2.0.0",
      "model_name": "LayoutModel",
      "state": {}
     },
     "ddc21ba81e2a4a13aa36a1da75db013c": {
      "model_module": "@jupyter-widgets/base",
      "model_module_version": "2.0.0",
      "model_name": "LayoutModel",
      "state": {}
     },
     "ddc5d6ab54bd4c9fb6efdbd92725e0f3": {
      "model_module": "@jupyter-widgets/controls",
      "model_module_version": "2.0.0",
      "model_name": "DescriptionStyleModel",
      "state": {
       "description_width": ""
      }
     },
     "dddf536bb082479ca763cdd4b8f0c42e": {
      "model_module": "@jupyter-widgets/controls",
      "model_module_version": "2.0.0",
      "model_name": "VBoxModel",
      "state": {
       "children": [
        "IPY_MODEL_62c0f1026831431f9a35dcf2127298a1",
        "IPY_MODEL_34bb5f197bfb4eac9a7df25885c1c034"
       ],
       "layout": "IPY_MODEL_0dfb06b79f5347d2804765b30d9dad53"
      }
     },
     "dde0d408ae914c168f4770e7d2467c6f": {
      "model_module": "@jupyter-widgets/controls",
      "model_module_version": "2.0.0",
      "model_name": "SliderStyleModel",
      "state": {
       "description_width": ""
      }
     },
     "de2c7e8a957f4130a3b76ed90f8079b7": {
      "model_module": "@jupyter-widgets/controls",
      "model_module_version": "2.0.0",
      "model_name": "LabelModel",
      "state": {
       "layout": "IPY_MODEL_7b192ff220e548189e14a38d77b2158f",
       "style": "IPY_MODEL_785de97705094ef2ace02949308f41d4",
       "value": "skfilters.threshold_sauvola( image=no_image)"
      }
     },
     "de4d208a2b6f4bba836f412370050bd7": {
      "model_module": "@jupyter-widgets/controls",
      "model_module_version": "2.0.0",
      "model_name": "DropdownModel",
      "state": {
       "_options_labels": [
        "no_image",
        "image1",
        "image2",
        "image3",
        "blobs",
        "binary",
        "labels",
        "dilated_labels"
       ],
       "description": "image",
       "index": 0,
       "layout": "IPY_MODEL_51c067fe0ad946a7b97361a2b023b280",
       "style": "IPY_MODEL_16404c9acb0f497996fe13dbb2a76ca0"
      }
     },
     "de5b8509132a4941abfbf1d94aa1f8bc": {
      "model_module": "@jupyter-widgets/controls",
      "model_module_version": "2.0.0",
      "model_name": "LabelStyleModel",
      "state": {
       "description_width": "",
       "font_family": "Courier",
       "font_size": null,
       "font_style": null,
       "font_variant": null,
       "font_weight": null,
       "text_color": null,
       "text_decoration": null
      }
     },
     "dea0a17caafa4acd91e0033a32085195": {
      "model_module": "@jupyter-widgets/base",
      "model_module_version": "2.0.0",
      "model_name": "LayoutModel",
      "state": {}
     },
     "dedd5447feda4bdeb714ae9eda77a9cb": {
      "model_module": "@jupyter-widgets/controls",
      "model_module_version": "2.0.0",
      "model_name": "VBoxModel",
      "state": {
       "children": [
        "IPY_MODEL_981a8cf12422493f9fcf1b2a2bfb4979",
        "IPY_MODEL_829979c448174158aab6f9e2a4ff57da"
       ],
       "layout": "IPY_MODEL_6a1f613a687e4f76b9397885aa00e828"
      }
     },
     "dee1188684c54402ba179ac3e7792493": {
      "model_module": "@jupyter-widgets/controls",
      "model_module_version": "2.0.0",
      "model_name": "VBoxModel",
      "state": {
       "_dom_classes": [
        "widget-interact"
       ],
       "children": [
        "IPY_MODEL_1b4027e847c94dc9af35b82fcafac5e8",
        "IPY_MODEL_3f949be97bf447328cb90caa5b0085b2"
       ],
       "layout": "IPY_MODEL_d901da07c7c34da38410df813795616d"
      }
     },
     "dee556733c794b92973cba3c35f5a3ec": {
      "model_module": "@jupyter-widgets/base",
      "model_module_version": "2.0.0",
      "model_name": "LayoutModel",
      "state": {}
     },
     "deeb8b5985b343c6ae1125c5b8d13ff1": {
      "model_module": "@jupyter-widgets/base",
      "model_module_version": "2.0.0",
      "model_name": "LayoutModel",
      "state": {}
     },
     "df054725629c4e5bb133dd4ab053c3ed": {
      "model_module": "@jupyter-widgets/controls",
      "model_module_version": "2.0.0",
      "model_name": "DescriptionStyleModel",
      "state": {
       "description_width": ""
      }
     },
     "df0a6e3a8c754745aa7cd2b1365ed40d": {
      "model_module": "@jupyter-widgets/controls",
      "model_module_version": "2.0.0",
      "model_name": "DropdownModel",
      "state": {
       "_options_labels": [
        "no_image",
        "image1",
        "image2",
        "image3",
        "blobs",
        "binary",
        "labels",
        "dilated_labels"
       ],
       "description": "label_image",
       "index": 0,
       "layout": "IPY_MODEL_94245bba84da45aa946d2b3552315819",
       "style": "IPY_MODEL_e885646c2f04404fa6ac0ea84324caef"
      }
     },
     "df25a7dfe0b64fa58e12bbfad03a0389": {
      "model_module": "@jupyter-widgets/controls",
      "model_module_version": "2.0.0",
      "model_name": "DropdownModel",
      "state": {
       "_options_labels": [
        "no_image",
        "image1",
        "image2",
        "image3",
        "blobs",
        "binary",
        "labels",
        "dilated_labels"
       ],
       "description": "image",
       "index": 0,
       "layout": "IPY_MODEL_42db08736742480a8997bf1dfd929512",
       "style": "IPY_MODEL_f9da38e65530450a9da8b81abbe020de"
      }
     },
     "df508f646e2c46d7881afc1e3b8e8834": {
      "model_module": "@jupyter-widgets/output",
      "model_module_version": "1.0.0",
      "model_name": "OutputModel",
      "state": {
       "layout": "IPY_MODEL_3de9e440fee34318aa09d71197a25e91"
      }
     },
     "df5c82cf178543818abc91ff0b07b2e2": {
      "model_module": "@jupyter-widgets/base",
      "model_module_version": "2.0.0",
      "model_name": "LayoutModel",
      "state": {
       "display": "none"
      }
     },
     "df681d5d86714e9d86c31e9564d92a24": {
      "model_module": "@jupyter-widgets/controls",
      "model_module_version": "2.0.0",
      "model_name": "DropdownModel",
      "state": {
       "_options_labels": [
        "no_image",
        "image1",
        "image2",
        "image3",
        "blobs",
        "binary",
        "labels",
        "dilated_labels"
       ],
       "description": "image",
       "index": 0,
       "layout": "IPY_MODEL_a394d3c65ad54b8482ff4ca3517e2ca9",
       "style": "IPY_MODEL_524ab836ae284c119758481502a50037"
      }
     },
     "df6d98583230432dbc99cb4a79980cdd": {
      "model_module": "@jupyter-widgets/controls",
      "model_module_version": "2.0.0",
      "model_name": "VBoxModel",
      "state": {
       "children": [
        "IPY_MODEL_eabbc06961394e02bc187d068cbcc3df",
        "IPY_MODEL_2c6461f5e07545b283ddb80f1df8283c"
       ],
       "layout": "IPY_MODEL_e4b69318ca1640bf830cdd0ada80bd53"
      }
     },
     "df729dba8ec74a78b511c8f32ac6db76": {
      "model_module": "@jupyter-widgets/base",
      "model_module_version": "2.0.0",
      "model_name": "LayoutModel",
      "state": {}
     },
     "e01517feda9a497c8b8914f486431718": {
      "model_module": "@jupyter-widgets/output",
      "model_module_version": "1.0.0",
      "model_name": "OutputModel",
      "state": {
       "layout": "IPY_MODEL_a5db72d5c1124b5594fd6a91fb7bb356"
      }
     },
     "e016b45885f24c04884d4fd8e5a4c4af": {
      "model_module": "@jupyter-widgets/controls",
      "model_module_version": "2.0.0",
      "model_name": "DescriptionStyleModel",
      "state": {
       "description_width": ""
      }
     },
     "e047ab68cc41412b93211e7d62a037db": {
      "model_module": "@jupyter-widgets/output",
      "model_module_version": "1.0.0",
      "model_name": "OutputModel",
      "state": {
       "layout": "IPY_MODEL_62f3c868997548ac922c43de895b2032"
      }
     },
     "e06a6a3285d545258d2321d5dbb19892": {
      "model_module": "@jupyter-widgets/controls",
      "model_module_version": "2.0.0",
      "model_name": "DescriptionStyleModel",
      "state": {
       "description_width": ""
      }
     },
     "e0747ddab04349be85c759265ff1d3cd": {
      "model_module": "@jupyter-widgets/controls",
      "model_module_version": "2.0.0",
      "model_name": "VBoxModel",
      "state": {
       "children": [
        "IPY_MODEL_95f33ba71d974ba392839535b26d29ec",
        "IPY_MODEL_5074eb67eee54cf588b62c135a4dd901"
       ],
       "layout": "IPY_MODEL_fdda8ac9c4044003803fd54f6353c922"
      }
     },
     "e0a3b6d0229047f692c9a9589f790e9d": {
      "model_module": "@jupyter-widgets/base",
      "model_module_version": "2.0.0",
      "model_name": "LayoutModel",
      "state": {}
     },
     "e0bab1bf293d47f0b85fadcddcd6daff": {
      "model_module": "@jupyter-widgets/controls",
      "model_module_version": "2.0.0",
      "model_name": "DropdownModel",
      "state": {
       "_options_labels": [
        "no_image",
        "image1",
        "image2",
        "image3",
        "blobs",
        "binary",
        "labels",
        "dilated_labels"
       ],
       "description": "mask",
       "index": 0,
       "layout": "IPY_MODEL_c4e76f15ea8f4bd1b2e36714fd8dd63f",
       "style": "IPY_MODEL_fa9a72b62dce4812a77a2269b360234f"
      }
     },
     "e0cc761cf3ce4aecab6996be3d65049c": {
      "model_module": "@jupyter-widgets/base",
      "model_module_version": "2.0.0",
      "model_name": "LayoutModel",
      "state": {}
     },
     "e0eea2a637194752a4a8da331ca25463": {
      "model_module": "@jupyter-widgets/controls",
      "model_module_version": "2.0.0",
      "model_name": "LabelModel",
      "state": {
       "layout": "IPY_MODEL_8256aaff8cc14027be82a772a50cd8b3",
       "style": "IPY_MODEL_075df8d8ed71456ab62fdf83e89dbfad",
       "value": "nsitk.threshold_li( image=no_image)"
      }
     },
     "e129cd899d3f4636bfe7590817bf2c44": {
      "model_module": "@jupyter-widgets/controls",
      "model_module_version": "2.0.0",
      "model_name": "DropdownModel",
      "state": {
       "_options_labels": [
        "no_image",
        "image1",
        "image2",
        "image3",
        "blobs",
        "binary",
        "labels",
        "dilated_labels"
       ],
       "description": "image",
       "index": 0,
       "layout": "IPY_MODEL_b05996f55c884bd1b79f09f00cdaf6e1",
       "style": "IPY_MODEL_13e673d43bf34736b8abc5c583fbd474"
      }
     },
     "e130e2b1877b4411aa36fb41e5f8506f": {
      "model_module": "@jupyter-widgets/output",
      "model_module_version": "1.0.0",
      "model_name": "OutputModel",
      "state": {
       "layout": "IPY_MODEL_2a631811c8314eea9b45eb1779fcee0c"
      }
     },
     "e142dfed2b8e40b59389b8a3c88a94c6": {
      "model_module": "@jupyter-widgets/controls",
      "model_module_version": "2.0.0",
      "model_name": "SliderStyleModel",
      "state": {
       "description_width": ""
      }
     },
     "e1bca73361104d25a2da601c976b28f2": {
      "model_module": "@jupyter-widgets/base",
      "model_module_version": "2.0.0",
      "model_name": "LayoutModel",
      "state": {}
     },
     "e1ca64aef8bd43c39c1c145c2269a202": {
      "model_module": "@jupyter-widgets/controls",
      "model_module_version": "2.0.0",
      "model_name": "DropdownModel",
      "state": {
       "_options_labels": [
        "no_image",
        "image1",
        "image2",
        "image3",
        "blobs",
        "binary",
        "labels",
        "dilated_labels"
       ],
       "description": "label_image",
       "index": 0,
       "layout": "IPY_MODEL_fad686d18e7c430dabf3602cb91a5b8a",
       "style": "IPY_MODEL_5ad0142d02564c4180ed8a0bfe14146c"
      }
     },
     "e1e1ff45f36a4d8ab85907a051cef462": {
      "model_module": "@jupyter-widgets/output",
      "model_module_version": "1.0.0",
      "model_name": "OutputModel",
      "state": {
       "layout": "IPY_MODEL_beb68370e28c496b8a43a488085a5422"
      }
     },
     "e1f5f656afca446babe6dbc73f130ed6": {
      "model_module": "@jupyter-widgets/base",
      "model_module_version": "2.0.0",
      "model_name": "LayoutModel",
      "state": {}
     },
     "e2102d05fc404a9da9708e9fffe9b6a3": {
      "model_module": "@jupyter-widgets/base",
      "model_module_version": "2.0.0",
      "model_name": "LayoutModel",
      "state": {
       "display": "none"
      }
     },
     "e21ae1a4000740a3a31dc9d0dfb4ca29": {
      "model_module": "@jupyter-widgets/controls",
      "model_module_version": "2.0.0",
      "model_name": "IntSliderModel",
      "state": {
       "behavior": "drag-tap",
       "description": "radius_y",
       "layout": "IPY_MODEL_9aa0a4be48cb4edebfe8c85661f53e29",
       "style": "IPY_MODEL_2ab4d51bb0884b0e98ef1b51e4f320e9",
       "value": 10
      }
     },
     "e233ba8397b14a758e69a770783115f2": {
      "model_module": "@jupyter-widgets/controls",
      "model_module_version": "2.0.0",
      "model_name": "DescriptionStyleModel",
      "state": {
       "description_width": ""
      }
     },
     "e23a6ede83ac4491a1417b335b38f3a8": {
      "model_module": "@jupyter-widgets/controls",
      "model_module_version": "2.0.0",
      "model_name": "FloatSliderModel",
      "state": {
       "behavior": "drag-tap",
       "description": "variance_y",
       "layout": "IPY_MODEL_297dd4bcbe34471088ee82edaf99886d",
       "step": null,
       "style": "IPY_MODEL_2d5197599a8e43c4b363156c3dbe121a",
       "value": 1
      }
     },
     "e24aa89666934f468d5afc803a22e63a": {
      "model_module": "@jupyter-widgets/controls",
      "model_module_version": "2.0.0",
      "model_name": "DescriptionStyleModel",
      "state": {
       "description_width": ""
      }
     },
     "e24fe2ca271747458c3b76d88fd912c4": {
      "model_module": "@jupyter-widgets/base",
      "model_module_version": "2.0.0",
      "model_name": "LayoutModel",
      "state": {}
     },
     "e258da9df8cc4d0f904e1c206c9b1b88": {
      "model_module": "@jupyter-widgets/base",
      "model_module_version": "2.0.0",
      "model_name": "LayoutModel",
      "state": {
       "display": "none"
      }
     },
     "e260c3a595d34242941feeb1c8630dd7": {
      "model_module": "@jupyter-widgets/controls",
      "model_module_version": "2.0.0",
      "model_name": "SliderStyleModel",
      "state": {
       "description_width": ""
      }
     },
     "e273ac1032264b2b9c93e505b9066919": {
      "model_module": "@jupyter-widgets/controls",
      "model_module_version": "2.0.0",
      "model_name": "FloatSliderModel",
      "state": {
       "behavior": "drag-tap",
       "description": "sigmas",
       "layout": "IPY_MODEL_dc588d85f8ee4fdaacc91a670ae23caf",
       "max": 25,
       "style": "IPY_MODEL_414baff4aa8945548363412e233a16dd"
      }
     },
     "e27a25e1edd749d5b99c30b930bffe7b": {
      "model_module": "@jupyter-widgets/controls",
      "model_module_version": "2.0.0",
      "model_name": "LabelStyleModel",
      "state": {
       "description_width": "",
       "font_family": "Courier",
       "font_size": null,
       "font_style": null,
       "font_variant": null,
       "font_weight": null,
       "text_color": null,
       "text_decoration": null
      }
     },
     "e27b7113239e45b4a31fd519e22cef31": {
      "model_module": "@jupyter-widgets/base",
      "model_module_version": "2.0.0",
      "model_name": "LayoutModel",
      "state": {}
     },
     "e2a0d0dd53c44ce8bec8f8b5a270b5de": {
      "model_module": "@jupyter-widgets/controls",
      "model_module_version": "2.0.0",
      "model_name": "DropdownModel",
      "state": {
       "_options_labels": [
        "no_image",
        "image1",
        "image2",
        "image3",
        "blobs",
        "binary",
        "labels",
        "dilated_labels"
       ],
       "description": "image",
       "index": 0,
       "layout": "IPY_MODEL_84e2cb51424145c88efe455c353a3a15",
       "style": "IPY_MODEL_a8b0a97cb7224f859474be89895a74fd"
      }
     },
     "e33133ab16b54544a812fa0aaa87db95": {
      "model_module": "@jupyter-widgets/controls",
      "model_module_version": "2.0.0",
      "model_name": "VBoxModel",
      "state": {
       "_dom_classes": [
        "widget-interact"
       ],
       "children": [
        "IPY_MODEL_6693fec88fec4703bb5c39ddac6df08f",
        "IPY_MODEL_d9f407f3447f43de8e5016a79fe28d47",
        "IPY_MODEL_0e8eccd47bec4af4ba84c637c8003010"
       ],
       "layout": "IPY_MODEL_d5ff56c5bf794bfd9aa1eb5077139c87"
      }
     },
     "e3604e810e5c4f9b85e9257bb75cf4b1": {
      "model_module": "@jupyter-widgets/controls",
      "model_module_version": "2.0.0",
      "model_name": "LabelModel",
      "state": {
       "layout": "IPY_MODEL_4196e15d2f834482a316573ac6222bff",
       "style": "IPY_MODEL_ce5c4e92ec584c69b742d8bd9aaec499",
       "value": "skfilters.sobel_h( image=no_image, mask=no_image)"
      }
     },
     "e39b9a74b55849fea9794423e400ffa2": {
      "model_module": "@jupyter-widgets/controls",
      "model_module_version": "2.0.0",
      "model_name": "DropdownModel",
      "state": {
       "_options_labels": [
        "no_image",
        "image1",
        "image2",
        "image3",
        "blobs",
        "binary",
        "labels",
        "dilated_labels"
       ],
       "description": "image",
       "index": 0,
       "layout": "IPY_MODEL_76c53dcaafd94f038a7894682f69e2aa",
       "style": "IPY_MODEL_402eaa0adcff474783e8f479e2d56482"
      }
     },
     "e3c32ad33b194f7f9d62500fe82ad9d8": {
      "model_module": "@jupyter-widgets/controls",
      "model_module_version": "2.0.0",
      "model_name": "VBoxModel",
      "state": {
       "_dom_classes": [
        "widget-interact"
       ],
       "children": [
        "IPY_MODEL_328e16f897064dc28e6504d38eaf54d6",
        "IPY_MODEL_072125b26b4b4202b875d21d561305ab"
       ],
       "layout": "IPY_MODEL_e5df74e809db4a9c9e8767d09f9c69c9"
      }
     },
     "e3cae6237e0a4cf9a213b02be3a38b06": {
      "model_module": "@jupyter-widgets/controls",
      "model_module_version": "2.0.0",
      "model_name": "FloatSliderModel",
      "state": {
       "behavior": "drag-tap",
       "description": "height",
       "layout": "IPY_MODEL_fed3a27572bd450c95a69ca307ef5236",
       "step": null,
       "style": "IPY_MODEL_f6a514eedc814f98acf769f93ebaeea2",
       "value": 10
      }
     },
     "e3dffcc7071e456397b235b2f885f7b3": {
      "model_module": "@jupyter-widgets/controls",
      "model_module_version": "2.0.0",
      "model_name": "VBoxModel",
      "state": {
       "_dom_classes": [
        "widget-interact"
       ],
       "children": [
        "IPY_MODEL_df0a6e3a8c754745aa7cd2b1365ed40d",
        "IPY_MODEL_b8d7d480b70640c5ab73f741a165e681"
       ],
       "layout": "IPY_MODEL_410d17fd43444e97827e5c3e0c97e31f"
      }
     },
     "e3fe862325e14477ad2f3bf8bd8b127e": {
      "model_module": "@jupyter-widgets/controls",
      "model_module_version": "2.0.0",
      "model_name": "SliderStyleModel",
      "state": {
       "description_width": ""
      }
     },
     "e42341d9aaf649a5aafa93a611115f4c": {
      "model_module": "@jupyter-widgets/controls",
      "model_module_version": "2.0.0",
      "model_name": "VBoxModel",
      "state": {
       "_dom_classes": [
        "widget-interact"
       ],
       "children": [
        "IPY_MODEL_9b84cd217fc540f3be25aed1716cd8c3",
        "IPY_MODEL_6a0a10b1627c499e81598f5f356c8715",
        "IPY_MODEL_d24afe9b75bb44c6943806aa440374f0",
        "IPY_MODEL_3266203ef12b49e882333d5642676f67",
        "IPY_MODEL_672d5e1d069346ffa3e7e907e8ef73db",
        "IPY_MODEL_1e58b447290d45d39166bb9a0dfae88a",
        "IPY_MODEL_660c3a15a89f447e95c3f6086b1e1864"
       ],
       "layout": "IPY_MODEL_90127e02542d4eb5bb40726db1081d1d"
      }
     },
     "e431da6027b44415b9ba39600e1962f0": {
      "model_module": "@jupyter-widgets/controls",
      "model_module_version": "2.0.0",
      "model_name": "DescriptionStyleModel",
      "state": {
       "description_width": ""
      }
     },
     "e4408adacedf4a4a8d7a50a56523ce12": {
      "model_module": "@jupyter-widgets/base",
      "model_module_version": "2.0.0",
      "model_name": "LayoutModel",
      "state": {}
     },
     "e44501ab907b48f29c7df999ad1de39d": {
      "model_module": "@jupyter-widgets/controls",
      "model_module_version": "2.0.0",
      "model_name": "VBoxModel",
      "state": {
       "children": [
        "IPY_MODEL_70a57977ee6a4ae1be9c4d8e091f0d1a",
        "IPY_MODEL_9bb7b6516c4f460dbd3053c6451ac182"
       ],
       "layout": "IPY_MODEL_48ac28e166d84ac483db2ec29e92a25a"
      }
     },
     "e455ff06f51f41c68de5b39d658939ab": {
      "model_module": "@jupyter-widgets/controls",
      "model_module_version": "2.0.0",
      "model_name": "SliderStyleModel",
      "state": {
       "description_width": ""
      }
     },
     "e492449a9ea9458481058aca25c4bcb4": {
      "model_module": "@jupyter-widgets/output",
      "model_module_version": "1.0.0",
      "model_name": "OutputModel",
      "state": {
       "layout": "IPY_MODEL_2a888eabb6a44deb829e81d725252b69"
      }
     },
     "e49a98fcdafc4af983e9a5a67171543a": {
      "model_module": "@jupyter-widgets/controls",
      "model_module_version": "2.0.0",
      "model_name": "LabelStyleModel",
      "state": {
       "description_width": "",
       "font_family": "Courier",
       "font_size": null,
       "font_style": null,
       "font_variant": null,
       "font_weight": null,
       "text_color": null,
       "text_decoration": null
      }
     },
     "e4ad878dc466475dbf2f5eea4d9d16a5": {
      "model_module": "@jupyter-widgets/output",
      "model_module_version": "1.0.0",
      "model_name": "OutputModel",
      "state": {
       "layout": "IPY_MODEL_198c4b6f9442446a9f2285455c780684"
      }
     },
     "e4b51e0c75434f719a595274b7bd60b8": {
      "model_module": "@jupyter-widgets/controls",
      "model_module_version": "2.0.0",
      "model_name": "VBoxModel",
      "state": {
       "_dom_classes": [
        "widget-interact"
       ],
       "children": [
        "IPY_MODEL_ac3b7e230d7b49c5883234e5feb6eaf2",
        "IPY_MODEL_ee063157167a4b77b3c0789148d82088"
       ],
       "layout": "IPY_MODEL_0568a663872846269e15656077c3e51c"
      }
     },
     "e4b69318ca1640bf830cdd0ada80bd53": {
      "model_module": "@jupyter-widgets/base",
      "model_module_version": "2.0.0",
      "model_name": "LayoutModel",
      "state": {
       "display": "none"
      }
     },
     "e4c600e5c00c40a8a2bb4a9591ae0d1f": {
      "model_module": "@jupyter-widgets/base",
      "model_module_version": "2.0.0",
      "model_name": "LayoutModel",
      "state": {}
     },
     "e500ce573c0b4f808986b9bd14bcb21b": {
      "model_module": "@jupyter-widgets/base",
      "model_module_version": "2.0.0",
      "model_name": "LayoutModel",
      "state": {}
     },
     "e5050a9143484c5f90974b865452da26": {
      "model_module": "@jupyter-widgets/controls",
      "model_module_version": "2.0.0",
      "model_name": "DescriptionStyleModel",
      "state": {
       "description_width": ""
      }
     },
     "e537455674b946db8370206f090423b4": {
      "model_module": "@jupyter-widgets/controls",
      "model_module_version": "2.0.0",
      "model_name": "DescriptionStyleModel",
      "state": {
       "description_width": ""
      }
     },
     "e5385801288145c1a675580577b9cfe7": {
      "model_module": "@jupyter-widgets/controls",
      "model_module_version": "2.0.0",
      "model_name": "LabelModel",
      "state": {
       "layout": "IPY_MODEL_d65f76bef5934e898bbe7a5f6f553e71",
       "style": "IPY_MODEL_194b16b3617c4696a72078f387b42efc",
       "value": "skfilters.unsharp_mask( image=no_image, radius=1.0)"
      }
     },
     "e56b374530fa4f8c9a4b353e4e359e0f": {
      "model_module": "@jupyter-widgets/controls",
      "model_module_version": "2.0.0",
      "model_name": "DropdownModel",
      "state": {
       "_options_labels": [
        "no_image",
        "image1",
        "image2",
        "image3",
        "blobs",
        "binary",
        "labels",
        "dilated_labels"
       ],
       "description": "labels",
       "index": 0,
       "layout": "IPY_MODEL_319d4d5ee80244d28e6efe0c7abe9260",
       "style": "IPY_MODEL_7fec80420aac4b2ca5612be7dc41b68f"
      }
     },
     "e57cde4f9c614c619792417abeb0e8bc": {
      "model_module": "@jupyter-widgets/base",
      "model_module_version": "2.0.0",
      "model_name": "LayoutModel",
      "state": {}
     },
     "e57f463799c8456788ba01c2ead1f277": {
      "model_module": "@jupyter-widgets/output",
      "model_module_version": "1.0.0",
      "model_name": "OutputModel",
      "state": {
       "layout": "IPY_MODEL_d8d83f0c77a845688aa2db97dfe7a33b"
      }
     },
     "e5a3df0ad052408c99ebc00629daf21a": {
      "model_module": "@jupyter-widgets/base",
      "model_module_version": "2.0.0",
      "model_name": "LayoutModel",
      "state": {}
     },
     "e5a6c2fb2d654e0cb0d19e56a0dd675c": {
      "model_module": "@jupyter-widgets/base",
      "model_module_version": "2.0.0",
      "model_name": "LayoutModel",
      "state": {}
     },
     "e5bb90c1e4114fc398a6d37e73b17617": {
      "model_module": "@jupyter-widgets/base",
      "model_module_version": "2.0.0",
      "model_name": "LayoutModel",
      "state": {}
     },
     "e5bccd9252244c47a3f9b84e1a0b65b9": {
      "model_module": "@jupyter-widgets/base",
      "model_module_version": "2.0.0",
      "model_name": "LayoutModel",
      "state": {}
     },
     "e5c6af788ef94e68937705b9a7afa415": {
      "model_module": "@jupyter-widgets/base",
      "model_module_version": "2.0.0",
      "model_name": "LayoutModel",
      "state": {}
     },
     "e5df74e809db4a9c9e8767d09f9c69c9": {
      "model_module": "@jupyter-widgets/base",
      "model_module_version": "2.0.0",
      "model_name": "LayoutModel",
      "state": {}
     },
     "e5f11d78a5834455944b399136bac0fa": {
      "model_module": "@jupyter-widgets/controls",
      "model_module_version": "2.0.0",
      "model_name": "SliderStyleModel",
      "state": {
       "description_width": ""
      }
     },
     "e5f83a797da44ef6af41ab4a8313be8d": {
      "model_module": "@jupyter-widgets/controls",
      "model_module_version": "2.0.0",
      "model_name": "IntSliderModel",
      "state": {
       "behavior": "drag-tap",
       "description": "radius_y",
       "layout": "IPY_MODEL_74558f1c6b184f98888e65ab53c6c900",
       "style": "IPY_MODEL_7aa691bec8d646f5a446446f66b50203",
       "value": 1
      }
     },
     "e61c683aed7d429b8a016fc73592f0f8": {
      "model_module": "@jupyter-widgets/controls",
      "model_module_version": "2.0.0",
      "model_name": "VBoxModel",
      "state": {
       "_dom_classes": [
        "widget-interact"
       ],
       "children": [
        "IPY_MODEL_383955b9dd41494382f4f98839279195",
        "IPY_MODEL_b867ff4a314d432fb3c340e1a24b62ee"
       ],
       "layout": "IPY_MODEL_c2ae9e57eb984bd3b20fa47654dc5a12"
      }
     },
     "e652cdbd82fb4a8ba3adf4771e9c6862": {
      "model_module": "@jupyter-widgets/output",
      "model_module_version": "1.0.0",
      "model_name": "OutputModel",
      "state": {
       "layout": "IPY_MODEL_68c034c224c74270b263983578afe1ab"
      }
     },
     "e66123a065314ea58cdc31fd696eb749": {
      "model_module": "@jupyter-widgets/base",
      "model_module_version": "2.0.0",
      "model_name": "LayoutModel",
      "state": {}
     },
     "e6d467d2f6424ebba1d3ff33a7daf662": {
      "model_module": "@jupyter-widgets/controls",
      "model_module_version": "2.0.0",
      "model_name": "DescriptionStyleModel",
      "state": {
       "description_width": ""
      }
     },
     "e7141a0466a24173b7d4df1d2d21f73c": {
      "model_module": "@jupyter-widgets/controls",
      "model_module_version": "2.0.0",
      "model_name": "IntSliderModel",
      "state": {
       "behavior": "drag-tap",
       "description": "number_of_thresholds",
       "layout": "IPY_MODEL_b75e7f0ca60f441e9fc42706e1df8e66",
       "style": "IPY_MODEL_3581d3730bb848a9a5c47e7bb49c93d2",
       "value": 3
      }
     },
     "e728cf0a13504c34b4b12c22163b1575": {
      "model_module": "@jupyter-widgets/controls",
      "model_module_version": "2.0.0",
      "model_name": "LabelStyleModel",
      "state": {
       "description_width": "",
       "font_family": "Courier",
       "font_size": null,
       "font_style": null,
       "font_variant": null,
       "font_weight": null,
       "text_color": null,
       "text_decoration": null
      }
     },
     "e759b809405a433282d325f866a6e8f6": {
      "model_module": "@jupyter-widgets/base",
      "model_module_version": "2.0.0",
      "model_name": "LayoutModel",
      "state": {
       "display": "none"
      }
     },
     "e7817fd31b34429199ec138b36c56997": {
      "model_module": "@jupyter-widgets/base",
      "model_module_version": "2.0.0",
      "model_name": "LayoutModel",
      "state": {}
     },
     "e7aede01e9554a1aa41ae8f3f7fefd22": {
      "model_module": "@jupyter-widgets/output",
      "model_module_version": "1.0.0",
      "model_name": "OutputModel",
      "state": {
       "layout": "IPY_MODEL_0943ca20a9bf45879c80fada54ad1ffd"
      }
     },
     "e7b3597a97f24970b0a095b78bb3b236": {
      "model_module": "@jupyter-widgets/controls",
      "model_module_version": "2.0.0",
      "model_name": "VBoxModel",
      "state": {
       "children": [
        "IPY_MODEL_02159d4222b040feb08e572ba0726e02",
        "IPY_MODEL_2cc6e4a71ac24d81a9c955d415ecf45e"
       ],
       "layout": "IPY_MODEL_8d213fc99c234f78bfb79a865b45300f"
      }
     },
     "e7de286eaacf4292b97945d9690a818e": {
      "model_module": "@jupyter-widgets/base",
      "model_module_version": "2.0.0",
      "model_name": "LayoutModel",
      "state": {}
     },
     "e8346c450870451f9586b1ed4b6be341": {
      "model_module": "@jupyter-widgets/controls",
      "model_module_version": "2.0.0",
      "model_name": "DropdownModel",
      "state": {
       "_options_labels": [
        "no_image",
        "image1",
        "image2",
        "image3",
        "blobs",
        "binary",
        "labels",
        "dilated_labels"
       ],
       "description": "labels_input",
       "index": 0,
       "layout": "IPY_MODEL_2edc198d6f224939a966c55ef558e3f6",
       "style": "IPY_MODEL_885634426d0a4b7bb218cf5c5626c60d"
      }
     },
     "e854537d2b0f4c288432606cc298c606": {
      "model_module": "@jupyter-widgets/base",
      "model_module_version": "2.0.0",
      "model_name": "LayoutModel",
      "state": {}
     },
     "e885646c2f04404fa6ac0ea84324caef": {
      "model_module": "@jupyter-widgets/controls",
      "model_module_version": "2.0.0",
      "model_name": "DescriptionStyleModel",
      "state": {
       "description_width": ""
      }
     },
     "e88c769c652842479edfa24a7f14bcd2": {
      "model_module": "@jupyter-widgets/base",
      "model_module_version": "2.0.0",
      "model_name": "LayoutModel",
      "state": {}
     },
     "e88d90d09a72484c8f7c1e03a238bfef": {
      "model_module": "@jupyter-widgets/base",
      "model_module_version": "2.0.0",
      "model_name": "LayoutModel",
      "state": {}
     },
     "e8f5ee8ffaf341038a2744c53d0e9156": {
      "model_module": "@jupyter-widgets/base",
      "model_module_version": "2.0.0",
      "model_name": "LayoutModel",
      "state": {}
     },
     "e8fe3e2864b545c7848c5e0dc6b39b1c": {
      "model_module": "@jupyter-widgets/controls",
      "model_module_version": "2.0.0",
      "model_name": "DropdownModel",
      "state": {
       "_options_labels": [
        "no_image",
        "image1",
        "image2",
        "image3",
        "blobs",
        "binary",
        "labels",
        "dilated_labels"
       ],
       "description": "source",
       "index": 0,
       "layout": "IPY_MODEL_7a08820033df4aab91c96d0a53540acf",
       "style": "IPY_MODEL_d305b9515b464a8e95334ef441219519"
      }
     },
     "e91799dd6ac54563bfa67b2d9e3574fc": {
      "model_module": "@jupyter-widgets/base",
      "model_module_version": "2.0.0",
      "model_name": "LayoutModel",
      "state": {}
     },
     "e938325390de48bc9d88d1a503671760": {
      "model_module": "@jupyter-widgets/controls",
      "model_module_version": "2.0.0",
      "model_name": "DropdownModel",
      "state": {
       "_options_labels": [
        "no_image",
        "image1",
        "image2",
        "image3",
        "blobs",
        "binary",
        "labels",
        "dilated_labels"
       ],
       "description": "image",
       "index": 0,
       "layout": "IPY_MODEL_d13838314f2c484c9d8e7449f28f3722",
       "style": "IPY_MODEL_70e1b9c3153f4dd588edfae5c936f82b"
      }
     },
     "e93e225f4f154ffabfc6f76e2225c70e": {
      "model_module": "@jupyter-widgets/base",
      "model_module_version": "2.0.0",
      "model_name": "LayoutModel",
      "state": {
       "display": "none"
      }
     },
     "e94070d5f89d431c95cca27f7e9dc6f9": {
      "model_module": "@jupyter-widgets/controls",
      "model_module_version": "2.0.0",
      "model_name": "DescriptionStyleModel",
      "state": {
       "description_width": ""
      }
     },
     "e9515670873d4f829644a38782c28852": {
      "model_module": "@jupyter-widgets/base",
      "model_module_version": "2.0.0",
      "model_name": "LayoutModel",
      "state": {}
     },
     "e9576bb64e834311a495ce12493fb54f": {
      "model_module": "@jupyter-widgets/controls",
      "model_module_version": "2.0.0",
      "model_name": "VBoxModel",
      "state": {
       "children": [
        "IPY_MODEL_4c8cdf5901914829b1d3b6e65fcefc65",
        "IPY_MODEL_9d250914040c40c0a34df441ced8cedf"
       ],
       "layout": "IPY_MODEL_5ebe574363fa4d97b5995bb31be18f65"
      }
     },
     "e9599116b0fb476b94d3cf578382c8f0": {
      "model_module": "@jupyter-widgets/base",
      "model_module_version": "2.0.0",
      "model_name": "LayoutModel",
      "state": {}
     },
     "e959ee8210d445b0b1f8de1572f4539c": {
      "model_module": "@jupyter-widgets/base",
      "model_module_version": "2.0.0",
      "model_name": "LayoutModel",
      "state": {}
     },
     "e95c8ad592f74afb8b88212cea1f63ce": {
      "model_module": "@jupyter-widgets/controls",
      "model_module_version": "2.0.0",
      "model_name": "VBoxModel",
      "state": {
       "_dom_classes": [
        "widget-interact"
       ],
       "children": [
        "IPY_MODEL_3d1b4ff5489b44a4855ed8217c5e34ac",
        "IPY_MODEL_fe937d484a304e3dabf2ed9d58ab1e36",
        "IPY_MODEL_532b16e9ed7a42dbae628ea55eb70ea5"
       ],
       "layout": "IPY_MODEL_b86a27fa0b504bb4adeb8bde0335fa47"
      }
     },
     "e9657c4d10ea4667a3faa4bb075dfe16": {
      "model_module": "@jupyter-widgets/base",
      "model_module_version": "2.0.0",
      "model_name": "LayoutModel",
      "state": {}
     },
     "e985349427604f98b88602d64f550536": {
      "model_module": "@jupyter-widgets/output",
      "model_module_version": "1.0.0",
      "model_name": "OutputModel",
      "state": {
       "layout": "IPY_MODEL_f6a746f54677442989225230976795dc"
      }
     },
     "e98e2c8e8034490581404fd92f6fa1ac": {
      "model_module": "@jupyter-widgets/controls",
      "model_module_version": "2.0.0",
      "model_name": "DescriptionStyleModel",
      "state": {
       "description_width": ""
      }
     },
     "e99f26b07df243a3bb20388cb87d37cb": {
      "model_module": "@jupyter-widgets/controls",
      "model_module_version": "2.0.0",
      "model_name": "CheckboxModel",
      "state": {
       "description": "shape",
       "disabled": false,
       "layout": "IPY_MODEL_b47c1e6a98034948a9669e97e6c92d91",
       "style": "IPY_MODEL_5e0f47bc14e549cc9bffc4e7f53a2fb1",
       "value": false
      }
     },
     "e9b519a9742a4818a5ec3ef14535c0a3": {
      "model_module": "@jupyter-widgets/controls",
      "model_module_version": "2.0.0",
      "model_name": "LabelStyleModel",
      "state": {
       "description_width": "",
       "font_family": "Courier",
       "font_size": null,
       "font_style": null,
       "font_variant": null,
       "font_weight": null,
       "text_color": null,
       "text_decoration": null
      }
     },
     "e9bb5b7bd0384d278c21dde80cba8f41": {
      "model_module": "@jupyter-widgets/controls",
      "model_module_version": "2.0.0",
      "model_name": "VBoxModel",
      "state": {
       "_dom_classes": [
        "widget-interact"
       ],
       "children": [
        "IPY_MODEL_451a3430b357444e8ec05761acf06a74",
        "IPY_MODEL_2e24cfd47f194bebbec532f09e3bef83",
        "IPY_MODEL_3c9e8e00233143168de5e42afe0ed6f2"
       ],
       "layout": "IPY_MODEL_c2ecb03744794e8e848b756857a671e0"
      }
     },
     "e9bc813805304dd898270027d4522f78": {
      "model_module": "@jupyter-widgets/controls",
      "model_module_version": "2.0.0",
      "model_name": "VBoxModel",
      "state": {
       "children": [
        "IPY_MODEL_fbc67922a3c641ec83106f10cc203af6",
        "IPY_MODEL_043a70cabd87463da0b176559eed1e36"
       ],
       "layout": "IPY_MODEL_3c72837327af4eee97643affff3c556a"
      }
     },
     "e9cc62e1efd04b5785049ace790f5e68": {
      "model_module": "@jupyter-widgets/controls",
      "model_module_version": "2.0.0",
      "model_name": "DescriptionStyleModel",
      "state": {
       "description_width": ""
      }
     },
     "e9d39ec4921e4fe28edabfe6cd631ea6": {
      "model_module": "@jupyter-widgets/controls",
      "model_module_version": "2.0.0",
      "model_name": "VBoxModel",
      "state": {
       "children": [
        "IPY_MODEL_6fabdbceca2643a095e97338c3edf31a",
        "IPY_MODEL_73c41351a963438f8580354d708c36f7"
       ],
       "layout": "IPY_MODEL_bfa74107c3ec49cbb7ccdd85e1fa3f72"
      }
     },
     "e9eec39345264d06a8e8c596693c92f5": {
      "model_module": "@jupyter-widgets/base",
      "model_module_version": "2.0.0",
      "model_name": "LayoutModel",
      "state": {}
     },
     "ea3ec6585f63419b8d9d1f9fe8e83492": {
      "model_module": "@jupyter-widgets/base",
      "model_module_version": "2.0.0",
      "model_name": "LayoutModel",
      "state": {}
     },
     "ea472b98e6624c66ad22a7a0f5f17cc3": {
      "model_module": "@jupyter-widgets/controls",
      "model_module_version": "2.0.0",
      "model_name": "DropdownModel",
      "state": {
       "_options_labels": [
        "no_image",
        "image1",
        "image2",
        "image3",
        "blobs",
        "binary",
        "labels",
        "dilated_labels"
       ],
       "description": "binary_input",
       "index": 0,
       "layout": "IPY_MODEL_a2d795d9c365411fbb25fd6705476c09",
       "style": "IPY_MODEL_aa2ab29b95ed4c57b371873ea56fc47f"
      }
     },
     "ea5538324329451184e652dd39c923ce": {
      "model_module": "@jupyter-widgets/controls",
      "model_module_version": "2.0.0",
      "model_name": "FloatSliderModel",
      "state": {
       "behavior": "drag-tap",
       "description": "output_minimum",
       "layout": "IPY_MODEL_6867c8cf6c5448c6bc8b6e30eeba58ea",
       "step": null,
       "style": "IPY_MODEL_e5f11d78a5834455944b399136bac0fa"
      }
     },
     "ea5c9dc87a1946899ea16a22c2ff17bd": {
      "model_module": "@jupyter-widgets/controls",
      "model_module_version": "2.0.0",
      "model_name": "SliderStyleModel",
      "state": {
       "description_width": ""
      }
     },
     "eabbc06961394e02bc187d068cbcc3df": {
      "model_module": "@jupyter-widgets/controls",
      "model_module_version": "2.0.0",
      "model_name": "VBoxModel",
      "state": {
       "_dom_classes": [
        "widget-interact"
       ],
       "children": [
        "IPY_MODEL_306ac88eeb9242b287f24e6d3feacdcf",
        "IPY_MODEL_b15a64cf6c8346d8a83218840a98660c",
        "IPY_MODEL_e23a6ede83ac4491a1417b335b38f3a8",
        "IPY_MODEL_5d1e817b44164318901426e56bcf47bb",
        "IPY_MODEL_8bf337da8bac48adbbc47695901c398a"
       ],
       "layout": "IPY_MODEL_908a7ba6c9c0494eb221fb8d731df3ad"
      }
     },
     "eac016f9eb2e48908aa58ec533c46192": {
      "model_module": "@jupyter-widgets/output",
      "model_module_version": "1.0.0",
      "model_name": "OutputModel",
      "state": {
       "layout": "IPY_MODEL_bc0c6389c5c24f53b7951fc4effbfa13"
      }
     },
     "eac44c3f22a24a4ab1cabb94948247fb": {
      "model_module": "@jupyter-widgets/controls",
      "model_module_version": "2.0.0",
      "model_name": "VBoxModel",
      "state": {
       "_dom_classes": [
        "widget-interact"
       ],
       "children": [
        "IPY_MODEL_8ae0556c32ec4975859f417ec1d6c44c",
        "IPY_MODEL_8cbe09aec6db4b2a86dd98c07a194283"
       ],
       "layout": "IPY_MODEL_536316faf0474f41b35c1cec8caac987"
      }
     },
     "ead50d243bcf4feaa417c33ade114b1f": {
      "model_module": "@jupyter-widgets/controls",
      "model_module_version": "2.0.0",
      "model_name": "VBoxModel",
      "state": {
       "_dom_classes": [
        "widget-interact"
       ],
       "children": [
        "IPY_MODEL_7c943f8ec77545869acf91dd55d908da",
        "IPY_MODEL_5765b56289594d3d9669d638e0bac408"
       ],
       "layout": "IPY_MODEL_5455767bb35b4ffe8b0e5466b8198738"
      }
     },
     "eb0a638a2d6e482e81354479e897539f": {
      "model_module": "@jupyter-widgets/controls",
      "model_module_version": "2.0.0",
      "model_name": "LabelModel",
      "state": {
       "layout": "IPY_MODEL_12001a54d4be412aa17f7e9552b8f39e",
       "style": "IPY_MODEL_772afd1e5f8344ca8ba3396702e45978",
       "value": "nsitk.median_filter( image=no_image, radius_x=1, radius_y=1, radius_z=0)"
      }
     },
     "eb24ad11d03d4913a33201d7dc8db1ca": {
      "model_module": "@jupyter-widgets/controls",
      "model_module_version": "2.0.0",
      "model_name": "VBoxModel",
      "state": {
       "children": [
        "IPY_MODEL_fdd0e2e5ed6948b4b353850dc3ca8351",
        "IPY_MODEL_644b49cb5ebf4ff0acb59e0a2195a5a1"
       ],
       "layout": "IPY_MODEL_1a6fa65a4d864aada484677a8397b71a"
      }
     },
     "eb274af393ae46109408a01047d66e82": {
      "model_module": "@jupyter-widgets/base",
      "model_module_version": "2.0.0",
      "model_name": "LayoutModel",
      "state": {}
     },
     "eb2bbbc38042410593e558c1771b14c1": {
      "model_module": "@jupyter-widgets/base",
      "model_module_version": "2.0.0",
      "model_name": "LayoutModel",
      "state": {}
     },
     "eb2e41d8115d42adb0d4e64c0065663e": {
      "model_module": "@jupyter-widgets/controls",
      "model_module_version": "2.0.0",
      "model_name": "DescriptionStyleModel",
      "state": {
       "description_width": ""
      }
     },
     "eb3535697c914fe693a59d08fbb46f9b": {
      "model_module": "@jupyter-widgets/controls",
      "model_module_version": "2.0.0",
      "model_name": "DescriptionStyleModel",
      "state": {
       "description_width": ""
      }
     },
     "ebb034b899d34449a4be5cd7d2055dbc": {
      "model_module": "@jupyter-widgets/controls",
      "model_module_version": "2.0.0",
      "model_name": "VBoxModel",
      "state": {
       "_dom_classes": [
        "widget-interact"
       ],
       "children": [
        "IPY_MODEL_d24d5fbb18534014ac75fcc6adaaa414",
        "IPY_MODEL_86d44c530df84a21af897258ed944763"
       ],
       "layout": "IPY_MODEL_9e7a8c71096f4858bdf9ca6f4eeb0e3b"
      }
     },
     "ebbae03698944f2e80a0eca5fc366dd1": {
      "model_module": "@jupyter-widgets/controls",
      "model_module_version": "2.0.0",
      "model_name": "FloatSliderModel",
      "state": {
       "behavior": "drag-tap",
       "description": "outline_sigma",
       "layout": "IPY_MODEL_bc1047ce5c3648799b131ecbe104d6cf",
       "max": 25,
       "style": "IPY_MODEL_88bea0927c0e40ccb99fec898ec45771",
       "value": 2
      }
     },
     "ebea9687c4ed4a8b9d6c506a15eda7a5": {
      "model_module": "@jupyter-widgets/controls",
      "model_module_version": "2.0.0",
      "model_name": "VBoxModel",
      "state": {
       "_dom_classes": [
        "widget-interact"
       ],
       "children": [
        "IPY_MODEL_64acfc7a43884648a0c99c9e393f1d31",
        "IPY_MODEL_78932cc479cb4e7abd15269ac992b379",
        "IPY_MODEL_e7aede01e9554a1aa41ae8f3f7fefd22"
       ],
       "layout": "IPY_MODEL_7ba13916bed84b249ee3c5fa988aa150"
      }
     },
     "ec0be6b66a1240e59929226f8f478fc5": {
      "model_module": "@jupyter-widgets/controls",
      "model_module_version": "2.0.0",
      "model_name": "LabelModel",
      "state": {
       "layout": "IPY_MODEL_d94cf0e2850346ff956ed07878d021a5",
       "style": "IPY_MODEL_964736b1a02c452cbd33bdee2353acdf",
       "value": "nsbatwm.subtract_background( image=no_image, rolling_ball_radius=5.0)"
      }
     },
     "ec2267b7682449fdbfb36f24789fb1f9": {
      "model_module": "@jupyter-widgets/base",
      "model_module_version": "2.0.0",
      "model_name": "LayoutModel",
      "state": {}
     },
     "ec825a6afac644dcb1ef717605a42037": {
      "model_module": "@jupyter-widgets/base",
      "model_module_version": "2.0.0",
      "model_name": "LayoutModel",
      "state": {}
     },
     "ecebdce6c78a4ac7af685f0b280aa90f": {
      "model_module": "@jupyter-widgets/controls",
      "model_module_version": "2.0.0",
      "model_name": "DescriptionStyleModel",
      "state": {
       "description_width": ""
      }
     },
     "ecf408dc4f8146609b7fb1a00c7f6f4b": {
      "model_module": "@jupyter-widgets/base",
      "model_module_version": "2.0.0",
      "model_name": "LayoutModel",
      "state": {}
     },
     "ed04cc082fa7421fa138678559966488": {
      "model_module": "@jupyter-widgets/controls",
      "model_module_version": "2.0.0",
      "model_name": "DropdownModel",
      "state": {
       "_options_labels": [
        "no_image",
        "image1",
        "image2",
        "image3",
        "blobs",
        "binary",
        "labels",
        "dilated_labels"
       ],
       "description": "mask",
       "index": 0,
       "layout": "IPY_MODEL_87f6cc472a944afc9c28d50cbb3cd640",
       "style": "IPY_MODEL_84a2ff24651145ef8373e797aef3fea5"
      }
     },
     "ed6069ea73e54ce5a7d31b9ef5f4f3c2": {
      "model_module": "@jupyter-widgets/controls",
      "model_module_version": "2.0.0",
      "model_name": "SliderStyleModel",
      "state": {
       "description_width": ""
      }
     },
     "ed6d77f33b0b497192b53a739abc33d3": {
      "model_module": "@jupyter-widgets/base",
      "model_module_version": "2.0.0",
      "model_name": "LayoutModel",
      "state": {}
     },
     "ed8845ee033841a98d7a8a92c9146414": {
      "model_module": "@jupyter-widgets/controls",
      "model_module_version": "2.0.0",
      "model_name": "VBoxModel",
      "state": {
       "children": [
        "IPY_MODEL_b9725691187b49ffab70fb25246ba9ba",
        "IPY_MODEL_4ad2cd56fa35490d87705093310f9c7a"
       ],
       "layout": "IPY_MODEL_240831c86d454be6a2be9b835e352881"
      }
     },
     "eda374ab2f7f46c1902ce7e5b2d4b8c6": {
      "model_module": "@jupyter-widgets/base",
      "model_module_version": "2.0.0",
      "model_name": "LayoutModel",
      "state": {}
     },
     "eda6b7679b3b48949890bd42f585277a": {
      "model_module": "@jupyter-widgets/controls",
      "model_module_version": "2.0.0",
      "model_name": "DescriptionStyleModel",
      "state": {
       "description_width": ""
      }
     },
     "edcb0e296e55403c9fe1f94789701b03": {
      "model_module": "@jupyter-widgets/controls",
      "model_module_version": "2.0.0",
      "model_name": "VBoxModel",
      "state": {
       "children": [
        "IPY_MODEL_ebea9687c4ed4a8b9d6c506a15eda7a5",
        "IPY_MODEL_f8c465f717fe4faea81229aa0f41d7f4"
       ],
       "layout": "IPY_MODEL_21887a03cd4c44b3b82f9b6e403d0f1c"
      }
     },
     "eddd590b41dc49d688b78466beab9ffd": {
      "model_module": "@jupyter-widgets/controls",
      "model_module_version": "2.0.0",
      "model_name": "DropdownModel",
      "state": {
       "_options_labels": [
        "no_image",
        "image1",
        "image2",
        "image3",
        "blobs",
        "binary",
        "labels",
        "dilated_labels"
       ],
       "description": "image",
       "index": 0,
       "layout": "IPY_MODEL_ab05a793fc5d4045a76a58e4f2e30fba",
       "style": "IPY_MODEL_12e16d9e53a3427896fd804b030b18e5"
      }
     },
     "ede915ed1a5b45d7aa3fb1d44e14134a": {
      "model_module": "@jupyter-widgets/base",
      "model_module_version": "2.0.0",
      "model_name": "LayoutModel",
      "state": {}
     },
     "ee063157167a4b77b3c0789148d82088": {
      "model_module": "@jupyter-widgets/output",
      "model_module_version": "1.0.0",
      "model_name": "OutputModel",
      "state": {
       "layout": "IPY_MODEL_b602444268b84ab9b6f5f6b3ecf79e33"
      }
     },
     "ee426a9fc09349e9830c195b33991b1d": {
      "model_module": "@jupyter-widgets/controls",
      "model_module_version": "2.0.0",
      "model_name": "IntSliderModel",
      "state": {
       "behavior": "drag-tap",
       "description": "radius_z",
       "layout": "IPY_MODEL_41a8f63270ee4cd998041c851ca879e4",
       "style": "IPY_MODEL_13508b238b654def981c785381cd5334",
       "value": 5
      }
     },
     "ee52087f0658414eac8caf54893fceeb": {
      "model_module": "@jupyter-widgets/controls",
      "model_module_version": "2.0.0",
      "model_name": "DescriptionStyleModel",
      "state": {
       "description_width": ""
      }
     },
     "ee5e6e21d1ce48d2919ed827426254f5": {
      "model_module": "@jupyter-widgets/controls",
      "model_module_version": "2.0.0",
      "model_name": "FloatSliderModel",
      "state": {
       "behavior": "drag-tap",
       "description": "outline_sigma",
       "layout": "IPY_MODEL_922951044a1e43c4ba2f975e36de1a0d",
       "max": 25,
       "style": "IPY_MODEL_bb3219c2218e447798b4b8cea08a847e",
       "value": 2
      }
     },
     "ee63836b8c2b46ab98141e70ef97c453": {
      "model_module": "@jupyter-widgets/base",
      "model_module_version": "2.0.0",
      "model_name": "LayoutModel",
      "state": {}
     },
     "ee744de459244632b10f83e8e0f2906c": {
      "model_module": "@jupyter-widgets/controls",
      "model_module_version": "2.0.0",
      "model_name": "VBoxModel",
      "state": {
       "_dom_classes": [
        "widget-interact"
       ],
       "children": [
        "IPY_MODEL_dcb743b28b3149daacc8eacd9a261877",
        "IPY_MODEL_6f8c2c7e33594e52bad3239525fbe54f"
       ],
       "layout": "IPY_MODEL_fe43b71f91ff4a03b19615943136868a"
      }
     },
     "ee7e15bcf5934028a86f7b5a2937e850": {
      "model_module": "@jupyter-widgets/controls",
      "model_module_version": "2.0.0",
      "model_name": "SliderStyleModel",
      "state": {
       "description_width": ""
      }
     },
     "ee9c17a653eb42dbbcf0a2bc51b12a21": {
      "model_module": "@jupyter-widgets/base",
      "model_module_version": "2.0.0",
      "model_name": "LayoutModel",
      "state": {}
     },
     "ee9c91d0d23549f6be513fd26c6487e6": {
      "model_module": "@jupyter-widgets/base",
      "model_module_version": "2.0.0",
      "model_name": "LayoutModel",
      "state": {}
     },
     "eea2d8914c2c4cd9aee45b36b0f0b0c9": {
      "model_module": "@jupyter-widgets/base",
      "model_module_version": "2.0.0",
      "model_name": "LayoutModel",
      "state": {}
     },
     "eeb76c28b309497981677faf0f2e58dc": {
      "model_module": "@jupyter-widgets/output",
      "model_module_version": "1.0.0",
      "model_name": "OutputModel",
      "state": {
       "layout": "IPY_MODEL_b5724158777e4f24918ce97eedef47de"
      }
     },
     "ef2c7eb070104013b79106510a8d3ffe": {
      "model_module": "@jupyter-widgets/controls",
      "model_module_version": "2.0.0",
      "model_name": "VBoxModel",
      "state": {
       "children": [
        "IPY_MODEL_d53f330ad27a4b28a7fc69bef1793ad8",
        "IPY_MODEL_5ef2489c6f3f4c7aa58b6f0034beec14"
       ],
       "layout": "IPY_MODEL_226e02fdffd14246971e01bbde66e965"
      }
     },
     "ef41abed52ad429284e800966af6e7f2": {
      "model_module": "@jupyter-widgets/controls",
      "model_module_version": "2.0.0",
      "model_name": "DropdownModel",
      "state": {
       "_options_labels": [
        "no_image",
        "image1",
        "image2",
        "image3",
        "blobs",
        "binary",
        "labels",
        "dilated_labels"
       ],
       "description": "mask",
       "index": 0,
       "layout": "IPY_MODEL_f78be5ff6c78483bbfe668282e585619",
       "style": "IPY_MODEL_79e3856eeede40f9941fb1c8f9db122b"
      }
     },
     "ef6cd3224f37436faaa15e7b2bea2293": {
      "model_module": "@jupyter-widgets/controls",
      "model_module_version": "2.0.0",
      "model_name": "DescriptionStyleModel",
      "state": {
       "description_width": ""
      }
     },
     "ef766e3b34ce423fa589740ee1e32820": {
      "model_module": "@jupyter-widgets/controls",
      "model_module_version": "2.0.0",
      "model_name": "LabelStyleModel",
      "state": {
       "description_width": "",
       "font_family": "Courier",
       "font_size": null,
       "font_style": null,
       "font_variant": null,
       "font_weight": null,
       "text_color": null,
       "text_decoration": null
      }
     },
     "ef9e5766c75b4dd999b413708f24120b": {
      "model_module": "@jupyter-widgets/controls",
      "model_module_version": "2.0.0",
      "model_name": "LabelModel",
      "state": {
       "layout": "IPY_MODEL_c020df188a3d47349b3964ea9c660273",
       "style": "IPY_MODEL_1c70e0b4d7954b3984a8aba93644a4fa",
       "value": "skfilters.butterworth( image=no_image)"
      }
     },
     "efa3ea21a2f14285ac3427bcd957eeef": {
      "model_module": "@jupyter-widgets/base",
      "model_module_version": "2.0.0",
      "model_name": "LayoutModel",
      "state": {}
     },
     "efc3772cb505494c92d22802dff2b104": {
      "model_module": "@jupyter-widgets/controls",
      "model_module_version": "2.0.0",
      "model_name": "DropdownModel",
      "state": {
       "_options_labels": [
        "no_image",
        "image1",
        "image2",
        "image3",
        "blobs",
        "binary",
        "labels",
        "dilated_labels"
       ],
       "description": "image",
       "index": 0,
       "layout": "IPY_MODEL_d935c804f0724c98972124c87fbd6a69",
       "style": "IPY_MODEL_1011219e029544ce9ce9baaf2e101f69"
      }
     },
     "efd43f3e1b1a46fea2904ed3efd91ded": {
      "model_module": "@jupyter-widgets/base",
      "model_module_version": "2.0.0",
      "model_name": "LayoutModel",
      "state": {}
     },
     "efed0a13981c42d99eb701428714e244": {
      "model_module": "@jupyter-widgets/base",
      "model_module_version": "2.0.0",
      "model_name": "LayoutModel",
      "state": {}
     },
     "efff515ef897477d94e2b3c3e1412e42": {
      "model_module": "@jupyter-widgets/controls",
      "model_module_version": "2.0.0",
      "model_name": "DescriptionStyleModel",
      "state": {
       "description_width": ""
      }
     },
     "f0775b973f6a4c1492789b0f0d8811ee": {
      "model_module": "@jupyter-widgets/controls",
      "model_module_version": "2.0.0",
      "model_name": "VBoxModel",
      "state": {
       "_dom_classes": [
        "widget-interact"
       ],
       "children": [
        "IPY_MODEL_e56b374530fa4f8c9a4b353e4e359e0f",
        "IPY_MODEL_2c590fd3deac4be7a9f6e289d7436582",
        "IPY_MODEL_767278883e0b4c0fad48c15e48e6b773"
       ],
       "layout": "IPY_MODEL_7b57d3a0e1714671b25c523337fce1ee"
      }
     },
     "f0891691f9ce45169941621d1f7582c9": {
      "model_module": "@jupyter-widgets/base",
      "model_module_version": "2.0.0",
      "model_name": "LayoutModel",
      "state": {
       "display": "none"
      }
     },
     "f08d178b5c58400ba9c5488d8441a0a5": {
      "model_module": "@jupyter-widgets/controls",
      "model_module_version": "2.0.0",
      "model_name": "VBoxModel",
      "state": {
       "children": [
        "IPY_MODEL_e95c8ad592f74afb8b88212cea1f63ce",
        "IPY_MODEL_1f9a0243a3044c6891d352ee0e6d30a5"
       ],
       "layout": "IPY_MODEL_6212a25aae1747c5b7ffb5f0be07d7d5"
      }
     },
     "f0a5ca8f91de4bebb583559479213d23": {
      "model_module": "@jupyter-widgets/base",
      "model_module_version": "2.0.0",
      "model_name": "LayoutModel",
      "state": {}
     },
     "f0a82afbfb5b4406a1b92ae27feb8e3c": {
      "model_module": "@jupyter-widgets/base",
      "model_module_version": "2.0.0",
      "model_name": "LayoutModel",
      "state": {}
     },
     "f0d8db65adba4c4a862b1a112e7ceb31": {
      "model_module": "@jupyter-widgets/base",
      "model_module_version": "2.0.0",
      "model_name": "LayoutModel",
      "state": {}
     },
     "f0f74147bd4041dda24f0405b140af04": {
      "model_module": "@jupyter-widgets/base",
      "model_module_version": "2.0.0",
      "model_name": "LayoutModel",
      "state": {}
     },
     "f10710d9daa24e089de2a8c6d522259b": {
      "model_module": "@jupyter-widgets/base",
      "model_module_version": "2.0.0",
      "model_name": "LayoutModel",
      "state": {}
     },
     "f1166436929744c1acf7e09822cdf6cd": {
      "model_module": "@jupyter-widgets/controls",
      "model_module_version": "2.0.0",
      "model_name": "DescriptionStyleModel",
      "state": {
       "description_width": ""
      }
     },
     "f13537753c9448bb982ecac0eea25d55": {
      "model_module": "@jupyter-widgets/base",
      "model_module_version": "2.0.0",
      "model_name": "LayoutModel",
      "state": {}
     },
     "f16c171142804bd09ecb726940835568": {
      "model_module": "@jupyter-widgets/base",
      "model_module_version": "2.0.0",
      "model_name": "LayoutModel",
      "state": {}
     },
     "f186c413f24948cd826eb40cc63ca454": {
      "model_module": "@jupyter-widgets/controls",
      "model_module_version": "2.0.0",
      "model_name": "CheckboxStyleModel",
      "state": {
       "description_width": ""
      }
     },
     "f1900e88ac264ab49e22b1927faa2f0b": {
      "model_module": "@jupyter-widgets/base",
      "model_module_version": "2.0.0",
      "model_name": "LayoutModel",
      "state": {}
     },
     "f19692a2d3cb48fa8cecdfdc1f4d9f17": {
      "model_module": "@jupyter-widgets/controls",
      "model_module_version": "2.0.0",
      "model_name": "VBoxModel",
      "state": {
       "_dom_classes": [
        "widget-interact"
       ],
       "children": [
        "IPY_MODEL_f3e934f8b5994b6aa9793f1459a311be",
        "IPY_MODEL_e4ad878dc466475dbf2f5eea4d9d16a5"
       ],
       "layout": "IPY_MODEL_62f40dfb9c2240a9b162c1aed5ff1e00"
      }
     },
     "f1c44170b6bb4410bd60b2137577e61f": {
      "model_module": "@jupyter-widgets/base",
      "model_module_version": "2.0.0",
      "model_name": "LayoutModel",
      "state": {}
     },
     "f1e9472f030d460caf026048c9b71d0f": {
      "model_module": "@jupyter-widgets/base",
      "model_module_version": "2.0.0",
      "model_name": "LayoutModel",
      "state": {}
     },
     "f23a2a1c096c46d6818fcf2bf4edef67": {
      "model_module": "@jupyter-widgets/base",
      "model_module_version": "2.0.0",
      "model_name": "LayoutModel",
      "state": {}
     },
     "f25259a8a1b0488fb012a0a8a0303447": {
      "model_module": "@jupyter-widgets/controls",
      "model_module_version": "2.0.0",
      "model_name": "DropdownModel",
      "state": {
       "_options_labels": [
        "no_image",
        "image1",
        "image2",
        "image3",
        "blobs",
        "binary",
        "labels",
        "dilated_labels"
       ],
       "description": "image",
       "index": 0,
       "layout": "IPY_MODEL_fd460573e1384c88a28c54cc63b58b95",
       "style": "IPY_MODEL_7fdded8694574ce9aea92d13f31c8a61"
      }
     },
     "f28556b213bc4ed281728c7839df5c9d": {
      "model_module": "@jupyter-widgets/base",
      "model_module_version": "2.0.0",
      "model_name": "LayoutModel",
      "state": {
       "display": "none"
      }
     },
     "f289c1420a9c452ca256ec3e9b15bcde": {
      "model_module": "@jupyter-widgets/controls",
      "model_module_version": "2.0.0",
      "model_name": "CheckboxModel",
      "state": {
       "description": "high_pass",
       "disabled": false,
       "layout": "IPY_MODEL_0328c7699af6473d90a893c7e9aa5482",
       "style": "IPY_MODEL_2b5129b3a6294c75974ccae37e837dce",
       "value": false
      }
     },
     "f2cbf4c56c564513a6d1c7da0d7e1cc9": {
      "model_module": "@jupyter-widgets/controls",
      "model_module_version": "2.0.0",
      "model_name": "VBoxModel",
      "state": {
       "children": [
        "IPY_MODEL_6c2c9eff0f774e83823c3a73d631f59e",
        "IPY_MODEL_707e007670de4dc3ac346460c45e1480"
       ],
       "layout": "IPY_MODEL_c6b8f123ab22428ebdf0a787603dfd2b"
      }
     },
     "f3122c74615c45a1891ec1422fe52071": {
      "model_module": "@jupyter-widgets/controls",
      "model_module_version": "2.0.0",
      "model_name": "VBoxModel",
      "state": {
       "children": [
        "IPY_MODEL_ead50d243bcf4feaa417c33ade114b1f",
        "IPY_MODEL_3b02dd1071da4a67a2a18e7ca463e76c"
       ],
       "layout": "IPY_MODEL_0759f00594fb4a81aa327433a608a9ce"
      }
     },
     "f34ea079fa2545fe8a0fc83e209e9662": {
      "model_module": "@jupyter-widgets/output",
      "model_module_version": "1.0.0",
      "model_name": "OutputModel",
      "state": {
       "layout": "IPY_MODEL_c726ab71c9244dd98977733f400815e0"
      }
     },
     "f354721c522c4efb9042be37a7a901a4": {
      "model_module": "@jupyter-widgets/controls",
      "model_module_version": "2.0.0",
      "model_name": "LabelStyleModel",
      "state": {
       "description_width": "",
       "font_family": "Courier",
       "font_size": null,
       "font_style": null,
       "font_variant": null,
       "font_weight": null,
       "text_color": null,
       "text_decoration": null
      }
     },
     "f386b29685564380ac1266e764be3e10": {
      "model_module": "@jupyter-widgets/output",
      "model_module_version": "1.0.0",
      "model_name": "OutputModel",
      "state": {
       "layout": "IPY_MODEL_70f805d6dff048d9a069ea30d5a1524a"
      }
     },
     "f38b037b972c47c883703689e8865942": {
      "model_module": "@jupyter-widgets/controls",
      "model_module_version": "2.0.0",
      "model_name": "SliderStyleModel",
      "state": {
       "description_width": ""
      }
     },
     "f38fe11e343a4e4e9c56dd40637d4749": {
      "model_module": "@jupyter-widgets/controls",
      "model_module_version": "2.0.0",
      "model_name": "IntSliderModel",
      "state": {
       "behavior": "drag-tap",
       "description": "radius_y",
       "layout": "IPY_MODEL_4f59c583a8e3418495f34bc7d2783163",
       "style": "IPY_MODEL_20f09d93be2d466db0658be49206ba9a",
       "value": 5
      }
     },
     "f391d95d5e3c4bd5b59be6c239634298": {
      "model_module": "@jupyter-widgets/controls",
      "model_module_version": "2.0.0",
      "model_name": "DescriptionStyleModel",
      "state": {
       "description_width": ""
      }
     },
     "f3be2341bbb145daa524f5c8089f2689": {
      "model_module": "@jupyter-widgets/controls",
      "model_module_version": "2.0.0",
      "model_name": "DescriptionStyleModel",
      "state": {
       "description_width": ""
      }
     },
     "f3e58c69a7674fe9a1e29f83e5b02e4d": {
      "model_module": "@jupyter-widgets/controls",
      "model_module_version": "2.0.0",
      "model_name": "DropdownModel",
      "state": {
       "_options_labels": [
        "no_image",
        "image1",
        "image2",
        "image3",
        "blobs",
        "binary",
        "labels",
        "dilated_labels"
       ],
       "description": "image",
       "index": 0,
       "layout": "IPY_MODEL_63ce2dd144494c92afc6cabd17fb9cef",
       "style": "IPY_MODEL_bf67ecbc22d2445c97540b1a741e57cb"
      }
     },
     "f3e934f8b5994b6aa9793f1459a311be": {
      "model_module": "@jupyter-widgets/controls",
      "model_module_version": "2.0.0",
      "model_name": "DropdownModel",
      "state": {
       "_options_labels": [
        "no_image",
        "image1",
        "image2",
        "image3",
        "blobs",
        "binary",
        "labels",
        "dilated_labels"
       ],
       "description": "image",
       "index": 0,
       "layout": "IPY_MODEL_0b8f3de85e604cf7a0a7aaef57ca2363",
       "style": "IPY_MODEL_81c045579fbd47c6aeaacd51c5d7910e"
      }
     },
     "f402a1d2e64044328c960dca36bf9a7c": {
      "model_module": "@jupyter-widgets/controls",
      "model_module_version": "2.0.0",
      "model_name": "CheckboxStyleModel",
      "state": {
       "description_width": ""
      }
     },
     "f422561f6d5d475bad7db2a693821a72": {
      "model_module": "@jupyter-widgets/base",
      "model_module_version": "2.0.0",
      "model_name": "LayoutModel",
      "state": {}
     },
     "f42a163eb83e4895950c90bcc453b8b7": {
      "model_module": "@jupyter-widgets/controls",
      "model_module_version": "2.0.0",
      "model_name": "LabelStyleModel",
      "state": {
       "description_width": "",
       "font_family": "Courier",
       "font_size": null,
       "font_style": null,
       "font_variant": null,
       "font_weight": null,
       "text_color": null,
       "text_decoration": null
      }
     },
     "f430cf3e6f5b4e8b9488d611ea35e254": {
      "model_module": "@jupyter-widgets/controls",
      "model_module_version": "2.0.0",
      "model_name": "DropdownModel",
      "state": {
       "_options_labels": [
        "no_image",
        "image1",
        "image2",
        "image3",
        "blobs",
        "binary",
        "labels",
        "dilated_labels"
       ],
       "description": "image",
       "index": 0,
       "layout": "IPY_MODEL_cb76955004824f35952a45c919e37524",
       "style": "IPY_MODEL_afc08ad594804ede83f783c7913a8da5"
      }
     },
     "f4535eea638d498c9718d4ea9e81cf37": {
      "model_module": "@jupyter-widgets/base",
      "model_module_version": "2.0.0",
      "model_name": "LayoutModel",
      "state": {
       "display": "none"
      }
     },
     "f4bc38baeb5642129f587a81fa5d6a21": {
      "model_module": "@jupyter-widgets/base",
      "model_module_version": "2.0.0",
      "model_name": "LayoutModel",
      "state": {}
     },
     "f4cae1d806c34580a55d424d088c1f59": {
      "model_module": "@jupyter-widgets/base",
      "model_module_version": "2.0.0",
      "model_name": "LayoutModel",
      "state": {}
     },
     "f4f3ad574cbd4559b317c68641fbb69f": {
      "model_module": "@jupyter-widgets/base",
      "model_module_version": "2.0.0",
      "model_name": "LayoutModel",
      "state": {}
     },
     "f4fde77821ce4161ab96a11b17e6eea9": {
      "model_module": "@jupyter-widgets/output",
      "model_module_version": "1.0.0",
      "model_name": "OutputModel",
      "state": {
       "layout": "IPY_MODEL_85a163e9ca7d4b04968025f3cc6f023c"
      }
     },
     "f51b41944ae748bb9e575ea03f3908a0": {
      "model_module": "@jupyter-widgets/controls",
      "model_module_version": "2.0.0",
      "model_name": "LabelModel",
      "state": {
       "layout": "IPY_MODEL_ddc21ba81e2a4a13aa36a1da75db013c",
       "style": "IPY_MODEL_a00eac5e10464a4e85a94055aee9ec20",
       "value": "np.genfromtxt( usemask=no_image)"
      }
     },
     "f51b91129b0d467bacba7433e6269cf3": {
      "model_module": "@jupyter-widgets/base",
      "model_module_version": "2.0.0",
      "model_name": "LayoutModel",
      "state": {
       "display": "none"
      }
     },
     "f570cdc1306b416197325bb90c3a6c48": {
      "model_module": "@jupyter-widgets/controls",
      "model_module_version": "2.0.0",
      "model_name": "LabelStyleModel",
      "state": {
       "description_width": "",
       "font_family": "Courier",
       "font_size": null,
       "font_style": null,
       "font_variant": null,
       "font_weight": null,
       "text_color": null,
       "text_decoration": null
      }
     },
     "f590e706d35e43fc9fb74e0113b3d296": {
      "model_module": "@jupyter-widgets/controls",
      "model_module_version": "2.0.0",
      "model_name": "DropdownModel",
      "state": {
       "_options_labels": [
        "no_image",
        "image1",
        "image2",
        "image3",
        "blobs",
        "binary",
        "labels",
        "dilated_labels"
       ],
       "description": "image",
       "index": 0,
       "layout": "IPY_MODEL_d4519a3dfc2a4540a987c824195667fd",
       "style": "IPY_MODEL_4d96c09b28f3489cb8d6f1a30d6a186e"
      }
     },
     "f5c0607270e44549a714e62eae67cb7a": {
      "model_module": "@jupyter-widgets/controls",
      "model_module_version": "2.0.0",
      "model_name": "VBoxModel",
      "state": {
       "children": [
        "IPY_MODEL_af82c32c535448c7b28c3a702db32a5f",
        "IPY_MODEL_635eae06389b4e639810799c80870ebc"
       ],
       "layout": "IPY_MODEL_007b229ef9324d2f8f40e5779b1dac93"
      }
     },
     "f5fe4ff7dfb74f1886390fe7071c40f0": {
      "model_module": "@jupyter-widgets/controls",
      "model_module_version": "2.0.0",
      "model_name": "DropdownModel",
      "state": {
       "_options_labels": [
        "no_image",
        "image1",
        "image2",
        "image3",
        "blobs",
        "binary",
        "labels",
        "dilated_labels"
       ],
       "description": "image",
       "index": 0,
       "layout": "IPY_MODEL_c839d0602ea34a82bc7c4cf6cd20e275",
       "style": "IPY_MODEL_9cae92f2ae81499a9f36dff64be18738"
      }
     },
     "f60a34aeea6942b0ab90e45a55a7cdc0": {
      "model_module": "@jupyter-widgets/base",
      "model_module_version": "2.0.0",
      "model_name": "LayoutModel",
      "state": {}
     },
     "f633ae0a3c82435f98ae35766d306c10": {
      "model_module": "@jupyter-widgets/base",
      "model_module_version": "2.0.0",
      "model_name": "LayoutModel",
      "state": {}
     },
     "f63cd2abed7b4671a4fcb555330da072": {
      "model_module": "@jupyter-widgets/base",
      "model_module_version": "2.0.0",
      "model_name": "LayoutModel",
      "state": {
       "display": "none"
      }
     },
     "f672bf08c51346d2a4d41620ca8f624a": {
      "model_module": "@jupyter-widgets/controls",
      "model_module_version": "2.0.0",
      "model_name": "VBoxModel",
      "state": {
       "children": [
        "IPY_MODEL_2b14235af0f14573a56bf2c941adf253",
        "IPY_MODEL_4bb08d7b9700481eb5125266c4d525a7"
       ],
       "layout": "IPY_MODEL_2cda6570dada4dce90e2b59c98b01832"
      }
     },
     "f6884eacf82b4d5584893fa1911b00b0": {
      "model_module": "@jupyter-widgets/base",
      "model_module_version": "2.0.0",
      "model_name": "LayoutModel",
      "state": {}
     },
     "f69b4b9640ee42ba83343b17e37c2116": {
      "model_module": "@jupyter-widgets/controls",
      "model_module_version": "2.0.0",
      "model_name": "VBoxModel",
      "state": {
       "children": [
        "IPY_MODEL_9c3c4b71567a41df9a2a0dcaca101bec",
        "IPY_MODEL_c09f65d2c4c242e588df8e26805c39cb"
       ],
       "layout": "IPY_MODEL_7c1fa95a62664b0a8f447fa85711c918"
      }
     },
     "f6a514eedc814f98acf769f93ebaeea2": {
      "model_module": "@jupyter-widgets/controls",
      "model_module_version": "2.0.0",
      "model_name": "SliderStyleModel",
      "state": {
       "description_width": ""
      }
     },
     "f6a746f54677442989225230976795dc": {
      "model_module": "@jupyter-widgets/base",
      "model_module_version": "2.0.0",
      "model_name": "LayoutModel",
      "state": {}
     },
     "f6b8b76acaca459ca3111ae2618d2c89": {
      "model_module": "@jupyter-widgets/controls",
      "model_module_version": "2.0.0",
      "model_name": "LabelModel",
      "state": {
       "layout": "IPY_MODEL_a98ae96fea8f4866b9259ba3286e4f72",
       "style": "IPY_MODEL_13722c0e20744614ad8b0fc1215baf21",
       "value": "closing_labels( labels_input=no_image, radius=0)"
      }
     },
     "f6c297d637f74b92b8b4c074e5850774": {
      "model_module": "@jupyter-widgets/base",
      "model_module_version": "2.0.0",
      "model_name": "LayoutModel",
      "state": {}
     },
     "f7184064945048dc9660fa94ee3ac882": {
      "model_module": "@jupyter-widgets/controls",
      "model_module_version": "2.0.0",
      "model_name": "IntSliderModel",
      "state": {
       "behavior": "drag-tap",
       "description": "radius_y",
       "layout": "IPY_MODEL_eb2bbbc38042410593e558c1771b14c1",
       "style": "IPY_MODEL_4d3704e201d94e23b3b604b4d8f6f20b",
       "value": 5
      }
     },
     "f74b7ca8abfa474aa7cf42a17a12f9c2": {
      "model_module": "@jupyter-widgets/controls",
      "model_module_version": "2.0.0",
      "model_name": "SliderStyleModel",
      "state": {
       "description_width": ""
      }
     },
     "f78be5ff6c78483bbfe668282e585619": {
      "model_module": "@jupyter-widgets/base",
      "model_module_version": "2.0.0",
      "model_name": "LayoutModel",
      "state": {}
     },
     "f79e0dcc42f742e6bc31df9b62eea61c": {
      "model_module": "@jupyter-widgets/base",
      "model_module_version": "2.0.0",
      "model_name": "LayoutModel",
      "state": {}
     },
     "f7b2a0e0d61e4c0b8a247d65978b3634": {
      "model_module": "@jupyter-widgets/controls",
      "model_module_version": "2.0.0",
      "model_name": "VBoxModel",
      "state": {
       "children": [
        "IPY_MODEL_8046626fa4f847fc8f5f1075e3dfed72",
        "IPY_MODEL_e0eea2a637194752a4a8da331ca25463"
       ],
       "layout": "IPY_MODEL_a1e30be2bd394d4aafbaa3f1251fd97e"
      }
     },
     "f7bc2c49c68c4a938dd3d48e5fed3118": {
      "model_module": "@jupyter-widgets/controls",
      "model_module_version": "2.0.0",
      "model_name": "DescriptionStyleModel",
      "state": {
       "description_width": ""
      }
     },
     "f7db7eaf6b644829a2a8f503f869f46c": {
      "model_module": "@jupyter-widgets/controls",
      "model_module_version": "2.0.0",
      "model_name": "LabelModel",
      "state": {
       "layout": "IPY_MODEL_ecf408dc4f8146609b7fb1a00c7f6f4b",
       "style": "IPY_MODEL_7a913e94ed9e4ecc8ab6ee72ff1d726b",
       "value": "nsbatwm.local_maxima( image=no_image, footprint=disk(0))"
      }
     },
     "f7de3f80958c4f7abe19aa5202663a24": {
      "model_module": "@jupyter-widgets/controls",
      "model_module_version": "2.0.0",
      "model_name": "LabelStyleModel",
      "state": {
       "description_width": "",
       "font_family": "Courier",
       "font_size": null,
       "font_style": null,
       "font_variant": null,
       "font_weight": null,
       "text_color": null,
       "text_decoration": null
      }
     },
     "f816f6e239a7478582a5e5677738d841": {
      "model_module": "@jupyter-widgets/controls",
      "model_module_version": "2.0.0",
      "model_name": "SliderStyleModel",
      "state": {
       "description_width": ""
      }
     },
     "f8232dd86eee43ceb5342ff4cd25231f": {
      "model_module": "@jupyter-widgets/base",
      "model_module_version": "2.0.0",
      "model_name": "LayoutModel",
      "state": {}
     },
     "f86214fc1f3f47be9895ef622c6c792a": {
      "model_module": "@jupyter-widgets/controls",
      "model_module_version": "2.0.0",
      "model_name": "LabelModel",
      "state": {
       "layout": "IPY_MODEL_bd150f7db6ef40b1a3c4ec2d08688e49",
       "style": "IPY_MODEL_2f51c882111443ceaa7fbd9b04b831f4",
       "value": "nsbatwm.Manually_merge_labels( labels_layer=no_image)"
      }
     },
     "f887f6c877464c6e8ed5130126c20744": {
      "model_module": "@jupyter-widgets/controls",
      "model_module_version": "2.0.0",
      "model_name": "LabelModel",
      "state": {
       "layout": "IPY_MODEL_c9ab0820ab36429c9ce1bc925de76b1c",
       "style": "IPY_MODEL_79821a1de7b14db8b1b3f2dd153fb9ba",
       "value": "nsbatwm.gaussian_blur( image=no_image, sigma=1.0)"
      }
     },
     "f8c465f717fe4faea81229aa0f41d7f4": {
      "model_module": "@jupyter-widgets/controls",
      "model_module_version": "2.0.0",
      "model_name": "LabelModel",
      "state": {
       "layout": "IPY_MODEL_7b4ed2c4b48c4f51bc234acd7fa1bb71",
       "style": "IPY_MODEL_cb7d237daaa14f5ab35329882aeb3cbd",
       "value": "nsbatwm.divide_images( image1=no_image, image2=no_image)"
      }
     },
     "f8c6d2d83bfc4c98bd31f3fa2175fef0": {
      "model_module": "@jupyter-widgets/controls",
      "model_module_version": "2.0.0",
      "model_name": "SliderStyleModel",
      "state": {
       "description_width": ""
      }
     },
     "f8e69e310557409caea8818ad2d75336": {
      "model_module": "@jupyter-widgets/base",
      "model_module_version": "2.0.0",
      "model_name": "LayoutModel",
      "state": {}
     },
     "f945064b6a54402ba26966ecf55ac44d": {
      "model_module": "@jupyter-widgets/controls",
      "model_module_version": "2.0.0",
      "model_name": "DropdownModel",
      "state": {
       "_options_labels": [
        "no_image",
        "image1",
        "image2",
        "image3",
        "blobs",
        "binary",
        "labels",
        "dilated_labels"
       ],
       "description": "image",
       "index": 0,
       "layout": "IPY_MODEL_b3d86d8eac254c0db31717446f40e788",
       "style": "IPY_MODEL_33794d83eae040bb85f473cdab9da86e"
      }
     },
     "f9939618ee624985b8f9f209ed4d3bc2": {
      "model_module": "@jupyter-widgets/base",
      "model_module_version": "2.0.0",
      "model_name": "LayoutModel",
      "state": {}
     },
     "f9cc5aaa85d141fc9479865cbb363450": {
      "model_module": "@jupyter-widgets/controls",
      "model_module_version": "2.0.0",
      "model_name": "VBoxModel",
      "state": {
       "_dom_classes": [
        "widget-interact"
       ],
       "children": [
        "IPY_MODEL_775f5a5723e04c59999bd788e40461e6",
        "IPY_MODEL_45b71948ee21417c885219943e4a9bea"
       ],
       "layout": "IPY_MODEL_d8ceaedc0d194f61bc1d91d8eacaa876"
      }
     },
     "f9d6c2b71a694c88abd7d773fa1ebcd5": {
      "model_module": "@jupyter-widgets/controls",
      "model_module_version": "2.0.0",
      "model_name": "VBoxModel",
      "state": {
       "_dom_classes": [
        "widget-interact"
       ],
       "children": [
        "IPY_MODEL_0538b43add624deba448fc7acc56e56b",
        "IPY_MODEL_399342e869d947f2bb4ee2b146ff47ab"
       ],
       "layout": "IPY_MODEL_84461195ef694c43a0c1c34265261349"
      }
     },
     "f9da04af7cc94cac9392bfc80a667c07": {
      "model_module": "@jupyter-widgets/controls",
      "model_module_version": "2.0.0",
      "model_name": "LabelStyleModel",
      "state": {
       "description_width": "",
       "font_family": "Courier",
       "font_size": null,
       "font_style": null,
       "font_variant": null,
       "font_weight": null,
       "text_color": null,
       "text_decoration": null
      }
     },
     "f9da38e65530450a9da8b81abbe020de": {
      "model_module": "@jupyter-widgets/controls",
      "model_module_version": "2.0.0",
      "model_name": "DescriptionStyleModel",
      "state": {
       "description_width": ""
      }
     },
     "f9f3bc32b56745c0aabcc7eccc7be288": {
      "model_module": "@jupyter-widgets/controls",
      "model_module_version": "2.0.0",
      "model_name": "DropdownModel",
      "state": {
       "_options_labels": [
        "no_image",
        "image1",
        "image2",
        "image3",
        "blobs",
        "binary",
        "labels",
        "dilated_labels"
       ],
       "description": "image",
       "index": 0,
       "layout": "IPY_MODEL_b46fc484859140c5b6e3915a1e4ed539",
       "style": "IPY_MODEL_235d1d1370614222b1c855daa9e96dd5"
      }
     },
     "f9f7ebfa90cb494fb6e2aa040b3e2a60": {
      "model_module": "@jupyter-widgets/controls",
      "model_module_version": "2.0.0",
      "model_name": "LabelModel",
      "state": {
       "layout": "IPY_MODEL_7aa6704be951468b874ee077b60c50d7",
       "style": "IPY_MODEL_b03fce3f6721472b82b3563a8e4ac49a",
       "value": "skfilters.rank_order( image=no_image)"
      }
     },
     "fa3d5e57fd324166953f42c195177854": {
      "model_module": "@jupyter-widgets/controls",
      "model_module_version": "2.0.0",
      "model_name": "DropdownModel",
      "state": {
       "_options_labels": [
        "no_image",
        "image1",
        "image2",
        "image3",
        "blobs",
        "binary",
        "labels",
        "dilated_labels"
       ],
       "description": "image",
       "index": 0,
       "layout": "IPY_MODEL_ba20ebb853b54e31acaec7120317a190",
       "style": "IPY_MODEL_253fda148c68442abdfcd4bf51fd34a1"
      }
     },
     "fa3df1558f9f4b03bb2d0b9d61bab0c5": {
      "model_module": "@jupyter-widgets/base",
      "model_module_version": "2.0.0",
      "model_name": "LayoutModel",
      "state": {}
     },
     "fa697f4cb79d44158da56aa61d2b4c72": {
      "model_module": "@jupyter-widgets/base",
      "model_module_version": "2.0.0",
      "model_name": "LayoutModel",
      "state": {}
     },
     "fa727688a03749e8aa23ddd12e2637aa": {
      "model_module": "@jupyter-widgets/controls",
      "model_module_version": "2.0.0",
      "model_name": "VBoxModel",
      "state": {
       "children": [
        "IPY_MODEL_e3dffcc7071e456397b235b2f885f7b3",
        "IPY_MODEL_0449e06f34a14afcadf5731605a9797c"
       ],
       "layout": "IPY_MODEL_242949c69503451bb9eba42e7df4a786"
      }
     },
     "fa7a21c375464aa4b115bcc3b6def292": {
      "model_module": "@jupyter-widgets/base",
      "model_module_version": "2.0.0",
      "model_name": "LayoutModel",
      "state": {}
     },
     "fa955c84b1374d07adbc4f2e385eb6fd": {
      "model_module": "@jupyter-widgets/controls",
      "model_module_version": "2.0.0",
      "model_name": "LabelModel",
      "state": {
       "layout": "IPY_MODEL_3c816cef38674651a0baef84e3d03f12",
       "style": "IPY_MODEL_257ab712eae14836816d5c12b0f8e2f5",
       "value": "skfilters.threshold_local( image=no_image)"
      }
     },
     "fa97449db2d146fc8c88bc785a8c21d4": {
      "model_module": "@jupyter-widgets/controls",
      "model_module_version": "2.0.0",
      "model_name": "LabelStyleModel",
      "state": {
       "description_width": "",
       "font_family": "Courier",
       "font_size": null,
       "font_style": null,
       "font_variant": null,
       "font_weight": null,
       "text_color": null,
       "text_decoration": null
      }
     },
     "fa9a72b62dce4812a77a2269b360234f": {
      "model_module": "@jupyter-widgets/controls",
      "model_module_version": "2.0.0",
      "model_name": "DescriptionStyleModel",
      "state": {
       "description_width": ""
      }
     },
     "fad686d18e7c430dabf3602cb91a5b8a": {
      "model_module": "@jupyter-widgets/base",
      "model_module_version": "2.0.0",
      "model_name": "LayoutModel",
      "state": {}
     },
     "faf7de7f050b4a55ab252dae133bf011": {
      "model_module": "@jupyter-widgets/base",
      "model_module_version": "2.0.0",
      "model_name": "LayoutModel",
      "state": {}
     },
     "fb045f8cfea54e8d855a861aa12941e4": {
      "model_module": "@jupyter-widgets/controls",
      "model_module_version": "2.0.0",
      "model_name": "DescriptionStyleModel",
      "state": {
       "description_width": ""
      }
     },
     "fb41d69e768f4645ac1b70bbef28b6bd": {
      "model_module": "@jupyter-widgets/controls",
      "model_module_version": "2.0.0",
      "model_name": "DescriptionStyleModel",
      "state": {
       "description_width": ""
      }
     },
     "fb4ae1c5e239457e919f49fa46b73754": {
      "model_module": "@jupyter-widgets/controls",
      "model_module_version": "2.0.0",
      "model_name": "VBoxModel",
      "state": {
       "_dom_classes": [
        "widget-interact"
       ],
       "children": [
        "IPY_MODEL_f9f3bc32b56745c0aabcc7eccc7be288",
        "IPY_MODEL_c5dce24f14cd4046a11305c35aa14138",
        "IPY_MODEL_98aa4f8e55a94266b396e838e19dcc19"
       ],
       "layout": "IPY_MODEL_cc166d634b8c4bcb8f3a2c294c8af45e"
      }
     },
     "fb675eafddf24e11bb2a8d7293c1b456": {
      "model_module": "@jupyter-widgets/controls",
      "model_module_version": "2.0.0",
      "model_name": "DropdownModel",
      "state": {
       "_options_labels": [
        "no_image",
        "image1",
        "image2",
        "image3",
        "blobs",
        "binary",
        "labels",
        "dilated_labels"
       ],
       "description": "label_image",
       "index": 0,
       "layout": "IPY_MODEL_5d0859ec75cc4905b4e9724fac6c2877",
       "style": "IPY_MODEL_4c6f42bfe135409fa8a838fb89f77c33"
      }
     },
     "fb7c2e3381c24305a658d3517c2160e4": {
      "model_module": "@jupyter-widgets/base",
      "model_module_version": "2.0.0",
      "model_name": "LayoutModel",
      "state": {}
     },
     "fb83b2b0008b40e2ab9b6036415b3044": {
      "model_module": "@jupyter-widgets/controls",
      "model_module_version": "2.0.0",
      "model_name": "LabelModel",
      "state": {
       "layout": "IPY_MODEL_6ef2bedd55534313b54071d6a1e9566e",
       "style": "IPY_MODEL_f42a163eb83e4895950c90bcc453b8b7",
       "value": "nsitk.bilateral_filter( image=no_image, radius=1.0)"
      }
     },
     "fbc67922a3c641ec83106f10cc203af6": {
      "model_module": "@jupyter-widgets/controls",
      "model_module_version": "2.0.0",
      "model_name": "VBoxModel",
      "state": {
       "_dom_classes": [
        "widget-interact"
       ],
       "children": [
        "IPY_MODEL_b1e60a425db642d1b555bc0312c24772",
        "IPY_MODEL_e130e2b1877b4411aa36fb41e5f8506f"
       ],
       "layout": "IPY_MODEL_2bd00a79332d445a98567f7c62168726"
      }
     },
     "fbca67a9da55429297b684eb4655666d": {
      "model_module": "@jupyter-widgets/controls",
      "model_module_version": "2.0.0",
      "model_name": "DropdownModel",
      "state": {
       "_options_labels": [
        "no_image",
        "image1",
        "image2",
        "image3",
        "blobs",
        "binary",
        "labels",
        "dilated_labels"
       ],
       "description": "label_image",
       "index": 0,
       "layout": "IPY_MODEL_187b60846c6c44cba4d093758c772232",
       "style": "IPY_MODEL_f1166436929744c1acf7e09822cdf6cd"
      }
     },
     "fbf6acdc59f246e48fe190ec5be199fa": {
      "model_module": "@jupyter-widgets/base",
      "model_module_version": "2.0.0",
      "model_name": "LayoutModel",
      "state": {}
     },
     "fbff2b92cf2843d4a85f7b84408b7bb7": {
      "model_module": "@jupyter-widgets/controls",
      "model_module_version": "2.0.0",
      "model_name": "DescriptionStyleModel",
      "state": {
       "description_width": ""
      }
     },
     "fc23cf0ef61d47e18177500fa850771e": {
      "model_module": "@jupyter-widgets/base",
      "model_module_version": "2.0.0",
      "model_name": "LayoutModel",
      "state": {}
     },
     "fc29e1a850104ad69053f463632ebcdd": {
      "model_module": "@jupyter-widgets/controls",
      "model_module_version": "2.0.0",
      "model_name": "LabelModel",
      "state": {
       "layout": "IPY_MODEL_c905cd91f33d4ab593a6abbbcf9bbe64",
       "style": "IPY_MODEL_c7267a5af4b143c98b46efb8a04a1ba4",
       "value": "nsitk.gradient_magnitude( image=no_image)"
      }
     },
     "fc7fdbf8e94e448fa08285f87c4b7d95": {
      "model_module": "@jupyter-widgets/base",
      "model_module_version": "2.0.0",
      "model_name": "LayoutModel",
      "state": {}
     },
     "fc91c8e3e1db417694f008ef0e60f4a3": {
      "model_module": "@jupyter-widgets/controls",
      "model_module_version": "2.0.0",
      "model_name": "LabelStyleModel",
      "state": {
       "description_width": "",
       "font_family": "Courier",
       "font_size": null,
       "font_style": null,
       "font_variant": null,
       "font_weight": null,
       "text_color": null,
       "text_decoration": null
      }
     },
     "fcb068d48103492c910ca6cec16d2d4f": {
      "model_module": "@jupyter-widgets/output",
      "model_module_version": "1.0.0",
      "model_name": "OutputModel",
      "state": {
       "layout": "IPY_MODEL_e4c600e5c00c40a8a2bb4a9591ae0d1f"
      }
     },
     "fcbee5954d1d4c8f900dfba75faacc00": {
      "model_module": "@jupyter-widgets/controls",
      "model_module_version": "2.0.0",
      "model_name": "LabelStyleModel",
      "state": {
       "description_width": "",
       "font_family": "Courier",
       "font_size": null,
       "font_style": null,
       "font_variant": null,
       "font_weight": null,
       "text_color": null,
       "text_decoration": null
      }
     },
     "fce62fc6323141e2b5de8e8a4e0c058b": {
      "model_module": "@jupyter-widgets/controls",
      "model_module_version": "2.0.0",
      "model_name": "LabelStyleModel",
      "state": {
       "description_width": "",
       "font_family": "Courier",
       "font_size": null,
       "font_style": null,
       "font_variant": null,
       "font_weight": null,
       "text_color": null,
       "text_decoration": null
      }
     },
     "fcf90fd1382e42a2b94a549500e05413": {
      "model_module": "@jupyter-widgets/controls",
      "model_module_version": "2.0.0",
      "model_name": "IntSliderModel",
      "state": {
       "behavior": "drag-tap",
       "description": "radius",
       "layout": "IPY_MODEL_adcdee130d404163a0fc384a64b9e231",
       "style": "IPY_MODEL_ed6069ea73e54ce5a7d31b9ef5f4f3c2",
       "value": 1
      }
     },
     "fd460573e1384c88a28c54cc63b58b95": {
      "model_module": "@jupyter-widgets/base",
      "model_module_version": "2.0.0",
      "model_name": "LayoutModel",
      "state": {}
     },
     "fd5da69ebac5477cb1bf9a604074f381": {
      "model_module": "@jupyter-widgets/base",
      "model_module_version": "2.0.0",
      "model_name": "LayoutModel",
      "state": {}
     },
     "fd724c30d412422c9e955cb70a557ba2": {
      "model_module": "@jupyter-widgets/controls",
      "model_module_version": "2.0.0",
      "model_name": "VBoxModel",
      "state": {
       "children": [
        "IPY_MODEL_eac44c3f22a24a4ab1cabb94948247fb",
        "IPY_MODEL_dbf0bfcb356741adaa7b3cd793992432"
       ],
       "layout": "IPY_MODEL_93f0e43dd1ad438c906ecff65abdd5d4"
      }
     },
     "fdc321f92a4c4ebda28212281d0040f1": {
      "model_module": "@jupyter-widgets/base",
      "model_module_version": "2.0.0",
      "model_name": "LayoutModel",
      "state": {}
     },
     "fdd0e2e5ed6948b4b353850dc3ca8351": {
      "model_module": "@jupyter-widgets/controls",
      "model_module_version": "2.0.0",
      "model_name": "VBoxModel",
      "state": {
       "_dom_classes": [
        "widget-interact"
       ],
       "children": [
        "IPY_MODEL_88db982ff4d140189d8f7571e77f5f94",
        "IPY_MODEL_68731bf392aa47f184ab9673182f671f",
        "IPY_MODEL_75f12de60b7b4fb5ba356310c041af85"
       ],
       "layout": "IPY_MODEL_01ae3e50179a49ccb5476116996352fc"
      }
     },
     "fdd90211640a4a6f8e31330fec283816": {
      "model_module": "@jupyter-widgets/base",
      "model_module_version": "2.0.0",
      "model_name": "LayoutModel",
      "state": {
       "display": "none"
      }
     },
     "fdda8ac9c4044003803fd54f6353c922": {
      "model_module": "@jupyter-widgets/base",
      "model_module_version": "2.0.0",
      "model_name": "LayoutModel",
      "state": {
       "display": "none"
      }
     },
     "fe202187b37a4eeeb5c6a0bece776674": {
      "model_module": "@jupyter-widgets/controls",
      "model_module_version": "2.0.0",
      "model_name": "VBoxModel",
      "state": {
       "children": [
        "IPY_MODEL_c8c9defd7fcb4621acc88ad829407eb5",
        "IPY_MODEL_b9ee2e6a31ec4b3599d84e91e19c928b"
       ],
       "layout": "IPY_MODEL_3d956963a4f6488cb90c308384e561ed"
      }
     },
     "fe43b71f91ff4a03b19615943136868a": {
      "model_module": "@jupyter-widgets/base",
      "model_module_version": "2.0.0",
      "model_name": "LayoutModel",
      "state": {}
     },
     "fe43d890f0e3422497e333e5f3c10031": {
      "model_module": "@jupyter-widgets/controls",
      "model_module_version": "2.0.0",
      "model_name": "DescriptionStyleModel",
      "state": {
       "description_width": ""
      }
     },
     "fe68102dee854d07b45e41c9dccb2ff2": {
      "model_module": "@jupyter-widgets/base",
      "model_module_version": "2.0.0",
      "model_name": "LayoutModel",
      "state": {}
     },
     "fe6b2bc6cdc549c89365edf0c9eb6b81": {
      "model_module": "@jupyter-widgets/controls",
      "model_module_version": "2.0.0",
      "model_name": "DescriptionStyleModel",
      "state": {
       "description_width": ""
      }
     },
     "fe6f4e73201440d3b04cbac541a5f1a6": {
      "model_module": "@jupyter-widgets/base",
      "model_module_version": "2.0.0",
      "model_name": "LayoutModel",
      "state": {}
     },
     "fe81c0ad26bc4fb7bcddd57508028b1d": {
      "model_module": "@jupyter-widgets/controls",
      "model_module_version": "2.0.0",
      "model_name": "VBoxModel",
      "state": {
       "_dom_classes": [
        "widget-interact"
       ],
       "children": [
        "IPY_MODEL_379893c122324fa69e005235f953c911",
        "IPY_MODEL_93c3285075c84b9fb937d8d546e57cd2",
        "IPY_MODEL_1032e14dea94466ea7593073bc0d1655",
        "IPY_MODEL_a16a932c1c164faeb963330b9cefb263",
        "IPY_MODEL_be2de3c94eb14d6d999e2ea3a4d77793"
       ],
       "layout": "IPY_MODEL_68b89984551647738490fbce1c058c72"
      }
     },
     "fe885c3fe5b44fb8ae60a30507670731": {
      "model_module": "@jupyter-widgets/controls",
      "model_module_version": "2.0.0",
      "model_name": "VBoxModel",
      "state": {
       "_dom_classes": [
        "widget-interact"
       ],
       "children": [
        "IPY_MODEL_c981fdbd35e54134814540d41c35f7b4",
        "IPY_MODEL_a91a148bd7114ab9912b4c2390f15de7"
       ],
       "layout": "IPY_MODEL_243186b4713b43789144895749114334"
      }
     },
     "fe937d484a304e3dabf2ed9d58ab1e36": {
      "model_module": "@jupyter-widgets/controls",
      "model_module_version": "2.0.0",
      "model_name": "IntSliderModel",
      "state": {
       "behavior": "drag-tap",
       "description": "radius",
       "layout": "IPY_MODEL_00948d7bdd21409f8401daabab810f6a",
       "style": "IPY_MODEL_dde0d408ae914c168f4770e7d2467c6f"
      }
     },
     "fea23d9af8b84495ba2eb70145d47fc4": {
      "model_module": "@jupyter-widgets/controls",
      "model_module_version": "2.0.0",
      "model_name": "LabelStyleModel",
      "state": {
       "description_width": "",
       "font_family": "Courier",
       "font_size": null,
       "font_style": null,
       "font_variant": null,
       "font_weight": null,
       "text_color": null,
       "text_decoration": null
      }
     },
     "fed3a27572bd450c95a69ca307ef5236": {
      "model_module": "@jupyter-widgets/base",
      "model_module_version": "2.0.0",
      "model_name": "LayoutModel",
      "state": {}
     },
     "fef77b1a23d742d59239455112405385": {
      "model_module": "@jupyter-widgets/output",
      "model_module_version": "1.0.0",
      "model_name": "OutputModel",
      "state": {
       "layout": "IPY_MODEL_49828656ef394795bdefee258ad36543"
      }
     },
     "fef7efe0467c44b9ab20bbd7a3a499bd": {
      "model_module": "@jupyter-widgets/controls",
      "model_module_version": "2.0.0",
      "model_name": "VBoxModel",
      "state": {
       "_dom_classes": [
        "widget-interact"
       ],
       "children": [
        "IPY_MODEL_b200b465eedd48bfa944080836b01ef6",
        "IPY_MODEL_15d57e43a4004d6c8869127a4f392659"
       ],
       "layout": "IPY_MODEL_f1900e88ac264ab49e22b1927faa2f0b"
      }
     },
     "ff40ff5779e1409e8905409b4d15d73c": {
      "model_module": "@jupyter-widgets/base",
      "model_module_version": "2.0.0",
      "model_name": "LayoutModel",
      "state": {}
     },
     "ff6d965e1618488b8f1b973a2104464b": {
      "model_module": "@jupyter-widgets/controls",
      "model_module_version": "2.0.0",
      "model_name": "SliderStyleModel",
      "state": {
       "description_width": ""
      }
     },
     "ff9ae8a8ab37493b954004c2ded035ce": {
      "model_module": "@jupyter-widgets/controls",
      "model_module_version": "2.0.0",
      "model_name": "VBoxModel",
      "state": {
       "children": [
        "IPY_MODEL_8c60b6c6ccd646d5a03ab2469adc01e5",
        "IPY_MODEL_c01b1907d53941fbaa0aab95d45c648f"
       ],
       "layout": "IPY_MODEL_6c739f9d06164a36b6c0c7cacaebb0db"
      }
     },
     "ffaac7bec1244f3ca5af90808884849a": {
      "model_module": "@jupyter-widgets/controls",
      "model_module_version": "2.0.0",
      "model_name": "VBoxModel",
      "state": {
       "children": [
        "IPY_MODEL_bdca9d557e7946fa914851fab8e292de",
        "IPY_MODEL_da9b74569f534b21897963bffca30440"
       ],
       "layout": "IPY_MODEL_087da2692c46483f8d84e5e9b9111b90"
      }
     },
     "ffafb126e82744268f04d5563c6235ca": {
      "model_module": "@jupyter-widgets/base",
      "model_module_version": "2.0.0",
      "model_name": "LayoutModel",
      "state": {}
     },
     "ffe4f9f36fd54a5dae03e95228d5c538": {
      "model_module": "@jupyter-widgets/base",
      "model_module_version": "2.0.0",
      "model_name": "LayoutModel",
      "state": {}
     }
    },
    "version_major": 2,
    "version_minor": 0
   }
  }
 },
 "nbformat": 4,
 "nbformat_minor": 5
}
