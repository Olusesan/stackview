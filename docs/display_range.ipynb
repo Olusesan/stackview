{
 "cells": [
  {
   "cell_type": "code",
   "execution_count": 1,
   "id": "43b810f7-4dfa-4615-b657-015926ad5934",
   "metadata": {
    "tags": []
   },
   "outputs": [],
   "source": [
    "from skimage.io import imread\n",
    "import stackview"
   ]
  },
  {
   "cell_type": "code",
   "execution_count": 2,
   "id": "a558f484-b6a9-4247-8885-b6c4756c8932",
   "metadata": {
    "tags": []
   },
   "outputs": [],
   "source": [
    "image = imread('data/blobs.tif')"
   ]
  },
  {
   "cell_type": "code",
   "execution_count": 3,
   "id": "f7d26a50-b18b-4081-88fe-65b850f13740",
   "metadata": {
    "tags": []
   },
   "outputs": [
    {
     "data": {
      "application/vnd.jupyter.widget-view+json": {
       "model_id": "56097be037ca423c8a6b5ce9882ec7be",
       "version_major": 2,
       "version_minor": 0
      },
      "text/plain": [
       "VBox(children=(HBox(children=(VBox(children=(ImageWidget(height=254, width=256),)),)), IntSlider(value=127, de…"
      ]
     },
     "execution_count": 3,
     "metadata": {},
     "output_type": "execute_result"
    }
   ],
   "source": [
    "stackview.display_range(image)"
   ]
  },
  {
   "cell_type": "code",
   "execution_count": null,
   "id": "e86482f3-44f9-4dbc-8209-8fcb5eac0211",
   "metadata": {},
   "outputs": [],
   "source": []
  }
 ],
 "metadata": {
  "kernelspec": {
   "display_name": "Python 3 (ipykernel)",
   "language": "python",
   "name": "python3"
  },
  "language_info": {
   "codemirror_mode": {
    "name": "ipython",
    "version": 3
   },
   "file_extension": ".py",
   "mimetype": "text/x-python",
   "name": "python",
   "nbconvert_exporter": "python",
   "pygments_lexer": "ipython3",
   "version": "3.9.19"
  }
 },
 "nbformat": 4,
 "nbformat_minor": 5
}
