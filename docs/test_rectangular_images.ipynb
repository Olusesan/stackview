{
 "cells": [
  {
   "cell_type": "markdown",
   "id": "ac2511d6-7689-4480-b482-36dc719ec489",
   "metadata": {},
   "source": [
    "This notebook serves testing if rectangular images are shown properly"
   ]
  },
  {
   "cell_type": "code",
   "execution_count": 1,
   "id": "12452471-61c6-4d32-828b-e3dc90622fe6",
   "metadata": {},
   "outputs": [],
   "source": [
    "import stackview\n",
    "from skimage.io import imread, imshow\n",
    "from skimage.filters import gaussian, threshold_otsu, sobel\n",
    "from skimage.measure import label"
   ]
  },
  {
   "cell_type": "code",
   "execution_count": 2,
   "id": "dd7bcdad-a20b-4fe2-94c0-b588e644b2f9",
   "metadata": {},
   "outputs": [],
   "source": [
    "image = imread('data/Haase_MRT_tfl3d1.tif')[:,80:120,:80]"
   ]
  },
  {
   "cell_type": "code",
   "execution_count": 3,
   "id": "edc6b6be-9381-4f84-827a-7a7844740f2a",
   "metadata": {},
   "outputs": [
    {
     "data": {
      "text/html": [
       "<table>\n",
       "<tr>\n",
       "<td>\n",
       "<img src=\"data:image/png;base64,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\"></img>\n",
       "</td>\n",
       "<td style=\"text-align: center; vertical-align: top;\">\n",
       "\n",
       "<table>\n",
       "<tr><td>shape</td><td>(120,&nbsp;40,&nbsp;80)</td></tr>\n",
       "<tr><td>dtype</td><td>uint16</td></tr>\n",
       "<tr><td>size</td><td>750.0 kB</td></tr>\n",
       "<tr><td>min</td><td>0</td></tr><tr><td>max</td><td>65535</td></tr>\n",
       "</table>\n",
       "<img src=\"data:image/png;base64,iVBORw0KGgoAAAANSUhEUgAAALQAAAB4CAYAAABb59j9AAAAOXRFWHRTb2Z0d2FyZQBNYXRwbG90bGliIHZlcnNpb24zLjYuMiwgaHR0cHM6Ly9tYXRwbG90bGliLm9yZy8o6BhiAAAACXBIWXMAAA9hAAAPYQGoP6dpAAAClklEQVR4nO3cQWrbQBiG4V8mW/kAxoIcoPfoIhfKrnSXC2XRe/QAAQcdQIZCN1YXJaakoUljD4o/nmelsWE0iNdjGRt38zzPBSFWSy8AzknQRBE0UQRNFEETRdBEETRRBE0UQRNF0EQRNFEETZSrVhMfDocax7H6vq+u61qdhgDzPNd+v6/NZlOr1Wl7bLOgx3GsYRhaTU+g3W5X2+32pDmaBd33fVX9XuR6vW51GgJM01TDMBybOUWzoJ9uM9brtaB5k3PcmvpQSBRBE6XZLce/XN/eH48f7m6WWAKh7NBEETRRBE0UQRNF0EQRNFEETRRBE0XQRBE0UQRNFEETRdBEETRRBE0UQRNF0EQRNFEETRRBE0XQRBE0UQRNFEETRdBEETRRBE0UQRNF0EQRNFEETRRBE0XQRBE0UQRNFEETRdBEETRRBE0UQRNF0EQRNFEETRRBE0XQRBE0UQRNlKulF1BVdX17fzx+uLtZcCVcOjs0UQRNFEETRdBEETRRBE0UQRNF0EQRNFEETRRBE0XQRBE0UQRNFEETRdBEETRRBE0UQRNF0EQRNFEETRRBE0XQRBE0UQRNFEETRdBEETRRPsS/jz7n30h5Lzs0UT7kDn3pvMMsR9Bn8FrAz58XfDsXEfTSAQjy/f68VlXtr9dFBP3ca4Gde9yaF8j5XGTQ6QT+foK+AAJ/O0FfoKVvkT6yZkHP81xVVdM0/fXc4eeP4/E0TcZnHn/68u04/v71c9Px/3qph6fHnpo5RTefY5YXPD4+1jAMLaYm1G63q+12e9IczYI+HA41jmP1fV9d17U4BSHmea79fl+bzaZWq9O+vG4WNCzBbzmIImiiCJoogiaKoIkiaKIImiiCJoqgiSJoovwCh44hWpdGAroAAAAASUVORK5CYII=\"></img>\n",
       "</td>\n",
       "</tr>\n",
       "</table>"
      ],
      "text/plain": [
       "StackViewNDArray([[[   0, 1297,  458, ..., 1450, 1297, 1907],\n",
       "                   [   0,  839,  534, ..., 1679, 1068,  763],\n",
       "                   [   0, 2060, 2060, ...,  534, 1068, 1450],\n",
       "                   ...,\n",
       "                   [   0,    0,  992, ...,  763, 2060, 1907],\n",
       "                   [   0,    0, 1297, ...,  610, 2670, 1755],\n",
       "                   [   0,    0, 1068, ...,  381, 1831,  534]],\n",
       "\n",
       "                  [[   0,  916,  763, ..., 2976, 1068, 1221],\n",
       "                   [   0, 1221,  992, ..., 2747, 2976, 1831],\n",
       "                   [   0,  916,  992, ..., 1373, 1526, 1221],\n",
       "                   ...,\n",
       "                   [   0,    0, 2060, ...,  458, 1373, 1221],\n",
       "                   [   0,    0, 1907, ..., 1297,  916, 1907],\n",
       "                   [   0,    0, 1755, ..., 1907,  610, 1450]],\n",
       "\n",
       "                  [[   0,  763,  916, ..., 2289, 1297, 2899],\n",
       "                   [   0, 1679,  992, ...,  992,  610, 3281],\n",
       "                   [   0,  305, 1602, ..., 1450,  992, 2289],\n",
       "                   ...,\n",
       "                   [   0,    0,  305, ..., 2060, 1984, 1144],\n",
       "                   [   0,    0,  916, ..., 1602, 1068,  839],\n",
       "                   [   0,    0, 1221, ..., 1450, 1755, 2136]],\n",
       "\n",
       "                  ...,\n",
       "\n",
       "                  [[   0,  763, 1373, ..., 3433, 3204, 1526],\n",
       "                   [   0,  763,  992, ...,  763,  916, 1144],\n",
       "                   [   0,  992,  534, ..., 1602, 1450, 1831],\n",
       "                   ...,\n",
       "                   [   0,    0, 1221, ..., 4044, 1755, 3662],\n",
       "                   [   0,    0,  305, ..., 1373, 3510, 2213],\n",
       "                   [   0,    0,  992, ..., 2670, 2594,  839]],\n",
       "\n",
       "                  [[   0,  458,  763, ..., 1679, 2594, 2899],\n",
       "                   [   0,  458, 1068, ..., 2823, 2670, 1297],\n",
       "                   [   0,  763, 1602, ..., 1755, 2747, 1602],\n",
       "                   ...,\n",
       "                   [   0,    0,  992, ..., 2823, 1221, 1679],\n",
       "                   [   0,    0,  839, ..., 2136, 2136, 1907],\n",
       "                   [   0,    0,  839, ..., 3738, 1907, 2670]],\n",
       "\n",
       "                  [[   0,  458, 1297, ..., 2518, 3586, 1984],\n",
       "                   [   0,  381, 1068, ..., 2136, 3281, 2747],\n",
       "                   [   0,  534, 1068, ..., 1450, 5112, 2136],\n",
       "                   ...,\n",
       "                   [   0,    0, 1602, ..., 1068, 5188, 1144],\n",
       "                   [   0,    0, 1602, ..., 1450, 2518, 1450],\n",
       "                   [   0,    0,  839, ...,  381, 3128, 1831]]],\n",
       "                 dtype=uint16)"
      ]
     },
     "execution_count": 3,
     "metadata": {},
     "output_type": "execute_result"
    }
   ],
   "source": [
    "stackview.insight(image)"
   ]
  },
  {
   "cell_type": "markdown",
   "id": "0a14f513-7bfc-40e9-b472-5ba295aa5ffd",
   "metadata": {},
   "source": [
    "When working with small images, the view may be suboptimal."
   ]
  },
  {
   "cell_type": "code",
   "execution_count": 4,
   "id": "c29e6e0e-d293-4e41-a2eb-d51967187048",
   "metadata": {},
   "outputs": [
    {
     "data": {
      "text/plain": [
       "(120, 40, 80)"
      ]
     },
     "execution_count": 4,
     "metadata": {},
     "output_type": "execute_result"
    }
   ],
   "source": [
    "image.shape"
   ]
  },
  {
   "cell_type": "code",
   "execution_count": 5,
   "id": "fea9d5f5-634a-485e-96e4-a3a21731fbda",
   "metadata": {},
   "outputs": [
    {
     "data": {
      "application/vnd.jupyter.widget-view+json": {
       "model_id": "b6de616890ea44e99e81b8ac08575346",
       "version_major": 2,
       "version_minor": 0
      },
      "text/plain": [
       "VBox(children=(HBox(children=(VBox(children=(ImageWidget(height=40, width=80),)),)), IntSlider(value=60, conti…"
      ]
     },
     "execution_count": 5,
     "metadata": {},
     "output_type": "execute_result"
    }
   ],
   "source": [
    "stackview.slice(image)"
   ]
  },
  {
   "cell_type": "code",
   "execution_count": 6,
   "id": "31531f57-4f87-4eea-83cd-f38b8b1404f2",
   "metadata": {},
   "outputs": [
    {
     "data": {
      "application/vnd.jupyter.widget-view+json": {
       "model_id": "50d42f0193724ff18669e9620da66a8f",
       "version_major": 2,
       "version_minor": 0
      },
      "text/plain": [
       "VBox(children=(HBox(children=(VBox(children=(ImageWidget(height=40, width=80),)),)), IntSlider(value=60, conti…"
      ]
     },
     "execution_count": 6,
     "metadata": {},
     "output_type": "execute_result"
    }
   ],
   "source": [
    "s = stackview.slice(image)\n",
    "s.data = image\n",
    "s"
   ]
  },
  {
   "cell_type": "code",
   "execution_count": 7,
   "id": "19d1106f-02a5-43e2-b011-e810284cca61",
   "metadata": {},
   "outputs": [
    {
     "data": {
      "application/vnd.jupyter.widget-view+json": {
       "model_id": "70811daa41e4414bae7e62609b5015b1",
       "version_major": 2,
       "version_minor": 0
      },
      "text/plain": [
       "VBox(children=(HBox(children=(VBox(children=(ImageWidget(height=40, width=80),)),)), IntSlider(value=20, conti…"
      ]
     },
     "execution_count": 7,
     "metadata": {},
     "output_type": "execute_result"
    }
   ],
   "source": [
    "stackview.slice(image[60])"
   ]
  },
  {
   "cell_type": "code",
   "execution_count": 8,
   "id": "5c8272f9-cec6-4ebb-9570-0d659e4af652",
   "metadata": {},
   "outputs": [
    {
     "data": {
      "application/vnd.jupyter.widget-view+json": {
       "model_id": "6ee730919c1947fcb78e623890cbb0c2",
       "version_major": 2,
       "version_minor": 0
      },
      "text/plain": [
       "VBox(children=(HBox(children=(VBox(children=(ImageWidget(height=40, width=80),)),)), IntSlider(value=20, conti…"
      ]
     },
     "execution_count": 8,
     "metadata": {},
     "output_type": "execute_result"
    }
   ],
   "source": [
    "stackview.curtain(image[60], gaussian(image[60], sigma=5))"
   ]
  },
  {
   "cell_type": "code",
   "execution_count": 9,
   "id": "ddb9708b-c224-475c-b3de-63674256d435",
   "metadata": {},
   "outputs": [
    {
     "data": {
      "application/vnd.jupyter.widget-view+json": {
       "model_id": "33da0d77e7bc4ed1bf6c0da733a20a6c",
       "version_major": 2,
       "version_minor": 0
      },
      "text/plain": [
       "VBox(children=(HBox(children=(VBox(children=(ImageWidget(height=40, width=80),)),)), IntSlider(value=60, conti…"
      ]
     },
     "execution_count": 9,
     "metadata": {},
     "output_type": "execute_result"
    }
   ],
   "source": [
    "stackview.curtain(image, gaussian(image, sigma=5))"
   ]
  },
  {
   "cell_type": "code",
   "execution_count": 10,
   "id": "d9c5cb56-407f-4d81-9dd4-38b11501cb1b",
   "metadata": {},
   "outputs": [],
   "source": [
    "slice_image = imread('data/blobs.tif')\n",
    "\n",
    "from skimage.filters import threshold_otsu\n",
    "binary = (slice_image > threshold_otsu(slice_image))"
   ]
  },
  {
   "cell_type": "code",
   "execution_count": 11,
   "id": "2b9e6d1f-3bd6-47b5-8aaa-3ad2ede5e6cd",
   "metadata": {},
   "outputs": [
    {
     "data": {
      "application/vnd.jupyter.widget-view+json": {
       "model_id": "14e2152d4de747c8830d48d8b4816751",
       "version_major": 2,
       "version_minor": 0
      },
      "text/plain": [
       "VBox(children=(HBox(children=(VBox(children=(ImageWidget(height=254, width=256),)),)), IntSlider(value=127, de…"
      ]
     },
     "execution_count": 11,
     "metadata": {},
     "output_type": "execute_result"
    }
   ],
   "source": [
    "stackview.curtain(slice_image, binary, continuous_update=True)"
   ]
  },
  {
   "cell_type": "code",
   "execution_count": null,
   "id": "263bff29-848a-4334-9058-a999c16c2c7e",
   "metadata": {},
   "outputs": [],
   "source": []
  }
 ],
 "metadata": {
  "kernelspec": {
   "display_name": "Python 3 (ipykernel)",
   "language": "python",
   "name": "python3"
  },
  "language_info": {
   "codemirror_mode": {
    "name": "ipython",
    "version": 3
   },
   "file_extension": ".py",
   "mimetype": "text/x-python",
   "name": "python",
   "nbconvert_exporter": "python",
   "pygments_lexer": "ipython3",
   "version": "3.9.15"
  },
  "widgets": {
   "application/vnd.jupyter.widget-state+json": {
    "state": {
     "04e073d09dc44bd291dcfc912e25366e": {
      "model_module": "@jupyter-widgets/base",
      "model_module_version": "2.0.0",
      "model_name": "LayoutModel",
      "state": {}
     },
     "0886f729a9194dea8e0dc78c3334bf25": {
      "model_module": "@jupyter-widgets/base",
      "model_module_version": "2.0.0",
      "model_name": "LayoutModel",
      "state": {}
     },
     "09a643338fc3443581fe3a489f5dad37": {
      "model_module": "@jupyter-widgets/controls",
      "model_module_version": "2.0.0",
      "model_name": "IntSliderModel",
      "state": {
       "behavior": "drag-tap",
       "continuous_update": false,
       "description": "Slice",
       "layout": "IPY_MODEL_9de71ef0f4e34e1b838339706bc5af36",
       "max": 39,
       "style": "IPY_MODEL_6ba7e75c27404ed8a7338d6941622d75",
       "value": 20
      }
     },
     "128392861dd74cbbaffa3a186dc0ad3e": {
      "model_module": "@jupyter-widgets/controls",
      "model_module_version": "2.0.0",
      "model_name": "IntSliderModel",
      "state": {
       "behavior": "drag-tap",
       "continuous_update": false,
       "description": "Curtain",
       "layout": "IPY_MODEL_ebfe09f2565346fa902afc7acfe365fe",
       "max": 80,
       "style": "IPY_MODEL_942a4f3e619841aaad44404169975503",
       "value": 39
      }
     },
     "14e2152d4de747c8830d48d8b4816751": {
      "model_module": "@jupyter-widgets/controls",
      "model_module_version": "2.0.0",
      "model_name": "VBoxModel",
      "state": {
       "children": [
        "IPY_MODEL_a55ef66086da41ee97636f3d40c47b62",
        "IPY_MODEL_73a6cca8088f4097ba46a59b29d18211",
        "IPY_MODEL_1e6722645c154ee1961b72441f2b91d7"
       ],
       "layout": "IPY_MODEL_f758c99add7b4968989c7e769a900293"
      }
     },
     "17ab983e74424122b6817c10ea42c79d": {
      "model_module": "@jupyter-widgets/controls",
      "model_module_version": "2.0.0",
      "model_name": "HBoxModel",
      "state": {
       "children": [
        "IPY_MODEL_3bae1123d64c44ec9318c9bb260ef6dc"
       ],
       "layout": "IPY_MODEL_d75c608402fa479cbf6853ba9aef340a"
      }
     },
     "1e6722645c154ee1961b72441f2b91d7": {
      "model_module": "@jupyter-widgets/controls",
      "model_module_version": "2.0.0",
      "model_name": "IntSliderModel",
      "state": {
       "behavior": "drag-tap",
       "description": "Curtain",
       "layout": "IPY_MODEL_32527dd8e63a463eadae40287bab32ed",
       "max": 256,
       "style": "IPY_MODEL_3ad97cfef1ca4abab3512314b99171b6",
       "value": 128
      }
     },
     "1f74e873be504f5e94c22d3e196b2f7f": {
      "model_module": "@jupyter-widgets/base",
      "model_module_version": "2.0.0",
      "model_name": "LayoutModel",
      "state": {}
     },
     "20879bce130c46dd87aca26600e7a2ee": {
      "model_module": "ipycanvas",
      "model_module_version": "^0.13",
      "model_name": "CanvasModel",
      "state": {
       "_canvas_manager": "IPY_MODEL_ad26e5ad73734f1db03fb334161f54de",
       "_model_module_version": "^0.13",
       "_view_module_version": "^0.13",
       "height": 40,
       "layout": "IPY_MODEL_bfd8cb90d64848b39affc9895647bb4d",
       "width": 80
      }
     },
     "3068b5da1aac45ad911e6aac0e339565": {
      "model_module": "@jupyter-widgets/controls",
      "model_module_version": "2.0.0",
      "model_name": "HBoxModel",
      "state": {
       "children": [
        "IPY_MODEL_df81b1bcd0d547ea878064dbe957c9d6"
       ],
       "layout": "IPY_MODEL_e3f50cc536ce47a18b8781e6c3c9a1ac"
      }
     },
     "32527dd8e63a463eadae40287bab32ed": {
      "model_module": "@jupyter-widgets/base",
      "model_module_version": "2.0.0",
      "model_name": "LayoutModel",
      "state": {}
     },
     "33da0d77e7bc4ed1bf6c0da733a20a6c": {
      "model_module": "@jupyter-widgets/controls",
      "model_module_version": "2.0.0",
      "model_name": "VBoxModel",
      "state": {
       "children": [
        "IPY_MODEL_17ab983e74424122b6817c10ea42c79d",
        "IPY_MODEL_6fd8f89fbb6d402fbc81d4745de8bc10",
        "IPY_MODEL_128392861dd74cbbaffa3a186dc0ad3e"
       ],
       "layout": "IPY_MODEL_c0477cc960c14bf7a1a8e1e505946da8"
      }
     },
     "37b2804c9d864f6ca7737ab0d8391b1a": {
      "model_module": "@jupyter-widgets/controls",
      "model_module_version": "2.0.0",
      "model_name": "VBoxModel",
      "state": {
       "children": [
        "IPY_MODEL_20879bce130c46dd87aca26600e7a2ee"
       ],
       "layout": "IPY_MODEL_9775493419df40e7a7def97323f8655d"
      }
     },
     "3ad97cfef1ca4abab3512314b99171b6": {
      "model_module": "@jupyter-widgets/controls",
      "model_module_version": "2.0.0",
      "model_name": "SliderStyleModel",
      "state": {
       "description_width": ""
      }
     },
     "3bae1123d64c44ec9318c9bb260ef6dc": {
      "model_module": "@jupyter-widgets/controls",
      "model_module_version": "2.0.0",
      "model_name": "VBoxModel",
      "state": {
       "children": [
        "IPY_MODEL_ba131571d26c4b8ea54090e8c6ea8379"
       ],
       "layout": "IPY_MODEL_91c8024be36f4f3faaa9b113d91ab9e9"
      }
     },
     "417cbfea9b91467591f2a176f954dc85": {
      "model_module": "@jupyter-widgets/base",
      "model_module_version": "2.0.0",
      "model_name": "LayoutModel",
      "state": {}
     },
     "43272c31c30d4556b74de1bb1d0eeb91": {
      "model_module": "@jupyter-widgets/base",
      "model_module_version": "2.0.0",
      "model_name": "LayoutModel",
      "state": {}
     },
     "4f9f073683644186b000da82ec229203": {
      "model_module": "@jupyter-widgets/controls",
      "model_module_version": "2.0.0",
      "model_name": "SliderStyleModel",
      "state": {
       "description_width": ""
      }
     },
     "50d42f0193724ff18669e9620da66a8f": {
      "model_module": "@jupyter-widgets/controls",
      "model_module_version": "2.0.0",
      "model_name": "VBoxModel",
      "state": {
       "children": [
        "IPY_MODEL_3068b5da1aac45ad911e6aac0e339565",
        "IPY_MODEL_60745db95a92484199e3ab4a93386177"
       ],
       "layout": "IPY_MODEL_b6184ffa204743ea9c31d0135b0f9912"
      }
     },
     "519106daf5924b1ca37aec27db7fadfd": {
      "model_module": "@jupyter-widgets/controls",
      "model_module_version": "2.0.0",
      "model_name": "HBoxModel",
      "state": {
       "children": [
        "IPY_MODEL_37b2804c9d864f6ca7737ab0d8391b1a"
       ],
       "layout": "IPY_MODEL_f8d57ee6374443acb6176130b859f8f4"
      }
     },
     "52af8cd440ef456cade5d86eebacdf50": {
      "model_module": "@jupyter-widgets/base",
      "model_module_version": "2.0.0",
      "model_name": "LayoutModel",
      "state": {}
     },
     "5af8899d8f524851a05bc117c1246e24": {
      "model_module": "@jupyter-widgets/controls",
      "model_module_version": "2.0.0",
      "model_name": "VBoxModel",
      "state": {
       "children": [
        "IPY_MODEL_65c850edae8643d4aaabef2aef35b2d7"
       ],
       "layout": "IPY_MODEL_04e073d09dc44bd291dcfc912e25366e"
      }
     },
     "60745db95a92484199e3ab4a93386177": {
      "model_module": "@jupyter-widgets/controls",
      "model_module_version": "2.0.0",
      "model_name": "IntSliderModel",
      "state": {
       "behavior": "drag-tap",
       "continuous_update": false,
       "description": "Slice",
       "layout": "IPY_MODEL_dbdf1e42ba2f4d8f8bebb949eba0f570",
       "max": 119,
       "style": "IPY_MODEL_9aee698f53d44ff8952cb76639b2246e",
       "value": 60
      }
     },
     "65c850edae8643d4aaabef2aef35b2d7": {
      "model_module": "ipycanvas",
      "model_module_version": "^0.13",
      "model_name": "CanvasModel",
      "state": {
       "_canvas_manager": "IPY_MODEL_ad26e5ad73734f1db03fb334161f54de",
       "_model_module_version": "^0.13",
       "_view_module_version": "^0.13",
       "height": 254,
       "layout": "IPY_MODEL_52af8cd440ef456cade5d86eebacdf50",
       "width": 256
      }
     },
     "6ba7e75c27404ed8a7338d6941622d75": {
      "model_module": "@jupyter-widgets/controls",
      "model_module_version": "2.0.0",
      "model_name": "SliderStyleModel",
      "state": {
       "description_width": ""
      }
     },
     "6ee730919c1947fcb78e623890cbb0c2": {
      "model_module": "@jupyter-widgets/controls",
      "model_module_version": "2.0.0",
      "model_name": "VBoxModel",
      "state": {
       "children": [
        "IPY_MODEL_cd91491ed44c45ffa77b251683b56cc4",
        "IPY_MODEL_09a643338fc3443581fe3a489f5dad37",
        "IPY_MODEL_f06347d24d1a44298543e35a608acabe"
       ],
       "layout": "IPY_MODEL_ed3863356f1649b79e18209855e3b3d6"
      }
     },
     "6fd8f89fbb6d402fbc81d4745de8bc10": {
      "model_module": "@jupyter-widgets/controls",
      "model_module_version": "2.0.0",
      "model_name": "IntSliderModel",
      "state": {
       "behavior": "drag-tap",
       "continuous_update": false,
       "description": "Slice",
       "layout": "IPY_MODEL_0886f729a9194dea8e0dc78c3334bf25",
       "max": 119,
       "style": "IPY_MODEL_8b640d6f667544af9fd5ee592bf33922",
       "value": 60
      }
     },
     "70811daa41e4414bae7e62609b5015b1": {
      "model_module": "@jupyter-widgets/controls",
      "model_module_version": "2.0.0",
      "model_name": "VBoxModel",
      "state": {
       "children": [
        "IPY_MODEL_519106daf5924b1ca37aec27db7fadfd",
        "IPY_MODEL_d4a0c87ce4fb4acfbba2b277617d6adf"
       ],
       "layout": "IPY_MODEL_eb903a2e789846c39b2e0ee540579a58"
      }
     },
     "73a6cca8088f4097ba46a59b29d18211": {
      "model_module": "@jupyter-widgets/controls",
      "model_module_version": "2.0.0",
      "model_name": "IntSliderModel",
      "state": {
       "behavior": "drag-tap",
       "description": "Slice",
       "layout": "IPY_MODEL_f92b2d475a954f479463ca223244316f",
       "max": 253,
       "style": "IPY_MODEL_4f9f073683644186b000da82ec229203",
       "value": 127
      }
     },
     "857fc99d4879401d9ff3490f99a06fc1": {
      "model_module": "@jupyter-widgets/base",
      "model_module_version": "2.0.0",
      "model_name": "LayoutModel",
      "state": {}
     },
     "8b640d6f667544af9fd5ee592bf33922": {
      "model_module": "@jupyter-widgets/controls",
      "model_module_version": "2.0.0",
      "model_name": "SliderStyleModel",
      "state": {
       "description_width": ""
      }
     },
     "8d9c574ee19c4b89bccaf65b4482a480": {
      "model_module": "@jupyter-widgets/base",
      "model_module_version": "2.0.0",
      "model_name": "LayoutModel",
      "state": {}
     },
     "90c2f1c399eb4598a5c3b94f95fb0635": {
      "model_module": "@jupyter-widgets/base",
      "model_module_version": "2.0.0",
      "model_name": "LayoutModel",
      "state": {}
     },
     "91c8024be36f4f3faaa9b113d91ab9e9": {
      "model_module": "@jupyter-widgets/base",
      "model_module_version": "2.0.0",
      "model_name": "LayoutModel",
      "state": {}
     },
     "91e409cc99314dbbab2f3228514acc74": {
      "model_module": "@jupyter-widgets/controls",
      "model_module_version": "2.0.0",
      "model_name": "VBoxModel",
      "state": {
       "children": [
        "IPY_MODEL_ad6591f8bd824ee188a56cf5eb64803f"
       ],
       "layout": "IPY_MODEL_90c2f1c399eb4598a5c3b94f95fb0635"
      }
     },
     "931b8bf4aeae4b2883874e7e37fd9e7b": {
      "model_module": "@jupyter-widgets/controls",
      "model_module_version": "2.0.0",
      "model_name": "SliderStyleModel",
      "state": {
       "description_width": ""
      }
     },
     "942a4f3e619841aaad44404169975503": {
      "model_module": "@jupyter-widgets/controls",
      "model_module_version": "2.0.0",
      "model_name": "SliderStyleModel",
      "state": {
       "description_width": ""
      }
     },
     "9775493419df40e7a7def97323f8655d": {
      "model_module": "@jupyter-widgets/base",
      "model_module_version": "2.0.0",
      "model_name": "LayoutModel",
      "state": {}
     },
     "9aee698f53d44ff8952cb76639b2246e": {
      "model_module": "@jupyter-widgets/controls",
      "model_module_version": "2.0.0",
      "model_name": "SliderStyleModel",
      "state": {
       "description_width": ""
      }
     },
     "9de71ef0f4e34e1b838339706bc5af36": {
      "model_module": "@jupyter-widgets/base",
      "model_module_version": "2.0.0",
      "model_name": "LayoutModel",
      "state": {
       "display": "none"
      }
     },
     "9fbe73c89d6e48ddaaf23588ce6a3250": {
      "model_module": "@jupyter-widgets/base",
      "model_module_version": "2.0.0",
      "model_name": "LayoutModel",
      "state": {}
     },
     "a3a4269db75c422e9a2d3edc9da30239": {
      "model_module": "@jupyter-widgets/base",
      "model_module_version": "2.0.0",
      "model_name": "LayoutModel",
      "state": {}
     },
     "a55ef66086da41ee97636f3d40c47b62": {
      "model_module": "@jupyter-widgets/controls",
      "model_module_version": "2.0.0",
      "model_name": "HBoxModel",
      "state": {
       "children": [
        "IPY_MODEL_5af8899d8f524851a05bc117c1246e24"
       ],
       "layout": "IPY_MODEL_1f74e873be504f5e94c22d3e196b2f7f"
      }
     },
     "a7684c56a13f4cb2885b529fde51b6d5": {
      "model_module": "@jupyter-widgets/controls",
      "model_module_version": "2.0.0",
      "model_name": "IntSliderModel",
      "state": {
       "behavior": "drag-tap",
       "continuous_update": false,
       "description": "Slice",
       "layout": "IPY_MODEL_d21f8c592608478e8684969a3014e6b1",
       "max": 119,
       "style": "IPY_MODEL_ad6d143f6c774cf798e9c8e2de1f12b4",
       "value": 60
      }
     },
     "ad26e5ad73734f1db03fb334161f54de": {
      "model_module": "ipycanvas",
      "model_module_version": "^0.13",
      "model_name": "CanvasManagerModel",
      "state": {
       "_model_module_version": "^0.13",
       "_view_module": null,
       "_view_module_version": ""
      }
     },
     "ad6591f8bd824ee188a56cf5eb64803f": {
      "model_module": "ipycanvas",
      "model_module_version": "^0.13",
      "model_name": "CanvasModel",
      "state": {
       "_canvas_manager": "IPY_MODEL_ad26e5ad73734f1db03fb334161f54de",
       "_model_module_version": "^0.13",
       "_view_module_version": "^0.13",
       "height": 40,
       "layout": "IPY_MODEL_a3a4269db75c422e9a2d3edc9da30239",
       "width": 80
      }
     },
     "ad6d143f6c774cf798e9c8e2de1f12b4": {
      "model_module": "@jupyter-widgets/controls",
      "model_module_version": "2.0.0",
      "model_name": "SliderStyleModel",
      "state": {
       "description_width": ""
      }
     },
     "b42383691a624f5fa52a786a011444b1": {
      "model_module": "@jupyter-widgets/controls",
      "model_module_version": "2.0.0",
      "model_name": "VBoxModel",
      "state": {
       "children": [
        "IPY_MODEL_caf5416b8abb4a71bea1ac44d6faeab9"
       ],
       "layout": "IPY_MODEL_417cbfea9b91467591f2a176f954dc85"
      }
     },
     "b6184ffa204743ea9c31d0135b0f9912": {
      "model_module": "@jupyter-widgets/base",
      "model_module_version": "2.0.0",
      "model_name": "LayoutModel",
      "state": {}
     },
     "b6c39518459c4e77a9bccbd25085322f": {
      "model_module": "@jupyter-widgets/base",
      "model_module_version": "2.0.0",
      "model_name": "LayoutModel",
      "state": {}
     },
     "b6de616890ea44e99e81b8ac08575346": {
      "model_module": "@jupyter-widgets/controls",
      "model_module_version": "2.0.0",
      "model_name": "VBoxModel",
      "state": {
       "children": [
        "IPY_MODEL_d05fec2a21d34d2497a9afcec7e3e175",
        "IPY_MODEL_a7684c56a13f4cb2885b529fde51b6d5"
       ],
       "layout": "IPY_MODEL_ce6eda4b4a284a9a87a5fb959c723d99"
      }
     },
     "ba131571d26c4b8ea54090e8c6ea8379": {
      "model_module": "ipycanvas",
      "model_module_version": "^0.13",
      "model_name": "CanvasModel",
      "state": {
       "_canvas_manager": "IPY_MODEL_ad26e5ad73734f1db03fb334161f54de",
       "_model_module_version": "^0.13",
       "_view_module_version": "^0.13",
       "height": 40,
       "layout": "IPY_MODEL_bc456b909cae4c24865a2b4942ec2aa4",
       "width": 80
      }
     },
     "bc2f79e2414948ba8866ed7cd2e741e1": {
      "model_module": "@jupyter-widgets/base",
      "model_module_version": "2.0.0",
      "model_name": "LayoutModel",
      "state": {
       "display": "none"
      }
     },
     "bc456b909cae4c24865a2b4942ec2aa4": {
      "model_module": "@jupyter-widgets/base",
      "model_module_version": "2.0.0",
      "model_name": "LayoutModel",
      "state": {}
     },
     "bfd8cb90d64848b39affc9895647bb4d": {
      "model_module": "@jupyter-widgets/base",
      "model_module_version": "2.0.0",
      "model_name": "LayoutModel",
      "state": {}
     },
     "c0477cc960c14bf7a1a8e1e505946da8": {
      "model_module": "@jupyter-widgets/base",
      "model_module_version": "2.0.0",
      "model_name": "LayoutModel",
      "state": {}
     },
     "c36a94acda04431d91a700580e9778c7": {
      "model_module": "@jupyter-widgets/base",
      "model_module_version": "2.0.0",
      "model_name": "LayoutModel",
      "state": {}
     },
     "caf5416b8abb4a71bea1ac44d6faeab9": {
      "model_module": "ipycanvas",
      "model_module_version": "^0.13",
      "model_name": "CanvasModel",
      "state": {
       "_canvas_manager": "IPY_MODEL_ad26e5ad73734f1db03fb334161f54de",
       "_model_module_version": "^0.13",
       "_view_module_version": "^0.13",
       "height": 40,
       "layout": "IPY_MODEL_857fc99d4879401d9ff3490f99a06fc1",
       "width": 80
      }
     },
     "cd91491ed44c45ffa77b251683b56cc4": {
      "model_module": "@jupyter-widgets/controls",
      "model_module_version": "2.0.0",
      "model_name": "HBoxModel",
      "state": {
       "children": [
        "IPY_MODEL_91e409cc99314dbbab2f3228514acc74"
       ],
       "layout": "IPY_MODEL_9fbe73c89d6e48ddaaf23588ce6a3250"
      }
     },
     "ce6eda4b4a284a9a87a5fb959c723d99": {
      "model_module": "@jupyter-widgets/base",
      "model_module_version": "2.0.0",
      "model_name": "LayoutModel",
      "state": {}
     },
     "d05fec2a21d34d2497a9afcec7e3e175": {
      "model_module": "@jupyter-widgets/controls",
      "model_module_version": "2.0.0",
      "model_name": "HBoxModel",
      "state": {
       "children": [
        "IPY_MODEL_b42383691a624f5fa52a786a011444b1"
       ],
       "layout": "IPY_MODEL_b6c39518459c4e77a9bccbd25085322f"
      }
     },
     "d21f8c592608478e8684969a3014e6b1": {
      "model_module": "@jupyter-widgets/base",
      "model_module_version": "2.0.0",
      "model_name": "LayoutModel",
      "state": {}
     },
     "d4a0c87ce4fb4acfbba2b277617d6adf": {
      "model_module": "@jupyter-widgets/controls",
      "model_module_version": "2.0.0",
      "model_name": "IntSliderModel",
      "state": {
       "behavior": "drag-tap",
       "continuous_update": false,
       "description": "Slice",
       "layout": "IPY_MODEL_bc2f79e2414948ba8866ed7cd2e741e1",
       "max": 39,
       "style": "IPY_MODEL_931b8bf4aeae4b2883874e7e37fd9e7b",
       "value": 20
      }
     },
     "d75c608402fa479cbf6853ba9aef340a": {
      "model_module": "@jupyter-widgets/base",
      "model_module_version": "2.0.0",
      "model_name": "LayoutModel",
      "state": {}
     },
     "dbdf1e42ba2f4d8f8bebb949eba0f570": {
      "model_module": "@jupyter-widgets/base",
      "model_module_version": "2.0.0",
      "model_name": "LayoutModel",
      "state": {}
     },
     "df81b1bcd0d547ea878064dbe957c9d6": {
      "model_module": "@jupyter-widgets/controls",
      "model_module_version": "2.0.0",
      "model_name": "VBoxModel",
      "state": {
       "children": [
        "IPY_MODEL_e5f567a7705d4929a452ab76bd7a99a5"
       ],
       "layout": "IPY_MODEL_8d9c574ee19c4b89bccaf65b4482a480"
      }
     },
     "e3f50cc536ce47a18b8781e6c3c9a1ac": {
      "model_module": "@jupyter-widgets/base",
      "model_module_version": "2.0.0",
      "model_name": "LayoutModel",
      "state": {}
     },
     "e5f567a7705d4929a452ab76bd7a99a5": {
      "model_module": "ipycanvas",
      "model_module_version": "^0.13",
      "model_name": "CanvasModel",
      "state": {
       "_canvas_manager": "IPY_MODEL_ad26e5ad73734f1db03fb334161f54de",
       "_model_module_version": "^0.13",
       "_view_module_version": "^0.13",
       "height": 40,
       "layout": "IPY_MODEL_43272c31c30d4556b74de1bb1d0eeb91",
       "width": 80
      }
     },
     "eb903a2e789846c39b2e0ee540579a58": {
      "model_module": "@jupyter-widgets/base",
      "model_module_version": "2.0.0",
      "model_name": "LayoutModel",
      "state": {}
     },
     "ebfe09f2565346fa902afc7acfe365fe": {
      "model_module": "@jupyter-widgets/base",
      "model_module_version": "2.0.0",
      "model_name": "LayoutModel",
      "state": {}
     },
     "ed3863356f1649b79e18209855e3b3d6": {
      "model_module": "@jupyter-widgets/base",
      "model_module_version": "2.0.0",
      "model_name": "LayoutModel",
      "state": {}
     },
     "f06347d24d1a44298543e35a608acabe": {
      "model_module": "@jupyter-widgets/controls",
      "model_module_version": "2.0.0",
      "model_name": "IntSliderModel",
      "state": {
       "behavior": "drag-tap",
       "continuous_update": false,
       "description": "Curtain",
       "layout": "IPY_MODEL_c36a94acda04431d91a700580e9778c7",
       "max": 80,
       "style": "IPY_MODEL_f6b399a3fc814ed080c33f0e4da2f67b",
       "value": 40
      }
     },
     "f6b399a3fc814ed080c33f0e4da2f67b": {
      "model_module": "@jupyter-widgets/controls",
      "model_module_version": "2.0.0",
      "model_name": "SliderStyleModel",
      "state": {
       "description_width": ""
      }
     },
     "f758c99add7b4968989c7e769a900293": {
      "model_module": "@jupyter-widgets/base",
      "model_module_version": "2.0.0",
      "model_name": "LayoutModel",
      "state": {}
     },
     "f8d57ee6374443acb6176130b859f8f4": {
      "model_module": "@jupyter-widgets/base",
      "model_module_version": "2.0.0",
      "model_name": "LayoutModel",
      "state": {}
     },
     "f92b2d475a954f479463ca223244316f": {
      "model_module": "@jupyter-widgets/base",
      "model_module_version": "2.0.0",
      "model_name": "LayoutModel",
      "state": {
       "display": "none"
      }
     }
    },
    "version_major": 2,
    "version_minor": 0
   }
  }
 },
 "nbformat": 4,
 "nbformat_minor": 5
}
